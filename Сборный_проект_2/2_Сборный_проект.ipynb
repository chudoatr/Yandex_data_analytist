{
 "cells": [
  {
   "cell_type": "markdown",
   "metadata": {},
   "source": [
    "\n",
    "<div class=\"alert alert-block alert-info\">\n",
    "\n",
    "# Анализ поведения пользователей в приложении по продаже продуктов питания"
   ]
  },
  {
   "cell_type": "markdown",
   "metadata": {},
   "source": [
    "\n",
    "<div class=\"alert alert-block alert-info\">\n",
    "\n",
    "**Цель исследования:**\n",
    "\n",
    "Разобраться, как ведут себя пользователи мобильного приложения.\n",
    "\n",
    "**План исследования:**\n",
    "\n",
    " - загрузка и изучение данных датасета;\n",
    " \n",
    " - предобработка исходных данных;\n",
    " \n",
    " - изучение воронки событий;\n",
    " \n",
    " - проведение  А/А/В - теста;\n",
    " \n",
    " - анализ  А/А/В - теста.\n",
    " \n",
    " - подвести итоги исследования.\n",
    " \n",
    "**Описание датасета:**\n",
    "\n",
    " - Каждая запись в логе — это действие пользователя, или событие.\n",
    "\n",
    " - EventName — название события;\n",
    "\n",
    " - DeviceIDHash — уникальный идентификатор пользователя;\n",
    "\n",
    " - EventTimestamp — время события;\n",
    "\n",
    " - ExpId — номер эксперимента: 246 и 247 — контрольные группы, а 248 — экспериментальная.\n",
    " \n",
    " \n",
    " \n",
    " \n",
    "\n"
   ]
  },
  {
   "cell_type": "markdown",
   "metadata": {},
   "source": [
    "## Шаг 1. Изучение файла с данными."
   ]
  },
  {
   "cell_type": "code",
   "execution_count": 1,
   "metadata": {},
   "outputs": [],
   "source": [
    "import pandas as pd\n",
    "import datetime as dt\n",
    "from datetime import datetime, timedelta\n",
    "from scipy import stats as st\n",
    "import numpy as np\n",
    "import matplotlib.pyplot as plt\n",
    "import scipy.stats as stats\n",
    "import math as mth\n",
    "import warnings\n",
    "warnings.simplefilter('ignore')"
   ]
  },
  {
   "cell_type": "code",
   "execution_count": 2,
   "metadata": {},
   "outputs": [],
   "source": [
    "data = pd.read_csv('/datasets/logs_exp.csv', sep = '\\t')"
   ]
  },
  {
   "cell_type": "code",
   "execution_count": 3,
   "metadata": {},
   "outputs": [
    {
     "data": {
      "text/html": [
       "<div>\n",
       "<style scoped>\n",
       "    .dataframe tbody tr th:only-of-type {\n",
       "        vertical-align: middle;\n",
       "    }\n",
       "\n",
       "    .dataframe tbody tr th {\n",
       "        vertical-align: top;\n",
       "    }\n",
       "\n",
       "    .dataframe thead th {\n",
       "        text-align: right;\n",
       "    }\n",
       "</style>\n",
       "<table border=\"1\" class=\"dataframe\">\n",
       "  <thead>\n",
       "    <tr style=\"text-align: right;\">\n",
       "      <th></th>\n",
       "      <th>EventName</th>\n",
       "      <th>DeviceIDHash</th>\n",
       "      <th>EventTimestamp</th>\n",
       "      <th>ExpId</th>\n",
       "    </tr>\n",
       "  </thead>\n",
       "  <tbody>\n",
       "    <tr>\n",
       "      <th>0</th>\n",
       "      <td>MainScreenAppear</td>\n",
       "      <td>4575588528974610257</td>\n",
       "      <td>1564029816</td>\n",
       "      <td>246</td>\n",
       "    </tr>\n",
       "    <tr>\n",
       "      <th>1</th>\n",
       "      <td>MainScreenAppear</td>\n",
       "      <td>7416695313311560658</td>\n",
       "      <td>1564053102</td>\n",
       "      <td>246</td>\n",
       "    </tr>\n",
       "    <tr>\n",
       "      <th>2</th>\n",
       "      <td>PaymentScreenSuccessful</td>\n",
       "      <td>3518123091307005509</td>\n",
       "      <td>1564054127</td>\n",
       "      <td>248</td>\n",
       "    </tr>\n",
       "    <tr>\n",
       "      <th>3</th>\n",
       "      <td>CartScreenAppear</td>\n",
       "      <td>3518123091307005509</td>\n",
       "      <td>1564054127</td>\n",
       "      <td>248</td>\n",
       "    </tr>\n",
       "    <tr>\n",
       "      <th>4</th>\n",
       "      <td>PaymentScreenSuccessful</td>\n",
       "      <td>6217807653094995999</td>\n",
       "      <td>1564055322</td>\n",
       "      <td>248</td>\n",
       "    </tr>\n",
       "    <tr>\n",
       "      <th>...</th>\n",
       "      <td>...</td>\n",
       "      <td>...</td>\n",
       "      <td>...</td>\n",
       "      <td>...</td>\n",
       "    </tr>\n",
       "    <tr>\n",
       "      <th>244121</th>\n",
       "      <td>MainScreenAppear</td>\n",
       "      <td>4599628364049201812</td>\n",
       "      <td>1565212345</td>\n",
       "      <td>247</td>\n",
       "    </tr>\n",
       "    <tr>\n",
       "      <th>244122</th>\n",
       "      <td>MainScreenAppear</td>\n",
       "      <td>5849806612437486590</td>\n",
       "      <td>1565212439</td>\n",
       "      <td>246</td>\n",
       "    </tr>\n",
       "    <tr>\n",
       "      <th>244123</th>\n",
       "      <td>MainScreenAppear</td>\n",
       "      <td>5746969938801999050</td>\n",
       "      <td>1565212483</td>\n",
       "      <td>246</td>\n",
       "    </tr>\n",
       "    <tr>\n",
       "      <th>244124</th>\n",
       "      <td>MainScreenAppear</td>\n",
       "      <td>5746969938801999050</td>\n",
       "      <td>1565212498</td>\n",
       "      <td>246</td>\n",
       "    </tr>\n",
       "    <tr>\n",
       "      <th>244125</th>\n",
       "      <td>OffersScreenAppear</td>\n",
       "      <td>5746969938801999050</td>\n",
       "      <td>1565212517</td>\n",
       "      <td>246</td>\n",
       "    </tr>\n",
       "  </tbody>\n",
       "</table>\n",
       "<p>244126 rows × 4 columns</p>\n",
       "</div>"
      ],
      "text/plain": [
       "                      EventName         DeviceIDHash  EventTimestamp  ExpId\n",
       "0              MainScreenAppear  4575588528974610257      1564029816    246\n",
       "1              MainScreenAppear  7416695313311560658      1564053102    246\n",
       "2       PaymentScreenSuccessful  3518123091307005509      1564054127    248\n",
       "3              CartScreenAppear  3518123091307005509      1564054127    248\n",
       "4       PaymentScreenSuccessful  6217807653094995999      1564055322    248\n",
       "...                         ...                  ...             ...    ...\n",
       "244121         MainScreenAppear  4599628364049201812      1565212345    247\n",
       "244122         MainScreenAppear  5849806612437486590      1565212439    246\n",
       "244123         MainScreenAppear  5746969938801999050      1565212483    246\n",
       "244124         MainScreenAppear  5746969938801999050      1565212498    246\n",
       "244125       OffersScreenAppear  5746969938801999050      1565212517    246\n",
       "\n",
       "[244126 rows x 4 columns]"
      ]
     },
     "execution_count": 3,
     "metadata": {},
     "output_type": "execute_result"
    }
   ],
   "source": [
    "data"
   ]
  },
  {
   "cell_type": "markdown",
   "metadata": {},
   "source": [
    "\n",
    "<div class=\"alert alert-block alert-info\">\n",
    "\n",
    "**Вывод:**\n",
    "\n",
    "Датасет представлен файлом с логами пользователей мобильного приложения состоящего из 4 столбов и 244 126 строк."
   ]
  },
  {
   "cell_type": "markdown",
   "metadata": {},
   "source": [
    "# **Шаг 2.** Подготовка данных."
   ]
  },
  {
   "cell_type": "markdown",
   "metadata": {},
   "source": [
    "Переименуем название в соответствии с содержимым и приведем их к \"змеиному стилю\"."
   ]
  },
  {
   "cell_type": "code",
   "execution_count": 4,
   "metadata": {},
   "outputs": [
    {
     "data": {
      "text/html": [
       "<div>\n",
       "<style scoped>\n",
       "    .dataframe tbody tr th:only-of-type {\n",
       "        vertical-align: middle;\n",
       "    }\n",
       "\n",
       "    .dataframe tbody tr th {\n",
       "        vertical-align: top;\n",
       "    }\n",
       "\n",
       "    .dataframe thead th {\n",
       "        text-align: right;\n",
       "    }\n",
       "</style>\n",
       "<table border=\"1\" class=\"dataframe\">\n",
       "  <thead>\n",
       "    <tr style=\"text-align: right;\">\n",
       "      <th></th>\n",
       "      <th>event_name</th>\n",
       "      <th>device_id</th>\n",
       "      <th>event_time</th>\n",
       "      <th>group</th>\n",
       "    </tr>\n",
       "  </thead>\n",
       "  <tbody>\n",
       "    <tr>\n",
       "      <th>0</th>\n",
       "      <td>MainScreenAppear</td>\n",
       "      <td>4575588528974610257</td>\n",
       "      <td>1564029816</td>\n",
       "      <td>246</td>\n",
       "    </tr>\n",
       "    <tr>\n",
       "      <th>1</th>\n",
       "      <td>MainScreenAppear</td>\n",
       "      <td>7416695313311560658</td>\n",
       "      <td>1564053102</td>\n",
       "      <td>246</td>\n",
       "    </tr>\n",
       "    <tr>\n",
       "      <th>2</th>\n",
       "      <td>PaymentScreenSuccessful</td>\n",
       "      <td>3518123091307005509</td>\n",
       "      <td>1564054127</td>\n",
       "      <td>248</td>\n",
       "    </tr>\n",
       "    <tr>\n",
       "      <th>3</th>\n",
       "      <td>CartScreenAppear</td>\n",
       "      <td>3518123091307005509</td>\n",
       "      <td>1564054127</td>\n",
       "      <td>248</td>\n",
       "    </tr>\n",
       "    <tr>\n",
       "      <th>4</th>\n",
       "      <td>PaymentScreenSuccessful</td>\n",
       "      <td>6217807653094995999</td>\n",
       "      <td>1564055322</td>\n",
       "      <td>248</td>\n",
       "    </tr>\n",
       "    <tr>\n",
       "      <th>...</th>\n",
       "      <td>...</td>\n",
       "      <td>...</td>\n",
       "      <td>...</td>\n",
       "      <td>...</td>\n",
       "    </tr>\n",
       "    <tr>\n",
       "      <th>244121</th>\n",
       "      <td>MainScreenAppear</td>\n",
       "      <td>4599628364049201812</td>\n",
       "      <td>1565212345</td>\n",
       "      <td>247</td>\n",
       "    </tr>\n",
       "    <tr>\n",
       "      <th>244122</th>\n",
       "      <td>MainScreenAppear</td>\n",
       "      <td>5849806612437486590</td>\n",
       "      <td>1565212439</td>\n",
       "      <td>246</td>\n",
       "    </tr>\n",
       "    <tr>\n",
       "      <th>244123</th>\n",
       "      <td>MainScreenAppear</td>\n",
       "      <td>5746969938801999050</td>\n",
       "      <td>1565212483</td>\n",
       "      <td>246</td>\n",
       "    </tr>\n",
       "    <tr>\n",
       "      <th>244124</th>\n",
       "      <td>MainScreenAppear</td>\n",
       "      <td>5746969938801999050</td>\n",
       "      <td>1565212498</td>\n",
       "      <td>246</td>\n",
       "    </tr>\n",
       "    <tr>\n",
       "      <th>244125</th>\n",
       "      <td>OffersScreenAppear</td>\n",
       "      <td>5746969938801999050</td>\n",
       "      <td>1565212517</td>\n",
       "      <td>246</td>\n",
       "    </tr>\n",
       "  </tbody>\n",
       "</table>\n",
       "<p>244126 rows × 4 columns</p>\n",
       "</div>"
      ],
      "text/plain": [
       "                     event_name            device_id  event_time  group\n",
       "0              MainScreenAppear  4575588528974610257  1564029816    246\n",
       "1              MainScreenAppear  7416695313311560658  1564053102    246\n",
       "2       PaymentScreenSuccessful  3518123091307005509  1564054127    248\n",
       "3              CartScreenAppear  3518123091307005509  1564054127    248\n",
       "4       PaymentScreenSuccessful  6217807653094995999  1564055322    248\n",
       "...                         ...                  ...         ...    ...\n",
       "244121         MainScreenAppear  4599628364049201812  1565212345    247\n",
       "244122         MainScreenAppear  5849806612437486590  1565212439    246\n",
       "244123         MainScreenAppear  5746969938801999050  1565212483    246\n",
       "244124         MainScreenAppear  5746969938801999050  1565212498    246\n",
       "244125       OffersScreenAppear  5746969938801999050  1565212517    246\n",
       "\n",
       "[244126 rows x 4 columns]"
      ]
     },
     "execution_count": 4,
     "metadata": {},
     "output_type": "execute_result"
    }
   ],
   "source": [
    "data = data.rename (columns = {'EventName':'event_name', 'DeviceIDHash':'device_id', 'EventTimestamp' : 'event_time', 'ExpId':'group'})\n",
    "data"
   ]
  },
  {
   "cell_type": "markdown",
   "metadata": {},
   "source": [
    "Заменим номера экспериментов на более подходящие.  \n",
    "\n",
    " Контрольные группы 246 и 247 переименуем в А0 и А1 соответственно,\n",
    " экспериментальной группе 248 присвоим В."
   ]
  },
  {
   "cell_type": "code",
   "execution_count": 5,
   "metadata": {},
   "outputs": [],
   "source": [
    "data = data.replace(246, 'A0').replace (247, 'A1').replace (248, 'B')"
   ]
  },
  {
   "cell_type": "code",
   "execution_count": 6,
   "metadata": {
    "scrolled": true
   },
   "outputs": [
    {
     "name": "stdout",
     "output_type": "stream",
     "text": [
      "<class 'pandas.core.frame.DataFrame'>\n",
      "RangeIndex: 244126 entries, 0 to 244125\n",
      "Data columns (total 4 columns):\n",
      " #   Column      Non-Null Count   Dtype \n",
      "---  ------      --------------   ----- \n",
      " 0   event_name  244126 non-null  object\n",
      " 1   device_id   244126 non-null  int64 \n",
      " 2   event_time  244126 non-null  int64 \n",
      " 3   group       244126 non-null  object\n",
      "dtypes: int64(2), object(2)\n",
      "memory usage: 7.5+ MB\n"
     ]
    }
   ],
   "source": [
    "data.info()"
   ]
  },
  {
   "cell_type": "markdown",
   "metadata": {},
   "source": [
    "Согласно выведенной информации столбец event_time имеет числовой тип. Изменим его на тип: datetime и добавим дополнительный столбец с датой event_date."
   ]
  },
  {
   "cell_type": "code",
   "execution_count": 7,
   "metadata": {},
   "outputs": [],
   "source": [
    "data.event_time = pd.to_datetime(data.event_time, unit='s')"
   ]
  },
  {
   "cell_type": "code",
   "execution_count": 8,
   "metadata": {},
   "outputs": [],
   "source": [
    "#data['event_date'] = data.event_time.dt.date\n",
    "data['event_date'] = data['event_time'].dt.date"
   ]
  },
  {
   "cell_type": "code",
   "execution_count": 9,
   "metadata": {},
   "outputs": [
    {
     "data": {
      "text/html": [
       "<div>\n",
       "<style scoped>\n",
       "    .dataframe tbody tr th:only-of-type {\n",
       "        vertical-align: middle;\n",
       "    }\n",
       "\n",
       "    .dataframe tbody tr th {\n",
       "        vertical-align: top;\n",
       "    }\n",
       "\n",
       "    .dataframe thead th {\n",
       "        text-align: right;\n",
       "    }\n",
       "</style>\n",
       "<table border=\"1\" class=\"dataframe\">\n",
       "  <thead>\n",
       "    <tr style=\"text-align: right;\">\n",
       "      <th></th>\n",
       "      <th>event_name</th>\n",
       "      <th>device_id</th>\n",
       "      <th>event_time</th>\n",
       "      <th>group</th>\n",
       "      <th>event_date</th>\n",
       "    </tr>\n",
       "  </thead>\n",
       "  <tbody>\n",
       "    <tr>\n",
       "      <th>0</th>\n",
       "      <td>MainScreenAppear</td>\n",
       "      <td>4575588528974610257</td>\n",
       "      <td>2019-07-25 04:43:36</td>\n",
       "      <td>A0</td>\n",
       "      <td>2019-07-25</td>\n",
       "    </tr>\n",
       "    <tr>\n",
       "      <th>1</th>\n",
       "      <td>MainScreenAppear</td>\n",
       "      <td>7416695313311560658</td>\n",
       "      <td>2019-07-25 11:11:42</td>\n",
       "      <td>A0</td>\n",
       "      <td>2019-07-25</td>\n",
       "    </tr>\n",
       "    <tr>\n",
       "      <th>2</th>\n",
       "      <td>PaymentScreenSuccessful</td>\n",
       "      <td>3518123091307005509</td>\n",
       "      <td>2019-07-25 11:28:47</td>\n",
       "      <td>B</td>\n",
       "      <td>2019-07-25</td>\n",
       "    </tr>\n",
       "    <tr>\n",
       "      <th>3</th>\n",
       "      <td>CartScreenAppear</td>\n",
       "      <td>3518123091307005509</td>\n",
       "      <td>2019-07-25 11:28:47</td>\n",
       "      <td>B</td>\n",
       "      <td>2019-07-25</td>\n",
       "    </tr>\n",
       "    <tr>\n",
       "      <th>4</th>\n",
       "      <td>PaymentScreenSuccessful</td>\n",
       "      <td>6217807653094995999</td>\n",
       "      <td>2019-07-25 11:48:42</td>\n",
       "      <td>B</td>\n",
       "      <td>2019-07-25</td>\n",
       "    </tr>\n",
       "    <tr>\n",
       "      <th>...</th>\n",
       "      <td>...</td>\n",
       "      <td>...</td>\n",
       "      <td>...</td>\n",
       "      <td>...</td>\n",
       "      <td>...</td>\n",
       "    </tr>\n",
       "    <tr>\n",
       "      <th>244121</th>\n",
       "      <td>MainScreenAppear</td>\n",
       "      <td>4599628364049201812</td>\n",
       "      <td>2019-08-07 21:12:25</td>\n",
       "      <td>A1</td>\n",
       "      <td>2019-08-07</td>\n",
       "    </tr>\n",
       "    <tr>\n",
       "      <th>244122</th>\n",
       "      <td>MainScreenAppear</td>\n",
       "      <td>5849806612437486590</td>\n",
       "      <td>2019-08-07 21:13:59</td>\n",
       "      <td>A0</td>\n",
       "      <td>2019-08-07</td>\n",
       "    </tr>\n",
       "    <tr>\n",
       "      <th>244123</th>\n",
       "      <td>MainScreenAppear</td>\n",
       "      <td>5746969938801999050</td>\n",
       "      <td>2019-08-07 21:14:43</td>\n",
       "      <td>A0</td>\n",
       "      <td>2019-08-07</td>\n",
       "    </tr>\n",
       "    <tr>\n",
       "      <th>244124</th>\n",
       "      <td>MainScreenAppear</td>\n",
       "      <td>5746969938801999050</td>\n",
       "      <td>2019-08-07 21:14:58</td>\n",
       "      <td>A0</td>\n",
       "      <td>2019-08-07</td>\n",
       "    </tr>\n",
       "    <tr>\n",
       "      <th>244125</th>\n",
       "      <td>OffersScreenAppear</td>\n",
       "      <td>5746969938801999050</td>\n",
       "      <td>2019-08-07 21:15:17</td>\n",
       "      <td>A0</td>\n",
       "      <td>2019-08-07</td>\n",
       "    </tr>\n",
       "  </tbody>\n",
       "</table>\n",
       "<p>244126 rows × 5 columns</p>\n",
       "</div>"
      ],
      "text/plain": [
       "                     event_name            device_id          event_time  \\\n",
       "0              MainScreenAppear  4575588528974610257 2019-07-25 04:43:36   \n",
       "1              MainScreenAppear  7416695313311560658 2019-07-25 11:11:42   \n",
       "2       PaymentScreenSuccessful  3518123091307005509 2019-07-25 11:28:47   \n",
       "3              CartScreenAppear  3518123091307005509 2019-07-25 11:28:47   \n",
       "4       PaymentScreenSuccessful  6217807653094995999 2019-07-25 11:48:42   \n",
       "...                         ...                  ...                 ...   \n",
       "244121         MainScreenAppear  4599628364049201812 2019-08-07 21:12:25   \n",
       "244122         MainScreenAppear  5849806612437486590 2019-08-07 21:13:59   \n",
       "244123         MainScreenAppear  5746969938801999050 2019-08-07 21:14:43   \n",
       "244124         MainScreenAppear  5746969938801999050 2019-08-07 21:14:58   \n",
       "244125       OffersScreenAppear  5746969938801999050 2019-08-07 21:15:17   \n",
       "\n",
       "       group  event_date  \n",
       "0         A0  2019-07-25  \n",
       "1         A0  2019-07-25  \n",
       "2          B  2019-07-25  \n",
       "3          B  2019-07-25  \n",
       "4          B  2019-07-25  \n",
       "...      ...         ...  \n",
       "244121    A1  2019-08-07  \n",
       "244122    A0  2019-08-07  \n",
       "244123    A0  2019-08-07  \n",
       "244124    A0  2019-08-07  \n",
       "244125    A0  2019-08-07  \n",
       "\n",
       "[244126 rows x 5 columns]"
      ]
     },
     "execution_count": 9,
     "metadata": {},
     "output_type": "execute_result"
    }
   ],
   "source": [
    "data"
   ]
  },
  {
   "cell_type": "markdown",
   "metadata": {},
   "source": [
    "Произведем проверку на наличие пропусков и явных дубликатов."
   ]
  },
  {
   "cell_type": "code",
   "execution_count": 10,
   "metadata": {
    "scrolled": true
   },
   "outputs": [
    {
     "data": {
      "text/plain": [
       "event_name    0\n",
       "device_id     0\n",
       "event_time    0\n",
       "group         0\n",
       "event_date    0\n",
       "dtype: int64"
      ]
     },
     "execution_count": 10,
     "metadata": {},
     "output_type": "execute_result"
    }
   ],
   "source": [
    "data.isna().sum()"
   ]
  },
  {
   "cell_type": "code",
   "execution_count": 11,
   "metadata": {
    "scrolled": true
   },
   "outputs": [
    {
     "data": {
      "text/plain": [
       "413"
      ]
     },
     "execution_count": 11,
     "metadata": {},
     "output_type": "execute_result"
    }
   ],
   "source": [
    "data.duplicated().sum()"
   ]
  },
  {
   "cell_type": "markdown",
   "metadata": {},
   "source": [
    "Количество дубликатов незначительно и составляет менее 1% от общего количества строк. Т.е. их удаление не отразится на результатах анализа. "
   ]
  },
  {
   "cell_type": "code",
   "execution_count": 12,
   "metadata": {},
   "outputs": [],
   "source": [
    "data = data.drop_duplicates().reset_index(drop=True)\n",
    "#data"
   ]
  },
  {
   "cell_type": "code",
   "execution_count": 13,
   "metadata": {},
   "outputs": [
    {
     "name": "stdout",
     "output_type": "stream",
     "text": [
      "<class 'pandas.core.frame.DataFrame'>\n",
      "RangeIndex: 243713 entries, 0 to 243712\n",
      "Data columns (total 5 columns):\n",
      " #   Column      Non-Null Count   Dtype         \n",
      "---  ------      --------------   -----         \n",
      " 0   event_name  243713 non-null  object        \n",
      " 1   device_id   243713 non-null  int64         \n",
      " 2   event_time  243713 non-null  datetime64[ns]\n",
      " 3   group       243713 non-null  object        \n",
      " 4   event_date  243713 non-null  object        \n",
      "dtypes: datetime64[ns](1), int64(1), object(3)\n",
      "memory usage: 9.3+ MB\n"
     ]
    }
   ],
   "source": [
    "data.info()"
   ]
  },
  {
   "cell_type": "code",
   "execution_count": 14,
   "metadata": {},
   "outputs": [
    {
     "name": "stdout",
     "output_type": "stream",
     "text": [
      "Количество одних и тех же пользователей в разных группах: 0\n"
     ]
    }
   ],
   "source": [
    "group_a = data.loc[(data['group'] == 'A0') | (data['group'] == 'A1'), 'device_id']\n",
    "group_b = data[data['group'] == 'B']['device_id']\n",
    "same_ab = data.query('device_id in @group_a and device_id in @group_b')\n",
    "same_ab_count = len(same_ab.groupby(['device_id']).agg({'device_id': 'nunique'}))\n",
    "print ('Количество одних и тех же пользователей в разных группах:', same_ab_count)"
   ]
  },
  {
   "cell_type": "markdown",
   "metadata": {},
   "source": [
    "<div class=\"alert alert-block alert-info\">\n",
    "\n",
    "**Вывод:**\n",
    "    \n",
    "По итогам подготовки данных были проделана следующая работа:\n",
    " - заменены наимования групп  -  контрольные группы 246 и 247 изменены на А0 и А1, экспериментальной группе 248 изменена на В.\n",
    " - столбцам с датой был присвоен соответствующий тип;\n",
    " - добавлен дополнительная колонка с датой;\n",
    " - проведена работа по поиску пропусков и явных дубликатов  в датасете - пропуски отсутсвуют, дубликаты удалены.\n",
    " - проврено количество одних и тех же пользователей в разных группах.\n"
   ]
  },
  {
   "cell_type": "markdown",
   "metadata": {},
   "source": [
    "# **Шаг 3.** Изучение и проверка данных."
   ]
  },
  {
   "cell_type": "markdown",
   "metadata": {},
   "source": [
    "## Количество пользователей в логе."
   ]
  },
  {
   "cell_type": "code",
   "execution_count": 15,
   "metadata": {},
   "outputs": [
    {
     "data": {
      "text/plain": [
       "243713"
      ]
     },
     "execution_count": 15,
     "metadata": {},
     "output_type": "execute_result"
    }
   ],
   "source": [
    "data['event_name'].count()"
   ]
  },
  {
   "cell_type": "code",
   "execution_count": 16,
   "metadata": {
    "scrolled": true
   },
   "outputs": [
    {
     "data": {
      "text/plain": [
       "MainScreenAppear           119101\n",
       "OffersScreenAppear          46808\n",
       "CartScreenAppear            42668\n",
       "PaymentScreenSuccessful     34118\n",
       "Tutorial                     1018\n",
       "Name: event_name, dtype: int64"
      ]
     },
     "execution_count": 16,
     "metadata": {},
     "output_type": "execute_result"
    }
   ],
   "source": [
    "data['event_name'].value_counts()\n",
    "#data['event_name'].unique()\n",
    "#event_count = (data.groupby(['event_name']).agg({'device_id': 'count'}))\n"
   ]
  },
  {
   "cell_type": "markdown",
   "metadata": {},
   "source": [
    "**Вывод:**\n",
    "\n",
    "Всего пользователей в логе - 243 713 чел. \n",
    "\n",
    "Мы имеем следующую воронку событий:\n",
    " - основной экран показан 119101 раз,\n",
    " - экран с предложением 46 808 раз,\n",
    " - на экран с предложенем заполнить данные для оплаты зашли - 42 668 раз,\n",
    " - успешно оплатили - 34 118 раза,\n",
    " - обучние прошли - 1 018 раза."
   ]
  },
  {
   "cell_type": "code",
   "execution_count": 17,
   "metadata": {},
   "outputs": [
    {
     "data": {
      "text/plain": [
       "B     85582\n",
       "A0    80181\n",
       "A1    77950\n",
       "Name: group, dtype: int64"
      ]
     },
     "execution_count": 17,
     "metadata": {},
     "output_type": "execute_result"
    }
   ],
   "source": [
    "data['group'].value_counts()"
   ]
  },
  {
   "cell_type": "markdown",
   "metadata": {},
   "source": [
    "**Вывод:**\n",
    "Первая контрольная группа состоит из 80 181 событий, вторая контрольная группа состоит из  77 950 событий, эксперементальная из 85 582 событий. "
   ]
  },
  {
   "cell_type": "code",
   "execution_count": 18,
   "metadata": {},
   "outputs": [],
   "source": [
    "#users_counts = (data.groupby(['group']).agg({'device_id': 'count'}))\n",
    "#users_counts\n",
    "#data['device_id'].isna().sum()"
   ]
  },
  {
   "cell_type": "markdown",
   "metadata": {},
   "source": [
    "## Количество событий в логе."
   ]
  },
  {
   "cell_type": "code",
   "execution_count": 19,
   "metadata": {},
   "outputs": [
    {
     "data": {
      "text/plain": [
       "7551"
      ]
     },
     "execution_count": 19,
     "metadata": {},
     "output_type": "execute_result"
    }
   ],
   "source": [
    "event_counts_sum = data['device_id'].nunique()\n",
    "event_counts_sum"
   ]
  },
  {
   "cell_type": "code",
   "execution_count": 20,
   "metadata": {
    "scrolled": true
   },
   "outputs": [
    {
     "data": {
      "text/html": [
       "<div>\n",
       "<style scoped>\n",
       "    .dataframe tbody tr th:only-of-type {\n",
       "        vertical-align: middle;\n",
       "    }\n",
       "\n",
       "    .dataframe tbody tr th {\n",
       "        vertical-align: top;\n",
       "    }\n",
       "\n",
       "    .dataframe thead th {\n",
       "        text-align: right;\n",
       "    }\n",
       "</style>\n",
       "<table border=\"1\" class=\"dataframe\">\n",
       "  <thead>\n",
       "    <tr style=\"text-align: right;\">\n",
       "      <th></th>\n",
       "      <th>device_id</th>\n",
       "    </tr>\n",
       "    <tr>\n",
       "      <th>event_name</th>\n",
       "      <th></th>\n",
       "    </tr>\n",
       "  </thead>\n",
       "  <tbody>\n",
       "    <tr>\n",
       "      <th>CartScreenAppear</th>\n",
       "      <td>3749</td>\n",
       "    </tr>\n",
       "    <tr>\n",
       "      <th>MainScreenAppear</th>\n",
       "      <td>7439</td>\n",
       "    </tr>\n",
       "    <tr>\n",
       "      <th>OffersScreenAppear</th>\n",
       "      <td>4613</td>\n",
       "    </tr>\n",
       "    <tr>\n",
       "      <th>PaymentScreenSuccessful</th>\n",
       "      <td>3547</td>\n",
       "    </tr>\n",
       "    <tr>\n",
       "      <th>Tutorial</th>\n",
       "      <td>847</td>\n",
       "    </tr>\n",
       "  </tbody>\n",
       "</table>\n",
       "</div>"
      ],
      "text/plain": [
       "                         device_id\n",
       "event_name                        \n",
       "CartScreenAppear              3749\n",
       "MainScreenAppear              7439\n",
       "OffersScreenAppear            4613\n",
       "PaymentScreenSuccessful       3547\n",
       "Tutorial                       847"
      ]
     },
     "execution_count": 20,
     "metadata": {},
     "output_type": "execute_result"
    }
   ],
   "source": [
    "\n",
    "event_counts = (data.groupby(['event_name']).agg({'device_id': 'nunique'}))\n",
    "event_counts"
   ]
  },
  {
   "cell_type": "markdown",
   "metadata": {},
   "source": [
    "## Количетво событий приходится на пользователя"
   ]
  },
  {
   "cell_type": "code",
   "execution_count": 21,
   "metadata": {},
   "outputs": [
    {
     "data": {
      "text/plain": [
       "event_name    32.28\n",
       "dtype: float64"
      ]
     },
     "execution_count": 21,
     "metadata": {},
     "output_type": "execute_result"
    }
   ],
   "source": [
    "user_mean = (data.groupby(['device_id']).agg({'event_name': 'count'}))\n",
    "user_mean.mean().round(2)\n"
   ]
  },
  {
   "cell_type": "markdown",
   "metadata": {},
   "source": [
    "**Вывод:**\n",
    "    \n",
    "В среднем на одного пользователя приходится 32,28 событий."
   ]
  },
  {
   "cell_type": "markdown",
   "metadata": {},
   "source": [
    "## Временной интервал теста"
   ]
  },
  {
   "cell_type": "code",
   "execution_count": 22,
   "metadata": {},
   "outputs": [
    {
     "name": "stdout",
     "output_type": "stream",
     "text": [
      "Дата начала теста -  2019-07-25\n"
     ]
    }
   ],
   "source": [
    "print ('Дата начала теста - ', data['event_date'].min()) "
   ]
  },
  {
   "cell_type": "code",
   "execution_count": 23,
   "metadata": {},
   "outputs": [
    {
     "name": "stdout",
     "output_type": "stream",
     "text": [
      "Дата конца теста - 2019-08-07\n"
     ]
    }
   ],
   "source": [
    "print ('Дата конца теста -', data['event_date'].max()) "
   ]
  },
  {
   "cell_type": "code",
   "execution_count": 24,
   "metadata": {},
   "outputs": [
    {
     "data": {
      "image/png": "[encoded data removed]",
      "text/plain": [
       "<Figure size 1080x720 with 1 Axes>"
      ]
     },
     "metadata": {
      "needs_background": "light"
     },
     "output_type": "display_data"
    }
   ],
   "source": [
    "#plt.hist(data['event_date'])\n",
    "data['event_date'].hist(figsize=(15, 10), bins = 39)\n",
    "plt.title('Распределение событий времени')\n",
    "plt.ylabel('Количество событий')\n",
    "plt.xlabel('Дата')\n",
    "plt.xticks(rotation=90)\n",
    "plt.show()"
   ]
  },
  {
   "cell_type": "code",
   "execution_count": 25,
   "metadata": {},
   "outputs": [
    {
     "data": {
      "image/png": "[encoded data removed]",
      "text/plain": [
       "<Figure size 1008x360 with 1 Axes>"
      ]
     },
     "metadata": {
      "needs_background": "light"
     },
     "output_type": "display_data"
    }
   ],
   "source": [
    "# код ревьюера\n",
    "data['event_time'].hist(bins=14*24, figsize=(14, 5));"
   ]
  },
  {
   "cell_type": "markdown",
   "metadata": {},
   "source": [
    "Из графика видно, что данные с 25.07.2019 по 31.07.2019 неполные. Их можно отбросить в следствие вероятного перекоса данных.\n",
    "Начиная с 01.08.2019 данные полные и отбросьте более старые."
   ]
  },
  {
   "cell_type": "code",
   "execution_count": 26,
   "metadata": {},
   "outputs": [
    {
     "data": {
      "text/html": [
       "<div>\n",
       "<style scoped>\n",
       "    .dataframe tbody tr th:only-of-type {\n",
       "        vertical-align: middle;\n",
       "    }\n",
       "\n",
       "    .dataframe tbody tr th {\n",
       "        vertical-align: top;\n",
       "    }\n",
       "\n",
       "    .dataframe thead th {\n",
       "        text-align: right;\n",
       "    }\n",
       "</style>\n",
       "<table border=\"1\" class=\"dataframe\">\n",
       "  <thead>\n",
       "    <tr style=\"text-align: right;\">\n",
       "      <th></th>\n",
       "      <th>event_name</th>\n",
       "      <th>device_id</th>\n",
       "      <th>event_time</th>\n",
       "      <th>group</th>\n",
       "      <th>event_date</th>\n",
       "    </tr>\n",
       "  </thead>\n",
       "  <tbody>\n",
       "    <tr>\n",
       "      <th>2826</th>\n",
       "      <td>Tutorial</td>\n",
       "      <td>3737462046622621720</td>\n",
       "      <td>2019-08-01 00:07:28</td>\n",
       "      <td>A0</td>\n",
       "      <td>2019-08-01</td>\n",
       "    </tr>\n",
       "    <tr>\n",
       "      <th>2827</th>\n",
       "      <td>MainScreenAppear</td>\n",
       "      <td>3737462046622621720</td>\n",
       "      <td>2019-08-01 00:08:00</td>\n",
       "      <td>A0</td>\n",
       "      <td>2019-08-01</td>\n",
       "    </tr>\n",
       "    <tr>\n",
       "      <th>2828</th>\n",
       "      <td>MainScreenAppear</td>\n",
       "      <td>3737462046622621720</td>\n",
       "      <td>2019-08-01 00:08:55</td>\n",
       "      <td>A0</td>\n",
       "      <td>2019-08-01</td>\n",
       "    </tr>\n",
       "    <tr>\n",
       "      <th>2829</th>\n",
       "      <td>OffersScreenAppear</td>\n",
       "      <td>3737462046622621720</td>\n",
       "      <td>2019-08-01 00:08:58</td>\n",
       "      <td>A0</td>\n",
       "      <td>2019-08-01</td>\n",
       "    </tr>\n",
       "    <tr>\n",
       "      <th>2830</th>\n",
       "      <td>MainScreenAppear</td>\n",
       "      <td>1433840883824088890</td>\n",
       "      <td>2019-08-01 00:08:59</td>\n",
       "      <td>A1</td>\n",
       "      <td>2019-08-01</td>\n",
       "    </tr>\n",
       "    <tr>\n",
       "      <th>...</th>\n",
       "      <td>...</td>\n",
       "      <td>...</td>\n",
       "      <td>...</td>\n",
       "      <td>...</td>\n",
       "      <td>...</td>\n",
       "    </tr>\n",
       "    <tr>\n",
       "      <th>243708</th>\n",
       "      <td>MainScreenAppear</td>\n",
       "      <td>4599628364049201812</td>\n",
       "      <td>2019-08-07 21:12:25</td>\n",
       "      <td>A1</td>\n",
       "      <td>2019-08-07</td>\n",
       "    </tr>\n",
       "    <tr>\n",
       "      <th>243709</th>\n",
       "      <td>MainScreenAppear</td>\n",
       "      <td>5849806612437486590</td>\n",
       "      <td>2019-08-07 21:13:59</td>\n",
       "      <td>A0</td>\n",
       "      <td>2019-08-07</td>\n",
       "    </tr>\n",
       "    <tr>\n",
       "      <th>243710</th>\n",
       "      <td>MainScreenAppear</td>\n",
       "      <td>5746969938801999050</td>\n",
       "      <td>2019-08-07 21:14:43</td>\n",
       "      <td>A0</td>\n",
       "      <td>2019-08-07</td>\n",
       "    </tr>\n",
       "    <tr>\n",
       "      <th>243711</th>\n",
       "      <td>MainScreenAppear</td>\n",
       "      <td>5746969938801999050</td>\n",
       "      <td>2019-08-07 21:14:58</td>\n",
       "      <td>A0</td>\n",
       "      <td>2019-08-07</td>\n",
       "    </tr>\n",
       "    <tr>\n",
       "      <th>243712</th>\n",
       "      <td>OffersScreenAppear</td>\n",
       "      <td>5746969938801999050</td>\n",
       "      <td>2019-08-07 21:15:17</td>\n",
       "      <td>A0</td>\n",
       "      <td>2019-08-07</td>\n",
       "    </tr>\n",
       "  </tbody>\n",
       "</table>\n",
       "<p>240887 rows × 5 columns</p>\n",
       "</div>"
      ],
      "text/plain": [
       "                event_name            device_id          event_time group  \\\n",
       "2826              Tutorial  3737462046622621720 2019-08-01 00:07:28    A0   \n",
       "2827      MainScreenAppear  3737462046622621720 2019-08-01 00:08:00    A0   \n",
       "2828      MainScreenAppear  3737462046622621720 2019-08-01 00:08:55    A0   \n",
       "2829    OffersScreenAppear  3737462046622621720 2019-08-01 00:08:58    A0   \n",
       "2830      MainScreenAppear  1433840883824088890 2019-08-01 00:08:59    A1   \n",
       "...                    ...                  ...                 ...   ...   \n",
       "243708    MainScreenAppear  4599628364049201812 2019-08-07 21:12:25    A1   \n",
       "243709    MainScreenAppear  5849806612437486590 2019-08-07 21:13:59    A0   \n",
       "243710    MainScreenAppear  5746969938801999050 2019-08-07 21:14:43    A0   \n",
       "243711    MainScreenAppear  5746969938801999050 2019-08-07 21:14:58    A0   \n",
       "243712  OffersScreenAppear  5746969938801999050 2019-08-07 21:15:17    A0   \n",
       "\n",
       "        event_date  \n",
       "2826    2019-08-01  \n",
       "2827    2019-08-01  \n",
       "2828    2019-08-01  \n",
       "2829    2019-08-01  \n",
       "2830    2019-08-01  \n",
       "...            ...  \n",
       "243708  2019-08-07  \n",
       "243709  2019-08-07  \n",
       "243710  2019-08-07  \n",
       "243711  2019-08-07  \n",
       "243712  2019-08-07  \n",
       "\n",
       "[240887 rows x 5 columns]"
      ]
     },
     "execution_count": 26,
     "metadata": {},
     "output_type": "execute_result"
    }
   ],
   "source": [
    "data_old = data\n",
    "data = data.query('event_time >= \"2019-08-01\"')\n",
    "data"
   ]
  },
  {
   "cell_type": "code",
   "execution_count": 27,
   "metadata": {},
   "outputs": [
    {
     "data": {
      "image/png": "[encoded data removed]",
      "text/plain": [
       "<Figure size 1080x720 with 1 Axes>"
      ]
     },
     "metadata": {
      "needs_background": "light"
     },
     "output_type": "display_data"
    }
   ],
   "source": [
    "data['event_date'].hist(figsize=(15, 10), bins = 39)\n",
    "plt.title('Распределение событий времени')\n",
    "plt.ylabel('Количество событий')\n",
    "plt.xlabel('Дата')\n",
    "plt.xticks(rotation=90)\n",
    "plt.show()"
   ]
  },
  {
   "cell_type": "markdown",
   "metadata": {},
   "source": [
    "После исключения неполных данных мы располагаем полными данынми за период с 01.08.2019 по 07.08.2019."
   ]
  },
  {
   "cell_type": "code",
   "execution_count": 28,
   "metadata": {},
   "outputs": [
    {
     "data": {
      "text/plain": [
       "240887"
      ]
     },
     "execution_count": 28,
     "metadata": {},
     "output_type": "execute_result"
    }
   ],
   "source": [
    "data['event_name'].count()"
   ]
  },
  {
   "cell_type": "markdown",
   "metadata": {},
   "source": [
    "Количество событий до исключения (после удаления дубликатов) - 243 713 \n",
    "\n",
    "По итогам иключения неполных данных, событий осталось -  240 887\n",
    " \n",
    "Cобытий исключено  -  2826"
   ]
  },
  {
   "cell_type": "code",
   "execution_count": 29,
   "metadata": {},
   "outputs": [
    {
     "name": "stdout",
     "output_type": "stream",
     "text": [
      "Количество потеряных пользователей составило: 17 человек или 0.23 %\n",
      "Количество потеряных пользователей составило: 2826 событий или 1.17 %\n"
     ]
    }
   ],
   "source": [
    "lost_users = data_old['device_id'].nunique()-data['device_id'].nunique()\n",
    "lost_users_percent = round(lost_users/data['device_id'].nunique()*100, 2)\n",
    "print ('Количество потеряных пользователей составило:',lost_users, 'человек или', lost_users_percent, '%') \n",
    "\n",
    "lost_events = data_old['event_name'].count()-(data['event_name'].count())\n",
    "lost_events_percent = round(lost_events/data['event_name'].count()*100, 2)\n",
    "print ('Количество потеряных пользователей составило:',lost_events, 'событий или', lost_events_percent, '%') \n"
   ]
  },
  {
   "cell_type": "markdown",
   "metadata": {},
   "source": [
    "## Распределение пользователей по эксперементальным группам:"
   ]
  },
  {
   "cell_type": "code",
   "execution_count": 30,
   "metadata": {
    "scrolled": true
   },
   "outputs": [
    {
     "data": {
      "text/html": [
       "<div>\n",
       "<style scoped>\n",
       "    .dataframe tbody tr th:only-of-type {\n",
       "        vertical-align: middle;\n",
       "    }\n",
       "\n",
       "    .dataframe tbody tr th {\n",
       "        vertical-align: top;\n",
       "    }\n",
       "\n",
       "    .dataframe thead th {\n",
       "        text-align: right;\n",
       "    }\n",
       "</style>\n",
       "<table border=\"1\" class=\"dataframe\">\n",
       "  <thead>\n",
       "    <tr style=\"text-align: right;\">\n",
       "      <th></th>\n",
       "      <th>device_id</th>\n",
       "    </tr>\n",
       "    <tr>\n",
       "      <th>group</th>\n",
       "      <th></th>\n",
       "    </tr>\n",
       "  </thead>\n",
       "  <tbody>\n",
       "    <tr>\n",
       "      <th>A0</th>\n",
       "      <td>2484</td>\n",
       "    </tr>\n",
       "    <tr>\n",
       "      <th>A1</th>\n",
       "      <td>2513</td>\n",
       "    </tr>\n",
       "    <tr>\n",
       "      <th>B</th>\n",
       "      <td>2537</td>\n",
       "    </tr>\n",
       "  </tbody>\n",
       "</table>\n",
       "</div>"
      ],
      "text/plain": [
       "       device_id\n",
       "group           \n",
       "A0          2484\n",
       "A1          2513\n",
       "B           2537"
      ]
     },
     "execution_count": 30,
     "metadata": {},
     "output_type": "execute_result"
    }
   ],
   "source": [
    "unique_user_count = (data.groupby(['group']).agg({'device_id': 'nunique'}))\n",
    "unique_user_count\n",
    "#unique_user_count.sum()"
   ]
  },
  {
   "cell_type": "markdown",
   "metadata": {},
   "source": [
    "**Вывод:**\n",
    "\n",
    "Уникальные пользователи распределены слудующим образом по группам:\n",
    "\n",
    "A0 - 2489\n",
    "\n",
    "A1 - 2520\n",
    "\n",
    "B -\t2542\n",
    "\n",
    "Итого уникальных пользователей 7 751."
   ]
  },
  {
   "cell_type": "markdown",
   "metadata": {},
   "source": [
    "<div class=\"alert alert-block alert-info\">\n",
    "    \n",
    "**Вывод:**\n",
    "По итогам проделанной работы получена следующая информация:\n",
    "Всего пользователей в логе составляет -  243 713 чел.\n",
    "\n",
    "Имеем следующая воронка событий:\n",
    "\n",
    " - основной экран показан 119101 раз,\n",
    " - экран с предложением 46 808 раз,\n",
    " - на экран с предложенем заполнить данные для оплаты зашли - 42 668 раз,\n",
    " - успешно оплатили - 34 118 раза,\n",
    " - обучние прошли - 1 018 раза.   \n",
    "\n",
    " Первая контрольная группа состоит из 80 181 событий, вторая контрольная группа состоит из 77 950 событий, эксперементальная из 85 582 событий.\n",
    "    \n",
    "   Всего пользователей в логе 7551 пользователей. Они распределены следующим образом по событиям:\n",
    "   \n",
    " - основной экран показан  -\t3749 пользователей;\n",
    " - экран с предложением\t7439 ползователей;\n",
    " - на экран с предложенем заполнить данные для оплаты зашли\t4613 ползователей;\n",
    " - успешно оплатили\t3547 ползователей;\n",
    " - обучние прошли  - \t847 ползователей;\n",
    "    \n",
    "  Среднее количество событий на пользователя составило 32.\n",
    "    \n",
    "    \n",
    "    \n",
    "    С помощью графика получена информация, что данные имеются за период  с 2019-07-25 по 2019-08-07. При этом, данные за период с 25.07.2019 по 31.07.2019 неполные. Таким образом, временной отрезок для исследования был принят начиная c 01.08.2019 по 07.08.2019 года. Количество потеряных пользователей незначительно и составило 17 человек или 0.23 % ,\n",
    "количество потеряных событий составило: 2826 событий или 1.17 %.\n",
    "\n",
    "Пользователи есть во всех трёх экспериментальных группах."
   ]
  },
  {
   "cell_type": "markdown",
   "metadata": {},
   "source": [
    "# **Шаг 4.** Изучение воронки событий."
   ]
  },
  {
   "cell_type": "code",
   "execution_count": 31,
   "metadata": {},
   "outputs": [
    {
     "data": {
      "text/plain": [
       "MainScreenAppear           117328\n",
       "OffersScreenAppear          46333\n",
       "CartScreenAppear            42303\n",
       "PaymentScreenSuccessful     33918\n",
       "Tutorial                     1005\n",
       "Name: event_name, dtype: int64"
      ]
     },
     "execution_count": 31,
     "metadata": {},
     "output_type": "execute_result"
    }
   ],
   "source": [
    "#event_count = (data.groupby(['event_name']).agg({'device_id': 'count'}))\n",
    "data['event_name'].value_counts()"
   ]
  },
  {
   "cell_type": "markdown",
   "metadata": {},
   "source": [
    "Как отмечалось ранее, мы имеем следующие события:\n",
    "\n",
    " - основной экран показан,\n",
    " - экран с предложением,\n",
    " - на экран с предложенем заполнить данные для оплаты зашли,\n",
    " - успешно оплатили,\n",
    " - обучние прошли."
   ]
  },
  {
   "cell_type": "code",
   "execution_count": 32,
   "metadata": {},
   "outputs": [
    {
     "data": {
      "text/html": [
       "<div>\n",
       "<style scoped>\n",
       "    .dataframe tbody tr th:only-of-type {\n",
       "        vertical-align: middle;\n",
       "    }\n",
       "\n",
       "    .dataframe tbody tr th {\n",
       "        vertical-align: top;\n",
       "    }\n",
       "\n",
       "    .dataframe thead th {\n",
       "        text-align: right;\n",
       "    }\n",
       "</style>\n",
       "<table border=\"1\" class=\"dataframe\">\n",
       "  <thead>\n",
       "    <tr style=\"text-align: right;\">\n",
       "      <th></th>\n",
       "      <th>device_id</th>\n",
       "      <th>ratio</th>\n",
       "    </tr>\n",
       "    <tr>\n",
       "      <th>event_name</th>\n",
       "      <th></th>\n",
       "      <th></th>\n",
       "    </tr>\n",
       "  </thead>\n",
       "  <tbody>\n",
       "    <tr>\n",
       "      <th>MainScreenAppear</th>\n",
       "      <td>7419</td>\n",
       "      <td>98.473586</td>\n",
       "    </tr>\n",
       "    <tr>\n",
       "      <th>OffersScreenAppear</th>\n",
       "      <td>4593</td>\n",
       "      <td>60.963632</td>\n",
       "    </tr>\n",
       "    <tr>\n",
       "      <th>CartScreenAppear</th>\n",
       "      <td>3734</td>\n",
       "      <td>49.561986</td>\n",
       "    </tr>\n",
       "    <tr>\n",
       "      <th>PaymentScreenSuccessful</th>\n",
       "      <td>3539</td>\n",
       "      <td>46.973719</td>\n",
       "    </tr>\n",
       "    <tr>\n",
       "      <th>Tutorial</th>\n",
       "      <td>840</td>\n",
       "      <td>11.149456</td>\n",
       "    </tr>\n",
       "  </tbody>\n",
       "</table>\n",
       "</div>"
      ],
      "text/plain": [
       "                         device_id      ratio\n",
       "event_name                                   \n",
       "MainScreenAppear              7419  98.473586\n",
       "OffersScreenAppear            4593  60.963632\n",
       "CartScreenAppear              3734  49.561986\n",
       "PaymentScreenSuccessful       3539  46.973719\n",
       "Tutorial                       840  11.149456"
      ]
     },
     "execution_count": 32,
     "metadata": {},
     "output_type": "execute_result"
    }
   ],
   "source": [
    "event_one_count =   data.groupby('event_name').agg({'device_id': 'nunique'}).sort_values(by='device_id', ascending=False)\n",
    "event_one_count['ratio'] = (event_one_count['device_id'] / data['device_id'].nunique() * 100)\n",
    "event_one_count"
   ]
  },
  {
   "cell_type": "markdown",
   "metadata": {},
   "source": [
    "основной экран показан был показан 98,5% пользователей,\n",
    "экран с предложением перешли 70% пользователей,,\n",
    "до на экрана с предложенем успешно дошли 49,6% пользователей,,\n",
    "успешно оплатили 47%  пользователей,\n",
    "обучние прошли 11,4%."
   ]
  },
  {
   "cell_type": "code",
   "execution_count": 33,
   "metadata": {},
   "outputs": [
    {
     "data": {
      "text/html": [
       "<div>\n",
       "<style scoped>\n",
       "    .dataframe tbody tr th:only-of-type {\n",
       "        vertical-align: middle;\n",
       "    }\n",
       "\n",
       "    .dataframe tbody tr th {\n",
       "        vertical-align: top;\n",
       "    }\n",
       "\n",
       "    .dataframe thead th {\n",
       "        text-align: right;\n",
       "    }\n",
       "</style>\n",
       "<table border=\"1\" class=\"dataframe\">\n",
       "  <thead>\n",
       "    <tr style=\"text-align: right;\">\n",
       "      <th></th>\n",
       "      <th>device_id</th>\n",
       "      <th>ratio</th>\n",
       "    </tr>\n",
       "    <tr>\n",
       "      <th>event_name</th>\n",
       "      <th></th>\n",
       "      <th></th>\n",
       "    </tr>\n",
       "  </thead>\n",
       "  <tbody>\n",
       "    <tr>\n",
       "      <th>MainScreenAppear</th>\n",
       "      <td>7419</td>\n",
       "      <td>98.473586</td>\n",
       "    </tr>\n",
       "    <tr>\n",
       "      <th>OffersScreenAppear</th>\n",
       "      <td>4593</td>\n",
       "      <td>60.963632</td>\n",
       "    </tr>\n",
       "    <tr>\n",
       "      <th>CartScreenAppear</th>\n",
       "      <td>3734</td>\n",
       "      <td>49.561986</td>\n",
       "    </tr>\n",
       "    <tr>\n",
       "      <th>PaymentScreenSuccessful</th>\n",
       "      <td>3539</td>\n",
       "      <td>46.973719</td>\n",
       "    </tr>\n",
       "  </tbody>\n",
       "</table>\n",
       "</div>"
      ],
      "text/plain": [
       "                         device_id      ratio\n",
       "event_name                                   \n",
       "MainScreenAppear              7419  98.473586\n",
       "OffersScreenAppear            4593  60.963632\n",
       "CartScreenAppear              3734  49.561986\n",
       "PaymentScreenSuccessful       3539  46.973719"
      ]
     },
     "execution_count": 33,
     "metadata": {},
     "output_type": "execute_result"
    }
   ],
   "source": [
    "#Уберем из событий Tutorial\n",
    "event_one_count_sorted=event_one_count.query('event_name != \"Tutorial\" ')\n",
    "event_one_count_sorted"
   ]
  },
  {
   "cell_type": "code",
   "execution_count": 34,
   "metadata": {},
   "outputs": [
    {
     "data": {
      "text/html": [
       "<div>\n",
       "<style scoped>\n",
       "    .dataframe tbody tr th:only-of-type {\n",
       "        vertical-align: middle;\n",
       "    }\n",
       "\n",
       "    .dataframe tbody tr th {\n",
       "        vertical-align: top;\n",
       "    }\n",
       "\n",
       "    .dataframe thead th {\n",
       "        text-align: right;\n",
       "    }\n",
       "</style>\n",
       "<table border=\"1\" class=\"dataframe\">\n",
       "  <thead>\n",
       "    <tr style=\"text-align: right;\">\n",
       "      <th></th>\n",
       "      <th>device_id</th>\n",
       "      <th>ratio</th>\n",
       "      <th>cr</th>\n",
       "    </tr>\n",
       "    <tr>\n",
       "      <th>event_name</th>\n",
       "      <th></th>\n",
       "      <th></th>\n",
       "      <th></th>\n",
       "    </tr>\n",
       "  </thead>\n",
       "  <tbody>\n",
       "    <tr>\n",
       "      <th>MainScreenAppear</th>\n",
       "      <td>7419</td>\n",
       "      <td>98.473586</td>\n",
       "      <td>NaN</td>\n",
       "    </tr>\n",
       "    <tr>\n",
       "      <th>OffersScreenAppear</th>\n",
       "      <td>4593</td>\n",
       "      <td>60.963632</td>\n",
       "      <td>61.908613</td>\n",
       "    </tr>\n",
       "    <tr>\n",
       "      <th>CartScreenAppear</th>\n",
       "      <td>3734</td>\n",
       "      <td>49.561986</td>\n",
       "      <td>81.297627</td>\n",
       "    </tr>\n",
       "    <tr>\n",
       "      <th>PaymentScreenSuccessful</th>\n",
       "      <td>3539</td>\n",
       "      <td>46.973719</td>\n",
       "      <td>94.777718</td>\n",
       "    </tr>\n",
       "  </tbody>\n",
       "</table>\n",
       "</div>"
      ],
      "text/plain": [
       "                         device_id      ratio         cr\n",
       "event_name                                              \n",
       "MainScreenAppear              7419  98.473586        NaN\n",
       "OffersScreenAppear            4593  60.963632  61.908613\n",
       "CartScreenAppear              3734  49.561986  81.297627\n",
       "PaymentScreenSuccessful       3539  46.973719  94.777718"
      ]
     },
     "execution_count": 34,
     "metadata": {},
     "output_type": "execute_result"
    }
   ],
   "source": [
    "event_one_count_sorted['cr'] = event_one_count_sorted['ratio']/event_one_count_sorted['ratio'].shift(1)*100\n",
    "event_one_count_sorted"
   ]
  },
  {
   "cell_type": "markdown",
   "metadata": {},
   "source": [
    "**Вывод:**\n",
    "\n",
    "На основании полученных таблиц видно, что самая большая часть пользователей теряется на этапе перехода на экран с предложением - порядка 40%, на этапе перехода в страницу оплаты теряется около 10%, даллее, на этапе оплаты теряется незначительная часть - 2,5%. \n",
    "\n",
    "Отличные показатели конверсии перехода с экрана с предложением к эрану с оплатой - 81%, а также последующей успешной оплатой -94,8%.\n",
    "\n",
    "Всего до успешной оплаты доходят 47% пользователей приложения."
   ]
  },
  {
   "cell_type": "markdown",
   "metadata": {},
   "source": [
    "# Шаг 5. Изучение результатов эксперимента."
   ]
  },
  {
   "cell_type": "markdown",
   "metadata": {},
   "source": [
    "## Количество пользователей в каждой группе."
   ]
  },
  {
   "cell_type": "code",
   "execution_count": 35,
   "metadata": {},
   "outputs": [
    {
     "data": {
      "text/plain": [
       "group\n",
       "A0       2483\n",
       "A1       2512\n",
       "B        2535\n",
       "A0+A1    4995\n",
       "Name: device_id, dtype: int64"
      ]
     },
     "execution_count": 35,
     "metadata": {},
     "output_type": "execute_result"
    }
   ],
   "source": [
    "data = data.query('event_name != \"Tutorial\"')\n",
    "groups = data.groupby('group')['device_id'].nunique()\n",
    "groups['A0+A1'] = groups['A0'] + groups['A1']\n",
    "groups"
   ]
  },
  {
   "cell_type": "code",
   "execution_count": null,
   "metadata": {},
   "outputs": [],
   "source": []
  },
  {
   "cell_type": "markdown",
   "metadata": {},
   "source": [
    "Уникальные пользователи распределены слудующим образом по группам:\n",
    "\n",
    "- A0 - 2484\n",
    "- A1 - 2513\n",
    "- B - 2537\n",
    " -в группах А0 и А1 общее количество подьзователей - 4997.\n",
    "\n",
    "Итого уникальных пользователей 7 534."
   ]
  },
  {
   "cell_type": "markdown",
   "metadata": {},
   "source": [
    "**Есть 2 контрольные группы для А/А-эксперимента, чтобы проверить корректность всех механизмов и расчётов. Проверьте, находят ли статистические критерии разницу между выборками A0 и A1.**"
   ]
  },
  {
   "cell_type": "markdown",
   "metadata": {},
   "source": [
    "**Критерии успешного A/A-теста:** \n",
    "- Количество пользователей в различных группах различается не более, чем на 1%;\n",
    "- Для всех групп фиксируют и отправляют в системы аналитики данные об одном и том же;\n",
    "- Различие ключевых метрик по группам не превышает 1% и не имеет статистической значимости;\n",
    "- Попавший в одну из групп посетитель остаётся в этой группе до конца теста. Если пользователь видит разные версии исследуемой страницы в ходе одного исследования, неизвестно, какая именно повлияла на его решения. Значит, и результаты такого теста нельзя интерпретировать однозначно."
   ]
  },
  {
   "cell_type": "code",
   "execution_count": 36,
   "metadata": {},
   "outputs": [
    {
     "data": {
      "text/plain": [
       "1.2"
      ]
     },
     "execution_count": 36,
     "metadata": {},
     "output_type": "execute_result"
    }
   ],
   "source": [
    "group_a0 = data[data['group'] == 'A0']['device_id'].nunique()\n",
    "group_a1 = data[data['group'] == 'A1']['device_id'].nunique()\n",
    "user_diff = round(((group_a1 - group_a0)/group_a0)*100, 1)\n",
    "user_diff"
   ]
  },
  {
   "cell_type": "markdown",
   "metadata": {},
   "source": [
    "Количество пользователей различается на 1,2%, что не является критичнм."
   ]
  },
  {
   "cell_type": "markdown",
   "metadata": {},
   "source": [
    "# Выберите самое популярное событие. \n",
    "\n",
    " - Посчитайте число пользователей, совершивших это событие в каждой из контрольных групп. \n",
    " - Посчитайте долю пользователей, совершивших это событие. \n",
    " - Проверьте, будет ли отличие между группами статистически достоверным. \n",
    " -Проделайте то же самое для всех других событий (удобно обернуть проверку в отдельную функцию). Можно ли сказать, что разбиение на группы работает корректно?"
   ]
  },
  {
   "cell_type": "code",
   "execution_count": 37,
   "metadata": {
    "scrolled": true
   },
   "outputs": [],
   "source": [
    "#data['event_name'].value_counts()"
   ]
  },
  {
   "cell_type": "code",
   "execution_count": 38,
   "metadata": {},
   "outputs": [
    {
     "data": {
      "text/html": [
       "<div>\n",
       "<style scoped>\n",
       "    .dataframe tbody tr th:only-of-type {\n",
       "        vertical-align: middle;\n",
       "    }\n",
       "\n",
       "    .dataframe tbody tr th {\n",
       "        vertical-align: top;\n",
       "    }\n",
       "\n",
       "    .dataframe thead th {\n",
       "        text-align: right;\n",
       "    }\n",
       "</style>\n",
       "<table border=\"1\" class=\"dataframe\">\n",
       "  <thead>\n",
       "    <tr style=\"text-align: right;\">\n",
       "      <th></th>\n",
       "      <th>group</th>\n",
       "    </tr>\n",
       "    <tr>\n",
       "      <th>event_name</th>\n",
       "      <th></th>\n",
       "    </tr>\n",
       "  </thead>\n",
       "  <tbody>\n",
       "    <tr>\n",
       "      <th>MainScreenAppear</th>\n",
       "      <td>117328</td>\n",
       "    </tr>\n",
       "    <tr>\n",
       "      <th>OffersScreenAppear</th>\n",
       "      <td>46333</td>\n",
       "    </tr>\n",
       "    <tr>\n",
       "      <th>CartScreenAppear</th>\n",
       "      <td>42303</td>\n",
       "    </tr>\n",
       "    <tr>\n",
       "      <th>PaymentScreenSuccessful</th>\n",
       "      <td>33918</td>\n",
       "    </tr>\n",
       "  </tbody>\n",
       "</table>\n",
       "</div>"
      ],
      "text/plain": [
       "                          group\n",
       "event_name                     \n",
       "MainScreenAppear         117328\n",
       "OffersScreenAppear        46333\n",
       "CartScreenAppear          42303\n",
       "PaymentScreenSuccessful   33918"
      ]
     },
     "execution_count": 38,
     "metadata": {},
     "output_type": "execute_result"
    }
   ],
   "source": [
    "# находим самое популярное событие\n",
    "popular_event =   data.groupby('event_name').agg({'group': 'count'}).sort_values(by='group', ascending=False)\n",
    "popular_event"
   ]
  },
  {
   "cell_type": "code",
   "execution_count": 39,
   "metadata": {},
   "outputs": [
    {
     "data": {
      "text/html": [
       "<div>\n",
       "<style scoped>\n",
       "    .dataframe tbody tr th:only-of-type {\n",
       "        vertical-align: middle;\n",
       "    }\n",
       "\n",
       "    .dataframe tbody tr th {\n",
       "        vertical-align: top;\n",
       "    }\n",
       "\n",
       "    .dataframe thead th {\n",
       "        text-align: right;\n",
       "    }\n",
       "</style>\n",
       "<table border=\"1\" class=\"dataframe\">\n",
       "  <thead>\n",
       "    <tr style=\"text-align: right;\">\n",
       "      <th>group</th>\n",
       "      <th>A0</th>\n",
       "      <th>A1</th>\n",
       "      <th>B</th>\n",
       "    </tr>\n",
       "    <tr>\n",
       "      <th>event_name</th>\n",
       "      <th></th>\n",
       "      <th></th>\n",
       "      <th></th>\n",
       "    </tr>\n",
       "  </thead>\n",
       "  <tbody>\n",
       "    <tr>\n",
       "      <th>MainScreenAppear</th>\n",
       "      <td>37676</td>\n",
       "      <td>39090</td>\n",
       "      <td>40562</td>\n",
       "    </tr>\n",
       "    <tr>\n",
       "      <th>OffersScreenAppear</th>\n",
       "      <td>14767</td>\n",
       "      <td>15179</td>\n",
       "      <td>16387</td>\n",
       "    </tr>\n",
       "    <tr>\n",
       "      <th>CartScreenAppear</th>\n",
       "      <td>14690</td>\n",
       "      <td>12434</td>\n",
       "      <td>15179</td>\n",
       "    </tr>\n",
       "    <tr>\n",
       "      <th>PaymentScreenSuccessful</th>\n",
       "      <td>11852</td>\n",
       "      <td>9981</td>\n",
       "      <td>12085</td>\n",
       "    </tr>\n",
       "  </tbody>\n",
       "</table>\n",
       "</div>"
      ],
      "text/plain": [
       "group                       A0     A1      B\n",
       "event_name                                  \n",
       "MainScreenAppear         37676  39090  40562\n",
       "OffersScreenAppear       14767  15179  16387\n",
       "CartScreenAppear         14690  12434  15179\n",
       "PaymentScreenSuccessful  11852   9981  12085"
      ]
     },
     "execution_count": 39,
     "metadata": {},
     "output_type": "execute_result"
    }
   ],
   "source": [
    "events_groups = data.pivot_table(index='event_name', columns='group', values='device_id', aggfunc='count').sort_values('event_name', ascending=False)\n",
    "events_groups.sort_values('A0', ascending=False)"
   ]
  },
  {
   "cell_type": "markdown",
   "metadata": {},
   "source": [
    "**Находим самое количество уникальных пользователей в разбивке по группам.**"
   ]
  },
  {
   "cell_type": "code",
   "execution_count": 40,
   "metadata": {
    "scrolled": true
   },
   "outputs": [
    {
     "data": {
      "text/html": [
       "<div>\n",
       "<style scoped>\n",
       "    .dataframe tbody tr th:only-of-type {\n",
       "        vertical-align: middle;\n",
       "    }\n",
       "\n",
       "    .dataframe tbody tr th {\n",
       "        vertical-align: top;\n",
       "    }\n",
       "\n",
       "    .dataframe thead th {\n",
       "        text-align: right;\n",
       "    }\n",
       "</style>\n",
       "<table border=\"1\" class=\"dataframe\">\n",
       "  <thead>\n",
       "    <tr style=\"text-align: right;\">\n",
       "      <th>group</th>\n",
       "      <th>event_name</th>\n",
       "      <th>A0</th>\n",
       "      <th>A1</th>\n",
       "      <th>B</th>\n",
       "      <th>A0+A1</th>\n",
       "      <th>overall</th>\n",
       "      <th>A0%</th>\n",
       "      <th>A1%</th>\n",
       "      <th>B%</th>\n",
       "      <th>A0+A1%</th>\n",
       "    </tr>\n",
       "  </thead>\n",
       "  <tbody>\n",
       "    <tr>\n",
       "      <th>0</th>\n",
       "      <td>MainScreenAppear</td>\n",
       "      <td>2450</td>\n",
       "      <td>2476</td>\n",
       "      <td>2493</td>\n",
       "      <td>4926</td>\n",
       "      <td>7419</td>\n",
       "      <td>98.67</td>\n",
       "      <td>98.57</td>\n",
       "      <td>98.34</td>\n",
       "      <td>98.62</td>\n",
       "    </tr>\n",
       "    <tr>\n",
       "      <th>1</th>\n",
       "      <td>OffersScreenAppear</td>\n",
       "      <td>1542</td>\n",
       "      <td>1520</td>\n",
       "      <td>1531</td>\n",
       "      <td>3062</td>\n",
       "      <td>4593</td>\n",
       "      <td>62.10</td>\n",
       "      <td>60.51</td>\n",
       "      <td>60.39</td>\n",
       "      <td>61.30</td>\n",
       "    </tr>\n",
       "    <tr>\n",
       "      <th>2</th>\n",
       "      <td>CartScreenAppear</td>\n",
       "      <td>1266</td>\n",
       "      <td>1238</td>\n",
       "      <td>1230</td>\n",
       "      <td>2504</td>\n",
       "      <td>3734</td>\n",
       "      <td>50.99</td>\n",
       "      <td>49.28</td>\n",
       "      <td>48.52</td>\n",
       "      <td>50.13</td>\n",
       "    </tr>\n",
       "    <tr>\n",
       "      <th>3</th>\n",
       "      <td>PaymentScreenSuccessful</td>\n",
       "      <td>1200</td>\n",
       "      <td>1158</td>\n",
       "      <td>1181</td>\n",
       "      <td>2358</td>\n",
       "      <td>3539</td>\n",
       "      <td>48.33</td>\n",
       "      <td>46.10</td>\n",
       "      <td>46.59</td>\n",
       "      <td>47.21</td>\n",
       "    </tr>\n",
       "  </tbody>\n",
       "</table>\n",
       "</div>"
      ],
      "text/plain": [
       "group               event_name    A0    A1     B  A0+A1  overall    A0%  \\\n",
       "0             MainScreenAppear  2450  2476  2493   4926     7419  98.67   \n",
       "1           OffersScreenAppear  1542  1520  1531   3062     4593  62.10   \n",
       "2             CartScreenAppear  1266  1238  1230   2504     3734  50.99   \n",
       "3      PaymentScreenSuccessful  1200  1158  1181   2358     3539  48.33   \n",
       "\n",
       "group    A1%     B%  A0+A1%  \n",
       "0      98.57  98.34   98.62  \n",
       "1      60.51  60.39   61.30  \n",
       "2      49.28  48.52   50.13  \n",
       "3      46.10  46.59   47.21  "
      ]
     },
     "execution_count": 40,
     "metadata": {},
     "output_type": "execute_result"
    }
   ],
   "source": [
    "events_groups_pure = data.pivot_table(index='event_name', columns='group', values='device_id', aggfunc='nunique').sort_values(by='A0', ascending=False).reset_index()\n",
    "events_groups_pure['A0+A1'] = events_groups_pure['A0'] + events_groups_pure['A1']\n",
    "events_groups_pure['overall'] = events_groups_pure['A0']+events_groups_pure['A1']+events_groups_pure['B']\n",
    "events_groups_pure['A0%'] = (events_groups_pure['A0'] / groups['A0'] * 100).round(2)\n",
    "events_groups_pure['A1%'] = (events_groups_pure['A1'] / groups['A1'] * 100).round(2)\n",
    "events_groups_pure['B%'] = (events_groups_pure['B'] / groups['B'] * 100).round(2)\n",
    "events_groups_pure['A0+A1%'] = (events_groups_pure['A0+A1'] / groups['A0+A1'] * 100).round(2)\n",
    "events_groups_pure.sort_values('overall', ascending=False)\n"
   ]
  },
  {
   "cell_type": "markdown",
   "metadata": {},
   "source": [
    "Согласно таблице, группа А0 имеет из 2450 пользователей, но до формления заказа дошли всего 1200 пользователей, группа А1 имеет 2476 пользователей, но заказ оплатили всего лишь 1158 пользователей.\n",
    "\n",
    "Проверем, находят ли статистические критерии разницу между выборками А0 и А1.\n",
    "\n",
    "**Сформируем гипотезы:**\n",
    "\n",
    "**Нулевая гипотеза:** Между долями нет значимой разницы;\n",
    "\n",
    "**Альтернативная гипотеза:** Между долями есть значимая разница;\n",
    "\n",
    "Порогом статистической значимости установим в размере 0.01"
   ]
  },
  {
   "cell_type": "markdown",
   "metadata": {},
   "source": [
    "**Вывод:**\n",
    "\n",
    "Самым популярным событием является MainScreenAppear. Он показан 117 328 раз, количество уникальных пользователей - 7419. \n",
    "Потери на этапе перехода OffersScreenAppear составило 37%.\n",
    "\n",
    "Число пользователей по группам:\n",
    "- A0 - 2450\n",
    "- A1 - 2476\n",
    "- B - 2493"
   ]
  },
  {
   "cell_type": "code",
   "execution_count": 41,
   "metadata": {},
   "outputs": [
    {
     "name": "stdout",
     "output_type": "stream",
     "text": [
      "p-значение:  0.12044299485641763\n",
      "Не получилось отвергнуть нулевую гипотезу, нет оснований считать доли разными\n"
     ]
    }
   ],
   "source": [
    "\n",
    "alpha = 0.01  # критический уровень статистической значимости\n",
    "\n",
    "success = np.array([1200, 1158])\n",
    "trials = np.array([2450, 2476])\n",
    "\n",
    "p1 = success[0]/trials[0]\n",
    "p2 = success[1]/trials[1]\n",
    "p_combined = (success[0] + success[1]) / (trials[0] + trials[1])\n",
    "\n",
    "difference = p1 - p2\n",
    "\n",
    "z_value = difference / mth.sqrt(p_combined * (1 - p_combined) * (1/trials[0] + 1/trials[1]))\n",
    "distr = st.norm(0, 1)  \n",
    "p_value = (1 - distr.cdf(abs(z_value))) * 2\n",
    "\n",
    "print('p-значение: ', p_value)\n",
    "\n",
    "if p_value < alpha:\n",
    "    print('Отвергаем нулевую гипотезу: между долями есть значимая разница')\n",
    "else:\n",
    "    print(\n",
    "        'Не получилось отвергнуть нулевую гипотезу, нет оснований считать доли разными'\n",
    "    )"
   ]
  },
  {
   "cell_type": "markdown",
   "metadata": {},
   "source": [
    "**Вывод:**\n",
    "Результат z-теста демонстрирует, что нет статистически значимой разницы между конверсиями пользователей в оплату заказа между выборками А0 и А1.\n",
    "\n",
    "Можно сказать, что разбиение на группы работает корректно. Таким образом, группы А0 и А1 считаем контрольными\n"
   ]
  },
  {
   "cell_type": "markdown",
   "metadata": {},
   "source": [
    "<div class=\"alert alert-block alert-info\">\n",
    "\n",
    "Для вычисления допустимой вероятности ложноположительного результата хотя бы в одном из 16 тестов необходимо использовать формулу обратной вероятности (формула Бонферрони):\n",
    "\n",
    "P(хотя бы один ложноположительный результат) = 1 - P(ни одного ложноположительного результата)\n",
    "\n",
    "P(ни одного ложноположительного результата) = (1 - 0.05)^16 = 0.259\n",
    "\n",
    "Таким образом, P(хотя бы один ложноположительный результат) = 1 - 0.259 = 0.741\n",
    "\n",
    "Допустимая вероятность ложноположительного результата хотя бы в одном из 16 тестов составляет 0.741 или 74.1%. Это значительно выше, чем допустимое значение 0.05 для одного теста. Поэтому, в таких случаях, следует использовать поправки на множественные сравнения (например, метод Холма-Бонферрони или метод Бенджамини-Хохберга)."
   ]
  },
  {
   "cell_type": "markdown",
   "metadata": {},
   "source": [
    "Проверим, будет ли отличие между группами статистически достоверным для всех событий с помощью отдельной функции."
   ]
  },
  {
   "cell_type": "markdown",
   "metadata": {},
   "source": [
    "## Создадим функцию для проведения теста"
   ]
  },
  {
   "cell_type": "markdown",
   "metadata": {},
   "source": [
    "def z_test(group_1, group_2):\n",
    "    alpha = 0.01\n",
    "    p1_event = events_groups_pure.loc[event_name, group_1]\n",
    "    p2_event = events_groups_pure.loc[event_name, group_2] \n",
    "    p1_users = groups.loc[group_1] \n",
    "    p2_users = groups.loc[group_2] \n",
    "\n",
    "    # пропорция успехов в первой группе:\n",
    "    p1 = p1_event / p1_users \n",
    "    # пропорция успехов во второй группе\n",
    "    p2 = p2_event / p2_users \n",
    "    \n",
    "    p_combined = (p1_event + p2_event) / (p1_users + p2_users) \n",
    "    difference = p1 - p2 \n",
    "    z_value = difference / mth.sqrt(p_combined * (1 - p_combined) * (1 / p1_users + 1 / p2_users)) \n",
    "    distr = st.norm(0, 1)\n",
    "    p_value = (1 - distr.cdf(abs(z_value))) * 2\n",
    "    \n",
    "    print('Проверка для групп {} и {}, событие: {}, p-значение: {p_value:.2f}'.format(group_1, group_2, event_name, p_value=p_value))\n",
    "  \n",
    "   \n",
    "    if (p_value < alpha):\n",
    "        print(\"Отвергаем нулевую гипотезу\")\n",
    "    else:\n",
    "        print(\"Не получилось отвергнуть нулевую гипотезу\")"
   ]
  },
  {
   "cell_type": "code",
   "execution_count": 42,
   "metadata": {},
   "outputs": [],
   "source": [
    "def z_test(successes1, successes2, trials1, trials2, alpha = 0.05):\n",
    "    \n",
    "    # пропорция успехов в первой группе:\n",
    "    p1 = successes1 / trials1 \n",
    "    # пропорция успехов во второй группе\n",
    "    p2 = successes2 / trials2\n",
    "    \n",
    "    p_combined = (successes1 + successes2) / (trials1 + trials2) \n",
    "    difference = p1 - p2 \n",
    "    z_value = difference / np.sqrt(p_combined * (1 - p_combined) * (1/trials1 + 1/trials2)) \n",
    "    distr = stats.norm(0, 1)\n",
    "    p_value = (1 - distr.cdf(abs(z_value))) * 2\n",
    "    \n",
    "    print('p-значение: ', p_value)\n",
    "    print ('уровень значимости: ', alpha)\n",
    "   \n",
    "    if (p_value < alpha):\n",
    "        print(\"Отвергаем нулевую гипотезу: между долями есть значимая разница\")\n",
    "    else:\n",
    "        print(\"Не получилось отвергнуть нулевую гипотезу, нет основания считать доли разными\")\n",
    "    print()    "
   ]
  },
  {
   "cell_type": "code",
   "execution_count": 43,
   "metadata": {},
   "outputs": [],
   "source": [
    "#groups.loc['A0']"
   ]
  },
  {
   "cell_type": "code",
   "execution_count": 44,
   "metadata": {},
   "outputs": [],
   "source": [
    "#groups.loc['A1']"
   ]
  },
  {
   "cell_type": "code",
   "execution_count": 45,
   "metadata": {},
   "outputs": [],
   "source": [
    "#events_groups_pure.loc[event_name, 'A0']"
   ]
  },
  {
   "cell_type": "code",
   "execution_count": 46,
   "metadata": {},
   "outputs": [],
   "source": [
    "#events_groups_pure.loc[event_name, 'A1']"
   ]
  },
  {
   "cell_type": "code",
   "execution_count": 47,
   "metadata": {
    "scrolled": true
   },
   "outputs": [
    {
     "name": "stdout",
     "output_type": "stream",
     "text": [
      "p-значение:  0.7526703436483038\n",
      "уровень значимости:  0.05\n",
      "Не получилось отвергнуть нулевую гипотезу, нет основания считать доли разными\n",
      "\n",
      "\n",
      "p-значение:  0.24786096925282264\n",
      "уровень значимости:  0.05\n",
      "Не получилось отвергнуть нулевую гипотезу, нет основания считать доли разными\n",
      "\n",
      "\n",
      "p-значение:  0.22867643757335676\n",
      "уровень значимости:  0.05\n",
      "Не получилось отвергнуть нулевую гипотезу, нет основания считать доли разными\n",
      "\n",
      "\n",
      "p-значение:  0.11446627829276612\n",
      "уровень значимости:  0.05\n",
      "Не получилось отвергнуть нулевую гипотезу, нет основания считать доли разными\n",
      "\n",
      "\n"
     ]
    }
   ],
   "source": [
    "for event_name in events_groups_pure.index:\n",
    "    z_test(events_groups_pure.loc[event_name, 'A0'], events_groups_pure.loc[event_name, 'A1'], groups.loc['A0'], groups.loc['A1'])\n",
    "    print()"
   ]
  },
  {
   "cell_type": "markdown",
   "metadata": {},
   "source": [
    "for event_name in events_groups_pure.index:\n",
    "    z_test('A0', 'A1')"
   ]
  },
  {
   "cell_type": "code",
   "execution_count": 48,
   "metadata": {},
   "outputs": [
    {
     "name": "stdout",
     "output_type": "stream",
     "text": [
      "p-значение:  0.3387114076159288\n",
      "уровень значимости:  0.05\n",
      "Не получилось отвергнуть нулевую гипотезу, нет основания считать доли разными\n",
      "\n",
      "\n",
      "p-значение:  0.21442476639710506\n",
      "уровень значимости:  0.05\n",
      "Не получилось отвергнуть нулевую гипотезу, нет основания считать доли разными\n",
      "\n",
      "\n",
      "p-значение:  0.08067367598823139\n",
      "уровень значимости:  0.05\n",
      "Не получилось отвергнуть нулевую гипотезу, нет основания считать доли разными\n",
      "\n",
      "\n",
      "p-значение:  0.21693033984516674\n",
      "уровень значимости:  0.05\n",
      "Не получилось отвергнуть нулевую гипотезу, нет основания считать доли разными\n",
      "\n",
      "\n"
     ]
    }
   ],
   "source": [
    "for event_name in events_groups_pure.index:\n",
    "    z_test(events_groups_pure.loc[event_name, 'A0'], events_groups_pure.loc[event_name, 'B'], groups.loc['A0'], groups.loc['B'])\n",
    "    print()"
   ]
  },
  {
   "cell_type": "markdown",
   "metadata": {
    "scrolled": false
   },
   "source": [
    "for event_name in events_groups_pure.index:\n",
    "    z_test('A0', 'B')\n"
   ]
  },
  {
   "cell_type": "code",
   "execution_count": 49,
   "metadata": {},
   "outputs": [
    {
     "name": "stdout",
     "output_type": "stream",
     "text": [
      "p-значение:  0.5194964354051703\n",
      "уровень значимости:  0.05\n",
      "Не получилось отвергнуть нулевую гипотезу, нет основания считать доли разными\n",
      "\n",
      "\n",
      "p-значение:  0.9333751305879443\n",
      "уровень значимости:  0.05\n",
      "Не получилось отвергнуть нулевую гипотезу, нет основания считать доли разными\n",
      "\n",
      "\n",
      "p-значение:  0.5878284605111943\n",
      "уровень значимости:  0.05\n",
      "Не получилось отвергнуть нулевую гипотезу, нет основания считать доли разными\n",
      "\n",
      "\n",
      "p-значение:  0.7275718682261119\n",
      "уровень значимости:  0.05\n",
      "Не получилось отвергнуть нулевую гипотезу, нет основания считать доли разными\n",
      "\n",
      "\n"
     ]
    }
   ],
   "source": [
    "for event_name in events_groups_pure.index:\n",
    "    z_test(events_groups_pure.loc[event_name, 'A1'], events_groups_pure.loc[event_name, 'B'], groups.loc['A1'], groups.loc['B'])\n",
    "    print()"
   ]
  },
  {
   "cell_type": "markdown",
   "metadata": {},
   "source": [
    "for event_name in events_groups_pure.index:\n",
    "    z_test('A1', 'B')"
   ]
  },
  {
   "cell_type": "code",
   "execution_count": 50,
   "metadata": {},
   "outputs": [
    {
     "name": "stdout",
     "output_type": "stream",
     "text": [
      "p-значение:  0.3486684291093256\n",
      "уровень значимости:  0.05\n",
      "Не получилось отвергнуть нулевую гипотезу, нет основания считать доли разными\n",
      "\n",
      "\n",
      "p-значение:  0.44582745409482394\n",
      "уровень значимости:  0.05\n",
      "Не получилось отвергнуть нулевую гипотезу, нет основания считать доли разными\n",
      "\n",
      "\n",
      "p-значение:  0.18683558686831558\n",
      "уровень значимости:  0.05\n",
      "Не получилось отвергнуть нулевую гипотезу, нет основания считать доли разными\n",
      "\n",
      "\n",
      "p-значение:  0.6107918742187335\n",
      "уровень значимости:  0.05\n",
      "Не получилось отвергнуть нулевую гипотезу, нет основания считать доли разными\n",
      "\n",
      "\n"
     ]
    }
   ],
   "source": [
    "for event_name in events_groups_pure.index:\n",
    "    z_test(events_groups_pure.loc[event_name, 'A0+A1'], events_groups_pure.loc[event_name, 'B'], groups.loc['A0+A1'], groups.loc['B'])\n",
    "    print()"
   ]
  },
  {
   "cell_type": "markdown",
   "metadata": {},
   "source": [
    "for event_name in events_groups_pure.index:\n",
    "    z_test('A0+A1', 'B')"
   ]
  },
  {
   "cell_type": "markdown",
   "metadata": {},
   "source": [
    "Вывод: По итогам проведенных тестов, получен результат, что статистически значимой разницы для всех событий воронки между контрольными и экперементальной группами нет."
   ]
  },
  {
   "cell_type": "markdown",
   "metadata": {},
   "source": [
    "# Общий вывод."
   ]
  },
  {
   "cell_type": "markdown",
   "metadata": {},
   "source": [
    "По результатам проведенных тестов, значимой разницы между долями в контрольных группах и экспериментальной не выявлено. Поэтому можно утверждать, что на поведение пользователей изменение шрифта значимого эффекта не оказало. Тестирование можно считать завершённым, результат - новый шрифт не влияет на конверсию."
   ]
  },
  {
   "cell_type": "code",
   "execution_count": null,
   "metadata": {},
   "outputs": [],
   "source": []
  }
 ],
 "metadata": {
  "ExecuteTimeLog": [
   {
    "duration": 1184,
    "start_time": "2023-05-29T21:01:36.227Z"
   },
   {
    "duration": 631,
    "start_time": "2023-05-29T21:04:19.326Z"
   },
   {
    "duration": 13,
    "start_time": "2023-05-29T21:04:23.605Z"
   },
   {
    "duration": 73,
    "start_time": "2023-05-29T21:05:27.445Z"
   },
   {
    "duration": 143,
    "start_time": "2023-05-29T21:05:42.291Z"
   },
   {
    "duration": 160,
    "start_time": "2023-05-29T21:08:53.613Z"
   },
   {
    "duration": 11,
    "start_time": "2023-05-29T21:08:56.520Z"
   },
   {
    "duration": 113,
    "start_time": "2023-05-29T21:23:08.877Z"
   },
   {
    "duration": 18,
    "start_time": "2023-05-29T21:23:17.518Z"
   },
   {
    "duration": 23,
    "start_time": "2023-05-29T21:24:02.074Z"
   },
   {
    "duration": 22,
    "start_time": "2023-05-29T21:24:23.934Z"
   },
   {
    "duration": 22,
    "start_time": "2023-05-29T21:24:42.065Z"
   },
   {
    "duration": 38,
    "start_time": "2023-05-29T21:24:53.594Z"
   },
   {
    "duration": 4,
    "start_time": "2023-05-29T21:30:23.841Z"
   },
   {
    "duration": 5,
    "start_time": "2023-05-29T21:30:43.622Z"
   },
   {
    "duration": 14,
    "start_time": "2023-05-29T21:30:50.580Z"
   },
   {
    "duration": 26,
    "start_time": "2023-05-29T21:31:25.273Z"
   },
   {
    "duration": 8,
    "start_time": "2023-05-29T21:35:28.190Z"
   },
   {
    "duration": 8,
    "start_time": "2023-05-29T21:35:37.778Z"
   },
   {
    "duration": 10,
    "start_time": "2023-05-29T21:35:41.507Z"
   },
   {
    "duration": 10,
    "start_time": "2023-05-29T21:35:48.269Z"
   },
   {
    "duration": 10,
    "start_time": "2023-05-29T21:35:53.116Z"
   },
   {
    "duration": 8,
    "start_time": "2023-05-29T21:37:01.286Z"
   },
   {
    "duration": 5,
    "start_time": "2023-05-29T21:37:07.181Z"
   },
   {
    "duration": 9,
    "start_time": "2023-05-29T21:40:21.277Z"
   },
   {
    "duration": 8,
    "start_time": "2023-05-29T21:40:35.315Z"
   },
   {
    "duration": 8,
    "start_time": "2023-05-29T21:40:39.402Z"
   },
   {
    "duration": 6,
    "start_time": "2023-05-29T21:40:58.681Z"
   },
   {
    "duration": 10,
    "start_time": "2023-05-29T21:41:20.822Z"
   },
   {
    "duration": 78,
    "start_time": "2023-05-29T21:41:30.712Z"
   },
   {
    "duration": 15,
    "start_time": "2023-05-29T21:41:34.076Z"
   },
   {
    "duration": 46,
    "start_time": "2023-05-30T18:57:20.286Z"
   },
   {
    "duration": 1171,
    "start_time": "2023-05-30T18:57:24.556Z"
   },
   {
    "duration": 620,
    "start_time": "2023-05-30T18:57:27.376Z"
   },
   {
    "duration": 15,
    "start_time": "2023-05-30T18:57:29.714Z"
   },
   {
    "duration": 13,
    "start_time": "2023-05-30T18:57:32.615Z"
   },
   {
    "duration": 57,
    "start_time": "2023-05-30T18:58:24.903Z"
   },
   {
    "duration": 16,
    "start_time": "2023-05-30T18:58:33.768Z"
   },
   {
    "duration": 7,
    "start_time": "2023-05-30T18:58:38.591Z"
   },
   {
    "duration": 168,
    "start_time": "2023-05-30T18:58:46.732Z"
   },
   {
    "duration": 16,
    "start_time": "2023-05-30T18:59:45.221Z"
   },
   {
    "duration": 203,
    "start_time": "2023-05-30T19:06:02.904Z"
   },
   {
    "duration": 18,
    "start_time": "2023-05-30T19:06:11.224Z"
   },
   {
    "duration": 7,
    "start_time": "2023-05-30T19:06:16.623Z"
   },
   {
    "duration": 5,
    "start_time": "2023-05-30T19:06:19.292Z"
   },
   {
    "duration": 53,
    "start_time": "2023-05-30T19:06:24.067Z"
   },
   {
    "duration": 12,
    "start_time": "2023-05-30T19:06:26.383Z"
   },
   {
    "duration": 7,
    "start_time": "2023-05-30T19:09:51.581Z"
   },
   {
    "duration": 77,
    "start_time": "2023-05-30T19:09:56.091Z"
   },
   {
    "duration": 28,
    "start_time": "2023-05-30T19:10:45.893Z"
   },
   {
    "duration": 38,
    "start_time": "2023-05-30T19:10:55.333Z"
   },
   {
    "duration": 8,
    "start_time": "2023-05-30T19:13:09.922Z"
   },
   {
    "duration": 54,
    "start_time": "2023-05-30T19:13:17.590Z"
   },
   {
    "duration": 3,
    "start_time": "2023-05-30T19:13:24.022Z"
   },
   {
    "duration": 132,
    "start_time": "2023-05-30T19:13:26.651Z"
   },
   {
    "duration": 9,
    "start_time": "2023-05-30T19:13:28.631Z"
   },
   {
    "duration": 15,
    "start_time": "2023-05-30T19:13:33.191Z"
   },
   {
    "duration": 207,
    "start_time": "2023-05-30T19:13:37.273Z"
   },
   {
    "duration": 18,
    "start_time": "2023-05-30T19:13:41.033Z"
   },
   {
    "duration": 6,
    "start_time": "2023-05-30T19:13:43.781Z"
   },
   {
    "duration": 7,
    "start_time": "2023-05-30T19:13:46.004Z"
   },
   {
    "duration": 50,
    "start_time": "2023-05-30T19:13:48.522Z"
   },
   {
    "duration": 15,
    "start_time": "2023-05-30T19:13:50.424Z"
   },
   {
    "duration": 20,
    "start_time": "2023-05-30T19:13:53.469Z"
   },
   {
    "duration": 87,
    "start_time": "2023-05-30T19:13:55.712Z"
   },
   {
    "duration": 6,
    "start_time": "2023-05-30T19:13:58.414Z"
   },
   {
    "duration": 12,
    "start_time": "2023-05-30T19:14:29.771Z"
   },
   {
    "duration": 165,
    "start_time": "2023-05-30T19:14:53.711Z"
   },
   {
    "duration": 22,
    "start_time": "2023-05-30T19:14:58.504Z"
   },
   {
    "duration": 11,
    "start_time": "2023-05-30T19:15:07.722Z"
   },
   {
    "duration": 9,
    "start_time": "2023-05-30T19:15:21.014Z"
   },
   {
    "duration": 159,
    "start_time": "2023-05-30T19:16:00.651Z"
   },
   {
    "duration": 197,
    "start_time": "2023-05-30T19:16:12.112Z"
   },
   {
    "duration": 163,
    "start_time": "2023-05-30T19:16:23.042Z"
   },
   {
    "duration": 74,
    "start_time": "2023-05-30T19:16:32.864Z"
   },
   {
    "duration": 29,
    "start_time": "2023-05-30T19:16:45.244Z"
   },
   {
    "duration": 10,
    "start_time": "2023-05-30T19:16:47.842Z"
   },
   {
    "duration": 5,
    "start_time": "2023-05-30T19:16:49.867Z"
   },
   {
    "duration": 14,
    "start_time": "2023-05-30T19:16:55.524Z"
   },
   {
    "duration": 27,
    "start_time": "2023-05-30T19:17:05.203Z"
   },
   {
    "duration": 71,
    "start_time": "2023-05-30T19:17:07.742Z"
   },
   {
    "duration": 18,
    "start_time": "2023-05-30T19:17:10.234Z"
   },
   {
    "duration": 12,
    "start_time": "2023-05-30T19:17:15.074Z"
   },
   {
    "duration": 20,
    "start_time": "2023-05-30T19:20:31.772Z"
   },
   {
    "duration": 4,
    "start_time": "2023-05-30T19:22:59.183Z"
   },
   {
    "duration": 135,
    "start_time": "2023-05-30T19:23:01.270Z"
   },
   {
    "duration": 13,
    "start_time": "2023-05-30T19:23:03.874Z"
   },
   {
    "duration": 18,
    "start_time": "2023-05-30T19:23:07.524Z"
   },
   {
    "duration": 257,
    "start_time": "2023-05-30T19:23:11.684Z"
   },
   {
    "duration": 30,
    "start_time": "2023-05-30T19:23:15.876Z"
   },
   {
    "duration": 87,
    "start_time": "2023-05-30T19:29:10.875Z"
   },
   {
    "duration": 9,
    "start_time": "2023-05-30T19:29:26.992Z"
   },
   {
    "duration": 11,
    "start_time": "2023-05-30T19:29:33.633Z"
   },
   {
    "duration": 6,
    "start_time": "2023-05-30T19:29:54.235Z"
   },
   {
    "duration": 52,
    "start_time": "2023-05-30T19:29:56.121Z"
   },
   {
    "duration": 90,
    "start_time": "2023-05-30T19:32:30.021Z"
   },
   {
    "duration": 34,
    "start_time": "2023-05-30T19:33:19.394Z"
   },
   {
    "duration": 18,
    "start_time": "2023-05-30T19:33:27.632Z"
   },
   {
    "duration": 98,
    "start_time": "2023-05-30T19:35:23.433Z"
   },
   {
    "duration": 12,
    "start_time": "2023-05-30T19:35:52.136Z"
   },
   {
    "duration": 92,
    "start_time": "2023-05-30T19:36:11.501Z"
   },
   {
    "duration": 94,
    "start_time": "2023-05-30T19:36:15.731Z"
   },
   {
    "duration": 78,
    "start_time": "2023-05-30T19:36:23.233Z"
   },
   {
    "duration": 7,
    "start_time": "2023-05-30T19:37:28.531Z"
   },
   {
    "duration": 28,
    "start_time": "2023-05-30T19:37:34.643Z"
   },
   {
    "duration": 40,
    "start_time": "2023-05-30T19:40:08.434Z"
   },
   {
    "duration": 31,
    "start_time": "2023-05-30T19:40:28.882Z"
   },
   {
    "duration": 1029,
    "start_time": "2023-05-30T19:41:44.553Z"
   },
   {
    "duration": 144,
    "start_time": "2023-05-30T19:41:45.584Z"
   },
   {
    "duration": 14,
    "start_time": "2023-05-30T19:41:45.730Z"
   },
   {
    "duration": 15,
    "start_time": "2023-05-30T19:41:45.745Z"
   },
   {
    "duration": 221,
    "start_time": "2023-05-30T19:41:45.762Z"
   },
   {
    "duration": 31,
    "start_time": "2023-05-30T19:41:45.985Z"
   },
   {
    "duration": 6,
    "start_time": "2023-05-30T19:41:46.017Z"
   },
   {
    "duration": 53,
    "start_time": "2023-05-30T19:41:46.025Z"
   },
   {
    "duration": 12,
    "start_time": "2023-05-30T19:41:46.080Z"
   },
   {
    "duration": 42,
    "start_time": "2023-05-30T19:41:46.094Z"
   },
   {
    "duration": 93,
    "start_time": "2023-05-30T19:41:46.137Z"
   },
   {
    "duration": 97,
    "start_time": "2023-05-30T19:41:46.231Z"
   },
   {
    "duration": 18,
    "start_time": "2023-05-30T19:41:46.329Z"
   },
   {
    "duration": 17,
    "start_time": "2023-05-30T19:41:46.350Z"
   },
   {
    "duration": 30,
    "start_time": "2023-05-30T19:41:46.369Z"
   },
   {
    "duration": 33,
    "start_time": "2023-05-30T19:43:07.503Z"
   },
   {
    "duration": 14,
    "start_time": "2023-05-30T19:43:16.082Z"
   },
   {
    "duration": 108,
    "start_time": "2023-05-30T19:44:38.839Z"
   },
   {
    "duration": 65,
    "start_time": "2023-05-30T19:44:48.072Z"
   },
   {
    "duration": 57,
    "start_time": "2023-05-30T19:44:55.633Z"
   },
   {
    "duration": 1050,
    "start_time": "2023-05-30T19:45:05.298Z"
   },
   {
    "duration": 135,
    "start_time": "2023-05-30T19:45:06.350Z"
   },
   {
    "duration": 13,
    "start_time": "2023-05-30T19:45:06.486Z"
   },
   {
    "duration": 19,
    "start_time": "2023-05-30T19:45:06.501Z"
   },
   {
    "duration": 200,
    "start_time": "2023-05-30T19:45:06.522Z"
   },
   {
    "duration": 22,
    "start_time": "2023-05-30T19:45:06.723Z"
   },
   {
    "duration": 5,
    "start_time": "2023-05-30T19:45:06.747Z"
   },
   {
    "duration": 68,
    "start_time": "2023-05-30T19:45:06.753Z"
   },
   {
    "duration": 13,
    "start_time": "2023-05-30T19:45:06.823Z"
   },
   {
    "duration": 32,
    "start_time": "2023-05-30T19:45:06.837Z"
   },
   {
    "duration": 101,
    "start_time": "2023-05-30T19:45:06.871Z"
   },
   {
    "duration": 95,
    "start_time": "2023-05-30T19:45:06.973Z"
   },
   {
    "duration": 19,
    "start_time": "2023-05-30T19:45:07.069Z"
   },
   {
    "duration": 28,
    "start_time": "2023-05-30T19:45:07.090Z"
   },
   {
    "duration": 28,
    "start_time": "2023-05-30T19:45:07.119Z"
   },
   {
    "duration": 181,
    "start_time": "2023-05-30T19:54:55.682Z"
   },
   {
    "duration": 63,
    "start_time": "2023-05-30T19:57:49.211Z"
   },
   {
    "duration": 2,
    "start_time": "2023-05-30T19:59:01.681Z"
   },
   {
    "duration": 51,
    "start_time": "2023-05-30T20:03:49.997Z"
   },
   {
    "duration": 41,
    "start_time": "2023-05-30T20:04:56.910Z"
   },
   {
    "duration": 2,
    "start_time": "2023-05-30T20:06:59.381Z"
   },
   {
    "duration": 2,
    "start_time": "2023-05-30T20:07:02.647Z"
   },
   {
    "duration": 35,
    "start_time": "2023-05-30T20:07:46.778Z"
   },
   {
    "duration": 12,
    "start_time": "2023-05-30T20:08:10.347Z"
   },
   {
    "duration": 5,
    "start_time": "2023-05-30T20:08:51.132Z"
   },
   {
    "duration": 5,
    "start_time": "2023-05-30T20:08:57.601Z"
   },
   {
    "duration": 2,
    "start_time": "2023-05-30T20:09:04.848Z"
   },
   {
    "duration": 2,
    "start_time": "2023-05-30T20:10:18.164Z"
   },
   {
    "duration": 99,
    "start_time": "2023-05-30T20:11:25.030Z"
   },
   {
    "duration": 58,
    "start_time": "2023-05-30T20:11:45.702Z"
   },
   {
    "duration": 24,
    "start_time": "2023-05-30T20:12:23.285Z"
   },
   {
    "duration": 2,
    "start_time": "2023-05-30T20:12:33.693Z"
   },
   {
    "duration": 73,
    "start_time": "2023-05-30T20:15:34.620Z"
   },
   {
    "duration": 2,
    "start_time": "2023-05-30T20:16:51.908Z"
   },
   {
    "duration": 33,
    "start_time": "2023-05-30T20:16:58.593Z"
   },
   {
    "duration": 23,
    "start_time": "2023-05-30T20:17:04.393Z"
   },
   {
    "duration": 38,
    "start_time": "2023-05-30T20:18:59.050Z"
   },
   {
    "duration": 21,
    "start_time": "2023-05-30T20:25:19.977Z"
   },
   {
    "duration": 16,
    "start_time": "2023-05-30T20:25:40.043Z"
   },
   {
    "duration": 22,
    "start_time": "2023-05-30T20:25:49.205Z"
   },
   {
    "duration": 5,
    "start_time": "2023-05-30T20:26:26.413Z"
   },
   {
    "duration": 4,
    "start_time": "2023-05-30T20:26:42.773Z"
   },
   {
    "duration": 3,
    "start_time": "2023-05-30T20:26:56.785Z"
   },
   {
    "duration": 4,
    "start_time": "2023-05-30T20:27:03.505Z"
   },
   {
    "duration": 4,
    "start_time": "2023-05-30T20:27:17.821Z"
   },
   {
    "duration": 3,
    "start_time": "2023-05-30T20:27:50.197Z"
   },
   {
    "duration": 7,
    "start_time": "2023-05-30T20:28:52.960Z"
   },
   {
    "duration": 8,
    "start_time": "2023-05-30T20:29:02.911Z"
   },
   {
    "duration": 8,
    "start_time": "2023-05-30T20:29:21.373Z"
   },
   {
    "duration": 7,
    "start_time": "2023-05-30T20:29:24.885Z"
   },
   {
    "duration": 18,
    "start_time": "2023-05-30T20:29:38.811Z"
   },
   {
    "duration": 18,
    "start_time": "2023-05-30T20:31:10.605Z"
   },
   {
    "duration": 20,
    "start_time": "2023-05-30T20:31:15.493Z"
   },
   {
    "duration": 107,
    "start_time": "2023-05-30T20:31:33.058Z"
   },
   {
    "duration": 13,
    "start_time": "2023-05-30T20:37:10.997Z"
   },
   {
    "duration": 12,
    "start_time": "2023-05-30T20:37:21.911Z"
   },
   {
    "duration": 419,
    "start_time": "2023-05-30T20:38:36.154Z"
   },
   {
    "duration": 352,
    "start_time": "2023-05-30T20:39:22.097Z"
   },
   {
    "duration": 401,
    "start_time": "2023-05-30T20:39:29.322Z"
   },
   {
    "duration": 409,
    "start_time": "2023-05-30T20:42:37.064Z"
   },
   {
    "duration": 387,
    "start_time": "2023-05-30T20:42:54.201Z"
   },
   {
    "duration": 90,
    "start_time": "2023-05-30T20:45:28.753Z"
   },
   {
    "duration": 442,
    "start_time": "2023-05-30T20:45:41.259Z"
   },
   {
    "duration": 82,
    "start_time": "2023-05-30T20:48:36.455Z"
   },
   {
    "duration": 78,
    "start_time": "2023-05-30T20:48:49.054Z"
   },
   {
    "duration": 81,
    "start_time": "2023-05-30T20:48:53.789Z"
   },
   {
    "duration": 8,
    "start_time": "2023-05-30T20:48:59.150Z"
   },
   {
    "duration": 395,
    "start_time": "2023-05-30T20:49:02.948Z"
   },
   {
    "duration": 387,
    "start_time": "2023-05-30T20:49:10.289Z"
   },
   {
    "duration": 518,
    "start_time": "2023-05-30T20:55:50.909Z"
   },
   {
    "duration": 375,
    "start_time": "2023-05-30T20:55:56.081Z"
   },
   {
    "duration": 379,
    "start_time": "2023-05-30T20:58:43.817Z"
   },
   {
    "duration": 14,
    "start_time": "2023-05-30T20:58:51.090Z"
   },
   {
    "duration": 381,
    "start_time": "2023-05-30T21:00:42.993Z"
   },
   {
    "duration": 387,
    "start_time": "2023-05-30T21:00:53.620Z"
   },
   {
    "duration": 0,
    "start_time": "2023-05-30T21:06:02.678Z"
   },
   {
    "duration": 397,
    "start_time": "2023-05-30T21:06:21.783Z"
   },
   {
    "duration": 397,
    "start_time": "2023-05-30T21:06:29.114Z"
   },
   {
    "duration": 351,
    "start_time": "2023-05-30T21:08:33.601Z"
   },
   {
    "duration": 457,
    "start_time": "2023-05-30T21:10:11.093Z"
   },
   {
    "duration": 463,
    "start_time": "2023-05-30T21:10:44.538Z"
   },
   {
    "duration": 430,
    "start_time": "2023-05-30T21:10:51.338Z"
   },
   {
    "duration": 406,
    "start_time": "2023-05-30T21:11:06.424Z"
   },
   {
    "duration": 373,
    "start_time": "2023-05-30T21:11:10.833Z"
   },
   {
    "duration": 393,
    "start_time": "2023-05-30T21:11:17.213Z"
   },
   {
    "duration": 411,
    "start_time": "2023-05-30T21:11:22.971Z"
   },
   {
    "duration": 397,
    "start_time": "2023-05-30T21:11:52.422Z"
   },
   {
    "duration": 458,
    "start_time": "2023-05-30T21:11:59.383Z"
   },
   {
    "duration": 406,
    "start_time": "2023-05-30T21:12:06.326Z"
   },
   {
    "duration": 7,
    "start_time": "2023-05-30T21:30:17.273Z"
   },
   {
    "duration": 325,
    "start_time": "2023-05-30T21:30:32.126Z"
   },
   {
    "duration": 16,
    "start_time": "2023-05-30T21:31:31.543Z"
   },
   {
    "duration": 26,
    "start_time": "2023-05-30T21:31:48.182Z"
   },
   {
    "duration": 22,
    "start_time": "2023-05-30T21:32:08.522Z"
   },
   {
    "duration": 25,
    "start_time": "2023-05-30T21:34:01.573Z"
   },
   {
    "duration": 399,
    "start_time": "2023-05-30T21:34:20.065Z"
   },
   {
    "duration": 46,
    "start_time": "2023-05-30T21:37:39.352Z"
   },
   {
    "duration": 12,
    "start_time": "2023-05-30T21:37:56.373Z"
   },
   {
    "duration": 7,
    "start_time": "2023-05-30T21:38:56.327Z"
   },
   {
    "duration": 10,
    "start_time": "2023-05-30T21:39:16.725Z"
   },
   {
    "duration": 42,
    "start_time": "2023-05-30T21:44:48.522Z"
   },
   {
    "duration": 42,
    "start_time": "2023-05-30T21:45:35.625Z"
   },
   {
    "duration": 47,
    "start_time": "2023-05-30T21:45:59.830Z"
   },
   {
    "duration": 53,
    "start_time": "2023-05-30T21:46:03.182Z"
   },
   {
    "duration": 41,
    "start_time": "2023-05-30T21:46:17.893Z"
   },
   {
    "duration": 3,
    "start_time": "2023-05-30T21:47:10.942Z"
   },
   {
    "duration": 25,
    "start_time": "2023-05-30T21:48:39.564Z"
   },
   {
    "duration": 8,
    "start_time": "2023-05-30T21:49:11.847Z"
   },
   {
    "duration": 1352,
    "start_time": "2023-05-30T21:49:16.433Z"
   },
   {
    "duration": 23,
    "start_time": "2023-05-30T21:49:36.882Z"
   },
   {
    "duration": 1745,
    "start_time": "2023-05-31T17:10:21.236Z"
   },
   {
    "duration": 721,
    "start_time": "2023-05-31T17:10:22.985Z"
   },
   {
    "duration": 15,
    "start_time": "2023-05-31T17:10:23.709Z"
   },
   {
    "duration": 16,
    "start_time": "2023-05-31T17:10:23.726Z"
   },
   {
    "duration": 325,
    "start_time": "2023-05-31T17:10:23.744Z"
   },
   {
    "duration": 41,
    "start_time": "2023-05-31T17:10:24.072Z"
   },
   {
    "duration": 8,
    "start_time": "2023-05-31T17:10:24.114Z"
   },
   {
    "duration": 145,
    "start_time": "2023-05-31T17:10:24.124Z"
   },
   {
    "duration": 27,
    "start_time": "2023-05-31T17:10:24.272Z"
   },
   {
    "duration": 62,
    "start_time": "2023-05-31T17:10:24.301Z"
   },
   {
    "duration": 139,
    "start_time": "2023-05-31T17:10:24.366Z"
   },
   {
    "duration": 132,
    "start_time": "2023-05-31T17:10:24.507Z"
   },
   {
    "duration": 46,
    "start_time": "2023-05-31T17:10:24.641Z"
   },
   {
    "duration": 43,
    "start_time": "2023-05-31T17:10:24.691Z"
   },
   {
    "duration": 74,
    "start_time": "2023-05-31T17:10:24.736Z"
   },
   {
    "duration": 68,
    "start_time": "2023-05-31T17:10:24.811Z"
   },
   {
    "duration": 5,
    "start_time": "2023-05-31T17:10:24.881Z"
   },
   {
    "duration": 19,
    "start_time": "2023-05-31T17:10:24.888Z"
   },
   {
    "duration": 32,
    "start_time": "2023-05-31T17:10:24.909Z"
   },
   {
    "duration": 79,
    "start_time": "2023-05-31T17:10:24.943Z"
   },
   {
    "duration": 43,
    "start_time": "2023-05-31T17:10:25.024Z"
   },
   {
    "duration": 32,
    "start_time": "2023-05-31T17:10:25.069Z"
   },
   {
    "duration": 22,
    "start_time": "2023-05-31T17:10:25.102Z"
   },
   {
    "duration": 758,
    "start_time": "2023-05-31T17:10:25.126Z"
   },
   {
    "duration": 29,
    "start_time": "2023-05-31T17:10:25.887Z"
   },
   {
    "duration": 710,
    "start_time": "2023-05-31T17:10:25.918Z"
   },
   {
    "duration": 30,
    "start_time": "2023-05-31T17:10:26.630Z"
   },
   {
    "duration": 76,
    "start_time": "2023-05-31T17:10:26.662Z"
   },
   {
    "duration": 45,
    "start_time": "2023-05-31T17:10:26.740Z"
   },
   {
    "duration": 32,
    "start_time": "2023-05-31T17:25:59.147Z"
   },
   {
    "duration": 113,
    "start_time": "2023-05-31T17:27:29.099Z"
   },
   {
    "duration": 81,
    "start_time": "2023-05-31T17:28:40.116Z"
   },
   {
    "duration": 98,
    "start_time": "2023-05-31T17:28:43.052Z"
   },
   {
    "duration": 84,
    "start_time": "2023-05-31T17:28:49.728Z"
   },
   {
    "duration": 87,
    "start_time": "2023-05-31T17:29:10.498Z"
   },
   {
    "duration": 169,
    "start_time": "2023-05-31T17:31:23.852Z"
   },
   {
    "duration": 1740,
    "start_time": "2023-05-31T17:31:38.728Z"
   },
   {
    "duration": 94,
    "start_time": "2023-05-31T17:32:32.652Z"
   },
   {
    "duration": 63,
    "start_time": "2023-05-31T17:33:38.067Z"
   },
   {
    "duration": 84,
    "start_time": "2023-05-31T17:36:15.906Z"
   },
   {
    "duration": 102,
    "start_time": "2023-05-31T17:39:48.878Z"
   },
   {
    "duration": 34,
    "start_time": "2023-05-31T18:05:48.697Z"
   },
   {
    "duration": 9,
    "start_time": "2023-05-31T18:06:08.869Z"
   },
   {
    "duration": 5,
    "start_time": "2023-05-31T18:06:28.287Z"
   },
   {
    "duration": 13,
    "start_time": "2023-05-31T18:06:34.106Z"
   },
   {
    "duration": 11,
    "start_time": "2023-05-31T18:07:20.635Z"
   },
   {
    "duration": 1889,
    "start_time": "2023-05-31T18:08:45.008Z"
   },
   {
    "duration": 1900,
    "start_time": "2023-05-31T18:09:26.799Z"
   },
   {
    "duration": 11,
    "start_time": "2023-05-31T18:10:33.906Z"
   },
   {
    "duration": 16,
    "start_time": "2023-05-31T18:10:46.862Z"
   },
   {
    "duration": 2087,
    "start_time": "2023-05-31T18:11:25.936Z"
   },
   {
    "duration": 2200,
    "start_time": "2023-05-31T18:11:40.817Z"
   },
   {
    "duration": 1754,
    "start_time": "2023-05-31T18:12:07.867Z"
   },
   {
    "duration": 11,
    "start_time": "2023-05-31T18:12:37.617Z"
   },
   {
    "duration": 22,
    "start_time": "2023-05-31T18:13:37.763Z"
   },
   {
    "duration": 16,
    "start_time": "2023-05-31T18:14:29.566Z"
   },
   {
    "duration": 22,
    "start_time": "2023-05-31T18:14:34.137Z"
   },
   {
    "duration": 10,
    "start_time": "2023-05-31T18:14:39.304Z"
   },
   {
    "duration": 10,
    "start_time": "2023-05-31T18:14:44.885Z"
   },
   {
    "duration": 17,
    "start_time": "2023-05-31T18:14:52.419Z"
   },
   {
    "duration": 3,
    "start_time": "2023-05-31T18:39:40.504Z"
   },
   {
    "duration": 6,
    "start_time": "2023-05-31T18:40:34.993Z"
   },
   {
    "duration": 61,
    "start_time": "2023-05-31T18:41:09.746Z"
   },
   {
    "duration": 57,
    "start_time": "2023-05-31T18:41:16.024Z"
   },
   {
    "duration": 13,
    "start_time": "2023-05-31T18:41:42.944Z"
   },
   {
    "duration": 5,
    "start_time": "2023-05-31T18:42:59.480Z"
   },
   {
    "duration": 7,
    "start_time": "2023-05-31T18:43:04.971Z"
   },
   {
    "duration": 7,
    "start_time": "2023-05-31T18:43:25.519Z"
   },
   {
    "duration": 105,
    "start_time": "2023-05-31T18:43:28.094Z"
   },
   {
    "duration": 11,
    "start_time": "2023-05-31T19:02:25.873Z"
   },
   {
    "duration": 14,
    "start_time": "2023-05-31T19:02:48.614Z"
   },
   {
    "duration": 3,
    "start_time": "2023-05-31T19:03:01.012Z"
   },
   {
    "duration": 13,
    "start_time": "2023-05-31T19:03:03.705Z"
   },
   {
    "duration": 18,
    "start_time": "2023-05-31T19:03:31.853Z"
   },
   {
    "duration": 2,
    "start_time": "2023-05-31T19:05:11.805Z"
   },
   {
    "duration": 15,
    "start_time": "2023-05-31T19:05:58.044Z"
   },
   {
    "duration": 7,
    "start_time": "2023-05-31T19:06:11.615Z"
   },
   {
    "duration": 2993,
    "start_time": "2023-05-31T19:12:01.726Z"
   },
   {
    "duration": 2389,
    "start_time": "2023-05-31T19:14:43.861Z"
   },
   {
    "duration": 93,
    "start_time": "2023-05-31T19:15:12.967Z"
   },
   {
    "duration": 75,
    "start_time": "2023-05-31T19:15:38.744Z"
   },
   {
    "duration": 66,
    "start_time": "2023-05-31T19:15:47.475Z"
   },
   {
    "duration": 11,
    "start_time": "2023-05-31T19:16:38.179Z"
   },
   {
    "duration": 77,
    "start_time": "2023-05-31T19:16:47.703Z"
   },
   {
    "duration": 87,
    "start_time": "2023-05-31T19:16:55.724Z"
   },
   {
    "duration": 88,
    "start_time": "2023-05-31T19:18:10.895Z"
   },
   {
    "duration": 82,
    "start_time": "2023-05-31T19:18:36.900Z"
   },
   {
    "duration": 85,
    "start_time": "2023-05-31T19:18:54.479Z"
   },
   {
    "duration": 60,
    "start_time": "2023-05-31T19:18:59.510Z"
   },
   {
    "duration": 90,
    "start_time": "2023-05-31T19:21:46.297Z"
   },
   {
    "duration": 12,
    "start_time": "2023-05-31T19:29:21.705Z"
   },
   {
    "duration": 13,
    "start_time": "2023-05-31T19:29:37.747Z"
   },
   {
    "duration": 31,
    "start_time": "2023-05-31T20:21:04.800Z"
   },
   {
    "duration": 22,
    "start_time": "2023-05-31T20:23:01.860Z"
   },
   {
    "duration": 11,
    "start_time": "2023-05-31T20:23:11.390Z"
   },
   {
    "duration": 8,
    "start_time": "2023-05-31T20:23:16.835Z"
   },
   {
    "duration": 18,
    "start_time": "2023-05-31T20:23:21.474Z"
   },
   {
    "duration": 8,
    "start_time": "2023-05-31T20:23:30.978Z"
   },
   {
    "duration": 1454,
    "start_time": "2023-05-31T20:48:36.477Z"
   },
   {
    "duration": 23,
    "start_time": "2023-05-31T20:49:03.417Z"
   },
   {
    "duration": 92,
    "start_time": "2023-05-31T20:50:14.418Z"
   },
   {
    "duration": 55,
    "start_time": "2023-05-31T20:50:52.545Z"
   },
   {
    "duration": 69,
    "start_time": "2023-05-31T20:51:39.299Z"
   },
   {
    "duration": 71,
    "start_time": "2023-05-31T20:51:47.248Z"
   },
   {
    "duration": 79,
    "start_time": "2023-05-31T20:52:00.348Z"
   },
   {
    "duration": 81,
    "start_time": "2023-05-31T20:52:06.889Z"
   },
   {
    "duration": 53,
    "start_time": "2023-05-31T20:52:35.538Z"
   },
   {
    "duration": 40,
    "start_time": "2023-05-31T20:52:59.790Z"
   },
   {
    "duration": 609,
    "start_time": "2023-05-31T20:53:03.887Z"
   },
   {
    "duration": 55,
    "start_time": "2023-05-31T20:53:12.717Z"
   },
   {
    "duration": 3,
    "start_time": "2023-05-31T20:53:26.797Z"
   },
   {
    "duration": 22,
    "start_time": "2023-05-31T20:53:48.471Z"
   },
   {
    "duration": 36,
    "start_time": "2023-05-31T20:54:14.888Z"
   },
   {
    "duration": 51,
    "start_time": "2023-05-31T20:54:30.437Z"
   },
   {
    "duration": 42,
    "start_time": "2023-05-31T20:54:56.716Z"
   },
   {
    "duration": 55,
    "start_time": "2023-05-31T20:55:09.239Z"
   },
   {
    "duration": 36,
    "start_time": "2023-05-31T20:55:13.275Z"
   },
   {
    "duration": 99,
    "start_time": "2023-05-31T20:57:39.135Z"
   },
   {
    "duration": 100,
    "start_time": "2023-05-31T20:59:25.135Z"
   },
   {
    "duration": 47,
    "start_time": "2023-05-31T20:59:35.852Z"
   },
   {
    "duration": 85,
    "start_time": "2023-05-31T20:59:47.947Z"
   },
   {
    "duration": 62,
    "start_time": "2023-05-31T20:59:54.676Z"
   },
   {
    "duration": 84,
    "start_time": "2023-05-31T21:00:51.438Z"
   },
   {
    "duration": 85,
    "start_time": "2023-05-31T21:00:56.537Z"
   },
   {
    "duration": 53,
    "start_time": "2023-05-31T21:07:31.646Z"
   },
   {
    "duration": 23,
    "start_time": "2023-05-31T21:07:52.318Z"
   },
   {
    "duration": 83,
    "start_time": "2023-05-31T21:08:13.459Z"
   },
   {
    "duration": 72,
    "start_time": "2023-05-31T21:09:45.965Z"
   },
   {
    "duration": 88,
    "start_time": "2023-05-31T21:10:50.889Z"
   },
   {
    "duration": 63,
    "start_time": "2023-05-31T21:11:03.986Z"
   },
   {
    "duration": 96,
    "start_time": "2023-05-31T21:11:16.915Z"
   },
   {
    "duration": 86,
    "start_time": "2023-05-31T21:11:34.705Z"
   },
   {
    "duration": 104,
    "start_time": "2023-05-31T21:11:51.464Z"
   },
   {
    "duration": 79,
    "start_time": "2023-05-31T21:12:04.135Z"
   },
   {
    "duration": 81,
    "start_time": "2023-05-31T21:12:08.881Z"
   },
   {
    "duration": 82,
    "start_time": "2023-05-31T21:12:13.890Z"
   },
   {
    "duration": 170,
    "start_time": "2023-05-31T21:12:30.041Z"
   },
   {
    "duration": 71,
    "start_time": "2023-05-31T21:12:59.651Z"
   },
   {
    "duration": 69,
    "start_time": "2023-05-31T21:13:39.776Z"
   },
   {
    "duration": 78,
    "start_time": "2023-05-31T21:13:50.187Z"
   },
   {
    "duration": 69,
    "start_time": "2023-05-31T21:14:38.576Z"
   },
   {
    "duration": 109,
    "start_time": "2023-05-31T21:15:43.998Z"
   },
   {
    "duration": 37,
    "start_time": "2023-05-31T21:19:37.465Z"
   },
   {
    "duration": 39,
    "start_time": "2023-05-31T21:20:24.342Z"
   },
   {
    "duration": 32,
    "start_time": "2023-05-31T21:20:26.959Z"
   },
   {
    "duration": 25,
    "start_time": "2023-05-31T21:20:32.626Z"
   },
   {
    "duration": 21,
    "start_time": "2023-05-31T21:20:44.415Z"
   },
   {
    "duration": 24,
    "start_time": "2023-05-31T21:21:29.608Z"
   },
   {
    "duration": 32,
    "start_time": "2023-05-31T21:23:16.472Z"
   },
   {
    "duration": 1583,
    "start_time": "2023-05-31T21:23:37.844Z"
   },
   {
    "duration": 110,
    "start_time": "2023-05-31T21:23:47.286Z"
   },
   {
    "duration": 1492,
    "start_time": "2023-05-31T21:24:20.195Z"
   },
   {
    "duration": 1584,
    "start_time": "2023-05-31T21:24:40.625Z"
   },
   {
    "duration": 123,
    "start_time": "2023-05-31T21:24:57.895Z"
   },
   {
    "duration": 1531,
    "start_time": "2023-05-31T21:25:10.906Z"
   },
   {
    "duration": 114,
    "start_time": "2023-05-31T21:25:47.137Z"
   },
   {
    "duration": 108,
    "start_time": "2023-05-31T21:26:13.925Z"
   },
   {
    "duration": 100,
    "start_time": "2023-05-31T21:29:20.166Z"
   },
   {
    "duration": 75,
    "start_time": "2023-05-31T21:30:00.988Z"
   },
   {
    "duration": 103,
    "start_time": "2023-05-31T21:30:41.357Z"
   },
   {
    "duration": 103,
    "start_time": "2023-05-31T21:30:51.584Z"
   },
   {
    "duration": 106,
    "start_time": "2023-05-31T21:31:07.959Z"
   },
   {
    "duration": 141,
    "start_time": "2023-05-31T21:31:48.397Z"
   },
   {
    "duration": 118,
    "start_time": "2023-05-31T21:31:56.701Z"
   },
   {
    "duration": 165,
    "start_time": "2023-05-31T21:32:02.963Z"
   },
   {
    "duration": 124,
    "start_time": "2023-05-31T21:32:10.508Z"
   },
   {
    "duration": 137,
    "start_time": "2023-05-31T21:32:32.807Z"
   },
   {
    "duration": 123,
    "start_time": "2023-05-31T21:32:38.664Z"
   },
   {
    "duration": 74,
    "start_time": "2023-05-31T21:33:00.306Z"
   },
   {
    "duration": 123,
    "start_time": "2023-05-31T21:33:10.873Z"
   },
   {
    "duration": 181,
    "start_time": "2023-05-31T21:33:22.454Z"
   },
   {
    "duration": 106,
    "start_time": "2023-05-31T21:35:28.961Z"
   },
   {
    "duration": 121,
    "start_time": "2023-05-31T21:35:36.797Z"
   },
   {
    "duration": 8,
    "start_time": "2023-05-31T21:47:11.764Z"
   },
   {
    "duration": 8,
    "start_time": "2023-05-31T21:49:28.711Z"
   },
   {
    "duration": 9,
    "start_time": "2023-05-31T21:53:22.864Z"
   },
   {
    "duration": 18,
    "start_time": "2023-05-31T21:53:25.961Z"
   },
   {
    "duration": 8,
    "start_time": "2023-05-31T21:53:53.388Z"
   },
   {
    "duration": 14,
    "start_time": "2023-05-31T21:53:55.956Z"
   },
   {
    "duration": 6,
    "start_time": "2023-05-31T21:54:06.685Z"
   },
   {
    "duration": 6,
    "start_time": "2023-05-31T21:54:21.136Z"
   },
   {
    "duration": 8,
    "start_time": "2023-05-31T21:54:35.398Z"
   },
   {
    "duration": 10,
    "start_time": "2023-05-31T21:54:37.250Z"
   },
   {
    "duration": 19,
    "start_time": "2023-05-31T21:55:32.063Z"
   },
   {
    "duration": 14,
    "start_time": "2023-05-31T21:58:04.001Z"
   },
   {
    "duration": 24,
    "start_time": "2023-05-31T22:03:23.540Z"
   },
   {
    "duration": 22,
    "start_time": "2023-05-31T22:03:32.740Z"
   },
   {
    "duration": 19,
    "start_time": "2023-05-31T22:03:42.669Z"
   },
   {
    "duration": 2068,
    "start_time": "2023-05-31T22:03:54.741Z"
   },
   {
    "duration": 1921,
    "start_time": "2023-05-31T22:04:19.083Z"
   },
   {
    "duration": 30,
    "start_time": "2023-05-31T22:05:37.710Z"
   },
   {
    "duration": 48,
    "start_time": "2023-05-31T22:05:43.540Z"
   },
   {
    "duration": 37,
    "start_time": "2023-05-31T22:06:27.231Z"
   },
   {
    "duration": 13,
    "start_time": "2023-05-31T22:06:41.744Z"
   },
   {
    "duration": 11,
    "start_time": "2023-05-31T22:08:37.293Z"
   },
   {
    "duration": 22,
    "start_time": "2023-05-31T22:08:51.097Z"
   },
   {
    "duration": 1839,
    "start_time": "2023-05-31T22:09:06.384Z"
   },
   {
    "duration": 1929,
    "start_time": "2023-05-31T22:09:43.277Z"
   },
   {
    "duration": 1958,
    "start_time": "2023-05-31T22:10:28.000Z"
   },
   {
    "duration": 8,
    "start_time": "2023-05-31T22:11:13.678Z"
   },
   {
    "duration": 1765,
    "start_time": "2023-05-31T22:13:08.456Z"
   },
   {
    "duration": 1888,
    "start_time": "2023-05-31T22:14:11.563Z"
   },
   {
    "duration": 1942,
    "start_time": "2023-05-31T22:15:09.670Z"
   },
   {
    "duration": 2124,
    "start_time": "2023-05-31T22:15:36.246Z"
   },
   {
    "duration": 1920,
    "start_time": "2023-05-31T22:15:48.807Z"
   },
   {
    "duration": 1897,
    "start_time": "2023-05-31T22:15:58.071Z"
   },
   {
    "duration": 1905,
    "start_time": "2023-05-31T22:16:12.920Z"
   },
   {
    "duration": 132,
    "start_time": "2023-05-31T22:16:51.925Z"
   },
   {
    "duration": 141,
    "start_time": "2023-05-31T22:17:35.013Z"
   },
   {
    "duration": 147,
    "start_time": "2023-05-31T22:18:07.046Z"
   },
   {
    "duration": 7,
    "start_time": "2023-05-31T22:18:25.674Z"
   },
   {
    "duration": 8,
    "start_time": "2023-05-31T22:18:37.503Z"
   },
   {
    "duration": 6,
    "start_time": "2023-05-31T22:18:53.508Z"
   },
   {
    "duration": 1463,
    "start_time": "2023-05-31T22:18:56.174Z"
   },
   {
    "duration": 9,
    "start_time": "2023-05-31T22:19:33.105Z"
   },
   {
    "duration": 14,
    "start_time": "2023-05-31T22:19:37.691Z"
   },
   {
    "duration": 10,
    "start_time": "2023-05-31T22:19:47.922Z"
   },
   {
    "duration": 13,
    "start_time": "2023-05-31T22:20:02.585Z"
   },
   {
    "duration": 6,
    "start_time": "2023-05-31T22:21:17.282Z"
   },
   {
    "duration": 11,
    "start_time": "2023-05-31T22:21:21.100Z"
   },
   {
    "duration": 8,
    "start_time": "2023-05-31T22:21:25.300Z"
   },
   {
    "duration": 24,
    "start_time": "2023-05-31T22:21:28.643Z"
   },
   {
    "duration": 11,
    "start_time": "2023-05-31T22:21:52.981Z"
   },
   {
    "duration": 12,
    "start_time": "2023-05-31T22:22:05.768Z"
   },
   {
    "duration": 1487,
    "start_time": "2023-05-31T22:22:17.350Z"
   },
   {
    "duration": 117,
    "start_time": "2023-05-31T22:23:17.726Z"
   },
   {
    "duration": 1662,
    "start_time": "2023-05-31T22:26:25.699Z"
   },
   {
    "duration": 7,
    "start_time": "2023-05-31T22:26:41.380Z"
   },
   {
    "duration": 1611,
    "start_time": "2023-05-31T22:27:38.122Z"
   },
   {
    "duration": 10,
    "start_time": "2023-05-31T22:28:19.522Z"
   },
   {
    "duration": 7,
    "start_time": "2023-05-31T22:28:30.176Z"
   },
   {
    "duration": 1421,
    "start_time": "2023-05-31T22:28:56.489Z"
   },
   {
    "duration": 5,
    "start_time": "2023-05-31T22:29:11.420Z"
   },
   {
    "duration": 9,
    "start_time": "2023-05-31T22:29:42.076Z"
   },
   {
    "duration": 18,
    "start_time": "2023-05-31T22:30:00.039Z"
   },
   {
    "duration": 2065,
    "start_time": "2023-05-31T22:30:10.809Z"
   },
   {
    "duration": 144,
    "start_time": "2023-05-31T22:32:08.464Z"
   },
   {
    "duration": 43,
    "start_time": "2023-05-31T22:32:30.096Z"
   },
   {
    "duration": 62,
    "start_time": "2023-05-31T22:32:48.169Z"
   },
   {
    "duration": 1498,
    "start_time": "2023-05-31T22:34:29.201Z"
   },
   {
    "duration": 1568,
    "start_time": "2023-05-31T22:34:38.042Z"
   },
   {
    "duration": 2011,
    "start_time": "2023-05-31T22:35:06.674Z"
   },
   {
    "duration": 1455,
    "start_time": "2023-05-31T22:35:17.063Z"
   },
   {
    "duration": 6,
    "start_time": "2023-05-31T22:36:36.004Z"
   },
   {
    "duration": 10,
    "start_time": "2023-05-31T22:37:05.788Z"
   },
   {
    "duration": 74,
    "start_time": "2023-05-31T22:39:04.571Z"
   },
   {
    "duration": 121,
    "start_time": "2023-05-31T22:39:14.648Z"
   },
   {
    "duration": 6,
    "start_time": "2023-05-31T22:39:26.788Z"
   },
   {
    "duration": 6,
    "start_time": "2023-05-31T22:39:32.296Z"
   },
   {
    "duration": 9,
    "start_time": "2023-05-31T22:39:34.385Z"
   },
   {
    "duration": 14,
    "start_time": "2023-05-31T22:39:44.675Z"
   },
   {
    "duration": 9,
    "start_time": "2023-05-31T22:40:00.975Z"
   },
   {
    "duration": 16,
    "start_time": "2023-05-31T22:40:03.337Z"
   },
   {
    "duration": 13,
    "start_time": "2023-05-31T22:40:06.595Z"
   },
   {
    "duration": 11,
    "start_time": "2023-05-31T22:40:09.302Z"
   },
   {
    "duration": 108,
    "start_time": "2023-05-31T22:42:06.511Z"
   },
   {
    "duration": 49,
    "start_time": "2023-06-01T09:26:37.202Z"
   },
   {
    "duration": 1007,
    "start_time": "2023-06-01T09:26:43.576Z"
   },
   {
    "duration": 192,
    "start_time": "2023-06-01T09:26:44.586Z"
   },
   {
    "duration": 14,
    "start_time": "2023-06-01T09:26:44.780Z"
   },
   {
    "duration": 26,
    "start_time": "2023-06-01T09:26:44.796Z"
   },
   {
    "duration": 223,
    "start_time": "2023-06-01T09:26:44.823Z"
   },
   {
    "duration": 26,
    "start_time": "2023-06-01T09:26:45.048Z"
   },
   {
    "duration": 42,
    "start_time": "2023-06-01T09:26:45.075Z"
   },
   {
    "duration": 85,
    "start_time": "2023-06-01T09:26:45.119Z"
   },
   {
    "duration": 24,
    "start_time": "2023-06-01T09:26:45.206Z"
   },
   {
    "duration": 40,
    "start_time": "2023-06-01T09:26:45.233Z"
   },
   {
    "duration": 96,
    "start_time": "2023-06-01T09:26:45.275Z"
   },
   {
    "duration": 104,
    "start_time": "2023-06-01T09:26:45.373Z"
   },
   {
    "duration": 22,
    "start_time": "2023-06-01T09:26:45.478Z"
   },
   {
    "duration": 39,
    "start_time": "2023-06-01T09:26:45.502Z"
   },
   {
    "duration": 38,
    "start_time": "2023-06-01T09:26:45.543Z"
   },
   {
    "duration": 63,
    "start_time": "2023-06-01T09:26:45.582Z"
   },
   {
    "duration": 3,
    "start_time": "2023-06-01T09:26:45.646Z"
   },
   {
    "duration": 7,
    "start_time": "2023-06-01T09:26:45.651Z"
   },
   {
    "duration": 32,
    "start_time": "2023-06-01T09:26:45.660Z"
   },
   {
    "duration": 69,
    "start_time": "2023-06-01T09:26:45.694Z"
   },
   {
    "duration": 21,
    "start_time": "2023-06-01T09:26:45.764Z"
   },
   {
    "duration": 31,
    "start_time": "2023-06-01T09:26:45.787Z"
   },
   {
    "duration": 16,
    "start_time": "2023-06-01T09:26:45.819Z"
   },
   {
    "duration": 557,
    "start_time": "2023-06-01T09:26:45.837Z"
   },
   {
    "duration": 76,
    "start_time": "2023-06-01T09:26:46.395Z"
   },
   {
    "duration": 13,
    "start_time": "2023-06-01T09:26:49.673Z"
   },
   {
    "duration": 503,
    "start_time": "2023-06-01T09:26:54.038Z"
   },
   {
    "duration": 4,
    "start_time": "2023-06-01T14:24:02.657Z"
   },
   {
    "duration": 64,
    "start_time": "2023-06-01T14:26:46.657Z"
   },
   {
    "duration": 1204,
    "start_time": "2023-06-01T14:52:47.620Z"
   },
   {
    "duration": 958,
    "start_time": "2023-06-01T14:52:48.826Z"
   },
   {
    "duration": 13,
    "start_time": "2023-06-01T14:52:49.785Z"
   },
   {
    "duration": 13,
    "start_time": "2023-06-01T14:52:49.800Z"
   },
   {
    "duration": 201,
    "start_time": "2023-06-01T14:52:49.814Z"
   },
   {
    "duration": 23,
    "start_time": "2023-06-01T14:52:50.017Z"
   },
   {
    "duration": 12,
    "start_time": "2023-06-01T14:52:50.041Z"
   },
   {
    "duration": 96,
    "start_time": "2023-06-01T14:52:50.055Z"
   },
   {
    "duration": 13,
    "start_time": "2023-06-01T14:52:50.152Z"
   },
   {
    "duration": 39,
    "start_time": "2023-06-01T14:52:50.168Z"
   },
   {
    "duration": 83,
    "start_time": "2023-06-01T14:52:50.208Z"
   },
   {
    "duration": 93,
    "start_time": "2023-06-01T14:52:50.292Z"
   },
   {
    "duration": 29,
    "start_time": "2023-06-01T14:52:50.386Z"
   },
   {
    "duration": 27,
    "start_time": "2023-06-01T14:52:50.417Z"
   },
   {
    "duration": 42,
    "start_time": "2023-06-01T14:52:50.445Z"
   },
   {
    "duration": 70,
    "start_time": "2023-06-01T14:52:50.489Z"
   },
   {
    "duration": 2,
    "start_time": "2023-06-01T14:52:50.561Z"
   },
   {
    "duration": 25,
    "start_time": "2023-06-01T14:52:50.565Z"
   },
   {
    "duration": 40,
    "start_time": "2023-06-01T14:52:50.592Z"
   },
   {
    "duration": 39,
    "start_time": "2023-06-01T14:52:50.633Z"
   },
   {
    "duration": 17,
    "start_time": "2023-06-01T14:52:50.674Z"
   },
   {
    "duration": 13,
    "start_time": "2023-06-01T14:52:50.706Z"
   },
   {
    "duration": 45,
    "start_time": "2023-06-01T14:52:50.720Z"
   },
   {
    "duration": 491,
    "start_time": "2023-06-01T14:52:50.767Z"
   },
   {
    "duration": 523,
    "start_time": "2023-06-01T14:52:51.259Z"
   },
   {
    "duration": 34,
    "start_time": "2023-06-01T14:52:51.784Z"
   },
   {
    "duration": 460,
    "start_time": "2023-06-01T14:52:51.820Z"
   },
   {
    "duration": 10,
    "start_time": "2023-06-01T14:52:52.283Z"
   },
   {
    "duration": 52,
    "start_time": "2023-06-01T14:52:52.295Z"
   },
   {
    "duration": 18,
    "start_time": "2023-06-01T14:52:52.349Z"
   },
   {
    "duration": 108,
    "start_time": "2023-06-01T14:52:52.368Z"
   },
   {
    "duration": 11,
    "start_time": "2023-06-01T14:52:52.477Z"
   },
   {
    "duration": 22,
    "start_time": "2023-06-01T14:52:52.490Z"
   },
   {
    "duration": 20,
    "start_time": "2023-06-01T14:52:52.514Z"
   },
   {
    "duration": 5,
    "start_time": "2023-06-01T14:52:52.536Z"
   },
   {
    "duration": 47,
    "start_time": "2023-06-01T14:52:52.542Z"
   },
   {
    "duration": 17,
    "start_time": "2023-06-01T14:52:52.590Z"
   },
   {
    "duration": 39,
    "start_time": "2023-06-01T14:52:52.609Z"
   },
   {
    "duration": 80,
    "start_time": "2023-06-01T14:52:52.650Z"
   },
   {
    "duration": 95,
    "start_time": "2023-06-01T14:52:52.732Z"
   },
   {
    "duration": 165,
    "start_time": "2023-06-01T14:52:52.828Z"
   },
   {
    "duration": 0,
    "start_time": "2023-06-01T14:52:52.994Z"
   },
   {
    "duration": 0,
    "start_time": "2023-06-01T14:52:52.996Z"
   },
   {
    "duration": 0,
    "start_time": "2023-06-01T14:52:53.007Z"
   },
   {
    "duration": 7,
    "start_time": "2023-06-01T14:56:00.860Z"
   },
   {
    "duration": 16,
    "start_time": "2023-06-01T14:56:15.468Z"
   },
   {
    "duration": 12,
    "start_time": "2023-06-01T14:57:11.420Z"
   },
   {
    "duration": 79,
    "start_time": "2023-06-01T14:57:32.780Z"
   },
   {
    "duration": 12,
    "start_time": "2023-06-01T14:57:35.819Z"
   },
   {
    "duration": 1022,
    "start_time": "2023-06-01T14:57:47.609Z"
   },
   {
    "duration": 183,
    "start_time": "2023-06-01T14:57:48.632Z"
   },
   {
    "duration": 13,
    "start_time": "2023-06-01T14:57:48.817Z"
   },
   {
    "duration": 29,
    "start_time": "2023-06-01T14:57:48.831Z"
   },
   {
    "duration": 187,
    "start_time": "2023-06-01T14:57:48.861Z"
   },
   {
    "duration": 22,
    "start_time": "2023-06-01T14:57:49.050Z"
   },
   {
    "duration": 5,
    "start_time": "2023-06-01T14:57:49.074Z"
   },
   {
    "duration": 72,
    "start_time": "2023-06-01T14:57:49.080Z"
   },
   {
    "duration": 27,
    "start_time": "2023-06-01T14:57:49.153Z"
   },
   {
    "duration": 29,
    "start_time": "2023-06-01T14:57:49.183Z"
   },
   {
    "duration": 74,
    "start_time": "2023-06-01T14:57:49.213Z"
   },
   {
    "duration": 94,
    "start_time": "2023-06-01T14:57:49.288Z"
   },
   {
    "duration": 24,
    "start_time": "2023-06-01T14:57:49.384Z"
   },
   {
    "duration": 33,
    "start_time": "2023-06-01T14:57:49.409Z"
   },
   {
    "duration": 44,
    "start_time": "2023-06-01T14:57:49.443Z"
   },
   {
    "duration": 42,
    "start_time": "2023-06-01T14:57:49.488Z"
   },
   {
    "duration": 3,
    "start_time": "2023-06-01T14:57:49.531Z"
   },
   {
    "duration": 14,
    "start_time": "2023-06-01T14:57:49.535Z"
   },
   {
    "duration": 41,
    "start_time": "2023-06-01T14:57:49.551Z"
   },
   {
    "duration": 38,
    "start_time": "2023-06-01T14:57:49.594Z"
   },
   {
    "duration": 18,
    "start_time": "2023-06-01T14:57:49.634Z"
   },
   {
    "duration": 14,
    "start_time": "2023-06-01T14:57:49.654Z"
   },
   {
    "duration": 36,
    "start_time": "2023-06-01T14:57:49.670Z"
   },
   {
    "duration": 482,
    "start_time": "2023-06-01T14:57:49.708Z"
   },
   {
    "duration": 499,
    "start_time": "2023-06-01T14:57:50.191Z"
   },
   {
    "duration": 30,
    "start_time": "2023-06-01T14:57:50.692Z"
   },
   {
    "duration": 412,
    "start_time": "2023-06-01T14:57:50.723Z"
   },
   {
    "duration": 10,
    "start_time": "2023-06-01T14:57:51.138Z"
   },
   {
    "duration": 47,
    "start_time": "2023-06-01T14:57:51.149Z"
   },
   {
    "duration": 17,
    "start_time": "2023-06-01T14:57:51.206Z"
   },
   {
    "duration": 67,
    "start_time": "2023-06-01T14:57:51.224Z"
   },
   {
    "duration": 7,
    "start_time": "2023-06-01T14:57:51.292Z"
   },
   {
    "duration": 22,
    "start_time": "2023-06-01T14:57:51.306Z"
   },
   {
    "duration": 32,
    "start_time": "2023-06-01T14:57:51.329Z"
   },
   {
    "duration": 11,
    "start_time": "2023-06-01T14:57:51.362Z"
   },
   {
    "duration": 40,
    "start_time": "2023-06-01T14:57:51.375Z"
   },
   {
    "duration": 2,
    "start_time": "2023-06-01T14:57:51.417Z"
   },
   {
    "duration": 35,
    "start_time": "2023-06-01T14:57:51.420Z"
   },
   {
    "duration": 66,
    "start_time": "2023-06-01T14:57:51.456Z"
   },
   {
    "duration": 95,
    "start_time": "2023-06-01T14:57:51.523Z"
   },
   {
    "duration": 162,
    "start_time": "2023-06-01T14:57:51.620Z"
   },
   {
    "duration": 0,
    "start_time": "2023-06-01T14:57:51.783Z"
   },
   {
    "duration": 0,
    "start_time": "2023-06-01T14:57:51.785Z"
   },
   {
    "duration": 0,
    "start_time": "2023-06-01T14:57:51.786Z"
   },
   {
    "duration": 16,
    "start_time": "2023-06-01T14:58:10.680Z"
   },
   {
    "duration": 1032,
    "start_time": "2023-06-01T14:58:17.110Z"
   },
   {
    "duration": 133,
    "start_time": "2023-06-01T14:58:18.143Z"
   },
   {
    "duration": 14,
    "start_time": "2023-06-01T14:58:18.277Z"
   },
   {
    "duration": 23,
    "start_time": "2023-06-01T14:58:18.294Z"
   },
   {
    "duration": 207,
    "start_time": "2023-06-01T14:58:18.319Z"
   },
   {
    "duration": 23,
    "start_time": "2023-06-01T14:58:18.528Z"
   },
   {
    "duration": 6,
    "start_time": "2023-06-01T14:58:18.553Z"
   },
   {
    "duration": 40,
    "start_time": "2023-06-01T14:58:18.561Z"
   },
   {
    "duration": 16,
    "start_time": "2023-06-01T14:58:18.603Z"
   },
   {
    "duration": 36,
    "start_time": "2023-06-01T14:58:18.623Z"
   },
   {
    "duration": 103,
    "start_time": "2023-06-01T14:58:18.661Z"
   },
   {
    "duration": 78,
    "start_time": "2023-06-01T14:58:18.765Z"
   },
   {
    "duration": 18,
    "start_time": "2023-06-01T14:58:18.845Z"
   },
   {
    "duration": 21,
    "start_time": "2023-06-01T14:58:18.865Z"
   },
   {
    "duration": 35,
    "start_time": "2023-06-01T14:58:18.888Z"
   },
   {
    "duration": 40,
    "start_time": "2023-06-01T14:58:18.925Z"
   },
   {
    "duration": 3,
    "start_time": "2023-06-01T14:58:18.966Z"
   },
   {
    "duration": 16,
    "start_time": "2023-06-01T14:58:18.970Z"
   },
   {
    "duration": 35,
    "start_time": "2023-06-01T14:58:18.987Z"
   },
   {
    "duration": 37,
    "start_time": "2023-06-01T14:58:19.024Z"
   },
   {
    "duration": 17,
    "start_time": "2023-06-01T14:58:19.062Z"
   },
   {
    "duration": 27,
    "start_time": "2023-06-01T14:58:19.081Z"
   },
   {
    "duration": 4,
    "start_time": "2023-06-01T14:58:19.109Z"
   },
   {
    "duration": 294,
    "start_time": "2023-06-01T14:58:19.114Z"
   },
   {
    "duration": 479,
    "start_time": "2023-06-01T14:58:19.409Z"
   },
   {
    "duration": 33,
    "start_time": "2023-06-01T14:58:19.890Z"
   },
   {
    "duration": 219,
    "start_time": "2023-06-01T14:58:19.927Z"
   },
   {
    "duration": 10,
    "start_time": "2023-06-01T14:58:20.150Z"
   },
   {
    "duration": 48,
    "start_time": "2023-06-01T14:58:20.161Z"
   },
   {
    "duration": 18,
    "start_time": "2023-06-01T14:58:20.210Z"
   },
   {
    "duration": 67,
    "start_time": "2023-06-01T14:58:20.229Z"
   },
   {
    "duration": 11,
    "start_time": "2023-06-01T14:58:20.297Z"
   },
   {
    "duration": 81,
    "start_time": "2023-06-01T14:58:20.309Z"
   },
   {
    "duration": 5,
    "start_time": "2023-06-01T14:58:20.391Z"
   },
   {
    "duration": 2,
    "start_time": "2023-06-01T14:58:20.398Z"
   },
   {
    "duration": 35,
    "start_time": "2023-06-01T14:58:20.402Z"
   },
   {
    "duration": 3,
    "start_time": "2023-06-01T14:58:20.439Z"
   },
   {
    "duration": 36,
    "start_time": "2023-06-01T14:58:20.443Z"
   },
   {
    "duration": 59,
    "start_time": "2023-06-01T14:58:20.480Z"
   },
   {
    "duration": 93,
    "start_time": "2023-06-01T14:58:20.541Z"
   },
   {
    "duration": 162,
    "start_time": "2023-06-01T14:58:20.636Z"
   },
   {
    "duration": 0,
    "start_time": "2023-06-01T14:58:20.800Z"
   },
   {
    "duration": 0,
    "start_time": "2023-06-01T14:58:20.806Z"
   },
   {
    "duration": 0,
    "start_time": "2023-06-01T14:58:20.807Z"
   },
   {
    "duration": 71,
    "start_time": "2023-06-01T15:00:19.018Z"
   },
   {
    "duration": 73,
    "start_time": "2023-06-01T15:01:12.949Z"
   },
   {
    "duration": 60,
    "start_time": "2023-06-01T15:01:39.882Z"
   },
   {
    "duration": 46,
    "start_time": "2023-06-01T15:02:02.248Z"
   },
   {
    "duration": 8,
    "start_time": "2023-06-01T15:09:05.672Z"
   },
   {
    "duration": 4,
    "start_time": "2023-06-01T15:24:48.800Z"
   },
   {
    "duration": 17,
    "start_time": "2023-06-01T15:24:55.201Z"
   },
   {
    "duration": 15,
    "start_time": "2023-06-01T15:25:08.103Z"
   },
   {
    "duration": 16,
    "start_time": "2023-06-01T15:25:11.268Z"
   },
   {
    "duration": 87,
    "start_time": "2023-06-01T15:29:12.194Z"
   },
   {
    "duration": 16,
    "start_time": "2023-06-01T15:29:15.184Z"
   },
   {
    "duration": 1166,
    "start_time": "2023-06-01T15:29:31.983Z"
   },
   {
    "duration": 142,
    "start_time": "2023-06-01T15:29:33.151Z"
   },
   {
    "duration": 17,
    "start_time": "2023-06-01T15:29:33.294Z"
   },
   {
    "duration": 14,
    "start_time": "2023-06-01T15:29:33.313Z"
   },
   {
    "duration": 236,
    "start_time": "2023-06-01T15:29:33.329Z"
   },
   {
    "duration": 24,
    "start_time": "2023-06-01T15:29:33.567Z"
   },
   {
    "duration": 45,
    "start_time": "2023-06-01T15:29:33.593Z"
   },
   {
    "duration": 827,
    "start_time": "2023-06-01T15:29:33.639Z"
   },
   {
    "duration": 0,
    "start_time": "2023-06-01T15:29:34.469Z"
   },
   {
    "duration": 0,
    "start_time": "2023-06-01T15:29:34.470Z"
   },
   {
    "duration": 0,
    "start_time": "2023-06-01T15:29:34.471Z"
   },
   {
    "duration": 0,
    "start_time": "2023-06-01T15:29:34.472Z"
   },
   {
    "duration": 0,
    "start_time": "2023-06-01T15:29:34.474Z"
   },
   {
    "duration": 0,
    "start_time": "2023-06-01T15:29:34.475Z"
   },
   {
    "duration": 0,
    "start_time": "2023-06-01T15:29:34.476Z"
   },
   {
    "duration": 0,
    "start_time": "2023-06-01T15:29:34.478Z"
   },
   {
    "duration": 0,
    "start_time": "2023-06-01T15:29:34.479Z"
   },
   {
    "duration": 0,
    "start_time": "2023-06-01T15:29:34.481Z"
   },
   {
    "duration": 0,
    "start_time": "2023-06-01T15:29:34.482Z"
   },
   {
    "duration": 0,
    "start_time": "2023-06-01T15:29:34.483Z"
   },
   {
    "duration": 0,
    "start_time": "2023-06-01T15:29:34.485Z"
   },
   {
    "duration": 0,
    "start_time": "2023-06-01T15:29:34.486Z"
   },
   {
    "duration": 0,
    "start_time": "2023-06-01T15:29:34.487Z"
   },
   {
    "duration": 0,
    "start_time": "2023-06-01T15:29:34.489Z"
   },
   {
    "duration": 0,
    "start_time": "2023-06-01T15:29:34.490Z"
   },
   {
    "duration": 0,
    "start_time": "2023-06-01T15:29:34.491Z"
   },
   {
    "duration": 0,
    "start_time": "2023-06-01T15:29:34.492Z"
   },
   {
    "duration": 0,
    "start_time": "2023-06-01T15:29:34.494Z"
   },
   {
    "duration": 0,
    "start_time": "2023-06-01T15:29:34.495Z"
   },
   {
    "duration": 0,
    "start_time": "2023-06-01T15:29:34.497Z"
   },
   {
    "duration": 0,
    "start_time": "2023-06-01T15:29:34.498Z"
   },
   {
    "duration": 0,
    "start_time": "2023-06-01T15:29:34.500Z"
   },
   {
    "duration": 0,
    "start_time": "2023-06-01T15:29:34.501Z"
   },
   {
    "duration": 0,
    "start_time": "2023-06-01T15:29:34.502Z"
   },
   {
    "duration": 0,
    "start_time": "2023-06-01T15:29:34.503Z"
   },
   {
    "duration": 0,
    "start_time": "2023-06-01T15:29:34.504Z"
   },
   {
    "duration": 0,
    "start_time": "2023-06-01T15:29:34.506Z"
   },
   {
    "duration": 0,
    "start_time": "2023-06-01T15:29:34.507Z"
   },
   {
    "duration": 0,
    "start_time": "2023-06-01T15:29:34.509Z"
   },
   {
    "duration": 0,
    "start_time": "2023-06-01T15:29:34.510Z"
   },
   {
    "duration": 0,
    "start_time": "2023-06-01T15:29:34.511Z"
   },
   {
    "duration": 0,
    "start_time": "2023-06-01T15:29:34.512Z"
   },
   {
    "duration": 0,
    "start_time": "2023-06-01T15:29:34.513Z"
   },
   {
    "duration": 0,
    "start_time": "2023-06-01T15:29:34.515Z"
   },
   {
    "duration": 105,
    "start_time": "2023-06-01T15:30:38.520Z"
   },
   {
    "duration": 16,
    "start_time": "2023-06-01T15:30:46.401Z"
   },
   {
    "duration": 1025,
    "start_time": "2023-06-01T15:30:58.108Z"
   },
   {
    "duration": 153,
    "start_time": "2023-06-01T15:30:59.135Z"
   },
   {
    "duration": 20,
    "start_time": "2023-06-01T15:30:59.290Z"
   },
   {
    "duration": 14,
    "start_time": "2023-06-01T15:30:59.312Z"
   },
   {
    "duration": 220,
    "start_time": "2023-06-01T15:30:59.327Z"
   },
   {
    "duration": 23,
    "start_time": "2023-06-01T15:30:59.548Z"
   },
   {
    "duration": 6,
    "start_time": "2023-06-01T15:30:59.572Z"
   },
   {
    "duration": 127,
    "start_time": "2023-06-01T15:30:59.579Z"
   },
   {
    "duration": 14,
    "start_time": "2023-06-01T15:30:59.707Z"
   },
   {
    "duration": 20,
    "start_time": "2023-06-01T15:30:59.724Z"
   },
   {
    "duration": 94,
    "start_time": "2023-06-01T15:30:59.745Z"
   },
   {
    "duration": 100,
    "start_time": "2023-06-01T15:30:59.840Z"
   },
   {
    "duration": 18,
    "start_time": "2023-06-01T15:30:59.942Z"
   },
   {
    "duration": 27,
    "start_time": "2023-06-01T15:30:59.961Z"
   },
   {
    "duration": 39,
    "start_time": "2023-06-01T15:30:59.990Z"
   },
   {
    "duration": 59,
    "start_time": "2023-06-01T15:31:00.030Z"
   },
   {
    "duration": 2,
    "start_time": "2023-06-01T15:31:00.090Z"
   },
   {
    "duration": 45,
    "start_time": "2023-06-01T15:31:00.094Z"
   },
   {
    "duration": 51,
    "start_time": "2023-06-01T15:31:00.140Z"
   },
   {
    "duration": 59,
    "start_time": "2023-06-01T15:31:00.193Z"
   },
   {
    "duration": 19,
    "start_time": "2023-06-01T15:31:00.253Z"
   },
   {
    "duration": 24,
    "start_time": "2023-06-01T15:31:00.273Z"
   },
   {
    "duration": 38,
    "start_time": "2023-06-01T15:31:00.298Z"
   },
   {
    "duration": 327,
    "start_time": "2023-06-01T15:31:00.338Z"
   },
   {
    "duration": 558,
    "start_time": "2023-06-01T15:31:00.666Z"
   },
   {
    "duration": 33,
    "start_time": "2023-06-01T15:31:01.226Z"
   },
   {
    "duration": 233,
    "start_time": "2023-06-01T15:31:01.261Z"
   },
   {
    "duration": 12,
    "start_time": "2023-06-01T15:31:01.497Z"
   },
   {
    "duration": 76,
    "start_time": "2023-06-01T15:31:01.511Z"
   },
   {
    "duration": 18,
    "start_time": "2023-06-01T15:31:01.588Z"
   },
   {
    "duration": 85,
    "start_time": "2023-06-01T15:31:01.608Z"
   },
   {
    "duration": 10,
    "start_time": "2023-06-01T15:31:01.694Z"
   },
   {
    "duration": 46,
    "start_time": "2023-06-01T15:31:01.705Z"
   },
   {
    "duration": 41,
    "start_time": "2023-06-01T15:31:01.753Z"
   },
   {
    "duration": 31,
    "start_time": "2023-06-01T15:31:01.797Z"
   },
   {
    "duration": 74,
    "start_time": "2023-06-01T15:31:01.830Z"
   },
   {
    "duration": 14,
    "start_time": "2023-06-01T15:31:01.906Z"
   },
   {
    "duration": 47,
    "start_time": "2023-06-01T15:31:01.921Z"
   },
   {
    "duration": 61,
    "start_time": "2023-06-01T15:31:01.970Z"
   },
   {
    "duration": 89,
    "start_time": "2023-06-01T15:31:02.033Z"
   },
   {
    "duration": 184,
    "start_time": "2023-06-01T15:31:02.124Z"
   },
   {
    "duration": 0,
    "start_time": "2023-06-01T15:31:02.310Z"
   },
   {
    "duration": 0,
    "start_time": "2023-06-01T15:31:02.311Z"
   },
   {
    "duration": 0,
    "start_time": "2023-06-01T15:31:02.312Z"
   },
   {
    "duration": 1144,
    "start_time": "2023-06-01T15:31:31.387Z"
   },
   {
    "duration": 150,
    "start_time": "2023-06-01T15:31:32.534Z"
   },
   {
    "duration": 15,
    "start_time": "2023-06-01T15:31:32.686Z"
   },
   {
    "duration": 15,
    "start_time": "2023-06-01T15:31:32.706Z"
   },
   {
    "duration": 224,
    "start_time": "2023-06-01T15:31:32.722Z"
   },
   {
    "duration": 23,
    "start_time": "2023-06-01T15:31:32.947Z"
   },
   {
    "duration": 8,
    "start_time": "2023-06-01T15:31:32.972Z"
   },
   {
    "duration": 86,
    "start_time": "2023-06-01T15:31:32.981Z"
   },
   {
    "duration": 19,
    "start_time": "2023-06-01T15:31:33.069Z"
   },
   {
    "duration": 36,
    "start_time": "2023-06-01T15:31:33.092Z"
   },
   {
    "duration": 89,
    "start_time": "2023-06-01T15:31:33.130Z"
   },
   {
    "duration": 116,
    "start_time": "2023-06-01T15:31:33.221Z"
   },
   {
    "duration": 20,
    "start_time": "2023-06-01T15:31:33.338Z"
   },
   {
    "duration": 24,
    "start_time": "2023-06-01T15:31:33.360Z"
   },
   {
    "duration": 47,
    "start_time": "2023-06-01T15:31:33.385Z"
   },
   {
    "duration": 41,
    "start_time": "2023-06-01T15:31:33.434Z"
   },
   {
    "duration": 2,
    "start_time": "2023-06-01T15:31:33.476Z"
   },
   {
    "duration": 18,
    "start_time": "2023-06-01T15:31:33.480Z"
   },
   {
    "duration": 31,
    "start_time": "2023-06-01T15:31:33.506Z"
   },
   {
    "duration": 40,
    "start_time": "2023-06-01T15:31:33.538Z"
   },
   {
    "duration": 39,
    "start_time": "2023-06-01T15:31:33.580Z"
   },
   {
    "duration": 17,
    "start_time": "2023-06-01T15:31:33.621Z"
   },
   {
    "duration": 32,
    "start_time": "2023-06-01T15:31:33.640Z"
   },
   {
    "duration": 524,
    "start_time": "2023-06-01T15:31:33.674Z"
   },
   {
    "duration": 536,
    "start_time": "2023-06-01T15:31:34.199Z"
   },
   {
    "duration": 30,
    "start_time": "2023-06-01T15:31:34.736Z"
   },
   {
    "duration": 428,
    "start_time": "2023-06-01T15:31:34.767Z"
   },
   {
    "duration": 10,
    "start_time": "2023-06-01T15:31:35.205Z"
   },
   {
    "duration": 44,
    "start_time": "2023-06-01T15:31:35.217Z"
   },
   {
    "duration": 17,
    "start_time": "2023-06-01T15:31:35.263Z"
   },
   {
    "duration": 76,
    "start_time": "2023-06-01T15:31:35.281Z"
   },
   {
    "duration": 7,
    "start_time": "2023-06-01T15:31:35.358Z"
   },
   {
    "duration": 19,
    "start_time": "2023-06-01T15:31:35.367Z"
   },
   {
    "duration": 20,
    "start_time": "2023-06-01T15:31:35.387Z"
   },
   {
    "duration": 11,
    "start_time": "2023-06-01T15:31:35.408Z"
   },
   {
    "duration": 51,
    "start_time": "2023-06-01T15:31:35.420Z"
   },
   {
    "duration": 9,
    "start_time": "2023-06-01T15:31:35.473Z"
   },
   {
    "duration": 34,
    "start_time": "2023-06-01T15:31:35.483Z"
   },
   {
    "duration": 61,
    "start_time": "2023-06-01T15:31:35.519Z"
   },
   {
    "duration": 94,
    "start_time": "2023-06-01T15:31:35.582Z"
   },
   {
    "duration": 183,
    "start_time": "2023-06-01T15:31:35.678Z"
   },
   {
    "duration": 0,
    "start_time": "2023-06-01T15:31:35.863Z"
   },
   {
    "duration": 0,
    "start_time": "2023-06-01T15:31:35.864Z"
   },
   {
    "duration": 0,
    "start_time": "2023-06-01T15:31:35.865Z"
   },
   {
    "duration": 1033,
    "start_time": "2023-06-01T15:32:09.906Z"
   },
   {
    "duration": 142,
    "start_time": "2023-06-01T15:32:10.941Z"
   },
   {
    "duration": 14,
    "start_time": "2023-06-01T15:32:11.085Z"
   },
   {
    "duration": 13,
    "start_time": "2023-06-01T15:32:11.106Z"
   },
   {
    "duration": 214,
    "start_time": "2023-06-01T15:32:11.121Z"
   },
   {
    "duration": 23,
    "start_time": "2023-06-01T15:32:11.336Z"
   },
   {
    "duration": 6,
    "start_time": "2023-06-01T15:32:11.360Z"
   },
   {
    "duration": 106,
    "start_time": "2023-06-01T15:32:11.368Z"
   },
   {
    "duration": 13,
    "start_time": "2023-06-01T15:32:11.476Z"
   },
   {
    "duration": 33,
    "start_time": "2023-06-01T15:32:11.490Z"
   },
   {
    "duration": 68,
    "start_time": "2023-06-01T15:32:11.524Z"
   },
   {
    "duration": 95,
    "start_time": "2023-06-01T15:32:11.594Z"
   },
   {
    "duration": 24,
    "start_time": "2023-06-01T15:32:11.691Z"
   },
   {
    "duration": 36,
    "start_time": "2023-06-01T15:32:11.718Z"
   },
   {
    "duration": 28,
    "start_time": "2023-06-01T15:32:11.755Z"
   },
   {
    "duration": 46,
    "start_time": "2023-06-01T15:32:11.784Z"
   },
   {
    "duration": 2,
    "start_time": "2023-06-01T15:32:11.831Z"
   },
   {
    "duration": 10,
    "start_time": "2023-06-01T15:32:11.835Z"
   },
   {
    "duration": 34,
    "start_time": "2023-06-01T15:32:11.846Z"
   },
   {
    "duration": 50,
    "start_time": "2023-06-01T15:32:11.882Z"
   },
   {
    "duration": 17,
    "start_time": "2023-06-01T15:32:11.933Z"
   },
   {
    "duration": 4,
    "start_time": "2023-06-01T15:32:11.952Z"
   },
   {
    "duration": 11,
    "start_time": "2023-06-01T15:32:11.957Z"
   },
   {
    "duration": 318,
    "start_time": "2023-06-01T15:32:11.970Z"
   },
   {
    "duration": 603,
    "start_time": "2023-06-01T15:32:12.290Z"
   },
   {
    "duration": 43,
    "start_time": "2023-06-01T15:32:12.895Z"
   },
   {
    "duration": 230,
    "start_time": "2023-06-01T15:32:12.940Z"
   },
   {
    "duration": 11,
    "start_time": "2023-06-01T15:32:13.172Z"
   },
   {
    "duration": 55,
    "start_time": "2023-06-01T15:32:13.185Z"
   },
   {
    "duration": 19,
    "start_time": "2023-06-01T15:32:13.241Z"
   },
   {
    "duration": 71,
    "start_time": "2023-06-01T15:32:13.261Z"
   },
   {
    "duration": 8,
    "start_time": "2023-06-01T15:32:13.333Z"
   },
   {
    "duration": 14,
    "start_time": "2023-06-01T15:32:13.342Z"
   },
   {
    "duration": 14,
    "start_time": "2023-06-01T15:32:13.358Z"
   },
   {
    "duration": 3,
    "start_time": "2023-06-01T15:32:13.373Z"
   },
   {
    "duration": 62,
    "start_time": "2023-06-01T15:32:13.377Z"
   },
   {
    "duration": 2,
    "start_time": "2023-06-01T15:32:13.441Z"
   },
   {
    "duration": 32,
    "start_time": "2023-06-01T15:32:13.444Z"
   },
   {
    "duration": 66,
    "start_time": "2023-06-01T15:32:13.477Z"
   },
   {
    "duration": 95,
    "start_time": "2023-06-01T15:32:13.545Z"
   },
   {
    "duration": 164,
    "start_time": "2023-06-01T15:32:13.642Z"
   },
   {
    "duration": 0,
    "start_time": "2023-06-01T15:32:13.807Z"
   },
   {
    "duration": 1,
    "start_time": "2023-06-01T15:32:13.808Z"
   },
   {
    "duration": 0,
    "start_time": "2023-06-01T15:32:13.810Z"
   },
   {
    "duration": 998,
    "start_time": "2023-06-01T15:47:04.925Z"
   },
   {
    "duration": 147,
    "start_time": "2023-06-01T15:47:05.925Z"
   },
   {
    "duration": 14,
    "start_time": "2023-06-01T15:47:06.073Z"
   },
   {
    "duration": 26,
    "start_time": "2023-06-01T15:47:06.089Z"
   },
   {
    "duration": 214,
    "start_time": "2023-06-01T15:47:06.117Z"
   },
   {
    "duration": 24,
    "start_time": "2023-06-01T15:47:06.333Z"
   },
   {
    "duration": 7,
    "start_time": "2023-06-01T15:47:06.359Z"
   },
   {
    "duration": 106,
    "start_time": "2023-06-01T15:47:06.368Z"
   },
   {
    "duration": 15,
    "start_time": "2023-06-01T15:47:06.476Z"
   },
   {
    "duration": 20,
    "start_time": "2023-06-01T15:47:06.506Z"
   },
   {
    "duration": 88,
    "start_time": "2023-06-01T15:47:06.528Z"
   },
   {
    "duration": 96,
    "start_time": "2023-06-01T15:47:06.618Z"
   },
   {
    "duration": 17,
    "start_time": "2023-06-01T15:47:06.716Z"
   },
   {
    "duration": 20,
    "start_time": "2023-06-01T15:47:06.735Z"
   },
   {
    "duration": 31,
    "start_time": "2023-06-01T15:47:06.757Z"
   },
   {
    "duration": 56,
    "start_time": "2023-06-01T15:47:06.790Z"
   },
   {
    "duration": 2,
    "start_time": "2023-06-01T15:47:06.847Z"
   },
   {
    "duration": 4,
    "start_time": "2023-06-01T15:47:06.850Z"
   },
   {
    "duration": 26,
    "start_time": "2023-06-01T15:47:06.856Z"
   },
   {
    "duration": 58,
    "start_time": "2023-06-01T15:47:06.884Z"
   },
   {
    "duration": 17,
    "start_time": "2023-06-01T15:47:06.944Z"
   },
   {
    "duration": 3,
    "start_time": "2023-06-01T15:47:06.963Z"
   },
   {
    "duration": 10,
    "start_time": "2023-06-01T15:47:06.968Z"
   },
   {
    "duration": 316,
    "start_time": "2023-06-01T15:47:06.979Z"
   },
   {
    "duration": 485,
    "start_time": "2023-06-01T15:47:07.297Z"
   },
   {
    "duration": 31,
    "start_time": "2023-06-01T15:47:07.784Z"
   },
   {
    "duration": 220,
    "start_time": "2023-06-01T15:47:07.817Z"
   },
   {
    "duration": 10,
    "start_time": "2023-06-01T15:47:08.039Z"
   },
   {
    "duration": 39,
    "start_time": "2023-06-01T15:47:08.051Z"
   },
   {
    "duration": 29,
    "start_time": "2023-06-01T15:47:08.092Z"
   },
   {
    "duration": 59,
    "start_time": "2023-06-01T15:47:08.122Z"
   },
   {
    "duration": 25,
    "start_time": "2023-06-01T15:47:08.182Z"
   },
   {
    "duration": 15,
    "start_time": "2023-06-01T15:47:08.208Z"
   },
   {
    "duration": 9,
    "start_time": "2023-06-01T15:47:08.224Z"
   },
   {
    "duration": 10,
    "start_time": "2023-06-01T15:47:08.234Z"
   },
   {
    "duration": 48,
    "start_time": "2023-06-01T15:47:08.246Z"
   },
   {
    "duration": 2,
    "start_time": "2023-06-01T15:47:08.296Z"
   },
   {
    "duration": 45,
    "start_time": "2023-06-01T15:47:08.300Z"
   },
   {
    "duration": 64,
    "start_time": "2023-06-01T15:47:08.347Z"
   },
   {
    "duration": 98,
    "start_time": "2023-06-01T15:47:08.414Z"
   },
   {
    "duration": 195,
    "start_time": "2023-06-01T15:47:08.514Z"
   },
   {
    "duration": 0,
    "start_time": "2023-06-01T15:47:08.711Z"
   },
   {
    "duration": 0,
    "start_time": "2023-06-01T15:47:08.712Z"
   },
   {
    "duration": 0,
    "start_time": "2023-06-01T15:47:08.713Z"
   },
   {
    "duration": 18,
    "start_time": "2023-06-01T15:58:00.308Z"
   },
   {
    "duration": 46,
    "start_time": "2023-06-01T15:59:18.592Z"
   },
   {
    "duration": 18,
    "start_time": "2023-06-01T15:59:38.928Z"
   },
   {
    "duration": 1037,
    "start_time": "2023-06-01T16:00:06.004Z"
   },
   {
    "duration": 141,
    "start_time": "2023-06-01T16:00:07.043Z"
   },
   {
    "duration": 21,
    "start_time": "2023-06-01T16:00:07.186Z"
   },
   {
    "duration": 13,
    "start_time": "2023-06-01T16:00:07.208Z"
   },
   {
    "duration": 220,
    "start_time": "2023-06-01T16:00:07.223Z"
   },
   {
    "duration": 21,
    "start_time": "2023-06-01T16:00:07.445Z"
   },
   {
    "duration": 12,
    "start_time": "2023-06-01T16:00:07.468Z"
   },
   {
    "duration": 100,
    "start_time": "2023-06-01T16:00:07.481Z"
   },
   {
    "duration": 13,
    "start_time": "2023-06-01T16:00:07.583Z"
   },
   {
    "duration": 28,
    "start_time": "2023-06-01T16:00:07.597Z"
   },
   {
    "duration": 81,
    "start_time": "2023-06-01T16:00:07.626Z"
   },
   {
    "duration": 83,
    "start_time": "2023-06-01T16:00:07.709Z"
   },
   {
    "duration": 33,
    "start_time": "2023-06-01T16:00:07.794Z"
   },
   {
    "duration": 50,
    "start_time": "2023-06-01T16:00:07.831Z"
   },
   {
    "duration": 0,
    "start_time": "2023-06-01T16:00:07.883Z"
   },
   {
    "duration": 0,
    "start_time": "2023-06-01T16:00:07.884Z"
   },
   {
    "duration": 0,
    "start_time": "2023-06-01T16:00:07.885Z"
   },
   {
    "duration": 0,
    "start_time": "2023-06-01T16:00:07.886Z"
   },
   {
    "duration": 0,
    "start_time": "2023-06-01T16:00:07.887Z"
   },
   {
    "duration": 0,
    "start_time": "2023-06-01T16:00:07.888Z"
   },
   {
    "duration": 0,
    "start_time": "2023-06-01T16:00:07.889Z"
   },
   {
    "duration": 0,
    "start_time": "2023-06-01T16:00:07.890Z"
   },
   {
    "duration": 0,
    "start_time": "2023-06-01T16:00:07.891Z"
   },
   {
    "duration": 0,
    "start_time": "2023-06-01T16:00:07.892Z"
   },
   {
    "duration": 0,
    "start_time": "2023-06-01T16:00:07.893Z"
   },
   {
    "duration": 0,
    "start_time": "2023-06-01T16:00:07.894Z"
   },
   {
    "duration": 0,
    "start_time": "2023-06-01T16:00:07.895Z"
   },
   {
    "duration": 0,
    "start_time": "2023-06-01T16:00:07.895Z"
   },
   {
    "duration": 0,
    "start_time": "2023-06-01T16:00:07.896Z"
   },
   {
    "duration": 0,
    "start_time": "2023-06-01T16:00:07.897Z"
   },
   {
    "duration": 0,
    "start_time": "2023-06-01T16:00:07.898Z"
   },
   {
    "duration": 0,
    "start_time": "2023-06-01T16:00:07.899Z"
   },
   {
    "duration": 0,
    "start_time": "2023-06-01T16:00:07.900Z"
   },
   {
    "duration": 0,
    "start_time": "2023-06-01T16:00:07.901Z"
   },
   {
    "duration": 0,
    "start_time": "2023-06-01T16:00:07.902Z"
   },
   {
    "duration": 0,
    "start_time": "2023-06-01T16:00:07.903Z"
   },
   {
    "duration": 0,
    "start_time": "2023-06-01T16:00:07.903Z"
   },
   {
    "duration": 0,
    "start_time": "2023-06-01T16:00:07.906Z"
   },
   {
    "duration": 0,
    "start_time": "2023-06-01T16:00:07.906Z"
   },
   {
    "duration": 0,
    "start_time": "2023-06-01T16:00:07.907Z"
   },
   {
    "duration": 0,
    "start_time": "2023-06-01T16:00:07.908Z"
   },
   {
    "duration": 0,
    "start_time": "2023-06-01T16:00:07.909Z"
   },
   {
    "duration": 0,
    "start_time": "2023-06-01T16:00:07.910Z"
   },
   {
    "duration": 0,
    "start_time": "2023-06-01T16:00:07.910Z"
   },
   {
    "duration": 0,
    "start_time": "2023-06-01T16:00:07.911Z"
   },
   {
    "duration": 53,
    "start_time": "2023-06-01T16:00:26.188Z"
   },
   {
    "duration": 100,
    "start_time": "2023-06-01T16:05:53.893Z"
   },
   {
    "duration": 41,
    "start_time": "2023-06-01T16:06:33.565Z"
   },
   {
    "duration": 1069,
    "start_time": "2023-06-01T16:06:54.596Z"
   },
   {
    "duration": 152,
    "start_time": "2023-06-01T16:06:55.669Z"
   },
   {
    "duration": 15,
    "start_time": "2023-06-01T16:06:55.823Z"
   },
   {
    "duration": 20,
    "start_time": "2023-06-01T16:06:55.839Z"
   },
   {
    "duration": 228,
    "start_time": "2023-06-01T16:06:55.861Z"
   },
   {
    "duration": 27,
    "start_time": "2023-06-01T16:06:56.091Z"
   },
   {
    "duration": 8,
    "start_time": "2023-06-01T16:06:56.120Z"
   },
   {
    "duration": 117,
    "start_time": "2023-06-01T16:06:56.130Z"
   },
   {
    "duration": 14,
    "start_time": "2023-06-01T16:06:56.251Z"
   },
   {
    "duration": 19,
    "start_time": "2023-06-01T16:06:56.266Z"
   },
   {
    "duration": 95,
    "start_time": "2023-06-01T16:06:56.287Z"
   },
   {
    "duration": 108,
    "start_time": "2023-06-01T16:06:56.384Z"
   },
   {
    "duration": 34,
    "start_time": "2023-06-01T16:06:56.493Z"
   },
   {
    "duration": 125,
    "start_time": "2023-06-01T16:06:56.528Z"
   },
   {
    "duration": 0,
    "start_time": "2023-06-01T16:06:56.655Z"
   },
   {
    "duration": 0,
    "start_time": "2023-06-01T16:06:56.656Z"
   },
   {
    "duration": 1,
    "start_time": "2023-06-01T16:06:56.657Z"
   },
   {
    "duration": 0,
    "start_time": "2023-06-01T16:06:56.658Z"
   },
   {
    "duration": 0,
    "start_time": "2023-06-01T16:06:56.659Z"
   },
   {
    "duration": 0,
    "start_time": "2023-06-01T16:06:56.660Z"
   },
   {
    "duration": 0,
    "start_time": "2023-06-01T16:06:56.661Z"
   },
   {
    "duration": 0,
    "start_time": "2023-06-01T16:06:56.661Z"
   },
   {
    "duration": 0,
    "start_time": "2023-06-01T16:06:56.662Z"
   },
   {
    "duration": 0,
    "start_time": "2023-06-01T16:06:56.663Z"
   },
   {
    "duration": 0,
    "start_time": "2023-06-01T16:06:56.664Z"
   },
   {
    "duration": 0,
    "start_time": "2023-06-01T16:06:56.664Z"
   },
   {
    "duration": 0,
    "start_time": "2023-06-01T16:06:56.665Z"
   },
   {
    "duration": 0,
    "start_time": "2023-06-01T16:06:56.666Z"
   },
   {
    "duration": 0,
    "start_time": "2023-06-01T16:06:56.667Z"
   },
   {
    "duration": 0,
    "start_time": "2023-06-01T16:06:56.668Z"
   },
   {
    "duration": 0,
    "start_time": "2023-06-01T16:06:56.668Z"
   },
   {
    "duration": 0,
    "start_time": "2023-06-01T16:06:56.669Z"
   },
   {
    "duration": 0,
    "start_time": "2023-06-01T16:06:56.670Z"
   },
   {
    "duration": 0,
    "start_time": "2023-06-01T16:06:56.671Z"
   },
   {
    "duration": 0,
    "start_time": "2023-06-01T16:06:56.672Z"
   },
   {
    "duration": 0,
    "start_time": "2023-06-01T16:06:56.673Z"
   },
   {
    "duration": 0,
    "start_time": "2023-06-01T16:06:56.674Z"
   },
   {
    "duration": 0,
    "start_time": "2023-06-01T16:06:56.675Z"
   },
   {
    "duration": 0,
    "start_time": "2023-06-01T16:06:56.676Z"
   },
   {
    "duration": 0,
    "start_time": "2023-06-01T16:06:56.707Z"
   },
   {
    "duration": 0,
    "start_time": "2023-06-01T16:06:56.707Z"
   },
   {
    "duration": 0,
    "start_time": "2023-06-01T16:06:56.709Z"
   },
   {
    "duration": 0,
    "start_time": "2023-06-01T16:06:56.710Z"
   },
   {
    "duration": 0,
    "start_time": "2023-06-01T16:06:56.712Z"
   },
   {
    "duration": 0,
    "start_time": "2023-06-01T16:06:56.713Z"
   },
   {
    "duration": 33,
    "start_time": "2023-06-01T16:07:47.106Z"
   },
   {
    "duration": 34,
    "start_time": "2023-06-01T16:08:20.773Z"
   },
   {
    "duration": 36,
    "start_time": "2023-06-01T16:09:48.516Z"
   },
   {
    "duration": 54,
    "start_time": "2023-06-01T16:11:54.092Z"
   },
   {
    "duration": 53,
    "start_time": "2023-06-01T16:12:22.765Z"
   },
   {
    "duration": 4,
    "start_time": "2023-06-01T16:13:00.796Z"
   },
   {
    "duration": 50,
    "start_time": "2023-06-01T16:13:05.787Z"
   },
   {
    "duration": 5,
    "start_time": "2023-06-01T16:14:04.615Z"
   },
   {
    "duration": 1034,
    "start_time": "2023-06-01T16:14:43.916Z"
   },
   {
    "duration": 693,
    "start_time": "2023-06-01T16:14:44.952Z"
   },
   {
    "duration": 13,
    "start_time": "2023-06-01T16:14:45.647Z"
   },
   {
    "duration": 18,
    "start_time": "2023-06-01T16:14:45.661Z"
   },
   {
    "duration": 211,
    "start_time": "2023-06-01T16:14:45.681Z"
   },
   {
    "duration": 27,
    "start_time": "2023-06-01T16:14:45.893Z"
   },
   {
    "duration": 7,
    "start_time": "2023-06-01T16:14:45.921Z"
   },
   {
    "duration": 107,
    "start_time": "2023-06-01T16:14:45.929Z"
   },
   {
    "duration": 13,
    "start_time": "2023-06-01T16:14:46.037Z"
   },
   {
    "duration": 22,
    "start_time": "2023-06-01T16:14:46.051Z"
   },
   {
    "duration": 93,
    "start_time": "2023-06-01T16:14:46.074Z"
   },
   {
    "duration": 97,
    "start_time": "2023-06-01T16:14:46.169Z"
   },
   {
    "duration": 22,
    "start_time": "2023-06-01T16:14:46.268Z"
   },
   {
    "duration": 173,
    "start_time": "2023-06-01T16:14:46.293Z"
   },
   {
    "duration": 0,
    "start_time": "2023-06-01T16:14:46.468Z"
   },
   {
    "duration": 0,
    "start_time": "2023-06-01T16:14:46.469Z"
   },
   {
    "duration": 1,
    "start_time": "2023-06-01T16:14:46.469Z"
   },
   {
    "duration": 0,
    "start_time": "2023-06-01T16:14:46.470Z"
   },
   {
    "duration": 0,
    "start_time": "2023-06-01T16:14:46.471Z"
   },
   {
    "duration": 0,
    "start_time": "2023-06-01T16:14:46.473Z"
   },
   {
    "duration": 1,
    "start_time": "2023-06-01T16:14:46.473Z"
   },
   {
    "duration": 0,
    "start_time": "2023-06-01T16:14:46.475Z"
   },
   {
    "duration": 0,
    "start_time": "2023-06-01T16:14:46.475Z"
   },
   {
    "duration": 0,
    "start_time": "2023-06-01T16:14:46.476Z"
   },
   {
    "duration": 0,
    "start_time": "2023-06-01T16:14:46.478Z"
   },
   {
    "duration": 0,
    "start_time": "2023-06-01T16:14:46.478Z"
   },
   {
    "duration": 0,
    "start_time": "2023-06-01T16:14:46.479Z"
   },
   {
    "duration": 0,
    "start_time": "2023-06-01T16:14:46.480Z"
   },
   {
    "duration": 0,
    "start_time": "2023-06-01T16:14:46.481Z"
   },
   {
    "duration": 0,
    "start_time": "2023-06-01T16:14:46.482Z"
   },
   {
    "duration": 0,
    "start_time": "2023-06-01T16:14:46.483Z"
   },
   {
    "duration": 0,
    "start_time": "2023-06-01T16:14:46.484Z"
   },
   {
    "duration": 0,
    "start_time": "2023-06-01T16:14:46.485Z"
   },
   {
    "duration": 0,
    "start_time": "2023-06-01T16:14:46.486Z"
   },
   {
    "duration": 0,
    "start_time": "2023-06-01T16:14:46.487Z"
   },
   {
    "duration": 0,
    "start_time": "2023-06-01T16:14:46.506Z"
   },
   {
    "duration": 0,
    "start_time": "2023-06-01T16:14:46.507Z"
   },
   {
    "duration": 0,
    "start_time": "2023-06-01T16:14:46.508Z"
   },
   {
    "duration": 0,
    "start_time": "2023-06-01T16:14:46.509Z"
   },
   {
    "duration": 0,
    "start_time": "2023-06-01T16:14:46.510Z"
   },
   {
    "duration": 0,
    "start_time": "2023-06-01T16:14:46.511Z"
   },
   {
    "duration": 0,
    "start_time": "2023-06-01T16:14:46.512Z"
   },
   {
    "duration": 0,
    "start_time": "2023-06-01T16:14:46.513Z"
   },
   {
    "duration": 0,
    "start_time": "2023-06-01T16:14:46.514Z"
   },
   {
    "duration": 0,
    "start_time": "2023-06-01T16:14:46.515Z"
   },
   {
    "duration": 0,
    "start_time": "2023-06-01T16:14:46.516Z"
   },
   {
    "duration": 42,
    "start_time": "2023-06-01T16:17:58.108Z"
   },
   {
    "duration": 1016,
    "start_time": "2023-06-01T16:18:11.326Z"
   },
   {
    "duration": 689,
    "start_time": "2023-06-01T16:18:12.344Z"
   },
   {
    "duration": 15,
    "start_time": "2023-06-01T16:18:13.035Z"
   },
   {
    "duration": 15,
    "start_time": "2023-06-01T16:18:13.051Z"
   },
   {
    "duration": 218,
    "start_time": "2023-06-01T16:18:13.068Z"
   },
   {
    "duration": 26,
    "start_time": "2023-06-01T16:18:13.288Z"
   },
   {
    "duration": 6,
    "start_time": "2023-06-01T16:18:13.316Z"
   },
   {
    "duration": 107,
    "start_time": "2023-06-01T16:18:13.323Z"
   },
   {
    "duration": 26,
    "start_time": "2023-06-01T16:18:13.432Z"
   },
   {
    "duration": 45,
    "start_time": "2023-06-01T16:18:13.460Z"
   },
   {
    "duration": 67,
    "start_time": "2023-06-01T16:18:13.506Z"
   },
   {
    "duration": 97,
    "start_time": "2023-06-01T16:18:13.575Z"
   },
   {
    "duration": 35,
    "start_time": "2023-06-01T16:18:13.674Z"
   },
   {
    "duration": 49,
    "start_time": "2023-06-01T16:18:13.713Z"
   },
   {
    "duration": 46,
    "start_time": "2023-06-01T16:19:36.868Z"
   },
   {
    "duration": 1076,
    "start_time": "2023-06-01T16:20:11.900Z"
   },
   {
    "duration": 700,
    "start_time": "2023-06-01T16:20:12.978Z"
   },
   {
    "duration": 14,
    "start_time": "2023-06-01T16:20:13.679Z"
   },
   {
    "duration": 16,
    "start_time": "2023-06-01T16:20:13.695Z"
   },
   {
    "duration": 239,
    "start_time": "2023-06-01T16:20:13.712Z"
   },
   {
    "duration": 26,
    "start_time": "2023-06-01T16:20:13.954Z"
   },
   {
    "duration": 24,
    "start_time": "2023-06-01T16:20:13.982Z"
   },
   {
    "duration": 103,
    "start_time": "2023-06-01T16:20:14.008Z"
   },
   {
    "duration": 16,
    "start_time": "2023-06-01T16:20:14.113Z"
   },
   {
    "duration": 24,
    "start_time": "2023-06-01T16:20:14.131Z"
   },
   {
    "duration": 97,
    "start_time": "2023-06-01T16:20:14.157Z"
   },
   {
    "duration": 100,
    "start_time": "2023-06-01T16:20:14.256Z"
   },
   {
    "duration": 25,
    "start_time": "2023-06-01T16:20:14.358Z"
   },
   {
    "duration": 1542,
    "start_time": "2023-06-01T16:20:46.469Z"
   },
   {
    "duration": 680,
    "start_time": "2023-06-01T16:20:51.656Z"
   },
   {
    "duration": 14,
    "start_time": "2023-06-01T16:21:07.765Z"
   },
   {
    "duration": 14,
    "start_time": "2023-06-01T16:21:11.371Z"
   },
   {
    "duration": 204,
    "start_time": "2023-06-01T16:21:15.611Z"
   },
   {
    "duration": 23,
    "start_time": "2023-06-01T16:21:18.264Z"
   },
   {
    "duration": 7,
    "start_time": "2023-06-01T16:21:21.410Z"
   },
   {
    "duration": 90,
    "start_time": "2023-06-01T16:21:24.020Z"
   },
   {
    "duration": 15,
    "start_time": "2023-06-01T16:21:27.105Z"
   },
   {
    "duration": 21,
    "start_time": "2023-06-01T16:21:30.104Z"
   },
   {
    "duration": 68,
    "start_time": "2023-06-01T16:21:32.783Z"
   },
   {
    "duration": 87,
    "start_time": "2023-06-01T16:21:36.315Z"
   },
   {
    "duration": 24,
    "start_time": "2023-06-01T16:21:39.387Z"
   },
   {
    "duration": 43,
    "start_time": "2023-06-01T16:22:19.926Z"
   },
   {
    "duration": 1051,
    "start_time": "2023-06-01T16:22:32.495Z"
   },
   {
    "duration": 698,
    "start_time": "2023-06-01T16:22:33.548Z"
   },
   {
    "duration": 15,
    "start_time": "2023-06-01T16:22:34.248Z"
   },
   {
    "duration": 30,
    "start_time": "2023-06-01T16:22:34.265Z"
   },
   {
    "duration": 210,
    "start_time": "2023-06-01T16:22:34.297Z"
   },
   {
    "duration": 23,
    "start_time": "2023-06-01T16:22:34.508Z"
   },
   {
    "duration": 7,
    "start_time": "2023-06-01T16:22:34.532Z"
   },
   {
    "duration": 107,
    "start_time": "2023-06-01T16:22:34.540Z"
   },
   {
    "duration": 14,
    "start_time": "2023-06-01T16:22:34.648Z"
   },
   {
    "duration": 25,
    "start_time": "2023-06-01T16:22:34.665Z"
   },
   {
    "duration": 81,
    "start_time": "2023-06-01T16:22:34.692Z"
   },
   {
    "duration": 107,
    "start_time": "2023-06-01T16:22:34.775Z"
   },
   {
    "duration": 35,
    "start_time": "2023-06-01T16:22:34.883Z"
   },
   {
    "duration": 93,
    "start_time": "2023-06-01T16:22:34.920Z"
   },
   {
    "duration": 0,
    "start_time": "2023-06-01T16:22:35.015Z"
   },
   {
    "duration": 0,
    "start_time": "2023-06-01T16:22:35.017Z"
   },
   {
    "duration": 0,
    "start_time": "2023-06-01T16:22:35.018Z"
   },
   {
    "duration": 0,
    "start_time": "2023-06-01T16:22:35.019Z"
   },
   {
    "duration": 0,
    "start_time": "2023-06-01T16:22:35.020Z"
   },
   {
    "duration": 0,
    "start_time": "2023-06-01T16:22:35.021Z"
   },
   {
    "duration": 0,
    "start_time": "2023-06-01T16:22:35.023Z"
   },
   {
    "duration": 0,
    "start_time": "2023-06-01T16:22:35.024Z"
   },
   {
    "duration": 0,
    "start_time": "2023-06-01T16:22:35.025Z"
   },
   {
    "duration": 0,
    "start_time": "2023-06-01T16:22:35.026Z"
   },
   {
    "duration": 0,
    "start_time": "2023-06-01T16:22:35.028Z"
   },
   {
    "duration": 0,
    "start_time": "2023-06-01T16:22:35.029Z"
   },
   {
    "duration": 0,
    "start_time": "2023-06-01T16:22:35.030Z"
   },
   {
    "duration": 0,
    "start_time": "2023-06-01T16:22:35.032Z"
   },
   {
    "duration": 0,
    "start_time": "2023-06-01T16:22:35.033Z"
   },
   {
    "duration": 0,
    "start_time": "2023-06-01T16:22:35.034Z"
   },
   {
    "duration": 0,
    "start_time": "2023-06-01T16:22:35.035Z"
   },
   {
    "duration": 0,
    "start_time": "2023-06-01T16:22:35.037Z"
   },
   {
    "duration": 0,
    "start_time": "2023-06-01T16:22:35.038Z"
   },
   {
    "duration": 0,
    "start_time": "2023-06-01T16:22:35.039Z"
   },
   {
    "duration": 0,
    "start_time": "2023-06-01T16:22:35.040Z"
   },
   {
    "duration": 0,
    "start_time": "2023-06-01T16:22:35.042Z"
   },
   {
    "duration": 0,
    "start_time": "2023-06-01T16:22:35.043Z"
   },
   {
    "duration": 0,
    "start_time": "2023-06-01T16:22:35.045Z"
   },
   {
    "duration": 0,
    "start_time": "2023-06-01T16:22:35.046Z"
   },
   {
    "duration": 1,
    "start_time": "2023-06-01T16:22:35.047Z"
   },
   {
    "duration": 0,
    "start_time": "2023-06-01T16:22:35.049Z"
   },
   {
    "duration": 0,
    "start_time": "2023-06-01T16:22:35.050Z"
   },
   {
    "duration": 0,
    "start_time": "2023-06-01T16:22:35.051Z"
   },
   {
    "duration": 0,
    "start_time": "2023-06-01T16:22:35.107Z"
   },
   {
    "duration": 0,
    "start_time": "2023-06-01T16:22:35.108Z"
   },
   {
    "duration": 52,
    "start_time": "2023-06-01T16:25:45.016Z"
   },
   {
    "duration": 3,
    "start_time": "2023-06-01T16:26:13.514Z"
   },
   {
    "duration": 18,
    "start_time": "2023-06-01T16:26:25.378Z"
   },
   {
    "duration": 368,
    "start_time": "2023-06-01T16:26:59.172Z"
   },
   {
    "duration": 56,
    "start_time": "2023-06-01T16:28:03.725Z"
   },
   {
    "duration": 50,
    "start_time": "2023-06-01T16:28:09.598Z"
   },
   {
    "duration": 62,
    "start_time": "2023-06-01T16:28:46.806Z"
   },
   {
    "duration": 53,
    "start_time": "2023-06-01T16:29:03.015Z"
   },
   {
    "duration": 50,
    "start_time": "2023-06-01T16:29:10.480Z"
   },
   {
    "duration": 57,
    "start_time": "2023-06-01T16:29:16.896Z"
   },
   {
    "duration": 52,
    "start_time": "2023-06-01T16:29:24.781Z"
   },
   {
    "duration": 64,
    "start_time": "2023-06-01T16:29:33.110Z"
   },
   {
    "duration": 56,
    "start_time": "2023-06-01T16:30:59.898Z"
   },
   {
    "duration": 50,
    "start_time": "2023-06-01T16:31:05.469Z"
   },
   {
    "duration": 50,
    "start_time": "2023-06-01T16:31:13.518Z"
   },
   {
    "duration": 52,
    "start_time": "2023-06-01T16:33:30.969Z"
   },
   {
    "duration": 18,
    "start_time": "2023-06-01T16:34:01.417Z"
   },
   {
    "duration": 17,
    "start_time": "2023-06-01T16:34:04.017Z"
   },
   {
    "duration": 40,
    "start_time": "2023-06-01T16:34:07.676Z"
   },
   {
    "duration": 1265,
    "start_time": "2023-06-04T17:23:51.060Z"
   },
   {
    "duration": 501,
    "start_time": "2023-06-04T17:23:52.327Z"
   },
   {
    "duration": 15,
    "start_time": "2023-06-04T17:23:52.830Z"
   },
   {
    "duration": 46,
    "start_time": "2023-06-04T17:23:52.846Z"
   },
   {
    "duration": 238,
    "start_time": "2023-06-04T17:23:52.894Z"
   },
   {
    "duration": 28,
    "start_time": "2023-06-04T17:23:53.133Z"
   },
   {
    "duration": 21,
    "start_time": "2023-06-04T17:23:53.162Z"
   },
   {
    "duration": 120,
    "start_time": "2023-06-04T17:23:53.185Z"
   },
   {
    "duration": 22,
    "start_time": "2023-06-04T17:23:53.307Z"
   },
   {
    "duration": 35,
    "start_time": "2023-06-04T17:23:53.331Z"
   },
   {
    "duration": 91,
    "start_time": "2023-06-04T17:23:53.367Z"
   },
   {
    "duration": 91,
    "start_time": "2023-06-04T17:23:53.459Z"
   },
   {
    "duration": 26,
    "start_time": "2023-06-04T17:23:53.551Z"
   },
   {
    "duration": 67,
    "start_time": "2023-06-04T17:23:53.579Z"
   },
   {
    "duration": 25,
    "start_time": "2023-06-04T17:23:53.647Z"
   },
   {
    "duration": 34,
    "start_time": "2023-06-04T17:23:53.673Z"
   },
   {
    "duration": 66,
    "start_time": "2023-06-04T17:23:53.708Z"
   },
   {
    "duration": 2,
    "start_time": "2023-06-04T17:23:53.776Z"
   },
   {
    "duration": 18,
    "start_time": "2023-06-04T17:23:53.779Z"
   },
   {
    "duration": 44,
    "start_time": "2023-06-04T17:23:53.799Z"
   },
   {
    "duration": 43,
    "start_time": "2023-06-04T17:23:53.844Z"
   },
   {
    "duration": 37,
    "start_time": "2023-06-04T17:23:53.888Z"
   },
   {
    "duration": 4,
    "start_time": "2023-06-04T17:23:53.927Z"
   },
   {
    "duration": 42,
    "start_time": "2023-06-04T17:23:53.932Z"
   },
   {
    "duration": 320,
    "start_time": "2023-06-04T17:23:53.976Z"
   },
   {
    "duration": 522,
    "start_time": "2023-06-04T17:23:54.298Z"
   },
   {
    "duration": 29,
    "start_time": "2023-06-04T17:23:54.821Z"
   },
   {
    "duration": 264,
    "start_time": "2023-06-04T17:23:54.852Z"
   },
   {
    "duration": 15,
    "start_time": "2023-06-04T17:23:55.118Z"
   },
   {
    "duration": 44,
    "start_time": "2023-06-04T17:23:55.135Z"
   },
   {
    "duration": 21,
    "start_time": "2023-06-04T17:23:55.181Z"
   },
   {
    "duration": 70,
    "start_time": "2023-06-04T17:23:55.204Z"
   },
   {
    "duration": 10,
    "start_time": "2023-06-04T17:23:55.276Z"
   },
   {
    "duration": 27,
    "start_time": "2023-06-04T17:23:55.288Z"
   },
   {
    "duration": 7,
    "start_time": "2023-06-04T17:23:55.325Z"
   },
   {
    "duration": 8,
    "start_time": "2023-06-04T17:23:55.333Z"
   },
   {
    "duration": 41,
    "start_time": "2023-06-04T17:23:55.342Z"
   },
   {
    "duration": 3,
    "start_time": "2023-06-04T17:23:55.385Z"
   },
   {
    "duration": 55,
    "start_time": "2023-06-04T17:23:55.389Z"
   },
   {
    "duration": 55,
    "start_time": "2023-06-04T17:23:55.445Z"
   },
   {
    "duration": 101,
    "start_time": "2023-06-04T17:23:55.503Z"
   },
   {
    "duration": 193,
    "start_time": "2023-06-04T17:23:55.606Z"
   },
   {
    "duration": 0,
    "start_time": "2023-06-04T17:23:55.800Z"
   },
   {
    "duration": 0,
    "start_time": "2023-06-04T17:23:55.802Z"
   },
   {
    "duration": 0,
    "start_time": "2023-06-04T17:23:55.803Z"
   },
   {
    "duration": 1082,
    "start_time": "2023-06-04T17:56:54.008Z"
   },
   {
    "duration": 150,
    "start_time": "2023-06-04T17:56:55.092Z"
   },
   {
    "duration": 13,
    "start_time": "2023-06-04T17:56:55.244Z"
   },
   {
    "duration": 21,
    "start_time": "2023-06-04T17:56:55.259Z"
   },
   {
    "duration": 226,
    "start_time": "2023-06-04T17:56:55.281Z"
   },
   {
    "duration": 30,
    "start_time": "2023-06-04T17:56:55.509Z"
   },
   {
    "duration": 6,
    "start_time": "2023-06-04T17:56:55.541Z"
   },
   {
    "duration": 62,
    "start_time": "2023-06-04T17:56:55.548Z"
   },
   {
    "duration": 22,
    "start_time": "2023-06-04T17:56:55.612Z"
   },
   {
    "duration": 29,
    "start_time": "2023-06-04T17:56:55.636Z"
   },
   {
    "duration": 96,
    "start_time": "2023-06-04T17:56:55.666Z"
   },
   {
    "duration": 112,
    "start_time": "2023-06-04T17:56:55.764Z"
   },
   {
    "duration": 35,
    "start_time": "2023-06-04T17:56:55.877Z"
   },
   {
    "duration": 69,
    "start_time": "2023-06-04T17:56:55.914Z"
   },
   {
    "duration": 20,
    "start_time": "2023-06-04T17:56:55.985Z"
   },
   {
    "duration": 38,
    "start_time": "2023-06-04T17:56:56.006Z"
   },
   {
    "duration": 44,
    "start_time": "2023-06-04T17:56:56.045Z"
   },
   {
    "duration": 2,
    "start_time": "2023-06-04T17:56:56.091Z"
   },
   {
    "duration": 33,
    "start_time": "2023-06-04T17:56:56.095Z"
   },
   {
    "duration": 51,
    "start_time": "2023-06-04T17:56:56.129Z"
   },
   {
    "duration": 70,
    "start_time": "2023-06-04T17:56:56.181Z"
   },
   {
    "duration": 18,
    "start_time": "2023-06-04T17:56:56.253Z"
   },
   {
    "duration": 14,
    "start_time": "2023-06-04T17:56:56.272Z"
   },
   {
    "duration": 27,
    "start_time": "2023-06-04T17:56:56.288Z"
   },
   {
    "duration": 489,
    "start_time": "2023-06-04T17:56:56.317Z"
   },
   {
    "duration": 527,
    "start_time": "2023-06-04T17:56:56.808Z"
   },
   {
    "duration": 28,
    "start_time": "2023-06-04T17:56:57.337Z"
   },
   {
    "duration": 430,
    "start_time": "2023-06-04T17:56:57.369Z"
   },
   {
    "duration": 12,
    "start_time": "2023-06-04T17:56:57.801Z"
   },
   {
    "duration": 56,
    "start_time": "2023-06-04T17:56:57.824Z"
   },
   {
    "duration": 19,
    "start_time": "2023-06-04T17:56:57.882Z"
   },
   {
    "duration": 64,
    "start_time": "2023-06-04T17:56:57.903Z"
   },
   {
    "duration": 7,
    "start_time": "2023-06-04T17:56:57.969Z"
   },
   {
    "duration": 24,
    "start_time": "2023-06-04T17:56:57.977Z"
   },
   {
    "duration": 21,
    "start_time": "2023-06-04T17:56:58.003Z"
   },
   {
    "duration": 12,
    "start_time": "2023-06-04T17:56:58.025Z"
   },
   {
    "duration": 42,
    "start_time": "2023-06-04T17:56:58.038Z"
   },
   {
    "duration": 2,
    "start_time": "2023-06-04T17:56:58.082Z"
   },
   {
    "duration": 37,
    "start_time": "2023-06-04T17:56:58.085Z"
   },
   {
    "duration": 52,
    "start_time": "2023-06-04T17:56:58.124Z"
   },
   {
    "duration": 84,
    "start_time": "2023-06-04T17:56:58.178Z"
   },
   {
    "duration": 230,
    "start_time": "2023-06-04T17:56:58.264Z"
   },
   {
    "duration": 0,
    "start_time": "2023-06-04T17:56:58.495Z"
   },
   {
    "duration": 0,
    "start_time": "2023-06-04T17:56:58.496Z"
   },
   {
    "duration": 0,
    "start_time": "2023-06-04T17:56:58.497Z"
   },
   {
    "duration": 12,
    "start_time": "2023-06-04T18:05:31.160Z"
   },
   {
    "duration": 1057,
    "start_time": "2023-06-04T18:07:55.969Z"
   },
   {
    "duration": 159,
    "start_time": "2023-06-04T18:07:57.028Z"
   },
   {
    "duration": 14,
    "start_time": "2023-06-04T18:07:57.189Z"
   },
   {
    "duration": 22,
    "start_time": "2023-06-04T18:07:57.205Z"
   },
   {
    "duration": 223,
    "start_time": "2023-06-04T18:07:57.229Z"
   },
   {
    "duration": 27,
    "start_time": "2023-06-04T18:07:57.454Z"
   },
   {
    "duration": 12,
    "start_time": "2023-06-04T18:07:57.483Z"
   },
   {
    "duration": 77,
    "start_time": "2023-06-04T18:07:57.496Z"
   },
   {
    "duration": 31,
    "start_time": "2023-06-04T18:07:57.575Z"
   },
   {
    "duration": 39,
    "start_time": "2023-06-04T18:07:57.609Z"
   },
   {
    "duration": 84,
    "start_time": "2023-06-04T18:07:57.649Z"
   },
   {
    "duration": 111,
    "start_time": "2023-06-04T18:07:57.735Z"
   },
   {
    "duration": 34,
    "start_time": "2023-06-04T18:07:57.848Z"
   },
   {
    "duration": 71,
    "start_time": "2023-06-04T18:07:57.883Z"
   },
   {
    "duration": 12,
    "start_time": "2023-06-04T18:07:57.956Z"
   },
   {
    "duration": 46,
    "start_time": "2023-06-04T18:07:57.969Z"
   },
   {
    "duration": 30,
    "start_time": "2023-06-04T18:07:58.016Z"
   },
   {
    "duration": 54,
    "start_time": "2023-06-04T18:07:58.048Z"
   },
   {
    "duration": 3,
    "start_time": "2023-06-04T18:07:58.103Z"
   },
   {
    "duration": 10,
    "start_time": "2023-06-04T18:07:58.107Z"
   },
   {
    "duration": 44,
    "start_time": "2023-06-04T18:07:58.118Z"
   },
   {
    "duration": 43,
    "start_time": "2023-06-04T18:07:58.164Z"
   },
   {
    "duration": 20,
    "start_time": "2023-06-04T18:07:58.209Z"
   },
   {
    "duration": 16,
    "start_time": "2023-06-04T18:07:58.231Z"
   },
   {
    "duration": 20,
    "start_time": "2023-06-04T18:07:58.248Z"
   },
   {
    "duration": 501,
    "start_time": "2023-06-04T18:07:58.270Z"
   },
   {
    "duration": 482,
    "start_time": "2023-06-04T18:07:58.772Z"
   },
   {
    "duration": 23,
    "start_time": "2023-06-04T18:07:59.258Z"
   },
   {
    "duration": 441,
    "start_time": "2023-06-04T18:07:59.283Z"
   },
   {
    "duration": 11,
    "start_time": "2023-06-04T18:07:59.726Z"
   },
   {
    "duration": 43,
    "start_time": "2023-06-04T18:07:59.739Z"
   },
   {
    "duration": 21,
    "start_time": "2023-06-04T18:07:59.784Z"
   },
   {
    "duration": 69,
    "start_time": "2023-06-04T18:07:59.807Z"
   },
   {
    "duration": 8,
    "start_time": "2023-06-04T18:07:59.877Z"
   },
   {
    "duration": 15,
    "start_time": "2023-06-04T18:07:59.886Z"
   },
   {
    "duration": 24,
    "start_time": "2023-06-04T18:07:59.903Z"
   },
   {
    "duration": 12,
    "start_time": "2023-06-04T18:07:59.929Z"
   },
   {
    "duration": 45,
    "start_time": "2023-06-04T18:07:59.943Z"
   },
   {
    "duration": 2,
    "start_time": "2023-06-04T18:07:59.990Z"
   },
   {
    "duration": 43,
    "start_time": "2023-06-04T18:07:59.993Z"
   },
   {
    "duration": 77,
    "start_time": "2023-06-04T18:08:00.037Z"
   },
   {
    "duration": 77,
    "start_time": "2023-06-04T18:08:00.115Z"
   },
   {
    "duration": 167,
    "start_time": "2023-06-04T18:08:00.193Z"
   },
   {
    "duration": 0,
    "start_time": "2023-06-04T18:08:00.362Z"
   },
   {
    "duration": 0,
    "start_time": "2023-06-04T18:08:00.363Z"
   },
   {
    "duration": 0,
    "start_time": "2023-06-04T18:08:00.364Z"
   },
   {
    "duration": 15,
    "start_time": "2023-06-04T18:14:33.803Z"
   },
   {
    "duration": 15,
    "start_time": "2023-06-04T18:14:36.960Z"
   },
   {
    "duration": 49,
    "start_time": "2023-06-04T18:16:19.969Z"
   },
   {
    "duration": 45,
    "start_time": "2023-06-04T18:16:51.620Z"
   },
   {
    "duration": 1116,
    "start_time": "2023-06-04T18:17:03.217Z"
   },
   {
    "duration": 164,
    "start_time": "2023-06-04T18:17:04.335Z"
   },
   {
    "duration": 14,
    "start_time": "2023-06-04T18:17:04.500Z"
   },
   {
    "duration": 25,
    "start_time": "2023-06-04T18:17:04.515Z"
   },
   {
    "duration": 259,
    "start_time": "2023-06-04T18:17:04.542Z"
   },
   {
    "duration": 48,
    "start_time": "2023-06-04T18:17:04.802Z"
   },
   {
    "duration": 22,
    "start_time": "2023-06-04T18:17:04.852Z"
   },
   {
    "duration": 101,
    "start_time": "2023-06-04T18:17:04.876Z"
   },
   {
    "duration": 23,
    "start_time": "2023-06-04T18:17:04.980Z"
   },
   {
    "duration": 76,
    "start_time": "2023-06-04T18:17:05.006Z"
   },
   {
    "duration": 115,
    "start_time": "2023-06-04T18:17:05.084Z"
   },
   {
    "duration": 133,
    "start_time": "2023-06-04T18:17:05.200Z"
   },
   {
    "duration": 49,
    "start_time": "2023-06-04T18:17:05.341Z"
   },
   {
    "duration": 70,
    "start_time": "2023-06-04T18:17:05.392Z"
   },
   {
    "duration": 20,
    "start_time": "2023-06-04T18:17:05.464Z"
   },
   {
    "duration": 42,
    "start_time": "2023-06-04T18:17:05.486Z"
   },
   {
    "duration": 41,
    "start_time": "2023-06-04T18:17:05.530Z"
   },
   {
    "duration": 7,
    "start_time": "2023-06-04T18:17:05.573Z"
   },
   {
    "duration": 63,
    "start_time": "2023-06-04T18:17:05.581Z"
   },
   {
    "duration": 48,
    "start_time": "2023-06-04T18:17:05.646Z"
   },
   {
    "duration": 42,
    "start_time": "2023-06-04T18:17:05.696Z"
   },
   {
    "duration": 38,
    "start_time": "2023-06-04T18:17:05.740Z"
   },
   {
    "duration": 47,
    "start_time": "2023-06-04T18:17:05.779Z"
   },
   {
    "duration": 603,
    "start_time": "2023-06-04T18:17:05.828Z"
   },
   {
    "duration": 551,
    "start_time": "2023-06-04T18:17:06.434Z"
   },
   {
    "duration": 25,
    "start_time": "2023-06-04T18:17:06.986Z"
   },
   {
    "duration": 507,
    "start_time": "2023-06-04T18:17:07.013Z"
   },
   {
    "duration": 21,
    "start_time": "2023-06-04T18:17:07.524Z"
   },
   {
    "duration": 85,
    "start_time": "2023-06-04T18:17:07.546Z"
   },
   {
    "duration": 30,
    "start_time": "2023-06-04T18:17:07.633Z"
   },
   {
    "duration": 103,
    "start_time": "2023-06-04T18:17:07.665Z"
   },
   {
    "duration": 8,
    "start_time": "2023-06-04T18:17:07.769Z"
   },
   {
    "duration": 86,
    "start_time": "2023-06-04T18:17:07.779Z"
   },
   {
    "duration": 52,
    "start_time": "2023-06-04T18:17:07.867Z"
   },
   {
    "duration": 34,
    "start_time": "2023-06-04T18:17:07.921Z"
   },
   {
    "duration": 68,
    "start_time": "2023-06-04T18:17:07.957Z"
   },
   {
    "duration": 40,
    "start_time": "2023-06-04T18:17:08.028Z"
   },
   {
    "duration": 118,
    "start_time": "2023-06-04T18:17:08.069Z"
   },
   {
    "duration": 58,
    "start_time": "2023-06-04T18:17:08.189Z"
   },
   {
    "duration": 102,
    "start_time": "2023-06-04T18:17:08.249Z"
   },
   {
    "duration": 187,
    "start_time": "2023-06-04T18:17:08.353Z"
   },
   {
    "duration": 0,
    "start_time": "2023-06-04T18:17:08.542Z"
   },
   {
    "duration": 0,
    "start_time": "2023-06-04T18:17:08.544Z"
   },
   {
    "duration": 0,
    "start_time": "2023-06-04T18:17:08.544Z"
   },
   {
    "duration": 22,
    "start_time": "2023-06-04T18:18:07.748Z"
   },
   {
    "duration": 30,
    "start_time": "2023-06-04T18:18:18.519Z"
   },
   {
    "duration": 1018,
    "start_time": "2023-06-04T18:19:03.370Z"
   },
   {
    "duration": 160,
    "start_time": "2023-06-04T18:19:04.389Z"
   },
   {
    "duration": 14,
    "start_time": "2023-06-04T18:19:04.550Z"
   },
   {
    "duration": 37,
    "start_time": "2023-06-04T18:19:04.565Z"
   },
   {
    "duration": 252,
    "start_time": "2023-06-04T18:19:04.604Z"
   },
   {
    "duration": 32,
    "start_time": "2023-06-04T18:19:04.857Z"
   },
   {
    "duration": 7,
    "start_time": "2023-06-04T18:19:04.891Z"
   },
   {
    "duration": 103,
    "start_time": "2023-06-04T18:19:04.900Z"
   },
   {
    "duration": 37,
    "start_time": "2023-06-04T18:19:05.005Z"
   },
   {
    "duration": 39,
    "start_time": "2023-06-04T18:19:05.045Z"
   },
   {
    "duration": 163,
    "start_time": "2023-06-04T18:19:05.087Z"
   },
   {
    "duration": 121,
    "start_time": "2023-06-04T18:19:05.252Z"
   },
   {
    "duration": 52,
    "start_time": "2023-06-04T18:19:05.375Z"
   },
   {
    "duration": 80,
    "start_time": "2023-06-04T18:19:05.429Z"
   },
   {
    "duration": 21,
    "start_time": "2023-06-04T18:19:05.511Z"
   },
   {
    "duration": 35,
    "start_time": "2023-06-04T18:19:05.535Z"
   },
   {
    "duration": 72,
    "start_time": "2023-06-04T18:19:05.572Z"
   },
   {
    "duration": 40,
    "start_time": "2023-06-04T18:19:05.646Z"
   },
   {
    "duration": 76,
    "start_time": "2023-06-04T18:19:05.688Z"
   },
   {
    "duration": 88,
    "start_time": "2023-06-04T18:19:05.765Z"
   },
   {
    "duration": 0,
    "start_time": "2023-06-04T18:19:05.855Z"
   },
   {
    "duration": 0,
    "start_time": "2023-06-04T18:19:05.856Z"
   },
   {
    "duration": 0,
    "start_time": "2023-06-04T18:19:05.857Z"
   },
   {
    "duration": 0,
    "start_time": "2023-06-04T18:19:05.858Z"
   },
   {
    "duration": 0,
    "start_time": "2023-06-04T18:19:05.859Z"
   },
   {
    "duration": 0,
    "start_time": "2023-06-04T18:19:05.860Z"
   },
   {
    "duration": 0,
    "start_time": "2023-06-04T18:19:05.861Z"
   },
   {
    "duration": 0,
    "start_time": "2023-06-04T18:19:05.863Z"
   },
   {
    "duration": 0,
    "start_time": "2023-06-04T18:19:05.864Z"
   },
   {
    "duration": 0,
    "start_time": "2023-06-04T18:19:05.865Z"
   },
   {
    "duration": 0,
    "start_time": "2023-06-04T18:19:05.867Z"
   },
   {
    "duration": 0,
    "start_time": "2023-06-04T18:19:05.868Z"
   },
   {
    "duration": 0,
    "start_time": "2023-06-04T18:19:05.869Z"
   },
   {
    "duration": 0,
    "start_time": "2023-06-04T18:19:05.870Z"
   },
   {
    "duration": 0,
    "start_time": "2023-06-04T18:19:05.871Z"
   },
   {
    "duration": 0,
    "start_time": "2023-06-04T18:19:05.872Z"
   },
   {
    "duration": 0,
    "start_time": "2023-06-04T18:19:05.874Z"
   },
   {
    "duration": 0,
    "start_time": "2023-06-04T18:19:05.875Z"
   },
   {
    "duration": 0,
    "start_time": "2023-06-04T18:19:05.876Z"
   },
   {
    "duration": 0,
    "start_time": "2023-06-04T18:19:05.877Z"
   },
   {
    "duration": 0,
    "start_time": "2023-06-04T18:19:05.878Z"
   },
   {
    "duration": 0,
    "start_time": "2023-06-04T18:19:05.880Z"
   },
   {
    "duration": 0,
    "start_time": "2023-06-04T18:19:05.881Z"
   },
   {
    "duration": 0,
    "start_time": "2023-06-04T18:19:05.882Z"
   },
   {
    "duration": 41,
    "start_time": "2023-06-04T18:19:35.639Z"
   },
   {
    "duration": 1200,
    "start_time": "2023-06-04T18:19:44.598Z"
   },
   {
    "duration": 180,
    "start_time": "2023-06-04T18:19:45.799Z"
   },
   {
    "duration": 13,
    "start_time": "2023-06-04T18:19:45.980Z"
   },
   {
    "duration": 19,
    "start_time": "2023-06-04T18:19:45.994Z"
   },
   {
    "duration": 262,
    "start_time": "2023-06-04T18:19:46.015Z"
   },
   {
    "duration": 25,
    "start_time": "2023-06-04T18:19:46.279Z"
   },
   {
    "duration": 20,
    "start_time": "2023-06-04T18:19:46.305Z"
   },
   {
    "duration": 109,
    "start_time": "2023-06-04T18:19:46.327Z"
   },
   {
    "duration": 29,
    "start_time": "2023-06-04T18:19:46.438Z"
   },
   {
    "duration": 36,
    "start_time": "2023-06-04T18:19:46.469Z"
   },
   {
    "duration": 94,
    "start_time": "2023-06-04T18:19:46.507Z"
   },
   {
    "duration": 119,
    "start_time": "2023-06-04T18:19:46.603Z"
   },
   {
    "duration": 42,
    "start_time": "2023-06-04T18:19:46.725Z"
   },
   {
    "duration": 78,
    "start_time": "2023-06-04T18:19:46.769Z"
   },
   {
    "duration": 21,
    "start_time": "2023-06-04T18:19:46.849Z"
   },
   {
    "duration": 79,
    "start_time": "2023-06-04T18:19:46.872Z"
   },
   {
    "duration": 46,
    "start_time": "2023-06-04T18:19:46.952Z"
   },
   {
    "duration": 9,
    "start_time": "2023-06-04T18:19:47.001Z"
   },
   {
    "duration": 69,
    "start_time": "2023-06-04T18:19:47.012Z"
   },
   {
    "duration": 39,
    "start_time": "2023-06-04T18:19:47.082Z"
   },
   {
    "duration": 24,
    "start_time": "2023-06-04T18:19:47.122Z"
   },
   {
    "duration": 16,
    "start_time": "2023-06-04T18:19:47.148Z"
   },
   {
    "duration": 31,
    "start_time": "2023-06-04T18:19:47.166Z"
   },
   {
    "duration": 589,
    "start_time": "2023-06-04T18:19:47.199Z"
   },
   {
    "duration": 541,
    "start_time": "2023-06-04T18:19:47.790Z"
   },
   {
    "duration": 26,
    "start_time": "2023-06-04T18:19:48.334Z"
   },
   {
    "duration": 465,
    "start_time": "2023-06-04T18:19:48.362Z"
   },
   {
    "duration": 16,
    "start_time": "2023-06-04T18:19:48.830Z"
   },
   {
    "duration": 54,
    "start_time": "2023-06-04T18:19:48.848Z"
   },
   {
    "duration": 26,
    "start_time": "2023-06-04T18:19:48.903Z"
   },
   {
    "duration": 75,
    "start_time": "2023-06-04T18:19:48.930Z"
   },
   {
    "duration": 8,
    "start_time": "2023-06-04T18:19:49.007Z"
   },
   {
    "duration": 44,
    "start_time": "2023-06-04T18:19:49.017Z"
   },
   {
    "duration": 14,
    "start_time": "2023-06-04T18:19:49.063Z"
   },
   {
    "duration": 8,
    "start_time": "2023-06-04T18:19:49.079Z"
   },
   {
    "duration": 73,
    "start_time": "2023-06-04T18:19:49.089Z"
   },
   {
    "duration": 3,
    "start_time": "2023-06-04T18:19:49.163Z"
   },
   {
    "duration": 45,
    "start_time": "2023-06-04T18:19:49.168Z"
   },
   {
    "duration": 83,
    "start_time": "2023-06-04T18:19:49.215Z"
   },
   {
    "duration": 93,
    "start_time": "2023-06-04T18:19:49.300Z"
   },
   {
    "duration": 179,
    "start_time": "2023-06-04T18:19:49.394Z"
   },
   {
    "duration": 0,
    "start_time": "2023-06-04T18:19:49.575Z"
   },
   {
    "duration": 0,
    "start_time": "2023-06-04T18:19:49.576Z"
   },
   {
    "duration": 0,
    "start_time": "2023-06-04T18:19:49.577Z"
   },
   {
    "duration": 487,
    "start_time": "2023-06-04T18:39:15.177Z"
   },
   {
    "duration": 1045,
    "start_time": "2023-06-04T18:39:26.086Z"
   },
   {
    "duration": 163,
    "start_time": "2023-06-04T18:39:27.133Z"
   },
   {
    "duration": 15,
    "start_time": "2023-06-04T18:39:27.297Z"
   },
   {
    "duration": 15,
    "start_time": "2023-06-04T18:39:27.325Z"
   },
   {
    "duration": 246,
    "start_time": "2023-06-04T18:39:27.342Z"
   },
   {
    "duration": 42,
    "start_time": "2023-06-04T18:39:27.589Z"
   },
   {
    "duration": 7,
    "start_time": "2023-06-04T18:39:27.634Z"
   },
   {
    "duration": 89,
    "start_time": "2023-06-04T18:39:27.643Z"
   },
   {
    "duration": 17,
    "start_time": "2023-06-04T18:39:27.734Z"
   },
   {
    "duration": 39,
    "start_time": "2023-06-04T18:39:27.754Z"
   },
   {
    "duration": 118,
    "start_time": "2023-06-04T18:39:27.795Z"
   },
   {
    "duration": 117,
    "start_time": "2023-06-04T18:39:27.914Z"
   },
   {
    "duration": 34,
    "start_time": "2023-06-04T18:39:28.032Z"
   },
   {
    "duration": 96,
    "start_time": "2023-06-04T18:39:28.068Z"
   },
   {
    "duration": 14,
    "start_time": "2023-06-04T18:39:28.166Z"
   },
   {
    "duration": 41,
    "start_time": "2023-06-04T18:39:28.181Z"
   },
   {
    "duration": 28,
    "start_time": "2023-06-04T18:39:28.224Z"
   },
   {
    "duration": 7,
    "start_time": "2023-06-04T18:39:28.253Z"
   },
   {
    "duration": 65,
    "start_time": "2023-06-04T18:39:28.261Z"
   },
   {
    "duration": 43,
    "start_time": "2023-06-04T18:39:28.327Z"
   },
   {
    "duration": 19,
    "start_time": "2023-06-04T18:39:28.372Z"
   },
   {
    "duration": 32,
    "start_time": "2023-06-04T18:39:28.393Z"
   },
   {
    "duration": 32,
    "start_time": "2023-06-04T18:39:28.427Z"
   },
   {
    "duration": 529,
    "start_time": "2023-06-04T18:39:28.461Z"
   },
   {
    "duration": 591,
    "start_time": "2023-06-04T18:39:28.992Z"
   },
   {
    "duration": 43,
    "start_time": "2023-06-04T18:39:29.586Z"
   },
   {
    "duration": 543,
    "start_time": "2023-06-04T18:39:29.631Z"
   },
   {
    "duration": 13,
    "start_time": "2023-06-04T18:39:30.179Z"
   },
   {
    "duration": 58,
    "start_time": "2023-06-04T18:39:30.193Z"
   },
   {
    "duration": 24,
    "start_time": "2023-06-04T18:39:30.253Z"
   },
   {
    "duration": 90,
    "start_time": "2023-06-04T18:39:30.278Z"
   },
   {
    "duration": 9,
    "start_time": "2023-06-04T18:39:30.369Z"
   },
   {
    "duration": 30,
    "start_time": "2023-06-04T18:39:30.380Z"
   },
   {
    "duration": 14,
    "start_time": "2023-06-04T18:39:30.412Z"
   },
   {
    "duration": 32,
    "start_time": "2023-06-04T18:39:30.427Z"
   },
   {
    "duration": 77,
    "start_time": "2023-06-04T18:39:30.461Z"
   },
   {
    "duration": 10,
    "start_time": "2023-06-04T18:39:30.539Z"
   },
   {
    "duration": 81,
    "start_time": "2023-06-04T18:39:30.551Z"
   },
   {
    "duration": 64,
    "start_time": "2023-06-04T18:39:30.634Z"
   },
   {
    "duration": 91,
    "start_time": "2023-06-04T18:39:30.699Z"
   },
   {
    "duration": 175,
    "start_time": "2023-06-04T18:39:30.792Z"
   },
   {
    "duration": 0,
    "start_time": "2023-06-04T18:39:30.969Z"
   },
   {
    "duration": 0,
    "start_time": "2023-06-04T18:39:30.970Z"
   },
   {
    "duration": 0,
    "start_time": "2023-06-04T18:39:30.971Z"
   },
   {
    "duration": 475,
    "start_time": "2023-06-04T18:39:53.807Z"
   },
   {
    "duration": 1330,
    "start_time": "2023-06-04T18:40:03.678Z"
   },
   {
    "duration": 182,
    "start_time": "2023-06-04T18:40:05.011Z"
   },
   {
    "duration": 14,
    "start_time": "2023-06-04T18:40:05.195Z"
   },
   {
    "duration": 46,
    "start_time": "2023-06-04T18:40:05.211Z"
   },
   {
    "duration": 244,
    "start_time": "2023-06-04T18:40:05.259Z"
   },
   {
    "duration": 44,
    "start_time": "2023-06-04T18:40:05.505Z"
   },
   {
    "duration": 18,
    "start_time": "2023-06-04T18:40:05.551Z"
   },
   {
    "duration": 98,
    "start_time": "2023-06-04T18:40:05.571Z"
   },
   {
    "duration": 13,
    "start_time": "2023-06-04T18:40:05.671Z"
   },
   {
    "duration": 61,
    "start_time": "2023-06-04T18:40:05.686Z"
   },
   {
    "duration": 107,
    "start_time": "2023-06-04T18:40:05.749Z"
   },
   {
    "duration": 119,
    "start_time": "2023-06-04T18:40:05.858Z"
   },
   {
    "duration": 46,
    "start_time": "2023-06-04T18:40:05.979Z"
   },
   {
    "duration": 82,
    "start_time": "2023-06-04T18:40:06.026Z"
   },
   {
    "duration": 32,
    "start_time": "2023-06-04T18:40:06.110Z"
   },
   {
    "duration": 49,
    "start_time": "2023-06-04T18:40:06.143Z"
   },
   {
    "duration": 57,
    "start_time": "2023-06-04T18:40:06.193Z"
   },
   {
    "duration": 25,
    "start_time": "2023-06-04T18:40:06.251Z"
   },
   {
    "duration": 89,
    "start_time": "2023-06-04T18:40:06.277Z"
   },
   {
    "duration": 40,
    "start_time": "2023-06-04T18:40:06.367Z"
   },
   {
    "duration": 27,
    "start_time": "2023-06-04T18:40:06.409Z"
   },
   {
    "duration": 24,
    "start_time": "2023-06-04T18:40:06.438Z"
   },
   {
    "duration": 23,
    "start_time": "2023-06-04T18:40:06.464Z"
   },
   {
    "duration": 623,
    "start_time": "2023-06-04T18:40:06.489Z"
   },
   {
    "duration": 610,
    "start_time": "2023-06-04T18:40:07.114Z"
   },
   {
    "duration": 28,
    "start_time": "2023-06-04T18:40:07.726Z"
   },
   {
    "duration": 468,
    "start_time": "2023-06-04T18:40:07.756Z"
   },
   {
    "duration": 17,
    "start_time": "2023-06-04T18:40:08.229Z"
   },
   {
    "duration": 55,
    "start_time": "2023-06-04T18:40:08.247Z"
   },
   {
    "duration": 25,
    "start_time": "2023-06-04T18:40:08.304Z"
   },
   {
    "duration": 78,
    "start_time": "2023-06-04T18:40:08.331Z"
   },
   {
    "duration": 7,
    "start_time": "2023-06-04T18:40:08.411Z"
   },
   {
    "duration": 26,
    "start_time": "2023-06-04T18:40:08.420Z"
   },
   {
    "duration": 8,
    "start_time": "2023-06-04T18:40:08.447Z"
   },
   {
    "duration": 5,
    "start_time": "2023-06-04T18:40:08.456Z"
   },
   {
    "duration": 44,
    "start_time": "2023-06-04T18:40:08.462Z"
   },
   {
    "duration": 3,
    "start_time": "2023-06-04T18:40:08.507Z"
   },
   {
    "duration": 47,
    "start_time": "2023-06-04T18:40:08.512Z"
   },
   {
    "duration": 50,
    "start_time": "2023-06-04T18:40:08.560Z"
   },
   {
    "duration": 97,
    "start_time": "2023-06-04T18:40:08.611Z"
   },
   {
    "duration": 186,
    "start_time": "2023-06-04T18:40:08.710Z"
   },
   {
    "duration": 0,
    "start_time": "2023-06-04T18:40:08.897Z"
   },
   {
    "duration": 0,
    "start_time": "2023-06-04T18:40:08.898Z"
   },
   {
    "duration": 0,
    "start_time": "2023-06-04T18:40:08.899Z"
   },
   {
    "duration": 461,
    "start_time": "2023-06-04T18:41:03.930Z"
   },
   {
    "duration": 1135,
    "start_time": "2023-06-04T18:41:13.777Z"
   },
   {
    "duration": 201,
    "start_time": "2023-06-04T18:41:14.914Z"
   },
   {
    "duration": 25,
    "start_time": "2023-06-04T18:41:15.116Z"
   },
   {
    "duration": 27,
    "start_time": "2023-06-04T18:41:15.143Z"
   },
   {
    "duration": 262,
    "start_time": "2023-06-04T18:41:15.172Z"
   },
   {
    "duration": 29,
    "start_time": "2023-06-04T18:41:15.436Z"
   },
   {
    "duration": 9,
    "start_time": "2023-06-04T18:41:15.466Z"
   },
   {
    "duration": 78,
    "start_time": "2023-06-04T18:41:15.477Z"
   },
   {
    "duration": 17,
    "start_time": "2023-06-04T18:41:15.557Z"
   },
   {
    "duration": 63,
    "start_time": "2023-06-04T18:41:15.575Z"
   },
   {
    "duration": 89,
    "start_time": "2023-06-04T18:41:15.640Z"
   },
   {
    "duration": 113,
    "start_time": "2023-06-04T18:41:15.735Z"
   },
   {
    "duration": 39,
    "start_time": "2023-06-04T18:41:15.849Z"
   },
   {
    "duration": 77,
    "start_time": "2023-06-04T18:41:15.890Z"
   },
   {
    "duration": 12,
    "start_time": "2023-06-04T18:41:15.969Z"
   },
   {
    "duration": 39,
    "start_time": "2023-06-04T18:41:15.983Z"
   },
   {
    "duration": 39,
    "start_time": "2023-06-04T18:41:16.024Z"
   },
   {
    "duration": 12,
    "start_time": "2023-06-04T18:41:16.065Z"
   },
   {
    "duration": 67,
    "start_time": "2023-06-04T18:41:16.079Z"
   },
   {
    "duration": 41,
    "start_time": "2023-06-04T18:41:16.148Z"
   },
   {
    "duration": 20,
    "start_time": "2023-06-04T18:41:16.190Z"
   },
   {
    "duration": 22,
    "start_time": "2023-06-04T18:41:16.224Z"
   },
   {
    "duration": 30,
    "start_time": "2023-06-04T18:41:16.248Z"
   },
   {
    "duration": 599,
    "start_time": "2023-06-04T18:41:16.280Z"
   },
   {
    "duration": 574,
    "start_time": "2023-06-04T18:41:16.880Z"
   },
   {
    "duration": 25,
    "start_time": "2023-06-04T18:41:17.455Z"
   },
   {
    "duration": 483,
    "start_time": "2023-06-04T18:41:17.482Z"
   },
   {
    "duration": 13,
    "start_time": "2023-06-04T18:41:17.966Z"
   },
   {
    "duration": 59,
    "start_time": "2023-06-04T18:41:17.981Z"
   },
   {
    "duration": 22,
    "start_time": "2023-06-04T18:41:18.041Z"
   },
   {
    "duration": 82,
    "start_time": "2023-06-04T18:41:18.065Z"
   },
   {
    "duration": 10,
    "start_time": "2023-06-04T18:41:18.149Z"
   },
   {
    "duration": 15,
    "start_time": "2023-06-04T18:41:18.161Z"
   },
   {
    "duration": 25,
    "start_time": "2023-06-04T18:41:18.177Z"
   },
   {
    "duration": 7,
    "start_time": "2023-06-04T18:41:18.203Z"
   },
   {
    "duration": 58,
    "start_time": "2023-06-04T18:41:18.211Z"
   },
   {
    "duration": 12,
    "start_time": "2023-06-04T18:41:18.271Z"
   },
   {
    "duration": 62,
    "start_time": "2023-06-04T18:41:18.285Z"
   },
   {
    "duration": 51,
    "start_time": "2023-06-04T18:41:18.349Z"
   },
   {
    "duration": 102,
    "start_time": "2023-06-04T18:41:18.401Z"
   },
   {
    "duration": 193,
    "start_time": "2023-06-04T18:41:18.506Z"
   },
   {
    "duration": 0,
    "start_time": "2023-06-04T18:41:18.701Z"
   },
   {
    "duration": 0,
    "start_time": "2023-06-04T18:41:18.702Z"
   },
   {
    "duration": 0,
    "start_time": "2023-06-04T18:41:18.703Z"
   },
   {
    "duration": 1067,
    "start_time": "2023-06-04T18:50:10.205Z"
   },
   {
    "duration": 163,
    "start_time": "2023-06-04T18:50:11.274Z"
   },
   {
    "duration": 13,
    "start_time": "2023-06-04T18:50:11.439Z"
   },
   {
    "duration": 32,
    "start_time": "2023-06-04T18:50:11.454Z"
   },
   {
    "duration": 225,
    "start_time": "2023-06-04T18:50:11.488Z"
   },
   {
    "duration": 27,
    "start_time": "2023-06-04T18:50:11.715Z"
   },
   {
    "duration": 14,
    "start_time": "2023-06-04T18:50:11.744Z"
   },
   {
    "duration": 87,
    "start_time": "2023-06-04T18:50:11.760Z"
   },
   {
    "duration": 17,
    "start_time": "2023-06-04T18:50:11.848Z"
   },
   {
    "duration": 33,
    "start_time": "2023-06-04T18:50:11.868Z"
   },
   {
    "duration": 96,
    "start_time": "2023-06-04T18:50:11.903Z"
   },
   {
    "duration": 112,
    "start_time": "2023-06-04T18:50:12.000Z"
   },
   {
    "duration": 40,
    "start_time": "2023-06-04T18:50:12.113Z"
   },
   {
    "duration": 61,
    "start_time": "2023-06-04T18:50:12.155Z"
   },
   {
    "duration": 12,
    "start_time": "2023-06-04T18:50:12.225Z"
   },
   {
    "duration": 22,
    "start_time": "2023-06-04T18:50:12.239Z"
   },
   {
    "duration": 22,
    "start_time": "2023-06-04T18:50:12.263Z"
   },
   {
    "duration": 7,
    "start_time": "2023-06-04T18:50:12.287Z"
   },
   {
    "duration": 67,
    "start_time": "2023-06-04T18:50:12.296Z"
   },
   {
    "duration": 41,
    "start_time": "2023-06-04T18:50:12.365Z"
   },
   {
    "duration": 20,
    "start_time": "2023-06-04T18:50:12.424Z"
   },
   {
    "duration": 19,
    "start_time": "2023-06-04T18:50:12.445Z"
   },
   {
    "duration": 21,
    "start_time": "2023-06-04T18:50:12.466Z"
   },
   {
    "duration": 567,
    "start_time": "2023-06-04T18:50:12.489Z"
   },
   {
    "duration": 578,
    "start_time": "2023-06-04T18:50:13.058Z"
   },
   {
    "duration": 26,
    "start_time": "2023-06-04T18:50:13.637Z"
   },
   {
    "duration": 495,
    "start_time": "2023-06-04T18:50:13.665Z"
   },
   {
    "duration": 14,
    "start_time": "2023-06-04T18:50:14.164Z"
   },
   {
    "duration": 62,
    "start_time": "2023-06-04T18:50:14.180Z"
   },
   {
    "duration": 24,
    "start_time": "2023-06-04T18:50:14.244Z"
   },
   {
    "duration": 75,
    "start_time": "2023-06-04T18:50:14.270Z"
   },
   {
    "duration": 10,
    "start_time": "2023-06-04T18:50:14.346Z"
   },
   {
    "duration": 17,
    "start_time": "2023-06-04T18:50:14.358Z"
   },
   {
    "duration": 9,
    "start_time": "2023-06-04T18:50:14.378Z"
   },
   {
    "duration": 4,
    "start_time": "2023-06-04T18:50:14.390Z"
   },
   {
    "duration": 76,
    "start_time": "2023-06-04T18:50:14.396Z"
   },
   {
    "duration": 8,
    "start_time": "2023-06-04T18:50:14.474Z"
   },
   {
    "duration": 42,
    "start_time": "2023-06-04T18:50:14.483Z"
   },
   {
    "duration": 58,
    "start_time": "2023-06-04T18:50:14.527Z"
   },
   {
    "duration": 110,
    "start_time": "2023-06-04T18:50:14.586Z"
   },
   {
    "duration": 167,
    "start_time": "2023-06-04T18:50:14.697Z"
   },
   {
    "duration": 0,
    "start_time": "2023-06-04T18:50:14.867Z"
   },
   {
    "duration": 0,
    "start_time": "2023-06-04T18:50:14.868Z"
   },
   {
    "duration": 0,
    "start_time": "2023-06-04T18:50:14.869Z"
   },
   {
    "duration": 1168,
    "start_time": "2023-06-04T18:52:07.915Z"
   },
   {
    "duration": 12,
    "start_time": "2023-06-04T18:52:40.628Z"
   },
   {
    "duration": 10,
    "start_time": "2023-06-04T18:53:32.597Z"
   },
   {
    "duration": 10,
    "start_time": "2023-06-04T18:53:39.857Z"
   },
   {
    "duration": 10,
    "start_time": "2023-06-04T18:55:18.936Z"
   },
   {
    "duration": 10,
    "start_time": "2023-06-04T18:55:34.358Z"
   },
   {
    "duration": 12,
    "start_time": "2023-06-04T18:56:19.547Z"
   },
   {
    "duration": 14,
    "start_time": "2023-06-04T18:56:35.048Z"
   },
   {
    "duration": 13,
    "start_time": "2023-06-04T18:56:48.638Z"
   },
   {
    "duration": 22,
    "start_time": "2023-06-04T18:56:59.318Z"
   },
   {
    "duration": 87,
    "start_time": "2023-06-04T18:58:29.685Z"
   },
   {
    "duration": 15,
    "start_time": "2023-06-04T18:58:40.158Z"
   },
   {
    "duration": 105,
    "start_time": "2023-06-04T18:59:04.316Z"
   },
   {
    "duration": 16,
    "start_time": "2023-06-04T18:59:11.507Z"
   },
   {
    "duration": 13,
    "start_time": "2023-06-04T18:59:20.039Z"
   },
   {
    "duration": 12,
    "start_time": "2023-06-04T18:59:36.203Z"
   },
   {
    "duration": 14,
    "start_time": "2023-06-04T18:59:43.483Z"
   },
   {
    "duration": 98,
    "start_time": "2023-06-04T19:02:09.992Z"
   },
   {
    "duration": 46,
    "start_time": "2023-06-04T19:03:24.940Z"
   },
   {
    "duration": 76,
    "start_time": "2023-06-04T19:05:51.823Z"
   },
   {
    "duration": 51,
    "start_time": "2023-06-04T19:06:09.580Z"
   },
   {
    "duration": 40,
    "start_time": "2023-06-04T19:06:21.873Z"
   },
   {
    "duration": 39,
    "start_time": "2023-06-04T19:08:00.320Z"
   },
   {
    "duration": 42,
    "start_time": "2023-06-04T19:08:18.404Z"
   },
   {
    "duration": 39,
    "start_time": "2023-06-04T19:08:34.721Z"
   },
   {
    "duration": 1000,
    "start_time": "2023-06-04T19:08:46.083Z"
   },
   {
    "duration": 155,
    "start_time": "2023-06-04T19:08:47.085Z"
   },
   {
    "duration": 14,
    "start_time": "2023-06-04T19:08:47.242Z"
   },
   {
    "duration": 18,
    "start_time": "2023-06-04T19:08:47.258Z"
   },
   {
    "duration": 240,
    "start_time": "2023-06-04T19:08:47.278Z"
   },
   {
    "duration": 27,
    "start_time": "2023-06-04T19:08:47.520Z"
   },
   {
    "duration": 14,
    "start_time": "2023-06-04T19:08:47.548Z"
   },
   {
    "duration": 70,
    "start_time": "2023-06-04T19:08:47.564Z"
   },
   {
    "duration": 13,
    "start_time": "2023-06-04T19:08:47.635Z"
   },
   {
    "duration": 30,
    "start_time": "2023-06-04T19:08:47.652Z"
   },
   {
    "duration": 101,
    "start_time": "2023-06-04T19:08:47.683Z"
   },
   {
    "duration": 113,
    "start_time": "2023-06-04T19:08:47.785Z"
   },
   {
    "duration": 37,
    "start_time": "2023-06-04T19:08:47.900Z"
   },
   {
    "duration": 62,
    "start_time": "2023-06-04T19:08:47.938Z"
   },
   {
    "duration": 25,
    "start_time": "2023-06-04T19:08:48.001Z"
   },
   {
    "duration": 20,
    "start_time": "2023-06-04T19:08:48.028Z"
   },
   {
    "duration": 21,
    "start_time": "2023-06-04T19:08:48.049Z"
   },
   {
    "duration": 6,
    "start_time": "2023-06-04T19:08:48.071Z"
   },
   {
    "duration": 69,
    "start_time": "2023-06-04T19:08:48.079Z"
   },
   {
    "duration": 40,
    "start_time": "2023-06-04T19:08:48.150Z"
   },
   {
    "duration": 33,
    "start_time": "2023-06-04T19:08:48.192Z"
   },
   {
    "duration": 15,
    "start_time": "2023-06-04T19:08:48.226Z"
   },
   {
    "duration": 23,
    "start_time": "2023-06-04T19:08:48.243Z"
   },
   {
    "duration": 554,
    "start_time": "2023-06-04T19:08:48.268Z"
   },
   {
    "duration": 524,
    "start_time": "2023-06-04T19:08:48.823Z"
   },
   {
    "duration": 29,
    "start_time": "2023-06-04T19:08:49.348Z"
   },
   {
    "duration": 464,
    "start_time": "2023-06-04T19:08:49.379Z"
   },
   {
    "duration": 12,
    "start_time": "2023-06-04T19:08:49.846Z"
   },
   {
    "duration": 42,
    "start_time": "2023-06-04T19:08:49.859Z"
   },
   {
    "duration": 62,
    "start_time": "2023-06-04T19:08:49.902Z"
   },
   {
    "duration": 23,
    "start_time": "2023-06-04T19:08:49.966Z"
   },
   {
    "duration": 84,
    "start_time": "2023-06-04T19:08:49.991Z"
   },
   {
    "duration": 11,
    "start_time": "2023-06-04T19:08:50.076Z"
   },
   {
    "duration": 28,
    "start_time": "2023-06-04T19:08:50.089Z"
   },
   {
    "duration": 13,
    "start_time": "2023-06-04T19:08:50.119Z"
   },
   {
    "duration": 20,
    "start_time": "2023-06-04T19:08:50.133Z"
   },
   {
    "duration": 53,
    "start_time": "2023-06-04T19:08:50.155Z"
   },
   {
    "duration": 6,
    "start_time": "2023-06-04T19:08:50.209Z"
   },
   {
    "duration": 56,
    "start_time": "2023-06-04T19:08:50.217Z"
   },
   {
    "duration": 53,
    "start_time": "2023-06-04T19:08:50.275Z"
   },
   {
    "duration": 95,
    "start_time": "2023-06-04T19:08:50.330Z"
   },
   {
    "duration": 170,
    "start_time": "2023-06-04T19:08:50.426Z"
   },
   {
    "duration": 0,
    "start_time": "2023-06-04T19:08:50.598Z"
   },
   {
    "duration": 0,
    "start_time": "2023-06-04T19:08:50.599Z"
   },
   {
    "duration": 0,
    "start_time": "2023-06-04T19:08:50.600Z"
   },
   {
    "duration": 2,
    "start_time": "2023-06-04T19:11:00.026Z"
   },
   {
    "duration": 73,
    "start_time": "2023-06-04T19:12:17.816Z"
   },
   {
    "duration": 1373,
    "start_time": "2023-06-04T19:25:29.978Z"
   },
   {
    "duration": 65,
    "start_time": "2023-06-04T19:25:43.257Z"
   },
   {
    "duration": 6,
    "start_time": "2023-06-04T19:25:58.728Z"
   },
   {
    "duration": 1058,
    "start_time": "2023-06-04T19:26:16.309Z"
   },
   {
    "duration": 159,
    "start_time": "2023-06-04T19:26:17.368Z"
   },
   {
    "duration": 14,
    "start_time": "2023-06-04T19:26:17.529Z"
   },
   {
    "duration": 25,
    "start_time": "2023-06-04T19:26:17.544Z"
   },
   {
    "duration": 224,
    "start_time": "2023-06-04T19:26:17.571Z"
   },
   {
    "duration": 34,
    "start_time": "2023-06-04T19:26:17.797Z"
   },
   {
    "duration": 13,
    "start_time": "2023-06-04T19:26:17.832Z"
   },
   {
    "duration": 77,
    "start_time": "2023-06-04T19:26:17.846Z"
   },
   {
    "duration": 30,
    "start_time": "2023-06-04T19:26:17.924Z"
   },
   {
    "duration": 46,
    "start_time": "2023-06-04T19:26:17.956Z"
   },
   {
    "duration": 97,
    "start_time": "2023-06-04T19:26:18.004Z"
   },
   {
    "duration": 107,
    "start_time": "2023-06-04T19:26:18.103Z"
   },
   {
    "duration": 42,
    "start_time": "2023-06-04T19:26:18.212Z"
   },
   {
    "duration": 61,
    "start_time": "2023-06-04T19:26:18.256Z"
   },
   {
    "duration": 16,
    "start_time": "2023-06-04T19:26:18.319Z"
   },
   {
    "duration": 31,
    "start_time": "2023-06-04T19:26:18.336Z"
   },
   {
    "duration": 28,
    "start_time": "2023-06-04T19:26:18.368Z"
   },
   {
    "duration": 23,
    "start_time": "2023-06-04T19:26:18.398Z"
   },
   {
    "duration": 27,
    "start_time": "2023-06-04T19:26:18.423Z"
   },
   {
    "duration": 52,
    "start_time": "2023-06-04T19:26:18.451Z"
   },
   {
    "duration": 23,
    "start_time": "2023-06-04T19:26:18.504Z"
   },
   {
    "duration": 15,
    "start_time": "2023-06-04T19:26:18.529Z"
   },
   {
    "duration": 22,
    "start_time": "2023-06-04T19:26:18.546Z"
   },
   {
    "duration": 542,
    "start_time": "2023-06-04T19:26:18.570Z"
   },
   {
    "duration": 555,
    "start_time": "2023-06-04T19:26:19.113Z"
   },
   {
    "duration": 25,
    "start_time": "2023-06-04T19:26:19.670Z"
   },
   {
    "duration": 464,
    "start_time": "2023-06-04T19:26:19.696Z"
   },
   {
    "duration": 13,
    "start_time": "2023-06-04T19:26:20.161Z"
   },
   {
    "duration": 70,
    "start_time": "2023-06-04T19:26:20.175Z"
   },
   {
    "duration": 71,
    "start_time": "2023-06-04T19:26:20.246Z"
   },
   {
    "duration": 27,
    "start_time": "2023-06-04T19:26:20.319Z"
   },
   {
    "duration": 110,
    "start_time": "2023-06-04T19:26:20.347Z"
   },
   {
    "duration": 8,
    "start_time": "2023-06-04T19:26:20.459Z"
   },
   {
    "duration": 32,
    "start_time": "2023-06-04T19:26:20.469Z"
   },
   {
    "duration": 33,
    "start_time": "2023-06-04T19:26:20.503Z"
   },
   {
    "duration": 29,
    "start_time": "2023-06-04T19:26:20.538Z"
   },
   {
    "duration": 57,
    "start_time": "2023-06-04T19:26:20.569Z"
   },
   {
    "duration": 3,
    "start_time": "2023-06-04T19:26:20.628Z"
   },
   {
    "duration": 44,
    "start_time": "2023-06-04T19:26:20.633Z"
   },
   {
    "duration": 58,
    "start_time": "2023-06-04T19:26:20.679Z"
   },
   {
    "duration": 102,
    "start_time": "2023-06-04T19:26:20.742Z"
   },
   {
    "duration": 183,
    "start_time": "2023-06-04T19:26:20.846Z"
   },
   {
    "duration": 0,
    "start_time": "2023-06-04T19:26:21.030Z"
   },
   {
    "duration": 0,
    "start_time": "2023-06-04T19:26:21.032Z"
   },
   {
    "duration": 0,
    "start_time": "2023-06-04T19:26:21.033Z"
   },
   {
    "duration": 1170,
    "start_time": "2023-06-04T19:40:43.208Z"
   },
   {
    "duration": 162,
    "start_time": "2023-06-04T19:40:44.380Z"
   },
   {
    "duration": 15,
    "start_time": "2023-06-04T19:40:44.544Z"
   },
   {
    "duration": 47,
    "start_time": "2023-06-04T19:40:44.560Z"
   },
   {
    "duration": 267,
    "start_time": "2023-06-04T19:40:44.610Z"
   },
   {
    "duration": 45,
    "start_time": "2023-06-04T19:40:44.879Z"
   },
   {
    "duration": 9,
    "start_time": "2023-06-04T19:40:44.926Z"
   },
   {
    "duration": 113,
    "start_time": "2023-06-04T19:40:44.937Z"
   },
   {
    "duration": 28,
    "start_time": "2023-06-04T19:40:45.053Z"
   },
   {
    "duration": 87,
    "start_time": "2023-06-04T19:40:45.083Z"
   },
   {
    "duration": 86,
    "start_time": "2023-06-04T19:40:45.172Z"
   },
   {
    "duration": 123,
    "start_time": "2023-06-04T19:40:45.260Z"
   },
   {
    "duration": 45,
    "start_time": "2023-06-04T19:40:45.385Z"
   },
   {
    "duration": 73,
    "start_time": "2023-06-04T19:40:45.434Z"
   },
   {
    "duration": 25,
    "start_time": "2023-06-04T19:40:45.509Z"
   },
   {
    "duration": 30,
    "start_time": "2023-06-04T19:40:45.536Z"
   },
   {
    "duration": 54,
    "start_time": "2023-06-04T19:40:45.568Z"
   },
   {
    "duration": 10,
    "start_time": "2023-06-04T19:40:45.624Z"
   },
   {
    "duration": 23,
    "start_time": "2023-06-04T19:40:45.636Z"
   },
   {
    "duration": 85,
    "start_time": "2023-06-04T19:40:45.661Z"
   },
   {
    "duration": 24,
    "start_time": "2023-06-04T19:40:45.748Z"
   },
   {
    "duration": 19,
    "start_time": "2023-06-04T19:40:45.773Z"
   },
   {
    "duration": 32,
    "start_time": "2023-06-04T19:40:45.794Z"
   },
   {
    "duration": 557,
    "start_time": "2023-06-04T19:40:45.827Z"
   },
   {
    "duration": 541,
    "start_time": "2023-06-04T19:40:46.385Z"
   },
   {
    "duration": 24,
    "start_time": "2023-06-04T19:40:46.928Z"
   },
   {
    "duration": 480,
    "start_time": "2023-06-04T19:40:46.953Z"
   },
   {
    "duration": 14,
    "start_time": "2023-06-04T19:40:47.435Z"
   },
   {
    "duration": 60,
    "start_time": "2023-06-04T19:40:47.451Z"
   },
   {
    "duration": 46,
    "start_time": "2023-06-04T19:40:47.524Z"
   },
   {
    "duration": 22,
    "start_time": "2023-06-04T19:40:47.572Z"
   },
   {
    "duration": 78,
    "start_time": "2023-06-04T19:40:47.596Z"
   },
   {
    "duration": 11,
    "start_time": "2023-06-04T19:40:47.677Z"
   },
   {
    "duration": 30,
    "start_time": "2023-06-04T19:40:47.689Z"
   },
   {
    "duration": 12,
    "start_time": "2023-06-04T19:40:47.721Z"
   },
   {
    "duration": 7,
    "start_time": "2023-06-04T19:40:47.734Z"
   },
   {
    "duration": 49,
    "start_time": "2023-06-04T19:40:47.742Z"
   },
   {
    "duration": 2,
    "start_time": "2023-06-04T19:40:47.793Z"
   },
   {
    "duration": 51,
    "start_time": "2023-06-04T19:40:47.797Z"
   },
   {
    "duration": 57,
    "start_time": "2023-06-04T19:40:47.849Z"
   },
   {
    "duration": 106,
    "start_time": "2023-06-04T19:40:47.926Z"
   },
   {
    "duration": 228,
    "start_time": "2023-06-04T19:40:48.034Z"
   },
   {
    "duration": 0,
    "start_time": "2023-06-04T19:40:48.264Z"
   },
   {
    "duration": 0,
    "start_time": "2023-06-04T19:40:48.265Z"
   },
   {
    "duration": 0,
    "start_time": "2023-06-04T19:40:48.267Z"
   },
   {
    "duration": 4,
    "start_time": "2023-06-04T19:41:22.376Z"
   },
   {
    "duration": 997,
    "start_time": "2023-06-04T19:41:29.877Z"
   },
   {
    "duration": 161,
    "start_time": "2023-06-04T19:41:30.876Z"
   },
   {
    "duration": 22,
    "start_time": "2023-06-04T19:41:31.038Z"
   },
   {
    "duration": 112,
    "start_time": "2023-06-04T19:41:31.062Z"
   },
   {
    "duration": 248,
    "start_time": "2023-06-04T19:41:31.176Z"
   },
   {
    "duration": 29,
    "start_time": "2023-06-04T19:41:31.426Z"
   },
   {
    "duration": 12,
    "start_time": "2023-06-04T19:41:31.457Z"
   },
   {
    "duration": 97,
    "start_time": "2023-06-04T19:41:31.470Z"
   },
   {
    "duration": 14,
    "start_time": "2023-06-04T19:41:31.569Z"
   },
   {
    "duration": 68,
    "start_time": "2023-06-04T19:41:31.584Z"
   },
   {
    "duration": 159,
    "start_time": "2023-06-04T19:41:31.653Z"
   },
   {
    "duration": 177,
    "start_time": "2023-06-04T19:41:31.814Z"
   },
   {
    "duration": 43,
    "start_time": "2023-06-04T19:41:31.993Z"
   },
   {
    "duration": 67,
    "start_time": "2023-06-04T19:41:32.039Z"
   },
   {
    "duration": 19,
    "start_time": "2023-06-04T19:41:32.108Z"
   },
   {
    "duration": 37,
    "start_time": "2023-06-04T19:41:32.129Z"
   },
   {
    "duration": 27,
    "start_time": "2023-06-04T19:41:32.167Z"
   },
   {
    "duration": 4,
    "start_time": "2023-06-04T19:41:32.196Z"
   },
   {
    "duration": 9,
    "start_time": "2023-06-04T19:41:32.202Z"
   },
   {
    "duration": 51,
    "start_time": "2023-06-04T19:41:32.213Z"
   },
   {
    "duration": 22,
    "start_time": "2023-06-04T19:41:32.266Z"
   },
   {
    "duration": 16,
    "start_time": "2023-06-04T19:41:32.289Z"
   },
   {
    "duration": 33,
    "start_time": "2023-06-04T19:41:32.306Z"
   },
   {
    "duration": 535,
    "start_time": "2023-06-04T19:41:32.341Z"
   },
   {
    "duration": 567,
    "start_time": "2023-06-04T19:41:32.878Z"
   },
   {
    "duration": 25,
    "start_time": "2023-06-04T19:41:33.447Z"
   },
   {
    "duration": 453,
    "start_time": "2023-06-04T19:41:33.473Z"
   },
   {
    "duration": 11,
    "start_time": "2023-06-04T19:41:33.928Z"
   },
   {
    "duration": 44,
    "start_time": "2023-06-04T19:41:33.941Z"
   },
   {
    "duration": 61,
    "start_time": "2023-06-04T19:41:33.987Z"
   },
   {
    "duration": 20,
    "start_time": "2023-06-04T19:41:34.050Z"
   },
   {
    "duration": 86,
    "start_time": "2023-06-04T19:41:34.072Z"
   },
   {
    "duration": 9,
    "start_time": "2023-06-04T19:41:34.159Z"
   },
   {
    "duration": 21,
    "start_time": "2023-06-04T19:41:34.170Z"
   },
   {
    "duration": 9,
    "start_time": "2023-06-04T19:41:34.193Z"
   },
   {
    "duration": 8,
    "start_time": "2023-06-04T19:41:34.204Z"
   },
   {
    "duration": 64,
    "start_time": "2023-06-04T19:41:34.225Z"
   },
   {
    "duration": 3,
    "start_time": "2023-06-04T19:41:34.290Z"
   },
   {
    "duration": 45,
    "start_time": "2023-06-04T19:41:34.295Z"
   },
   {
    "duration": 82,
    "start_time": "2023-06-04T19:41:34.342Z"
   },
   {
    "duration": 98,
    "start_time": "2023-06-04T19:41:34.427Z"
   },
   {
    "duration": 179,
    "start_time": "2023-06-04T19:41:34.527Z"
   },
   {
    "duration": 0,
    "start_time": "2023-06-04T19:41:34.708Z"
   },
   {
    "duration": 0,
    "start_time": "2023-06-04T19:41:34.709Z"
   },
   {
    "duration": 0,
    "start_time": "2023-06-04T19:41:34.709Z"
   },
   {
    "duration": 1061,
    "start_time": "2023-06-04T20:03:24.133Z"
   },
   {
    "duration": 168,
    "start_time": "2023-06-04T20:03:25.196Z"
   },
   {
    "duration": 13,
    "start_time": "2023-06-04T20:03:25.366Z"
   },
   {
    "duration": 14,
    "start_time": "2023-06-04T20:03:25.381Z"
   },
   {
    "duration": 235,
    "start_time": "2023-06-04T20:03:25.396Z"
   },
   {
    "duration": 27,
    "start_time": "2023-06-04T20:03:25.632Z"
   },
   {
    "duration": 7,
    "start_time": "2023-06-04T20:03:25.660Z"
   },
   {
    "duration": 75,
    "start_time": "2023-06-04T20:03:25.668Z"
   },
   {
    "duration": 20,
    "start_time": "2023-06-04T20:03:25.744Z"
   },
   {
    "duration": 32,
    "start_time": "2023-06-04T20:03:25.767Z"
   },
   {
    "duration": 90,
    "start_time": "2023-06-04T20:03:25.800Z"
   },
   {
    "duration": 110,
    "start_time": "2023-06-04T20:03:25.891Z"
   },
   {
    "duration": 36,
    "start_time": "2023-06-04T20:03:26.002Z"
   },
   {
    "duration": 60,
    "start_time": "2023-06-04T20:03:26.040Z"
   },
   {
    "duration": 22,
    "start_time": "2023-06-04T20:03:26.102Z"
   },
   {
    "duration": 20,
    "start_time": "2023-06-04T20:03:26.126Z"
   },
   {
    "duration": 22,
    "start_time": "2023-06-04T20:03:26.147Z"
   },
   {
    "duration": 8,
    "start_time": "2023-06-04T20:03:26.170Z"
   },
   {
    "duration": 15,
    "start_time": "2023-06-04T20:03:26.180Z"
   },
   {
    "duration": 55,
    "start_time": "2023-06-04T20:03:26.197Z"
   },
   {
    "duration": 18,
    "start_time": "2023-06-04T20:03:26.253Z"
   },
   {
    "duration": 16,
    "start_time": "2023-06-04T20:03:26.273Z"
   },
   {
    "duration": 34,
    "start_time": "2023-06-04T20:03:26.292Z"
   },
   {
    "duration": 526,
    "start_time": "2023-06-04T20:03:26.327Z"
   },
   {
    "duration": 517,
    "start_time": "2023-06-04T20:03:26.854Z"
   },
   {
    "duration": 23,
    "start_time": "2023-06-04T20:03:27.373Z"
   },
   {
    "duration": 467,
    "start_time": "2023-06-04T20:03:27.398Z"
   },
   {
    "duration": 13,
    "start_time": "2023-06-04T20:03:27.869Z"
   },
   {
    "duration": 55,
    "start_time": "2023-06-04T20:03:27.884Z"
   },
   {
    "duration": 45,
    "start_time": "2023-06-04T20:03:27.941Z"
   },
   {
    "duration": 21,
    "start_time": "2023-06-04T20:03:27.987Z"
   },
   {
    "duration": 52,
    "start_time": "2023-06-04T20:03:28.025Z"
   },
   {
    "duration": 7,
    "start_time": "2023-06-04T20:03:28.079Z"
   },
   {
    "duration": 34,
    "start_time": "2023-06-04T20:03:28.088Z"
   },
   {
    "duration": 13,
    "start_time": "2023-06-04T20:03:28.123Z"
   },
   {
    "duration": 17,
    "start_time": "2023-06-04T20:03:28.137Z"
   },
   {
    "duration": 43,
    "start_time": "2023-06-04T20:03:28.155Z"
   },
   {
    "duration": 2,
    "start_time": "2023-06-04T20:03:28.199Z"
   },
   {
    "duration": 35,
    "start_time": "2023-06-04T20:03:28.202Z"
   },
   {
    "duration": 51,
    "start_time": "2023-06-04T20:03:28.239Z"
   },
   {
    "duration": 96,
    "start_time": "2023-06-04T20:03:28.291Z"
   },
   {
    "duration": 174,
    "start_time": "2023-06-04T20:03:28.389Z"
   },
   {
    "duration": 0,
    "start_time": "2023-06-04T20:03:28.565Z"
   },
   {
    "duration": 0,
    "start_time": "2023-06-04T20:03:28.566Z"
   },
   {
    "duration": 0,
    "start_time": "2023-06-04T20:03:28.567Z"
   },
   {
    "duration": 3,
    "start_time": "2023-06-04T20:10:06.214Z"
   },
   {
    "duration": 112,
    "start_time": "2023-06-04T20:28:52.353Z"
   },
   {
    "duration": 8,
    "start_time": "2023-06-04T20:29:22.954Z"
   },
   {
    "duration": 6,
    "start_time": "2023-06-04T20:29:31.336Z"
   },
   {
    "duration": 1191,
    "start_time": "2023-06-04T20:30:37.863Z"
   },
   {
    "duration": 68,
    "start_time": "2023-06-04T20:40:21.043Z"
   },
   {
    "duration": 56,
    "start_time": "2023-06-04T20:40:28.265Z"
   },
   {
    "duration": 60,
    "start_time": "2023-06-04T20:40:43.023Z"
   },
   {
    "duration": 28,
    "start_time": "2023-06-04T20:41:01.255Z"
   },
   {
    "duration": 37,
    "start_time": "2023-06-04T20:41:21.034Z"
   },
   {
    "duration": 29,
    "start_time": "2023-06-04T20:41:36.555Z"
   },
   {
    "duration": 6,
    "start_time": "2023-06-04T20:41:54.293Z"
   },
   {
    "duration": 6,
    "start_time": "2023-06-04T20:41:57.855Z"
   },
   {
    "duration": 975,
    "start_time": "2023-06-04T20:42:05.883Z"
   },
   {
    "duration": 155,
    "start_time": "2023-06-04T20:42:06.860Z"
   },
   {
    "duration": 17,
    "start_time": "2023-06-04T20:42:07.016Z"
   },
   {
    "duration": 14,
    "start_time": "2023-06-04T20:42:07.035Z"
   },
   {
    "duration": 234,
    "start_time": "2023-06-04T20:42:07.051Z"
   },
   {
    "duration": 40,
    "start_time": "2023-06-04T20:42:07.288Z"
   },
   {
    "duration": 6,
    "start_time": "2023-06-04T20:42:07.330Z"
   },
   {
    "duration": 66,
    "start_time": "2023-06-04T20:42:07.337Z"
   },
   {
    "duration": 24,
    "start_time": "2023-06-04T20:42:07.404Z"
   },
   {
    "duration": 46,
    "start_time": "2023-06-04T20:42:07.430Z"
   },
   {
    "duration": 97,
    "start_time": "2023-06-04T20:42:07.478Z"
   },
   {
    "duration": 116,
    "start_time": "2023-06-04T20:42:07.576Z"
   },
   {
    "duration": 39,
    "start_time": "2023-06-04T20:42:07.694Z"
   },
   {
    "duration": 61,
    "start_time": "2023-06-04T20:42:07.734Z"
   },
   {
    "duration": 29,
    "start_time": "2023-06-04T20:42:07.797Z"
   },
   {
    "duration": 26,
    "start_time": "2023-06-04T20:42:07.828Z"
   },
   {
    "duration": 22,
    "start_time": "2023-06-04T20:42:07.856Z"
   },
   {
    "duration": 5,
    "start_time": "2023-06-04T20:42:07.880Z"
   },
   {
    "duration": 10,
    "start_time": "2023-06-04T20:42:07.886Z"
   },
   {
    "duration": 69,
    "start_time": "2023-06-04T20:42:07.897Z"
   },
   {
    "duration": 23,
    "start_time": "2023-06-04T20:42:07.967Z"
   },
   {
    "duration": 33,
    "start_time": "2023-06-04T20:42:07.991Z"
   },
   {
    "duration": 18,
    "start_time": "2023-06-04T20:42:08.026Z"
   },
   {
    "duration": 568,
    "start_time": "2023-06-04T20:42:08.045Z"
   },
   {
    "duration": 534,
    "start_time": "2023-06-04T20:42:08.615Z"
   },
   {
    "duration": 24,
    "start_time": "2023-06-04T20:42:09.151Z"
   },
   {
    "duration": 469,
    "start_time": "2023-06-04T20:42:09.176Z"
   },
   {
    "duration": 12,
    "start_time": "2023-06-04T20:42:09.648Z"
   },
   {
    "duration": 40,
    "start_time": "2023-06-04T20:42:09.661Z"
   },
   {
    "duration": 54,
    "start_time": "2023-06-04T20:42:09.702Z"
   },
   {
    "duration": 23,
    "start_time": "2023-06-04T20:42:09.758Z"
   },
   {
    "duration": 72,
    "start_time": "2023-06-04T20:42:09.782Z"
   },
   {
    "duration": 8,
    "start_time": "2023-06-04T20:42:09.856Z"
   },
   {
    "duration": 10,
    "start_time": "2023-06-04T20:42:09.865Z"
   },
   {
    "duration": 9,
    "start_time": "2023-06-04T20:42:09.877Z"
   },
   {
    "duration": 61,
    "start_time": "2023-06-04T20:42:09.887Z"
   },
   {
    "duration": 2,
    "start_time": "2023-06-04T20:42:09.950Z"
   },
   {
    "duration": 39,
    "start_time": "2023-06-04T20:42:09.953Z"
   },
   {
    "duration": 64,
    "start_time": "2023-06-04T20:42:09.994Z"
   },
   {
    "duration": 105,
    "start_time": "2023-06-04T20:42:10.059Z"
   },
   {
    "duration": 176,
    "start_time": "2023-06-04T20:42:10.165Z"
   },
   {
    "duration": 0,
    "start_time": "2023-06-04T20:42:10.343Z"
   },
   {
    "duration": 0,
    "start_time": "2023-06-04T20:42:10.344Z"
   },
   {
    "duration": 0,
    "start_time": "2023-06-04T20:42:10.345Z"
   },
   {
    "duration": 12,
    "start_time": "2023-06-04T20:44:43.213Z"
   },
   {
    "duration": 11,
    "start_time": "2023-06-04T20:44:57.328Z"
   },
   {
    "duration": 45,
    "start_time": "2023-06-04T20:45:24.265Z"
   },
   {
    "duration": 39,
    "start_time": "2023-06-04T20:45:35.863Z"
   },
   {
    "duration": 42,
    "start_time": "2023-06-04T20:46:43.043Z"
   },
   {
    "duration": 38,
    "start_time": "2023-06-04T20:52:46.142Z"
   },
   {
    "duration": 43,
    "start_time": "2023-06-04T20:53:12.323Z"
   },
   {
    "duration": 39,
    "start_time": "2023-06-04T20:53:45.204Z"
   },
   {
    "duration": 43,
    "start_time": "2023-06-04T20:53:51.254Z"
   },
   {
    "duration": 78,
    "start_time": "2023-06-04T20:54:55.090Z"
   },
   {
    "duration": 39,
    "start_time": "2023-06-04T21:37:57.404Z"
   },
   {
    "duration": 41,
    "start_time": "2023-06-04T21:47:16.161Z"
   },
   {
    "duration": 38,
    "start_time": "2023-06-04T21:48:07.069Z"
   },
   {
    "duration": 11,
    "start_time": "2023-06-04T21:52:54.161Z"
   },
   {
    "duration": 91,
    "start_time": "2023-06-04T21:56:30.490Z"
   },
   {
    "duration": 92,
    "start_time": "2023-06-04T22:00:49.429Z"
   },
   {
    "duration": 1341,
    "start_time": "2023-06-04T22:04:02.191Z"
   },
   {
    "duration": 984,
    "start_time": "2023-06-04T22:04:27.560Z"
   },
   {
    "duration": 148,
    "start_time": "2023-06-04T22:04:28.545Z"
   },
   {
    "duration": 14,
    "start_time": "2023-06-04T22:04:28.695Z"
   },
   {
    "duration": 22,
    "start_time": "2023-06-04T22:04:28.711Z"
   },
   {
    "duration": 221,
    "start_time": "2023-06-04T22:04:28.734Z"
   },
   {
    "duration": 27,
    "start_time": "2023-06-04T22:04:28.957Z"
   },
   {
    "duration": 14,
    "start_time": "2023-06-04T22:04:28.985Z"
   },
   {
    "duration": 75,
    "start_time": "2023-06-04T22:04:29.000Z"
   },
   {
    "duration": 33,
    "start_time": "2023-06-04T22:04:29.077Z"
   },
   {
    "duration": 30,
    "start_time": "2023-06-04T22:04:29.112Z"
   },
   {
    "duration": 84,
    "start_time": "2023-06-04T22:04:29.143Z"
   },
   {
    "duration": 109,
    "start_time": "2023-06-04T22:04:29.229Z"
   },
   {
    "duration": 34,
    "start_time": "2023-06-04T22:04:29.339Z"
   },
   {
    "duration": 69,
    "start_time": "2023-06-04T22:04:29.375Z"
   },
   {
    "duration": 11,
    "start_time": "2023-06-04T22:04:29.446Z"
   },
   {
    "duration": 22,
    "start_time": "2023-06-04T22:04:29.458Z"
   },
   {
    "duration": 22,
    "start_time": "2023-06-04T22:04:29.481Z"
   },
   {
    "duration": 20,
    "start_time": "2023-06-04T22:04:29.504Z"
   },
   {
    "duration": 20,
    "start_time": "2023-06-04T22:04:29.526Z"
   },
   {
    "duration": 64,
    "start_time": "2023-06-04T22:04:29.547Z"
   },
   {
    "duration": 21,
    "start_time": "2023-06-04T22:04:29.613Z"
   },
   {
    "duration": 16,
    "start_time": "2023-06-04T22:04:29.636Z"
   },
   {
    "duration": 25,
    "start_time": "2023-06-04T22:04:29.654Z"
   },
   {
    "duration": 517,
    "start_time": "2023-06-04T22:04:29.681Z"
   },
   {
    "duration": 491,
    "start_time": "2023-06-04T22:04:30.199Z"
   },
   {
    "duration": 22,
    "start_time": "2023-06-04T22:04:30.692Z"
   },
   {
    "duration": 438,
    "start_time": "2023-06-04T22:04:30.725Z"
   },
   {
    "duration": 12,
    "start_time": "2023-06-04T22:04:31.167Z"
   },
   {
    "duration": 103,
    "start_time": "2023-06-04T22:04:31.180Z"
   },
   {
    "duration": 120,
    "start_time": "2023-06-04T22:04:31.285Z"
   },
   {
    "duration": 33,
    "start_time": "2023-06-04T22:04:31.407Z"
   },
   {
    "duration": 106,
    "start_time": "2023-06-04T22:04:31.441Z"
   },
   {
    "duration": 29,
    "start_time": "2023-06-04T22:04:31.549Z"
   },
   {
    "duration": 45,
    "start_time": "2023-06-04T22:04:31.580Z"
   },
   {
    "duration": 92,
    "start_time": "2023-06-04T22:04:31.627Z"
   },
   {
    "duration": 43,
    "start_time": "2023-06-04T22:04:31.721Z"
   },
   {
    "duration": 2,
    "start_time": "2023-06-04T22:04:31.766Z"
   },
   {
    "duration": 37,
    "start_time": "2023-06-04T22:04:31.769Z"
   },
   {
    "duration": 66,
    "start_time": "2023-06-04T22:04:31.807Z"
   },
   {
    "duration": 1404,
    "start_time": "2023-06-04T22:04:31.875Z"
   },
   {
    "duration": 0,
    "start_time": "2023-06-04T22:04:33.280Z"
   },
   {
    "duration": 0,
    "start_time": "2023-06-04T22:04:33.281Z"
   },
   {
    "duration": 0,
    "start_time": "2023-06-04T22:04:33.283Z"
   },
   {
    "duration": 0,
    "start_time": "2023-06-04T22:04:33.284Z"
   },
   {
    "duration": 0,
    "start_time": "2023-06-04T22:04:33.285Z"
   },
   {
    "duration": 1284,
    "start_time": "2023-06-04T22:05:14.210Z"
   },
   {
    "duration": 1232,
    "start_time": "2023-06-04T22:05:21.762Z"
   },
   {
    "duration": 90,
    "start_time": "2023-06-04T22:05:37.322Z"
   },
   {
    "duration": 1191,
    "start_time": "2023-06-04T22:06:48.292Z"
   },
   {
    "duration": 5,
    "start_time": "2023-06-04T22:07:13.270Z"
   },
   {
    "duration": 262,
    "start_time": "2023-06-04T22:07:26.512Z"
   },
   {
    "duration": 99,
    "start_time": "2023-06-04T22:07:40.811Z"
   },
   {
    "duration": 90,
    "start_time": "2023-06-04T22:07:46.422Z"
   },
   {
    "duration": 93,
    "start_time": "2023-06-04T22:07:56.242Z"
   },
   {
    "duration": 94,
    "start_time": "2023-06-04T22:08:03.660Z"
   },
   {
    "duration": 85,
    "start_time": "2023-06-04T22:10:45.732Z"
   },
   {
    "duration": 105,
    "start_time": "2023-06-04T22:11:00.970Z"
   },
   {
    "duration": 88,
    "start_time": "2023-06-04T22:12:12.312Z"
   },
   {
    "duration": 86,
    "start_time": "2023-06-04T22:13:25.821Z"
   },
   {
    "duration": 94,
    "start_time": "2023-06-04T22:13:59.931Z"
   },
   {
    "duration": 81,
    "start_time": "2023-06-04T22:14:18.272Z"
   },
   {
    "duration": 91,
    "start_time": "2023-06-04T22:14:43.412Z"
   },
   {
    "duration": 84,
    "start_time": "2023-06-04T22:15:46.922Z"
   },
   {
    "duration": 11,
    "start_time": "2023-06-04T22:30:10.763Z"
   },
   {
    "duration": 1021,
    "start_time": "2023-06-04T22:31:13.500Z"
   },
   {
    "duration": 193,
    "start_time": "2023-06-04T22:31:14.525Z"
   },
   {
    "duration": 12,
    "start_time": "2023-06-04T22:31:14.719Z"
   },
   {
    "duration": 32,
    "start_time": "2023-06-04T22:31:14.732Z"
   },
   {
    "duration": 231,
    "start_time": "2023-06-04T22:31:14.765Z"
   },
   {
    "duration": 30,
    "start_time": "2023-06-04T22:31:14.998Z"
   },
   {
    "duration": 67,
    "start_time": "2023-06-04T22:31:15.029Z"
   },
   {
    "duration": 116,
    "start_time": "2023-06-04T22:31:15.098Z"
   },
   {
    "duration": 13,
    "start_time": "2023-06-04T22:31:15.216Z"
   },
   {
    "duration": 49,
    "start_time": "2023-06-04T22:31:15.231Z"
   },
   {
    "duration": 82,
    "start_time": "2023-06-04T22:31:15.281Z"
   },
   {
    "duration": 108,
    "start_time": "2023-06-04T22:31:15.364Z"
   },
   {
    "duration": 33,
    "start_time": "2023-06-04T22:31:15.474Z"
   },
   {
    "duration": 66,
    "start_time": "2023-06-04T22:31:15.509Z"
   },
   {
    "duration": 12,
    "start_time": "2023-06-04T22:31:15.577Z"
   },
   {
    "duration": 37,
    "start_time": "2023-06-04T22:31:15.590Z"
   },
   {
    "duration": 22,
    "start_time": "2023-06-04T22:31:15.629Z"
   },
   {
    "duration": 38,
    "start_time": "2023-06-04T22:31:15.653Z"
   },
   {
    "duration": 18,
    "start_time": "2023-06-04T22:31:15.692Z"
   },
   {
    "duration": 56,
    "start_time": "2023-06-04T22:31:15.711Z"
   },
   {
    "duration": 21,
    "start_time": "2023-06-04T22:31:15.768Z"
   },
   {
    "duration": 23,
    "start_time": "2023-06-04T22:31:15.790Z"
   },
   {
    "duration": 25,
    "start_time": "2023-06-04T22:31:15.815Z"
   },
   {
    "duration": 551,
    "start_time": "2023-06-04T22:31:15.841Z"
   },
   {
    "duration": 549,
    "start_time": "2023-06-04T22:31:16.393Z"
   },
   {
    "duration": 24,
    "start_time": "2023-06-04T22:31:16.944Z"
   },
   {
    "duration": 450,
    "start_time": "2023-06-04T22:31:16.969Z"
   },
   {
    "duration": 14,
    "start_time": "2023-06-04T22:31:17.426Z"
   },
   {
    "duration": 65,
    "start_time": "2023-06-04T22:31:17.441Z"
   },
   {
    "duration": 44,
    "start_time": "2023-06-04T22:31:17.508Z"
   },
   {
    "duration": 23,
    "start_time": "2023-06-04T22:31:17.554Z"
   },
   {
    "duration": 72,
    "start_time": "2023-06-04T22:31:17.578Z"
   },
   {
    "duration": 8,
    "start_time": "2023-06-04T22:31:17.651Z"
   },
   {
    "duration": 114,
    "start_time": "2023-06-04T22:31:17.660Z"
   },
   {
    "duration": 112,
    "start_time": "2023-06-04T22:31:17.775Z"
   },
   {
    "duration": 40,
    "start_time": "2023-06-04T22:31:17.889Z"
   },
   {
    "duration": 2,
    "start_time": "2023-06-04T22:31:17.931Z"
   },
   {
    "duration": 57,
    "start_time": "2023-06-04T22:31:17.935Z"
   },
   {
    "duration": 66,
    "start_time": "2023-06-04T22:31:17.994Z"
   },
   {
    "duration": 173,
    "start_time": "2023-06-04T22:31:18.062Z"
   },
   {
    "duration": 6,
    "start_time": "2023-06-04T22:31:18.237Z"
   },
   {
    "duration": 207,
    "start_time": "2023-06-04T22:31:18.244Z"
   },
   {
    "duration": 0,
    "start_time": "2023-06-04T22:31:18.453Z"
   },
   {
    "duration": 0,
    "start_time": "2023-06-04T22:31:18.454Z"
   },
   {
    "duration": 0,
    "start_time": "2023-06-04T22:31:18.455Z"
   },
   {
    "duration": 0,
    "start_time": "2023-06-04T22:31:18.456Z"
   },
   {
    "duration": 89,
    "start_time": "2023-06-04T22:53:22.935Z"
   },
   {
    "duration": 6,
    "start_time": "2023-06-04T22:53:50.549Z"
   },
   {
    "duration": 113,
    "start_time": "2023-06-04T23:10:58.723Z"
   },
   {
    "duration": 68,
    "start_time": "2023-06-04T23:11:29.871Z"
   },
   {
    "duration": 88,
    "start_time": "2023-06-04T23:11:48.562Z"
   },
   {
    "duration": 5,
    "start_time": "2023-06-04T23:18:29.309Z"
   },
   {
    "duration": 11,
    "start_time": "2023-06-04T23:18:32.071Z"
   },
   {
    "duration": 8,
    "start_time": "2023-06-04T23:21:30.932Z"
   },
   {
    "duration": 12,
    "start_time": "2023-06-04T23:21:43.091Z"
   },
   {
    "duration": 10,
    "start_time": "2023-06-04T23:22:57.441Z"
   },
   {
    "duration": 4,
    "start_time": "2023-06-04T23:24:39.453Z"
   },
   {
    "duration": 7,
    "start_time": "2023-06-04T23:24:57.633Z"
   },
   {
    "duration": 8,
    "start_time": "2023-06-04T23:25:13.341Z"
   },
   {
    "duration": 4,
    "start_time": "2023-06-05T01:17:20.670Z"
   },
   {
    "duration": 1156,
    "start_time": "2023-06-05T01:18:38.476Z"
   },
   {
    "duration": 10,
    "start_time": "2023-06-05T01:18:55.451Z"
   },
   {
    "duration": 74,
    "start_time": "2023-06-05T01:19:43.920Z"
   },
   {
    "duration": 70,
    "start_time": "2023-06-05T01:19:47.378Z"
   },
   {
    "duration": 8,
    "start_time": "2023-06-05T01:19:57.262Z"
   },
   {
    "duration": 9,
    "start_time": "2023-06-05T01:20:03.611Z"
   },
   {
    "duration": 70,
    "start_time": "2023-06-05T01:21:58.884Z"
   },
   {
    "duration": 98,
    "start_time": "2023-06-05T01:22:06.208Z"
   },
   {
    "duration": 4,
    "start_time": "2023-06-05T01:22:12.172Z"
   },
   {
    "duration": 1252,
    "start_time": "2023-06-05T01:22:15.908Z"
   },
   {
    "duration": 4,
    "start_time": "2023-06-05T01:22:34.441Z"
   },
   {
    "duration": 9,
    "start_time": "2023-06-05T01:22:37.877Z"
   },
   {
    "duration": 5,
    "start_time": "2023-06-05T01:24:09.904Z"
   },
   {
    "duration": 10,
    "start_time": "2023-06-05T01:24:12.209Z"
   },
   {
    "duration": 9,
    "start_time": "2023-06-05T01:25:34.726Z"
   },
   {
    "duration": 10,
    "start_time": "2023-06-05T01:26:08.217Z"
   },
   {
    "duration": 8,
    "start_time": "2023-06-05T01:26:18.465Z"
   },
   {
    "duration": 8,
    "start_time": "2023-06-05T01:26:30.682Z"
   },
   {
    "duration": 8,
    "start_time": "2023-06-05T01:26:50.098Z"
   },
   {
    "duration": 9,
    "start_time": "2023-06-05T01:27:12.318Z"
   },
   {
    "duration": 4,
    "start_time": "2023-06-05T01:27:59.166Z"
   },
   {
    "duration": 954,
    "start_time": "2023-06-05T01:28:07.355Z"
   },
   {
    "duration": 191,
    "start_time": "2023-06-05T01:28:08.310Z"
   },
   {
    "duration": 12,
    "start_time": "2023-06-05T01:28:08.502Z"
   },
   {
    "duration": 21,
    "start_time": "2023-06-05T01:28:08.515Z"
   },
   {
    "duration": 223,
    "start_time": "2023-06-05T01:28:08.537Z"
   },
   {
    "duration": 26,
    "start_time": "2023-06-05T01:28:08.762Z"
   },
   {
    "duration": 66,
    "start_time": "2023-06-05T01:28:08.789Z"
   },
   {
    "duration": 67,
    "start_time": "2023-06-05T01:28:08.857Z"
   },
   {
    "duration": 41,
    "start_time": "2023-06-05T01:28:08.926Z"
   },
   {
    "duration": 41,
    "start_time": "2023-06-05T01:28:08.970Z"
   },
   {
    "duration": 78,
    "start_time": "2023-06-05T01:28:09.013Z"
   },
   {
    "duration": 102,
    "start_time": "2023-06-05T01:28:09.092Z"
   },
   {
    "duration": 35,
    "start_time": "2023-06-05T01:28:09.196Z"
   },
   {
    "duration": 58,
    "start_time": "2023-06-05T01:28:09.233Z"
   },
   {
    "duration": 12,
    "start_time": "2023-06-05T01:28:09.292Z"
   },
   {
    "duration": 34,
    "start_time": "2023-06-05T01:28:09.305Z"
   },
   {
    "duration": 21,
    "start_time": "2023-06-05T01:28:09.340Z"
   },
   {
    "duration": 10,
    "start_time": "2023-06-05T01:28:09.362Z"
   },
   {
    "duration": 31,
    "start_time": "2023-06-05T01:28:09.373Z"
   },
   {
    "duration": 48,
    "start_time": "2023-06-05T01:28:09.406Z"
   },
   {
    "duration": 18,
    "start_time": "2023-06-05T01:28:09.456Z"
   },
   {
    "duration": 21,
    "start_time": "2023-06-05T01:28:09.475Z"
   },
   {
    "duration": 31,
    "start_time": "2023-06-05T01:28:09.497Z"
   },
   {
    "duration": 514,
    "start_time": "2023-06-05T01:28:09.529Z"
   },
   {
    "duration": 483,
    "start_time": "2023-06-05T01:28:10.044Z"
   },
   {
    "duration": 22,
    "start_time": "2023-06-05T01:28:10.528Z"
   },
   {
    "duration": 427,
    "start_time": "2023-06-05T01:28:10.551Z"
   },
   {
    "duration": 14,
    "start_time": "2023-06-05T01:28:10.982Z"
   },
   {
    "duration": 69,
    "start_time": "2023-06-05T01:28:10.997Z"
   },
   {
    "duration": 70,
    "start_time": "2023-06-05T01:28:11.067Z"
   },
   {
    "duration": 28,
    "start_time": "2023-06-05T01:28:11.138Z"
   },
   {
    "duration": 84,
    "start_time": "2023-06-05T01:28:11.168Z"
   },
   {
    "duration": 8,
    "start_time": "2023-06-05T01:28:11.254Z"
   },
   {
    "duration": 35,
    "start_time": "2023-06-05T01:28:11.264Z"
   },
   {
    "duration": 65,
    "start_time": "2023-06-05T01:28:11.300Z"
   },
   {
    "duration": 37,
    "start_time": "2023-06-05T01:28:11.367Z"
   },
   {
    "duration": 3,
    "start_time": "2023-06-05T01:28:11.405Z"
   },
   {
    "duration": 72,
    "start_time": "2023-06-05T01:28:11.409Z"
   },
   {
    "duration": 58,
    "start_time": "2023-06-05T01:28:11.482Z"
   },
   {
    "duration": 103,
    "start_time": "2023-06-05T01:28:11.541Z"
   },
   {
    "duration": 68,
    "start_time": "2023-06-05T01:28:11.645Z"
   },
   {
    "duration": 0,
    "start_time": "2023-06-05T01:28:11.715Z"
   },
   {
    "duration": 0,
    "start_time": "2023-06-05T01:28:11.716Z"
   },
   {
    "duration": 0,
    "start_time": "2023-06-05T01:28:11.717Z"
   },
   {
    "duration": 0,
    "start_time": "2023-06-05T01:28:11.719Z"
   },
   {
    "duration": 2,
    "start_time": "2023-06-05T01:28:48.965Z"
   },
   {
    "duration": 77,
    "start_time": "2023-06-05T01:28:57.803Z"
   },
   {
    "duration": 92,
    "start_time": "2023-06-05T01:29:09.523Z"
   },
   {
    "duration": 78,
    "start_time": "2023-06-05T01:29:54.054Z"
   },
   {
    "duration": 129,
    "start_time": "2023-06-05T01:30:01.436Z"
   },
   {
    "duration": 67,
    "start_time": "2023-06-05T01:31:34.536Z"
   },
   {
    "duration": 7,
    "start_time": "2023-06-05T01:31:44.696Z"
   },
   {
    "duration": 5,
    "start_time": "2023-06-05T01:33:40.714Z"
   },
   {
    "duration": 9,
    "start_time": "2023-06-05T01:33:43.135Z"
   },
   {
    "duration": 8,
    "start_time": "2023-06-05T01:33:46.902Z"
   },
   {
    "duration": 9,
    "start_time": "2023-06-05T01:33:50.018Z"
   },
   {
    "duration": 9,
    "start_time": "2023-06-05T01:34:36.002Z"
   },
   {
    "duration": 9,
    "start_time": "2023-06-05T01:34:38.426Z"
   },
   {
    "duration": 79,
    "start_time": "2023-06-05T01:36:58.345Z"
   },
   {
    "duration": 9,
    "start_time": "2023-06-05T01:39:01.362Z"
   },
   {
    "duration": 10,
    "start_time": "2023-06-05T01:39:12.450Z"
   },
   {
    "duration": 9,
    "start_time": "2023-06-05T01:39:19.700Z"
   },
   {
    "duration": 9,
    "start_time": "2023-06-05T01:39:28.140Z"
   },
   {
    "duration": 8,
    "start_time": "2023-06-05T01:39:34.111Z"
   },
   {
    "duration": 8,
    "start_time": "2023-06-05T01:41:36.990Z"
   },
   {
    "duration": 1073,
    "start_time": "2023-06-05T22:24:37.159Z"
   },
   {
    "duration": 254,
    "start_time": "2023-06-05T22:24:38.235Z"
   },
   {
    "duration": 15,
    "start_time": "2023-06-05T22:24:38.491Z"
   },
   {
    "duration": 17,
    "start_time": "2023-06-05T22:24:38.508Z"
   },
   {
    "duration": 234,
    "start_time": "2023-06-05T22:24:38.541Z"
   },
   {
    "duration": 30,
    "start_time": "2023-06-05T22:24:38.777Z"
   },
   {
    "duration": 13,
    "start_time": "2023-06-05T22:24:38.810Z"
   },
   {
    "duration": 83,
    "start_time": "2023-06-05T22:24:38.825Z"
   },
   {
    "duration": 31,
    "start_time": "2023-06-05T22:24:38.911Z"
   },
   {
    "duration": 37,
    "start_time": "2023-06-05T22:24:38.945Z"
   },
   {
    "duration": 107,
    "start_time": "2023-06-05T22:24:38.984Z"
   },
   {
    "duration": 143,
    "start_time": "2023-06-05T22:24:39.092Z"
   },
   {
    "duration": 38,
    "start_time": "2023-06-05T22:24:39.237Z"
   },
   {
    "duration": 82,
    "start_time": "2023-06-05T22:24:39.277Z"
   },
   {
    "duration": 14,
    "start_time": "2023-06-05T22:24:39.360Z"
   },
   {
    "duration": 23,
    "start_time": "2023-06-05T22:24:39.375Z"
   },
   {
    "duration": 30,
    "start_time": "2023-06-05T22:24:39.400Z"
   },
   {
    "duration": 4,
    "start_time": "2023-06-05T22:24:39.441Z"
   },
   {
    "duration": 14,
    "start_time": "2023-06-05T22:24:39.447Z"
   },
   {
    "duration": 65,
    "start_time": "2023-06-05T22:24:39.463Z"
   },
   {
    "duration": 34,
    "start_time": "2023-06-05T22:24:39.543Z"
   },
   {
    "duration": 19,
    "start_time": "2023-06-05T22:24:39.579Z"
   },
   {
    "duration": 30,
    "start_time": "2023-06-05T22:24:39.601Z"
   },
   {
    "duration": 622,
    "start_time": "2023-06-05T22:24:39.641Z"
   },
   {
    "duration": 589,
    "start_time": "2023-06-05T22:24:40.265Z"
   },
   {
    "duration": 26,
    "start_time": "2023-06-05T22:24:40.856Z"
   },
   {
    "duration": 504,
    "start_time": "2023-06-05T22:24:40.884Z"
   },
   {
    "duration": 13,
    "start_time": "2023-06-05T22:24:41.392Z"
   },
   {
    "duration": 58,
    "start_time": "2023-06-05T22:24:41.406Z"
   },
   {
    "duration": 51,
    "start_time": "2023-06-05T22:24:41.466Z"
   },
   {
    "duration": 37,
    "start_time": "2023-06-05T22:24:41.519Z"
   },
   {
    "duration": 73,
    "start_time": "2023-06-05T22:24:41.558Z"
   },
   {
    "duration": 11,
    "start_time": "2023-06-05T22:24:41.642Z"
   },
   {
    "duration": 20,
    "start_time": "2023-06-05T22:24:41.655Z"
   },
   {
    "duration": 67,
    "start_time": "2023-06-05T22:24:41.677Z"
   },
   {
    "duration": 47,
    "start_time": "2023-06-05T22:24:41.747Z"
   },
   {
    "duration": 3,
    "start_time": "2023-06-05T22:24:41.796Z"
   },
   {
    "duration": 60,
    "start_time": "2023-06-05T22:24:41.801Z"
   },
   {
    "duration": 107,
    "start_time": "2023-06-05T22:24:41.863Z"
   },
   {
    "duration": 142,
    "start_time": "2023-06-05T22:24:41.972Z"
   },
   {
    "duration": 10,
    "start_time": "2023-06-05T22:24:42.122Z"
   },
   {
    "duration": 19,
    "start_time": "2023-06-05T22:24:42.134Z"
   },
   {
    "duration": 30,
    "start_time": "2023-06-05T22:24:42.155Z"
   },
   {
    "duration": 19,
    "start_time": "2023-06-05T22:24:42.187Z"
   },
   {
    "duration": 21,
    "start_time": "2023-06-05T22:24:42.207Z"
   },
   {
    "duration": 15,
    "start_time": "2023-06-05T22:24:42.229Z"
   },
   {
    "duration": 4,
    "start_time": "2023-06-05T22:25:28.783Z"
   },
   {
    "duration": 4,
    "start_time": "2023-06-05T22:38:12.486Z"
   },
   {
    "duration": 81,
    "start_time": "2023-06-06T11:07:04.020Z"
   },
   {
    "duration": 1380,
    "start_time": "2023-06-06T11:07:18.408Z"
   },
   {
    "duration": 1083,
    "start_time": "2023-06-06T11:07:19.791Z"
   },
   {
    "duration": 14,
    "start_time": "2023-06-06T11:07:20.875Z"
   },
   {
    "duration": 20,
    "start_time": "2023-06-06T11:07:20.891Z"
   },
   {
    "duration": 346,
    "start_time": "2023-06-06T11:07:20.913Z"
   },
   {
    "duration": 45,
    "start_time": "2023-06-06T11:07:21.261Z"
   },
   {
    "duration": 11,
    "start_time": "2023-06-06T11:07:21.308Z"
   },
   {
    "duration": 118,
    "start_time": "2023-06-06T11:07:21.321Z"
   },
   {
    "duration": 39,
    "start_time": "2023-06-06T11:07:21.442Z"
   },
   {
    "duration": 100,
    "start_time": "2023-06-06T11:07:21.484Z"
   },
   {
    "duration": 122,
    "start_time": "2023-06-06T11:07:21.586Z"
   },
   {
    "duration": 137,
    "start_time": "2023-06-06T11:07:21.710Z"
   },
   {
    "duration": 50,
    "start_time": "2023-06-06T11:07:21.848Z"
   },
   {
    "duration": 95,
    "start_time": "2023-06-06T11:07:21.900Z"
   },
   {
    "duration": 12,
    "start_time": "2023-06-06T11:07:21.997Z"
   },
   {
    "duration": 62,
    "start_time": "2023-06-06T11:07:22.010Z"
   },
   {
    "duration": 86,
    "start_time": "2023-06-06T11:07:22.073Z"
   },
   {
    "duration": 19,
    "start_time": "2023-06-06T11:07:22.161Z"
   },
   {
    "duration": 37,
    "start_time": "2023-06-06T11:07:22.182Z"
   },
   {
    "duration": 79,
    "start_time": "2023-06-06T11:07:22.220Z"
   },
   {
    "duration": 37,
    "start_time": "2023-06-06T11:07:22.300Z"
   },
   {
    "duration": 25,
    "start_time": "2023-06-06T11:07:22.344Z"
   },
   {
    "duration": 26,
    "start_time": "2023-06-06T11:07:22.371Z"
   },
   {
    "duration": 744,
    "start_time": "2023-06-06T11:07:22.399Z"
   },
   {
    "duration": 648,
    "start_time": "2023-06-06T11:07:23.145Z"
   },
   {
    "duration": 43,
    "start_time": "2023-06-06T11:07:23.795Z"
   },
   {
    "duration": 532,
    "start_time": "2023-06-06T11:07:23.845Z"
   },
   {
    "duration": 13,
    "start_time": "2023-06-06T11:07:24.380Z"
   },
   {
    "duration": 71,
    "start_time": "2023-06-06T11:07:24.394Z"
   },
   {
    "duration": 49,
    "start_time": "2023-06-06T11:07:24.467Z"
   },
   {
    "duration": 41,
    "start_time": "2023-06-06T11:07:24.524Z"
   },
   {
    "duration": 92,
    "start_time": "2023-06-06T11:07:24.567Z"
   },
   {
    "duration": 14,
    "start_time": "2023-06-06T11:07:24.664Z"
   },
   {
    "duration": 53,
    "start_time": "2023-06-06T11:07:24.680Z"
   },
   {
    "duration": 99,
    "start_time": "2023-06-06T11:07:24.737Z"
   },
   {
    "duration": 82,
    "start_time": "2023-06-06T11:07:24.843Z"
   },
   {
    "duration": 18,
    "start_time": "2023-06-06T11:07:24.936Z"
   },
   {
    "duration": 77,
    "start_time": "2023-06-06T11:07:24.962Z"
   },
   {
    "duration": 80,
    "start_time": "2023-06-06T11:07:25.041Z"
   },
   {
    "duration": 132,
    "start_time": "2023-06-06T11:07:25.123Z"
   },
   {
    "duration": 9,
    "start_time": "2023-06-06T11:07:25.256Z"
   },
   {
    "duration": 25,
    "start_time": "2023-06-06T11:07:25.267Z"
   },
   {
    "duration": 66,
    "start_time": "2023-06-06T11:07:25.295Z"
   },
   {
    "duration": 41,
    "start_time": "2023-06-06T11:07:25.363Z"
   },
   {
    "duration": 23,
    "start_time": "2023-06-06T11:07:25.406Z"
   },
   {
    "duration": 33,
    "start_time": "2023-06-06T11:07:25.430Z"
   },
   {
    "duration": 7,
    "start_time": "2023-06-06T11:16:08.003Z"
   },
   {
    "duration": 72,
    "start_time": "2023-06-06T11:20:51.404Z"
   },
   {
    "duration": 6,
    "start_time": "2023-06-06T11:21:08.280Z"
   },
   {
    "duration": 119,
    "start_time": "2023-06-06T11:21:31.683Z"
   },
   {
    "duration": 7,
    "start_time": "2023-06-06T11:22:56.699Z"
   },
   {
    "duration": 16,
    "start_time": "2023-06-06T11:29:01.507Z"
   },
   {
    "duration": 20,
    "start_time": "2023-06-06T11:31:26.690Z"
   },
   {
    "duration": 11,
    "start_time": "2023-06-06T11:34:13.354Z"
   },
   {
    "duration": 11,
    "start_time": "2023-06-06T11:34:22.069Z"
   },
   {
    "duration": 11,
    "start_time": "2023-06-06T11:34:32.143Z"
   },
   {
    "duration": 20,
    "start_time": "2023-06-06T11:34:39.553Z"
   },
   {
    "duration": 17,
    "start_time": "2023-06-06T11:34:51.058Z"
   },
   {
    "duration": 17,
    "start_time": "2023-06-06T11:35:05.078Z"
   },
   {
    "duration": 551,
    "start_time": "2023-06-06T11:36:46.047Z"
   },
   {
    "duration": 202,
    "start_time": "2023-06-06T11:38:52.716Z"
   },
   {
    "duration": 147,
    "start_time": "2023-06-06T11:38:59.817Z"
   },
   {
    "duration": 133,
    "start_time": "2023-06-06T11:39:13.423Z"
   },
   {
    "duration": 4,
    "start_time": "2023-06-06T11:39:41.707Z"
   },
   {
    "duration": 5,
    "start_time": "2023-06-06T11:39:48.550Z"
   },
   {
    "duration": 8,
    "start_time": "2023-06-06T11:39:55.115Z"
   },
   {
    "duration": 10,
    "start_time": "2023-06-06T11:41:20.141Z"
   },
   {
    "duration": 10,
    "start_time": "2023-06-06T11:41:26.260Z"
   },
   {
    "duration": 25,
    "start_time": "2023-06-06T11:44:31.063Z"
   },
   {
    "duration": 6,
    "start_time": "2023-06-06T11:54:27.524Z"
   },
   {
    "duration": 9,
    "start_time": "2023-06-06T11:58:25.924Z"
   },
   {
    "duration": 14,
    "start_time": "2023-06-06T11:58:37.443Z"
   },
   {
    "duration": 22,
    "start_time": "2023-06-06T12:02:04.752Z"
   },
   {
    "duration": 18,
    "start_time": "2023-06-06T12:02:55.173Z"
   },
   {
    "duration": 25,
    "start_time": "2023-06-06T12:03:02.249Z"
   },
   {
    "duration": 23,
    "start_time": "2023-06-06T12:03:11.552Z"
   },
   {
    "duration": 16,
    "start_time": "2023-06-06T12:03:33.237Z"
   },
   {
    "duration": 18,
    "start_time": "2023-06-06T12:03:43.740Z"
   },
   {
    "duration": 8,
    "start_time": "2023-06-06T12:03:44.868Z"
   },
   {
    "duration": 16,
    "start_time": "2023-06-06T12:06:07.056Z"
   },
   {
    "duration": 13,
    "start_time": "2023-06-06T12:06:19.295Z"
   },
   {
    "duration": 1272,
    "start_time": "2023-06-06T12:07:31.597Z"
   },
   {
    "duration": 240,
    "start_time": "2023-06-06T12:07:32.871Z"
   },
   {
    "duration": 22,
    "start_time": "2023-06-06T12:07:33.113Z"
   },
   {
    "duration": 20,
    "start_time": "2023-06-06T12:07:33.136Z"
   },
   {
    "duration": 298,
    "start_time": "2023-06-06T12:07:33.159Z"
   },
   {
    "duration": 46,
    "start_time": "2023-06-06T12:07:33.460Z"
   },
   {
    "duration": 23,
    "start_time": "2023-06-06T12:07:33.508Z"
   },
   {
    "duration": 88,
    "start_time": "2023-06-06T12:07:33.533Z"
   },
   {
    "duration": 27,
    "start_time": "2023-06-06T12:07:33.624Z"
   },
   {
    "duration": 34,
    "start_time": "2023-06-06T12:07:33.656Z"
   },
   {
    "duration": 117,
    "start_time": "2023-06-06T12:07:33.692Z"
   },
   {
    "duration": 144,
    "start_time": "2023-06-06T12:07:33.811Z"
   },
   {
    "duration": 38,
    "start_time": "2023-06-06T12:07:33.957Z"
   },
   {
    "duration": 85,
    "start_time": "2023-06-06T12:07:33.998Z"
   },
   {
    "duration": 36,
    "start_time": "2023-06-06T12:07:34.085Z"
   },
   {
    "duration": 54,
    "start_time": "2023-06-06T12:07:34.123Z"
   },
   {
    "duration": 70,
    "start_time": "2023-06-06T12:07:34.179Z"
   },
   {
    "duration": 14,
    "start_time": "2023-06-06T12:07:34.253Z"
   },
   {
    "duration": 24,
    "start_time": "2023-06-06T12:07:34.268Z"
   },
   {
    "duration": 82,
    "start_time": "2023-06-06T12:07:34.293Z"
   },
   {
    "duration": 21,
    "start_time": "2023-06-06T12:07:34.377Z"
   },
   {
    "duration": 40,
    "start_time": "2023-06-06T12:07:34.400Z"
   },
   {
    "duration": 22,
    "start_time": "2023-06-06T12:07:34.444Z"
   },
   {
    "duration": 630,
    "start_time": "2023-06-06T12:07:34.468Z"
   },
   {
    "duration": 626,
    "start_time": "2023-06-06T12:07:35.099Z"
   },
   {
    "duration": 39,
    "start_time": "2023-06-06T12:07:35.726Z"
   },
   {
    "duration": 566,
    "start_time": "2023-06-06T12:07:35.771Z"
   },
   {
    "duration": 22,
    "start_time": "2023-06-06T12:07:36.340Z"
   },
   {
    "duration": 50,
    "start_time": "2023-06-06T12:07:36.364Z"
   },
   {
    "duration": 59,
    "start_time": "2023-06-06T12:07:36.424Z"
   },
   {
    "duration": 23,
    "start_time": "2023-06-06T12:07:36.485Z"
   },
   {
    "duration": 70,
    "start_time": "2023-06-06T12:07:36.526Z"
   },
   {
    "duration": 9,
    "start_time": "2023-06-06T12:07:36.598Z"
   },
   {
    "duration": 22,
    "start_time": "2023-06-06T12:07:36.626Z"
   },
   {
    "duration": 60,
    "start_time": "2023-06-06T12:07:36.649Z"
   },
   {
    "duration": 102,
    "start_time": "2023-06-06T12:07:36.710Z"
   },
   {
    "duration": 0,
    "start_time": "2023-06-06T12:07:36.813Z"
   },
   {
    "duration": 0,
    "start_time": "2023-06-06T12:07:36.815Z"
   },
   {
    "duration": 0,
    "start_time": "2023-06-06T12:07:36.816Z"
   },
   {
    "duration": 0,
    "start_time": "2023-06-06T12:07:36.818Z"
   },
   {
    "duration": 0,
    "start_time": "2023-06-06T12:07:36.827Z"
   },
   {
    "duration": 0,
    "start_time": "2023-06-06T12:07:36.831Z"
   },
   {
    "duration": 0,
    "start_time": "2023-06-06T12:07:36.832Z"
   },
   {
    "duration": 0,
    "start_time": "2023-06-06T12:07:36.832Z"
   },
   {
    "duration": 10,
    "start_time": "2023-06-06T12:08:05.752Z"
   },
   {
    "duration": 1322,
    "start_time": "2023-06-06T12:09:28.416Z"
   },
   {
    "duration": 364,
    "start_time": "2023-06-06T12:09:29.740Z"
   },
   {
    "duration": 38,
    "start_time": "2023-06-06T12:09:30.109Z"
   },
   {
    "duration": 45,
    "start_time": "2023-06-06T12:09:30.149Z"
   },
   {
    "duration": 378,
    "start_time": "2023-06-06T12:09:30.198Z"
   },
   {
    "duration": 66,
    "start_time": "2023-06-06T12:09:30.579Z"
   },
   {
    "duration": 65,
    "start_time": "2023-06-06T12:09:30.648Z"
   },
   {
    "duration": 170,
    "start_time": "2023-06-06T12:09:30.715Z"
   },
   {
    "duration": 44,
    "start_time": "2023-06-06T12:09:30.887Z"
   },
   {
    "duration": 80,
    "start_time": "2023-06-06T12:09:30.933Z"
   },
   {
    "duration": 158,
    "start_time": "2023-06-06T12:09:31.015Z"
   },
   {
    "duration": 196,
    "start_time": "2023-06-06T12:09:31.182Z"
   },
   {
    "duration": 98,
    "start_time": "2023-06-06T12:09:31.380Z"
   },
   {
    "duration": 100,
    "start_time": "2023-06-06T12:09:31.482Z"
   },
   {
    "duration": 23,
    "start_time": "2023-06-06T12:09:31.585Z"
   },
   {
    "duration": 54,
    "start_time": "2023-06-06T12:09:31.612Z"
   },
   {
    "duration": 42,
    "start_time": "2023-06-06T12:09:31.668Z"
   },
   {
    "duration": 43,
    "start_time": "2023-06-06T12:09:31.711Z"
   },
   {
    "duration": 43,
    "start_time": "2023-06-06T12:09:31.756Z"
   },
   {
    "duration": 74,
    "start_time": "2023-06-06T12:09:31.801Z"
   },
   {
    "duration": 32,
    "start_time": "2023-06-06T12:09:31.877Z"
   },
   {
    "duration": 58,
    "start_time": "2023-06-06T12:09:31.911Z"
   },
   {
    "duration": 33,
    "start_time": "2023-06-06T12:09:31.971Z"
   },
   {
    "duration": 1013,
    "start_time": "2023-06-06T12:09:32.007Z"
   },
   {
    "duration": 980,
    "start_time": "2023-06-06T12:09:33.025Z"
   },
   {
    "duration": 62,
    "start_time": "2023-06-06T12:09:34.007Z"
   },
   {
    "duration": 657,
    "start_time": "2023-06-06T12:09:34.074Z"
   },
   {
    "duration": 28,
    "start_time": "2023-06-06T12:09:34.732Z"
   },
   {
    "duration": 108,
    "start_time": "2023-06-06T12:09:34.764Z"
   },
   {
    "duration": 70,
    "start_time": "2023-06-06T12:09:34.875Z"
   },
   {
    "duration": 47,
    "start_time": "2023-06-06T12:09:34.952Z"
   },
   {
    "duration": 99,
    "start_time": "2023-06-06T12:09:35.001Z"
   },
   {
    "duration": 10,
    "start_time": "2023-06-06T12:09:35.102Z"
   },
   {
    "duration": 21,
    "start_time": "2023-06-06T12:09:35.124Z"
   },
   {
    "duration": 75,
    "start_time": "2023-06-06T12:09:35.147Z"
   },
   {
    "duration": 162,
    "start_time": "2023-06-06T12:09:35.224Z"
   },
   {
    "duration": 0,
    "start_time": "2023-06-06T12:09:35.389Z"
   },
   {
    "duration": 0,
    "start_time": "2023-06-06T12:09:35.390Z"
   },
   {
    "duration": 0,
    "start_time": "2023-06-06T12:09:35.392Z"
   },
   {
    "duration": 0,
    "start_time": "2023-06-06T12:09:35.394Z"
   },
   {
    "duration": 0,
    "start_time": "2023-06-06T12:09:35.395Z"
   },
   {
    "duration": 0,
    "start_time": "2023-06-06T12:09:35.397Z"
   },
   {
    "duration": 0,
    "start_time": "2023-06-06T12:09:35.398Z"
   },
   {
    "duration": 0,
    "start_time": "2023-06-06T12:09:35.400Z"
   },
   {
    "duration": 1202,
    "start_time": "2023-06-06T12:10:07.677Z"
   },
   {
    "duration": 316,
    "start_time": "2023-06-06T12:10:08.882Z"
   },
   {
    "duration": 26,
    "start_time": "2023-06-06T12:10:09.201Z"
   },
   {
    "duration": 25,
    "start_time": "2023-06-06T12:10:09.238Z"
   },
   {
    "duration": 367,
    "start_time": "2023-06-06T12:10:09.265Z"
   },
   {
    "duration": 50,
    "start_time": "2023-06-06T12:10:09.639Z"
   },
   {
    "duration": 8,
    "start_time": "2023-06-06T12:10:09.691Z"
   },
   {
    "duration": 179,
    "start_time": "2023-06-06T12:10:09.701Z"
   },
   {
    "duration": 17,
    "start_time": "2023-06-06T12:10:09.884Z"
   },
   {
    "duration": 94,
    "start_time": "2023-06-06T12:10:09.905Z"
   },
   {
    "duration": 140,
    "start_time": "2023-06-06T12:10:10.005Z"
   },
   {
    "duration": 180,
    "start_time": "2023-06-06T12:10:10.149Z"
   },
   {
    "duration": 69,
    "start_time": "2023-06-06T12:10:10.340Z"
   },
   {
    "duration": 97,
    "start_time": "2023-06-06T12:10:10.411Z"
   },
   {
    "duration": 25,
    "start_time": "2023-06-06T12:10:10.510Z"
   },
   {
    "duration": 39,
    "start_time": "2023-06-06T12:10:10.541Z"
   },
   {
    "duration": 38,
    "start_time": "2023-06-06T12:10:10.584Z"
   },
   {
    "duration": 34,
    "start_time": "2023-06-06T12:10:10.624Z"
   },
   {
    "duration": 217,
    "start_time": "2023-06-06T12:10:10.662Z"
   },
   {
    "duration": 128,
    "start_time": "2023-06-06T12:10:10.882Z"
   },
   {
    "duration": 45,
    "start_time": "2023-06-06T12:10:11.012Z"
   },
   {
    "duration": 29,
    "start_time": "2023-06-06T12:10:11.059Z"
   },
   {
    "duration": 26,
    "start_time": "2023-06-06T12:10:11.091Z"
   },
   {
    "duration": 739,
    "start_time": "2023-06-06T12:10:11.119Z"
   },
   {
    "duration": 674,
    "start_time": "2023-06-06T12:10:11.860Z"
   },
   {
    "duration": 41,
    "start_time": "2023-06-06T12:10:12.535Z"
   },
   {
    "duration": 786,
    "start_time": "2023-06-06T12:10:12.584Z"
   },
   {
    "duration": 20,
    "start_time": "2023-06-06T12:10:13.374Z"
   },
   {
    "duration": 87,
    "start_time": "2023-06-06T12:10:13.396Z"
   },
   {
    "duration": 63,
    "start_time": "2023-06-06T12:10:13.485Z"
   },
   {
    "duration": 39,
    "start_time": "2023-06-06T12:10:13.553Z"
   },
   {
    "duration": 90,
    "start_time": "2023-06-06T12:10:13.594Z"
   },
   {
    "duration": 9,
    "start_time": "2023-06-06T12:10:13.685Z"
   },
   {
    "duration": 17,
    "start_time": "2023-06-06T12:10:13.696Z"
   },
   {
    "duration": 64,
    "start_time": "2023-06-06T12:10:13.715Z"
   },
   {
    "duration": 76,
    "start_time": "2023-06-06T12:10:13.781Z"
   },
   {
    "duration": 7,
    "start_time": "2023-06-06T12:10:13.864Z"
   },
   {
    "duration": 77,
    "start_time": "2023-06-06T12:10:13.875Z"
   },
   {
    "duration": 101,
    "start_time": "2023-06-06T12:10:13.954Z"
   },
   {
    "duration": 155,
    "start_time": "2023-06-06T12:10:14.057Z"
   },
   {
    "duration": 15,
    "start_time": "2023-06-06T12:10:14.214Z"
   },
   {
    "duration": 44,
    "start_time": "2023-06-06T12:10:14.231Z"
   },
   {
    "duration": 200,
    "start_time": "2023-06-06T12:10:14.277Z"
   },
   {
    "duration": 27,
    "start_time": "2023-06-06T12:11:04.319Z"
   },
   {
    "duration": 13,
    "start_time": "2023-06-06T12:11:23.159Z"
   },
   {
    "duration": 1085,
    "start_time": "2023-06-06T12:14:01.408Z"
   },
   {
    "duration": 1090,
    "start_time": "2023-06-06T12:14:19.678Z"
   },
   {
    "duration": 1087,
    "start_time": "2023-06-06T12:14:35.409Z"
   },
   {
    "duration": 22,
    "start_time": "2023-06-06T12:14:46.009Z"
   },
   {
    "duration": 7,
    "start_time": "2023-06-06T12:15:09.646Z"
   },
   {
    "duration": 25,
    "start_time": "2023-06-06T12:15:13.024Z"
   },
   {
    "duration": 21,
    "start_time": "2023-06-06T12:15:27.843Z"
   },
   {
    "duration": 14,
    "start_time": "2023-06-06T12:16:10.477Z"
   },
   {
    "duration": 25,
    "start_time": "2023-06-06T12:16:29.014Z"
   },
   {
    "duration": 11,
    "start_time": "2023-06-06T12:16:37.382Z"
   },
   {
    "duration": 12,
    "start_time": "2023-06-06T12:17:02.703Z"
   },
   {
    "duration": 13,
    "start_time": "2023-06-06T12:17:45.186Z"
   },
   {
    "duration": 8,
    "start_time": "2023-06-06T12:17:54.883Z"
   },
   {
    "duration": 10,
    "start_time": "2023-06-06T12:18:21.297Z"
   },
   {
    "duration": 9,
    "start_time": "2023-06-06T12:18:40.854Z"
   },
   {
    "duration": 9,
    "start_time": "2023-06-06T12:18:50.910Z"
   },
   {
    "duration": 14,
    "start_time": "2023-06-06T12:21:53.884Z"
   },
   {
    "duration": 9,
    "start_time": "2023-06-06T12:21:54.794Z"
   },
   {
    "duration": 140,
    "start_time": "2023-06-06T12:35:02.007Z"
   },
   {
    "duration": 1136,
    "start_time": "2023-06-06T12:35:25.260Z"
   },
   {
    "duration": 43,
    "start_time": "2023-06-06T12:35:38.359Z"
   },
   {
    "duration": 47,
    "start_time": "2023-06-06T12:35:50.061Z"
   },
   {
    "duration": 4,
    "start_time": "2023-06-06T12:36:02.802Z"
   },
   {
    "duration": 13,
    "start_time": "2023-06-06T12:36:05.906Z"
   },
   {
    "duration": 14,
    "start_time": "2023-06-06T12:36:09.179Z"
   },
   {
    "duration": 81,
    "start_time": "2023-06-06T12:36:22.564Z"
   },
   {
    "duration": 110,
    "start_time": "2023-06-06T12:36:28.606Z"
   },
   {
    "duration": 15,
    "start_time": "2023-06-06T12:37:14.758Z"
   },
   {
    "duration": 9,
    "start_time": "2023-06-06T12:37:43.955Z"
   },
   {
    "duration": 17,
    "start_time": "2023-06-06T12:38:01.674Z"
   },
   {
    "duration": 73,
    "start_time": "2023-06-06T12:43:46.978Z"
   },
   {
    "duration": 5,
    "start_time": "2023-06-06T12:44:04.584Z"
   },
   {
    "duration": 5,
    "start_time": "2023-06-06T12:45:29.588Z"
   },
   {
    "duration": 1088,
    "start_time": "2023-06-06T12:46:22.410Z"
   },
   {
    "duration": 7,
    "start_time": "2023-06-06T12:47:15.619Z"
   },
   {
    "duration": 7,
    "start_time": "2023-06-06T12:47:34.022Z"
   },
   {
    "duration": 4,
    "start_time": "2023-06-06T12:47:44.594Z"
   },
   {
    "duration": 4,
    "start_time": "2023-06-06T12:49:10.879Z"
   },
   {
    "duration": 5,
    "start_time": "2023-06-06T12:49:27.379Z"
   },
   {
    "duration": 14,
    "start_time": "2023-06-06T12:53:16.283Z"
   },
   {
    "duration": 19,
    "start_time": "2023-06-06T12:53:24.911Z"
   },
   {
    "duration": 19,
    "start_time": "2023-06-06T12:54:03.755Z"
   },
   {
    "duration": 20,
    "start_time": "2023-06-06T12:54:45.643Z"
   },
   {
    "duration": 19,
    "start_time": "2023-06-06T13:26:18.453Z"
   },
   {
    "duration": 17,
    "start_time": "2023-06-06T13:26:49.654Z"
   },
   {
    "duration": 1133,
    "start_time": "2023-06-06T13:27:05.247Z"
   },
   {
    "duration": 253,
    "start_time": "2023-06-06T13:27:06.382Z"
   },
   {
    "duration": 28,
    "start_time": "2023-06-06T13:27:06.637Z"
   },
   {
    "duration": 24,
    "start_time": "2023-06-06T13:27:06.666Z"
   },
   {
    "duration": 285,
    "start_time": "2023-06-06T13:27:06.691Z"
   },
   {
    "duration": 29,
    "start_time": "2023-06-06T13:27:06.978Z"
   },
   {
    "duration": 25,
    "start_time": "2023-06-06T13:27:07.008Z"
   },
   {
    "duration": 113,
    "start_time": "2023-06-06T13:27:07.035Z"
   },
   {
    "duration": 20,
    "start_time": "2023-06-06T13:27:07.155Z"
   },
   {
    "duration": 64,
    "start_time": "2023-06-06T13:27:07.177Z"
   },
   {
    "duration": 111,
    "start_time": "2023-06-06T13:27:07.248Z"
   },
   {
    "duration": 129,
    "start_time": "2023-06-06T13:27:07.362Z"
   },
   {
    "duration": 49,
    "start_time": "2023-06-06T13:27:07.493Z"
   },
   {
    "duration": 101,
    "start_time": "2023-06-06T13:27:07.551Z"
   },
   {
    "duration": 22,
    "start_time": "2023-06-06T13:27:07.654Z"
   },
   {
    "duration": 29,
    "start_time": "2023-06-06T13:27:07.678Z"
   },
   {
    "duration": 53,
    "start_time": "2023-06-06T13:27:07.709Z"
   },
   {
    "duration": 2,
    "start_time": "2023-06-06T13:27:07.764Z"
   },
   {
    "duration": 13,
    "start_time": "2023-06-06T13:27:07.767Z"
   },
   {
    "duration": 88,
    "start_time": "2023-06-06T13:27:07.782Z"
   },
   {
    "duration": 34,
    "start_time": "2023-06-06T13:27:07.872Z"
   },
   {
    "duration": 38,
    "start_time": "2023-06-06T13:27:07.908Z"
   },
   {
    "duration": 25,
    "start_time": "2023-06-06T13:27:07.948Z"
   },
   {
    "duration": 676,
    "start_time": "2023-06-06T13:27:07.975Z"
   },
   {
    "duration": 685,
    "start_time": "2023-06-06T13:27:08.653Z"
   },
   {
    "duration": 33,
    "start_time": "2023-06-06T13:27:09.344Z"
   },
   {
    "duration": 750,
    "start_time": "2023-06-06T13:27:09.380Z"
   },
   {
    "duration": 26,
    "start_time": "2023-06-06T13:27:10.132Z"
   },
   {
    "duration": 98,
    "start_time": "2023-06-06T13:27:10.165Z"
   },
   {
    "duration": 79,
    "start_time": "2023-06-06T13:27:10.266Z"
   },
   {
    "duration": 44,
    "start_time": "2023-06-06T13:27:10.348Z"
   },
   {
    "duration": 110,
    "start_time": "2023-06-06T13:27:10.394Z"
   },
   {
    "duration": 11,
    "start_time": "2023-06-06T13:27:10.506Z"
   },
   {
    "duration": 16,
    "start_time": "2023-06-06T13:27:10.529Z"
   },
   {
    "duration": 102,
    "start_time": "2023-06-06T13:27:10.547Z"
   },
   {
    "duration": 13,
    "start_time": "2023-06-06T13:27:10.652Z"
   },
   {
    "duration": 85,
    "start_time": "2023-06-06T13:27:10.674Z"
   },
   {
    "duration": 2,
    "start_time": "2023-06-06T13:27:10.762Z"
   },
   {
    "duration": 58,
    "start_time": "2023-06-06T13:27:10.767Z"
   },
   {
    "duration": 86,
    "start_time": "2023-06-06T13:27:10.830Z"
   },
   {
    "duration": 159,
    "start_time": "2023-06-06T13:27:10.922Z"
   },
   {
    "duration": 18,
    "start_time": "2023-06-06T13:27:11.084Z"
   },
   {
    "duration": 42,
    "start_time": "2023-06-06T13:27:11.106Z"
   },
   {
    "duration": 24,
    "start_time": "2023-06-06T13:27:11.154Z"
   },
   {
    "duration": 49,
    "start_time": "2023-06-06T13:27:11.181Z"
   },
   {
    "duration": 32,
    "start_time": "2023-06-06T13:27:11.232Z"
   },
   {
    "duration": 149,
    "start_time": "2023-06-06T13:27:11.268Z"
   },
   {
    "duration": 0,
    "start_time": "2023-06-06T13:27:11.419Z"
   },
   {
    "duration": 0,
    "start_time": "2023-06-06T13:27:11.420Z"
   },
   {
    "duration": 0,
    "start_time": "2023-06-06T13:27:11.421Z"
   },
   {
    "duration": 9,
    "start_time": "2023-06-06T13:28:44.787Z"
   },
   {
    "duration": 15,
    "start_time": "2023-06-06T13:28:49.002Z"
   },
   {
    "duration": 1013,
    "start_time": "2023-06-06T13:29:28.655Z"
   },
   {
    "duration": 1123,
    "start_time": "2023-06-06T13:30:20.813Z"
   },
   {
    "duration": 266,
    "start_time": "2023-06-06T13:30:21.944Z"
   },
   {
    "duration": 16,
    "start_time": "2023-06-06T13:30:22.212Z"
   },
   {
    "duration": 37,
    "start_time": "2023-06-06T13:30:22.232Z"
   },
   {
    "duration": 274,
    "start_time": "2023-06-06T13:30:22.271Z"
   },
   {
    "duration": 31,
    "start_time": "2023-06-06T13:30:22.555Z"
   },
   {
    "duration": 9,
    "start_time": "2023-06-06T13:30:22.588Z"
   },
   {
    "duration": 104,
    "start_time": "2023-06-06T13:30:22.599Z"
   },
   {
    "duration": 23,
    "start_time": "2023-06-06T13:30:22.705Z"
   },
   {
    "duration": 58,
    "start_time": "2023-06-06T13:30:22.734Z"
   },
   {
    "duration": 122,
    "start_time": "2023-06-06T13:30:22.794Z"
   },
   {
    "duration": 143,
    "start_time": "2023-06-06T13:30:22.919Z"
   },
   {
    "duration": 54,
    "start_time": "2023-06-06T13:30:23.067Z"
   },
   {
    "duration": 101,
    "start_time": "2023-06-06T13:30:23.126Z"
   },
   {
    "duration": 31,
    "start_time": "2023-06-06T13:30:23.229Z"
   },
   {
    "duration": 30,
    "start_time": "2023-06-06T13:30:23.266Z"
   },
   {
    "duration": 76,
    "start_time": "2023-06-06T13:30:23.298Z"
   },
   {
    "duration": 7,
    "start_time": "2023-06-06T13:30:23.376Z"
   },
   {
    "duration": 19,
    "start_time": "2023-06-06T13:30:23.385Z"
   },
   {
    "duration": 69,
    "start_time": "2023-06-06T13:30:23.406Z"
   },
   {
    "duration": 21,
    "start_time": "2023-06-06T13:30:23.477Z"
   },
   {
    "duration": 41,
    "start_time": "2023-06-06T13:30:23.500Z"
   },
   {
    "duration": 54,
    "start_time": "2023-06-06T13:30:23.546Z"
   },
   {
    "duration": 848,
    "start_time": "2023-06-06T13:30:23.603Z"
   },
   {
    "duration": 647,
    "start_time": "2023-06-06T13:30:24.453Z"
   },
   {
    "duration": 49,
    "start_time": "2023-06-06T13:30:25.103Z"
   },
   {
    "duration": 556,
    "start_time": "2023-06-06T13:30:25.154Z"
   },
   {
    "duration": 16,
    "start_time": "2023-06-06T13:30:25.714Z"
   },
   {
    "duration": 70,
    "start_time": "2023-06-06T13:30:25.735Z"
   },
   {
    "duration": 62,
    "start_time": "2023-06-06T13:30:25.808Z"
   },
   {
    "duration": 51,
    "start_time": "2023-06-06T13:30:25.873Z"
   },
   {
    "duration": 104,
    "start_time": "2023-06-06T13:30:25.934Z"
   },
   {
    "duration": 18,
    "start_time": "2023-06-06T13:30:26.045Z"
   },
   {
    "duration": 17,
    "start_time": "2023-06-06T13:30:26.065Z"
   },
   {
    "duration": 67,
    "start_time": "2023-06-06T13:30:26.083Z"
   },
   {
    "duration": 14,
    "start_time": "2023-06-06T13:30:26.151Z"
   },
   {
    "duration": 46,
    "start_time": "2023-06-06T13:30:26.168Z"
   },
   {
    "duration": 2,
    "start_time": "2023-06-06T13:30:26.215Z"
   },
   {
    "duration": 72,
    "start_time": "2023-06-06T13:30:26.218Z"
   },
   {
    "duration": 76,
    "start_time": "2023-06-06T13:30:26.292Z"
   },
   {
    "duration": 122,
    "start_time": "2023-06-06T13:30:26.370Z"
   },
   {
    "duration": 7,
    "start_time": "2023-06-06T13:30:26.494Z"
   },
   {
    "duration": 8,
    "start_time": "2023-06-06T13:30:26.503Z"
   },
   {
    "duration": 22,
    "start_time": "2023-06-06T13:30:26.513Z"
   },
   {
    "duration": 13,
    "start_time": "2023-06-06T13:30:26.536Z"
   },
   {
    "duration": 107,
    "start_time": "2023-06-06T13:30:26.550Z"
   },
   {
    "duration": 0,
    "start_time": "2023-06-06T13:30:26.659Z"
   },
   {
    "duration": 0,
    "start_time": "2023-06-06T13:30:26.660Z"
   },
   {
    "duration": 0,
    "start_time": "2023-06-06T13:30:26.661Z"
   },
   {
    "duration": 1126,
    "start_time": "2023-06-06T13:31:02.746Z"
   },
   {
    "duration": 249,
    "start_time": "2023-06-06T13:31:03.874Z"
   },
   {
    "duration": 33,
    "start_time": "2023-06-06T13:31:04.124Z"
   },
   {
    "duration": 21,
    "start_time": "2023-06-06T13:31:04.163Z"
   },
   {
    "duration": 286,
    "start_time": "2023-06-06T13:31:04.186Z"
   },
   {
    "duration": 31,
    "start_time": "2023-06-06T13:31:04.474Z"
   },
   {
    "duration": 193,
    "start_time": "2023-06-06T13:31:04.507Z"
   },
   {
    "duration": 117,
    "start_time": "2023-06-06T13:31:04.702Z"
   },
   {
    "duration": 24,
    "start_time": "2023-06-06T13:31:04.821Z"
   },
   {
    "duration": 61,
    "start_time": "2023-06-06T13:31:04.848Z"
   },
   {
    "duration": 139,
    "start_time": "2023-06-06T13:31:04.912Z"
   },
   {
    "duration": 137,
    "start_time": "2023-06-06T13:31:05.055Z"
   },
   {
    "duration": 51,
    "start_time": "2023-06-06T13:31:05.194Z"
   },
   {
    "duration": 94,
    "start_time": "2023-06-06T13:31:05.252Z"
   },
   {
    "duration": 35,
    "start_time": "2023-06-06T13:31:05.348Z"
   },
   {
    "duration": 52,
    "start_time": "2023-06-06T13:31:05.385Z"
   },
   {
    "duration": 44,
    "start_time": "2023-06-06T13:31:05.438Z"
   },
   {
    "duration": 63,
    "start_time": "2023-06-06T13:31:05.484Z"
   },
   {
    "duration": 92,
    "start_time": "2023-06-06T13:31:05.549Z"
   },
   {
    "duration": 93,
    "start_time": "2023-06-06T13:31:05.643Z"
   },
   {
    "duration": 30,
    "start_time": "2023-06-06T13:31:05.744Z"
   },
   {
    "duration": 40,
    "start_time": "2023-06-06T13:31:05.776Z"
   },
   {
    "duration": 56,
    "start_time": "2023-06-06T13:31:05.818Z"
   },
   {
    "duration": 680,
    "start_time": "2023-06-06T13:31:05.876Z"
   },
   {
    "duration": 629,
    "start_time": "2023-06-06T13:31:06.557Z"
   },
   {
    "duration": 24,
    "start_time": "2023-06-06T13:31:07.188Z"
   },
   {
    "duration": 596,
    "start_time": "2023-06-06T13:31:07.213Z"
   },
   {
    "duration": 26,
    "start_time": "2023-06-06T13:31:07.813Z"
   },
   {
    "duration": 53,
    "start_time": "2023-06-06T13:31:07.841Z"
   },
   {
    "duration": 65,
    "start_time": "2023-06-06T13:31:07.896Z"
   },
   {
    "duration": 30,
    "start_time": "2023-06-06T13:31:07.965Z"
   },
   {
    "duration": 78,
    "start_time": "2023-06-06T13:31:07.997Z"
   },
   {
    "duration": 9,
    "start_time": "2023-06-06T13:31:08.077Z"
   },
   {
    "duration": 29,
    "start_time": "2023-06-06T13:31:08.088Z"
   },
   {
    "duration": 77,
    "start_time": "2023-06-06T13:31:08.118Z"
   },
   {
    "duration": 64,
    "start_time": "2023-06-06T13:31:08.197Z"
   },
   {
    "duration": 4,
    "start_time": "2023-06-06T13:31:08.263Z"
   },
   {
    "duration": 88,
    "start_time": "2023-06-06T13:31:08.269Z"
   },
   {
    "duration": 63,
    "start_time": "2023-06-06T13:31:08.358Z"
   },
   {
    "duration": 129,
    "start_time": "2023-06-06T13:31:08.423Z"
   },
   {
    "duration": 12,
    "start_time": "2023-06-06T13:31:08.553Z"
   },
   {
    "duration": 15,
    "start_time": "2023-06-06T13:31:08.567Z"
   },
   {
    "duration": 35,
    "start_time": "2023-06-06T13:31:08.584Z"
   },
   {
    "duration": 32,
    "start_time": "2023-06-06T13:31:08.621Z"
   },
   {
    "duration": 128,
    "start_time": "2023-06-06T13:31:08.657Z"
   },
   {
    "duration": 0,
    "start_time": "2023-06-06T13:31:08.787Z"
   },
   {
    "duration": 0,
    "start_time": "2023-06-06T13:31:08.788Z"
   },
   {
    "duration": 0,
    "start_time": "2023-06-06T13:31:08.790Z"
   },
   {
    "duration": 9,
    "start_time": "2023-06-06T13:31:53.794Z"
   },
   {
    "duration": 9,
    "start_time": "2023-06-06T13:32:05.990Z"
   },
   {
    "duration": 32,
    "start_time": "2023-06-06T13:32:15.114Z"
   },
   {
    "duration": 12,
    "start_time": "2023-06-06T13:32:18.050Z"
   },
   {
    "duration": 4,
    "start_time": "2023-06-06T13:32:23.690Z"
   },
   {
    "duration": 13,
    "start_time": "2023-06-06T13:32:54.143Z"
   },
   {
    "duration": 9,
    "start_time": "2023-06-06T13:33:00.903Z"
   },
   {
    "duration": 15,
    "start_time": "2023-06-06T13:33:08.546Z"
   },
   {
    "duration": 4,
    "start_time": "2023-06-06T13:33:11.614Z"
   },
   {
    "duration": 4,
    "start_time": "2023-06-06T13:33:13.890Z"
   },
   {
    "duration": 13,
    "start_time": "2023-06-06T13:33:16.288Z"
   },
   {
    "duration": 6,
    "start_time": "2023-06-06T13:33:54.382Z"
   },
   {
    "duration": 4,
    "start_time": "2023-06-06T13:33:56.758Z"
   },
   {
    "duration": 9,
    "start_time": "2023-06-06T13:33:59.594Z"
   },
   {
    "duration": 5,
    "start_time": "2023-06-06T13:34:02.904Z"
   },
   {
    "duration": 6,
    "start_time": "2023-06-06T13:34:05.185Z"
   },
   {
    "duration": 13,
    "start_time": "2023-06-06T13:34:09.476Z"
   },
   {
    "duration": 24,
    "start_time": "2023-06-06T13:36:48.426Z"
   },
   {
    "duration": 17,
    "start_time": "2023-06-06T13:36:58.724Z"
   },
   {
    "duration": 158,
    "start_time": "2023-06-06T13:38:25.187Z"
   },
   {
    "duration": 20,
    "start_time": "2023-06-06T13:39:22.778Z"
   },
   {
    "duration": 1144,
    "start_time": "2023-06-06T13:42:32.694Z"
   },
   {
    "duration": 239,
    "start_time": "2023-06-06T13:42:33.841Z"
   },
   {
    "duration": 18,
    "start_time": "2023-06-06T13:42:34.082Z"
   },
   {
    "duration": 45,
    "start_time": "2023-06-06T13:42:34.103Z"
   },
   {
    "duration": 271,
    "start_time": "2023-06-06T13:42:34.150Z"
   },
   {
    "duration": 45,
    "start_time": "2023-06-06T13:42:34.423Z"
   },
   {
    "duration": 9,
    "start_time": "2023-06-06T13:42:34.471Z"
   },
   {
    "duration": 98,
    "start_time": "2023-06-06T13:42:34.484Z"
   },
   {
    "duration": 34,
    "start_time": "2023-06-06T13:42:34.584Z"
   },
   {
    "duration": 59,
    "start_time": "2023-06-06T13:42:34.621Z"
   },
   {
    "duration": 129,
    "start_time": "2023-06-06T13:42:34.682Z"
   },
   {
    "duration": 140,
    "start_time": "2023-06-06T13:42:34.813Z"
   },
   {
    "duration": 40,
    "start_time": "2023-06-06T13:42:34.955Z"
   },
   {
    "duration": 92,
    "start_time": "2023-06-06T13:42:34.997Z"
   },
   {
    "duration": 20,
    "start_time": "2023-06-06T13:42:35.092Z"
   },
   {
    "duration": 52,
    "start_time": "2023-06-06T13:42:35.113Z"
   },
   {
    "duration": 24,
    "start_time": "2023-06-06T13:42:35.167Z"
   },
   {
    "duration": 5,
    "start_time": "2023-06-06T13:42:35.193Z"
   },
   {
    "duration": 30,
    "start_time": "2023-06-06T13:42:35.199Z"
   },
   {
    "duration": 65,
    "start_time": "2023-06-06T13:42:35.230Z"
   },
   {
    "duration": 45,
    "start_time": "2023-06-06T13:42:35.297Z"
   },
   {
    "duration": 27,
    "start_time": "2023-06-06T13:42:35.346Z"
   },
   {
    "duration": 19,
    "start_time": "2023-06-06T13:42:35.375Z"
   },
   {
    "duration": 655,
    "start_time": "2023-06-06T13:42:35.395Z"
   },
   {
    "duration": 616,
    "start_time": "2023-06-06T13:42:36.052Z"
   },
   {
    "duration": 41,
    "start_time": "2023-06-06T13:42:36.670Z"
   },
   {
    "duration": 571,
    "start_time": "2023-06-06T13:42:36.713Z"
   },
   {
    "duration": 22,
    "start_time": "2023-06-06T13:42:37.289Z"
   },
   {
    "duration": 90,
    "start_time": "2023-06-06T13:42:37.313Z"
   },
   {
    "duration": 61,
    "start_time": "2023-06-06T13:42:37.405Z"
   },
   {
    "duration": 23,
    "start_time": "2023-06-06T13:42:37.468Z"
   },
   {
    "duration": 86,
    "start_time": "2023-06-06T13:42:37.493Z"
   },
   {
    "duration": 14,
    "start_time": "2023-06-06T13:42:37.581Z"
   },
   {
    "duration": 55,
    "start_time": "2023-06-06T13:42:37.597Z"
   },
   {
    "duration": 64,
    "start_time": "2023-06-06T13:42:37.655Z"
   },
   {
    "duration": 67,
    "start_time": "2023-06-06T13:42:37.721Z"
   },
   {
    "duration": 3,
    "start_time": "2023-06-06T13:42:37.790Z"
   },
   {
    "duration": 61,
    "start_time": "2023-06-06T13:42:37.795Z"
   },
   {
    "duration": 80,
    "start_time": "2023-06-06T13:42:37.859Z"
   },
   {
    "duration": 119,
    "start_time": "2023-06-06T13:42:37.943Z"
   },
   {
    "duration": 10,
    "start_time": "2023-06-06T13:42:38.064Z"
   },
   {
    "duration": 11,
    "start_time": "2023-06-06T13:42:38.076Z"
   },
   {
    "duration": 22,
    "start_time": "2023-06-06T13:42:38.089Z"
   },
   {
    "duration": 15,
    "start_time": "2023-06-06T13:42:38.114Z"
   },
   {
    "duration": 117,
    "start_time": "2023-06-06T13:42:38.130Z"
   },
   {
    "duration": 0,
    "start_time": "2023-06-06T13:42:38.249Z"
   },
   {
    "duration": 0,
    "start_time": "2023-06-06T13:42:38.250Z"
   },
   {
    "duration": 0,
    "start_time": "2023-06-06T13:42:38.252Z"
   },
   {
    "duration": 82,
    "start_time": "2023-06-06T13:43:32.944Z"
   },
   {
    "duration": 1285,
    "start_time": "2023-06-06T13:43:41.788Z"
   },
   {
    "duration": 241,
    "start_time": "2023-06-06T13:43:43.076Z"
   },
   {
    "duration": 22,
    "start_time": "2023-06-06T13:43:43.319Z"
   },
   {
    "duration": 22,
    "start_time": "2023-06-06T13:43:43.345Z"
   },
   {
    "duration": 282,
    "start_time": "2023-06-06T13:43:43.369Z"
   },
   {
    "duration": 36,
    "start_time": "2023-06-06T13:43:43.653Z"
   },
   {
    "duration": 10,
    "start_time": "2023-06-06T13:43:43.691Z"
   },
   {
    "duration": 96,
    "start_time": "2023-06-06T13:43:43.703Z"
   },
   {
    "duration": 27,
    "start_time": "2023-06-06T13:43:43.801Z"
   },
   {
    "duration": 65,
    "start_time": "2023-06-06T13:43:43.831Z"
   },
   {
    "duration": 151,
    "start_time": "2023-06-06T13:43:43.898Z"
   },
   {
    "duration": 122,
    "start_time": "2023-06-06T13:43:44.051Z"
   },
   {
    "duration": 41,
    "start_time": "2023-06-06T13:43:44.175Z"
   },
   {
    "duration": 84,
    "start_time": "2023-06-06T13:43:44.225Z"
   },
   {
    "duration": 38,
    "start_time": "2023-06-06T13:43:44.311Z"
   },
   {
    "duration": 39,
    "start_time": "2023-06-06T13:43:44.351Z"
   },
   {
    "duration": 53,
    "start_time": "2023-06-06T13:43:44.391Z"
   },
   {
    "duration": 2,
    "start_time": "2023-06-06T13:43:44.448Z"
   },
   {
    "duration": 13,
    "start_time": "2023-06-06T13:43:44.452Z"
   },
   {
    "duration": 111,
    "start_time": "2023-06-06T13:43:44.467Z"
   },
   {
    "duration": 32,
    "start_time": "2023-06-06T13:43:44.580Z"
   },
   {
    "duration": 38,
    "start_time": "2023-06-06T13:43:44.614Z"
   },
   {
    "duration": 21,
    "start_time": "2023-06-06T13:43:44.654Z"
   },
   {
    "duration": 675,
    "start_time": "2023-06-06T13:43:44.677Z"
   },
   {
    "duration": 605,
    "start_time": "2023-06-06T13:43:45.353Z"
   },
   {
    "duration": 32,
    "start_time": "2023-06-06T13:43:45.960Z"
   },
   {
    "duration": 580,
    "start_time": "2023-06-06T13:43:45.994Z"
   },
   {
    "duration": 15,
    "start_time": "2023-06-06T13:43:46.576Z"
   },
   {
    "duration": 77,
    "start_time": "2023-06-06T13:43:46.592Z"
   },
   {
    "duration": 44,
    "start_time": "2023-06-06T13:43:46.671Z"
   },
   {
    "duration": 36,
    "start_time": "2023-06-06T13:43:46.726Z"
   },
   {
    "duration": 92,
    "start_time": "2023-06-06T13:43:46.764Z"
   },
   {
    "duration": 13,
    "start_time": "2023-06-06T13:43:46.858Z"
   },
   {
    "duration": 15,
    "start_time": "2023-06-06T13:43:46.873Z"
   },
   {
    "duration": 98,
    "start_time": "2023-06-06T13:43:46.889Z"
   },
   {
    "duration": 63,
    "start_time": "2023-06-06T13:43:46.989Z"
   },
   {
    "duration": 2,
    "start_time": "2023-06-06T13:43:47.056Z"
   },
   {
    "duration": 83,
    "start_time": "2023-06-06T13:43:47.060Z"
   },
   {
    "duration": 85,
    "start_time": "2023-06-06T13:43:47.149Z"
   },
   {
    "duration": 108,
    "start_time": "2023-06-06T13:43:47.241Z"
   },
   {
    "duration": 7,
    "start_time": "2023-06-06T13:43:47.353Z"
   },
   {
    "duration": 6,
    "start_time": "2023-06-06T13:43:47.363Z"
   },
   {
    "duration": 8,
    "start_time": "2023-06-06T13:43:47.371Z"
   },
   {
    "duration": 6,
    "start_time": "2023-06-06T13:43:47.381Z"
   },
   {
    "duration": 128,
    "start_time": "2023-06-06T13:43:47.389Z"
   },
   {
    "duration": 0,
    "start_time": "2023-06-06T13:43:47.527Z"
   },
   {
    "duration": 0,
    "start_time": "2023-06-06T13:43:47.528Z"
   },
   {
    "duration": 0,
    "start_time": "2023-06-06T13:43:47.529Z"
   },
   {
    "duration": 155,
    "start_time": "2023-06-06T13:45:57.916Z"
   },
   {
    "duration": 134,
    "start_time": "2023-06-06T13:46:03.226Z"
   },
   {
    "duration": 9,
    "start_time": "2023-06-06T13:46:34.255Z"
   },
   {
    "duration": 10,
    "start_time": "2023-06-06T13:50:43.119Z"
   },
   {
    "duration": 15,
    "start_time": "2023-06-06T13:50:50.816Z"
   },
   {
    "duration": 6,
    "start_time": "2023-06-06T13:51:20.945Z"
   },
   {
    "duration": 5,
    "start_time": "2023-06-06T13:51:23.142Z"
   },
   {
    "duration": 13,
    "start_time": "2023-06-06T13:51:27.596Z"
   },
   {
    "duration": 5,
    "start_time": "2023-06-06T13:56:15.951Z"
   },
   {
    "duration": 16,
    "start_time": "2023-06-06T13:56:20.543Z"
   },
   {
    "duration": 16,
    "start_time": "2023-06-06T13:56:24.731Z"
   },
   {
    "duration": 7,
    "start_time": "2023-06-06T13:56:31.632Z"
   },
   {
    "duration": 14,
    "start_time": "2023-06-06T13:56:34.353Z"
   },
   {
    "duration": 4,
    "start_time": "2023-06-06T13:59:48.495Z"
   },
   {
    "duration": 15,
    "start_time": "2023-06-06T13:59:51.448Z"
   },
   {
    "duration": 14,
    "start_time": "2023-06-06T14:01:10.639Z"
   },
   {
    "duration": 13,
    "start_time": "2023-06-06T14:01:24.945Z"
   },
   {
    "duration": 772,
    "start_time": "2023-06-06T14:01:57.396Z"
   },
   {
    "duration": 12,
    "start_time": "2023-06-06T14:02:47.832Z"
   },
   {
    "duration": 14,
    "start_time": "2023-06-06T14:03:34.225Z"
   },
   {
    "duration": 11,
    "start_time": "2023-06-06T14:04:19.392Z"
   },
   {
    "duration": 3,
    "start_time": "2023-06-06T14:05:02.253Z"
   },
   {
    "duration": 12,
    "start_time": "2023-06-06T14:05:10.553Z"
   },
   {
    "duration": 1111,
    "start_time": "2023-06-06T14:10:35.803Z"
   },
   {
    "duration": 227,
    "start_time": "2023-06-06T14:10:36.916Z"
   },
   {
    "duration": 14,
    "start_time": "2023-06-06T14:10:37.145Z"
   },
   {
    "duration": 38,
    "start_time": "2023-06-06T14:10:37.161Z"
   },
   {
    "duration": 231,
    "start_time": "2023-06-06T14:10:37.201Z"
   },
   {
    "duration": 30,
    "start_time": "2023-06-06T14:10:37.434Z"
   },
   {
    "duration": 19,
    "start_time": "2023-06-06T14:10:37.466Z"
   },
   {
    "duration": 105,
    "start_time": "2023-06-06T14:10:37.487Z"
   },
   {
    "duration": 18,
    "start_time": "2023-06-06T14:10:37.594Z"
   },
   {
    "duration": 47,
    "start_time": "2023-06-06T14:10:37.615Z"
   },
   {
    "duration": 146,
    "start_time": "2023-06-06T14:10:37.664Z"
   },
   {
    "duration": 117,
    "start_time": "2023-06-06T14:10:37.812Z"
   },
   {
    "duration": 36,
    "start_time": "2023-06-06T14:10:37.931Z"
   },
   {
    "duration": 74,
    "start_time": "2023-06-06T14:10:37.969Z"
   },
   {
    "duration": 12,
    "start_time": "2023-06-06T14:10:38.045Z"
   },
   {
    "duration": 35,
    "start_time": "2023-06-06T14:10:38.058Z"
   },
   {
    "duration": 42,
    "start_time": "2023-06-06T14:10:38.095Z"
   },
   {
    "duration": 19,
    "start_time": "2023-06-06T14:10:38.139Z"
   },
   {
    "duration": 48,
    "start_time": "2023-06-06T14:10:38.160Z"
   },
   {
    "duration": 68,
    "start_time": "2023-06-06T14:10:38.210Z"
   },
   {
    "duration": 23,
    "start_time": "2023-06-06T14:10:38.279Z"
   },
   {
    "duration": 28,
    "start_time": "2023-06-06T14:10:38.304Z"
   },
   {
    "duration": 28,
    "start_time": "2023-06-06T14:10:38.334Z"
   },
   {
    "duration": 559,
    "start_time": "2023-06-06T14:10:38.364Z"
   },
   {
    "duration": 589,
    "start_time": "2023-06-06T14:10:38.925Z"
   },
   {
    "duration": 27,
    "start_time": "2023-06-06T14:10:39.515Z"
   },
   {
    "duration": 567,
    "start_time": "2023-06-06T14:10:39.543Z"
   },
   {
    "duration": 16,
    "start_time": "2023-06-06T14:10:40.113Z"
   },
   {
    "duration": 54,
    "start_time": "2023-06-06T14:10:40.131Z"
   },
   {
    "duration": 56,
    "start_time": "2023-06-06T14:10:40.187Z"
   },
   {
    "duration": 23,
    "start_time": "2023-06-06T14:10:40.245Z"
   },
   {
    "duration": 89,
    "start_time": "2023-06-06T14:10:40.270Z"
   },
   {
    "duration": 9,
    "start_time": "2023-06-06T14:10:40.360Z"
   },
   {
    "duration": 20,
    "start_time": "2023-06-06T14:10:40.371Z"
   },
   {
    "duration": 73,
    "start_time": "2023-06-06T14:10:40.393Z"
   },
   {
    "duration": 65,
    "start_time": "2023-06-06T14:10:40.468Z"
   },
   {
    "duration": 3,
    "start_time": "2023-06-06T14:10:40.535Z"
   },
   {
    "duration": 70,
    "start_time": "2023-06-06T14:10:40.540Z"
   },
   {
    "duration": 58,
    "start_time": "2023-06-06T14:10:40.613Z"
   },
   {
    "duration": 116,
    "start_time": "2023-06-06T14:10:40.672Z"
   },
   {
    "duration": 7,
    "start_time": "2023-06-06T14:10:40.789Z"
   },
   {
    "duration": 23,
    "start_time": "2023-06-06T14:10:40.798Z"
   },
   {
    "duration": 21,
    "start_time": "2023-06-06T14:10:40.822Z"
   },
   {
    "duration": 17,
    "start_time": "2023-06-06T14:10:40.844Z"
   },
   {
    "duration": 21,
    "start_time": "2023-06-06T14:10:40.862Z"
   },
   {
    "duration": 20,
    "start_time": "2023-06-06T14:10:40.885Z"
   },
   {
    "duration": 33,
    "start_time": "2023-06-06T14:10:40.907Z"
   },
   {
    "duration": 23,
    "start_time": "2023-06-06T14:10:40.942Z"
   },
   {
    "duration": 29,
    "start_time": "2023-06-06T14:10:40.967Z"
   },
   {
    "duration": 29,
    "start_time": "2023-06-06T14:10:40.998Z"
   }
  ],
  "kernelspec": {
   "display_name": "Python 3 (ipykernel)",
   "language": "python",
   "name": "python3"
  },
  "language_info": {
   "codemirror_mode": {
    "name": "ipython",
    "version": 3
   },
   "file_extension": ".py",
   "mimetype": "text/x-python",
   "name": "python",
   "nbconvert_exporter": "python",
   "pygments_lexer": "ipython3",
   "version": "3.9.5"
  },
  "toc": {
   "base_numbering": 1,
   "nav_menu": {},
   "number_sections": false,
   "sideBar": true,
   "skip_h1_title": false,
   "title_cell": "Table of Contents",
   "title_sidebar": "Contents",
   "toc_cell": false,
   "toc_position": {
    "height": "calc(100% - 180px)",
    "left": "10px",
    "top": "150px",
    "width": "259px"
   },
   "toc_section_display": true,
   "toc_window_display": true
  }
 },
 "nbformat": 4,
 "nbformat_minor": 2
}
