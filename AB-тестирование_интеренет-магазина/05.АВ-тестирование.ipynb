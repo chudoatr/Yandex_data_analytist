{
 "cells": [
  {
   "cell_type": "markdown",
   "metadata": {},
   "source": [
    "# Принятие решений в бизнесе"
   ]
  },
  {
   "cell_type": "markdown",
   "metadata": {},
   "source": [
    "**Цель проекта:** Приоритизировать гипотезы, запустить A/B-тест и проанализировать результаты.\n",
    "\n",
    "**План работы:**\n",
    " В соответствии с имеющимися данными, в нашем распоряжении имеются девять гипотез.\n",
    " \n",
    " На парвом этапе нам предстоит найти приоритетные гипотезы посредством применения фреймворка ICE (от англ. impact, confidence, effort / ease «влияние, уверенность, усилия / простота») — один из самых популярных способов приоритизации задач и его модификации RICE (R от англ. reach, «охват»).\n",
    " \n",
    " На втором этапе проанализируйем A/B-тест. \n",
    " Для этого посторим и подробно изуцучим графики кумулятивных значений  (выручки, среднего чека и заказов), найдем процентили и  посчитаем статистическую значимость. \n"
   ]
  },
  {
   "cell_type": "markdown",
   "metadata": {},
   "source": [
    "# Загрузка и предобработка данных"
   ]
  },
  {
   "cell_type": "code",
   "execution_count": 2,
   "metadata": {},
   "outputs": [],
   "source": [
    "import pandas as pd\n",
    "import numpy as np\n",
    "import scipy.stats as stats\n",
    "import matplotlib.pyplot as plt\n",
    "import seaborn as sns\n",
    "import datetime as dt\n",
    "\n",
    "pd.options.display.max_colwidth = 130"
   ]
  },
  {
   "cell_type": "code",
   "execution_count": 3,
   "metadata": {},
   "outputs": [],
   "source": [
    "hypothesis, orders, visitors = (\n",
    "    pd.read_csv('/datasets/hypothesis.csv'), # гипотезы\n",
    "    pd.read_csv('/datasets/orders.csv'),  # заказы\n",
    "    pd.read_csv('/datasets/visitors.csv'),  # посетители\n",
    ")"
   ]
  },
  {
   "cell_type": "code",
   "execution_count": 4,
   "metadata": {},
   "outputs": [
    {
     "data": {
      "text/html": [
       "<div>\n",
       "<style scoped>\n",
       "    .dataframe tbody tr th:only-of-type {\n",
       "        vertical-align: middle;\n",
       "    }\n",
       "\n",
       "    .dataframe tbody tr th {\n",
       "        vertical-align: top;\n",
       "    }\n",
       "\n",
       "    .dataframe thead th {\n",
       "        text-align: right;\n",
       "    }\n",
       "</style>\n",
       "<table border=\"1\" class=\"dataframe\">\n",
       "  <thead>\n",
       "    <tr style=\"text-align: right;\">\n",
       "      <th></th>\n",
       "      <th>Hypothesis</th>\n",
       "      <th>Reach</th>\n",
       "      <th>Impact</th>\n",
       "      <th>Confidence</th>\n",
       "      <th>Efforts</th>\n",
       "    </tr>\n",
       "  </thead>\n",
       "  <tbody>\n",
       "    <tr>\n",
       "      <th>0</th>\n",
       "      <td>Добавить два новых канала привлечения трафика, что позволит привлекать на 30% больше пользователей</td>\n",
       "      <td>3</td>\n",
       "      <td>10</td>\n",
       "      <td>8</td>\n",
       "      <td>6</td>\n",
       "    </tr>\n",
       "    <tr>\n",
       "      <th>1</th>\n",
       "      <td>Запустить собственную службу доставки, что сократит срок доставки заказов</td>\n",
       "      <td>2</td>\n",
       "      <td>5</td>\n",
       "      <td>4</td>\n",
       "      <td>10</td>\n",
       "    </tr>\n",
       "    <tr>\n",
       "      <th>2</th>\n",
       "      <td>Добавить блоки рекомендаций товаров на сайт интернет магазина, чтобы повысить конверсию и средний чек заказа</td>\n",
       "      <td>8</td>\n",
       "      <td>3</td>\n",
       "      <td>7</td>\n",
       "      <td>3</td>\n",
       "    </tr>\n",
       "    <tr>\n",
       "      <th>3</th>\n",
       "      <td>Изменить структура категорий, что увеличит конверсию, т.к. пользователи быстрее найдут нужный товар</td>\n",
       "      <td>8</td>\n",
       "      <td>3</td>\n",
       "      <td>3</td>\n",
       "      <td>8</td>\n",
       "    </tr>\n",
       "    <tr>\n",
       "      <th>4</th>\n",
       "      <td>Изменить цвет фона главной страницы, чтобы увеличить вовлеченность пользователей</td>\n",
       "      <td>3</td>\n",
       "      <td>1</td>\n",
       "      <td>1</td>\n",
       "      <td>1</td>\n",
       "    </tr>\n",
       "    <tr>\n",
       "      <th>5</th>\n",
       "      <td>Добавить страницу отзывов клиентов о магазине, что позволит увеличить количество заказов</td>\n",
       "      <td>3</td>\n",
       "      <td>2</td>\n",
       "      <td>2</td>\n",
       "      <td>3</td>\n",
       "    </tr>\n",
       "    <tr>\n",
       "      <th>6</th>\n",
       "      <td>Показать на главной странице баннеры с актуальными акциями и распродажами, чтобы увеличить конверсию</td>\n",
       "      <td>5</td>\n",
       "      <td>3</td>\n",
       "      <td>8</td>\n",
       "      <td>3</td>\n",
       "    </tr>\n",
       "    <tr>\n",
       "      <th>7</th>\n",
       "      <td>Добавить форму подписки на все основные страницы, чтобы собрать базу клиентов для email-рассылок</td>\n",
       "      <td>10</td>\n",
       "      <td>7</td>\n",
       "      <td>8</td>\n",
       "      <td>5</td>\n",
       "    </tr>\n",
       "    <tr>\n",
       "      <th>8</th>\n",
       "      <td>Запустить акцию, дающую скидку на товар в день рождения</td>\n",
       "      <td>1</td>\n",
       "      <td>9</td>\n",
       "      <td>9</td>\n",
       "      <td>5</td>\n",
       "    </tr>\n",
       "  </tbody>\n",
       "</table>\n",
       "</div>"
      ],
      "text/plain": [
       "                                                                                                     Hypothesis  \\\n",
       "0            Добавить два новых канала привлечения трафика, что позволит привлекать на 30% больше пользователей   \n",
       "1                                     Запустить собственную службу доставки, что сократит срок доставки заказов   \n",
       "2  Добавить блоки рекомендаций товаров на сайт интернет магазина, чтобы повысить конверсию и средний чек заказа   \n",
       "3           Изменить структура категорий, что увеличит конверсию, т.к. пользователи быстрее найдут нужный товар   \n",
       "4                              Изменить цвет фона главной страницы, чтобы увеличить вовлеченность пользователей   \n",
       "5                      Добавить страницу отзывов клиентов о магазине, что позволит увеличить количество заказов   \n",
       "6          Показать на главной странице баннеры с актуальными акциями и распродажами, чтобы увеличить конверсию   \n",
       "7              Добавить форму подписки на все основные страницы, чтобы собрать базу клиентов для email-рассылок   \n",
       "8                                                       Запустить акцию, дающую скидку на товар в день рождения   \n",
       "\n",
       "   Reach  Impact  Confidence  Efforts  \n",
       "0      3      10           8        6  \n",
       "1      2       5           4       10  \n",
       "2      8       3           7        3  \n",
       "3      8       3           3        8  \n",
       "4      3       1           1        1  \n",
       "5      3       2           2        3  \n",
       "6      5       3           8        3  \n",
       "7     10       7           8        5  \n",
       "8      1       9           9        5  "
      ]
     },
     "execution_count": 4,
     "metadata": {},
     "output_type": "execute_result"
    }
   ],
   "source": [
    "hypothesis"
   ]
  },
  {
   "cell_type": "code",
   "execution_count": 5,
   "metadata": {},
   "outputs": [
    {
     "name": "stdout",
     "output_type": "stream",
     "text": [
      "<class 'pandas.core.frame.DataFrame'>\n",
      "RangeIndex: 9 entries, 0 to 8\n",
      "Data columns (total 5 columns):\n",
      " #   Column      Non-Null Count  Dtype \n",
      "---  ------      --------------  ----- \n",
      " 0   Hypothesis  9 non-null      object\n",
      " 1   Reach       9 non-null      int64 \n",
      " 2   Impact      9 non-null      int64 \n",
      " 3   Confidence  9 non-null      int64 \n",
      " 4   Efforts     9 non-null      int64 \n",
      "dtypes: int64(4), object(1)\n",
      "memory usage: 488.0+ bytes\n"
     ]
    }
   ],
   "source": [
    "hypothesis.info()"
   ]
  },
  {
   "cell_type": "code",
   "execution_count": 6,
   "metadata": {},
   "outputs": [
    {
     "data": {
      "text/plain": [
       "Hypothesis    0.0\n",
       "Reach         0.0\n",
       "Impact        0.0\n",
       "Confidence    0.0\n",
       "Efforts       0.0\n",
       "dtype: float64"
      ]
     },
     "execution_count": 6,
     "metadata": {},
     "output_type": "execute_result"
    }
   ],
   "source": [
    "duplicated_hypothesis = hypothesis[hypothesis.duplicated()].sum()\n",
    "duplicated_hypothesis"
   ]
  },
  {
   "cell_type": "code",
   "execution_count": 7,
   "metadata": {},
   "outputs": [
    {
     "data": {
      "text/html": [
       "<div>\n",
       "<style scoped>\n",
       "    .dataframe tbody tr th:only-of-type {\n",
       "        vertical-align: middle;\n",
       "    }\n",
       "\n",
       "    .dataframe tbody tr th {\n",
       "        vertical-align: top;\n",
       "    }\n",
       "\n",
       "    .dataframe thead th {\n",
       "        text-align: right;\n",
       "    }\n",
       "</style>\n",
       "<table border=\"1\" class=\"dataframe\">\n",
       "  <thead>\n",
       "    <tr style=\"text-align: right;\">\n",
       "      <th></th>\n",
       "      <th>transactionId</th>\n",
       "      <th>visitorId</th>\n",
       "      <th>date</th>\n",
       "      <th>revenue</th>\n",
       "      <th>group</th>\n",
       "    </tr>\n",
       "  </thead>\n",
       "  <tbody>\n",
       "    <tr>\n",
       "      <th>0</th>\n",
       "      <td>3667963787</td>\n",
       "      <td>3312258926</td>\n",
       "      <td>2019-08-15</td>\n",
       "      <td>1650</td>\n",
       "      <td>B</td>\n",
       "    </tr>\n",
       "    <tr>\n",
       "      <th>1</th>\n",
       "      <td>2804400009</td>\n",
       "      <td>3642806036</td>\n",
       "      <td>2019-08-15</td>\n",
       "      <td>730</td>\n",
       "      <td>B</td>\n",
       "    </tr>\n",
       "    <tr>\n",
       "      <th>2</th>\n",
       "      <td>2961555356</td>\n",
       "      <td>4069496402</td>\n",
       "      <td>2019-08-15</td>\n",
       "      <td>400</td>\n",
       "      <td>A</td>\n",
       "    </tr>\n",
       "    <tr>\n",
       "      <th>3</th>\n",
       "      <td>3797467345</td>\n",
       "      <td>1196621759</td>\n",
       "      <td>2019-08-15</td>\n",
       "      <td>9759</td>\n",
       "      <td>B</td>\n",
       "    </tr>\n",
       "    <tr>\n",
       "      <th>4</th>\n",
       "      <td>2282983706</td>\n",
       "      <td>2322279887</td>\n",
       "      <td>2019-08-15</td>\n",
       "      <td>2308</td>\n",
       "      <td>B</td>\n",
       "    </tr>\n",
       "    <tr>\n",
       "      <th>...</th>\n",
       "      <td>...</td>\n",
       "      <td>...</td>\n",
       "      <td>...</td>\n",
       "      <td>...</td>\n",
       "      <td>...</td>\n",
       "    </tr>\n",
       "    <tr>\n",
       "      <th>1192</th>\n",
       "      <td>2662137336</td>\n",
       "      <td>3733762160</td>\n",
       "      <td>2019-08-14</td>\n",
       "      <td>6490</td>\n",
       "      <td>B</td>\n",
       "    </tr>\n",
       "    <tr>\n",
       "      <th>1193</th>\n",
       "      <td>2203539145</td>\n",
       "      <td>370388673</td>\n",
       "      <td>2019-08-14</td>\n",
       "      <td>3190</td>\n",
       "      <td>A</td>\n",
       "    </tr>\n",
       "    <tr>\n",
       "      <th>1194</th>\n",
       "      <td>1807773912</td>\n",
       "      <td>573423106</td>\n",
       "      <td>2019-08-14</td>\n",
       "      <td>10550</td>\n",
       "      <td>A</td>\n",
       "    </tr>\n",
       "    <tr>\n",
       "      <th>1195</th>\n",
       "      <td>1947021204</td>\n",
       "      <td>1614305549</td>\n",
       "      <td>2019-08-14</td>\n",
       "      <td>100</td>\n",
       "      <td>A</td>\n",
       "    </tr>\n",
       "    <tr>\n",
       "      <th>1196</th>\n",
       "      <td>3936777065</td>\n",
       "      <td>2108080724</td>\n",
       "      <td>2019-08-15</td>\n",
       "      <td>202740</td>\n",
       "      <td>B</td>\n",
       "    </tr>\n",
       "  </tbody>\n",
       "</table>\n",
       "<p>1197 rows × 5 columns</p>\n",
       "</div>"
      ],
      "text/plain": [
       "      transactionId   visitorId        date  revenue group\n",
       "0        3667963787  3312258926  2019-08-15     1650     B\n",
       "1        2804400009  3642806036  2019-08-15      730     B\n",
       "2        2961555356  4069496402  2019-08-15      400     A\n",
       "3        3797467345  1196621759  2019-08-15     9759     B\n",
       "4        2282983706  2322279887  2019-08-15     2308     B\n",
       "...             ...         ...         ...      ...   ...\n",
       "1192     2662137336  3733762160  2019-08-14     6490     B\n",
       "1193     2203539145   370388673  2019-08-14     3190     A\n",
       "1194     1807773912   573423106  2019-08-14    10550     A\n",
       "1195     1947021204  1614305549  2019-08-14      100     A\n",
       "1196     3936777065  2108080724  2019-08-15   202740     B\n",
       "\n",
       "[1197 rows x 5 columns]"
      ]
     },
     "execution_count": 7,
     "metadata": {},
     "output_type": "execute_result"
    }
   ],
   "source": [
    "orders"
   ]
  },
  {
   "cell_type": "code",
   "execution_count": 8,
   "metadata": {},
   "outputs": [
    {
     "data": {
      "text/html": [
       "<div>\n",
       "<style scoped>\n",
       "    .dataframe tbody tr th:only-of-type {\n",
       "        vertical-align: middle;\n",
       "    }\n",
       "\n",
       "    .dataframe tbody tr th {\n",
       "        vertical-align: top;\n",
       "    }\n",
       "\n",
       "    .dataframe thead th {\n",
       "        text-align: right;\n",
       "    }\n",
       "</style>\n",
       "<table border=\"1\" class=\"dataframe\">\n",
       "  <thead>\n",
       "    <tr style=\"text-align: right;\">\n",
       "      <th></th>\n",
       "      <th>order_id</th>\n",
       "      <th>user_id</th>\n",
       "      <th>date</th>\n",
       "      <th>revenue</th>\n",
       "      <th>group</th>\n",
       "    </tr>\n",
       "  </thead>\n",
       "  <tbody>\n",
       "    <tr>\n",
       "      <th>0</th>\n",
       "      <td>3667963787</td>\n",
       "      <td>3312258926</td>\n",
       "      <td>2019-08-15</td>\n",
       "      <td>1650</td>\n",
       "      <td>B</td>\n",
       "    </tr>\n",
       "    <tr>\n",
       "      <th>1</th>\n",
       "      <td>2804400009</td>\n",
       "      <td>3642806036</td>\n",
       "      <td>2019-08-15</td>\n",
       "      <td>730</td>\n",
       "      <td>B</td>\n",
       "    </tr>\n",
       "    <tr>\n",
       "      <th>2</th>\n",
       "      <td>2961555356</td>\n",
       "      <td>4069496402</td>\n",
       "      <td>2019-08-15</td>\n",
       "      <td>400</td>\n",
       "      <td>A</td>\n",
       "    </tr>\n",
       "    <tr>\n",
       "      <th>3</th>\n",
       "      <td>3797467345</td>\n",
       "      <td>1196621759</td>\n",
       "      <td>2019-08-15</td>\n",
       "      <td>9759</td>\n",
       "      <td>B</td>\n",
       "    </tr>\n",
       "    <tr>\n",
       "      <th>4</th>\n",
       "      <td>2282983706</td>\n",
       "      <td>2322279887</td>\n",
       "      <td>2019-08-15</td>\n",
       "      <td>2308</td>\n",
       "      <td>B</td>\n",
       "    </tr>\n",
       "    <tr>\n",
       "      <th>...</th>\n",
       "      <td>...</td>\n",
       "      <td>...</td>\n",
       "      <td>...</td>\n",
       "      <td>...</td>\n",
       "      <td>...</td>\n",
       "    </tr>\n",
       "    <tr>\n",
       "      <th>1192</th>\n",
       "      <td>2662137336</td>\n",
       "      <td>3733762160</td>\n",
       "      <td>2019-08-14</td>\n",
       "      <td>6490</td>\n",
       "      <td>B</td>\n",
       "    </tr>\n",
       "    <tr>\n",
       "      <th>1193</th>\n",
       "      <td>2203539145</td>\n",
       "      <td>370388673</td>\n",
       "      <td>2019-08-14</td>\n",
       "      <td>3190</td>\n",
       "      <td>A</td>\n",
       "    </tr>\n",
       "    <tr>\n",
       "      <th>1194</th>\n",
       "      <td>1807773912</td>\n",
       "      <td>573423106</td>\n",
       "      <td>2019-08-14</td>\n",
       "      <td>10550</td>\n",
       "      <td>A</td>\n",
       "    </tr>\n",
       "    <tr>\n",
       "      <th>1195</th>\n",
       "      <td>1947021204</td>\n",
       "      <td>1614305549</td>\n",
       "      <td>2019-08-14</td>\n",
       "      <td>100</td>\n",
       "      <td>A</td>\n",
       "    </tr>\n",
       "    <tr>\n",
       "      <th>1196</th>\n",
       "      <td>3936777065</td>\n",
       "      <td>2108080724</td>\n",
       "      <td>2019-08-15</td>\n",
       "      <td>202740</td>\n",
       "      <td>B</td>\n",
       "    </tr>\n",
       "  </tbody>\n",
       "</table>\n",
       "<p>1197 rows × 5 columns</p>\n",
       "</div>"
      ],
      "text/plain": [
       "        order_id     user_id        date  revenue group\n",
       "0     3667963787  3312258926  2019-08-15     1650     B\n",
       "1     2804400009  3642806036  2019-08-15      730     B\n",
       "2     2961555356  4069496402  2019-08-15      400     A\n",
       "3     3797467345  1196621759  2019-08-15     9759     B\n",
       "4     2282983706  2322279887  2019-08-15     2308     B\n",
       "...          ...         ...         ...      ...   ...\n",
       "1192  2662137336  3733762160  2019-08-14     6490     B\n",
       "1193  2203539145   370388673  2019-08-14     3190     A\n",
       "1194  1807773912   573423106  2019-08-14    10550     A\n",
       "1195  1947021204  1614305549  2019-08-14      100     A\n",
       "1196  3936777065  2108080724  2019-08-15   202740     B\n",
       "\n",
       "[1197 rows x 5 columns]"
      ]
     },
     "execution_count": 8,
     "metadata": {},
     "output_type": "execute_result"
    }
   ],
   "source": [
    "orders = orders.rename (columns = {'visitorId':'user_id', 'transactionId':'order_id'})\n",
    "orders"
   ]
  },
  {
   "cell_type": "code",
   "execution_count": 9,
   "metadata": {
    "scrolled": true
   },
   "outputs": [
    {
     "name": "stdout",
     "output_type": "stream",
     "text": [
      "<class 'pandas.core.frame.DataFrame'>\n",
      "RangeIndex: 1197 entries, 0 to 1196\n",
      "Data columns (total 5 columns):\n",
      " #   Column    Non-Null Count  Dtype \n",
      "---  ------    --------------  ----- \n",
      " 0   order_id  1197 non-null   int64 \n",
      " 1   user_id   1197 non-null   int64 \n",
      " 2   date      1197 non-null   object\n",
      " 3   revenue   1197 non-null   int64 \n",
      " 4   group     1197 non-null   object\n",
      "dtypes: int64(3), object(2)\n",
      "memory usage: 46.9+ KB\n"
     ]
    }
   ],
   "source": [
    "orders.info()"
   ]
  },
  {
   "cell_type": "code",
   "execution_count": 10,
   "metadata": {},
   "outputs": [
    {
     "data": {
      "text/plain": [
       "order_id    0.0\n",
       "user_id     0.0\n",
       "date        0.0\n",
       "revenue     0.0\n",
       "group       0.0\n",
       "dtype: float64"
      ]
     },
     "execution_count": 10,
     "metadata": {},
     "output_type": "execute_result"
    }
   ],
   "source": [
    "duplicated_orders = orders[orders.duplicated()].sum()\n",
    "duplicated_orders"
   ]
  },
  {
   "cell_type": "code",
   "execution_count": 11,
   "metadata": {
    "scrolled": true
   },
   "outputs": [
    {
     "data": {
      "text/html": [
       "<div>\n",
       "<style scoped>\n",
       "    .dataframe tbody tr th:only-of-type {\n",
       "        vertical-align: middle;\n",
       "    }\n",
       "\n",
       "    .dataframe tbody tr th {\n",
       "        vertical-align: top;\n",
       "    }\n",
       "\n",
       "    .dataframe thead th {\n",
       "        text-align: right;\n",
       "    }\n",
       "</style>\n",
       "<table border=\"1\" class=\"dataframe\">\n",
       "  <thead>\n",
       "    <tr style=\"text-align: right;\">\n",
       "      <th></th>\n",
       "      <th>date</th>\n",
       "      <th>group</th>\n",
       "      <th>visitors</th>\n",
       "    </tr>\n",
       "  </thead>\n",
       "  <tbody>\n",
       "    <tr>\n",
       "      <th>0</th>\n",
       "      <td>2019-08-01</td>\n",
       "      <td>A</td>\n",
       "      <td>719</td>\n",
       "    </tr>\n",
       "    <tr>\n",
       "      <th>1</th>\n",
       "      <td>2019-08-02</td>\n",
       "      <td>A</td>\n",
       "      <td>619</td>\n",
       "    </tr>\n",
       "    <tr>\n",
       "      <th>2</th>\n",
       "      <td>2019-08-03</td>\n",
       "      <td>A</td>\n",
       "      <td>507</td>\n",
       "    </tr>\n",
       "    <tr>\n",
       "      <th>3</th>\n",
       "      <td>2019-08-04</td>\n",
       "      <td>A</td>\n",
       "      <td>717</td>\n",
       "    </tr>\n",
       "    <tr>\n",
       "      <th>4</th>\n",
       "      <td>2019-08-05</td>\n",
       "      <td>A</td>\n",
       "      <td>756</td>\n",
       "    </tr>\n",
       "    <tr>\n",
       "      <th>...</th>\n",
       "      <td>...</td>\n",
       "      <td>...</td>\n",
       "      <td>...</td>\n",
       "    </tr>\n",
       "    <tr>\n",
       "      <th>57</th>\n",
       "      <td>2019-08-27</td>\n",
       "      <td>B</td>\n",
       "      <td>720</td>\n",
       "    </tr>\n",
       "    <tr>\n",
       "      <th>58</th>\n",
       "      <td>2019-08-28</td>\n",
       "      <td>B</td>\n",
       "      <td>654</td>\n",
       "    </tr>\n",
       "    <tr>\n",
       "      <th>59</th>\n",
       "      <td>2019-08-29</td>\n",
       "      <td>B</td>\n",
       "      <td>531</td>\n",
       "    </tr>\n",
       "    <tr>\n",
       "      <th>60</th>\n",
       "      <td>2019-08-30</td>\n",
       "      <td>B</td>\n",
       "      <td>490</td>\n",
       "    </tr>\n",
       "    <tr>\n",
       "      <th>61</th>\n",
       "      <td>2019-08-31</td>\n",
       "      <td>B</td>\n",
       "      <td>718</td>\n",
       "    </tr>\n",
       "  </tbody>\n",
       "</table>\n",
       "<p>62 rows × 3 columns</p>\n",
       "</div>"
      ],
      "text/plain": [
       "          date group  visitors\n",
       "0   2019-08-01     A       719\n",
       "1   2019-08-02     A       619\n",
       "2   2019-08-03     A       507\n",
       "3   2019-08-04     A       717\n",
       "4   2019-08-05     A       756\n",
       "..         ...   ...       ...\n",
       "57  2019-08-27     B       720\n",
       "58  2019-08-28     B       654\n",
       "59  2019-08-29     B       531\n",
       "60  2019-08-30     B       490\n",
       "61  2019-08-31     B       718\n",
       "\n",
       "[62 rows x 3 columns]"
      ]
     },
     "execution_count": 11,
     "metadata": {},
     "output_type": "execute_result"
    }
   ],
   "source": [
    "visitors"
   ]
  },
  {
   "cell_type": "code",
   "execution_count": 12,
   "metadata": {
    "scrolled": true
   },
   "outputs": [
    {
     "name": "stdout",
     "output_type": "stream",
     "text": [
      "<class 'pandas.core.frame.DataFrame'>\n",
      "RangeIndex: 62 entries, 0 to 61\n",
      "Data columns (total 3 columns):\n",
      " #   Column    Non-Null Count  Dtype \n",
      "---  ------    --------------  ----- \n",
      " 0   date      62 non-null     object\n",
      " 1   group     62 non-null     object\n",
      " 2   visitors  62 non-null     int64 \n",
      "dtypes: int64(1), object(2)\n",
      "memory usage: 1.6+ KB\n"
     ]
    }
   ],
   "source": [
    "visitors.info()"
   ]
  },
  {
   "cell_type": "code",
   "execution_count": 13,
   "metadata": {},
   "outputs": [
    {
     "data": {
      "text/plain": [
       "date        0.0\n",
       "group       0.0\n",
       "visitors    0.0\n",
       "dtype: float64"
      ]
     },
     "execution_count": 13,
     "metadata": {},
     "output_type": "execute_result"
    }
   ],
   "source": [
    "duplicated_visitors = visitors[visitors.duplicated()].sum()\n",
    "duplicated_visitors"
   ]
  },
  {
   "cell_type": "code",
   "execution_count": 14,
   "metadata": {},
   "outputs": [],
   "source": [
    "hypothesis.columns = hypothesis.columns.str.lower()"
   ]
  },
  {
   "cell_type": "code",
   "execution_count": 15,
   "metadata": {
    "scrolled": true
   },
   "outputs": [
    {
     "data": {
      "text/html": [
       "<div>\n",
       "<style scoped>\n",
       "    .dataframe tbody tr th:only-of-type {\n",
       "        vertical-align: middle;\n",
       "    }\n",
       "\n",
       "    .dataframe tbody tr th {\n",
       "        vertical-align: top;\n",
       "    }\n",
       "\n",
       "    .dataframe thead th {\n",
       "        text-align: right;\n",
       "    }\n",
       "</style>\n",
       "<table border=\"1\" class=\"dataframe\">\n",
       "  <thead>\n",
       "    <tr style=\"text-align: right;\">\n",
       "      <th></th>\n",
       "      <th>hypothesis</th>\n",
       "      <th>reach</th>\n",
       "      <th>impact</th>\n",
       "      <th>confidence</th>\n",
       "      <th>efforts</th>\n",
       "    </tr>\n",
       "  </thead>\n",
       "  <tbody>\n",
       "    <tr>\n",
       "      <th>0</th>\n",
       "      <td>Добавить два новых канала привлечения трафика, что позволит привлекать на 30% больше пользователей</td>\n",
       "      <td>3</td>\n",
       "      <td>10</td>\n",
       "      <td>8</td>\n",
       "      <td>6</td>\n",
       "    </tr>\n",
       "    <tr>\n",
       "      <th>1</th>\n",
       "      <td>Запустить собственную службу доставки, что сократит срок доставки заказов</td>\n",
       "      <td>2</td>\n",
       "      <td>5</td>\n",
       "      <td>4</td>\n",
       "      <td>10</td>\n",
       "    </tr>\n",
       "    <tr>\n",
       "      <th>2</th>\n",
       "      <td>Добавить блоки рекомендаций товаров на сайт интернет магазина, чтобы повысить конверсию и средний чек заказа</td>\n",
       "      <td>8</td>\n",
       "      <td>3</td>\n",
       "      <td>7</td>\n",
       "      <td>3</td>\n",
       "    </tr>\n",
       "    <tr>\n",
       "      <th>3</th>\n",
       "      <td>Изменить структура категорий, что увеличит конверсию, т.к. пользователи быстрее найдут нужный товар</td>\n",
       "      <td>8</td>\n",
       "      <td>3</td>\n",
       "      <td>3</td>\n",
       "      <td>8</td>\n",
       "    </tr>\n",
       "    <tr>\n",
       "      <th>4</th>\n",
       "      <td>Изменить цвет фона главной страницы, чтобы увеличить вовлеченность пользователей</td>\n",
       "      <td>3</td>\n",
       "      <td>1</td>\n",
       "      <td>1</td>\n",
       "      <td>1</td>\n",
       "    </tr>\n",
       "    <tr>\n",
       "      <th>5</th>\n",
       "      <td>Добавить страницу отзывов клиентов о магазине, что позволит увеличить количество заказов</td>\n",
       "      <td>3</td>\n",
       "      <td>2</td>\n",
       "      <td>2</td>\n",
       "      <td>3</td>\n",
       "    </tr>\n",
       "    <tr>\n",
       "      <th>6</th>\n",
       "      <td>Показать на главной странице баннеры с актуальными акциями и распродажами, чтобы увеличить конверсию</td>\n",
       "      <td>5</td>\n",
       "      <td>3</td>\n",
       "      <td>8</td>\n",
       "      <td>3</td>\n",
       "    </tr>\n",
       "    <tr>\n",
       "      <th>7</th>\n",
       "      <td>Добавить форму подписки на все основные страницы, чтобы собрать базу клиентов для email-рассылок</td>\n",
       "      <td>10</td>\n",
       "      <td>7</td>\n",
       "      <td>8</td>\n",
       "      <td>5</td>\n",
       "    </tr>\n",
       "    <tr>\n",
       "      <th>8</th>\n",
       "      <td>Запустить акцию, дающую скидку на товар в день рождения</td>\n",
       "      <td>1</td>\n",
       "      <td>9</td>\n",
       "      <td>9</td>\n",
       "      <td>5</td>\n",
       "    </tr>\n",
       "  </tbody>\n",
       "</table>\n",
       "</div>"
      ],
      "text/plain": [
       "                                                                                                     hypothesis  \\\n",
       "0            Добавить два новых канала привлечения трафика, что позволит привлекать на 30% больше пользователей   \n",
       "1                                     Запустить собственную службу доставки, что сократит срок доставки заказов   \n",
       "2  Добавить блоки рекомендаций товаров на сайт интернет магазина, чтобы повысить конверсию и средний чек заказа   \n",
       "3           Изменить структура категорий, что увеличит конверсию, т.к. пользователи быстрее найдут нужный товар   \n",
       "4                              Изменить цвет фона главной страницы, чтобы увеличить вовлеченность пользователей   \n",
       "5                      Добавить страницу отзывов клиентов о магазине, что позволит увеличить количество заказов   \n",
       "6          Показать на главной странице баннеры с актуальными акциями и распродажами, чтобы увеличить конверсию   \n",
       "7              Добавить форму подписки на все основные страницы, чтобы собрать базу клиентов для email-рассылок   \n",
       "8                                                       Запустить акцию, дающую скидку на товар в день рождения   \n",
       "\n",
       "   reach  impact  confidence  efforts  \n",
       "0      3      10           8        6  \n",
       "1      2       5           4       10  \n",
       "2      8       3           7        3  \n",
       "3      8       3           3        8  \n",
       "4      3       1           1        1  \n",
       "5      3       2           2        3  \n",
       "6      5       3           8        3  \n",
       "7     10       7           8        5  \n",
       "8      1       9           9        5  "
      ]
     },
     "execution_count": 15,
     "metadata": {},
     "output_type": "execute_result"
    }
   ],
   "source": [
    "hypothesis"
   ]
  },
  {
   "cell_type": "code",
   "execution_count": 16,
   "metadata": {},
   "outputs": [],
   "source": [
    "orders['date'] = pd.to_datetime(orders['date'])\n",
    "visitors['date'] = pd.to_datetime(visitors['date'])"
   ]
  },
  {
   "cell_type": "markdown",
   "metadata": {},
   "source": [
    "**Вывод:**\n",
    "\n",
    "По итогам предобработки данных проведена следующая работа.\n",
    "\n",
    "Данные датасетов загружены в датафреймы и подготовлены для дальнейшего анализа.\n",
    "\n",
    "Данные проверены на наличию пропусков и дубликатов - пропуски и дубликаты отсутствуют.\n",
    "\n",
    "Типы данных в столбцах, которые содержат дату и время, приведены к формату datetime.\n",
    "\n",
    "Названия столбцов переименованы в «змеином регистре»."
   ]
  },
  {
   "cell_type": "code",
   "execution_count": 29,
   "metadata": {
    "scrolled": true
   },
   "outputs": [
    {
     "data": {
      "text/plain": [
       "A    31\n",
       "B    31\n",
       "Name: group, dtype: int64"
      ]
     },
     "execution_count": 29,
     "metadata": {},
     "output_type": "execute_result"
    }
   ],
   "source": [
    "visitors['group'].value_counts()"
   ]
  },
  {
   "cell_type": "code",
   "execution_count": 49,
   "metadata": {},
   "outputs": [
    {
     "name": "stdout",
     "output_type": "stream",
     "text": [
      "**Дата начала теста** 2019-08-01 00:00:00\n"
     ]
    }
   ],
   "source": [
    "print ('Дата начала теста', orders['date'].min()) "
   ]
  },
  {
   "cell_type": "code",
   "execution_count": 38,
   "metadata": {
    "scrolled": false
   },
   "outputs": [
    {
     "name": "stdout",
     "output_type": "stream",
     "text": [
      "Дата окончания теста 2019-08-31 00:00:00\n"
     ]
    }
   ],
   "source": [
    "print ('Дата окончания теста', orders['date'].max()) "
   ]
  },
  {
   "cell_type": "code",
   "execution_count": 78,
   "metadata": {},
   "outputs": [
    {
     "data": {
      "text/html": [
       "<div>\n",
       "<style scoped>\n",
       "    .dataframe tbody tr th:only-of-type {\n",
       "        vertical-align: middle;\n",
       "    }\n",
       "\n",
       "    .dataframe tbody tr th {\n",
       "        vertical-align: top;\n",
       "    }\n",
       "\n",
       "    .dataframe thead th {\n",
       "        text-align: right;\n",
       "    }\n",
       "</style>\n",
       "<table border=\"1\" class=\"dataframe\">\n",
       "  <thead>\n",
       "    <tr style=\"text-align: right;\">\n",
       "      <th></th>\n",
       "      <th>user_id</th>\n",
       "    </tr>\n",
       "    <tr>\n",
       "      <th>group</th>\n",
       "      <th></th>\n",
       "    </tr>\n",
       "  </thead>\n",
       "  <tbody>\n",
       "    <tr>\n",
       "      <th>A</th>\n",
       "      <td>503</td>\n",
       "    </tr>\n",
       "    <tr>\n",
       "      <th>B</th>\n",
       "      <td>586</td>\n",
       "    </tr>\n",
       "  </tbody>\n",
       "</table>\n",
       "</div>"
      ],
      "text/plain": [
       "       user_id\n",
       "group         \n",
       "A          503\n",
       "B          586"
      ]
     },
     "execution_count": 78,
     "metadata": {},
     "output_type": "execute_result"
    }
   ],
   "source": [
    "users_count = (orders.groupby(['group']).agg({'user_id': 'nunique'}))\n",
    "users_count"
   ]
  },
  {
   "cell_type": "code",
   "execution_count": 86,
   "metadata": {
    "scrolled": true
   },
   "outputs": [
    {
     "data": {
      "text/plain": [
       "58"
      ]
     },
     "execution_count": 86,
     "metadata": {},
     "output_type": "execute_result"
    }
   ],
   "source": [
    "group_a = orders[orders['group'] == 'A']['user_id']\n",
    "group_b = orders[orders['group'] == 'B']['user_id']\n",
    "same_ab = orders.query('user_id in @group_a and user_id in @group_b')\n",
    "\n",
    "same_ab_count = len(same_ab.groupby(['user_id']).agg({'user_id': 'nunique'}))\n"
   ]
  },
  {
   "cell_type": "code",
   "execution_count": 89,
   "metadata": {
    "scrolled": true
   },
   "outputs": [
    {
     "data": {
      "text/html": [
       "<div>\n",
       "<style scoped>\n",
       "    .dataframe tbody tr th:only-of-type {\n",
       "        vertical-align: middle;\n",
       "    }\n",
       "\n",
       "    .dataframe tbody tr th {\n",
       "        vertical-align: top;\n",
       "    }\n",
       "\n",
       "    .dataframe thead th {\n",
       "        text-align: right;\n",
       "    }\n",
       "</style>\n",
       "<table border=\"1\" class=\"dataframe\">\n",
       "  <thead>\n",
       "    <tr style=\"text-align: right;\">\n",
       "      <th></th>\n",
       "      <th></th>\n",
       "      <th>visitors</th>\n",
       "    </tr>\n",
       "    <tr>\n",
       "      <th>date</th>\n",
       "      <th>group</th>\n",
       "      <th></th>\n",
       "    </tr>\n",
       "  </thead>\n",
       "  <tbody>\n",
       "    <tr>\n",
       "      <th rowspan=\"2\" valign=\"top\">2019-08-01</th>\n",
       "      <th>A</th>\n",
       "      <td>719</td>\n",
       "    </tr>\n",
       "    <tr>\n",
       "      <th>B</th>\n",
       "      <td>713</td>\n",
       "    </tr>\n",
       "    <tr>\n",
       "      <th rowspan=\"2\" valign=\"top\">2019-08-02</th>\n",
       "      <th>A</th>\n",
       "      <td>619</td>\n",
       "    </tr>\n",
       "    <tr>\n",
       "      <th>B</th>\n",
       "      <td>581</td>\n",
       "    </tr>\n",
       "    <tr>\n",
       "      <th>2019-08-03</th>\n",
       "      <th>A</th>\n",
       "      <td>507</td>\n",
       "    </tr>\n",
       "    <tr>\n",
       "      <th>...</th>\n",
       "      <th>...</th>\n",
       "      <td>...</td>\n",
       "    </tr>\n",
       "    <tr>\n",
       "      <th>2019-08-29</th>\n",
       "      <th>B</th>\n",
       "      <td>531</td>\n",
       "    </tr>\n",
       "    <tr>\n",
       "      <th rowspan=\"2\" valign=\"top\">2019-08-30</th>\n",
       "      <th>A</th>\n",
       "      <td>490</td>\n",
       "    </tr>\n",
       "    <tr>\n",
       "      <th>B</th>\n",
       "      <td>490</td>\n",
       "    </tr>\n",
       "    <tr>\n",
       "      <th rowspan=\"2\" valign=\"top\">2019-08-31</th>\n",
       "      <th>A</th>\n",
       "      <td>699</td>\n",
       "    </tr>\n",
       "    <tr>\n",
       "      <th>B</th>\n",
       "      <td>718</td>\n",
       "    </tr>\n",
       "  </tbody>\n",
       "</table>\n",
       "<p>62 rows × 1 columns</p>\n",
       "</div>"
      ],
      "text/plain": [
       "                  visitors\n",
       "date       group          \n",
       "2019-08-01 A           719\n",
       "           B           713\n",
       "2019-08-02 A           619\n",
       "           B           581\n",
       "2019-08-03 A           507\n",
       "...                    ...\n",
       "2019-08-29 B           531\n",
       "2019-08-30 A           490\n",
       "           B           490\n",
       "2019-08-31 A           699\n",
       "           B           718\n",
       "\n",
       "[62 rows x 1 columns]"
      ]
     },
     "execution_count": 89,
     "metadata": {},
     "output_type": "execute_result"
    }
   ],
   "source": [
    "users_dynamic = (visitors.groupby(['date', 'group']).agg({'visitors': 'sum'}))\n",
    "users_dynamic"
   ]
  },
  {
   "cell_type": "markdown",
   "metadata": {},
   "source": [
    "Нагляднее данную таблицу представить в види графика."
   ]
  },
  {
   "cell_type": "code",
   "execution_count": 94,
   "metadata": {},
   "outputs": [
    {
     "data": {
      "text/plain": [
       "[<matplotlib.lines.Line2D at 0x7fb51cd1dfa0>]"
      ]
     },
     "execution_count": 94,
     "metadata": {},
     "output_type": "execute_result"
    },
    {
     "data": {
      "image/png": "[encoded data removed]",
      "text/plain": [
       "<Figure size 1080x360 with 1 Axes>"
      ]
     },
     "metadata": {
      "needs_background": "light"
     },
     "output_type": "display_data"
    }
   ],
   "source": [
    "plt.figure(figsize=(15, 5))\n",
    "a_group = visitors[visitors['group']=='A']\n",
    "b_group = visitors[visitors['group']=='B']\n",
    "plt.plot(a_group['date'], a_group['visitors'])\n",
    "plt.plot(b_group['date'], b_group['visitors'])"
   ]
  },
  {
   "cell_type": "markdown",
   "metadata": {},
   "source": [
    "Динамика посещений в обеих группах одинаковая."
   ]
  },
  {
   "cell_type": "markdown",
   "metadata": {},
   "source": [
    "# Часть 1. Приоритизация гипотез."
   ]
  },
  {
   "cell_type": "markdown",
   "metadata": {},
   "source": [
    "### Примените фреймворк ICE для приоритизации гипотез. Отсортируйте их по убыванию приоритета."
   ]
  },
  {
   "cell_type": "code",
   "execution_count": 95,
   "metadata": {},
   "outputs": [],
   "source": [
    "hypothesis['ICE'] = (hypothesis['impact']*hypothesis['confidence'])/hypothesis['efforts']"
   ]
  },
  {
   "cell_type": "code",
   "execution_count": 96,
   "metadata": {},
   "outputs": [
    {
     "name": "stdout",
     "output_type": "stream",
     "text": [
      "                                                                                                     hypothesis  \\\n",
      "8                                                       Запустить акцию, дающую скидку на товар в день рождения   \n",
      "0            Добавить два новых канала привлечения трафика, что позволит привлекать на 30% больше пользователей   \n",
      "7              Добавить форму подписки на все основные страницы, чтобы собрать базу клиентов для email-рассылок   \n",
      "6          Показать на главной странице баннеры с актуальными акциями и распродажами, чтобы увеличить конверсию   \n",
      "2  Добавить блоки рекомендаций товаров на сайт интернет магазина, чтобы повысить конверсию и средний чек заказа   \n",
      "1                                     Запустить собственную службу доставки, что сократит срок доставки заказов   \n",
      "5                      Добавить страницу отзывов клиентов о магазине, что позволит увеличить количество заказов   \n",
      "3           Изменить структура категорий, что увеличит конверсию, т.к. пользователи быстрее найдут нужный товар   \n",
      "4                              Изменить цвет фона главной страницы, чтобы увеличить вовлеченность пользователей   \n",
      "\n",
      "     ICE  \n",
      "8  16.20  \n",
      "0  13.33  \n",
      "7  11.20  \n",
      "6   8.00  \n",
      "2   7.00  \n",
      "1   2.00  \n",
      "5   1.33  \n",
      "3   1.12  \n",
      "4   1.00  \n"
     ]
    }
   ],
   "source": [
    "print (hypothesis[['hypothesis','ICE']].sort_values(by = 'ICE', ascending = False).round(2))"
   ]
  },
  {
   "cell_type": "markdown",
   "metadata": {},
   "source": [
    "Фреймворк ICE состоит из трёх компонент:\n",
    "Impact — насколько сильно изменение повлияет на пользователей, их опыт и удовлетворение от продукта;\n",
    "Confidence — насколько вы уверены, что это изменение повлияет на пользователей именно так; \n",
    "Efforts — сколько стоит протестировать эту гипотезу. \n",
    "\n",
    "Согласно методу ICE самыми перспективными гипотезами являются:\n",
    "\n",
    "- запустить акцию, дающую скидку на товар в день рождения;   \n",
    "\n",
    "- добавить два новых канала привлечения трафика, что позволит привлекать на 30% больше пользователей; \n",
    "\n",
    "- добавить форму подписки на все основные страницы, чтобы собрать базу клиентов для email-рассылок."
   ]
  },
  {
   "cell_type": "markdown",
   "metadata": {},
   "source": [
    "### Примените фреймворк RICE для приоритизации гипотез. Отсортируйте их по убыванию приоритета."
   ]
  },
  {
   "cell_type": "code",
   "execution_count": 97,
   "metadata": {
    "scrolled": true
   },
   "outputs": [
    {
     "name": "stdout",
     "output_type": "stream",
     "text": [
      "                                                                                                     hypothesis  \\\n",
      "7              Добавить форму подписки на все основные страницы, чтобы собрать базу клиентов для email-рассылок   \n",
      "2  Добавить блоки рекомендаций товаров на сайт интернет магазина, чтобы повысить конверсию и средний чек заказа   \n",
      "0            Добавить два новых канала привлечения трафика, что позволит привлекать на 30% больше пользователей   \n",
      "6          Показать на главной странице баннеры с актуальными акциями и распродажами, чтобы увеличить конверсию   \n",
      "8                                                       Запустить акцию, дающую скидку на товар в день рождения   \n",
      "3           Изменить структура категорий, что увеличит конверсию, т.к. пользователи быстрее найдут нужный товар   \n",
      "1                                     Запустить собственную службу доставки, что сократит срок доставки заказов   \n",
      "5                      Добавить страницу отзывов клиентов о магазине, что позволит увеличить количество заказов   \n",
      "4                              Изменить цвет фона главной страницы, чтобы увеличить вовлеченность пользователей   \n",
      "\n",
      "    RICE  \n",
      "7  112.0  \n",
      "2   56.0  \n",
      "0   40.0  \n",
      "6   40.0  \n",
      "8   16.2  \n",
      "3    9.0  \n",
      "1    4.0  \n",
      "5    4.0  \n",
      "4    3.0  \n"
     ]
    }
   ],
   "source": [
    "hypothesis['RICE'] = (hypothesis['reach']*hypothesis['impact']*hypothesis['confidence'])/hypothesis['efforts']\n",
    "print (hypothesis[['hypothesis','RICE']].sort_values(by = 'RICE', ascending = False))"
   ]
  },
  {
   "cell_type": "markdown",
   "metadata": {},
   "source": [
    "Фреймворк RICE состоит из четырёх компонент:\n",
    "Reach — скольких пользователей затронет изменение, которое вы хотите внести;\n",
    "Impact — насколько сильно изменение повлияет на пользователей, их опыт и удовлетворение от продукта;\n",
    "Confidence — насколько вы уверены, что это изменение повлияет на пользователей именно так; \n",
    "Efforts — сколько стоит протестировать эту гипотезу. \n",
    "\n",
    "Согласно методу RICE самыми перспективными гипотезами являются:\n",
    "\n",
    " - добавить форму подписки на все основные страницы, чтобы собрать базу клиентов для email-рассылок;\n",
    " - добавить блоки рекомендаций товаров на сайт интернет магазина, чтобы повысить конверсию и средний чек заказа;\n",
    " - добавить два новых канала привлечения трафика, что позволит привлекать на 30% больше пользователей."
   ]
  },
  {
   "cell_type": "markdown",
   "metadata": {},
   "source": [
    "### Укажите, как изменилась приоритизация гипотез при применении RICE вместо ICE. Объясните, почему так произошло."
   ]
  },
  {
   "cell_type": "markdown",
   "metadata": {},
   "source": [
    "Приоритизация гипотез при применении RICE вместо ICE произошла за счет параметра Reach — скольких пользователей затронет изменение."
   ]
  },
  {
   "cell_type": "markdown",
   "metadata": {},
   "source": [
    "# Часть 2. Анализ A/B-теста"
   ]
  },
  {
   "cell_type": "markdown",
   "metadata": {},
   "source": [
    "## График кумулятивной выручки по группам. "
   ]
  },
  {
   "cell_type": "markdown",
   "metadata": {},
   "source": [
    "Создадим массив уникальных пар значений дат и групп теста методом drop_duplicates(): "
   ]
  },
  {
   "cell_type": "code",
   "execution_count": 98,
   "metadata": {},
   "outputs": [
    {
     "data": {
      "text/html": [
       "<div>\n",
       "<style scoped>\n",
       "    .dataframe tbody tr th:only-of-type {\n",
       "        vertical-align: middle;\n",
       "    }\n",
       "\n",
       "    .dataframe tbody tr th {\n",
       "        vertical-align: top;\n",
       "    }\n",
       "\n",
       "    .dataframe thead th {\n",
       "        text-align: right;\n",
       "    }\n",
       "</style>\n",
       "<table border=\"1\" class=\"dataframe\">\n",
       "  <thead>\n",
       "    <tr style=\"text-align: right;\">\n",
       "      <th></th>\n",
       "      <th>date</th>\n",
       "      <th>group</th>\n",
       "    </tr>\n",
       "  </thead>\n",
       "  <tbody>\n",
       "    <tr>\n",
       "      <th>0</th>\n",
       "      <td>2019-08-15</td>\n",
       "      <td>B</td>\n",
       "    </tr>\n",
       "    <tr>\n",
       "      <th>2</th>\n",
       "      <td>2019-08-15</td>\n",
       "      <td>A</td>\n",
       "    </tr>\n",
       "    <tr>\n",
       "      <th>45</th>\n",
       "      <td>2019-08-16</td>\n",
       "      <td>A</td>\n",
       "    </tr>\n",
       "    <tr>\n",
       "      <th>47</th>\n",
       "      <td>2019-08-16</td>\n",
       "      <td>B</td>\n",
       "    </tr>\n",
       "    <tr>\n",
       "      <th>55</th>\n",
       "      <td>2019-08-01</td>\n",
       "      <td>A</td>\n",
       "    </tr>\n",
       "    <tr>\n",
       "      <th>...</th>\n",
       "      <td>...</td>\n",
       "      <td>...</td>\n",
       "    </tr>\n",
       "    <tr>\n",
       "      <th>1068</th>\n",
       "      <td>2019-08-12</td>\n",
       "      <td>A</td>\n",
       "    </tr>\n",
       "    <tr>\n",
       "      <th>1114</th>\n",
       "      <td>2019-08-13</td>\n",
       "      <td>B</td>\n",
       "    </tr>\n",
       "    <tr>\n",
       "      <th>1116</th>\n",
       "      <td>2019-08-13</td>\n",
       "      <td>A</td>\n",
       "    </tr>\n",
       "    <tr>\n",
       "      <th>1149</th>\n",
       "      <td>2019-08-14</td>\n",
       "      <td>B</td>\n",
       "    </tr>\n",
       "    <tr>\n",
       "      <th>1150</th>\n",
       "      <td>2019-08-14</td>\n",
       "      <td>A</td>\n",
       "    </tr>\n",
       "  </tbody>\n",
       "</table>\n",
       "<p>62 rows × 2 columns</p>\n",
       "</div>"
      ],
      "text/plain": [
       "           date group\n",
       "0    2019-08-15     B\n",
       "2    2019-08-15     A\n",
       "45   2019-08-16     A\n",
       "47   2019-08-16     B\n",
       "55   2019-08-01     A\n",
       "...         ...   ...\n",
       "1068 2019-08-12     A\n",
       "1114 2019-08-13     B\n",
       "1116 2019-08-13     A\n",
       "1149 2019-08-14     B\n",
       "1150 2019-08-14     A\n",
       "\n",
       "[62 rows x 2 columns]"
      ]
     },
     "execution_count": 98,
     "metadata": {},
     "output_type": "execute_result"
    }
   ],
   "source": [
    "# создаем массив уникальных пар значений дат и групп теста\n",
    "datesGroups = orders[['date','group']].drop_duplicates() \n",
    "datesGroups"
   ]
  },
  {
   "cell_type": "code",
   "execution_count": 99,
   "metadata": {},
   "outputs": [
    {
     "data": {
      "text/html": [
       "<div>\n",
       "<style scoped>\n",
       "    .dataframe tbody tr th:only-of-type {\n",
       "        vertical-align: middle;\n",
       "    }\n",
       "\n",
       "    .dataframe tbody tr th {\n",
       "        vertical-align: top;\n",
       "    }\n",
       "\n",
       "    .dataframe thead th {\n",
       "        text-align: right;\n",
       "    }\n",
       "</style>\n",
       "<table border=\"1\" class=\"dataframe\">\n",
       "  <thead>\n",
       "    <tr style=\"text-align: right;\">\n",
       "      <th></th>\n",
       "      <th>order_id</th>\n",
       "      <th>user_id</th>\n",
       "      <th>date</th>\n",
       "      <th>revenue</th>\n",
       "      <th>group</th>\n",
       "    </tr>\n",
       "  </thead>\n",
       "  <tbody>\n",
       "    <tr>\n",
       "      <th>0</th>\n",
       "      <td>3667963787</td>\n",
       "      <td>3312258926</td>\n",
       "      <td>2019-08-15</td>\n",
       "      <td>1650</td>\n",
       "      <td>B</td>\n",
       "    </tr>\n",
       "    <tr>\n",
       "      <th>1</th>\n",
       "      <td>2804400009</td>\n",
       "      <td>3642806036</td>\n",
       "      <td>2019-08-15</td>\n",
       "      <td>730</td>\n",
       "      <td>B</td>\n",
       "    </tr>\n",
       "    <tr>\n",
       "      <th>2</th>\n",
       "      <td>2961555356</td>\n",
       "      <td>4069496402</td>\n",
       "      <td>2019-08-15</td>\n",
       "      <td>400</td>\n",
       "      <td>A</td>\n",
       "    </tr>\n",
       "    <tr>\n",
       "      <th>3</th>\n",
       "      <td>3797467345</td>\n",
       "      <td>1196621759</td>\n",
       "      <td>2019-08-15</td>\n",
       "      <td>9759</td>\n",
       "      <td>B</td>\n",
       "    </tr>\n",
       "    <tr>\n",
       "      <th>4</th>\n",
       "      <td>2282983706</td>\n",
       "      <td>2322279887</td>\n",
       "      <td>2019-08-15</td>\n",
       "      <td>2308</td>\n",
       "      <td>B</td>\n",
       "    </tr>\n",
       "    <tr>\n",
       "      <th>...</th>\n",
       "      <td>...</td>\n",
       "      <td>...</td>\n",
       "      <td>...</td>\n",
       "      <td>...</td>\n",
       "      <td>...</td>\n",
       "    </tr>\n",
       "    <tr>\n",
       "      <th>1192</th>\n",
       "      <td>2662137336</td>\n",
       "      <td>3733762160</td>\n",
       "      <td>2019-08-14</td>\n",
       "      <td>6490</td>\n",
       "      <td>B</td>\n",
       "    </tr>\n",
       "    <tr>\n",
       "      <th>1193</th>\n",
       "      <td>2203539145</td>\n",
       "      <td>370388673</td>\n",
       "      <td>2019-08-14</td>\n",
       "      <td>3190</td>\n",
       "      <td>A</td>\n",
       "    </tr>\n",
       "    <tr>\n",
       "      <th>1194</th>\n",
       "      <td>1807773912</td>\n",
       "      <td>573423106</td>\n",
       "      <td>2019-08-14</td>\n",
       "      <td>10550</td>\n",
       "      <td>A</td>\n",
       "    </tr>\n",
       "    <tr>\n",
       "      <th>1195</th>\n",
       "      <td>1947021204</td>\n",
       "      <td>1614305549</td>\n",
       "      <td>2019-08-14</td>\n",
       "      <td>100</td>\n",
       "      <td>A</td>\n",
       "    </tr>\n",
       "    <tr>\n",
       "      <th>1196</th>\n",
       "      <td>3936777065</td>\n",
       "      <td>2108080724</td>\n",
       "      <td>2019-08-15</td>\n",
       "      <td>202740</td>\n",
       "      <td>B</td>\n",
       "    </tr>\n",
       "  </tbody>\n",
       "</table>\n",
       "<p>1197 rows × 5 columns</p>\n",
       "</div>"
      ],
      "text/plain": [
       "        order_id     user_id       date  revenue group\n",
       "0     3667963787  3312258926 2019-08-15     1650     B\n",
       "1     2804400009  3642806036 2019-08-15      730     B\n",
       "2     2961555356  4069496402 2019-08-15      400     A\n",
       "3     3797467345  1196621759 2019-08-15     9759     B\n",
       "4     2282983706  2322279887 2019-08-15     2308     B\n",
       "...          ...         ...        ...      ...   ...\n",
       "1192  2662137336  3733762160 2019-08-14     6490     B\n",
       "1193  2203539145   370388673 2019-08-14     3190     A\n",
       "1194  1807773912   573423106 2019-08-14    10550     A\n",
       "1195  1947021204  1614305549 2019-08-14      100     A\n",
       "1196  3936777065  2108080724 2019-08-15   202740     B\n",
       "\n",
       "[1197 rows x 5 columns]"
      ]
     },
     "execution_count": 99,
     "metadata": {},
     "output_type": "execute_result"
    }
   ],
   "source": [
    "orders"
   ]
  },
  {
   "cell_type": "markdown",
   "metadata": {},
   "source": [
    "Подсчитаем сумму средних чеков:\n",
    ".agg({'date' : 'max', 'group' : 'max', 'order_id' : 'nunique', 'user_id' : 'nunique', 'revenue' : 'sum'}). Применим методы к каждой строке датафрейма: apply(axis=1) и отсортируем результаты по столбцам 'date' и 'group': "
   ]
  },
  {
   "cell_type": "code",
   "execution_count": 100,
   "metadata": {
    "scrolled": true
   },
   "outputs": [],
   "source": [
    "ordersAggregated = datesGroups.apply(lambda x: orders[np.logical_and(orders['date'] <= x['date'], orders['group'] == x['group'])]\\\n",
    ".agg({'date' : 'max', 'group' : 'max', 'order_id' : 'nunique', 'user_id' : 'nunique', 'revenue' : 'sum'}), axis=1).sort_values(by=['date','group'])"
   ]
  },
  {
   "cell_type": "code",
   "execution_count": 101,
   "metadata": {},
   "outputs": [
    {
     "data": {
      "text/html": [
       "<div>\n",
       "<style scoped>\n",
       "    .dataframe tbody tr th:only-of-type {\n",
       "        vertical-align: middle;\n",
       "    }\n",
       "\n",
       "    .dataframe tbody tr th {\n",
       "        vertical-align: top;\n",
       "    }\n",
       "\n",
       "    .dataframe thead th {\n",
       "        text-align: right;\n",
       "    }\n",
       "</style>\n",
       "<table border=\"1\" class=\"dataframe\">\n",
       "  <thead>\n",
       "    <tr style=\"text-align: right;\">\n",
       "      <th></th>\n",
       "      <th>date</th>\n",
       "      <th>group</th>\n",
       "      <th>visitors</th>\n",
       "    </tr>\n",
       "  </thead>\n",
       "  <tbody>\n",
       "    <tr>\n",
       "      <th>0</th>\n",
       "      <td>2019-08-01</td>\n",
       "      <td>A</td>\n",
       "      <td>719</td>\n",
       "    </tr>\n",
       "    <tr>\n",
       "      <th>1</th>\n",
       "      <td>2019-08-02</td>\n",
       "      <td>A</td>\n",
       "      <td>619</td>\n",
       "    </tr>\n",
       "    <tr>\n",
       "      <th>2</th>\n",
       "      <td>2019-08-03</td>\n",
       "      <td>A</td>\n",
       "      <td>507</td>\n",
       "    </tr>\n",
       "    <tr>\n",
       "      <th>3</th>\n",
       "      <td>2019-08-04</td>\n",
       "      <td>A</td>\n",
       "      <td>717</td>\n",
       "    </tr>\n",
       "    <tr>\n",
       "      <th>4</th>\n",
       "      <td>2019-08-05</td>\n",
       "      <td>A</td>\n",
       "      <td>756</td>\n",
       "    </tr>\n",
       "    <tr>\n",
       "      <th>...</th>\n",
       "      <td>...</td>\n",
       "      <td>...</td>\n",
       "      <td>...</td>\n",
       "    </tr>\n",
       "    <tr>\n",
       "      <th>57</th>\n",
       "      <td>2019-08-27</td>\n",
       "      <td>B</td>\n",
       "      <td>720</td>\n",
       "    </tr>\n",
       "    <tr>\n",
       "      <th>58</th>\n",
       "      <td>2019-08-28</td>\n",
       "      <td>B</td>\n",
       "      <td>654</td>\n",
       "    </tr>\n",
       "    <tr>\n",
       "      <th>59</th>\n",
       "      <td>2019-08-29</td>\n",
       "      <td>B</td>\n",
       "      <td>531</td>\n",
       "    </tr>\n",
       "    <tr>\n",
       "      <th>60</th>\n",
       "      <td>2019-08-30</td>\n",
       "      <td>B</td>\n",
       "      <td>490</td>\n",
       "    </tr>\n",
       "    <tr>\n",
       "      <th>61</th>\n",
       "      <td>2019-08-31</td>\n",
       "      <td>B</td>\n",
       "      <td>718</td>\n",
       "    </tr>\n",
       "  </tbody>\n",
       "</table>\n",
       "<p>62 rows × 3 columns</p>\n",
       "</div>"
      ],
      "text/plain": [
       "         date group  visitors\n",
       "0  2019-08-01     A       719\n",
       "1  2019-08-02     A       619\n",
       "2  2019-08-03     A       507\n",
       "3  2019-08-04     A       717\n",
       "4  2019-08-05     A       756\n",
       "..        ...   ...       ...\n",
       "57 2019-08-27     B       720\n",
       "58 2019-08-28     B       654\n",
       "59 2019-08-29     B       531\n",
       "60 2019-08-30     B       490\n",
       "61 2019-08-31     B       718\n",
       "\n",
       "[62 rows x 3 columns]"
      ]
     },
     "execution_count": 101,
     "metadata": {},
     "output_type": "execute_result"
    }
   ],
   "source": [
    "visitors"
   ]
  },
  {
   "cell_type": "markdown",
   "metadata": {},
   "source": [
    "Аналогично получим агрегированные кумулятивные по дням данные о посетителях интернет-магазина: "
   ]
  },
  {
   "cell_type": "code",
   "execution_count": 102,
   "metadata": {},
   "outputs": [],
   "source": [
    "visitorsAggregated = datesGroups.apply(lambda x: visitors[np.logical_and(visitors['date'] <= x['date'], visitors['group'] == x['group'])].agg({'date' : 'max', 'group' : 'max', 'visitors' : 'sum'}), axis=1).sort_values(by=['date','group'])"
   ]
  },
  {
   "cell_type": "markdown",
   "metadata": {},
   "source": [
    "Объединим обе таблицы в одну с понятными названиями столбцов:"
   ]
  },
  {
   "cell_type": "code",
   "execution_count": 103,
   "metadata": {},
   "outputs": [
    {
     "name": "stdout",
     "output_type": "stream",
     "text": [
      "        date group  orders  buyers  revenue  visitors\n",
      "0 2019-08-01     A      24      20   148579       719\n",
      "1 2019-08-01     B      21      20   101217       713\n",
      "2 2019-08-02     A      44      38   242401      1338\n",
      "3 2019-08-02     B      45      43   266748      1294\n",
      "4 2019-08-03     A      68      62   354874      1845\n"
     ]
    }
   ],
   "source": [
    "# создаем массив уникальных пар значений дат и групп теста\n",
    "datesGroups = orders[['date','group']].drop_duplicates()\n",
    "\n",
    "# получаем агрегированные кумулятивные по дням данные о заказах \n",
    "ordersAggregated = datesGroups.apply(lambda x: orders[np.logical_and(orders['date'] <= x['date'], orders['group'] == x['group'])].agg({'date' : 'max', 'group' : 'max', 'order_id' : 'nunique', 'user_id' : 'nunique', 'revenue' : 'sum'}), axis=1).sort_values(by=['date','group'])\n",
    "\n",
    "# получаем агрегированные кумулятивные по дням данные о посетителях интернет-магазина \n",
    "visitorsAggregated = datesGroups.apply(lambda x: visitors[np.logical_and(visitors['date'] <= x['date'], visitors['group'] == x['group'])].agg({'date' : 'max', 'group' : 'max', 'visitors' : 'sum'}), axis=1).sort_values(by=['date','group'])\n",
    "\n",
    "# объединяем кумулятивные данные в одной таблице и присваиваем ее столбцам понятные названия\n",
    "cumulativeData = ordersAggregated.merge(visitorsAggregated, left_on=['date', 'group'], right_on=['date', 'group'])\n",
    "cumulativeData.columns = ['date', 'group', 'orders', 'buyers', 'revenue', 'visitors']\n",
    "\n",
    "print(cumulativeData.head(5))"
   ]
  },
  {
   "cell_type": "code",
   "execution_count": 105,
   "metadata": {},
   "outputs": [
    {
     "data": {
      "text/plain": [
       "Timestamp('2019-08-31 00:00:00')"
      ]
     },
     "execution_count": 105,
     "metadata": {},
     "output_type": "execute_result"
    }
   ],
   "source": [
    "cumulativeData['date'].min()"
   ]
  },
  {
   "cell_type": "code",
   "execution_count": 106,
   "metadata": {
    "scrolled": true
   },
   "outputs": [
    {
     "data": {
      "text/plain": [
       "Timestamp('2019-08-31 00:00:00')"
      ]
     },
     "execution_count": 106,
     "metadata": {},
     "output_type": "execute_result"
    }
   ],
   "source": [
    "cumulativeData['date'].max()"
   ]
  },
  {
   "cell_type": "markdown",
   "metadata": {},
   "source": [
    "Построим графики кумулятивной выручки по дням и группам A/B-тестирования."
   ]
  },
  {
   "cell_type": "code",
   "execution_count": 109,
   "metadata": {},
   "outputs": [
    {
     "data": {
      "image/png": "[encoded data removed]",
      "text/plain": [
       "<Figure size 1080x360 with 1 Axes>"
      ]
     },
     "metadata": {
      "needs_background": "light"
     },
     "output_type": "display_data"
    }
   ],
   "source": [
    "plt.figure(figsize=(15,5))\n",
    "\n",
    "# датафрейм с кумулятивным количеством заказов и кумулятивной выручкой по дням в группе А\n",
    "cumulativeRevenueA = cumulativeData[cumulativeData['group']=='A'][['date','revenue', 'orders']]\n",
    "\n",
    "# датафрейм с кумулятивным количеством заказов и кумулятивной выручкой по дням в группе B\n",
    "cumulativeRevenueB = cumulativeData[cumulativeData['group']=='B'][['date','revenue', 'orders']]\n",
    "\n",
    "\n",
    "# Строим график выручки группы А\n",
    "plt.plot(cumulativeRevenueA['date'], cumulativeRevenueA['revenue'], label='A')\n",
    "\n",
    "# Строим график выручки группы B\n",
    "plt.plot(cumulativeRevenueB['date'], cumulativeRevenueB['revenue'], label='B')\n",
    "\n",
    "\n",
    "plt.legend()\n",
    "\n",
    "\n",
    "plt.title(\"График кумулятивной выручки по группам A/B-тестирования\")\n",
    "\n",
    "plt.ylabel(\"Объем кумулятивной выручки\")\n",
    "\n",
    "plt.xlabel(\"Дата\")\n",
    "\n",
    "plt.show()"
   ]
  },
  {
   "cell_type": "markdown",
   "metadata": {},
   "source": [
    "**Вывод:**\n",
    "\n",
    "В период с 01.08.2019 по 17.08.2019 выручка у групп А и В растет примерно одинаково. После 17.08.2019 в группе B наблюдается резкий всплесках числа заказов, либо о появлении очень дорогих заказов или аномалии. "
   ]
  },
  {
   "cell_type": "markdown",
   "metadata": {},
   "source": [
    "## График кумулятивного среднего чека по группам. "
   ]
  },
  {
   "cell_type": "code",
   "execution_count": 110,
   "metadata": {},
   "outputs": [
    {
     "data": {
      "image/png": "[encoded data removed]",
      "text/plain": [
       "<Figure size 1080x360 with 1 Axes>"
      ]
     },
     "metadata": {
      "needs_background": "light"
     },
     "output_type": "display_data"
    }
   ],
   "source": [
    "plt.figure(figsize=(15,5))\n",
    "\n",
    "plt.plot(cumulativeRevenueA['date'], cumulativeRevenueA['revenue']/cumulativeRevenueA['orders'], label='A')\n",
    "plt.plot(cumulativeRevenueB['date'], cumulativeRevenueB['revenue']/cumulativeRevenueB['orders'], label='B')\n",
    "plt.legend() \n",
    "plt.title(\"График кумулятивного среднего чека по группам\")\n",
    "plt.ylabel(\"Средний чек\")\n",
    "plt.xlabel(\"Дата\")\n",
    "plt.show()"
   ]
  },
  {
   "cell_type": "markdown",
   "metadata": {},
   "source": [
    "**Вывод:**\n",
    "\n",
    "Для группы А средний чек тоже становится равномерным ближе к концу теста.\n",
    "Для группы B мы опять видим всплеск после 17.08.2019 по вероятной причине попадания крупных заказов.\n",
    "Нужно больше данных, чтобы прийти к реальному среднему чеку и установиться на его уровне."
   ]
  },
  {
   "cell_type": "markdown",
   "metadata": {},
   "source": [
    "## График относительного изменения кумулятивного среднего чека группы B к группе A. "
   ]
  },
  {
   "cell_type": "code",
   "execution_count": 111,
   "metadata": {},
   "outputs": [
    {
     "data": {
      "image/png": "[encoded data removed]",
      "text/plain": [
       "<Figure size 1080x360 with 1 Axes>"
      ]
     },
     "metadata": {
      "needs_background": "light"
     },
     "output_type": "display_data"
    }
   ],
   "source": [
    "plt.figure(figsize=(15,5))\n",
    "# собираем данные в одном датафрейме\n",
    "mergedCumulativeRevenue = cumulativeRevenueA.merge(cumulativeRevenueB, left_on='date', right_on='date', how='left', suffixes=['A', 'B'])\n",
    "\n",
    "# cтроим отношение средних чеков\n",
    "plt.plot(mergedCumulativeRevenue['date'], (mergedCumulativeRevenue['revenueB']/mergedCumulativeRevenue['ordersB'])/(mergedCumulativeRevenue['revenueA']/mergedCumulativeRevenue['ordersA'])-1)\n",
    "\n",
    "# добавляем ось X\n",
    "plt.axhline(y=0, color='black', linestyle='--') \n",
    "\n",
    "plt.title(\"График относительного изменения кумулятивного среднего чека группы B к группе A\")\n",
    "plt.ylabel(\"Отношение кумулятивного среднего чека В к А\")\n",
    "plt.xlabel(\"Дата\")\n",
    "plt.show()"
   ]
  },
  {
   "cell_type": "markdown",
   "metadata": {},
   "source": [
    "**Вывод:**\n",
    "\n",
    "На графике повторяется резкий всплеск 17.08.2019."
   ]
  },
  {
   "cell_type": "markdown",
   "metadata": {},
   "source": [
    "## График кумулятивного среднего количества заказов на посетителя по группам. "
   ]
  },
  {
   "cell_type": "code",
   "execution_count": 112,
   "metadata": {},
   "outputs": [
    {
     "data": {
      "image/png": "[encoded data removed]",
      "text/plain": [
       "<Figure size 1080x360 with 1 Axes>"
      ]
     },
     "metadata": {
      "needs_background": "light"
     },
     "output_type": "display_data"
    }
   ],
   "source": [
    "plt.figure(figsize=(15,5))\n",
    "\n",
    "# считаем кумулятивную конверсию\n",
    "cumulativeData['conversion'] = cumulativeData['orders']/cumulativeData['visitors']\n",
    "\n",
    "# отделяем данные по группе A\n",
    "cumulativeDataA = cumulativeData[cumulativeData['group']=='A']\n",
    "\n",
    "# отделяем данные по группе B\n",
    "cumulativeDataB = cumulativeData[cumulativeData['group']=='B']\n",
    "\n",
    "# строим графики\n",
    "plt.plot(cumulativeDataA['date'], cumulativeDataA['conversion'], label='A')\n",
    "plt.plot(cumulativeDataB['date'], cumulativeDataB['conversion'], label='B')\n",
    "plt.legend()\n",
    "plt.title(\"График кумулятивного среднего количества заказов на посетителя по группам\")\n",
    "plt.ylabel(\"Среднее количества заказов на посетителя\")\n",
    "plt.xlabel(\"Дата\")\n",
    "plt.show()\n",
    "# задаем масштаб осей\n"
   ]
  },
  {
   "cell_type": "markdown",
   "metadata": {},
   "source": [
    "**Вывод:**\n",
    "\n",
    "Изначально конверсия группы А была значительно выше конверсии группы В, но с течением времени она упала до значений около 0.029 - 0.031. Конверия группы В имеет противоположную картину. На конец наблюдаемого периода конверсия этой группы стабилизировалась на значениях 0.033-0.035"
   ]
  },
  {
   "cell_type": "markdown",
   "metadata": {},
   "source": [
    "## График относительного изменения кумулятивного среднего количества заказов на посетителя группы B к группе A. "
   ]
  },
  {
   "cell_type": "code",
   "execution_count": 113,
   "metadata": {},
   "outputs": [
    {
     "data": {
      "image/png": "[encoded data removed]",
      "text/plain": [
       "<Figure size 1080x360 with 1 Axes>"
      ]
     },
     "metadata": {
      "needs_background": "light"
     },
     "output_type": "display_data"
    }
   ],
   "source": [
    "plt.figure(figsize=(15,5))\n",
    "\n",
    "mergedCumulativeConversions = cumulativeDataA[['date','conversion']].merge(cumulativeDataB[['date','conversion']], left_on='date', right_on='date', how='left', suffixes=['A', 'B'])\n",
    "\n",
    "plt.plot(mergedCumulativeConversions['date'], mergedCumulativeConversions['conversionB']/mergedCumulativeConversions['conversionA']-1, label=\"Относительный прирост конверсии группы B относительно группы A\")\n",
    "plt.legend()\n",
    "\n",
    "plt.axhline(y=0, color='black', linestyle='--')\n",
    "plt.axhline(y=-0.1, color='red', linestyle='--')\n",
    "plt.title(\"График относительного изменения кумулятивного среднего количества заказов на посетителя группы B к группе A\")\n",
    "plt.ylabel(\"Отношение среднего количества заказов на посетителя В к А\")\n",
    "plt.xlabel(\"Дата\")\n",
    "plt.show()\n"
   ]
  },
  {
   "cell_type": "markdown",
   "metadata": {},
   "source": [
    "**Вывод:**\n",
    "\n",
    "В начале теста группа B значительно проигрывала группе A. На конец изучаемого периода конверсия группы В намного выше группы А."
   ]
  },
  {
   "cell_type": "markdown",
   "metadata": {},
   "source": [
    "## График количества заказов по пользователям. "
   ]
  },
  {
   "cell_type": "code",
   "execution_count": 116,
   "metadata": {},
   "outputs": [
    {
     "data": {
      "text/html": [
       "<div>\n",
       "<style scoped>\n",
       "    .dataframe tbody tr th:only-of-type {\n",
       "        vertical-align: middle;\n",
       "    }\n",
       "\n",
       "    .dataframe tbody tr th {\n",
       "        vertical-align: top;\n",
       "    }\n",
       "\n",
       "    .dataframe thead th {\n",
       "        text-align: right;\n",
       "    }\n",
       "</style>\n",
       "<table border=\"1\" class=\"dataframe\">\n",
       "  <thead>\n",
       "    <tr style=\"text-align: right;\">\n",
       "      <th></th>\n",
       "      <th>order_id</th>\n",
       "      <th>user_id</th>\n",
       "      <th>date</th>\n",
       "      <th>revenue</th>\n",
       "      <th>group</th>\n",
       "    </tr>\n",
       "  </thead>\n",
       "  <tbody>\n",
       "    <tr>\n",
       "      <th>0</th>\n",
       "      <td>3667963787</td>\n",
       "      <td>3312258926</td>\n",
       "      <td>2019-08-15</td>\n",
       "      <td>1650</td>\n",
       "      <td>B</td>\n",
       "    </tr>\n",
       "    <tr>\n",
       "      <th>1</th>\n",
       "      <td>2804400009</td>\n",
       "      <td>3642806036</td>\n",
       "      <td>2019-08-15</td>\n",
       "      <td>730</td>\n",
       "      <td>B</td>\n",
       "    </tr>\n",
       "    <tr>\n",
       "      <th>2</th>\n",
       "      <td>2961555356</td>\n",
       "      <td>4069496402</td>\n",
       "      <td>2019-08-15</td>\n",
       "      <td>400</td>\n",
       "      <td>A</td>\n",
       "    </tr>\n",
       "    <tr>\n",
       "      <th>3</th>\n",
       "      <td>3797467345</td>\n",
       "      <td>1196621759</td>\n",
       "      <td>2019-08-15</td>\n",
       "      <td>9759</td>\n",
       "      <td>B</td>\n",
       "    </tr>\n",
       "    <tr>\n",
       "      <th>4</th>\n",
       "      <td>2282983706</td>\n",
       "      <td>2322279887</td>\n",
       "      <td>2019-08-15</td>\n",
       "      <td>2308</td>\n",
       "      <td>B</td>\n",
       "    </tr>\n",
       "    <tr>\n",
       "      <th>...</th>\n",
       "      <td>...</td>\n",
       "      <td>...</td>\n",
       "      <td>...</td>\n",
       "      <td>...</td>\n",
       "      <td>...</td>\n",
       "    </tr>\n",
       "    <tr>\n",
       "      <th>1192</th>\n",
       "      <td>2662137336</td>\n",
       "      <td>3733762160</td>\n",
       "      <td>2019-08-14</td>\n",
       "      <td>6490</td>\n",
       "      <td>B</td>\n",
       "    </tr>\n",
       "    <tr>\n",
       "      <th>1193</th>\n",
       "      <td>2203539145</td>\n",
       "      <td>370388673</td>\n",
       "      <td>2019-08-14</td>\n",
       "      <td>3190</td>\n",
       "      <td>A</td>\n",
       "    </tr>\n",
       "    <tr>\n",
       "      <th>1194</th>\n",
       "      <td>1807773912</td>\n",
       "      <td>573423106</td>\n",
       "      <td>2019-08-14</td>\n",
       "      <td>10550</td>\n",
       "      <td>A</td>\n",
       "    </tr>\n",
       "    <tr>\n",
       "      <th>1195</th>\n",
       "      <td>1947021204</td>\n",
       "      <td>1614305549</td>\n",
       "      <td>2019-08-14</td>\n",
       "      <td>100</td>\n",
       "      <td>A</td>\n",
       "    </tr>\n",
       "    <tr>\n",
       "      <th>1196</th>\n",
       "      <td>3936777065</td>\n",
       "      <td>2108080724</td>\n",
       "      <td>2019-08-15</td>\n",
       "      <td>202740</td>\n",
       "      <td>B</td>\n",
       "    </tr>\n",
       "  </tbody>\n",
       "</table>\n",
       "<p>1197 rows × 5 columns</p>\n",
       "</div>"
      ],
      "text/plain": [
       "        order_id     user_id       date  revenue group\n",
       "0     3667963787  3312258926 2019-08-15     1650     B\n",
       "1     2804400009  3642806036 2019-08-15      730     B\n",
       "2     2961555356  4069496402 2019-08-15      400     A\n",
       "3     3797467345  1196621759 2019-08-15     9759     B\n",
       "4     2282983706  2322279887 2019-08-15     2308     B\n",
       "...          ...         ...        ...      ...   ...\n",
       "1192  2662137336  3733762160 2019-08-14     6490     B\n",
       "1193  2203539145   370388673 2019-08-14     3190     A\n",
       "1194  1807773912   573423106 2019-08-14    10550     A\n",
       "1195  1947021204  1614305549 2019-08-14      100     A\n",
       "1196  3936777065  2108080724 2019-08-15   202740     B\n",
       "\n",
       "[1197 rows x 5 columns]"
      ]
     },
     "execution_count": 116,
     "metadata": {},
     "output_type": "execute_result"
    }
   ],
   "source": [
    "orders"
   ]
  },
  {
   "cell_type": "code",
   "execution_count": 117,
   "metadata": {},
   "outputs": [
    {
     "data": {
      "text/plain": [
       "(array([937.,  64.,  17.,   3.,   6.,   0.,   0.,   1.,   1.,   2.]),\n",
       " array([ 1.,  2.,  3.,  4.,  5.,  6.,  7.,  8.,  9., 10., 11.]),\n",
       " <BarContainer object of 10 artists>)"
      ]
     },
     "execution_count": 117,
     "metadata": {},
     "output_type": "execute_result"
    },
    {
     "data": {
      "image/png": "[encoded data removed]",
      "text/plain": [
       "<Figure size 432x288 with 1 Axes>"
      ]
     },
     "metadata": {
      "needs_background": "light"
     },
     "output_type": "display_data"
    }
   ],
   "source": [
    "ordersByUsers = (\n",
    "    orders.groupby('user_id', as_index=False)\n",
    "    .agg({'order_id': 'nunique'})\n",
    ")\n",
    "\n",
    "\n",
    "plt.hist(ordersByUsers['order_id']) "
   ]
  },
  {
   "cell_type": "code",
   "execution_count": 118,
   "metadata": {},
   "outputs": [],
   "source": [
    "ordersByUsers = (\n",
    "    orders.groupby('user_id', as_index=False)\n",
    "    .agg({'order_id': 'nunique'})\n",
    ")\n",
    "ordersByUsers.columns = ['user_id', 'orders']"
   ]
  },
  {
   "cell_type": "code",
   "execution_count": 32,
   "metadata": {},
   "outputs": [
    {
     "name": "stdout",
     "output_type": "stream",
     "text": [
      "          userId  orders\n",
      "1023  4256040402      11\n",
      "591   2458001652      11\n",
      "569   2378935119       9\n",
      "487   2038680547       8\n",
      "44     199603092       5\n",
      "744   3062433592       5\n",
      "55     237748145       5\n",
      "917   3803269165       5\n",
      "299   1230306981       5\n",
      "897   3717692402       5\n"
     ]
    },
    {
     "data": {
      "text/plain": [
       "(array([937.,  64.,  17.,   3.,   6.,   0.,   0.,   1.,   1.,   2.]),\n",
       " array([ 1.,  2.,  3.,  4.,  5.,  6.,  7.,  8.,  9., 10., 11.]),\n",
       " <BarContainer object of 10 artists>)"
      ]
     },
     "execution_count": 32,
     "metadata": {},
     "output_type": "execute_result"
    },
    {
     "data": {
      "image/png": "[encoded data removed]",
      "text/plain": [
       "<Figure size 1080x360 with 1 Axes>"
      ]
     },
     "metadata": {
      "needs_background": "light"
     },
     "output_type": "display_data"
    }
   ],
   "source": [
    "# Построим гистограмму распределения числа заказов по пользователям\n",
    "plt.figure(figsize=(15,5))\n",
    "ordersByUsers.columns = ['userId', 'orders']\n",
    "\n",
    "print(ordersByUsers.sort_values(by='orders', ascending=False).head(10))\n",
    "\n",
    "plt.hist(ordersByUsers['orders']) "
   ]
  },
  {
   "cell_type": "code",
   "execution_count": 119,
   "metadata": {},
   "outputs": [
    {
     "data": {
      "text/plain": [
       "<matplotlib.collections.PathCollection at 0x7fb51c95e190>"
      ]
     },
     "execution_count": 119,
     "metadata": {},
     "output_type": "execute_result"
    },
    {
     "data": {
      "image/png": "[encoded data removed]",
      "text/plain": [
       "<Figure size 1080x360 with 1 Axes>"
      ]
     },
     "metadata": {
      "needs_background": "light"
     },
     "output_type": "display_data"
    }
   ],
   "source": [
    "# Построим точечный график количества заказов по пользователям\n",
    "plt.figure(figsize=(15,5))\n",
    "x_values = pd.Series(range(0, len(ordersByUsers)))\n",
    "\n",
    "\n",
    "plt.scatter(x_values, ordersByUsers['orders']) "
   ]
  },
  {
   "cell_type": "markdown",
   "metadata": {},
   "source": [
    "**Вывод:**\n",
    "\n",
    "Подавляющее большинство пользователей делают один заказ. Реже 2-3 заказа. Только 9 пользователей сделало 4 и 5 заказов. Пользователи с большим  количеством заказов являются аномальными."
   ]
  },
  {
   "cell_type": "markdown",
   "metadata": {},
   "source": [
    "## Расчет 95-й и 99-й перцентилей количества заказов на пользователя. Выбор границы для определения аномальных пользователей."
   ]
  },
  {
   "cell_type": "code",
   "execution_count": 120,
   "metadata": {},
   "outputs": [
    {
     "name": "stdout",
     "output_type": "stream",
     "text": [
      "[2. 4.]\n"
     ]
    }
   ],
   "source": [
    "print(np.percentile(ordersByUsers['orders'], [95, 99]))"
   ]
  },
  {
   "cell_type": "markdown",
   "metadata": {},
   "source": [
    " <div class=\"alert alert-info\"> <b> </b>\n",
    "\n",
    "**Вывод:**\n",
    "\n",
    "Не более 5% пользователей совершили 2 заказа, не более 1% совершили 4 заказа.\n",
    "Считаю целесообразным выбрать считать аномальными клиентов с 4 закзами и выше."
   ]
  },
  {
   "cell_type": "markdown",
   "metadata": {},
   "source": [
    "## Точечный график стоимостей заказов. "
   ]
  },
  {
   "cell_type": "code",
   "execution_count": 121,
   "metadata": {},
   "outputs": [
    {
     "data": {
      "text/plain": [
       "(array([1.195e+03, 1.000e+00, 0.000e+00, 0.000e+00, 0.000e+00, 0.000e+00,\n",
       "        0.000e+00, 0.000e+00, 0.000e+00, 1.000e+00]),\n",
       " array([5.000000e+01, 1.294950e+05, 2.589400e+05, 3.883850e+05,\n",
       "        5.178300e+05, 6.472750e+05, 7.767200e+05, 9.061650e+05,\n",
       "        1.035610e+06, 1.165055e+06, 1.294500e+06]),\n",
       " <BarContainer object of 10 artists>)"
      ]
     },
     "execution_count": 121,
     "metadata": {},
     "output_type": "execute_result"
    },
    {
     "data": {
      "image/png": "[encoded data removed]",
      "text/plain": [
       "<Figure size 1080x360 with 1 Axes>"
      ]
     },
     "metadata": {
      "needs_background": "light"
     },
     "output_type": "display_data"
    }
   ],
   "source": [
    "plt.figure(figsize=(15,5))\n",
    "plt.hist(orders['revenue']) "
   ]
  },
  {
   "cell_type": "code",
   "execution_count": 123,
   "metadata": {},
   "outputs": [
    {
     "data": {
      "text/plain": [
       "(0.0, 30000.0)"
      ]
     },
     "execution_count": 123,
     "metadata": {},
     "output_type": "execute_result"
    },
    {
     "data": {
      "image/png": "[encoded data removed]",
      "text/plain": [
       "<Figure size 1080x360 with 1 Axes>"
      ]
     },
     "metadata": {
      "needs_background": "light"
     },
     "output_type": "display_data"
    }
   ],
   "source": [
    "plt.figure(figsize=(15,5))\n",
    "\n",
    "x_values = pd.Series(range(0, len(orders)))\n",
    "\n",
    "\n",
    "plt.scatter(x_values, orders['revenue']) \n",
    "\n",
    "plt.ylim(0, 30000)\n",
    "#plt.ylim(0, 800000)\n"
   ]
  },
  {
   "cell_type": "markdown",
   "metadata": {},
   "source": [
    "**Вывод:**\n",
    "\n",
    "Большая часть заказов не превышает 5000. В основном заказы не превышают 50 000. Но есть один заказ на сумму более 200 000 и один на сумму более 1 200 000 которые вероятно являются причиной резкого скачка на графиках."
   ]
  },
  {
   "cell_type": "markdown",
   "metadata": {},
   "source": [
    "## Расчет 95-й и 99-й перцентилей стоимости заказов. Выбор границу для определения аномальных заказов."
   ]
  },
  {
   "cell_type": "code",
   "execution_count": 124,
   "metadata": {},
   "outputs": [
    {
     "name": "stdout",
     "output_type": "stream",
     "text": [
      "[28000.  58233.2]\n"
     ]
    }
   ],
   "source": [
    "print(np.percentile(orders['revenue'], [95, 99]))"
   ]
  },
  {
   "cell_type": "markdown",
   "metadata": {},
   "source": [
    "**Вывод:**\n",
    "\n",
    "5% пользователей совершили заказ на сумму не больше 28 000.\n",
    "1% пользователей совершили заказ на сумму не больше 58233.2\n",
    "Заказы выше этого значения будут считаться аномальными."
   ]
  },
  {
   "cell_type": "markdown",
   "metadata": {},
   "source": [
    "## Расчет статистической значимости различий в среднем количестве заказов на посетителя между группами по «сырым» данным. "
   ]
  },
  {
   "cell_type": "markdown",
   "metadata": {},
   "source": [
    " <div class=\"alert alert-info\"> <b> </b>\n",
    "\n",
    "Сформулируем гипотезы.\n",
    "Нулевая гипотеза (H0)гласит, что различий в среднем количестве заказов между группами нет, альтернативная гипотеза (Н1) гласит, что  имеется различие в среднем чеке между группами А и В."
   ]
  },
  {
   "cell_type": "code",
   "execution_count": 136,
   "metadata": {},
   "outputs": [],
   "source": [
    "visitorsADaily = visitors[visitors['group'] == 'A'][['date', 'visitors']]\n",
    "visitorsADaily.columns = ['date', 'visitorsPerDateA']\n",
    "\n",
    "visitorsACummulative = visitorsADaily.apply(\n",
    "    lambda x: visitorsADaily[visitorsADaily['date'] <= x['date']].agg(\n",
    "        {'date': 'max', 'visitorsPerDateA': 'sum'}\n",
    "    ),\n",
    "    axis=1,\n",
    ")\n",
    "visitorsACummulative.columns = ['date', 'visitorsCummulativeA']\n",
    "\n",
    "visitorsBDaily = visitors[visitors['group'] == 'B'][['date', 'visitors']]\n",
    "visitorsBDaily.columns = ['date', 'visitorsPerDateB']\n",
    "\n",
    "visitorsBCummulative = visitorsBDaily.apply(\n",
    "    lambda x: visitorsBDaily[visitorsBDaily['date'] <= x['date']].agg(\n",
    "        {'date': 'max', 'visitorsPerDateB': 'sum'}\n",
    "    ),\n",
    "    axis=1,\n",
    ")\n",
    "visitorsBCummulative.columns = ['date', 'visitorsCummulativeB']\n",
    "\n",
    "ordersADaily = (\n",
    "    orders[orders['group'] == 'A'][['date', 'order_id', 'user_id', 'revenue']]\n",
    "    .groupby('date', as_index=False)\n",
    "    .agg({'order_id': pd.Series.nunique, 'revenue': 'sum'})\n",
    ")\n",
    "ordersADaily.columns = ['date', 'ordersPerDateA', 'revenuePerDateA']\n",
    "\n",
    "ordersACummulative = ordersADaily.apply(\n",
    "    lambda x: ordersADaily[ordersADaily['date'] <= x['date']].agg(\n",
    "        {'date': 'max', 'ordersPerDateA': 'sum', 'revenuePerDateA': 'sum'}\n",
    "    ),\n",
    "    axis=1,\n",
    ").sort_values(by=['date'])\n",
    "ordersACummulative.columns = [\n",
    "    'date',\n",
    "    'ordersCummulativeA',\n",
    "    'revenueCummulativeA',\n",
    "]\n",
    "\n",
    "ordersBDaily = (\n",
    "    orders[orders['group'] == 'B'][['date', 'order_id', 'user_id', 'revenue']]\n",
    "    .groupby('date', as_index=False)\n",
    "    .agg({'order_id': pd.Series.nunique, 'revenue': 'sum'})\n",
    ")\n",
    "ordersBDaily.columns = ['date', 'ordersPerDateB', 'revenuePerDateB']\n",
    "\n",
    "ordersBCummulative = ordersBDaily.apply(\n",
    "    lambda x: ordersBDaily[ordersBDaily['date'] <= x['date']].agg(\n",
    "        {'date': 'max', 'ordersPerDateB': 'sum', 'revenuePerDateB': 'sum'}\n",
    "    ),\n",
    "    axis=1,\n",
    ").sort_values(by=['date'])\n",
    "ordersBCummulative.columns = [\n",
    "    'date',\n",
    "    'ordersCummulativeB',\n",
    "    'revenueCummulativeB',\n",
    "]\n",
    "\n",
    "data = (\n",
    "    ordersADaily.merge(\n",
    "        ordersBDaily, left_on='date', right_on='date', how='left'\n",
    "    )\n",
    "    .merge(ordersACummulative, left_on='date', right_on='date', how='left')\n",
    "    .merge(ordersBCummulative, left_on='date', right_on='date', how='left')\n",
    "    .merge(visitorsADaily, left_on='date', right_on='date', how='left')\n",
    "    .merge(visitorsBDaily, left_on='date', right_on='date', how='left')\n",
    "    .merge(visitorsACummulative, left_on='date', right_on='date', how='left')\n",
    "    .merge(visitorsBCummulative, left_on='date', right_on='date', how='left')\n",
    ")\n",
    "\n",
    "\n",
    "\n",
    "ordersByUsersA = (\n",
    "\n",
    "    orders[orders['group'] == 'A']\n",
    "\n",
    "    .groupby('user_id', as_index=False)\n",
    "\n",
    "    .agg({'order_id': pd.Series.nunique})\n",
    "\n",
    ")\n",
    "\n",
    "ordersByUsersA.columns = ['user_id', 'orders']\n",
    "\n",
    "\n",
    "\n",
    "ordersByUsersB = (\n",
    "\n",
    "    orders[orders['group'] == 'B']\n",
    "\n",
    "    .groupby('user_id', as_index=False)\n",
    "\n",
    "    .agg({'order_id': pd.Series.nunique})\n",
    "\n",
    ")\n",
    "\n",
    "ordersByUsersB.columns = ['user_id', 'orders']\n",
    "\n",
    "\n",
    "\n",
    "sampleA = pd.concat([ordersByUsersA['orders'],pd.Series(0, index=np.arange(data['visitorsPerDateA'].sum() - len(ordersByUsersA['orders'])), name='orders')],axis=0)\n",
    "\n",
    "\n",
    "\n",
    "sampleB = pd.concat([ordersByUsersB['orders'],pd.Series(0, index=np.arange(data['visitorsPerDateB'].sum() - len(ordersByUsersB['orders'])), name='orders')],axis=0)\n",
    "\n",
    "\n",
    "\n"
   ]
  },
  {
   "cell_type": "code",
   "execution_count": 133,
   "metadata": {},
   "outputs": [
    {
     "name": "stdout",
     "output_type": "stream",
     "text": [
      "P-value = 0.01679\n",
      "Относительный прирост конверсии группы В к группе А составил -  0.138\n"
     ]
    }
   ],
   "source": [
    "print('P-value =',\"{0:.5f}\".format(stats.mannwhitneyu(sampleA, sampleB)[1]))\n",
    "print('Относительный прирост конверсии группы В к группе А составил - ',\"{0:.3f}\".format((data['ordersPerDateB'].sum()/data['visitorsPerDateB'].sum())/(data['ordersPerDateA'].sum()/data['visitorsPerDateA'].sum())-1))"
   ]
  },
  {
   "cell_type": "markdown",
   "metadata": {},
   "source": [
    "**Вывод:**\n",
    "\n",
    "p-value составило 0.01679, что меньше  0.05. Таким образом гипотезу о том, что статистически значимых различий в конверсии между группами нет, можно отвергнуть в пользу альернативной - имеется различие в среднем чеке между группами А и В.\n",
    "Анализ серых данных показал, что в среднемколичестве заказов между группами есть статистически значимые различия. Относительный прирост конверсии группы В к группе А составил 13,8%"
   ]
  },
  {
   "cell_type": "markdown",
   "metadata": {},
   "source": [
    "## Расчет статистической значимости различий в среднем чеке заказа между группами по «сырым» данным. "
   ]
  },
  {
   "cell_type": "code",
   "execution_count": 144,
   "metadata": {},
   "outputs": [
    {
     "name": "stdout",
     "output_type": "stream",
     "text": [
      "P-value = 0.729\n",
      "0.259\n"
     ]
    }
   ],
   "source": [
    "print('P-value =','{0:.3f}'.format(stats.mannwhitneyu(orders[orders['group']=='A']['revenue'], orders[orders['group']=='B']['revenue'])[1]))\n",
    "\n",
    "print('{0:.3f}'.format(orders[orders['group']=='B']['revenue'].mean()/orders[orders['group']=='A']['revenue'].mean()-1))"
   ]
  },
  {
   "cell_type": "markdown",
   "metadata": {},
   "source": [
    "**Вывод:**\n",
    "\n",
    "P-value составил  0.729, что значительно больше 0.05. Таким образом, нулевая гипотеза  о том, что различий в среднем количестве заказов между группами нет не отвергается.\n",
    "\n",
    "Различие в среднем чеке составило 25.9%"
   ]
  },
  {
   "cell_type": "markdown",
   "metadata": {},
   "source": [
    "## Расчет статистической значимости различий в среднем количестве заказов на посетителя между группами по «очищенным» данным."
   ]
  },
  {
   "cell_type": "code",
   "execution_count": 140,
   "metadata": {},
   "outputs": [
    {
     "name": "stdout",
     "output_type": "stream",
     "text": [
      "15\n"
     ]
    }
   ],
   "source": [
    "usersWithManyOrders = pd.concat(\n",
    "    [\n",
    "        ordersByUsersA[ordersByUsersA['orders'] > np.percentile(ordersByUsers['orders'], [95, 99])[1]]['user_id'],\n",
    "        ordersByUsersB[ordersByUsersB['orders'] > np.percentile(ordersByUsers['orders'], [95, 99])[1]]['user_id'],\n",
    "    ],\n",
    "    axis=0,\n",
    ")\n",
    "usersWithExpensiveOrders = orders[orders['revenue'] > np.percentile(orders['revenue'], [95, 99])[1]]['user_id']\n",
    "abnormalUsers = (\n",
    "    pd.concat([usersWithManyOrders, usersWithExpensiveOrders], axis=0)\n",
    "    .drop_duplicates()\n",
    "    .sort_values()\n",
    ")\n",
    "print(len(abnormalUsers))"
   ]
  },
  {
   "cell_type": "code",
   "execution_count": 143,
   "metadata": {
    "scrolled": true
   },
   "outputs": [
    {
     "name": "stdout",
     "output_type": "stream",
     "text": [
      "P-value = 0.01438\n",
      "0.153\n"
     ]
    }
   ],
   "source": [
    "sampleAFiltered = pd.concat(\n",
    "    [\n",
    "        ordersByUsersA[\n",
    "            np.logical_not(ordersByUsersA['user_id'].isin(abnormalUsers))\n",
    "        ]['orders'],\n",
    "        pd.Series(\n",
    "            0,\n",
    "            index=np.arange(\n",
    "                data['visitorsPerDateA'].sum() - len(ordersByUsersA['orders'])\n",
    "            ),\n",
    "            name='orders',\n",
    "        ),\n",
    "    ],\n",
    "    axis=0,\n",
    ")\n",
    "\n",
    "sampleBFiltered = pd.concat(\n",
    "    [\n",
    "        ordersByUsersB[\n",
    "            np.logical_not(ordersByUsersB['user_id'].isin(abnormalUsers))\n",
    "        ]['orders'],\n",
    "        pd.Series(\n",
    "            0,\n",
    "            index=np.arange(\n",
    "                data['visitorsPerDateB'].sum() - len(ordersByUsersB['orders'])\n",
    "            ),\n",
    "            name='orders',\n",
    "        ),\n",
    "    ],\n",
    "    axis=0,\n",
    ") \n",
    "\n",
    "print('P-value =','{0:.5f}'.format(stats.mannwhitneyu(sampleAFiltered, sampleBFiltered)[1]))\n",
    "\n",
    "print('{0:.3f}'.format(sampleBFiltered.mean()/sampleAFiltered.mean()-1))"
   ]
  },
  {
   "cell_type": "markdown",
   "metadata": {},
   "source": [
    "**Вывод:**\n",
    "\n",
    "P-value составило 0.01438, что меньше 0.05. Таким образом, нулевая гипотеза о том, что статистически значимых различий в среднем числе заказов между группами нет, отвергатся в пользу альтернативной гипотезы - среднее число заказов на пользователя между группами различается.\n",
    "Различие в среднем чеке составило  15,3%. "
   ]
  },
  {
   "cell_type": "markdown",
   "metadata": {},
   "source": [
    "## Расчет статистической значимости различий в среднем чеке заказа между группами по «очищенным» данным. \n"
   ]
  },
  {
   "cell_type": "code",
   "execution_count": 43,
   "metadata": {},
   "outputs": [
    {
     "name": "stdout",
     "output_type": "stream",
     "text": [
      "0.851\n",
      "-0.006\n"
     ]
    }
   ],
   "source": [
    "print(\n",
    "\n",
    "    '{0:.3f}'.format(\n",
    "\n",
    "        stats.mannwhitneyu(\n",
    "\n",
    "            orders[\n",
    "\n",
    "                np.logical_and(\n",
    "\n",
    "                    orders['group'] == 'A',\n",
    "\n",
    "                    np.logical_not(orders['user_id'].isin(abnormalUsers)),\n",
    "\n",
    "                )\n",
    "\n",
    "            ]['revenue'],\n",
    "\n",
    "            orders[\n",
    "\n",
    "                np.logical_and(\n",
    "\n",
    "                    orders['group'] == 'B',\n",
    "\n",
    "                    np.logical_not(orders['user_id'].isin(abnormalUsers)),\n",
    "\n",
    "                )\n",
    "\n",
    "            ]['revenue'],\n",
    "\n",
    "        )[1]\n",
    "\n",
    "    )\n",
    "\n",
    ")\n",
    "\n",
    "\n",
    "\n",
    "print(\n",
    "\n",
    "    \"{0:.3f}\".format(\n",
    "\n",
    "        orders[\n",
    "\n",
    "            np.logical_and(\n",
    "\n",
    "                orders['group'] == 'B',\n",
    "\n",
    "                np.logical_not(orders['user_id'].isin(abnormalUsers)),\n",
    "\n",
    "            )\n",
    "\n",
    "        ]['revenue'].mean()\n",
    "\n",
    "        / orders[\n",
    "\n",
    "            np.logical_and(\n",
    "\n",
    "                orders['group'] == 'A',\n",
    "\n",
    "                np.logical_not(orders['user_id'].isin(abnormalUsers)),\n",
    "\n",
    "            )\n",
    "\n",
    "        ]['revenue'].mean()\n",
    "\n",
    "        - 1\n",
    "\n",
    "    )\n",
    "\n",
    ")"
   ]
  },
  {
   "cell_type": "markdown",
   "metadata": {},
   "source": [
    "**Вывод:**\n",
    "\n",
    "\n",
    "P-value значительно больше 0.05, не получилось отвергнуть нулевую гипотезу, о том, что статистически значимых различий в среднем числе заказов между группами нет. Средний чек в группе A равен группе B (статистическая значимость не значительна и сделать вывод о различии нельзя).\n"
   ]
  },
  {
   "cell_type": "markdown",
   "metadata": {},
   "source": [
    "## Решение по результатам теста. Варианты решений:\n",
    "Остановить тест, зафиксировать победу одной из групп.\n",
    "Остановить тест, зафиксировать отсутствие различий между группами.\n",
    "Продолжить тест."
   ]
  },
  {
   "cell_type": "markdown",
   "metadata": {},
   "source": [
    "Итоговый вывод будет написан после предварительной проверки проекта."
   ]
  },
  {
   "cell_type": "markdown",
   "metadata": {},
   "source": [
    "**ВЫВОД**\n",
    "\n",
    "На основании полученных данный, тест можно остановить.\n",
    "\n",
    "По итогам теста можно сделать выводы:\n",
    " - что конверсия в группе меньше чем в группе B;\n",
    " - между выборками имеется статистическая значимость;\n",
    " - средний чек в группе A приблизительно равен  чеку группы B;\n",
    "- в целом, результаты группы В по конверсии лучше."
   ]
  }
 ],
 "metadata": {
  "ExecuteTimeLog": [
   {
    "duration": 81,
    "start_time": "2023-05-28T17:46:47.448Z"
   },
   {
    "duration": 364,
    "start_time": "2023-05-28T18:23:46.016Z"
   },
   {
    "duration": 923,
    "start_time": "2023-05-28T18:28:16.086Z"
   },
   {
    "duration": 162,
    "start_time": "2023-05-28T18:32:07.973Z"
   },
   {
    "duration": 13,
    "start_time": "2023-05-28T18:37:22.320Z"
   },
   {
    "duration": 67,
    "start_time": "2023-05-28T18:38:15.143Z"
   },
   {
    "duration": 27,
    "start_time": "2023-05-28T18:38:26.660Z"
   },
   {
    "duration": 34,
    "start_time": "2023-05-28T18:38:37.099Z"
   },
   {
    "duration": 65,
    "start_time": "2023-05-28T19:55:00.724Z"
   },
   {
    "duration": 31,
    "start_time": "2023-05-28T19:55:21.100Z"
   },
   {
    "duration": 6,
    "start_time": "2023-05-28T19:55:41.125Z"
   },
   {
    "duration": 12,
    "start_time": "2023-05-28T19:56:24.431Z"
   },
   {
    "duration": 152,
    "start_time": "2023-05-28T20:11:25.960Z"
   },
   {
    "duration": 7,
    "start_time": "2023-05-28T20:11:33.012Z"
   },
   {
    "duration": 10,
    "start_time": "2023-05-28T20:11:53.865Z"
   },
   {
    "duration": 12,
    "start_time": "2023-05-28T20:12:24.901Z"
   },
   {
    "duration": 13,
    "start_time": "2023-05-28T20:12:37.708Z"
   },
   {
    "duration": 9,
    "start_time": "2023-05-28T20:13:25.882Z"
   },
   {
    "duration": 6,
    "start_time": "2023-05-28T20:13:39.452Z"
   },
   {
    "duration": 9,
    "start_time": "2023-05-28T20:15:17.857Z"
   },
   {
    "duration": 4,
    "start_time": "2023-05-28T20:16:10.489Z"
   },
   {
    "duration": 8,
    "start_time": "2023-05-28T20:16:14.293Z"
   },
   {
    "duration": 6,
    "start_time": "2023-05-28T20:22:02.173Z"
   },
   {
    "duration": 4,
    "start_time": "2023-05-28T20:22:05.057Z"
   },
   {
    "duration": 7,
    "start_time": "2023-05-28T20:22:37.048Z"
   },
   {
    "duration": 9,
    "start_time": "2023-05-28T20:24:03.474Z"
   },
   {
    "duration": 8,
    "start_time": "2023-05-28T20:24:07.667Z"
   },
   {
    "duration": 8,
    "start_time": "2023-05-28T20:25:48.191Z"
   },
   {
    "duration": 9,
    "start_time": "2023-05-28T20:47:50.989Z"
   },
   {
    "duration": 78,
    "start_time": "2023-05-28T20:49:39.608Z"
   },
   {
    "duration": 2,
    "start_time": "2023-05-28T21:07:14.987Z"
   },
   {
    "duration": 9,
    "start_time": "2023-05-28T21:08:38.894Z"
   },
   {
    "duration": 8,
    "start_time": "2023-05-28T21:09:00.405Z"
   },
   {
    "duration": 11,
    "start_time": "2023-05-28T21:10:15.304Z"
   },
   {
    "duration": 8,
    "start_time": "2023-05-28T21:10:55.780Z"
   },
   {
    "duration": 7,
    "start_time": "2023-05-28T21:11:39.797Z"
   },
   {
    "duration": 76,
    "start_time": "2023-05-28T21:12:45.764Z"
   },
   {
    "duration": 3,
    "start_time": "2023-05-28T21:19:41.696Z"
   },
   {
    "duration": 9,
    "start_time": "2023-05-28T21:19:45.841Z"
   },
   {
    "duration": 12,
    "start_time": "2023-05-28T21:19:54.393Z"
   },
   {
    "duration": 10,
    "start_time": "2023-05-28T21:19:57.192Z"
   },
   {
    "duration": 10,
    "start_time": "2023-05-28T21:20:00.894Z"
   },
   {
    "duration": 9,
    "start_time": "2023-05-28T21:20:06.689Z"
   },
   {
    "duration": 8,
    "start_time": "2023-05-28T21:20:13.437Z"
   },
   {
    "duration": 4,
    "start_time": "2023-05-28T21:20:26.248Z"
   },
   {
    "duration": 10,
    "start_time": "2023-05-28T21:20:30.793Z"
   },
   {
    "duration": 9,
    "start_time": "2023-05-28T21:20:36.678Z"
   },
   {
    "duration": 8,
    "start_time": "2023-05-28T21:20:40.353Z"
   },
   {
    "duration": 7,
    "start_time": "2023-05-28T21:20:42.748Z"
   },
   {
    "duration": 4,
    "start_time": "2023-05-28T21:20:54.348Z"
   },
   {
    "duration": 9,
    "start_time": "2023-05-28T21:21:09.184Z"
   },
   {
    "duration": 2,
    "start_time": "2023-05-28T21:21:18.645Z"
   },
   {
    "duration": 8,
    "start_time": "2023-05-28T21:21:21.192Z"
   },
   {
    "duration": 12,
    "start_time": "2023-05-28T21:21:26.549Z"
   },
   {
    "duration": 14,
    "start_time": "2023-05-28T21:21:31.409Z"
   },
   {
    "duration": 8,
    "start_time": "2023-05-28T21:21:35.657Z"
   },
   {
    "duration": 10,
    "start_time": "2023-05-28T21:21:37.753Z"
   },
   {
    "duration": 8,
    "start_time": "2023-05-28T21:21:51.657Z"
   },
   {
    "duration": 8,
    "start_time": "2023-05-28T21:21:53.310Z"
   },
   {
    "duration": 9,
    "start_time": "2023-05-28T21:22:07.876Z"
   },
   {
    "duration": 7,
    "start_time": "2023-05-28T21:22:13.029Z"
   },
   {
    "duration": 8,
    "start_time": "2023-05-28T21:22:15.487Z"
   },
   {
    "duration": 4,
    "start_time": "2023-05-28T21:22:30.088Z"
   },
   {
    "duration": 9,
    "start_time": "2023-05-28T21:22:32.888Z"
   },
   {
    "duration": 3,
    "start_time": "2023-05-28T21:22:38.502Z"
   },
   {
    "duration": 8,
    "start_time": "2023-05-28T21:22:41.145Z"
   },
   {
    "duration": 8,
    "start_time": "2023-05-28T21:22:51.204Z"
   },
   {
    "duration": 3,
    "start_time": "2023-05-28T21:23:05.855Z"
   },
   {
    "duration": 10,
    "start_time": "2023-05-28T21:23:07.878Z"
   },
   {
    "duration": 10,
    "start_time": "2023-05-28T21:23:15.037Z"
   },
   {
    "duration": 7,
    "start_time": "2023-05-28T21:23:18.277Z"
   },
   {
    "duration": 7,
    "start_time": "2023-05-28T21:23:23.177Z"
   },
   {
    "duration": 3,
    "start_time": "2023-05-28T21:23:54.689Z"
   },
   {
    "duration": 72,
    "start_time": "2023-05-28T21:23:56.487Z"
   },
   {
    "duration": 8,
    "start_time": "2023-05-28T21:23:58.732Z"
   },
   {
    "duration": 10,
    "start_time": "2023-05-28T21:24:01.672Z"
   },
   {
    "duration": 7,
    "start_time": "2023-05-28T21:24:03.795Z"
   },
   {
    "duration": 16,
    "start_time": "2023-05-28T21:24:05.848Z"
   },
   {
    "duration": 10,
    "start_time": "2023-05-28T21:24:08.501Z"
   },
   {
    "duration": 7,
    "start_time": "2023-05-28T21:24:11.045Z"
   },
   {
    "duration": 10,
    "start_time": "2023-05-28T21:24:14.002Z"
   },
   {
    "duration": 10,
    "start_time": "2023-05-28T21:24:16.891Z"
   },
   {
    "duration": 7,
    "start_time": "2023-05-28T21:24:19.441Z"
   },
   {
    "duration": 3,
    "start_time": "2023-05-28T21:24:21.792Z"
   },
   {
    "duration": 7,
    "start_time": "2023-05-28T21:24:23.741Z"
   },
   {
    "duration": 13,
    "start_time": "2023-05-28T21:24:27.453Z"
   },
   {
    "duration": 5,
    "start_time": "2023-05-28T21:24:37.240Z"
   },
   {
    "duration": 8,
    "start_time": "2023-05-28T21:24:39.601Z"
   },
   {
    "duration": 8,
    "start_time": "2023-05-28T21:24:42.741Z"
   },
   {
    "duration": 5,
    "start_time": "2023-05-28T21:24:46.553Z"
   },
   {
    "duration": 8,
    "start_time": "2023-05-28T21:34:22.191Z"
   },
   {
    "duration": 77,
    "start_time": "2023-05-28T21:39:31.401Z"
   },
   {
    "duration": 8,
    "start_time": "2023-05-28T21:40:33.416Z"
   },
   {
    "duration": 80,
    "start_time": "2023-05-28T21:42:02.386Z"
   },
   {
    "duration": 6,
    "start_time": "2023-05-28T21:43:22.307Z"
   },
   {
    "duration": 8,
    "start_time": "2023-05-28T21:47:23.956Z"
   },
   {
    "duration": 2,
    "start_time": "2023-05-28T21:53:16.865Z"
   },
   {
    "duration": 3,
    "start_time": "2023-05-28T21:53:49.023Z"
   },
   {
    "duration": 2,
    "start_time": "2023-05-28T21:54:37.906Z"
   },
   {
    "duration": 2,
    "start_time": "2023-05-28T21:56:43.320Z"
   },
   {
    "duration": 85,
    "start_time": "2023-05-28T22:02:23.565Z"
   },
   {
    "duration": 75,
    "start_time": "2023-05-28T22:02:54.229Z"
   },
   {
    "duration": 2,
    "start_time": "2023-05-28T22:03:30.357Z"
   },
   {
    "duration": 5,
    "start_time": "2023-05-28T22:24:59.440Z"
   },
   {
    "duration": 12,
    "start_time": "2023-05-28T22:25:05.693Z"
   },
   {
    "duration": 26,
    "start_time": "2023-05-28T22:25:38.145Z"
   },
   {
    "duration": 11,
    "start_time": "2023-05-28T22:26:32.039Z"
   },
   {
    "duration": 8,
    "start_time": "2023-05-28T22:30:40.164Z"
   },
   {
    "duration": 4,
    "start_time": "2023-05-28T22:30:51.986Z"
   },
   {
    "duration": 4,
    "start_time": "2023-05-28T22:30:56.308Z"
   },
   {
    "duration": 12,
    "start_time": "2023-05-28T22:31:04.140Z"
   },
   {
    "duration": 13,
    "start_time": "2023-05-28T22:31:34.981Z"
   },
   {
    "duration": 12,
    "start_time": "2023-05-28T22:33:20.749Z"
   },
   {
    "duration": 22,
    "start_time": "2023-05-28T22:33:45.202Z"
   },
   {
    "duration": 13,
    "start_time": "2023-05-28T22:34:15.782Z"
   },
   {
    "duration": 3,
    "start_time": "2023-05-28T22:34:43.880Z"
   },
   {
    "duration": 75,
    "start_time": "2023-05-28T22:34:45.640Z"
   },
   {
    "duration": 7,
    "start_time": "2023-05-28T22:34:48.841Z"
   },
   {
    "duration": 10,
    "start_time": "2023-05-28T22:34:51.538Z"
   },
   {
    "duration": 7,
    "start_time": "2023-05-28T22:34:53.601Z"
   },
   {
    "duration": 11,
    "start_time": "2023-05-28T22:34:55.838Z"
   },
   {
    "duration": 12,
    "start_time": "2023-05-28T22:34:59.185Z"
   },
   {
    "duration": 3,
    "start_time": "2023-05-28T22:35:09.982Z"
   },
   {
    "duration": 7,
    "start_time": "2023-05-28T22:35:11.785Z"
   },
   {
    "duration": 6,
    "start_time": "2023-05-28T22:35:13.987Z"
   },
   {
    "duration": 4,
    "start_time": "2023-05-28T22:35:16.677Z"
   },
   {
    "duration": 6,
    "start_time": "2023-05-28T22:35:19.101Z"
   },
   {
    "duration": 8,
    "start_time": "2023-05-28T22:35:22.507Z"
   },
   {
    "duration": 12,
    "start_time": "2023-05-28T22:35:26.090Z"
   },
   {
    "duration": 11,
    "start_time": "2023-05-28T22:35:28.611Z"
   },
   {
    "duration": 151,
    "start_time": "2023-05-28T22:35:35.590Z"
   },
   {
    "duration": 76,
    "start_time": "2023-05-28T22:36:15.346Z"
   },
   {
    "duration": 10,
    "start_time": "2023-05-28T22:37:07.437Z"
   },
   {
    "duration": 116,
    "start_time": "2023-05-28T22:38:04.850Z"
   },
   {
    "duration": 24,
    "start_time": "2023-05-28T22:38:31.912Z"
   },
   {
    "duration": 256,
    "start_time": "2023-05-28T22:39:25.831Z"
   },
   {
    "duration": 265,
    "start_time": "2023-05-28T22:43:36.148Z"
   },
   {
    "duration": 200,
    "start_time": "2023-05-28T22:44:46.151Z"
   },
   {
    "duration": 264,
    "start_time": "2023-05-28T22:44:58.294Z"
   },
   {
    "duration": 177,
    "start_time": "2023-05-28T22:45:08.048Z"
   },
   {
    "duration": 188,
    "start_time": "2023-05-28T22:45:19.949Z"
   },
   {
    "duration": 183,
    "start_time": "2023-05-28T22:45:31.449Z"
   },
   {
    "duration": 73,
    "start_time": "2023-05-28T22:50:50.865Z"
   },
   {
    "duration": 156,
    "start_time": "2023-05-28T22:52:44.723Z"
   },
   {
    "duration": 243,
    "start_time": "2023-05-28T22:52:57.259Z"
   },
   {
    "duration": 82,
    "start_time": "2023-05-28T22:53:47.996Z"
   },
   {
    "duration": 312,
    "start_time": "2023-05-28T22:58:28.886Z"
   },
   {
    "duration": 319,
    "start_time": "2023-05-28T22:58:48.057Z"
   },
   {
    "duration": 103,
    "start_time": "2023-05-28T23:00:21.554Z"
   },
   {
    "duration": 199,
    "start_time": "2023-05-28T23:04:08.523Z"
   },
   {
    "duration": 195,
    "start_time": "2023-05-28T23:05:33.698Z"
   },
   {
    "duration": 193,
    "start_time": "2023-05-28T23:06:09.501Z"
   },
   {
    "duration": 198,
    "start_time": "2023-05-28T23:06:14.731Z"
   },
   {
    "duration": 185,
    "start_time": "2023-05-28T23:06:24.004Z"
   },
   {
    "duration": 230,
    "start_time": "2023-05-28T23:06:37.960Z"
   },
   {
    "duration": 328,
    "start_time": "2023-05-28T23:11:38.947Z"
   },
   {
    "duration": 286,
    "start_time": "2023-05-28T23:11:46.996Z"
   },
   {
    "duration": 335,
    "start_time": "2023-05-28T23:11:58.160Z"
   },
   {
    "duration": 386,
    "start_time": "2023-05-28T23:14:01.527Z"
   },
   {
    "duration": 276,
    "start_time": "2023-05-28T23:14:10.113Z"
   },
   {
    "duration": 73,
    "start_time": "2023-05-28T23:15:26.660Z"
   },
   {
    "duration": 78,
    "start_time": "2023-05-28T23:16:57.097Z"
   },
   {
    "duration": 9,
    "start_time": "2023-05-28T23:21:12.053Z"
   },
   {
    "duration": 9,
    "start_time": "2023-05-28T23:21:30.486Z"
   },
   {
    "duration": 122,
    "start_time": "2023-05-28T23:21:42.186Z"
   },
   {
    "duration": 9,
    "start_time": "2023-05-28T23:22:57.692Z"
   },
   {
    "duration": 11,
    "start_time": "2023-05-28T23:23:29.695Z"
   },
   {
    "duration": 9,
    "start_time": "2023-05-28T23:23:42.785Z"
   },
   {
    "duration": 10,
    "start_time": "2023-05-28T23:24:02.914Z"
   },
   {
    "duration": 103,
    "start_time": "2023-05-28T23:24:07.921Z"
   },
   {
    "duration": 11,
    "start_time": "2023-05-28T23:24:59.007Z"
   },
   {
    "duration": 1267,
    "start_time": "2023-05-28T23:25:28.682Z"
   },
   {
    "duration": 114,
    "start_time": "2023-05-28T23:25:39.019Z"
   },
   {
    "duration": 112,
    "start_time": "2023-05-28T23:27:09.348Z"
   },
   {
    "duration": 7,
    "start_time": "2023-05-28T23:28:57.482Z"
   },
   {
    "duration": 143,
    "start_time": "2023-05-28T23:29:16.254Z"
   },
   {
    "duration": 8,
    "start_time": "2023-05-28T23:29:48.512Z"
   },
   {
    "duration": 108,
    "start_time": "2023-05-28T23:30:17.155Z"
   },
   {
    "duration": 130,
    "start_time": "2023-05-28T23:30:42.309Z"
   },
   {
    "duration": 137,
    "start_time": "2023-05-28T23:30:52.047Z"
   },
   {
    "duration": 8,
    "start_time": "2023-05-28T23:31:39.691Z"
   },
   {
    "duration": 9,
    "start_time": "2023-05-28T23:31:52.725Z"
   },
   {
    "duration": 119,
    "start_time": "2023-05-28T23:32:01.912Z"
   },
   {
    "duration": 138,
    "start_time": "2023-05-28T23:32:21.252Z"
   },
   {
    "duration": 113,
    "start_time": "2023-05-28T23:32:40.890Z"
   },
   {
    "duration": 102,
    "start_time": "2023-05-28T23:35:16.487Z"
   },
   {
    "duration": 116,
    "start_time": "2023-05-28T23:35:33.655Z"
   },
   {
    "duration": 204,
    "start_time": "2023-05-28T23:36:52.606Z"
   },
   {
    "duration": 4,
    "start_time": "2023-05-28T23:42:08.087Z"
   },
   {
    "duration": 4,
    "start_time": "2023-05-28T23:42:53.154Z"
   },
   {
    "duration": 107,
    "start_time": "2023-05-28T23:49:00.574Z"
   },
   {
    "duration": 124,
    "start_time": "2023-05-28T23:49:14.477Z"
   },
   {
    "duration": 133,
    "start_time": "2023-05-28T23:49:38.955Z"
   },
   {
    "duration": 122,
    "start_time": "2023-05-28T23:50:30.126Z"
   },
   {
    "duration": 141,
    "start_time": "2023-05-28T23:50:44.574Z"
   },
   {
    "duration": 145,
    "start_time": "2023-05-28T23:53:51.900Z"
   },
   {
    "duration": 133,
    "start_time": "2023-05-28T23:54:08.990Z"
   },
   {
    "duration": 136,
    "start_time": "2023-05-28T23:54:40.881Z"
   },
   {
    "duration": 136,
    "start_time": "2023-05-28T23:54:51.704Z"
   },
   {
    "duration": 156,
    "start_time": "2023-05-28T23:55:04.879Z"
   },
   {
    "duration": 135,
    "start_time": "2023-05-28T23:55:27.375Z"
   },
   {
    "duration": 138,
    "start_time": "2023-05-28T23:55:30.968Z"
   },
   {
    "duration": 148,
    "start_time": "2023-05-28T23:55:41.656Z"
   },
   {
    "duration": 144,
    "start_time": "2023-05-28T23:55:45.875Z"
   },
   {
    "duration": 138,
    "start_time": "2023-05-28T23:56:04.654Z"
   },
   {
    "duration": 161,
    "start_time": "2023-05-28T23:56:24.179Z"
   },
   {
    "duration": 133,
    "start_time": "2023-05-28T23:56:32.551Z"
   },
   {
    "duration": 264,
    "start_time": "2023-05-28T23:56:37.313Z"
   },
   {
    "duration": 137,
    "start_time": "2023-05-28T23:56:40.504Z"
   },
   {
    "duration": 135,
    "start_time": "2023-05-28T23:56:54.009Z"
   },
   {
    "duration": 154,
    "start_time": "2023-05-28T23:57:23.883Z"
   },
   {
    "duration": 3,
    "start_time": "2023-05-28T23:57:32.954Z"
   },
   {
    "duration": 137,
    "start_time": "2023-05-28T23:57:40.901Z"
   },
   {
    "duration": 142,
    "start_time": "2023-05-28T23:57:48.903Z"
   },
   {
    "duration": 154,
    "start_time": "2023-05-28T23:57:59.574Z"
   },
   {
    "duration": 138,
    "start_time": "2023-05-28T23:58:09.200Z"
   },
   {
    "duration": 146,
    "start_time": "2023-05-28T23:58:15.393Z"
   },
   {
    "duration": 143,
    "start_time": "2023-05-28T23:59:33.955Z"
   },
   {
    "duration": 144,
    "start_time": "2023-05-28T23:59:37.855Z"
   },
   {
    "duration": 140,
    "start_time": "2023-05-29T00:00:07.303Z"
   },
   {
    "duration": 138,
    "start_time": "2023-05-29T00:01:02.558Z"
   },
   {
    "duration": 141,
    "start_time": "2023-05-29T00:01:09.326Z"
   },
   {
    "duration": 135,
    "start_time": "2023-05-29T00:01:17.953Z"
   },
   {
    "duration": 4,
    "start_time": "2023-05-29T00:02:49.365Z"
   },
   {
    "duration": 99,
    "start_time": "2023-05-29T00:12:10.061Z"
   },
   {
    "duration": 102,
    "start_time": "2023-05-29T00:14:41.514Z"
   },
   {
    "duration": 155,
    "start_time": "2023-05-29T00:15:32.457Z"
   },
   {
    "duration": 432,
    "start_time": "2023-05-29T00:16:49.753Z"
   },
   {
    "duration": 466,
    "start_time": "2023-05-29T00:17:53.512Z"
   },
   {
    "duration": 422,
    "start_time": "2023-05-29T00:19:50.918Z"
   },
   {
    "duration": 22,
    "start_time": "2023-05-29T00:20:00.254Z"
   },
   {
    "duration": 10,
    "start_time": "2023-05-29T00:30:25.152Z"
   },
   {
    "duration": 8,
    "start_time": "2023-05-29T00:38:09.051Z"
   },
   {
    "duration": 181,
    "start_time": "2023-05-29T00:40:02.079Z"
   },
   {
    "duration": 72,
    "start_time": "2023-05-29T00:40:12.217Z"
   },
   {
    "duration": 8,
    "start_time": "2023-05-29T00:40:14.578Z"
   },
   {
    "duration": 16,
    "start_time": "2023-05-29T00:44:01.603Z"
   },
   {
    "duration": 81,
    "start_time": "2023-05-29T00:44:29.846Z"
   },
   {
    "duration": 8,
    "start_time": "2023-05-29T00:44:35.350Z"
   },
   {
    "duration": 1285,
    "start_time": "2023-05-29T00:50:18.277Z"
   },
   {
    "duration": 27,
    "start_time": "2023-05-29T00:50:42.450Z"
   },
   {
    "duration": 1186,
    "start_time": "2023-05-29T00:54:38.182Z"
   },
   {
    "duration": 13,
    "start_time": "2023-05-29T00:55:39.404Z"
   },
   {
    "duration": 1375,
    "start_time": "2023-05-29T10:22:15.312Z"
   },
   {
    "duration": 209,
    "start_time": "2023-05-29T10:22:16.690Z"
   },
   {
    "duration": 12,
    "start_time": "2023-05-29T10:22:16.901Z"
   },
   {
    "duration": 31,
    "start_time": "2023-05-29T10:22:16.914Z"
   },
   {
    "duration": 23,
    "start_time": "2023-05-29T10:22:16.948Z"
   },
   {
    "duration": 23,
    "start_time": "2023-05-29T10:22:16.973Z"
   },
   {
    "duration": 24,
    "start_time": "2023-05-29T10:22:16.998Z"
   },
   {
    "duration": 25,
    "start_time": "2023-05-29T10:22:17.024Z"
   },
   {
    "duration": 28,
    "start_time": "2023-05-29T10:22:17.051Z"
   },
   {
    "duration": 17,
    "start_time": "2023-05-29T10:22:17.082Z"
   },
   {
    "duration": 37,
    "start_time": "2023-05-29T10:22:17.100Z"
   },
   {
    "duration": 19,
    "start_time": "2023-05-29T10:22:17.139Z"
   },
   {
    "duration": 15,
    "start_time": "2023-05-29T10:22:17.160Z"
   },
   {
    "duration": 14,
    "start_time": "2023-05-29T10:22:17.179Z"
   },
   {
    "duration": 13,
    "start_time": "2023-05-29T10:22:17.195Z"
   },
   {
    "duration": 26,
    "start_time": "2023-05-29T10:22:17.210Z"
   },
   {
    "duration": 19,
    "start_time": "2023-05-29T10:22:17.237Z"
   },
   {
    "duration": 16,
    "start_time": "2023-05-29T10:22:17.257Z"
   },
   {
    "duration": 16,
    "start_time": "2023-05-29T10:22:17.279Z"
   },
   {
    "duration": 38,
    "start_time": "2023-05-29T10:22:17.297Z"
   },
   {
    "duration": 170,
    "start_time": "2023-05-29T10:22:17.337Z"
   },
   {
    "duration": 11,
    "start_time": "2023-05-29T10:22:17.508Z"
   },
   {
    "duration": 144,
    "start_time": "2023-05-29T10:22:17.521Z"
   },
   {
    "duration": 293,
    "start_time": "2023-05-29T10:22:17.667Z"
   },
   {
    "duration": 297,
    "start_time": "2023-05-29T10:22:17.962Z"
   },
   {
    "duration": 215,
    "start_time": "2023-05-29T10:22:18.261Z"
   },
   {
    "duration": 336,
    "start_time": "2023-05-29T10:22:18.478Z"
   },
   {
    "duration": 230,
    "start_time": "2023-05-29T10:22:18.815Z"
   },
   {
    "duration": 332,
    "start_time": "2023-05-29T10:22:19.050Z"
   },
   {
    "duration": 12,
    "start_time": "2023-05-29T10:22:19.383Z"
   },
   {
    "duration": 10,
    "start_time": "2023-05-29T10:22:19.396Z"
   },
   {
    "duration": 154,
    "start_time": "2023-05-29T10:22:19.407Z"
   },
   {
    "duration": 144,
    "start_time": "2023-05-29T10:22:19.563Z"
   },
   {
    "duration": 5,
    "start_time": "2023-05-29T10:22:19.708Z"
   },
   {
    "duration": 163,
    "start_time": "2023-05-29T10:22:19.714Z"
   },
   {
    "duration": 235,
    "start_time": "2023-05-29T10:22:19.878Z"
   },
   {
    "duration": 4,
    "start_time": "2023-05-29T10:22:20.115Z"
   },
   {
    "duration": 515,
    "start_time": "2023-05-29T10:22:20.120Z"
   },
   {
    "duration": 32,
    "start_time": "2023-05-29T10:22:20.637Z"
   },
   {
    "duration": 10,
    "start_time": "2023-05-29T10:22:20.670Z"
   },
   {
    "duration": 8,
    "start_time": "2023-05-29T10:22:20.683Z"
   },
   {
    "duration": 32,
    "start_time": "2023-05-29T10:22:20.692Z"
   },
   {
    "duration": 36,
    "start_time": "2023-05-29T10:22:20.725Z"
   },
   {
    "duration": 147,
    "start_time": "2023-05-29T11:33:17.385Z"
   },
   {
    "duration": 1330,
    "start_time": "2023-05-29T11:49:07.592Z"
   },
   {
    "duration": 4,
    "start_time": "2023-05-29T11:49:16.935Z"
   },
   {
    "duration": 233,
    "start_time": "2023-05-29T11:49:19.907Z"
   },
   {
    "duration": 12,
    "start_time": "2023-05-29T11:49:22.324Z"
   },
   {
    "duration": 12,
    "start_time": "2023-05-29T11:49:29.293Z"
   },
   {
    "duration": 8,
    "start_time": "2023-05-29T11:49:32.579Z"
   },
   {
    "duration": 13,
    "start_time": "2023-05-29T11:49:34.636Z"
   },
   {
    "duration": 14,
    "start_time": "2023-05-29T11:49:38.978Z"
   },
   {
    "duration": 12,
    "start_time": "2023-05-29T11:49:41.620Z"
   },
   {
    "duration": 8,
    "start_time": "2023-05-29T11:49:44.326Z"
   },
   {
    "duration": 10,
    "start_time": "2023-05-29T11:49:46.798Z"
   },
   {
    "duration": 11,
    "start_time": "2023-05-29T11:49:51.001Z"
   },
   {
    "duration": 10,
    "start_time": "2023-05-29T11:49:54.432Z"
   },
   {
    "duration": 3,
    "start_time": "2023-05-29T11:49:57.496Z"
   },
   {
    "duration": 10,
    "start_time": "2023-05-29T11:49:59.390Z"
   },
   {
    "duration": 6,
    "start_time": "2023-05-29T11:50:02.810Z"
   },
   {
    "duration": 5,
    "start_time": "2023-05-29T11:50:29.292Z"
   },
   {
    "duration": 8,
    "start_time": "2023-05-29T11:50:29.299Z"
   },
   {
    "duration": 9,
    "start_time": "2023-05-29T11:50:45.523Z"
   },
   {
    "duration": 10,
    "start_time": "2023-05-29T11:53:34.306Z"
   },
   {
    "duration": 14,
    "start_time": "2023-05-29T11:53:42.712Z"
   },
   {
    "duration": 14,
    "start_time": "2023-05-29T11:53:55.186Z"
   },
   {
    "duration": 178,
    "start_time": "2023-05-29T11:54:00.901Z"
   },
   {
    "duration": 11,
    "start_time": "2023-05-29T11:54:03.546Z"
   },
   {
    "duration": 128,
    "start_time": "2023-05-29T11:54:07.799Z"
   },
   {
    "duration": 266,
    "start_time": "2023-05-29T11:54:10.078Z"
   },
   {
    "duration": 270,
    "start_time": "2023-05-29T11:54:28.382Z"
   },
   {
    "duration": 137,
    "start_time": "2023-05-29T12:11:51.482Z"
   },
   {
    "duration": 6,
    "start_time": "2023-05-29T12:15:10.007Z"
   },
   {
    "duration": 5,
    "start_time": "2023-05-29T13:40:13.590Z"
   },
   {
    "duration": 81,
    "start_time": "2023-05-29T13:40:33.972Z"
   },
   {
    "duration": 5,
    "start_time": "2023-05-29T13:40:37.007Z"
   },
   {
    "duration": 4,
    "start_time": "2023-05-29T13:40:45.833Z"
   },
   {
    "duration": 5,
    "start_time": "2023-05-29T13:40:54.986Z"
   },
   {
    "duration": 4,
    "start_time": "2023-05-29T13:41:09.991Z"
   },
   {
    "duration": 119,
    "start_time": "2023-05-29T13:41:59.985Z"
   },
   {
    "duration": 4,
    "start_time": "2023-05-29T13:42:07.288Z"
   },
   {
    "duration": 4,
    "start_time": "2023-05-29T13:42:49.247Z"
   },
   {
    "duration": 3,
    "start_time": "2023-05-29T13:45:12.754Z"
   },
   {
    "duration": 4,
    "start_time": "2023-05-29T13:45:18.996Z"
   },
   {
    "duration": 3,
    "start_time": "2023-05-29T13:45:26.323Z"
   },
   {
    "duration": 109,
    "start_time": "2023-05-29T13:47:50.505Z"
   },
   {
    "duration": 6,
    "start_time": "2023-05-29T13:51:20.189Z"
   },
   {
    "duration": 107,
    "start_time": "2023-05-29T13:53:21.858Z"
   },
   {
    "duration": 6,
    "start_time": "2023-05-29T13:53:27.734Z"
   },
   {
    "duration": 9,
    "start_time": "2023-05-29T13:53:37.182Z"
   },
   {
    "duration": 10,
    "start_time": "2023-05-29T13:54:39.190Z"
   },
   {
    "duration": 4,
    "start_time": "2023-05-29T13:55:11.191Z"
   },
   {
    "duration": 4,
    "start_time": "2023-05-29T13:55:24.177Z"
   },
   {
    "duration": 96,
    "start_time": "2023-05-29T13:55:55.297Z"
   },
   {
    "duration": 89,
    "start_time": "2023-05-29T14:01:20.318Z"
   },
   {
    "duration": 78,
    "start_time": "2023-05-29T14:01:51.878Z"
   },
   {
    "duration": 107,
    "start_time": "2023-05-29T14:02:18.195Z"
   },
   {
    "duration": 86,
    "start_time": "2023-05-29T14:02:50.477Z"
   },
   {
    "duration": 79,
    "start_time": "2023-05-29T14:03:13.198Z"
   },
   {
    "duration": 73,
    "start_time": "2023-05-29T14:03:26.844Z"
   },
   {
    "duration": 80,
    "start_time": "2023-05-29T14:03:31.336Z"
   },
   {
    "duration": 10,
    "start_time": "2023-05-29T14:04:41.054Z"
   },
   {
    "duration": 113,
    "start_time": "2023-05-29T14:05:15.412Z"
   },
   {
    "duration": 21,
    "start_time": "2023-05-29T14:05:20.682Z"
   },
   {
    "duration": 75,
    "start_time": "2023-05-29T14:05:28.588Z"
   },
   {
    "duration": 75,
    "start_time": "2023-05-29T14:05:39.009Z"
   },
   {
    "duration": 5,
    "start_time": "2023-05-29T14:05:43.613Z"
   },
   {
    "duration": 31,
    "start_time": "2023-05-29T14:07:33.040Z"
   },
   {
    "duration": 30,
    "start_time": "2023-05-29T14:07:46.297Z"
   },
   {
    "duration": 14,
    "start_time": "2023-05-29T14:07:59.696Z"
   },
   {
    "duration": 8,
    "start_time": "2023-05-29T14:08:05.670Z"
   },
   {
    "duration": 13,
    "start_time": "2023-05-29T14:08:15.855Z"
   },
   {
    "duration": 10,
    "start_time": "2023-05-29T14:08:49.926Z"
   },
   {
    "duration": 10,
    "start_time": "2023-05-29T14:09:13.842Z"
   },
   {
    "duration": 4,
    "start_time": "2023-05-29T14:09:19.522Z"
   },
   {
    "duration": 10,
    "start_time": "2023-05-29T14:09:22.854Z"
   },
   {
    "duration": 11,
    "start_time": "2023-05-29T14:09:35.615Z"
   },
   {
    "duration": 15,
    "start_time": "2023-05-29T14:09:46.678Z"
   },
   {
    "duration": 101,
    "start_time": "2023-05-29T14:10:00.213Z"
   },
   {
    "duration": 15,
    "start_time": "2023-05-29T14:10:12.973Z"
   },
   {
    "duration": 10,
    "start_time": "2023-05-29T14:11:02.359Z"
   },
   {
    "duration": 12,
    "start_time": "2023-05-29T14:11:17.792Z"
   },
   {
    "duration": 16,
    "start_time": "2023-05-29T14:11:31.061Z"
   },
   {
    "duration": 14,
    "start_time": "2023-05-29T14:11:38.267Z"
   },
   {
    "duration": 35,
    "start_time": "2023-05-29T14:12:19.317Z"
   },
   {
    "duration": 13,
    "start_time": "2023-05-29T14:12:27.689Z"
   },
   {
    "duration": 12,
    "start_time": "2023-05-29T14:12:34.454Z"
   },
   {
    "duration": 81,
    "start_time": "2023-05-29T14:13:46.735Z"
   },
   {
    "duration": 20,
    "start_time": "2023-05-29T14:18:24.793Z"
   },
   {
    "duration": 16,
    "start_time": "2023-05-29T14:18:37.338Z"
   },
   {
    "duration": 194,
    "start_time": "2023-05-29T14:20:12.186Z"
   },
   {
    "duration": 9,
    "start_time": "2023-05-29T14:20:36.712Z"
   },
   {
    "duration": 183,
    "start_time": "2023-05-29T14:22:03.245Z"
   },
   {
    "duration": 192,
    "start_time": "2023-05-29T14:22:16.970Z"
   },
   {
    "duration": 212,
    "start_time": "2023-05-29T14:22:39.636Z"
   },
   {
    "duration": 5,
    "start_time": "2023-05-29T15:19:08.012Z"
   },
   {
    "duration": 9,
    "start_time": "2023-05-29T15:19:10.484Z"
   },
   {
    "duration": 8,
    "start_time": "2023-05-29T15:19:14.714Z"
   },
   {
    "duration": 12,
    "start_time": "2023-05-29T15:19:21.756Z"
   },
   {
    "duration": 12,
    "start_time": "2023-05-29T15:19:26.229Z"
   },
   {
    "duration": 179,
    "start_time": "2023-05-29T15:19:31.031Z"
   },
   {
    "duration": 11,
    "start_time": "2023-05-29T15:19:33.801Z"
   },
   {
    "duration": 108,
    "start_time": "2023-05-29T15:20:26.592Z"
   },
   {
    "duration": 302,
    "start_time": "2023-05-29T15:20:29.161Z"
   },
   {
    "duration": 5,
    "start_time": "2023-05-29T15:21:01.320Z"
   },
   {
    "duration": 5,
    "start_time": "2023-05-29T15:21:16.791Z"
   },
   {
    "duration": 5,
    "start_time": "2023-05-29T15:21:33.882Z"
   },
   {
    "duration": 223,
    "start_time": "2023-05-29T15:23:04.231Z"
   },
   {
    "duration": 214,
    "start_time": "2023-05-29T15:24:48.702Z"
   },
   {
    "duration": 247,
    "start_time": "2023-05-29T15:25:56.238Z"
   },
   {
    "duration": 187,
    "start_time": "2023-05-29T15:26:31.145Z"
   },
   {
    "duration": 413,
    "start_time": "2023-05-29T15:26:59.696Z"
   },
   {
    "duration": 235,
    "start_time": "2023-05-29T15:27:19.823Z"
   },
   {
    "duration": 371,
    "start_time": "2023-05-29T15:27:39.525Z"
   },
   {
    "duration": 114,
    "start_time": "2023-05-29T15:28:26.564Z"
   },
   {
    "duration": 107,
    "start_time": "2023-05-29T15:28:51.488Z"
   },
   {
    "duration": 12,
    "start_time": "2023-05-29T15:28:58.070Z"
   },
   {
    "duration": 120,
    "start_time": "2023-05-29T15:29:01.248Z"
   },
   {
    "duration": 6,
    "start_time": "2023-05-29T15:29:15.375Z"
   },
   {
    "duration": 137,
    "start_time": "2023-05-29T15:29:25.133Z"
   },
   {
    "duration": 4,
    "start_time": "2023-05-29T15:29:38.398Z"
   },
   {
    "duration": 150,
    "start_time": "2023-05-29T15:34:53.147Z"
   },
   {
    "duration": 135,
    "start_time": "2023-05-29T15:34:56.178Z"
   },
   {
    "duration": 134,
    "start_time": "2023-05-29T15:35:08.412Z"
   },
   {
    "duration": 4,
    "start_time": "2023-05-29T15:35:21.066Z"
   },
   {
    "duration": 489,
    "start_time": "2023-05-29T15:35:24.631Z"
   },
   {
    "duration": 232,
    "start_time": "2023-05-29T15:36:51.981Z"
   },
   {
    "duration": 233,
    "start_time": "2023-05-29T15:36:57.800Z"
   },
   {
    "duration": 24,
    "start_time": "2023-05-29T15:37:09.144Z"
   },
   {
    "duration": 496,
    "start_time": "2023-05-29T15:37:18.811Z"
   },
   {
    "duration": 288,
    "start_time": "2023-05-29T15:41:58.885Z"
   },
   {
    "duration": 21,
    "start_time": "2023-05-29T15:42:14.438Z"
   },
   {
    "duration": 24,
    "start_time": "2023-05-29T15:47:08.419Z"
   },
   {
    "duration": 22,
    "start_time": "2023-05-29T15:47:14.109Z"
   },
   {
    "duration": 2251,
    "start_time": "2023-05-29T15:49:26.298Z"
   },
   {
    "duration": 10,
    "start_time": "2023-05-29T15:49:47.756Z"
   },
   {
    "duration": 301,
    "start_time": "2023-05-29T16:11:45.205Z"
   },
   {
    "duration": 114,
    "start_time": "2023-05-29T16:17:23.646Z"
   },
   {
    "duration": 91,
    "start_time": "2023-05-29T16:34:05.454Z"
   },
   {
    "duration": 10,
    "start_time": "2023-05-29T16:34:31.337Z"
   },
   {
    "duration": 11,
    "start_time": "2023-05-29T16:35:23.349Z"
   },
   {
    "duration": 26,
    "start_time": "2023-05-29T16:35:27.101Z"
   },
   {
    "duration": 29,
    "start_time": "2023-05-29T16:35:59.774Z"
   },
   {
    "duration": 39,
    "start_time": "2023-05-29T16:38:07.823Z"
   },
   {
    "duration": 11,
    "start_time": "2023-05-29T16:38:24.130Z"
   }
  ],
  "kernelspec": {
   "display_name": "Python 3 (ipykernel)",
   "language": "python",
   "name": "python3"
  },
  "language_info": {
   "codemirror_mode": {
    "name": "ipython",
    "version": 3
   },
   "file_extension": ".py",
   "mimetype": "text/x-python",
   "name": "python",
   "nbconvert_exporter": "python",
   "pygments_lexer": "ipython3",
   "version": "3.9.5"
  },
  "toc": {
   "base_numbering": 1,
   "nav_menu": {},
   "number_sections": true,
   "sideBar": true,
   "skip_h1_title": true,
   "title_cell": "Table of Contents",
   "title_sidebar": "Contents",
   "toc_cell": false,
   "toc_position": {},
   "toc_section_display": true,
   "toc_window_display": false
  }
 },
 "nbformat": 4,
 "nbformat_minor": 2
}
