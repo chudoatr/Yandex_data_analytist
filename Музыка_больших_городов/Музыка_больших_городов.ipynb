{
 "cells": [
  {
   "cell_type": "markdown",
   "metadata": {
    "deletable": false,
    "editable": false,
    "id": "E0vqbgi9ay0H"
   },
   "source": [
    "# Яндекс.Музыка"
   ]
  },
  {
   "cell_type": "markdown",
   "metadata": {
    "deletable": false,
    "editable": false,
    "id": "VUC88oWjTJw2"
   },
   "source": [
    "Сравнение Москвы и Петербурга окружено мифами. Например:\n",
    " * Москва — мегаполис, подчинённый жёсткому ритму рабочей недели;\n",
    " * Петербург — культурная столица, со своими вкусами.\n",
    "\n",
    "На данных Яндекс Музыки вы сравните поведение пользователей двух столиц.\n",
    "\n",
    "**Цель исследования** — проверьте три гипотезы:\n",
    "1. Активность пользователей зависит от дня недели. Причём в Москве и Петербурге это проявляется по-разному.\n",
    "2. В понедельник утром в Москве преобладают одни жанры, а в Петербурге — другие. Так же и вечером пятницы преобладают разные жанры — в зависимости от города. \n",
    "3. Москва и Петербург предпочитают разные жанры музыки. В Москве чаще слушают поп-музыку, в Петербурге — русский рэп.\n",
    "\n",
    "**Ход исследования**\n",
    "\n",
    "Данные о поведении пользователей вы получите из файла `yandex_music_project.csv`. О качестве данных ничего не известно. Поэтому перед проверкой гипотез понадобится обзор данных. \n",
    "\n",
    "Вы проверите данные на ошибки и оцените их влияние на исследование. Затем, на этапе предобработки вы поищете возможность исправить самые критичные ошибки данных.\n",
    " \n",
    "Таким образом, исследование пройдёт в три этапа:\n",
    " 1. Обзор данных.\n",
    " 2. Предобработка данных.\n",
    " 3. Проверка гипотез.\n",
    "\n"
   ]
  },
  {
   "cell_type": "markdown",
   "metadata": {
    "deletable": false,
    "editable": false,
    "id": "Ml1hmfXC_Zcs"
   },
   "source": [
    "## Обзор данных\n",
    "\n",
    "Составьте первое представление о данных Яндекс Музыки.\n",
    "\n",
    "\n"
   ]
  },
  {
   "cell_type": "markdown",
   "metadata": {
    "deletable": false,
    "editable": false,
    "id": "57eAOGIz_Zcs",
    "tags": [
     "start_task"
    ]
   },
   "source": [
    "**Задание 1**\n",
    "\n",
    "Основной инструмент аналитика — `pandas`. Импортируйте эту библиотеку."
   ]
  },
  {
   "cell_type": "code",
   "execution_count": 52,
   "metadata": {
    "deletable": false,
    "id": "AXN7PHPN_Zcs"
   },
   "outputs": [],
   "source": [
    "import pandas as pd # импорт библиотеки pandas"
   ]
  },
  {
   "cell_type": "markdown",
   "metadata": {
    "deletable": false,
    "editable": false,
    "id": "SG23P8tt_Zcs",
    "tags": [
     "start_task"
    ]
   },
   "source": [
    "**Задание 2**\n",
    "\n",
    "Прочитайте файл `yandex_music_project.csv` из папки `/datasets` и сохраните его в переменной `df`:"
   ]
  },
  {
   "cell_type": "code",
   "execution_count": 53,
   "metadata": {
    "deletable": false,
    "id": "fFVu7vqh_Zct"
   },
   "outputs": [],
   "source": [
    "df = pd.read_csv('/datasets/yandex_music_project.csv')"
   ]
  },
  {
   "cell_type": "markdown",
   "metadata": {
    "deletable": false,
    "editable": false,
    "id": "rDoOMd3uTqnZ",
    "tags": [
     "start_task"
    ]
   },
   "source": [
    "**Задание 3**\n",
    "\n",
    "\n",
    "Выведите на экран первые десять строк таблицы:"
   ]
  },
  {
   "cell_type": "code",
   "execution_count": 54,
   "metadata": {
    "deletable": false,
    "id": "oWTVX3gW_Zct"
   },
   "outputs": [
    {
     "data": {
      "text/html": [
       "<div>\n",
       "<style scoped>\n",
       "    .dataframe tbody tr th:only-of-type {\n",
       "        vertical-align: middle;\n",
       "    }\n",
       "\n",
       "    .dataframe tbody tr th {\n",
       "        vertical-align: top;\n",
       "    }\n",
       "\n",
       "    .dataframe thead th {\n",
       "        text-align: right;\n",
       "    }\n",
       "</style>\n",
       "<table border=\"1\" class=\"dataframe\">\n",
       "  <thead>\n",
       "    <tr style=\"text-align: right;\">\n",
       "      <th></th>\n",
       "      <th>userID</th>\n",
       "      <th>Track</th>\n",
       "      <th>artist</th>\n",
       "      <th>genre</th>\n",
       "      <th>City</th>\n",
       "      <th>time</th>\n",
       "      <th>Day</th>\n",
       "    </tr>\n",
       "  </thead>\n",
       "  <tbody>\n",
       "    <tr>\n",
       "      <th>0</th>\n",
       "      <td>FFB692EC</td>\n",
       "      <td>Kamigata To Boots</td>\n",
       "      <td>The Mass Missile</td>\n",
       "      <td>rock</td>\n",
       "      <td>Saint-Petersburg</td>\n",
       "      <td>20:28:33</td>\n",
       "      <td>Wednesday</td>\n",
       "    </tr>\n",
       "    <tr>\n",
       "      <th>1</th>\n",
       "      <td>55204538</td>\n",
       "      <td>Delayed Because of Accident</td>\n",
       "      <td>Andreas Rönnberg</td>\n",
       "      <td>rock</td>\n",
       "      <td>Moscow</td>\n",
       "      <td>14:07:09</td>\n",
       "      <td>Friday</td>\n",
       "    </tr>\n",
       "    <tr>\n",
       "      <th>2</th>\n",
       "      <td>20EC38</td>\n",
       "      <td>Funiculì funiculà</td>\n",
       "      <td>Mario Lanza</td>\n",
       "      <td>pop</td>\n",
       "      <td>Saint-Petersburg</td>\n",
       "      <td>20:58:07</td>\n",
       "      <td>Wednesday</td>\n",
       "    </tr>\n",
       "    <tr>\n",
       "      <th>3</th>\n",
       "      <td>A3DD03C9</td>\n",
       "      <td>Dragons in the Sunset</td>\n",
       "      <td>Fire + Ice</td>\n",
       "      <td>folk</td>\n",
       "      <td>Saint-Petersburg</td>\n",
       "      <td>08:37:09</td>\n",
       "      <td>Monday</td>\n",
       "    </tr>\n",
       "    <tr>\n",
       "      <th>4</th>\n",
       "      <td>E2DC1FAE</td>\n",
       "      <td>Soul People</td>\n",
       "      <td>Space Echo</td>\n",
       "      <td>dance</td>\n",
       "      <td>Moscow</td>\n",
       "      <td>08:34:34</td>\n",
       "      <td>Monday</td>\n",
       "    </tr>\n",
       "    <tr>\n",
       "      <th>5</th>\n",
       "      <td>842029A1</td>\n",
       "      <td>Преданная</td>\n",
       "      <td>IMPERVTOR</td>\n",
       "      <td>rusrap</td>\n",
       "      <td>Saint-Petersburg</td>\n",
       "      <td>13:09:41</td>\n",
       "      <td>Friday</td>\n",
       "    </tr>\n",
       "    <tr>\n",
       "      <th>6</th>\n",
       "      <td>4CB90AA5</td>\n",
       "      <td>True</td>\n",
       "      <td>Roman Messer</td>\n",
       "      <td>dance</td>\n",
       "      <td>Moscow</td>\n",
       "      <td>13:00:07</td>\n",
       "      <td>Wednesday</td>\n",
       "    </tr>\n",
       "    <tr>\n",
       "      <th>7</th>\n",
       "      <td>F03E1C1F</td>\n",
       "      <td>Feeling This Way</td>\n",
       "      <td>Polina Griffith</td>\n",
       "      <td>dance</td>\n",
       "      <td>Moscow</td>\n",
       "      <td>20:47:49</td>\n",
       "      <td>Wednesday</td>\n",
       "    </tr>\n",
       "    <tr>\n",
       "      <th>8</th>\n",
       "      <td>8FA1D3BE</td>\n",
       "      <td>И вновь продолжается бой</td>\n",
       "      <td>NaN</td>\n",
       "      <td>ruspop</td>\n",
       "      <td>Moscow</td>\n",
       "      <td>09:17:40</td>\n",
       "      <td>Friday</td>\n",
       "    </tr>\n",
       "    <tr>\n",
       "      <th>9</th>\n",
       "      <td>E772D5C0</td>\n",
       "      <td>Pessimist</td>\n",
       "      <td>NaN</td>\n",
       "      <td>dance</td>\n",
       "      <td>Saint-Petersburg</td>\n",
       "      <td>21:20:49</td>\n",
       "      <td>Wednesday</td>\n",
       "    </tr>\n",
       "  </tbody>\n",
       "</table>\n",
       "</div>"
      ],
      "text/plain": [
       "     userID                        Track            artist   genre  \\\n",
       "0  FFB692EC            Kamigata To Boots  The Mass Missile    rock   \n",
       "1  55204538  Delayed Because of Accident  Andreas Rönnberg    rock   \n",
       "2    20EC38            Funiculì funiculà       Mario Lanza     pop   \n",
       "3  A3DD03C9        Dragons in the Sunset        Fire + Ice    folk   \n",
       "4  E2DC1FAE                  Soul People        Space Echo   dance   \n",
       "5  842029A1                    Преданная         IMPERVTOR  rusrap   \n",
       "6  4CB90AA5                         True      Roman Messer   dance   \n",
       "7  F03E1C1F             Feeling This Way   Polina Griffith   dance   \n",
       "8  8FA1D3BE     И вновь продолжается бой               NaN  ruspop   \n",
       "9  E772D5C0                    Pessimist               NaN   dance   \n",
       "\n",
       "             City        time        Day  \n",
       "0  Saint-Petersburg  20:28:33  Wednesday  \n",
       "1            Moscow  14:07:09     Friday  \n",
       "2  Saint-Petersburg  20:58:07  Wednesday  \n",
       "3  Saint-Petersburg  08:37:09     Monday  \n",
       "4            Moscow  08:34:34     Monday  \n",
       "5  Saint-Petersburg  13:09:41     Friday  \n",
       "6            Moscow  13:00:07  Wednesday  \n",
       "7            Moscow  20:47:49  Wednesday  \n",
       "8            Moscow  09:17:40     Friday  \n",
       "9  Saint-Petersburg  21:20:49  Wednesday  "
      ]
     },
     "execution_count": 54,
     "metadata": {},
     "output_type": "execute_result"
    }
   ],
   "source": [
    "df.head(10) # получение первых 10 строк таблицы df"
   ]
  },
  {
   "cell_type": "markdown",
   "metadata": {
    "deletable": false,
    "editable": false,
    "id": "EO73Kwic_Zct",
    "tags": [
     "start_task"
    ]
   },
   "source": [
    "**Задание 4**\n",
    "\n",
    "\n",
    "Одной командой получить общую информацию о таблице c помощью метода `info()`:"
   ]
  },
  {
   "cell_type": "code",
   "execution_count": 55,
   "metadata": {
    "deletable": false,
    "id": "DSf2kIb-_Zct"
   },
   "outputs": [
    {
     "name": "stdout",
     "output_type": "stream",
     "text": [
      "<class 'pandas.core.frame.DataFrame'>\n",
      "RangeIndex: 65079 entries, 0 to 65078\n",
      "Data columns (total 7 columns):\n",
      " #   Column    Non-Null Count  Dtype \n",
      "---  ------    --------------  ----- \n",
      " 0     userID  65079 non-null  object\n",
      " 1   Track     63848 non-null  object\n",
      " 2   artist    57876 non-null  object\n",
      " 3   genre     63881 non-null  object\n",
      " 4     City    65079 non-null  object\n",
      " 5   time      65079 non-null  object\n",
      " 6   Day       65079 non-null  object\n",
      "dtypes: object(7)\n",
      "memory usage: 3.5+ MB\n"
     ]
    }
   ],
   "source": [
    "df.info() #  получение общей информации о данных в таблице df"
   ]
  },
  {
   "cell_type": "markdown",
   "metadata": {
    "deletable": false,
    "editable": false,
    "id": "TaQ2Iwbr_Zct"
   },
   "source": [
    "Итак, в таблице семь столбцов. Тип данных во всех столбцах — `object`.\n",
    "\n",
    "Согласно документации к данным:\n",
    "* `userID` — идентификатор пользователя;\n",
    "* `Track` — название трека;  \n",
    "* `artist` — имя исполнителя;\n",
    "* `genre` — название жанра;\n",
    "* `City` — город пользователя;\n",
    "* `time` — время начала прослушивания;\n",
    "* `Day` — день недели.\n",
    "\n",
    "Количество значений в столбцах различается. Значит, в данных есть пропущенные значения."
   ]
  },
  {
   "cell_type": "markdown",
   "metadata": {
    "deletable": false,
    "editable": false,
    "id": "4P0UCWzswgEm",
    "tags": [
     "start_task"
    ]
   },
   "source": [
    "**Задание 5**\n",
    "\n",
    "**Вопрос со свободной формой ответа**\n",
    "\n",
    "В названиях колонок видны три нарушения стиля:\n",
    "1. Строчные буквы сочетаются с прописными.\n",
    "2. Встречаются пробелы."
   ]
  },
  {
   "cell_type": "code",
   "execution_count": 56,
   "metadata": {
    "id": "c137-ZstwgEm"
   },
   "outputs": [],
   "source": [
    "#Напишите ваш ответ здесь комментарием. Не удаляйте символ #. Не меняйте тип этой ячейки на Markdown."
   ]
  },
  {
   "cell_type": "markdown",
   "metadata": {
    "deletable": false,
    "editable": false,
    "id": "MCB6-dXG_Zct"
   },
   "source": [
    "**Выводы**\n",
    "\n",
    "В каждой строке таблицы — данные о прослушанном треке. Часть колонок описывает саму композицию: название, исполнителя и жанр. Остальные данные рассказывают о пользователе: из какого он города, когда он слушал музыку. \n",
    "\n",
    "Предварительно можно утверждать, что, данных достаточно для проверки гипотез. Но встречаются пропуски в данных, а в названиях колонок — расхождения с хорошим стилем.\n",
    "\n",
    "Чтобы двигаться дальше, нужно устранить проблемы в данных."
   ]
  },
  {
   "cell_type": "markdown",
   "metadata": {
    "deletable": false,
    "editable": false,
    "id": "SjYF6Ub9_Zct"
   },
   "source": [
    "## Предобработка данных\n",
    "Исправьте стиль в заголовках столбцов, исключите пропуски. Затем проверьте данные на дубликаты."
   ]
  },
  {
   "cell_type": "markdown",
   "metadata": {
    "deletable": false,
    "editable": false,
    "id": "dIaKXr29_Zct",
    "tags": [
     "start_task"
    ]
   },
   "source": [
    "### Стиль заголовков\n",
    "\n",
    "**Задание 6**\n",
    "\n",
    "Выведите на экран названия столбцов:"
   ]
  },
  {
   "cell_type": "code",
   "execution_count": 57,
   "metadata": {
    "deletable": false,
    "id": "oKOTdF_Q_Zct",
    "scrolled": true
   },
   "outputs": [
    {
     "data": {
      "text/plain": [
       "Index(['  userID', 'Track', 'artist', 'genre', '  City  ', 'time', 'Day'], dtype='object')"
      ]
     },
     "execution_count": 57,
     "metadata": {},
     "output_type": "execute_result"
    }
   ],
   "source": [
    "df.columns"
   ]
  },
  {
   "cell_type": "markdown",
   "metadata": {
    "deletable": false,
    "editable": false,
    "id": "zj5534cv_Zct",
    "tags": [
     "start_task"
    ]
   },
   "source": [
    "**Задание 7**\n",
    "\n",
    "\n",
    "Приведите названия в соответствие с хорошим стилем:\n",
    "* несколько слов в названии запишите в «змеином_регистре»,\n",
    "* все символы сделайте строчными,\n",
    "* устраните пробелы.\n",
    "\n",
    "Для этого переименуйте колонки так:\n",
    "* `'  userID'` → `'user_id'`;\n",
    "* `'Track'` → `'track'`;\n",
    "* `'  City  '` → `'city'`;\n",
    "* `'Day'` → `'day'`."
   ]
  },
  {
   "cell_type": "code",
   "execution_count": 58,
   "metadata": {
    "deletable": false,
    "id": "ISlFqs5y_Zct"
   },
   "outputs": [],
   "source": [
    "df = df.rename (\n",
    "    columns = {\n",
    "    '  userID':'user_id',\n",
    "    'Track':'track',\n",
    "    '  City  ':'city',\n",
    "    'Day' :'day',\n",
    "    }\n",
    "    )"
   ]
  },
  {
   "cell_type": "markdown",
   "metadata": {
    "deletable": false,
    "editable": false,
    "id": "1dqbh00J_Zct",
    "tags": [
     "start_task"
    ]
   },
   "source": [
    "**Задание 8**\n",
    "\n",
    "\n",
    "Проверьте результат. Для этого ещё раз выведите на экран названия столбцов:"
   ]
  },
  {
   "cell_type": "code",
   "execution_count": 59,
   "metadata": {
    "deletable": false,
    "id": "d4NOAmTW_Zct"
   },
   "outputs": [
    {
     "data": {
      "text/plain": [
       "Index(['user_id', 'track', 'artist', 'genre', 'city', 'time', 'day'], dtype='object')"
      ]
     },
     "execution_count": 59,
     "metadata": {},
     "output_type": "execute_result"
    }
   ],
   "source": [
    "df.columns # проверка результатов - перечень названий столбцов"
   ]
  },
  {
   "cell_type": "markdown",
   "metadata": {
    "deletable": false,
    "editable": false,
    "id": "5ISfbcfY_Zct",
    "tags": [
     "start_task"
    ]
   },
   "source": [
    "### Пропуски значений\n",
    "\n",
    "**Задание 9**\n",
    "\n",
    "Сначала посчитайте, сколько в таблице пропущенных значений. Для этого достаточно двух методов `pandas`:"
   ]
  },
  {
   "cell_type": "code",
   "execution_count": 60,
   "metadata": {
    "deletable": false,
    "id": "RskX29qr_Zct"
   },
   "outputs": [
    {
     "data": {
      "text/plain": [
       "user_id       0\n",
       "track      1231\n",
       "artist     7203\n",
       "genre      1198\n",
       "city          0\n",
       "time          0\n",
       "day           0\n",
       "dtype: int64"
      ]
     },
     "execution_count": 60,
     "metadata": {},
     "output_type": "execute_result"
    }
   ],
   "source": [
    "df.isna().sum() # подсчёт пропусков"
   ]
  },
  {
   "cell_type": "markdown",
   "metadata": {
    "deletable": false,
    "editable": false,
    "id": "qubhgnlO_Zct"
   },
   "source": [
    "Не все пропущенные значения влияют на исследование. Так в `track` и `artist` пропуски не важны для вашей работы. Достаточно заменить их явными обозначениями.\n",
    "\n",
    "Но пропуски в `genre` могут помешать сравнению музыкальных вкусов в Москве и Санкт-Петербурге. На практике было бы правильно установить причину пропусков и восстановить данные. Такой возможности нет в учебном проекте. Придётся:\n",
    "* заполнить и эти пропуски явными обозначениями,\n",
    "* оценить, насколько они повредят расчётам. "
   ]
  },
  {
   "cell_type": "markdown",
   "metadata": {
    "deletable": false,
    "editable": false,
    "id": "fSv2laPA_Zct",
    "tags": [
     "start_task"
    ]
   },
   "source": [
    "**Задание 10**\n",
    "\n",
    "Замените пропущенные значения в столбцах `track`, `artist` и `genre` на строку `'unknown'`. Для этого создайте список `columns_to_replace`, переберите его элементы циклом `for` и для каждого столбца выполните замену пропущенных значений:"
   ]
  },
  {
   "cell_type": "code",
   "execution_count": 61,
   "metadata": {
    "deletable": false,
    "id": "KplB5qWs_Zct"
   },
   "outputs": [],
   "source": [
    "columns_to_replace = ['track','artist','genre']\n",
    "for column in columns_to_replace:\n",
    "    df[column] = df[column].fillna('unknown')"
   ]
  },
  {
   "cell_type": "markdown",
   "metadata": {
    "deletable": false,
    "editable": false,
    "id": "Ilsm-MZo_Zct",
    "tags": [
     "start_task"
    ]
   },
   "source": [
    "**Задание 11**\n",
    "\n",
    "Убедитесь, что в таблице не осталось пропусков. Для этого ещё раз посчитайте пропущенные значения."
   ]
  },
  {
   "cell_type": "code",
   "execution_count": 62,
   "metadata": {
    "deletable": false,
    "id": "Tq4nYRX4_Zct"
   },
   "outputs": [
    {
     "data": {
      "text/plain": [
       "user_id    0\n",
       "track      0\n",
       "artist     0\n",
       "genre      0\n",
       "city       0\n",
       "time       0\n",
       "day        0\n",
       "dtype: int64"
      ]
     },
     "execution_count": 62,
     "metadata": {},
     "output_type": "execute_result"
    }
   ],
   "source": [
    "df.isna().sum() # подсчёт пропусков"
   ]
  },
  {
   "cell_type": "markdown",
   "metadata": {
    "deletable": false,
    "editable": false,
    "id": "BWKRtBJ3_Zct",
    "tags": [
     "start_task"
    ]
   },
   "source": [
    "### Дубликаты\n",
    "\n",
    "**Задание 12**\n",
    "\n",
    "Посчитайте явные дубликаты в таблице одной командой:"
   ]
  },
  {
   "cell_type": "code",
   "execution_count": 63,
   "metadata": {
    "deletable": false,
    "id": "36eES_S0_Zct"
   },
   "outputs": [
    {
     "data": {
      "text/plain": [
       "3826"
      ]
     },
     "execution_count": 63,
     "metadata": {},
     "output_type": "execute_result"
    }
   ],
   "source": [
    "df.duplicated().sum() # подсчёт явных дубликатов"
   ]
  },
  {
   "cell_type": "markdown",
   "metadata": {
    "deletable": false,
    "editable": false,
    "id": "Ot25h6XR_Zct",
    "tags": [
     "start_task"
    ]
   },
   "source": [
    "**Задание 13**\n",
    "\n",
    "Вызовите специальный метод `pandas`, чтобы удалить явные дубликаты:"
   ]
  },
  {
   "cell_type": "code",
   "execution_count": 64,
   "metadata": {
    "deletable": false,
    "id": "exFHq6tt_Zct"
   },
   "outputs": [],
   "source": [
    "df.drop_duplicates(inplace=True)"
   ]
  },
  {
   "cell_type": "markdown",
   "metadata": {
    "deletable": false,
    "editable": false,
    "id": "Im2YwBEG_Zct",
    "tags": [
     "start_task"
    ]
   },
   "source": [
    "**Задание 14**\n",
    "\n",
    "Ещё раз посчитайте явные дубликаты в таблице — убедитесь, что полностью от них избавились:"
   ]
  },
  {
   "cell_type": "code",
   "execution_count": 65,
   "metadata": {
    "deletable": false,
    "id": "-8PuNWQ0_Zct"
   },
   "outputs": [
    {
     "data": {
      "text/plain": [
       "0"
      ]
     },
     "execution_count": 65,
     "metadata": {},
     "output_type": "execute_result"
    }
   ],
   "source": [
    "df.duplicated().sum()# проверка на отсутствие дубликатов"
   ]
  },
  {
   "cell_type": "markdown",
   "metadata": {
    "deletable": false,
    "editable": false,
    "id": "QlFBsxAr_Zct"
   },
   "source": [
    "Теперь избавьтесь от неявных дубликатов в колонке `genre`. Например, название одного и того же жанра может быть записано немного по-разному. Такие ошибки тоже повлияют на результат исследования."
   ]
  },
  {
   "cell_type": "markdown",
   "metadata": {
    "deletable": false,
    "editable": false,
    "id": "eSjWwsOh_Zct",
    "tags": [
     "start_task"
    ]
   },
   "source": [
    "**Задание 15**\n",
    "\n",
    "Выведите на экран список уникальных названий жанров, отсортированный в алфавитном порядке. Для этого:\n",
    "* извлеките нужный столбец датафрейма, \n",
    "* примените к нему метод сортировки,\n",
    "* для отсортированного столбца вызовите метод, который вернёт уникальные значения из столбца."
   ]
  },
  {
   "cell_type": "code",
   "execution_count": 66,
   "metadata": {
    "deletable": false,
    "id": "JIUcqzZN_Zct"
   },
   "outputs": [
    {
     "data": {
      "text/plain": [
       "array(['rock', 'pop', 'folk', 'dance', 'rusrap', 'ruspop', 'world',\n",
       "       'electronic', 'unknown', 'alternative', 'children', 'rnb', 'hip',\n",
       "       'jazz', 'postrock', 'latin', 'classical', 'metal', 'reggae',\n",
       "       'tatar', 'blues', 'instrumental', 'rusrock', 'dnb', 'türk', 'post',\n",
       "       'country', 'psychedelic', 'conjazz', 'indie', 'posthardcore',\n",
       "       'local', 'avantgarde', 'punk', 'videogame', 'techno', 'house',\n",
       "       'christmas', 'melodic', 'caucasian', 'reggaeton', 'soundtrack',\n",
       "       'singer', 'ska', 'shanson', 'ambient', 'film', 'western', 'rap',\n",
       "       'beats', \"hard'n'heavy\", 'progmetal', 'minimal', 'contemporary',\n",
       "       'new', 'soul', 'holiday', 'german', 'tropical', 'fairytail',\n",
       "       'spiritual', 'urban', 'gospel', 'nujazz', 'folkmetal', 'trance',\n",
       "       'miscellaneous', 'anime', 'hardcore', 'progressive', 'chanson',\n",
       "       'numetal', 'vocal', 'estrada', 'russian', 'classicmetal',\n",
       "       'dubstep', 'club', 'deep', 'southern', 'black', 'folkrock',\n",
       "       'fitness', 'french', 'disco', 'religious', 'hiphop', 'drum',\n",
       "       'extrememetal', 'türkçe', 'experimental', 'easy', 'metalcore',\n",
       "       'modern', 'argentinetango', 'old', 'breaks', 'eurofolk',\n",
       "       'stonerrock', 'industrial', 'funk', 'jpop', 'middle', 'variété',\n",
       "       'other', 'adult', 'christian', 'gothic', 'international', 'muslim',\n",
       "       'relax', 'schlager', 'caribbean', 'ukrrock', 'nu', 'breakbeat',\n",
       "       'comedy', 'chill', 'newage', 'specialty', 'uzbek', 'k-pop',\n",
       "       'balkan', 'chinese', 'meditative', 'dub', 'power', 'death',\n",
       "       'grime', 'arabesk', 'romance', 'flamenco', 'leftfield', 'european',\n",
       "       'tech', 'newwave', 'dancehall', 'mpb', 'piano', 'top', 'bigroom',\n",
       "       'opera', 'celtic', 'tradjazz', 'acoustic', 'epicmetal', 'hip-hop',\n",
       "       'historisch', 'downbeat', 'downtempo', 'africa', 'audiobook',\n",
       "       'jewish', 'sängerportrait', 'deutschrock', 'eastern', 'action',\n",
       "       'future', 'electropop', 'folklore', 'bollywood', 'marschmusik',\n",
       "       'rnr', 'karaoke', 'indian', 'rancheras', 'электроника',\n",
       "       'afrikaans', 'tango', 'rhythm', 'sound', 'deutschspr', 'trip',\n",
       "       'lovers', 'choral', 'dancepop', 'podcasts', 'retro', 'smooth',\n",
       "       'mexican', 'brazilian', 'ïîï', 'mood', 'surf', 'author', 'gangsta',\n",
       "       'triphop', 'inspirational', 'idm', 'ethnic', 'bluegrass',\n",
       "       'broadway', 'animated', 'americana', 'karadeniz', 'rockabilly',\n",
       "       'colombian', 'self', 'hop', 'synthrock', 'sertanejo', 'japanese',\n",
       "       'canzone', 'swing', 'lounge', 'sport', 'korean', 'ragga',\n",
       "       'traditional', 'gitarre', 'frankreich', 'alternativepunk', 'emo',\n",
       "       'laiko', 'cantopop', 'glitch', 'documentary', 'rockalternative',\n",
       "       'thrash', 'hymn', 'oceania', 'rockother', 'popeurodance', 'dark',\n",
       "       'vi', 'grunge', 'hardstyle', 'samba', 'garage', 'soft', 'art',\n",
       "       'folktronica', 'entehno', 'mediterranean', 'chamber', 'cuban',\n",
       "       'taraftar', 'rockindie', 'gypsy', 'hardtechno', 'shoegazing',\n",
       "       'skarock', 'bossa', 'salsa', 'latino', 'worldbeat', 'malaysian',\n",
       "       'baile', 'ghazal', 'loungeelectronic', 'arabic', 'popelectronic',\n",
       "       'acid', 'kayokyoku', 'neoklassik', 'tribal', 'tanzorchester',\n",
       "       'native', 'independent', 'cantautori', 'handsup', 'poprussian',\n",
       "       'punjabi', 'synthpop', 'rave', 'französisch', 'quebecois',\n",
       "       'speech', 'soulful', 'teen', 'jam', 'ram', 'horror', 'scenic',\n",
       "       'orchestral', 'neue', 'roots', 'slow', 'jungle', 'indipop', 'axé',\n",
       "       'fado', 'showtunes', 'arena', 'irish', 'mandopop', 'forró',\n",
       "       'popdance', 'dirty', 'regional'], dtype=object)"
      ]
     },
     "execution_count": 66,
     "metadata": {},
     "output_type": "execute_result"
    }
   ],
   "source": [
    "df['genre'].unique()"
   ]
  },
  {
   "cell_type": "markdown",
   "metadata": {
    "deletable": false,
    "editable": false,
    "id": "qej-Qmuo_Zct",
    "tags": [
     "start_task"
    ]
   },
   "source": [
    "**Задание 16**\n",
    "\n",
    "Просмотрите список и найдите неявные дубликаты названия `hiphop`. Это могут быть названия с ошибками или альтернативные названия того же жанра.\n",
    "\n",
    "Вы увидите следующие неявные дубликаты:\n",
    "* *hip*,\n",
    "* *hop*,\n",
    "* *hip-hop*.\n",
    "\n",
    "Чтобы очистить от них таблицу используйте метод `replace()` с двумя аргументами: списком строк-дубликатов (включащий *hip*, *hop* и *hip-hop*) и строкой с правильным значением. Вам нужно исправить колонку `genre` в таблице `df`: заменить каждое значение из списка дубликатов на верное. Вместо `hip`, `hop` и `hip-hop` в таблице должно быть значение `hiphop`:"
   ]
  },
  {
   "cell_type": "code",
   "execution_count": 67,
   "metadata": {
    "deletable": false,
    "id": "ErNDkmns_Zct",
    "scrolled": true
   },
   "outputs": [],
   "source": [
    "duplicates = ['hip', 'hop', 'hip-hop'] \n",
    "df['genre'] = df['genre'].replace(duplicates,'hiphop')\n"
   ]
  },
  {
   "cell_type": "markdown",
   "metadata": {
    "deletable": false,
    "editable": false,
    "id": "zQKF16_RG15m",
    "tags": [
     "start_task"
    ]
   },
   "source": [
    "**Задание 17**\n",
    "\n",
    "Проверьте, что заменили неправильные названия:\n",
    "\n",
    "*   hip\n",
    "*   hop\n",
    "*   hip-hop\n",
    "\n",
    "Выведите отсортированный список уникальных значений столбца `genre`:"
   ]
  },
  {
   "cell_type": "code",
   "execution_count": 68,
   "metadata": {
    "deletable": false,
    "id": "wvixALnFG15m"
   },
   "outputs": [
    {
     "data": {
      "text/plain": [
       "array(['acid', 'acoustic', 'action', 'adult', 'africa', 'afrikaans',\n",
       "       'alternative', 'alternativepunk', 'ambient', 'americana',\n",
       "       'animated', 'anime', 'arabesk', 'arabic', 'arena',\n",
       "       'argentinetango', 'art', 'audiobook', 'author', 'avantgarde',\n",
       "       'axé', 'baile', 'balkan', 'beats', 'bigroom', 'black', 'bluegrass',\n",
       "       'blues', 'bollywood', 'bossa', 'brazilian', 'breakbeat', 'breaks',\n",
       "       'broadway', 'cantautori', 'cantopop', 'canzone', 'caribbean',\n",
       "       'caucasian', 'celtic', 'chamber', 'chanson', 'children', 'chill',\n",
       "       'chinese', 'choral', 'christian', 'christmas', 'classical',\n",
       "       'classicmetal', 'club', 'colombian', 'comedy', 'conjazz',\n",
       "       'contemporary', 'country', 'cuban', 'dance', 'dancehall',\n",
       "       'dancepop', 'dark', 'death', 'deep', 'deutschrock', 'deutschspr',\n",
       "       'dirty', 'disco', 'dnb', 'documentary', 'downbeat', 'downtempo',\n",
       "       'drum', 'dub', 'dubstep', 'eastern', 'easy', 'electronic',\n",
       "       'electropop', 'emo', 'entehno', 'epicmetal', 'estrada', 'ethnic',\n",
       "       'eurofolk', 'european', 'experimental', 'extrememetal', 'fado',\n",
       "       'fairytail', 'film', 'fitness', 'flamenco', 'folk', 'folklore',\n",
       "       'folkmetal', 'folkrock', 'folktronica', 'forró', 'frankreich',\n",
       "       'französisch', 'french', 'funk', 'future', 'gangsta', 'garage',\n",
       "       'german', 'ghazal', 'gitarre', 'glitch', 'gospel', 'gothic',\n",
       "       'grime', 'grunge', 'gypsy', 'handsup', \"hard'n'heavy\", 'hardcore',\n",
       "       'hardstyle', 'hardtechno', 'hiphop', 'historisch', 'holiday',\n",
       "       'horror', 'house', 'hymn', 'idm', 'independent', 'indian', 'indie',\n",
       "       'indipop', 'industrial', 'inspirational', 'instrumental',\n",
       "       'international', 'irish', 'jam', 'japanese', 'jazz', 'jewish',\n",
       "       'jpop', 'jungle', 'k-pop', 'karadeniz', 'karaoke', 'kayokyoku',\n",
       "       'korean', 'laiko', 'latin', 'latino', 'leftfield', 'local',\n",
       "       'lounge', 'loungeelectronic', 'lovers', 'malaysian', 'mandopop',\n",
       "       'marschmusik', 'meditative', 'mediterranean', 'melodic', 'metal',\n",
       "       'metalcore', 'mexican', 'middle', 'minimal', 'miscellaneous',\n",
       "       'modern', 'mood', 'mpb', 'muslim', 'native', 'neoklassik', 'neue',\n",
       "       'new', 'newage', 'newwave', 'nu', 'nujazz', 'numetal', 'oceania',\n",
       "       'old', 'opera', 'orchestral', 'other', 'piano', 'podcasts', 'pop',\n",
       "       'popdance', 'popelectronic', 'popeurodance', 'poprussian', 'post',\n",
       "       'posthardcore', 'postrock', 'power', 'progmetal', 'progressive',\n",
       "       'psychedelic', 'punjabi', 'punk', 'quebecois', 'ragga', 'ram',\n",
       "       'rancheras', 'rap', 'rave', 'reggae', 'reggaeton', 'regional',\n",
       "       'relax', 'religious', 'retro', 'rhythm', 'rnb', 'rnr', 'rock',\n",
       "       'rockabilly', 'rockalternative', 'rockindie', 'rockother',\n",
       "       'romance', 'roots', 'ruspop', 'rusrap', 'rusrock', 'russian',\n",
       "       'salsa', 'samba', 'scenic', 'schlager', 'self', 'sertanejo',\n",
       "       'shanson', 'shoegazing', 'showtunes', 'singer', 'ska', 'skarock',\n",
       "       'slow', 'smooth', 'soft', 'soul', 'soulful', 'sound', 'soundtrack',\n",
       "       'southern', 'specialty', 'speech', 'spiritual', 'sport',\n",
       "       'stonerrock', 'surf', 'swing', 'synthpop', 'synthrock',\n",
       "       'sängerportrait', 'tango', 'tanzorchester', 'taraftar', 'tatar',\n",
       "       'tech', 'techno', 'teen', 'thrash', 'top', 'traditional',\n",
       "       'tradjazz', 'trance', 'tribal', 'trip', 'triphop', 'tropical',\n",
       "       'türk', 'türkçe', 'ukrrock', 'unknown', 'urban', 'uzbek',\n",
       "       'variété', 'vi', 'videogame', 'vocal', 'western', 'world',\n",
       "       'worldbeat', 'ïîï', 'электроника'], dtype=object)"
      ]
     },
     "execution_count": 68,
     "metadata": {},
     "output_type": "execute_result"
    }
   ],
   "source": [
    "df['genre'].sort_values().unique() # Проверка на неявные дубликаты"
   ]
  },
  {
   "cell_type": "markdown",
   "metadata": {
    "deletable": false,
    "editable": false,
    "id": "jz6a9-7HQUDd"
   },
   "source": [
    "**Выводы**\n",
    "\n",
    "Предобработка обнаружила три проблемы в данных:\n",
    "\n",
    "- нарушения в стиле заголовков,\n",
    "- пропущенные значения,\n",
    "- дубликаты — явные и неявные.\n",
    "\n",
    "Вы исправили заголовки, чтобы упростить работу с таблицей. Без дубликатов исследование станет более точным.\n",
    "\n",
    "Пропущенные значения вы заменили на `'unknown'`. Ещё предстоит увидеть, не повредят ли исследованию пропуски в колонке `genre`.\n",
    "\n",
    "Теперь можно перейти к проверке гипотез. "
   ]
  },
  {
   "cell_type": "markdown",
   "metadata": {
    "deletable": false,
    "editable": false,
    "id": "WttZHXH0SqKk"
   },
   "source": [
    "## Проверка гипотез"
   ]
  },
  {
   "cell_type": "markdown",
   "metadata": {
    "deletable": false,
    "editable": false,
    "id": "Im936VVi_Zcu"
   },
   "source": [
    "### Сравнение поведения пользователей двух столиц"
   ]
  },
  {
   "cell_type": "markdown",
   "metadata": {
    "deletable": false,
    "editable": false,
    "id": "nwt_MuaL_Zcu"
   },
   "source": [
    "Первая гипотеза утверждает, что пользователи по-разному слушают музыку в Москве и Санкт-Петербурге. Проверьте это предположение по данным о трёх днях недели — понедельнике, среде и пятнице. Для этого:\n",
    "\n",
    "* Разделите пользователей Москвы и Санкт-Петербурга\n",
    "* Сравните, сколько треков послушала каждая группа пользователей в понедельник, среду и пятницу.\n"
   ]
  },
  {
   "cell_type": "markdown",
   "metadata": {
    "deletable": false,
    "editable": false,
    "id": "8Dw_YMmT_Zcu",
    "tags": [
     "start_task"
    ]
   },
   "source": [
    "**Задание 18**\n",
    "\n",
    "Для тренировки сначала выполните каждый из расчётов по отдельности. \n",
    "\n",
    "Оцените активность пользователей в каждом городе. Сгруппируйте данные по городу и посчитайте прослушивания в каждой группе.\n",
    "\n"
   ]
  },
  {
   "cell_type": "code",
   "execution_count": 69,
   "metadata": {
    "deletable": false,
    "id": "0_Qs96oh_Zcu"
   },
   "outputs": [
    {
     "data": {
      "text/plain": [
       "city\n",
       "Moscow              42741\n",
       "Saint-Petersburg    18512\n",
       "Name: user_id, dtype: int64"
      ]
     },
     "execution_count": 69,
     "metadata": {},
     "output_type": "execute_result"
    }
   ],
   "source": [
    "df.groupby('city')['user_id'].count() # Подсчёт прослушиваний в каждом городе"
   ]
  },
  {
   "cell_type": "markdown",
   "metadata": {
    "deletable": false,
    "editable": false,
    "id": "dzli3w8o_Zcu",
    "tags": [
     "start_task"
    ]
   },
   "source": [
    "В Москве прослушиваний больше, чем в Петербурге. Из этого не следует, что московские пользователи чаще слушают музыку. Просто самих пользователей в Москве больше.\n",
    "\n",
    "**Задание 19**\n",
    "\n",
    "Теперь сгруппируйте данные по дню недели и подсчитайте прослушивания в понедельник, среду и пятницу. Учтите, что в данных есть информация только о прослушиваниях только за эти дни.\n"
   ]
  },
  {
   "cell_type": "code",
   "execution_count": 70,
   "metadata": {
    "deletable": false,
    "id": "uZMKjiJz_Zcu"
   },
   "outputs": [
    {
     "data": {
      "text/plain": [
       "day\n",
       "Friday       21840\n",
       "Monday       21354\n",
       "Wednesday    18059\n",
       "Name: genre, dtype: int64"
      ]
     },
     "execution_count": 70,
     "metadata": {},
     "output_type": "execute_result"
    }
   ],
   "source": [
    "df.groupby('day')['genre'].count() # Подсчёт прослушиваний в каждый из трёх дней"
   ]
  },
  {
   "cell_type": "markdown",
   "metadata": {
    "deletable": false,
    "editable": false,
    "id": "cC2tNrlL_Zcu"
   },
   "source": [
    "В среднем пользователи из двух городов менее активны по средам. Но картина может измениться, если рассмотреть каждый город в отдельности."
   ]
  },
  {
   "cell_type": "markdown",
   "metadata": {
    "deletable": false,
    "editable": false,
    "id": "POzs8bGa_Zcu",
    "tags": [
     "start_task"
    ]
   },
   "source": [
    "**Задание 20**\n",
    "\n",
    "\n",
    "Вы видели, как работает группировка по городу и по дням недели. Теперь напишите функцию, которая объединит два эти расчёта.\n",
    "\n",
    "Создайте функцию `number_tracks()`, которая посчитает прослушивания для заданного дня и города. Ей понадобятся два параметра:\n",
    "* день недели,\n",
    "* название города.\n",
    "\n",
    "В функции сохраните в переменную строки исходной таблицы, у которых значение:\n",
    "  * в колонке `day` равно параметру `day`,\n",
    "  * в колонке `city` равно параметру `city`.\n",
    "\n",
    "Для этого примените последовательную фильтрацию с логической индексацией (или сложные логические выражения в одну строку, если вы уже знакомы с ними).\n",
    "\n",
    "Затем посчитайте значения в столбце `user_id` получившейся таблицы. Результат сохраните в новую переменную. Верните эту переменную из функции."
   ]
  },
  {
   "cell_type": "code",
   "execution_count": 82,
   "metadata": {
    "deletable": false,
    "id": "Nz3GdQB1_Zcu"
   },
   "outputs": [],
   "source": [
    "def number_tracks(day,city):\n",
    "    track_list = df[(df['day']==day) & (df['city']==city)]\n",
    "    track_list_count = track_list['user_id'].count()\n",
    "    return track_list_count\n",
    "# <создание функции number_tracks()>\n",
    "# Объявляется функция с двумя параметрами: day, city.\n",
    "# В переменной track_list сохраняются те строки таблицы df, для которых \n",
    "# значение в столбце 'day' равно параметру day и одновременно значение\n",
    "# в столбце 'city' равно параметру city (используйте последовательную фильтрацию\n",
    "# с помощью логической индексации или сложные логические выражения в одну строку, если вы уже знакомы с ними).\n",
    "# В переменной track_list_count сохраняется число значений столбца 'user_id',\n",
    "# рассчитанное методом count() для таблицы track_list.\n",
    "# Функция возвращает число - значение track_list_count.\n",
    "\n",
    "# Функция для подсчёта прослушиваний для конкретного города и дня.\n",
    "# С помощью последовательной фильтрации с логической индексацией она \n",
    "# сначала получит из исходной таблицы строки с нужным днём,\n",
    "# затем из результата отфильтрует строки с нужным городом,\n",
    "# методом count() посчитает количество значений в колонке user_id. \n",
    "# Это количество функция вернёт в качестве результата"
   ]
  },
  {
   "cell_type": "markdown",
   "metadata": {
    "deletable": false,
    "editable": false,
    "id": "ytf7xFrFJQ2r",
    "tags": [
     "start_task"
    ]
   },
   "source": [
    "**Задание 21**\n",
    "\n",
    "Вызовите `number_tracks()` шесть раз, меняя значение параметров — так, чтобы получить данные для каждого города в каждый из трёх дней."
   ]
  },
  {
   "cell_type": "code",
   "execution_count": 83,
   "metadata": {
    "deletable": false,
    "id": "rJcRATNQ_Zcu"
   },
   "outputs": [
    {
     "data": {
      "text/plain": [
       "42741"
      ]
     },
     "execution_count": 83,
     "metadata": {},
     "output_type": "execute_result"
    }
   ],
   "source": [
    "number_tracks('Monday', 'Moscow') # количество прослушиваний в Москве по понедельникам"
   ]
  },
  {
   "cell_type": "code",
   "execution_count": 88,
   "metadata": {
    "deletable": false,
    "id": "hq_ncZ5T_Zcu"
   },
   "outputs": [
    {
     "data": {
      "text/plain": [
       "18512"
      ]
     },
     "execution_count": 88,
     "metadata": {},
     "output_type": "execute_result"
    }
   ],
   "source": [
    "number_tracks('Monday', 'Saint-Petersburg')# количество прослушиваний в Санкт-Петербурге по понедельникам"
   ]
  },
  {
   "cell_type": "code",
   "execution_count": 87,
   "metadata": {
    "deletable": false,
    "id": "_NTy2VPU_Zcu"
   },
   "outputs": [
    {
     "data": {
      "text/plain": [
       "42741"
      ]
     },
     "execution_count": 87,
     "metadata": {},
     "output_type": "execute_result"
    }
   ],
   "source": [
    "number_tracks('Wednesday', 'Moscow')# количество прослушиваний в Москве по средам"
   ]
  },
  {
   "cell_type": "code",
   "execution_count": 86,
   "metadata": {
    "deletable": false,
    "id": "j2y3TAwo_Zcu"
   },
   "outputs": [
    {
     "data": {
      "text/plain": [
       "18512"
      ]
     },
     "execution_count": 86,
     "metadata": {},
     "output_type": "execute_result"
    }
   ],
   "source": [
    "number_tracks('Wednesday', 'Saint-Petersburg')# количество прослушиваний в Санкт-Петербурге по средам"
   ]
  },
  {
   "cell_type": "code",
   "execution_count": 85,
   "metadata": {
    "deletable": false,
    "id": "vYDw5u_K_Zcu"
   },
   "outputs": [
    {
     "data": {
      "text/plain": [
       "42741"
      ]
     },
     "execution_count": 85,
     "metadata": {},
     "output_type": "execute_result"
    }
   ],
   "source": [
    "number_tracks('Friday', 'Moscow')# количество прослушиваний в Москве по пятницам"
   ]
  },
  {
   "cell_type": "code",
   "execution_count": 84,
   "metadata": {
    "deletable": false,
    "id": "8_yzFtW3_Zcu"
   },
   "outputs": [
    {
     "data": {
      "text/plain": [
       "18512"
      ]
     },
     "execution_count": 84,
     "metadata": {},
     "output_type": "execute_result"
    }
   ],
   "source": [
    "number_tracks('Friday', 'Saint-Petersburg')# количество прослушиваний в Санкт-Петербурге по пятницам"
   ]
  },
  {
   "cell_type": "markdown",
   "metadata": {
    "deletable": false,
    "editable": false,
    "id": "7QXffbO-_Zcu",
    "tags": [
     "start_task"
    ]
   },
   "source": [
    "**Задание 22**\n",
    "\n",
    "Создайте c помощью конструктора `pd.DataFrame` таблицу, где\n",
    "* названия колонок — `['city', 'monday', 'wednesday', 'friday']`;\n",
    "* данные — результаты, которые вы получили с помощью `number_tracks`."
   ]
  },
  {
   "cell_type": "code",
   "execution_count": 91,
   "metadata": {
    "deletable": false,
    "id": "APAcLpOr_Zcu"
   },
   "outputs": [],
   "source": [
    "data = [['Moscow', 42741, 42741, 42741],\n",
    "        ['Saint-Petersburg', 18512, 18512, 18512]] \n",
    "columns = ['city', 'monday', 'wednesday', 'friday'] \n",
    "info = pd.DataFrame(data = data, columns = columns) "
   ]
  },
  {
   "cell_type": "markdown",
   "metadata": {
    "deletable": false,
    "editable": false,
    "id": "-EgPIHYu_Zcu"
   },
   "source": [
    "**Выводы**\n",
    "\n",
    "Данные показывают разницу поведения пользователей:\n",
    "\n",
    "- В Москве пик прослушиваний приходится на понедельник и пятницу, а в среду заметен спад.\n",
    "- В Петербурге, наоборот, больше слушают музыку по средам. Активность в понедельник и пятницу здесь почти в равной мере уступает среде.\n",
    "\n",
    "Значит, данные говорят в пользу первой гипотезы."
   ]
  },
  {
   "cell_type": "markdown",
   "metadata": {
    "deletable": false,
    "editable": false,
    "id": "atZAxtq4_Zcu"
   },
   "source": [
    "### Музыка в начале и в конце недели"
   ]
  },
  {
   "cell_type": "markdown",
   "metadata": {
    "deletable": false,
    "editable": false,
    "id": "eXrQqXFH_Zcu"
   },
   "source": [
    "Согласно второй гипотезе, утром в понедельник в Москве преобладают одни жанры, а в Петербурге — другие. Так же и вечером пятницы преобладают разные жанры — в зависимости от города."
   ]
  },
  {
   "cell_type": "markdown",
   "metadata": {
    "deletable": false,
    "editable": false,
    "id": "S8UcW6Hw_Zcu",
    "tags": [
     "start_task"
    ]
   },
   "source": [
    "**Задание 23**\n",
    "\n",
    "Сохраните таблицы с данными в две переменные:\n",
    "* по Москве — в `moscow_general`;\n",
    "* по Санкт-Петербургу — в `spb_general`."
   ]
  },
  {
   "cell_type": "code",
   "execution_count": 92,
   "metadata": {
    "deletable": false,
    "id": "qeaFfM_P_Zcu"
   },
   "outputs": [],
   "source": [
    "moscow_general = df[df['city']=='Moscow'] # получение таблицы moscow_general из тех строк таблицы df, \n",
    "# для которых значение в столбце 'city' равно 'Moscow'\n"
   ]
  },
  {
   "cell_type": "code",
   "execution_count": 100,
   "metadata": {
    "deletable": false,
    "id": "ORaVRKto_Zcu"
   },
   "outputs": [],
   "source": [
    "spb_general = df[df['city']=='Saint-Petersburg'] # получение таблицы spb_general из тех строк таблицы df,\n",
    "# для которых значение в столбце 'city' равно 'Saint-Petersburg'\n"
   ]
  },
  {
   "cell_type": "markdown",
   "metadata": {
    "deletable": false,
    "id": "MEJV-CX2_Zcu",
    "tags": [
     "start_task"
    ]
   },
   "source": [
    "**Задание 24**\n",
    "\n",
    "Создайте функцию `genre_weekday()` с четырьмя параметрами:\n",
    "* таблица (датафрейм) с данными,\n",
    "* день недели,\n",
    "* начальная временная метка в формате 'hh:mm', \n",
    "* последняя временная метка в формате 'hh:mm'.\n",
    "\n",
    "Функция должна вернуть информацию о топ-10 жанров тех треков, которые прослушивали в указанный день, в промежутке между двумя отметками времени."
   ]
  },
  {
   "cell_type": "code",
   "execution_count": 93,
   "metadata": {
    "deletable": false,
    "id": "laJT9BYl_Zcu"
   },
   "outputs": [],
   "source": [
    "# Объявление функции genre_weekday() с параметрами table, day, time1, time2,\n",
    "# которая возвращает информацию о самых популярных жанрах в указанный день в\n",
    "# заданное время:\n",
    "# 1) в переменную genre_df сохраняются те строки переданного датафрейма table, для\n",
    "#    которых одновременно:\n",
    "#    - значение в столбце day равно значению аргумента day\n",
    "#    - значение в столбце time больше значения аргумента time1\n",
    "#    - значение в столбце time меньше значения аргумента time2\n",
    "#    Используйте последовательную фильтрацию с помощью логической индексации.\n",
    "# 2) сгруппировать датафрейм genre_df по столбцу genre, взять один из его\n",
    "#    столбцов и посчитать методом count() количество записей для каждого из\n",
    "#    присутствующих жанров, получившийся Series записать в переменную\n",
    "#    genre_df_grouped\n",
    "# 3) отсортировать genre_df_grouped по убыванию встречаемости и сохранить\n",
    "#    в переменную genre_df_sorted\n",
    "# 4) вернуть Series из 10 первых значений genre_df_sorted, это будут топ-10\n",
    "#    популярных жанров (в указанный день, в заданное время)\n",
    "\n",
    "def genre_weekday(df, day, time1, time2):\n",
    "    # последовательная фильтрация\n",
    "    # оставляем в genre_df только те строки df, у которых день равен day\n",
    "    genre_df =   df[df['day'] == day]# ваш код здесь\n",
    "    # оставляем в genre_df только те строки genre_df, у которых время меньше time2\n",
    "    genre_df = genre_df[genre_df['time'] < time2]# ваш код здесь\n",
    "    # оставляем в genre_df только те строки genre_df, у которых время больше time1\n",
    "    genre_df = genre_df[genre_df['time'] > time1]# ваш код здесь\n",
    "    # сгруппируем отфильтрованный датафрейм по столбцу с названиями жанров, возьмём столбец genre и посчитаем кол-во строк для каждого жанра методом count()\n",
    "    genre_df_grouped = genre_df.groupby('genre')['genre'].count() # ваш код здесь\n",
    "    # отсортируем результат по убыванию (чтобы в начале Series оказались самые популярные жанры)\n",
    "    genre_df_sorted = genre_df_grouped.sort_values(ascending=False)# ваш код здесь\n",
    "    # вернём Series с 10 самыми популярными жанрами в указанный отрезок времени заданного дня\n",
    "    return genre_df_sorted[:10]"
   ]
  },
  {
   "cell_type": "markdown",
   "metadata": {
    "deletable": false,
    "editable": false,
    "id": "la2s2_PF_Zcu",
    "tags": [
     "start_task"
    ]
   },
   "source": [
    "**Задание 25**\n",
    "\n",
    "\n",
    "Cравните результаты функции `genre_weekday()` для Москвы и Санкт-Петербурга в понедельник утром (с 7:00 до 11:00) и в пятницу вечером (с 17:00 до 23:00):"
   ]
  },
  {
   "cell_type": "code",
   "execution_count": 94,
   "metadata": {
    "deletable": false,
    "id": "yz7itPUQ_Zcu"
   },
   "outputs": [
    {
     "data": {
      "text/plain": [
       "genre\n",
       "pop            781\n",
       "dance          549\n",
       "electronic     480\n",
       "rock           474\n",
       "hiphop         286\n",
       "ruspop         186\n",
       "world          181\n",
       "rusrap         175\n",
       "alternative    164\n",
       "unknown        161\n",
       "Name: genre, dtype: int64"
      ]
     },
     "execution_count": 94,
     "metadata": {},
     "output_type": "execute_result"
    }
   ],
   "source": [
    "genre_weekday(moscow_general, 'Monday', '07:00', '11:00')# вызов функции для утра понедельника в Москве (вместо df — таблица moscow_general)\n",
    "# объекты, хранящие время, являются строками и сравниваются как строки\n",
    "# пример вызова: genre_weekday(moscow_general, 'Monday', '07:00', '11:00')"
   ]
  },
  {
   "cell_type": "code",
   "execution_count": 102,
   "metadata": {
    "deletable": false,
    "id": "kwUcHPdy_Zcu"
   },
   "outputs": [
    {
     "data": {
      "text/plain": [
       "genre\n",
       "pop            218\n",
       "dance          182\n",
       "rock           162\n",
       "electronic     147\n",
       "hiphop          80\n",
       "ruspop          64\n",
       "alternative     58\n",
       "rusrap          55\n",
       "jazz            44\n",
       "classical       40\n",
       "Name: genre, dtype: int64"
      ]
     },
     "execution_count": 102,
     "metadata": {},
     "output_type": "execute_result"
    }
   ],
   "source": [
    "genre_weekday(spb_general, 'Monday', '07:00', '11:00')# вызов функции для утра понедельника в Петербурге (вместо df — таблица spb_general)"
   ]
  },
  {
   "cell_type": "code",
   "execution_count": 97,
   "metadata": {
    "deletable": false,
    "id": "EzXVRE1o_Zcu"
   },
   "outputs": [
    {
     "data": {
      "text/plain": [
       "genre\n",
       "pop            713\n",
       "rock           517\n",
       "dance          495\n",
       "electronic     482\n",
       "hiphop         273\n",
       "world          208\n",
       "ruspop         170\n",
       "alternative    163\n",
       "classical      163\n",
       "rusrap         142\n",
       "Name: genre, dtype: int64"
      ]
     },
     "execution_count": 97,
     "metadata": {},
     "output_type": "execute_result"
    }
   ],
   "source": [
    "genre_weekday(moscow_general, 'Friday', '17:00', '23:00')# вызов функции для вечера пятницы в Москве"
   ]
  },
  {
   "cell_type": "code",
   "execution_count": 101,
   "metadata": {
    "deletable": false,
    "id": "JZaEKu5v_Zcu"
   },
   "outputs": [
    {
     "data": {
      "text/plain": [
       "genre\n",
       "pop            256\n",
       "electronic     216\n",
       "rock           216\n",
       "dance          210\n",
       "hiphop          97\n",
       "alternative     63\n",
       "jazz            61\n",
       "classical       60\n",
       "rusrap          59\n",
       "world           54\n",
       "Name: genre, dtype: int64"
      ]
     },
     "execution_count": 101,
     "metadata": {},
     "output_type": "execute_result"
    }
   ],
   "source": [
    "genre_weekday(spb_general, 'Friday', '17:00', '23:00') # вызов функции для вечера пятницы в Петербурге"
   ]
  },
  {
   "cell_type": "markdown",
   "metadata": {
    "deletable": false,
    "editable": false,
    "id": "wrCe4MNX_Zcu"
   },
   "source": [
    "**Выводы**\n",
    "\n",
    "Если сравнить топ-10 жанров в понедельник утром, можно сделать такие выводы:\n",
    "\n",
    "1. В Москве и Петербурге слушают похожую музыку. Единственное отличие — в московский рейтинг вошёл жанр “world”, а в петербургский — джаз и классика.\n",
    "\n",
    "2. В Москве пропущенных значений оказалось так много, что значение `'unknown'` заняло десятое место среди самых популярных жанров. Значит, пропущенные значения занимают существенную долю в данных и угрожают достоверности исследования.\n",
    "\n",
    "Вечер пятницы не меняет эту картину. Некоторые жанры поднимаются немного выше, другие спускаются, но в целом топ-10 остаётся тем же самым.\n",
    "\n",
    "Таким образом, вторая гипотеза подтвердилась лишь частично:\n",
    "* Пользователи слушают похожую музыку в начале недели и в конце.\n",
    "* Разница между Москвой и Петербургом не слишком выражена. В Москве чаще слушают русскую популярную музыку, в Петербурге — джаз.\n",
    "\n",
    "Однако пропуски в данных ставят под сомнение этот результат. В Москве их так много, что рейтинг топ-10 мог бы выглядеть иначе, если бы не утерянные  данные о жанрах."
   ]
  },
  {
   "cell_type": "markdown",
   "metadata": {
    "deletable": false,
    "editable": false,
    "id": "JolODAqr_Zcu"
   },
   "source": [
    "### Жанровые предпочтения в Москве и Петербурге\n",
    "\n",
    "Гипотеза: Петербург — столица рэпа, музыку этого жанра там слушают чаще, чем в Москве.  А Москва — город контрастов, в котором, тем не менее, преобладает поп-музыка."
   ]
  },
  {
   "cell_type": "markdown",
   "metadata": {
    "deletable": false,
    "editable": false,
    "id": "DlegSvaT_Zcu",
    "tags": [
     "start_task"
    ]
   },
   "source": [
    "**Задание 26**\n",
    "\n",
    "Сгруппируйте таблицу `moscow_general` по жанру и посчитайте прослушивания треков каждого жанра методом `count()`. Затем отсортируйте результат в порядке убывания и сохраните его в таблице `moscow_genres`."
   ]
  },
  {
   "cell_type": "code",
   "execution_count": 108,
   "metadata": {
    "deletable": false,
    "id": "r19lIPke_Zcu"
   },
   "outputs": [],
   "source": [
    "moscow_genres = moscow_general.groupby('genre')['genre'].count().sort_values(ascending=False) # одной строкой: группировка таблицы moscow_general по столбцу 'genre', \n",
    "# подсчёт числа значений 'genre' в этой группировке методом count(), \n",
    "# сортировка получившегося Series в порядке убывания и сохранение в moscow_genres"
   ]
  },
  {
   "cell_type": "markdown",
   "metadata": {
    "deletable": false,
    "editable": false,
    "id": "6kMuomxTiIr8",
    "tags": [
     "start_task"
    ]
   },
   "source": [
    "**Задание 27**\n",
    "\n",
    "Выведите на экран первые десять строк `moscow_genres`:"
   ]
  },
  {
   "cell_type": "code",
   "execution_count": 109,
   "metadata": {
    "deletable": false,
    "id": "WhCSooF8_Zcv"
   },
   "outputs": [
    {
     "data": {
      "text/plain": [
       "genre\n",
       "pop            5892\n",
       "dance          4435\n",
       "rock           3965\n",
       "electronic     3786\n",
       "hiphop         2096\n",
       "classical      1616\n",
       "world          1432\n",
       "alternative    1379\n",
       "ruspop         1372\n",
       "rusrap         1161\n",
       "Name: genre, dtype: int64"
      ]
     },
     "execution_count": 109,
     "metadata": {},
     "output_type": "execute_result"
    }
   ],
   "source": [
    "moscow_genres.head(10)# просмотр первых 10 строк moscow_genres"
   ]
  },
  {
   "cell_type": "markdown",
   "metadata": {
    "deletable": false,
    "editable": false,
    "id": "cnPG2vnN_Zcv",
    "tags": [
     "start_task"
    ]
   },
   "source": [
    "**Задание 28**\n",
    "\n",
    "\n",
    "Теперь повторите то же и для Петербурга.\n",
    "\n",
    "Сгруппируйте таблицу `spb_general` по жанру. Посчитайте прослушивания треков каждого жанра. Результат отсортируйте в порядке убывания и сохраните в таблице `spb_genres`:\n"
   ]
  },
  {
   "cell_type": "code",
   "execution_count": 112,
   "metadata": {
    "deletable": false,
    "id": "gluLIpE7_Zcv"
   },
   "outputs": [],
   "source": [
    "spb_genres = spb_general.groupby('genre')['genre'].count().sort_values(ascending=False)\n",
    "# одной строкой: группировка таблицы spb_general по столбцу 'genre', \n",
    "# подсчёт числа значений 'genre' в этой группировке методом count(), \n",
    "# сортировка получившегося Series в порядке убывания и сохранение в spb_genres"
   ]
  },
  {
   "cell_type": "markdown",
   "metadata": {
    "deletable": false,
    "editable": false,
    "id": "5Doha_ODgyQ8",
    "tags": [
     "start_task"
    ]
   },
   "source": [
    "**Задание 29**\n",
    "\n",
    "Выведите на экран первые десять строк `spb_genres`:"
   ]
  },
  {
   "cell_type": "code",
   "execution_count": 114,
   "metadata": {
    "deletable": false,
    "id": "uaGJHjVU_Zcv"
   },
   "outputs": [
    {
     "name": "stdout",
     "output_type": "stream",
     "text": [
      "genre\n",
      "pop            2431\n",
      "dance          1932\n",
      "rock           1879\n",
      "electronic     1736\n",
      "hiphop          960\n",
      "alternative     649\n",
      "classical       646\n",
      "rusrap          564\n",
      "ruspop          538\n",
      "world           515\n",
      "Name: genre, dtype: int64\n"
     ]
    }
   ],
   "source": [
    "print (spb_genres.head(10))# просмотр первых 10 строк spb_genres"
   ]
  },
  {
   "cell_type": "markdown",
   "metadata": {
    "deletable": false,
    "editable": false,
    "id": "RY51YJYu_Zcv"
   },
   "source": [
    "**Выводы**"
   ]
  },
  {
   "cell_type": "markdown",
   "metadata": {
    "deletable": false,
    "editable": false,
    "id": "nVhnJEm__Zcv"
   },
   "source": [
    "Гипотеза частично подтвердилась:\n",
    "* Поп-музыка — самый популярный жанр в Москве, как и предполагала гипотеза. Более того, в топ-10 жанров встречается близкий жанр — русская популярная музыка.\n",
    "* Вопреки ожиданиям, рэп одинаково популярен в Москве и Петербурге. \n"
   ]
  },
  {
   "cell_type": "markdown",
   "metadata": {
    "deletable": false,
    "editable": false,
    "id": "ykKQ0N65_Zcv"
   },
   "source": [
    "## Итоги исследования"
   ]
  },
  {
   "cell_type": "markdown",
   "metadata": {
    "deletable": false,
    "editable": false,
    "id": "tjUwbHb3_Zcv"
   },
   "source": [
    "Вы проверили три гипотезы и установили:\n",
    "\n",
    "1. День недели по-разному влияет на активность пользователей в Москве и Петербурге. \n",
    "\n",
    "Первая гипотеза полностью подтвердилась.\n",
    "\n",
    "2. Музыкальные предпочтения не сильно меняются в течение недели — будь то Москва или Петербург. Небольшие различия заметны в начале недели, по понедельникам:\n",
    "* в Москве слушают музыку жанра “world”,\n",
    "* в Петербурге — джаз и классику.\n",
    "\n",
    "Таким образом, вторая гипотеза подтвердилась лишь отчасти. Этот результат мог оказаться иным, если бы не пропуски в данных.\n",
    "\n",
    "3. Во вкусах пользователей Москвы и Петербурга больше общего чем различий. Вопреки ожиданиям, предпочтения жанров в Петербурге напоминают московские.\n",
    "\n",
    "Третья гипотеза не подтвердилась. Если различия в предпочтениях и существуют, на основной массе пользователей они незаметны.\n",
    "\n",
    "**На практике исследования содержат проверки статистических гипотез.**\n",
    "Из данных одного сервиса не всегда можно сделать вывод о всех жителях города.\n",
    "Проверки статистических гипотез покажут, насколько они достоверны, исходя из имеющихся данных. \n",
    "С методами проверок гипотез вы ещё познакомитесь в следующих темах."
   ]
  }
 ],
 "metadata": {
  "ExecuteTimeLog": [
   {
    "duration": 403,
    "start_time": "2023-01-26T22:27:32.744Z"
   },
   {
    "duration": 3,
    "start_time": "2023-01-26T22:28:11.764Z"
   },
   {
    "duration": 3,
    "start_time": "2023-01-26T22:28:33.909Z"
   },
   {
    "duration": 53,
    "start_time": "2023-01-29T11:06:38.421Z"
   },
   {
    "duration": 7,
    "start_time": "2023-01-29T11:07:11.267Z"
   },
   {
    "duration": 849,
    "start_time": "2023-01-29T11:07:46.568Z"
   },
   {
    "duration": 176,
    "start_time": "2023-01-29T11:07:55.767Z"
   },
   {
    "duration": 176,
    "start_time": "2023-01-29T11:08:06.777Z"
   },
   {
    "duration": 170,
    "start_time": "2023-01-29T11:09:28.296Z"
   },
   {
    "duration": 162,
    "start_time": "2023-01-29T11:09:41.318Z"
   },
   {
    "duration": 2,
    "start_time": "2023-01-29T11:09:45.752Z"
   },
   {
    "duration": 8,
    "start_time": "2023-01-29T11:10:57.624Z"
   },
   {
    "duration": 159,
    "start_time": "2023-01-29T11:11:04.419Z"
   },
   {
    "duration": 172,
    "start_time": "2023-01-29T11:11:13.542Z"
   },
   {
    "duration": 167,
    "start_time": "2023-01-29T11:11:16.529Z"
   },
   {
    "duration": 191,
    "start_time": "2023-01-29T11:46:23.660Z"
   },
   {
    "duration": 194,
    "start_time": "2023-01-29T11:46:27.493Z"
   },
   {
    "duration": 186,
    "start_time": "2023-01-29T11:46:36.933Z"
   },
   {
    "duration": 28,
    "start_time": "2023-01-29T11:49:54.040Z"
   },
   {
    "duration": 7,
    "start_time": "2023-01-29T11:51:14.034Z"
   },
   {
    "duration": 7,
    "start_time": "2023-01-29T11:51:24.002Z"
   },
   {
    "duration": 37,
    "start_time": "2023-01-29T11:51:43.629Z"
   },
   {
    "duration": 72,
    "start_time": "2023-01-29T11:55:22.829Z"
   },
   {
    "duration": 44,
    "start_time": "2023-01-29T16:12:33.496Z"
   },
   {
    "duration": 5,
    "start_time": "2023-01-29T16:13:09.594Z"
   },
   {
    "duration": 5,
    "start_time": "2023-01-29T16:13:51.549Z"
   },
   {
    "duration": 805,
    "start_time": "2023-01-29T16:17:31.103Z"
   },
   {
    "duration": 26,
    "start_time": "2023-01-29T16:20:22.056Z"
   },
   {
    "duration": 161,
    "start_time": "2023-01-29T16:24:59.499Z"
   },
   {
    "duration": 161,
    "start_time": "2023-01-29T16:25:26.111Z"
   },
   {
    "duration": 157,
    "start_time": "2023-01-29T16:26:20.026Z"
   },
   {
    "duration": 72,
    "start_time": "2023-01-29T16:31:05.178Z"
   },
   {
    "duration": 4,
    "start_time": "2023-01-29T16:31:40.537Z"
   },
   {
    "duration": 170,
    "start_time": "2023-01-29T16:31:50.914Z"
   },
   {
    "duration": 164,
    "start_time": "2023-01-29T16:32:16.791Z"
   },
   {
    "duration": 157,
    "start_time": "2023-01-29T16:32:24.134Z"
   },
   {
    "duration": 5,
    "start_time": "2023-01-29T16:33:09.857Z"
   },
   {
    "duration": 32,
    "start_time": "2023-01-29T16:34:33.037Z"
   },
   {
    "duration": 25,
    "start_time": "2023-01-29T16:35:00.143Z"
   },
   {
    "duration": 9,
    "start_time": "2023-01-29T16:41:02.699Z"
   },
   {
    "duration": 62,
    "start_time": "2023-01-29T16:41:20.400Z"
   },
   {
    "duration": 8,
    "start_time": "2023-01-29T16:42:17.763Z"
   },
   {
    "duration": 76,
    "start_time": "2023-01-29T16:42:33.970Z"
   },
   {
    "duration": 58,
    "start_time": "2023-01-29T16:43:14.361Z"
   },
   {
    "duration": 3,
    "start_time": "2023-01-29T16:49:17.465Z"
   },
   {
    "duration": 2,
    "start_time": "2023-01-29T16:49:21.466Z"
   },
   {
    "duration": 3,
    "start_time": "2023-01-29T16:50:13.191Z"
   },
   {
    "duration": 3,
    "start_time": "2023-01-29T16:50:43.041Z"
   },
   {
    "duration": 3,
    "start_time": "2023-01-29T16:51:48.769Z"
   },
   {
    "duration": 3,
    "start_time": "2023-01-29T16:57:45.851Z"
   },
   {
    "duration": 16,
    "start_time": "2023-01-29T16:59:27.757Z"
   },
   {
    "duration": 73,
    "start_time": "2023-01-29T17:04:00.960Z"
   },
   {
    "duration": 55,
    "start_time": "2023-01-29T17:04:13.868Z"
   },
   {
    "duration": 7,
    "start_time": "2023-01-29T17:04:50.411Z"
   },
   {
    "duration": 88,
    "start_time": "2023-01-29T17:05:09.577Z"
   },
   {
    "duration": 79,
    "start_time": "2023-01-29T17:07:32.708Z"
   },
   {
    "duration": 70,
    "start_time": "2023-01-29T17:08:39.823Z"
   },
   {
    "duration": 79,
    "start_time": "2023-01-29T17:09:06.380Z"
   },
   {
    "duration": 8,
    "start_time": "2023-01-29T18:56:56.316Z"
   },
   {
    "duration": 9,
    "start_time": "2023-01-29T19:01:42.057Z"
   },
   {
    "duration": 8,
    "start_time": "2023-01-29T19:02:31.659Z"
   },
   {
    "duration": 9,
    "start_time": "2023-01-29T19:03:53.179Z"
   },
   {
    "duration": 10,
    "start_time": "2023-01-29T19:04:16.658Z"
   },
   {
    "duration": 49,
    "start_time": "2023-01-29T19:04:38.757Z"
   },
   {
    "duration": 58,
    "start_time": "2023-01-29T19:05:26.070Z"
   },
   {
    "duration": 9,
    "start_time": "2023-01-29T19:07:54.863Z"
   },
   {
    "duration": 10,
    "start_time": "2023-01-29T19:08:42.296Z"
   },
   {
    "duration": 9,
    "start_time": "2023-01-29T19:09:22.943Z"
   },
   {
    "duration": 16,
    "start_time": "2023-01-29T19:09:46.648Z"
   },
   {
    "duration": 15,
    "start_time": "2023-01-29T19:10:32.748Z"
   },
   {
    "duration": 7,
    "start_time": "2023-01-29T19:11:17.947Z"
   },
   {
    "duration": 46,
    "start_time": "2023-01-29T19:12:14.967Z"
   },
   {
    "duration": 36,
    "start_time": "2023-01-29T19:14:56.423Z"
   },
   {
    "duration": 40,
    "start_time": "2023-01-29T19:15:27.113Z"
   },
   {
    "duration": 51,
    "start_time": "2023-01-29T19:16:04.206Z"
   },
   {
    "duration": 59,
    "start_time": "2023-01-29T19:17:14.774Z"
   },
   {
    "duration": 8,
    "start_time": "2023-01-29T19:17:58.706Z"
   },
   {
    "duration": 8,
    "start_time": "2023-01-29T19:18:50.105Z"
   },
   {
    "duration": 6,
    "start_time": "2023-01-29T19:18:57.225Z"
   },
   {
    "duration": 7,
    "start_time": "2023-01-29T19:19:16.086Z"
   },
   {
    "duration": 6,
    "start_time": "2023-01-29T19:19:45.333Z"
   },
   {
    "duration": 6,
    "start_time": "2023-01-29T19:19:56.766Z"
   },
   {
    "duration": 7,
    "start_time": "2023-01-29T19:23:32.972Z"
   },
   {
    "duration": 6,
    "start_time": "2023-01-29T19:23:42.356Z"
   },
   {
    "duration": 7,
    "start_time": "2023-01-29T19:24:57.372Z"
   },
   {
    "duration": 8,
    "start_time": "2023-01-29T19:26:57.931Z"
   },
   {
    "duration": 68,
    "start_time": "2023-01-29T19:27:15.264Z"
   },
   {
    "duration": 89,
    "start_time": "2023-01-29T19:27:37.872Z"
   },
   {
    "duration": 9,
    "start_time": "2023-01-29T19:27:47.597Z"
   },
   {
    "duration": 8,
    "start_time": "2023-01-29T19:28:03.823Z"
   },
   {
    "duration": 9,
    "start_time": "2023-01-29T19:51:09.430Z"
   },
   {
    "duration": 9,
    "start_time": "2023-01-29T19:51:34.979Z"
   },
   {
    "duration": 71,
    "start_time": "2023-01-29T19:58:58.090Z"
   },
   {
    "duration": 7,
    "start_time": "2023-01-29T19:59:05.838Z"
   },
   {
    "duration": 7,
    "start_time": "2023-01-29T19:59:19.990Z"
   },
   {
    "duration": 7,
    "start_time": "2023-01-29T20:00:39.298Z"
   },
   {
    "duration": 7,
    "start_time": "2023-01-29T20:00:51.790Z"
   },
   {
    "duration": 7,
    "start_time": "2023-01-29T20:03:54.918Z"
   },
   {
    "duration": 8,
    "start_time": "2023-01-29T20:05:09.598Z"
   },
   {
    "duration": 7,
    "start_time": "2023-01-29T20:06:44.055Z"
   },
   {
    "duration": 7,
    "start_time": "2023-01-29T20:09:39.988Z"
   },
   {
    "duration": 8,
    "start_time": "2023-01-29T20:10:18.428Z"
   },
   {
    "duration": 7,
    "start_time": "2023-01-29T20:11:59.068Z"
   },
   {
    "duration": 6,
    "start_time": "2023-01-29T20:13:16.404Z"
   },
   {
    "duration": 7,
    "start_time": "2023-01-29T20:13:29.616Z"
   },
   {
    "duration": 8,
    "start_time": "2023-01-29T20:14:05.608Z"
   },
   {
    "duration": 7,
    "start_time": "2023-01-29T20:16:01.107Z"
   },
   {
    "duration": 7,
    "start_time": "2023-01-29T20:16:57.115Z"
   },
   {
    "duration": 7,
    "start_time": "2023-01-29T20:17:45.166Z"
   },
   {
    "duration": 7,
    "start_time": "2023-01-29T20:20:57.613Z"
   },
   {
    "duration": 6,
    "start_time": "2023-01-29T20:21:27.179Z"
   },
   {
    "duration": 7,
    "start_time": "2023-01-29T20:25:08.705Z"
   },
   {
    "duration": 7,
    "start_time": "2023-01-29T20:25:42.591Z"
   },
   {
    "duration": 7,
    "start_time": "2023-01-29T20:29:16.076Z"
   },
   {
    "duration": 7,
    "start_time": "2023-01-29T20:29:43.079Z"
   },
   {
    "duration": 6,
    "start_time": "2023-01-29T20:33:33.384Z"
   },
   {
    "duration": 7,
    "start_time": "2023-01-29T20:39:11.569Z"
   },
   {
    "duration": 6,
    "start_time": "2023-01-29T20:43:28.800Z"
   },
   {
    "duration": 6,
    "start_time": "2023-01-29T20:44:59.221Z"
   },
   {
    "duration": 46,
    "start_time": "2023-01-29T20:52:44.921Z"
   },
   {
    "duration": 6,
    "start_time": "2023-01-29T20:53:10.451Z"
   },
   {
    "duration": 6,
    "start_time": "2023-01-29T20:53:25.861Z"
   },
   {
    "duration": 6,
    "start_time": "2023-01-29T20:54:09.754Z"
   },
   {
    "duration": 5,
    "start_time": "2023-01-29T20:54:25.365Z"
   },
   {
    "duration": 583,
    "start_time": "2023-01-29T20:55:02.134Z"
   },
   {
    "duration": 9,
    "start_time": "2023-01-29T20:55:56.022Z"
   },
   {
    "duration": 9,
    "start_time": "2023-01-29T21:01:43.334Z"
   },
   {
    "duration": 10,
    "start_time": "2023-01-29T21:02:01.994Z"
   },
   {
    "duration": 11,
    "start_time": "2023-01-29T21:02:10.128Z"
   },
   {
    "duration": 9,
    "start_time": "2023-01-29T21:02:16.319Z"
   },
   {
    "duration": 9,
    "start_time": "2023-01-29T21:09:15.360Z"
   },
   {
    "duration": 9,
    "start_time": "2023-01-29T21:09:19.240Z"
   },
   {
    "duration": 24,
    "start_time": "2023-01-29T21:13:09.367Z"
   },
   {
    "duration": 18,
    "start_time": "2023-01-29T21:14:53.479Z"
   },
   {
    "duration": 18,
    "start_time": "2023-01-29T21:15:12.713Z"
   },
   {
    "duration": 10,
    "start_time": "2023-01-29T21:15:29.635Z"
   },
   {
    "duration": 26,
    "start_time": "2023-01-29T21:21:29.672Z"
   },
   {
    "duration": 10,
    "start_time": "2023-01-29T21:21:38.226Z"
   },
   {
    "duration": 9,
    "start_time": "2023-01-29T21:30:08.409Z"
   },
   {
    "duration": 9,
    "start_time": "2023-01-29T21:31:17.013Z"
   },
   {
    "duration": 8,
    "start_time": "2023-01-29T21:31:33.038Z"
   },
   {
    "duration": 18,
    "start_time": "2023-01-29T21:32:24.738Z"
   },
   {
    "duration": 10,
    "start_time": "2023-01-29T21:37:23.374Z"
   },
   {
    "duration": 11,
    "start_time": "2023-01-29T21:39:56.365Z"
   },
   {
    "duration": 10,
    "start_time": "2023-01-29T21:40:54.365Z"
   },
   {
    "duration": 10,
    "start_time": "2023-01-29T21:44:27.841Z"
   },
   {
    "duration": 39,
    "start_time": "2023-01-29T21:44:58.208Z"
   },
   {
    "duration": 6,
    "start_time": "2023-01-29T21:45:03.311Z"
   },
   {
    "duration": 8,
    "start_time": "2023-01-29T21:45:24.458Z"
   },
   {
    "duration": 147,
    "start_time": "2023-01-29T21:45:46.310Z"
   },
   {
    "duration": 168,
    "start_time": "2023-01-29T21:45:51.857Z"
   },
   {
    "duration": 161,
    "start_time": "2023-01-29T21:45:56.090Z"
   },
   {
    "duration": 4,
    "start_time": "2023-01-29T21:46:02.987Z"
   },
   {
    "duration": 25,
    "start_time": "2023-01-29T21:46:08.465Z"
   },
   {
    "duration": 17,
    "start_time": "2023-01-29T21:46:42.224Z"
   },
   {
    "duration": 25,
    "start_time": "2023-01-29T21:46:48.308Z"
   },
   {
    "duration": 59,
    "start_time": "2023-01-29T21:46:55.851Z"
   },
   {
    "duration": 58,
    "start_time": "2023-01-29T21:46:59.683Z"
   },
   {
    "duration": 54,
    "start_time": "2023-01-29T21:47:04.794Z"
   },
   {
    "duration": 45,
    "start_time": "2023-01-29T21:47:11.533Z"
   },
   {
    "duration": 7,
    "start_time": "2023-01-29T21:47:17.835Z"
   },
   {
    "duration": 7,
    "start_time": "2023-01-29T21:47:32.725Z"
   },
   {
    "duration": 8,
    "start_time": "2023-01-29T21:47:43.371Z"
   },
   {
    "duration": 6,
    "start_time": "2023-01-29T21:47:52.015Z"
   },
   {
    "duration": 7,
    "start_time": "2023-01-29T21:48:03.035Z"
   },
   {
    "duration": 151,
    "start_time": "2023-01-29T21:48:24.835Z"
   },
   {
    "duration": 174,
    "start_time": "2023-01-29T21:48:30.343Z"
   },
   {
    "duration": 4,
    "start_time": "2023-01-29T21:48:33.678Z"
   },
   {
    "duration": 24,
    "start_time": "2023-01-29T21:48:38.572Z"
   },
   {
    "duration": 17,
    "start_time": "2023-01-29T21:48:43.919Z"
   },
   {
    "duration": 23,
    "start_time": "2023-01-29T21:48:47.899Z"
   },
   {
    "duration": 57,
    "start_time": "2023-01-29T21:48:53.717Z"
   },
   {
    "duration": 62,
    "start_time": "2023-01-29T21:49:01.547Z"
   },
   {
    "duration": 50,
    "start_time": "2023-01-29T21:49:11.916Z"
   },
   {
    "duration": 42,
    "start_time": "2023-01-29T21:49:18.215Z"
   },
   {
    "duration": 7,
    "start_time": "2023-01-29T21:49:23.263Z"
   },
   {
    "duration": 7,
    "start_time": "2023-01-29T21:50:08.144Z"
   },
   {
    "duration": 6,
    "start_time": "2023-01-29T21:50:32.256Z"
   },
   {
    "duration": 6,
    "start_time": "2023-01-29T21:52:22.965Z"
   },
   {
    "duration": 6,
    "start_time": "2023-01-29T21:52:39.164Z"
   },
   {
    "duration": 152,
    "start_time": "2023-01-29T21:54:51.070Z"
   },
   {
    "duration": 156,
    "start_time": "2023-01-29T21:54:57.017Z"
   },
   {
    "duration": 4,
    "start_time": "2023-01-29T21:55:00.709Z"
   },
   {
    "duration": 32,
    "start_time": "2023-01-29T21:55:04.584Z"
   },
   {
    "duration": 17,
    "start_time": "2023-01-29T21:55:10.080Z"
   },
   {
    "duration": 24,
    "start_time": "2023-01-29T21:55:14.139Z"
   },
   {
    "duration": 57,
    "start_time": "2023-01-29T21:55:18.384Z"
   },
   {
    "duration": 60,
    "start_time": "2023-01-29T21:55:22.528Z"
   },
   {
    "duration": 55,
    "start_time": "2023-01-29T21:55:27.824Z"
   },
   {
    "duration": 51,
    "start_time": "2023-01-29T21:55:33.077Z"
   },
   {
    "duration": 40,
    "start_time": "2023-01-29T21:55:38.770Z"
   },
   {
    "duration": 7,
    "start_time": "2023-01-29T21:55:45.509Z"
   },
   {
    "duration": 144,
    "start_time": "2023-01-29T21:58:34.859Z"
   },
   {
    "duration": 2,
    "start_time": "2023-01-29T21:58:40.018Z"
   },
   {
    "duration": 7,
    "start_time": "2023-01-29T21:58:45.286Z"
   },
   {
    "duration": 28,
    "start_time": "2023-01-29T21:59:03.693Z"
   },
   {
    "duration": 2,
    "start_time": "2023-01-29T21:59:24.137Z"
   },
   {
    "duration": 155,
    "start_time": "2023-01-29T21:59:30.877Z"
   },
   {
    "duration": 151,
    "start_time": "2023-01-29T21:59:37.904Z"
   },
   {
    "duration": 4,
    "start_time": "2023-01-29T21:59:43.213Z"
   },
   {
    "duration": 24,
    "start_time": "2023-01-29T21:59:50.110Z"
   },
   {
    "duration": 18,
    "start_time": "2023-01-29T21:59:55.115Z"
   },
   {
    "duration": 26,
    "start_time": "2023-01-29T21:59:59.817Z"
   },
   {
    "duration": 61,
    "start_time": "2023-01-29T22:00:04.265Z"
   },
   {
    "duration": 63,
    "start_time": "2023-01-29T22:00:08.477Z"
   },
   {
    "duration": 54,
    "start_time": "2023-01-29T22:00:12.770Z"
   },
   {
    "duration": 40,
    "start_time": "2023-01-29T22:00:18.393Z"
   },
   {
    "duration": 8,
    "start_time": "2023-01-29T22:00:30.926Z"
   },
   {
    "duration": 7,
    "start_time": "2023-01-29T22:03:08.345Z"
   },
   {
    "duration": 6,
    "start_time": "2023-01-29T22:03:47.962Z"
   },
   {
    "duration": 97,
    "start_time": "2023-01-29T22:04:21.546Z"
   },
   {
    "duration": 83,
    "start_time": "2023-01-29T22:04:41.037Z"
   },
   {
    "duration": 7,
    "start_time": "2023-01-29T22:05:35.965Z"
   },
   {
    "duration": 8,
    "start_time": "2023-01-29T22:05:57.539Z"
   },
   {
    "duration": 8,
    "start_time": "2023-01-29T22:08:07.077Z"
   },
   {
    "duration": 7,
    "start_time": "2023-01-29T22:10:12.607Z"
   },
   {
    "duration": 7,
    "start_time": "2023-01-29T22:10:27.765Z"
   },
   {
    "duration": 7,
    "start_time": "2023-01-29T22:11:01.426Z"
   },
   {
    "duration": 8,
    "start_time": "2023-01-29T22:11:05.817Z"
   },
   {
    "duration": 6,
    "start_time": "2023-01-29T22:11:10.565Z"
   },
   {
    "duration": 8,
    "start_time": "2023-01-29T22:11:15.152Z"
   },
   {
    "duration": 7,
    "start_time": "2023-01-29T22:11:18.565Z"
   },
   {
    "duration": 7,
    "start_time": "2023-01-29T22:11:23.157Z"
   },
   {
    "duration": 6,
    "start_time": "2023-01-29T22:11:28.509Z"
   },
   {
    "duration": 7,
    "start_time": "2023-01-29T22:11:36.577Z"
   },
   {
    "duration": 161,
    "start_time": "2023-01-29T22:11:40.017Z"
   },
   {
    "duration": 185,
    "start_time": "2023-01-29T22:11:43.265Z"
   },
   {
    "duration": 158,
    "start_time": "2023-01-29T22:11:46.537Z"
   },
   {
    "duration": 27,
    "start_time": "2023-01-29T22:11:53.458Z"
   },
   {
    "duration": 11,
    "start_time": "2023-01-29T22:12:01.710Z"
   },
   {
    "duration": 7,
    "start_time": "2023-01-29T22:12:47.918Z"
   },
   {
    "duration": 31,
    "start_time": "2023-01-29T22:12:52.117Z"
   },
   {
    "duration": 158,
    "start_time": "2023-01-29T22:12:57.640Z"
   },
   {
    "duration": 168,
    "start_time": "2023-01-29T22:13:16.816Z"
   },
   {
    "duration": 4,
    "start_time": "2023-01-29T22:13:21.337Z"
   },
   {
    "duration": 12,
    "start_time": "2023-01-29T22:13:52.465Z"
   },
   {
    "duration": 10,
    "start_time": "2023-01-29T22:13:57.717Z"
   },
   {
    "duration": 43,
    "start_time": "2023-01-29T22:14:05.285Z"
   },
   {
    "duration": 8,
    "start_time": "2023-01-29T22:14:12.391Z"
   },
   {
    "duration": 7,
    "start_time": "2023-01-29T22:14:15.126Z"
   },
   {
    "duration": 7,
    "start_time": "2023-01-29T22:14:20.300Z"
   },
   {
    "duration": 7,
    "start_time": "2023-01-29T22:14:25.011Z"
   },
   {
    "duration": 7,
    "start_time": "2023-01-29T22:14:33.690Z"
   },
   {
    "duration": 6,
    "start_time": "2023-01-29T22:14:52.758Z"
   },
   {
    "duration": 8,
    "start_time": "2023-01-29T22:14:57.325Z"
   },
   {
    "duration": 7,
    "start_time": "2023-01-29T22:15:03.307Z"
   },
   {
    "duration": 7,
    "start_time": "2023-01-29T22:15:07.709Z"
   },
   {
    "duration": 156,
    "start_time": "2023-01-29T22:15:10.760Z"
   },
   {
    "duration": 199,
    "start_time": "2023-01-29T22:15:14.200Z"
   },
   {
    "duration": 5,
    "start_time": "2023-01-29T22:15:18.230Z"
   },
   {
    "duration": 25,
    "start_time": "2023-01-29T22:15:21.999Z"
   },
   {
    "duration": 17,
    "start_time": "2023-01-29T22:15:26.717Z"
   },
   {
    "duration": 25,
    "start_time": "2023-01-29T22:15:33.260Z"
   },
   {
    "duration": 63,
    "start_time": "2023-01-29T22:15:37.305Z"
   },
   {
    "duration": 62,
    "start_time": "2023-01-29T22:15:40.911Z"
   },
   {
    "duration": 52,
    "start_time": "2023-01-29T22:15:45.737Z"
   },
   {
    "duration": 43,
    "start_time": "2023-01-29T22:15:49.677Z"
   },
   {
    "duration": 7,
    "start_time": "2023-01-29T22:15:56.437Z"
   },
   {
    "duration": 7,
    "start_time": "2023-01-29T22:16:00.504Z"
   },
   {
    "duration": 7,
    "start_time": "2023-01-29T22:16:07.977Z"
   },
   {
    "duration": 7,
    "start_time": "2023-01-29T22:16:17.920Z"
   },
   {
    "duration": 8,
    "start_time": "2023-01-29T22:16:23.002Z"
   },
   {
    "duration": 6,
    "start_time": "2023-01-29T22:16:27.537Z"
   },
   {
    "duration": 167,
    "start_time": "2023-01-29T22:16:32.386Z"
   },
   {
    "duration": 4,
    "start_time": "2023-01-29T22:16:41.426Z"
   },
   {
    "duration": 28,
    "start_time": "2023-01-29T22:16:45.958Z"
   },
   {
    "duration": 19,
    "start_time": "2023-01-29T22:16:51.857Z"
   },
   {
    "duration": 26,
    "start_time": "2023-01-29T22:16:56.957Z"
   },
   {
    "duration": 61,
    "start_time": "2023-01-29T22:17:02.037Z"
   },
   {
    "duration": 64,
    "start_time": "2023-01-29T22:17:05.645Z"
   },
   {
    "duration": 57,
    "start_time": "2023-01-29T22:17:09.116Z"
   },
   {
    "duration": 43,
    "start_time": "2023-01-29T22:17:13.976Z"
   },
   {
    "duration": 8,
    "start_time": "2023-01-29T22:17:19.536Z"
   },
   {
    "duration": 7,
    "start_time": "2023-01-29T22:17:32.017Z"
   },
   {
    "duration": 7,
    "start_time": "2023-01-29T22:17:35.460Z"
   },
   {
    "duration": 2,
    "start_time": "2023-01-29T22:17:37.625Z"
   },
   {
    "duration": 6,
    "start_time": "2023-01-29T22:17:46.570Z"
   },
   {
    "duration": 6,
    "start_time": "2023-01-29T22:17:58.337Z"
   },
   {
    "duration": 152,
    "start_time": "2023-01-29T22:18:18.465Z"
   },
   {
    "duration": 162,
    "start_time": "2023-01-29T22:18:24.012Z"
   },
   {
    "duration": 5,
    "start_time": "2023-01-29T22:18:30.218Z"
   },
   {
    "duration": 25,
    "start_time": "2023-01-29T22:18:34.085Z"
   },
   {
    "duration": 17,
    "start_time": "2023-01-29T22:18:38.937Z"
   },
   {
    "duration": 25,
    "start_time": "2023-01-29T22:18:42.817Z"
   },
   {
    "duration": 59,
    "start_time": "2023-01-29T22:18:46.237Z"
   },
   {
    "duration": 61,
    "start_time": "2023-01-29T22:18:50.428Z"
   },
   {
    "duration": 54,
    "start_time": "2023-01-29T22:18:54.009Z"
   },
   {
    "duration": 45,
    "start_time": "2023-01-29T22:18:58.001Z"
   },
   {
    "duration": 6,
    "start_time": "2023-01-29T22:19:04.157Z"
   },
   {
    "duration": 150,
    "start_time": "2023-01-29T22:24:57.965Z"
   },
   {
    "duration": 5,
    "start_time": "2023-01-29T22:25:01.577Z"
   },
   {
    "duration": 3,
    "start_time": "2023-01-29T22:25:38.676Z"
   },
   {
    "duration": 160,
    "start_time": "2023-01-29T22:25:38.684Z"
   },
   {
    "duration": 6,
    "start_time": "2023-01-29T22:25:38.846Z"
   },
   {
    "duration": 28,
    "start_time": "2023-01-29T22:25:38.853Z"
   },
   {
    "duration": 3,
    "start_time": "2023-01-29T22:25:38.882Z"
   },
   {
    "duration": 147,
    "start_time": "2023-01-29T22:25:38.886Z"
   },
   {
    "duration": 140,
    "start_time": "2023-01-29T22:25:39.034Z"
   },
   {
    "duration": 4,
    "start_time": "2023-01-29T22:25:39.175Z"
   },
   {
    "duration": 25,
    "start_time": "2023-01-29T22:25:39.180Z"
   },
   {
    "duration": 26,
    "start_time": "2023-01-29T22:25:39.207Z"
   },
   {
    "duration": 27,
    "start_time": "2023-01-29T22:25:39.234Z"
   },
   {
    "duration": 56,
    "start_time": "2023-01-29T22:25:39.263Z"
   },
   {
    "duration": 78,
    "start_time": "2023-01-29T22:25:39.320Z"
   },
   {
    "duration": 69,
    "start_time": "2023-01-29T22:25:39.400Z"
   },
   {
    "duration": 42,
    "start_time": "2023-01-29T22:25:39.471Z"
   },
   {
    "duration": 7,
    "start_time": "2023-01-29T22:25:39.515Z"
   },
   {
    "duration": 0,
    "start_time": "2023-01-29T22:25:39.523Z"
   },
   {
    "duration": 0,
    "start_time": "2023-01-29T22:25:39.524Z"
   },
   {
    "duration": 0,
    "start_time": "2023-01-29T22:25:39.544Z"
   },
   {
    "duration": 0,
    "start_time": "2023-01-29T22:25:39.545Z"
   },
   {
    "duration": 0,
    "start_time": "2023-01-29T22:25:39.546Z"
   },
   {
    "duration": 0,
    "start_time": "2023-01-29T22:25:39.547Z"
   },
   {
    "duration": 1,
    "start_time": "2023-01-29T22:25:39.547Z"
   },
   {
    "duration": 0,
    "start_time": "2023-01-29T22:25:39.548Z"
   },
   {
    "duration": 0,
    "start_time": "2023-01-29T22:25:39.550Z"
   },
   {
    "duration": 0,
    "start_time": "2023-01-29T22:25:39.551Z"
   },
   {
    "duration": 0,
    "start_time": "2023-01-29T22:25:39.552Z"
   },
   {
    "duration": 0,
    "start_time": "2023-01-29T22:25:39.553Z"
   },
   {
    "duration": 0,
    "start_time": "2023-01-29T22:25:39.553Z"
   },
   {
    "duration": 0,
    "start_time": "2023-01-29T22:25:39.555Z"
   },
   {
    "duration": 0,
    "start_time": "2023-01-29T22:25:39.555Z"
   },
   {
    "duration": 0,
    "start_time": "2023-01-29T22:25:39.556Z"
   },
   {
    "duration": 0,
    "start_time": "2023-01-29T22:25:39.557Z"
   },
   {
    "duration": 0,
    "start_time": "2023-01-29T22:25:39.558Z"
   },
   {
    "duration": 0,
    "start_time": "2023-01-29T22:25:39.559Z"
   },
   {
    "duration": 2,
    "start_time": "2023-01-29T22:25:39.745Z"
   },
   {
    "duration": 9,
    "start_time": "2023-01-29T22:25:39.749Z"
   },
   {
    "duration": 85,
    "start_time": "2023-01-29T22:25:39.759Z"
   },
   {
    "duration": 7,
    "start_time": "2023-01-29T22:25:51.245Z"
   },
   {
    "duration": 7,
    "start_time": "2023-01-29T22:27:11.412Z"
   },
   {
    "duration": 6,
    "start_time": "2023-01-29T22:27:22.322Z"
   },
   {
    "duration": 2,
    "start_time": "2023-01-29T22:27:46.393Z"
   },
   {
    "duration": 165,
    "start_time": "2023-01-29T22:27:46.397Z"
   },
   {
    "duration": 6,
    "start_time": "2023-01-29T22:27:46.564Z"
   },
   {
    "duration": 31,
    "start_time": "2023-01-29T22:27:46.572Z"
   },
   {
    "duration": 2,
    "start_time": "2023-01-29T22:27:46.605Z"
   },
   {
    "duration": 148,
    "start_time": "2023-01-29T22:27:46.609Z"
   },
   {
    "duration": 144,
    "start_time": "2023-01-29T22:27:46.758Z"
   },
   {
    "duration": 3,
    "start_time": "2023-01-29T22:27:46.904Z"
   },
   {
    "duration": 36,
    "start_time": "2023-01-29T22:27:46.908Z"
   },
   {
    "duration": 16,
    "start_time": "2023-01-29T22:27:46.946Z"
   },
   {
    "duration": 23,
    "start_time": "2023-01-29T22:27:46.964Z"
   },
   {
    "duration": 72,
    "start_time": "2023-01-29T22:27:46.988Z"
   },
   {
    "duration": 61,
    "start_time": "2023-01-29T22:27:47.062Z"
   },
   {
    "duration": 64,
    "start_time": "2023-01-29T22:27:47.125Z"
   },
   {
    "duration": 42,
    "start_time": "2023-01-29T22:27:47.191Z"
   },
   {
    "duration": 16,
    "start_time": "2023-01-29T22:27:47.234Z"
   },
   {
    "duration": 0,
    "start_time": "2023-01-29T22:27:47.251Z"
   },
   {
    "duration": 0,
    "start_time": "2023-01-29T22:27:47.252Z"
   },
   {
    "duration": 0,
    "start_time": "2023-01-29T22:27:47.254Z"
   },
   {
    "duration": 0,
    "start_time": "2023-01-29T22:27:47.255Z"
   },
   {
    "duration": 0,
    "start_time": "2023-01-29T22:27:47.256Z"
   },
   {
    "duration": 0,
    "start_time": "2023-01-29T22:27:47.257Z"
   },
   {
    "duration": 0,
    "start_time": "2023-01-29T22:27:47.258Z"
   },
   {
    "duration": 0,
    "start_time": "2023-01-29T22:27:47.259Z"
   },
   {
    "duration": 0,
    "start_time": "2023-01-29T22:27:47.261Z"
   },
   {
    "duration": 0,
    "start_time": "2023-01-29T22:27:47.263Z"
   },
   {
    "duration": 0,
    "start_time": "2023-01-29T22:27:47.264Z"
   },
   {
    "duration": 0,
    "start_time": "2023-01-29T22:27:47.265Z"
   },
   {
    "duration": 0,
    "start_time": "2023-01-29T22:27:47.267Z"
   },
   {
    "duration": 0,
    "start_time": "2023-01-29T22:27:47.268Z"
   },
   {
    "duration": 0,
    "start_time": "2023-01-29T22:27:47.269Z"
   },
   {
    "duration": 0,
    "start_time": "2023-01-29T22:27:47.270Z"
   },
   {
    "duration": 0,
    "start_time": "2023-01-29T22:27:47.272Z"
   },
   {
    "duration": 0,
    "start_time": "2023-01-29T22:27:47.273Z"
   },
   {
    "duration": 0,
    "start_time": "2023-01-29T22:27:47.274Z"
   },
   {
    "duration": 0,
    "start_time": "2023-01-29T22:27:47.275Z"
   },
   {
    "duration": 0,
    "start_time": "2023-01-29T22:27:47.276Z"
   },
   {
    "duration": 0,
    "start_time": "2023-01-29T22:27:47.277Z"
   },
   {
    "duration": 7,
    "start_time": "2023-01-29T22:29:54.844Z"
   },
   {
    "duration": 7,
    "start_time": "2023-01-29T22:30:03.824Z"
   },
   {
    "duration": 9,
    "start_time": "2023-01-29T22:30:23.544Z"
   },
   {
    "duration": 8,
    "start_time": "2023-01-29T22:32:03.317Z"
   },
   {
    "duration": 51,
    "start_time": "2023-01-30T12:16:50.762Z"
   },
   {
    "duration": 635,
    "start_time": "2023-01-30T12:17:11.438Z"
   },
   {
    "duration": 232,
    "start_time": "2023-01-30T12:17:25.550Z"
   },
   {
    "duration": 184,
    "start_time": "2023-01-30T12:17:37.808Z"
   },
   {
    "duration": 8,
    "start_time": "2023-01-30T12:17:44.322Z"
   },
   {
    "duration": 36,
    "start_time": "2023-01-30T12:17:53.722Z"
   },
   {
    "duration": 200,
    "start_time": "2023-01-30T12:18:06.562Z"
   },
   {
    "duration": 191,
    "start_time": "2023-01-30T12:18:13.041Z"
   },
   {
    "duration": 195,
    "start_time": "2023-01-30T12:18:17.462Z"
   },
   {
    "duration": 5,
    "start_time": "2023-01-30T12:18:21.006Z"
   },
   {
    "duration": 29,
    "start_time": "2023-01-30T12:18:34.896Z"
   },
   {
    "duration": 21,
    "start_time": "2023-01-30T12:18:44.162Z"
   },
   {
    "duration": 31,
    "start_time": "2023-01-30T12:18:49.343Z"
   },
   {
    "duration": 30,
    "start_time": "2023-01-30T12:19:07.801Z"
   },
   {
    "duration": 73,
    "start_time": "2023-01-30T12:19:12.393Z"
   },
   {
    "duration": 76,
    "start_time": "2023-01-30T12:19:17.114Z"
   },
   {
    "duration": 81,
    "start_time": "2023-01-30T12:19:21.103Z"
   },
   {
    "duration": 67,
    "start_time": "2023-01-30T12:19:32.393Z"
   },
   {
    "duration": 43,
    "start_time": "2023-01-30T12:19:41.002Z"
   },
   {
    "duration": 37,
    "start_time": "2023-01-30T12:19:45.781Z"
   },
   {
    "duration": 10,
    "start_time": "2023-01-30T12:19:59.582Z"
   },
   {
    "duration": 740,
    "start_time": "2023-01-30T12:28:33.034Z"
   },
   {
    "duration": 194,
    "start_time": "2023-01-30T12:28:36.575Z"
   },
   {
    "duration": 11,
    "start_time": "2023-01-30T12:29:41.911Z"
   },
   {
    "duration": 4,
    "start_time": "2023-01-30T12:30:29.451Z"
   },
   {
    "duration": 6,
    "start_time": "2023-01-30T12:31:23.491Z"
   },
   {
    "duration": 23,
    "start_time": "2023-01-30T12:31:32.013Z"
   },
   {
    "duration": 5,
    "start_time": "2023-01-30T12:31:53.851Z"
   },
   {
    "duration": 26,
    "start_time": "2023-01-30T12:32:29.325Z"
   },
   {
    "duration": 16,
    "start_time": "2023-01-30T12:32:34.150Z"
   },
   {
    "duration": 26,
    "start_time": "2023-01-30T12:32:49.269Z"
   },
   {
    "duration": 20,
    "start_time": "2023-01-30T12:32:57.346Z"
   },
   {
    "duration": 29,
    "start_time": "2023-01-30T12:33:03.539Z"
   },
   {
    "duration": 26,
    "start_time": "2023-01-30T12:33:13.890Z"
   },
   {
    "duration": 66,
    "start_time": "2023-01-30T12:33:20.741Z"
   },
   {
    "duration": 69,
    "start_time": "2023-01-30T12:33:26.385Z"
   },
   {
    "duration": 76,
    "start_time": "2023-01-30T12:33:31.129Z"
   },
   {
    "duration": 64,
    "start_time": "2023-01-30T12:33:40.190Z"
   },
   {
    "duration": 39,
    "start_time": "2023-01-30T12:33:44.210Z"
   },
   {
    "duration": 10,
    "start_time": "2023-01-30T12:33:49.750Z"
   },
   {
    "duration": 7,
    "start_time": "2023-01-30T12:38:02.510Z"
   },
   {
    "duration": 7,
    "start_time": "2023-01-30T12:38:24.609Z"
   },
   {
    "duration": 8,
    "start_time": "2023-01-30T12:38:43.495Z"
   },
   {
    "duration": 7,
    "start_time": "2023-01-30T12:39:17.849Z"
   },
   {
    "duration": 7,
    "start_time": "2023-01-30T12:39:25.089Z"
   },
   {
    "duration": 7,
    "start_time": "2023-01-30T12:39:37.369Z"
   },
   {
    "duration": 8,
    "start_time": "2023-01-30T12:39:46.359Z"
   },
   {
    "duration": 174,
    "start_time": "2023-01-30T12:39:53.995Z"
   },
   {
    "duration": 215,
    "start_time": "2023-01-30T12:40:12.456Z"
   },
   {
    "duration": 187,
    "start_time": "2023-01-30T12:40:17.767Z"
   },
   {
    "duration": 11,
    "start_time": "2023-01-30T12:40:27.405Z"
   },
   {
    "duration": 30,
    "start_time": "2023-01-30T12:40:37.551Z"
   },
   {
    "duration": 4,
    "start_time": "2023-01-30T12:40:45.090Z"
   },
   {
    "duration": 10,
    "start_time": "2023-01-30T12:40:50.590Z"
   },
   {
    "duration": 4,
    "start_time": "2023-01-30T12:41:03.769Z"
   },
   {
    "duration": 38,
    "start_time": "2023-01-30T12:41:09.627Z"
   },
   {
    "duration": 22,
    "start_time": "2023-01-30T12:41:15.551Z"
   },
   {
    "duration": 29,
    "start_time": "2023-01-30T12:41:19.289Z"
   },
   {
    "duration": 74,
    "start_time": "2023-01-30T12:41:24.710Z"
   },
   {
    "duration": 76,
    "start_time": "2023-01-30T12:41:29.990Z"
   },
   {
    "duration": 65,
    "start_time": "2023-01-30T12:41:39.430Z"
   },
   {
    "duration": 45,
    "start_time": "2023-01-30T12:42:38.000Z"
   },
   {
    "duration": 8,
    "start_time": "2023-01-30T12:42:51.626Z"
   },
   {
    "duration": 7,
    "start_time": "2023-01-30T12:43:27.489Z"
   },
   {
    "duration": 8,
    "start_time": "2023-01-30T12:43:35.110Z"
   },
   {
    "duration": 9,
    "start_time": "2023-01-30T12:43:42.672Z"
   },
   {
    "duration": 171,
    "start_time": "2023-01-30T12:43:52.391Z"
   },
   {
    "duration": 187,
    "start_time": "2023-01-30T12:43:57.739Z"
   },
   {
    "duration": 172,
    "start_time": "2023-01-30T12:44:03.790Z"
   },
   {
    "duration": 11,
    "start_time": "2023-01-30T12:44:07.790Z"
   },
   {
    "duration": 31,
    "start_time": "2023-01-30T12:44:15.026Z"
   },
   {
    "duration": 4,
    "start_time": "2023-01-30T12:44:24.781Z"
   },
   {
    "duration": 7,
    "start_time": "2023-01-30T12:44:32.185Z"
   },
   {
    "duration": 5,
    "start_time": "2023-01-30T12:44:36.350Z"
   },
   {
    "duration": 28,
    "start_time": "2023-01-30T12:44:42.550Z"
   },
   {
    "duration": 21,
    "start_time": "2023-01-30T12:45:14.890Z"
   },
   {
    "duration": 27,
    "start_time": "2023-01-30T12:45:22.790Z"
   },
   {
    "duration": 83,
    "start_time": "2023-01-30T12:45:48.694Z"
   },
   {
    "duration": 90,
    "start_time": "2023-01-30T12:46:30.913Z"
   },
   {
    "duration": 114,
    "start_time": "2023-01-30T12:46:40.271Z"
   },
   {
    "duration": 63,
    "start_time": "2023-01-30T12:47:08.805Z"
   },
   {
    "duration": 10,
    "start_time": "2023-01-30T12:47:33.630Z"
   },
   {
    "duration": 25,
    "start_time": "2023-01-30T12:48:30.271Z"
   },
   {
    "duration": 92,
    "start_time": "2023-01-30T12:49:11.402Z"
   },
   {
    "duration": 97,
    "start_time": "2023-01-30T12:49:15.504Z"
   },
   {
    "duration": 73,
    "start_time": "2023-01-30T12:49:20.351Z"
   },
   {
    "duration": 29,
    "start_time": "2023-01-30T12:49:37.396Z"
   },
   {
    "duration": 25,
    "start_time": "2023-01-30T12:49:45.489Z"
   },
   {
    "duration": 21,
    "start_time": "2023-01-30T12:49:49.290Z"
   },
   {
    "duration": 32,
    "start_time": "2023-01-30T12:50:00.011Z"
   },
   {
    "duration": 193,
    "start_time": "2023-01-30T12:50:23.651Z"
   },
   {
    "duration": 12,
    "start_time": "2023-01-30T12:50:34.399Z"
   },
   {
    "duration": 32,
    "start_time": "2023-01-30T12:50:40.955Z"
   },
   {
    "duration": 5,
    "start_time": "2023-01-30T12:50:47.650Z"
   },
   {
    "duration": 7,
    "start_time": "2023-01-30T12:50:51.752Z"
   },
   {
    "duration": 4,
    "start_time": "2023-01-30T12:50:55.921Z"
   },
   {
    "duration": 27,
    "start_time": "2023-01-30T12:51:00.992Z"
   },
   {
    "duration": 24,
    "start_time": "2023-01-30T12:51:07.582Z"
   },
   {
    "duration": 31,
    "start_time": "2023-01-30T12:51:25.077Z"
   },
   {
    "duration": 21,
    "start_time": "2023-01-30T12:51:32.791Z"
   },
   {
    "duration": 31,
    "start_time": "2023-01-30T12:51:41.831Z"
   },
   {
    "duration": 80,
    "start_time": "2023-01-30T12:51:46.151Z"
   },
   {
    "duration": 104,
    "start_time": "2023-01-30T12:51:50.432Z"
   },
   {
    "duration": 68,
    "start_time": "2023-01-30T12:51:58.452Z"
   },
   {
    "duration": 8,
    "start_time": "2023-01-30T12:53:43.046Z"
   },
   {
    "duration": 68,
    "start_time": "2023-01-30T12:54:37.517Z"
   },
   {
    "duration": 122,
    "start_time": "2023-01-30T12:54:49.657Z"
   },
   {
    "duration": 74,
    "start_time": "2023-01-30T12:55:00.677Z"
   },
   {
    "duration": 78,
    "start_time": "2023-01-30T12:55:17.640Z"
   },
   {
    "duration": 75,
    "start_time": "2023-01-30T12:55:42.399Z"
   },
   {
    "duration": 8,
    "start_time": "2023-01-30T12:56:30.778Z"
   },
   {
    "duration": 65,
    "start_time": "2023-01-30T12:56:38.800Z"
   },
   {
    "duration": 68,
    "start_time": "2023-01-30T12:57:11.917Z"
   },
   {
    "duration": 64,
    "start_time": "2023-01-30T12:57:16.178Z"
   },
   {
    "duration": 60,
    "start_time": "2023-01-30T12:57:20.257Z"
   },
   {
    "duration": 8,
    "start_time": "2023-01-30T12:58:07.739Z"
   },
   {
    "duration": 67,
    "start_time": "2023-01-30T13:00:07.760Z"
   },
   {
    "duration": 108,
    "start_time": "2023-01-30T13:00:13.577Z"
   },
   {
    "duration": 84,
    "start_time": "2023-01-30T13:01:13.258Z"
   },
   {
    "duration": 77,
    "start_time": "2023-01-30T13:01:20.048Z"
   },
   {
    "duration": 79,
    "start_time": "2023-01-30T13:01:32.945Z"
   },
   {
    "duration": 78,
    "start_time": "2023-01-30T13:01:40.478Z"
   },
   {
    "duration": 24,
    "start_time": "2023-01-30T13:01:47.057Z"
   },
   {
    "duration": 5,
    "start_time": "2023-01-30T13:03:20.083Z"
   },
   {
    "duration": 10,
    "start_time": "2023-01-30T13:03:55.358Z"
   },
   {
    "duration": 9,
    "start_time": "2023-01-30T13:05:49.522Z"
   },
   {
    "duration": 10,
    "start_time": "2023-01-30T13:06:33.137Z"
   },
   {
    "duration": 9,
    "start_time": "2023-01-30T13:06:54.694Z"
   },
   {
    "duration": 54,
    "start_time": "2023-01-30T13:09:04.018Z"
   },
   {
    "duration": 48,
    "start_time": "2023-01-30T13:09:37.046Z"
   },
   {
    "duration": 45,
    "start_time": "2023-01-30T13:09:53.857Z"
   },
   {
    "duration": 12,
    "start_time": "2023-01-30T13:10:01.257Z"
   },
   {
    "duration": 54,
    "start_time": "2023-01-30T13:10:42.297Z"
   },
   {
    "duration": 54,
    "start_time": "2023-01-30T13:11:00.137Z"
   },
   {
    "duration": 53,
    "start_time": "2023-01-30T13:11:15.036Z"
   },
   {
    "duration": 9,
    "start_time": "2023-01-30T13:14:40.096Z"
   },
   {
    "duration": 8,
    "start_time": "2023-01-30T13:17:09.526Z"
   },
   {
    "duration": 8,
    "start_time": "2023-01-30T13:17:16.797Z"
   },
   {
    "duration": 19,
    "start_time": "2023-01-30T13:17:26.482Z"
   },
   {
    "duration": 8,
    "start_time": "2023-01-30T13:17:42.772Z"
   },
   {
    "duration": 47,
    "start_time": "2023-01-30T13:19:32.689Z"
   },
   {
    "duration": 62,
    "start_time": "2023-01-30T13:20:04.664Z"
   },
   {
    "duration": 45,
    "start_time": "2023-01-30T13:20:26.868Z"
   },
   {
    "duration": 76,
    "start_time": "2023-01-30T13:20:36.822Z"
   },
   {
    "duration": 116,
    "start_time": "2023-01-30T13:20:57.806Z"
   },
   {
    "duration": 3,
    "start_time": "2023-01-30T13:21:03.731Z"
   },
   {
    "duration": 258,
    "start_time": "2023-01-30T13:21:03.737Z"
   },
   {
    "duration": 14,
    "start_time": "2023-01-30T13:21:03.997Z"
   },
   {
    "duration": 57,
    "start_time": "2023-01-30T13:21:04.013Z"
   },
   {
    "duration": 24,
    "start_time": "2023-01-30T13:21:04.072Z"
   },
   {
    "duration": 25,
    "start_time": "2023-01-30T13:21:04.098Z"
   },
   {
    "duration": 22,
    "start_time": "2023-01-30T13:21:04.125Z"
   },
   {
    "duration": 19,
    "start_time": "2023-01-30T13:21:04.149Z"
   },
   {
    "duration": 51,
    "start_time": "2023-01-30T13:21:04.171Z"
   },
   {
    "duration": 31,
    "start_time": "2023-01-30T13:21:04.223Z"
   },
   {
    "duration": 29,
    "start_time": "2023-01-30T13:21:04.256Z"
   },
   {
    "duration": 85,
    "start_time": "2023-01-30T13:21:04.287Z"
   },
   {
    "duration": 87,
    "start_time": "2023-01-30T13:21:04.374Z"
   },
   {
    "duration": 80,
    "start_time": "2023-01-30T13:21:04.463Z"
   },
   {
    "duration": 10,
    "start_time": "2023-01-30T13:21:04.544Z"
   },
   {
    "duration": 39,
    "start_time": "2023-01-30T13:21:04.555Z"
   },
   {
    "duration": 45,
    "start_time": "2023-01-30T13:21:04.595Z"
   },
   {
    "duration": 11,
    "start_time": "2023-01-30T13:21:04.642Z"
   },
   {
    "duration": 24,
    "start_time": "2023-01-30T13:21:04.655Z"
   },
   {
    "duration": 27,
    "start_time": "2023-01-30T13:21:04.681Z"
   },
   {
    "duration": 19,
    "start_time": "2023-01-30T13:21:04.710Z"
   },
   {
    "duration": 13,
    "start_time": "2023-01-30T13:21:04.731Z"
   },
   {
    "duration": 33,
    "start_time": "2023-01-30T13:21:04.746Z"
   },
   {
    "duration": 13,
    "start_time": "2023-01-30T13:21:04.783Z"
   },
   {
    "duration": 18,
    "start_time": "2023-01-30T13:21:04.798Z"
   },
   {
    "duration": 33,
    "start_time": "2023-01-30T13:21:04.818Z"
   },
   {
    "duration": 22,
    "start_time": "2023-01-30T13:21:04.853Z"
   },
   {
    "duration": 22,
    "start_time": "2023-01-30T13:21:04.877Z"
   },
   {
    "duration": 17,
    "start_time": "2023-01-30T13:21:04.901Z"
   },
   {
    "duration": 46,
    "start_time": "2023-01-30T13:21:04.920Z"
   },
   {
    "duration": 0,
    "start_time": "2023-01-30T13:21:04.968Z"
   },
   {
    "duration": 0,
    "start_time": "2023-01-30T13:21:04.969Z"
   },
   {
    "duration": 0,
    "start_time": "2023-01-30T13:21:04.971Z"
   },
   {
    "duration": 0,
    "start_time": "2023-01-30T13:21:04.972Z"
   },
   {
    "duration": 0,
    "start_time": "2023-01-30T13:21:04.974Z"
   },
   {
    "duration": 0,
    "start_time": "2023-01-30T13:21:04.975Z"
   },
   {
    "duration": 0,
    "start_time": "2023-01-30T13:21:04.976Z"
   },
   {
    "duration": 0,
    "start_time": "2023-01-30T13:21:04.977Z"
   },
   {
    "duration": 68,
    "start_time": "2023-01-30T13:21:31.655Z"
   },
   {
    "duration": 9,
    "start_time": "2023-01-30T13:21:38.185Z"
   },
   {
    "duration": 23,
    "start_time": "2023-01-30T13:21:46.636Z"
   },
   {
    "duration": 12,
    "start_time": "2023-01-30T13:21:57.243Z"
   },
   {
    "duration": 46,
    "start_time": "2023-01-30T13:22:03.309Z"
   },
   {
    "duration": 43,
    "start_time": "2023-01-30T13:22:39.295Z"
   },
   {
    "duration": 46,
    "start_time": "2023-01-30T13:22:47.874Z"
   },
   {
    "duration": 70,
    "start_time": "2023-01-30T13:23:38.327Z"
   },
   {
    "duration": 73,
    "start_time": "2023-01-30T13:24:18.132Z"
   },
   {
    "duration": 90,
    "start_time": "2023-01-30T13:24:23.074Z"
   },
   {
    "duration": 92,
    "start_time": "2023-01-30T13:24:27.378Z"
   },
   {
    "duration": 44,
    "start_time": "2023-01-30T13:24:41.815Z"
   },
   {
    "duration": 3,
    "start_time": "2023-01-30T13:27:04.852Z"
   },
   {
    "duration": 235,
    "start_time": "2023-01-30T13:27:04.856Z"
   },
   {
    "duration": 13,
    "start_time": "2023-01-30T13:27:05.093Z"
   },
   {
    "duration": 44,
    "start_time": "2023-01-30T13:27:05.108Z"
   },
   {
    "duration": 10,
    "start_time": "2023-01-30T13:27:05.154Z"
   },
   {
    "duration": 22,
    "start_time": "2023-01-30T13:27:05.166Z"
   },
   {
    "duration": 12,
    "start_time": "2023-01-30T13:27:05.190Z"
   },
   {
    "duration": 10,
    "start_time": "2023-01-30T13:27:05.204Z"
   },
   {
    "duration": 70,
    "start_time": "2023-01-30T13:27:05.217Z"
   },
   {
    "duration": 23,
    "start_time": "2023-01-30T13:27:05.289Z"
   },
   {
    "duration": 28,
    "start_time": "2023-01-30T13:27:05.314Z"
   },
   {
    "duration": 87,
    "start_time": "2023-01-30T13:27:05.343Z"
   },
   {
    "duration": 103,
    "start_time": "2023-01-30T13:27:05.432Z"
   },
   {
    "duration": 10,
    "start_time": "2023-01-30T13:27:16.436Z"
   },
   {
    "duration": 12,
    "start_time": "2023-01-30T13:27:16.448Z"
   },
   {
    "duration": 65,
    "start_time": "2023-01-30T13:27:16.462Z"
   },
   {
    "duration": 3,
    "start_time": "2023-01-30T13:27:16.529Z"
   },
   {
    "duration": 13,
    "start_time": "2023-01-30T13:27:16.533Z"
   },
   {
    "duration": 12,
    "start_time": "2023-01-30T13:27:16.548Z"
   },
   {
    "duration": 17,
    "start_time": "2023-01-30T13:27:16.562Z"
   },
   {
    "duration": 11,
    "start_time": "2023-01-30T13:27:16.581Z"
   },
   {
    "duration": 12,
    "start_time": "2023-01-30T13:27:16.594Z"
   },
   {
    "duration": 18,
    "start_time": "2023-01-30T13:27:16.608Z"
   },
   {
    "duration": 14,
    "start_time": "2023-01-30T13:27:16.630Z"
   },
   {
    "duration": 5,
    "start_time": "2023-01-30T13:27:16.646Z"
   },
   {
    "duration": 7,
    "start_time": "2023-01-30T13:27:16.655Z"
   },
   {
    "duration": 27,
    "start_time": "2023-01-30T13:27:16.664Z"
   },
   {
    "duration": 6,
    "start_time": "2023-01-30T13:27:16.693Z"
   },
   {
    "duration": 48,
    "start_time": "2023-01-30T13:27:16.701Z"
   },
   {
    "duration": 0,
    "start_time": "2023-01-30T13:27:16.751Z"
   },
   {
    "duration": 0,
    "start_time": "2023-01-30T13:27:16.753Z"
   },
   {
    "duration": 0,
    "start_time": "2023-01-30T13:27:16.755Z"
   },
   {
    "duration": 0,
    "start_time": "2023-01-30T13:27:16.757Z"
   },
   {
    "duration": 0,
    "start_time": "2023-01-30T13:27:16.758Z"
   },
   {
    "duration": 0,
    "start_time": "2023-01-30T13:27:16.759Z"
   },
   {
    "duration": 0,
    "start_time": "2023-01-30T13:27:16.761Z"
   },
   {
    "duration": 0,
    "start_time": "2023-01-30T13:27:16.762Z"
   },
   {
    "duration": 0,
    "start_time": "2023-01-30T13:27:16.765Z"
   },
   {
    "duration": 9766,
    "start_time": "2023-01-30T13:27:37.159Z"
   },
   {
    "duration": 85,
    "start_time": "2023-01-30T13:27:55.366Z"
   },
   {
    "duration": 65,
    "start_time": "2023-01-30T13:28:45.646Z"
   },
   {
    "duration": 76,
    "start_time": "2023-01-30T13:28:56.942Z"
   },
   {
    "duration": 69,
    "start_time": "2023-01-30T13:29:05.246Z"
   },
   {
    "duration": 9,
    "start_time": "2023-01-30T13:29:19.020Z"
   },
   {
    "duration": 63,
    "start_time": "2023-01-30T13:29:28.828Z"
   },
   {
    "duration": 72,
    "start_time": "2023-01-30T13:30:14.472Z"
   },
   {
    "duration": 95,
    "start_time": "2023-01-30T13:31:07.670Z"
   },
   {
    "duration": 73,
    "start_time": "2023-01-30T13:31:20.601Z"
   },
   {
    "duration": 41,
    "start_time": "2023-01-30T13:31:39.489Z"
   },
   {
    "duration": 34,
    "start_time": "2023-01-30T13:33:40.337Z"
   },
   {
    "duration": 70,
    "start_time": "2023-01-30T13:34:33.028Z"
   },
   {
    "duration": 62,
    "start_time": "2023-01-30T13:34:37.205Z"
   },
   {
    "duration": 3,
    "start_time": "2023-01-30T13:34:53.196Z"
   },
   {
    "duration": 218,
    "start_time": "2023-01-30T13:34:53.201Z"
   },
   {
    "duration": 12,
    "start_time": "2023-01-30T13:34:53.421Z"
   },
   {
    "duration": 35,
    "start_time": "2023-01-30T13:34:53.435Z"
   },
   {
    "duration": 10,
    "start_time": "2023-01-30T13:34:53.486Z"
   },
   {
    "duration": 16,
    "start_time": "2023-01-30T13:34:53.502Z"
   },
   {
    "duration": 19,
    "start_time": "2023-01-30T13:34:53.520Z"
   },
   {
    "duration": 14,
    "start_time": "2023-01-30T13:34:53.541Z"
   },
   {
    "duration": 55,
    "start_time": "2023-01-30T13:34:53.558Z"
   },
   {
    "duration": 46,
    "start_time": "2023-01-30T13:34:53.620Z"
   },
   {
    "duration": 46,
    "start_time": "2023-01-30T13:34:53.668Z"
   },
   {
    "duration": 91,
    "start_time": "2023-01-30T13:34:53.717Z"
   },
   {
    "duration": 87,
    "start_time": "2023-01-30T13:34:53.810Z"
   },
   {
    "duration": 76,
    "start_time": "2023-01-30T13:34:53.898Z"
   },
   {
    "duration": 22,
    "start_time": "2023-01-30T13:34:53.984Z"
   },
   {
    "duration": 14,
    "start_time": "2023-01-30T13:34:54.007Z"
   },
   {
    "duration": 69,
    "start_time": "2023-01-30T13:34:54.023Z"
   },
   {
    "duration": 42,
    "start_time": "2023-01-30T13:34:54.094Z"
   },
   {
    "duration": 2,
    "start_time": "2023-01-30T13:34:54.138Z"
   },
   {
    "duration": 13,
    "start_time": "2023-01-30T13:34:54.142Z"
   },
   {
    "duration": 13,
    "start_time": "2023-01-30T13:34:54.157Z"
   },
   {
    "duration": 28,
    "start_time": "2023-01-30T13:34:54.173Z"
   },
   {
    "duration": 9,
    "start_time": "2023-01-30T13:34:54.203Z"
   },
   {
    "duration": 20,
    "start_time": "2023-01-30T13:34:54.214Z"
   },
   {
    "duration": 17,
    "start_time": "2023-01-30T13:34:54.236Z"
   },
   {
    "duration": 10,
    "start_time": "2023-01-30T13:34:54.255Z"
   },
   {
    "duration": 15,
    "start_time": "2023-01-30T13:34:54.267Z"
   },
   {
    "duration": 25,
    "start_time": "2023-01-30T13:34:54.293Z"
   },
   {
    "duration": 14,
    "start_time": "2023-01-30T13:34:54.320Z"
   },
   {
    "duration": 59,
    "start_time": "2023-01-30T13:34:54.335Z"
   },
   {
    "duration": 0,
    "start_time": "2023-01-30T13:34:54.395Z"
   },
   {
    "duration": 0,
    "start_time": "2023-01-30T13:34:54.396Z"
   },
   {
    "duration": 0,
    "start_time": "2023-01-30T13:34:54.397Z"
   },
   {
    "duration": 0,
    "start_time": "2023-01-30T13:34:54.398Z"
   },
   {
    "duration": 0,
    "start_time": "2023-01-30T13:34:54.399Z"
   },
   {
    "duration": 0,
    "start_time": "2023-01-30T13:34:54.400Z"
   },
   {
    "duration": 0,
    "start_time": "2023-01-30T13:34:54.401Z"
   },
   {
    "duration": 0,
    "start_time": "2023-01-30T13:34:54.402Z"
   },
   {
    "duration": 35,
    "start_time": "2023-01-30T13:40:41.173Z"
   },
   {
    "duration": 39,
    "start_time": "2023-01-30T13:41:05.407Z"
   },
   {
    "duration": 6,
    "start_time": "2023-01-30T13:45:12.195Z"
   },
   {
    "duration": 36,
    "start_time": "2023-01-30T13:45:35.707Z"
   },
   {
    "duration": 39,
    "start_time": "2023-01-30T13:45:43.169Z"
   },
   {
    "duration": 7,
    "start_time": "2023-01-30T15:33:06.018Z"
   },
   {
    "duration": 35,
    "start_time": "2023-01-30T15:33:32.328Z"
   },
   {
    "duration": 12,
    "start_time": "2023-01-30T15:33:54.675Z"
   },
   {
    "duration": 2,
    "start_time": "2023-01-30T15:35:35.233Z"
   },
   {
    "duration": 200,
    "start_time": "2023-01-30T15:35:35.237Z"
   },
   {
    "duration": 12,
    "start_time": "2023-01-30T15:35:35.439Z"
   },
   {
    "duration": 62,
    "start_time": "2023-01-30T15:35:35.454Z"
   },
   {
    "duration": 3,
    "start_time": "2023-01-30T15:35:35.518Z"
   },
   {
    "duration": 12,
    "start_time": "2023-01-30T15:35:35.523Z"
   },
   {
    "duration": 47,
    "start_time": "2023-01-30T15:35:35.537Z"
   },
   {
    "duration": 20,
    "start_time": "2023-01-30T15:35:35.586Z"
   },
   {
    "duration": 77,
    "start_time": "2023-01-30T15:35:35.608Z"
   },
   {
    "duration": 35,
    "start_time": "2023-01-30T15:35:35.689Z"
   },
   {
    "duration": 30,
    "start_time": "2023-01-30T15:35:35.726Z"
   },
   {
    "duration": 108,
    "start_time": "2023-01-30T15:35:35.757Z"
   },
   {
    "duration": 68,
    "start_time": "2023-01-30T15:35:35.867Z"
   },
   {
    "duration": 65,
    "start_time": "2023-01-30T15:35:35.937Z"
   },
   {
    "duration": 8,
    "start_time": "2023-01-30T15:35:36.004Z"
   },
   {
    "duration": 39,
    "start_time": "2023-01-30T15:35:36.014Z"
   },
   {
    "duration": 45,
    "start_time": "2023-01-30T15:35:36.055Z"
   },
   {
    "duration": 14,
    "start_time": "2023-01-30T15:35:36.101Z"
   },
   {
    "duration": 2,
    "start_time": "2023-01-30T15:35:36.117Z"
   },
   {
    "duration": 14,
    "start_time": "2023-01-30T15:35:36.121Z"
   },
   {
    "duration": 6,
    "start_time": "2023-01-30T15:35:36.137Z"
   },
   {
    "duration": 30,
    "start_time": "2023-01-30T15:35:36.144Z"
   },
   {
    "duration": 8,
    "start_time": "2023-01-30T15:35:36.176Z"
   },
   {
    "duration": 14,
    "start_time": "2023-01-30T15:35:36.186Z"
   },
   {
    "duration": 5,
    "start_time": "2023-01-30T15:35:36.202Z"
   },
   {
    "duration": 7,
    "start_time": "2023-01-30T15:35:36.209Z"
   },
   {
    "duration": 20,
    "start_time": "2023-01-30T15:35:36.219Z"
   },
   {
    "duration": 7,
    "start_time": "2023-01-30T15:35:36.242Z"
   },
   {
    "duration": 15,
    "start_time": "2023-01-30T15:35:36.250Z"
   },
   {
    "duration": 52,
    "start_time": "2023-01-30T15:35:36.267Z"
   },
   {
    "duration": 0,
    "start_time": "2023-01-30T15:35:36.320Z"
   },
   {
    "duration": 0,
    "start_time": "2023-01-30T15:35:36.321Z"
   },
   {
    "duration": 0,
    "start_time": "2023-01-30T15:35:36.322Z"
   },
   {
    "duration": 0,
    "start_time": "2023-01-30T15:35:36.323Z"
   },
   {
    "duration": 0,
    "start_time": "2023-01-30T15:35:36.324Z"
   },
   {
    "duration": 0,
    "start_time": "2023-01-30T15:35:36.325Z"
   },
   {
    "duration": 0,
    "start_time": "2023-01-30T15:35:36.326Z"
   },
   {
    "duration": 0,
    "start_time": "2023-01-30T15:35:36.327Z"
   },
   {
    "duration": 49,
    "start_time": "2023-01-30T19:38:23.093Z"
   },
   {
    "duration": 6,
    "start_time": "2023-01-30T19:39:38.753Z"
   },
   {
    "duration": 7,
    "start_time": "2023-01-30T19:40:34.874Z"
   },
   {
    "duration": 8,
    "start_time": "2023-01-30T19:41:04.698Z"
   },
   {
    "duration": 6,
    "start_time": "2023-01-30T19:42:13.247Z"
   },
   {
    "duration": 6,
    "start_time": "2023-01-30T19:42:27.984Z"
   },
   {
    "duration": 6,
    "start_time": "2023-01-30T19:42:44.699Z"
   },
   {
    "duration": 5,
    "start_time": "2023-01-30T19:46:22.985Z"
   },
   {
    "duration": 5,
    "start_time": "2023-01-30T19:47:03.594Z"
   },
   {
    "duration": 7,
    "start_time": "2023-01-30T19:47:34.763Z"
   },
   {
    "duration": 7,
    "start_time": "2023-01-30T19:47:43.745Z"
   },
   {
    "duration": 7,
    "start_time": "2023-01-30T19:47:51.588Z"
   },
   {
    "duration": 7,
    "start_time": "2023-01-30T19:48:06.936Z"
   },
   {
    "duration": 8,
    "start_time": "2023-01-30T19:48:39.577Z"
   },
   {
    "duration": 7,
    "start_time": "2023-01-30T19:48:52.664Z"
   },
   {
    "duration": 421,
    "start_time": "2023-01-30T19:49:05.242Z"
   },
   {
    "duration": 859,
    "start_time": "2023-01-30T19:49:05.665Z"
   },
   {
    "duration": 21,
    "start_time": "2023-01-30T19:49:06.526Z"
   },
   {
    "duration": 32,
    "start_time": "2023-01-30T19:49:06.549Z"
   },
   {
    "duration": 3,
    "start_time": "2023-01-30T19:49:06.583Z"
   },
   {
    "duration": 6,
    "start_time": "2023-01-30T19:49:06.587Z"
   },
   {
    "duration": 31,
    "start_time": "2023-01-30T19:49:06.594Z"
   },
   {
    "duration": 7,
    "start_time": "2023-01-30T19:49:06.626Z"
   },
   {
    "duration": 27,
    "start_time": "2023-01-30T19:49:06.635Z"
   },
   {
    "duration": 20,
    "start_time": "2023-01-30T19:49:06.665Z"
   },
   {
    "duration": 51,
    "start_time": "2023-01-30T19:49:06.687Z"
   },
   {
    "duration": 82,
    "start_time": "2023-01-30T19:49:06.739Z"
   },
   {
    "duration": 70,
    "start_time": "2023-01-30T19:49:06.823Z"
   },
   {
    "duration": 73,
    "start_time": "2023-01-30T19:49:06.894Z"
   },
   {
    "duration": 9,
    "start_time": "2023-01-30T19:49:06.968Z"
   },
   {
    "duration": 11,
    "start_time": "2023-01-30T19:49:06.979Z"
   },
   {
    "duration": 59,
    "start_time": "2023-01-30T19:49:06.992Z"
   },
   {
    "duration": 11,
    "start_time": "2023-01-30T19:49:07.053Z"
   },
   {
    "duration": 11,
    "start_time": "2023-01-30T19:49:07.066Z"
   },
   {
    "duration": 4,
    "start_time": "2023-01-30T19:49:07.079Z"
   },
   {
    "duration": 8,
    "start_time": "2023-01-30T19:49:07.085Z"
   },
   {
    "duration": 31,
    "start_time": "2023-01-30T19:49:07.095Z"
   },
   {
    "duration": 5,
    "start_time": "2023-01-30T19:49:07.128Z"
   },
   {
    "duration": 5,
    "start_time": "2023-01-30T19:49:07.134Z"
   },
   {
    "duration": 7,
    "start_time": "2023-01-30T19:49:07.140Z"
   },
   {
    "duration": 5,
    "start_time": "2023-01-30T19:49:07.148Z"
   },
   {
    "duration": 5,
    "start_time": "2023-01-30T19:49:07.155Z"
   },
   {
    "duration": 3,
    "start_time": "2023-01-30T19:49:07.163Z"
   },
   {
    "duration": 7,
    "start_time": "2023-01-30T19:49:07.168Z"
   },
   {
    "duration": 68,
    "start_time": "2023-01-30T19:49:07.177Z"
   },
   {
    "duration": 0,
    "start_time": "2023-01-30T19:49:07.246Z"
   },
   {
    "duration": 0,
    "start_time": "2023-01-30T19:49:07.247Z"
   },
   {
    "duration": 0,
    "start_time": "2023-01-30T19:49:07.249Z"
   },
   {
    "duration": 0,
    "start_time": "2023-01-30T19:49:07.250Z"
   },
   {
    "duration": 0,
    "start_time": "2023-01-30T19:49:07.251Z"
   },
   {
    "duration": 0,
    "start_time": "2023-01-30T19:49:07.252Z"
   },
   {
    "duration": 0,
    "start_time": "2023-01-30T19:49:07.254Z"
   },
   {
    "duration": 0,
    "start_time": "2023-01-30T19:49:07.256Z"
   },
   {
    "duration": 2,
    "start_time": "2023-01-30T20:19:09.173Z"
   },
   {
    "duration": 167,
    "start_time": "2023-01-30T20:19:09.180Z"
   },
   {
    "duration": 11,
    "start_time": "2023-01-30T20:19:09.349Z"
   },
   {
    "duration": 33,
    "start_time": "2023-01-30T20:19:09.362Z"
   },
   {
    "duration": 2,
    "start_time": "2023-01-30T20:19:09.397Z"
   },
   {
    "duration": 22,
    "start_time": "2023-01-30T20:19:09.401Z"
   },
   {
    "duration": 15,
    "start_time": "2023-01-30T20:19:09.425Z"
   },
   {
    "duration": 7,
    "start_time": "2023-01-30T20:19:09.442Z"
   },
   {
    "duration": 25,
    "start_time": "2023-01-30T20:19:09.450Z"
   },
   {
    "duration": 18,
    "start_time": "2023-01-30T20:19:09.477Z"
   },
   {
    "duration": 48,
    "start_time": "2023-01-30T20:19:09.497Z"
   },
   {
    "duration": 76,
    "start_time": "2023-01-30T20:19:09.546Z"
   },
   {
    "duration": 62,
    "start_time": "2023-01-30T20:19:09.624Z"
   },
   {
    "duration": 68,
    "start_time": "2023-01-30T20:19:09.688Z"
   },
   {
    "duration": 8,
    "start_time": "2023-01-30T20:19:09.757Z"
   },
   {
    "duration": 13,
    "start_time": "2023-01-30T20:19:09.766Z"
   },
   {
    "duration": 53,
    "start_time": "2023-01-30T20:19:09.780Z"
   },
   {
    "duration": 13,
    "start_time": "2023-01-30T20:19:09.834Z"
   },
   {
    "duration": 10,
    "start_time": "2023-01-30T20:19:09.849Z"
   },
   {
    "duration": 3,
    "start_time": "2023-01-30T20:19:09.861Z"
   },
   {
    "duration": 7,
    "start_time": "2023-01-30T20:19:09.865Z"
   },
   {
    "duration": 5,
    "start_time": "2023-01-30T20:19:09.873Z"
   },
   {
    "duration": 5,
    "start_time": "2023-01-30T20:19:09.879Z"
   },
   {
    "duration": 6,
    "start_time": "2023-01-30T20:19:09.885Z"
   },
   {
    "duration": 29,
    "start_time": "2023-01-30T20:19:09.892Z"
   },
   {
    "duration": 2,
    "start_time": "2023-01-30T20:19:09.922Z"
   },
   {
    "duration": 6,
    "start_time": "2023-01-30T20:19:09.925Z"
   },
   {
    "duration": 6,
    "start_time": "2023-01-30T20:19:09.932Z"
   },
   {
    "duration": 4,
    "start_time": "2023-01-30T20:19:09.941Z"
   },
   {
    "duration": 75,
    "start_time": "2023-01-30T20:19:09.946Z"
   },
   {
    "duration": 0,
    "start_time": "2023-01-30T20:19:10.022Z"
   },
   {
    "duration": 0,
    "start_time": "2023-01-30T20:19:10.023Z"
   },
   {
    "duration": 0,
    "start_time": "2023-01-30T20:19:10.024Z"
   },
   {
    "duration": 0,
    "start_time": "2023-01-30T20:19:10.026Z"
   },
   {
    "duration": 0,
    "start_time": "2023-01-30T20:19:10.027Z"
   },
   {
    "duration": 0,
    "start_time": "2023-01-30T20:19:10.028Z"
   },
   {
    "duration": 0,
    "start_time": "2023-01-30T20:19:10.030Z"
   },
   {
    "duration": 0,
    "start_time": "2023-01-30T20:19:10.031Z"
   },
   {
    "duration": 4,
    "start_time": "2023-01-30T20:19:27.709Z"
   },
   {
    "duration": 23,
    "start_time": "2023-01-30T20:22:52.135Z"
   },
   {
    "duration": 21,
    "start_time": "2023-01-30T20:27:47.257Z"
   },
   {
    "duration": 24,
    "start_time": "2023-01-30T20:27:51.052Z"
   },
   {
    "duration": 21,
    "start_time": "2023-01-30T20:27:55.452Z"
   },
   {
    "duration": 25,
    "start_time": "2023-01-30T20:30:01.483Z"
   },
   {
    "duration": 22,
    "start_time": "2023-01-30T20:30:08.809Z"
   },
   {
    "duration": 71,
    "start_time": "2023-01-30T20:33:51.154Z"
   },
   {
    "duration": 5,
    "start_time": "2023-01-30T20:34:44.800Z"
   },
   {
    "duration": 4,
    "start_time": "2023-01-30T20:34:50.562Z"
   },
   {
    "duration": 11,
    "start_time": "2023-01-30T20:41:48.051Z"
   },
   {
    "duration": 6,
    "start_time": "2023-01-30T20:50:39.717Z"
   },
   {
    "duration": 19,
    "start_time": "2023-01-30T20:52:45.960Z"
   },
   {
    "duration": 27,
    "start_time": "2023-01-30T20:55:48.866Z"
   },
   {
    "duration": 17,
    "start_time": "2023-01-30T20:55:56.153Z"
   },
   {
    "duration": 18,
    "start_time": "2023-01-30T20:56:00.452Z"
   },
   {
    "duration": 7,
    "start_time": "2023-01-30T20:56:24.319Z"
   },
   {
    "duration": 7,
    "start_time": "2023-01-30T20:57:10.261Z"
   },
   {
    "duration": 10,
    "start_time": "2023-01-30T20:57:29.646Z"
   },
   {
    "duration": 15,
    "start_time": "2023-01-30T20:57:35.172Z"
   },
   {
    "duration": 12,
    "start_time": "2023-01-30T20:58:26.982Z"
   },
   {
    "duration": 29,
    "start_time": "2023-01-30T21:00:41.559Z"
   },
   {
    "duration": 30,
    "start_time": "2023-01-30T21:01:34.873Z"
   },
   {
    "duration": 31,
    "start_time": "2023-01-30T21:02:38.006Z"
   },
   {
    "duration": 31,
    "start_time": "2023-01-30T21:03:11.356Z"
   },
   {
    "duration": 9,
    "start_time": "2023-01-30T21:05:48.014Z"
   },
   {
    "duration": 8,
    "start_time": "2023-01-30T21:05:52.993Z"
   },
   {
    "duration": 5,
    "start_time": "2023-01-30T21:06:32.813Z"
   },
   {
    "duration": 9,
    "start_time": "2023-01-30T21:07:05.049Z"
   },
   {
    "duration": 7,
    "start_time": "2023-01-30T21:07:13.993Z"
   },
   {
    "duration": 6,
    "start_time": "2023-01-30T21:08:24.041Z"
   },
   {
    "duration": 10,
    "start_time": "2023-01-30T21:09:33.213Z"
   },
   {
    "duration": 5,
    "start_time": "2023-01-30T21:09:39.693Z"
   }
  ],
  "colab": {
   "collapsed_sections": [
    "E0vqbgi9ay0H",
    "VUC88oWjTJw2"
   ],
   "provenance": []
  },
  "kernelspec": {
   "display_name": "Python 3 (ipykernel)",
   "language": "python",
   "name": "python3"
  },
  "language_info": {
   "codemirror_mode": {
    "name": "ipython",
    "version": 3
   },
   "file_extension": ".py",
   "mimetype": "text/x-python",
   "name": "python",
   "nbconvert_exporter": "python",
   "pygments_lexer": "ipython3",
   "version": "3.9.5"
  },
  "toc": {
   "base_numbering": 1,
   "nav_menu": {
    "height": "215px",
    "width": "403px"
   },
   "number_sections": true,
   "sideBar": true,
   "skip_h1_title": true,
   "title_cell": "Table of Contents",
   "title_sidebar": "Contents",
   "toc_cell": false,
   "toc_position": {
    "height": "calc(100% - 180px)",
    "left": "10px",
    "top": "150px",
    "width": "285.825px"
   },
   "toc_section_display": true,
   "toc_window_display": false
  }
 },
 "nbformat": 4,
 "nbformat_minor": 1
}
