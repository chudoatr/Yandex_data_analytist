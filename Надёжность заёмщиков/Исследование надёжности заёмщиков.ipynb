{
 "cells": [
  {
   "cell_type": "markdown",
   "id": "cc95dbb8",
   "metadata": {},
   "source": [
    "<div style=\"border:solid green 2px; padding: 20px\">\n",
    "    \n",
    "<b>Александр, привет!</b> Мы рады тебя видеть на территории код-ревьюеров. Ты проделал большую работу над проектом, но давай познакомимся и сделаем его еще лучше! У нас тут своя атмосфера и несколько правил:\n",
    "\n",
    "\n",
    "1. Меня зовут Александр Матвеевский. Я работаю код-ревьюером, моя основная цель — не указать на совершенные тобою ошибки, а поделиться своим опытом и помочь тебе стать аналитиком данных.\n",
    "2. Общаемся на ты.\n",
    "3. Если хочешь написать, спросить - не нужно стесняться. Только выбери свой цвет для комментария.  \n",
    "4. Это учебный проект, тут можно не бояться сделать ошибку.  \n",
    "5. У тебя неограниченное количество попыток для сдачи проекта.  \n",
    "6. Let's Go!\n",
    "\n",
    "---\n",
    "\n",
    "Я буду красить комментарии цветом, пожалуйста, не удаляй их:\n",
    "\n",
    "<div class=\"alert alert-block alert-danger\">✍\n",
    "    \n",
    "\n",
    "__Комментарий от ревьюера №1__\n",
    "\n",
    "Такой комментарий нужно исправить обязательно, он критически влияет на удачное выполнение проекта.\n",
    "</div>\n",
    "    \n",
    "---\n",
    "\n",
    "<div class=\"alert alert-block alert-warning\">📝\n",
    "    \n",
    "\n",
    "__Комментарий от ревьюера №1__\n",
    "\n",
    "\n",
    "Такой комментарий является рекомендацией или советом. Можешь использовать их на своё усмотрение.\n",
    "</div>\n",
    "\n",
    "---\n",
    "\n",
    "<div class=\"alert alert-block alert-success\">✔️\n",
    "    \n",
    "\n",
    "__Комментарий от ревьюера №1__\n",
    "\n",
    "Такой комментарий  говорит о том, что было сделано что-то качественное и правильное =)\n",
    "</div>\n",
    "    \n",
    "---\n",
    "    \n",
    "Предлагаю работать над проектом в диалоге: если ты что-то меняешь в проекте или отвечаешь на мои комментарии — пиши об этом. Мне будет легче отследить изменения, если ты выделишь свои комментарии:   \n",
    "    \n",
    "<div class=\"alert alert-info\"> <b>Комментарии студента:</b> Например, вот так.</div>\n",
    "    \n",
    "Всё это поможет выполнить повторную проверку твоего проекта оперативнее. Если будут какие-нибудь вопросы по моим комментариям, пиши, будем разбираться вместе :)    \n",
    "    \n",
    "---"
   ]
  },
  {
   "cell_type": "markdown",
   "id": "386f2ae7",
   "metadata": {
    "deletable": false,
    "editable": false,
    "id": "386f2ae7"
   },
   "source": [
    "# Исследование надежности заемщиков\n"
   ]
  },
  {
   "cell_type": "markdown",
   "id": "ffe86f65",
   "metadata": {
    "deletable": false,
    "editable": false,
    "id": "ffe86f65"
   },
   "source": [
    "Во второй части проекта вы выполните шаги 3 и 4. Их вручную проверит ревьюер.\n",
    "Чтобы вам не пришлось писать код заново для шагов 1 и 2, мы добавили авторские решения в ячейки с кодом. \n",
    "\n"
   ]
  },
  {
   "cell_type": "markdown",
   "id": "26613308",
   "metadata": {
    "deletable": false,
    "editable": false,
    "id": "26613308"
   },
   "source": [
    "## Откройте таблицу и изучите общую информацию о данных"
   ]
  },
  {
   "cell_type": "markdown",
   "id": "3c9f838e",
   "metadata": {
    "deletable": false,
    "editable": false,
    "id": "3c9f838e"
   },
   "source": [
    "**Задание 1. Импортируйте библиотеку pandas. Считайте данные из csv-файла в датафрейм и сохраните в переменную `data`. Путь к файлу:**\n",
    "\n",
    "`/datasets/data.csv`"
   ]
  },
  {
   "cell_type": "code",
   "execution_count": 1,
   "id": "77a68a90",
   "metadata": {
    "deletable": false,
    "id": "77a68a90"
   },
   "outputs": [],
   "source": [
    "import pandas as pd\n",
    "\n",
    "try:\n",
    "    data = pd.read_csv('/datasets/data.csv')\n",
    "except:\n",
    "    data = pd.read_csv('https://code.s3.yandex.net/datasets/data.csv')"
   ]
  },
  {
   "cell_type": "markdown",
   "id": "45365635",
   "metadata": {
    "deletable": false,
    "editable": false,
    "id": "45365635"
   },
   "source": [
    "**Задание 2. Выведите первые 20 строчек датафрейма `data` на экран.**"
   ]
  },
  {
   "cell_type": "code",
   "execution_count": 2,
   "id": "b0451a9a",
   "metadata": {
    "deletable": false,
    "id": "b0451a9a",
    "outputId": "1a8f3ef2-d323-4ec2-ddf7-89670b5944c4"
   },
   "outputs": [
    {
     "data": {
      "text/html": [
       "<div>\n",
       "<style scoped>\n",
       "    .dataframe tbody tr th:only-of-type {\n",
       "        vertical-align: middle;\n",
       "    }\n",
       "\n",
       "    .dataframe tbody tr th {\n",
       "        vertical-align: top;\n",
       "    }\n",
       "\n",
       "    .dataframe thead th {\n",
       "        text-align: right;\n",
       "    }\n",
       "</style>\n",
       "<table border=\"1\" class=\"dataframe\">\n",
       "  <thead>\n",
       "    <tr style=\"text-align: right;\">\n",
       "      <th></th>\n",
       "      <th>children</th>\n",
       "      <th>days_employed</th>\n",
       "      <th>dob_years</th>\n",
       "      <th>education</th>\n",
       "      <th>education_id</th>\n",
       "      <th>family_status</th>\n",
       "      <th>family_status_id</th>\n",
       "      <th>gender</th>\n",
       "      <th>income_type</th>\n",
       "      <th>debt</th>\n",
       "      <th>total_income</th>\n",
       "      <th>purpose</th>\n",
       "    </tr>\n",
       "  </thead>\n",
       "  <tbody>\n",
       "    <tr>\n",
       "      <th>0</th>\n",
       "      <td>1</td>\n",
       "      <td>-8437.673028</td>\n",
       "      <td>42</td>\n",
       "      <td>высшее</td>\n",
       "      <td>0</td>\n",
       "      <td>женат / замужем</td>\n",
       "      <td>0</td>\n",
       "      <td>F</td>\n",
       "      <td>сотрудник</td>\n",
       "      <td>0</td>\n",
       "      <td>253875.639453</td>\n",
       "      <td>покупка жилья</td>\n",
       "    </tr>\n",
       "    <tr>\n",
       "      <th>1</th>\n",
       "      <td>1</td>\n",
       "      <td>-4024.803754</td>\n",
       "      <td>36</td>\n",
       "      <td>среднее</td>\n",
       "      <td>1</td>\n",
       "      <td>женат / замужем</td>\n",
       "      <td>0</td>\n",
       "      <td>F</td>\n",
       "      <td>сотрудник</td>\n",
       "      <td>0</td>\n",
       "      <td>112080.014102</td>\n",
       "      <td>приобретение автомобиля</td>\n",
       "    </tr>\n",
       "    <tr>\n",
       "      <th>2</th>\n",
       "      <td>0</td>\n",
       "      <td>-5623.422610</td>\n",
       "      <td>33</td>\n",
       "      <td>Среднее</td>\n",
       "      <td>1</td>\n",
       "      <td>женат / замужем</td>\n",
       "      <td>0</td>\n",
       "      <td>M</td>\n",
       "      <td>сотрудник</td>\n",
       "      <td>0</td>\n",
       "      <td>145885.952297</td>\n",
       "      <td>покупка жилья</td>\n",
       "    </tr>\n",
       "    <tr>\n",
       "      <th>3</th>\n",
       "      <td>3</td>\n",
       "      <td>-4124.747207</td>\n",
       "      <td>32</td>\n",
       "      <td>среднее</td>\n",
       "      <td>1</td>\n",
       "      <td>женат / замужем</td>\n",
       "      <td>0</td>\n",
       "      <td>M</td>\n",
       "      <td>сотрудник</td>\n",
       "      <td>0</td>\n",
       "      <td>267628.550329</td>\n",
       "      <td>дополнительное образование</td>\n",
       "    </tr>\n",
       "    <tr>\n",
       "      <th>4</th>\n",
       "      <td>0</td>\n",
       "      <td>340266.072047</td>\n",
       "      <td>53</td>\n",
       "      <td>среднее</td>\n",
       "      <td>1</td>\n",
       "      <td>гражданский брак</td>\n",
       "      <td>1</td>\n",
       "      <td>F</td>\n",
       "      <td>пенсионер</td>\n",
       "      <td>0</td>\n",
       "      <td>158616.077870</td>\n",
       "      <td>сыграть свадьбу</td>\n",
       "    </tr>\n",
       "    <tr>\n",
       "      <th>5</th>\n",
       "      <td>0</td>\n",
       "      <td>-926.185831</td>\n",
       "      <td>27</td>\n",
       "      <td>высшее</td>\n",
       "      <td>0</td>\n",
       "      <td>гражданский брак</td>\n",
       "      <td>1</td>\n",
       "      <td>M</td>\n",
       "      <td>компаньон</td>\n",
       "      <td>0</td>\n",
       "      <td>255763.565419</td>\n",
       "      <td>покупка жилья</td>\n",
       "    </tr>\n",
       "    <tr>\n",
       "      <th>6</th>\n",
       "      <td>0</td>\n",
       "      <td>-2879.202052</td>\n",
       "      <td>43</td>\n",
       "      <td>высшее</td>\n",
       "      <td>0</td>\n",
       "      <td>женат / замужем</td>\n",
       "      <td>0</td>\n",
       "      <td>F</td>\n",
       "      <td>компаньон</td>\n",
       "      <td>0</td>\n",
       "      <td>240525.971920</td>\n",
       "      <td>операции с жильем</td>\n",
       "    </tr>\n",
       "    <tr>\n",
       "      <th>7</th>\n",
       "      <td>0</td>\n",
       "      <td>-152.779569</td>\n",
       "      <td>50</td>\n",
       "      <td>СРЕДНЕЕ</td>\n",
       "      <td>1</td>\n",
       "      <td>женат / замужем</td>\n",
       "      <td>0</td>\n",
       "      <td>M</td>\n",
       "      <td>сотрудник</td>\n",
       "      <td>0</td>\n",
       "      <td>135823.934197</td>\n",
       "      <td>образование</td>\n",
       "    </tr>\n",
       "    <tr>\n",
       "      <th>8</th>\n",
       "      <td>2</td>\n",
       "      <td>-6929.865299</td>\n",
       "      <td>35</td>\n",
       "      <td>ВЫСШЕЕ</td>\n",
       "      <td>0</td>\n",
       "      <td>гражданский брак</td>\n",
       "      <td>1</td>\n",
       "      <td>F</td>\n",
       "      <td>сотрудник</td>\n",
       "      <td>0</td>\n",
       "      <td>95856.832424</td>\n",
       "      <td>на проведение свадьбы</td>\n",
       "    </tr>\n",
       "    <tr>\n",
       "      <th>9</th>\n",
       "      <td>0</td>\n",
       "      <td>-2188.756445</td>\n",
       "      <td>41</td>\n",
       "      <td>среднее</td>\n",
       "      <td>1</td>\n",
       "      <td>женат / замужем</td>\n",
       "      <td>0</td>\n",
       "      <td>M</td>\n",
       "      <td>сотрудник</td>\n",
       "      <td>0</td>\n",
       "      <td>144425.938277</td>\n",
       "      <td>покупка жилья для семьи</td>\n",
       "    </tr>\n",
       "    <tr>\n",
       "      <th>10</th>\n",
       "      <td>2</td>\n",
       "      <td>-4171.483647</td>\n",
       "      <td>36</td>\n",
       "      <td>высшее</td>\n",
       "      <td>0</td>\n",
       "      <td>женат / замужем</td>\n",
       "      <td>0</td>\n",
       "      <td>M</td>\n",
       "      <td>компаньон</td>\n",
       "      <td>0</td>\n",
       "      <td>113943.491460</td>\n",
       "      <td>покупка недвижимости</td>\n",
       "    </tr>\n",
       "    <tr>\n",
       "      <th>11</th>\n",
       "      <td>0</td>\n",
       "      <td>-792.701887</td>\n",
       "      <td>40</td>\n",
       "      <td>среднее</td>\n",
       "      <td>1</td>\n",
       "      <td>женат / замужем</td>\n",
       "      <td>0</td>\n",
       "      <td>F</td>\n",
       "      <td>сотрудник</td>\n",
       "      <td>0</td>\n",
       "      <td>77069.234271</td>\n",
       "      <td>покупка коммерческой недвижимости</td>\n",
       "    </tr>\n",
       "    <tr>\n",
       "      <th>12</th>\n",
       "      <td>0</td>\n",
       "      <td>NaN</td>\n",
       "      <td>65</td>\n",
       "      <td>среднее</td>\n",
       "      <td>1</td>\n",
       "      <td>гражданский брак</td>\n",
       "      <td>1</td>\n",
       "      <td>M</td>\n",
       "      <td>пенсионер</td>\n",
       "      <td>0</td>\n",
       "      <td>NaN</td>\n",
       "      <td>сыграть свадьбу</td>\n",
       "    </tr>\n",
       "    <tr>\n",
       "      <th>13</th>\n",
       "      <td>0</td>\n",
       "      <td>-1846.641941</td>\n",
       "      <td>54</td>\n",
       "      <td>неоконченное высшее</td>\n",
       "      <td>2</td>\n",
       "      <td>женат / замужем</td>\n",
       "      <td>0</td>\n",
       "      <td>F</td>\n",
       "      <td>сотрудник</td>\n",
       "      <td>0</td>\n",
       "      <td>130458.228857</td>\n",
       "      <td>приобретение автомобиля</td>\n",
       "    </tr>\n",
       "    <tr>\n",
       "      <th>14</th>\n",
       "      <td>0</td>\n",
       "      <td>-1844.956182</td>\n",
       "      <td>56</td>\n",
       "      <td>высшее</td>\n",
       "      <td>0</td>\n",
       "      <td>гражданский брак</td>\n",
       "      <td>1</td>\n",
       "      <td>F</td>\n",
       "      <td>компаньон</td>\n",
       "      <td>1</td>\n",
       "      <td>165127.911772</td>\n",
       "      <td>покупка жилой недвижимости</td>\n",
       "    </tr>\n",
       "    <tr>\n",
       "      <th>15</th>\n",
       "      <td>1</td>\n",
       "      <td>-972.364419</td>\n",
       "      <td>26</td>\n",
       "      <td>среднее</td>\n",
       "      <td>1</td>\n",
       "      <td>женат / замужем</td>\n",
       "      <td>0</td>\n",
       "      <td>F</td>\n",
       "      <td>сотрудник</td>\n",
       "      <td>0</td>\n",
       "      <td>116820.904450</td>\n",
       "      <td>строительство собственной недвижимости</td>\n",
       "    </tr>\n",
       "    <tr>\n",
       "      <th>16</th>\n",
       "      <td>0</td>\n",
       "      <td>-1719.934226</td>\n",
       "      <td>35</td>\n",
       "      <td>среднее</td>\n",
       "      <td>1</td>\n",
       "      <td>женат / замужем</td>\n",
       "      <td>0</td>\n",
       "      <td>F</td>\n",
       "      <td>сотрудник</td>\n",
       "      <td>0</td>\n",
       "      <td>289202.704229</td>\n",
       "      <td>недвижимость</td>\n",
       "    </tr>\n",
       "    <tr>\n",
       "      <th>17</th>\n",
       "      <td>0</td>\n",
       "      <td>-2369.999720</td>\n",
       "      <td>33</td>\n",
       "      <td>высшее</td>\n",
       "      <td>0</td>\n",
       "      <td>гражданский брак</td>\n",
       "      <td>1</td>\n",
       "      <td>M</td>\n",
       "      <td>сотрудник</td>\n",
       "      <td>0</td>\n",
       "      <td>90410.586745</td>\n",
       "      <td>строительство недвижимости</td>\n",
       "    </tr>\n",
       "    <tr>\n",
       "      <th>18</th>\n",
       "      <td>0</td>\n",
       "      <td>400281.136913</td>\n",
       "      <td>53</td>\n",
       "      <td>среднее</td>\n",
       "      <td>1</td>\n",
       "      <td>вдовец / вдова</td>\n",
       "      <td>2</td>\n",
       "      <td>F</td>\n",
       "      <td>пенсионер</td>\n",
       "      <td>0</td>\n",
       "      <td>56823.777243</td>\n",
       "      <td>на покупку подержанного автомобиля</td>\n",
       "    </tr>\n",
       "    <tr>\n",
       "      <th>19</th>\n",
       "      <td>0</td>\n",
       "      <td>-10038.818549</td>\n",
       "      <td>48</td>\n",
       "      <td>СРЕДНЕЕ</td>\n",
       "      <td>1</td>\n",
       "      <td>в разводе</td>\n",
       "      <td>3</td>\n",
       "      <td>F</td>\n",
       "      <td>сотрудник</td>\n",
       "      <td>0</td>\n",
       "      <td>242831.107982</td>\n",
       "      <td>на покупку своего автомобиля</td>\n",
       "    </tr>\n",
       "  </tbody>\n",
       "</table>\n",
       "</div>"
      ],
      "text/plain": [
       "    children  days_employed  dob_years            education  education_id  \\\n",
       "0          1   -8437.673028         42               высшее             0   \n",
       "1          1   -4024.803754         36              среднее             1   \n",
       "2          0   -5623.422610         33              Среднее             1   \n",
       "3          3   -4124.747207         32              среднее             1   \n",
       "4          0  340266.072047         53              среднее             1   \n",
       "5          0    -926.185831         27               высшее             0   \n",
       "6          0   -2879.202052         43               высшее             0   \n",
       "7          0    -152.779569         50              СРЕДНЕЕ             1   \n",
       "8          2   -6929.865299         35               ВЫСШЕЕ             0   \n",
       "9          0   -2188.756445         41              среднее             1   \n",
       "10         2   -4171.483647         36               высшее             0   \n",
       "11         0    -792.701887         40              среднее             1   \n",
       "12         0            NaN         65              среднее             1   \n",
       "13         0   -1846.641941         54  неоконченное высшее             2   \n",
       "14         0   -1844.956182         56               высшее             0   \n",
       "15         1    -972.364419         26              среднее             1   \n",
       "16         0   -1719.934226         35              среднее             1   \n",
       "17         0   -2369.999720         33               высшее             0   \n",
       "18         0  400281.136913         53              среднее             1   \n",
       "19         0  -10038.818549         48              СРЕДНЕЕ             1   \n",
       "\n",
       "       family_status  family_status_id gender income_type  debt  \\\n",
       "0    женат / замужем                 0      F   сотрудник     0   \n",
       "1    женат / замужем                 0      F   сотрудник     0   \n",
       "2    женат / замужем                 0      M   сотрудник     0   \n",
       "3    женат / замужем                 0      M   сотрудник     0   \n",
       "4   гражданский брак                 1      F   пенсионер     0   \n",
       "5   гражданский брак                 1      M   компаньон     0   \n",
       "6    женат / замужем                 0      F   компаньон     0   \n",
       "7    женат / замужем                 0      M   сотрудник     0   \n",
       "8   гражданский брак                 1      F   сотрудник     0   \n",
       "9    женат / замужем                 0      M   сотрудник     0   \n",
       "10   женат / замужем                 0      M   компаньон     0   \n",
       "11   женат / замужем                 0      F   сотрудник     0   \n",
       "12  гражданский брак                 1      M   пенсионер     0   \n",
       "13   женат / замужем                 0      F   сотрудник     0   \n",
       "14  гражданский брак                 1      F   компаньон     1   \n",
       "15   женат / замужем                 0      F   сотрудник     0   \n",
       "16   женат / замужем                 0      F   сотрудник     0   \n",
       "17  гражданский брак                 1      M   сотрудник     0   \n",
       "18    вдовец / вдова                 2      F   пенсионер     0   \n",
       "19         в разводе                 3      F   сотрудник     0   \n",
       "\n",
       "     total_income                                 purpose  \n",
       "0   253875.639453                           покупка жилья  \n",
       "1   112080.014102                 приобретение автомобиля  \n",
       "2   145885.952297                           покупка жилья  \n",
       "3   267628.550329              дополнительное образование  \n",
       "4   158616.077870                         сыграть свадьбу  \n",
       "5   255763.565419                           покупка жилья  \n",
       "6   240525.971920                       операции с жильем  \n",
       "7   135823.934197                             образование  \n",
       "8    95856.832424                   на проведение свадьбы  \n",
       "9   144425.938277                 покупка жилья для семьи  \n",
       "10  113943.491460                    покупка недвижимости  \n",
       "11   77069.234271       покупка коммерческой недвижимости  \n",
       "12            NaN                         сыграть свадьбу  \n",
       "13  130458.228857                 приобретение автомобиля  \n",
       "14  165127.911772              покупка жилой недвижимости  \n",
       "15  116820.904450  строительство собственной недвижимости  \n",
       "16  289202.704229                            недвижимость  \n",
       "17   90410.586745              строительство недвижимости  \n",
       "18   56823.777243      на покупку подержанного автомобиля  \n",
       "19  242831.107982            на покупку своего автомобиля  "
      ]
     },
     "execution_count": 2,
     "metadata": {},
     "output_type": "execute_result"
    }
   ],
   "source": [
    "data.head(20)"
   ]
  },
  {
   "cell_type": "markdown",
   "id": "0ed8f27f",
   "metadata": {
    "deletable": false,
    "editable": false,
    "id": "0ed8f27f"
   },
   "source": [
    "**Задание 3. Выведите основную информацию о датафрейме с помощью метода `info()`.**"
   ]
  },
  {
   "cell_type": "code",
   "execution_count": 3,
   "id": "ab3f863b",
   "metadata": {
    "deletable": false,
    "id": "ab3f863b",
    "outputId": "15376089-8dad-46c9-b520-c05248d43158"
   },
   "outputs": [
    {
     "name": "stdout",
     "output_type": "stream",
     "text": [
      "<class 'pandas.core.frame.DataFrame'>\n",
      "RangeIndex: 21525 entries, 0 to 21524\n",
      "Data columns (total 12 columns):\n",
      " #   Column            Non-Null Count  Dtype  \n",
      "---  ------            --------------  -----  \n",
      " 0   children          21525 non-null  int64  \n",
      " 1   days_employed     19351 non-null  float64\n",
      " 2   dob_years         21525 non-null  int64  \n",
      " 3   education         21525 non-null  object \n",
      " 4   education_id      21525 non-null  int64  \n",
      " 5   family_status     21525 non-null  object \n",
      " 6   family_status_id  21525 non-null  int64  \n",
      " 7   gender            21525 non-null  object \n",
      " 8   income_type       21525 non-null  object \n",
      " 9   debt              21525 non-null  int64  \n",
      " 10  total_income      19351 non-null  float64\n",
      " 11  purpose           21525 non-null  object \n",
      "dtypes: float64(2), int64(5), object(5)\n",
      "memory usage: 2.0+ MB\n"
     ]
    }
   ],
   "source": [
    "data.info()"
   ]
  },
  {
   "cell_type": "markdown",
   "id": "60e3e22d",
   "metadata": {
    "deletable": false,
    "editable": false,
    "id": "60e3e22d"
   },
   "source": [
    "## Предобработка данных"
   ]
  },
  {
   "cell_type": "markdown",
   "id": "03dc170c",
   "metadata": {
    "deletable": false,
    "editable": false,
    "id": "03dc170c"
   },
   "source": [
    "### Удаление пропусков"
   ]
  },
  {
   "cell_type": "markdown",
   "id": "a4f54eef",
   "metadata": {
    "deletable": false,
    "editable": false,
    "id": "a4f54eef"
   },
   "source": [
    "**Задание 4. Выведите количество пропущенных значений для каждого столбца. Используйте комбинацию двух методов.**"
   ]
  },
  {
   "cell_type": "code",
   "execution_count": 4,
   "id": "2dc372b2",
   "metadata": {
    "deletable": false,
    "id": "2dc372b2",
    "outputId": "81f4d817-781c-465c-ed15-91ce4446810d"
   },
   "outputs": [
    {
     "data": {
      "text/plain": [
       "children               0\n",
       "days_employed       2174\n",
       "dob_years              0\n",
       "education              0\n",
       "education_id           0\n",
       "family_status          0\n",
       "family_status_id       0\n",
       "gender                 0\n",
       "income_type            0\n",
       "debt                   0\n",
       "total_income        2174\n",
       "purpose                0\n",
       "dtype: int64"
      ]
     },
     "execution_count": 4,
     "metadata": {},
     "output_type": "execute_result"
    }
   ],
   "source": [
    "data.isna().sum()"
   ]
  },
  {
   "cell_type": "markdown",
   "id": "14f011b1",
   "metadata": {
    "deletable": false,
    "editable": false,
    "id": "14f011b1"
   },
   "source": [
    "**Задание 5. В двух столбцах есть пропущенные значения. Один из них — `days_employed`. Пропуски в этом столбце вы обработаете на следующем этапе. Другой столбец с пропущенными значениями — `total_income` — хранит данные о доходах. На сумму дохода сильнее всего влияет тип занятости, поэтому заполнить пропуски в этом столбце нужно медианным значением по каждому типу из столбца `income_type`. Например, у человека с типом занятости `сотрудник` пропуск в столбце `total_income` должен быть заполнен медианным доходом среди всех записей с тем же типом.**"
   ]
  },
  {
   "cell_type": "code",
   "execution_count": 5,
   "id": "bdabfb6e",
   "metadata": {
    "deletable": false,
    "id": "bdabfb6e"
   },
   "outputs": [],
   "source": [
    "for t in data['income_type'].unique():\n",
    "    data.loc[(data['income_type'] == t) & (data['total_income'].isna()), 'total_income'] = \\\n",
    "    data.loc[(data['income_type'] == t), 'total_income'].median()"
   ]
  },
  {
   "cell_type": "markdown",
   "id": "5be34059",
   "metadata": {
    "deletable": false,
    "editable": false,
    "id": "5be34059"
   },
   "source": [
    "### Обработка аномальных значений"
   ]
  },
  {
   "cell_type": "markdown",
   "id": "a87606cb",
   "metadata": {
    "deletable": false,
    "editable": false,
    "id": "a87606cb"
   },
   "source": [
    "**Задание 6. В данных могут встречаться артефакты (аномалии) — значения, которые не отражают действительность и появились по какой-то ошибке. таким артефактом будет отрицательное количество дней трудового стажа в столбце `days_employed`. Для реальных данных это нормально. Обработайте значения в этом столбце: замените все отрицательные значения положительными с помощью метода `abs()`.**"
   ]
  },
  {
   "cell_type": "code",
   "execution_count": 6,
   "id": "020c46cc",
   "metadata": {
    "deletable": false,
    "id": "020c46cc"
   },
   "outputs": [],
   "source": [
    "data['days_employed'] = data['days_employed'].abs()"
   ]
  },
  {
   "cell_type": "markdown",
   "id": "45538a3a",
   "metadata": {
    "deletable": false,
    "editable": false,
    "id": "45538a3a"
   },
   "source": [
    "**Задание 7. Для каждого типа занятости выведите медианное значение трудового стажа `days_employed` в днях.**"
   ]
  },
  {
   "cell_type": "code",
   "execution_count": 7,
   "id": "cd3e6328",
   "metadata": {
    "deletable": false,
    "id": "cd3e6328",
    "outputId": "801ef80e-522b-4668-f34e-565af7432bcf"
   },
   "outputs": [
    {
     "data": {
      "text/plain": [
       "income_type\n",
       "безработный        366413.652744\n",
       "в декрете            3296.759962\n",
       "госслужащий          2689.368353\n",
       "компаньон            1547.382223\n",
       "пенсионер          365213.306266\n",
       "предприниматель       520.848083\n",
       "сотрудник            1574.202821\n",
       "студент               578.751554\n",
       "Name: days_employed, dtype: float64"
      ]
     },
     "execution_count": 7,
     "metadata": {},
     "output_type": "execute_result"
    }
   ],
   "source": [
    "data.groupby('income_type')['days_employed'].agg('median')"
   ]
  },
  {
   "cell_type": "markdown",
   "id": "90c5f058",
   "metadata": {
    "deletable": false,
    "editable": false,
    "id": "90c5f058"
   },
   "source": [
    "У двух типов (безработные и пенсионеры) получатся аномально большие значения. Исправить такие значения сложно, поэтому оставьте их как есть."
   ]
  },
  {
   "cell_type": "markdown",
   "id": "9652e50d",
   "metadata": {
    "deletable": false,
    "editable": false,
    "id": "9652e50d"
   },
   "source": [
    "**Задание 8. Выведите перечень уникальных значений столбца `children`.**"
   ]
  },
  {
   "cell_type": "code",
   "execution_count": 8,
   "id": "dbb37b8e",
   "metadata": {
    "deletable": false,
    "id": "dbb37b8e",
    "outputId": "6975b15c-7f95-4697-d16d-a0c79b657b03"
   },
   "outputs": [
    {
     "data": {
      "text/plain": [
       "array([ 1,  0,  3,  2, -1,  4, 20,  5])"
      ]
     },
     "execution_count": 8,
     "metadata": {},
     "output_type": "execute_result"
    }
   ],
   "source": [
    "data['children'].unique()"
   ]
  },
  {
   "cell_type": "markdown",
   "id": "2b8b0715",
   "metadata": {
    "deletable": false,
    "editable": false,
    "id": "2b8b0715"
   },
   "source": [
    "**Задание 9. В столбце `children` есть два аномальных значения. Удалите строки, в которых встречаются такие аномальные значения из датафрейма `data`.**"
   ]
  },
  {
   "cell_type": "code",
   "execution_count": 9,
   "id": "20009df8",
   "metadata": {
    "deletable": false,
    "id": "20009df8"
   },
   "outputs": [],
   "source": [
    "data = data[(data['children'] != -1) & (data['children'] != 20)]"
   ]
  },
  {
   "cell_type": "markdown",
   "id": "8c6ac9f1",
   "metadata": {
    "deletable": false,
    "editable": false,
    "id": "8c6ac9f1"
   },
   "source": [
    "**Задание 10. Ещё раз выведите перечень уникальных значений столбца `children`, чтобы убедиться, что артефакты удалены.**"
   ]
  },
  {
   "cell_type": "code",
   "execution_count": 10,
   "id": "07337b81",
   "metadata": {
    "deletable": false,
    "id": "07337b81",
    "outputId": "b2097101-d49d-44d9-901b-32a65c9463d1"
   },
   "outputs": [
    {
     "data": {
      "text/plain": [
       "array([1, 0, 3, 2, 4, 5])"
      ]
     },
     "execution_count": 10,
     "metadata": {},
     "output_type": "execute_result"
    }
   ],
   "source": [
    "data['children'].unique()"
   ]
  },
  {
   "cell_type": "markdown",
   "id": "ee3f52d4",
   "metadata": {
    "deletable": false,
    "editable": false,
    "id": "ee3f52d4"
   },
   "source": [
    "### Удаление пропусков (продолжение)"
   ]
  },
  {
   "cell_type": "markdown",
   "id": "a700b0e4",
   "metadata": {
    "deletable": false,
    "editable": false,
    "id": "a700b0e4"
   },
   "source": [
    "**Задание 11. Заполните пропуски в столбце `days_employed` медианными значениями по каждого типа занятости `income_type`.**"
   ]
  },
  {
   "cell_type": "code",
   "execution_count": 11,
   "id": "61946b83",
   "metadata": {
    "deletable": false,
    "id": "61946b83"
   },
   "outputs": [],
   "source": [
    "for t in data['income_type'].unique():\n",
    "    data.loc[(data['income_type'] == t) & (data['days_employed'].isna()), 'days_employed'] = \\\n",
    "    data.loc[(data['income_type'] == t), 'days_employed'].median()"
   ]
  },
  {
   "cell_type": "markdown",
   "id": "550dcd9b",
   "metadata": {
    "deletable": false,
    "editable": false,
    "id": "550dcd9b"
   },
   "source": [
    "**Задание 12. Убедитесь, что все пропуски заполнены. Проверьте себя и ещё раз выведите количество пропущенных значений для каждого столбца с помощью двух методов.**"
   ]
  },
  {
   "cell_type": "code",
   "execution_count": 12,
   "id": "937c7014",
   "metadata": {
    "deletable": false,
    "id": "937c7014",
    "outputId": "8da1e4e1-358e-4e87-98c9-f261bce0a7b2"
   },
   "outputs": [
    {
     "data": {
      "text/plain": [
       "children            0\n",
       "days_employed       0\n",
       "dob_years           0\n",
       "education           0\n",
       "education_id        0\n",
       "family_status       0\n",
       "family_status_id    0\n",
       "gender              0\n",
       "income_type         0\n",
       "debt                0\n",
       "total_income        0\n",
       "purpose             0\n",
       "dtype: int64"
      ]
     },
     "execution_count": 12,
     "metadata": {},
     "output_type": "execute_result"
    }
   ],
   "source": [
    "data.isna().sum()"
   ]
  },
  {
   "cell_type": "markdown",
   "id": "d522e295",
   "metadata": {
    "deletable": false,
    "editable": false,
    "id": "d522e295"
   },
   "source": [
    "### Изменение типов данных"
   ]
  },
  {
   "cell_type": "markdown",
   "id": "c229c581",
   "metadata": {
    "deletable": false,
    "editable": false,
    "id": "c229c581"
   },
   "source": [
    "**Задание 13. Замените вещественный тип данных в столбце `total_income` на целочисленный с помощью метода `astype()`.**"
   ]
  },
  {
   "cell_type": "code",
   "execution_count": 13,
   "id": "31036462",
   "metadata": {
    "deletable": false,
    "id": "31036462"
   },
   "outputs": [],
   "source": [
    "data['total_income'] = data['total_income'].astype(int)"
   ]
  },
  {
   "cell_type": "markdown",
   "id": "b8e3d1d9",
   "metadata": {
    "deletable": false,
    "editable": false,
    "id": "b8e3d1d9"
   },
   "source": [
    "### Обработка дубликатов"
   ]
  },
  {
   "cell_type": "markdown",
   "id": "9be53c49",
   "metadata": {
    "deletable": false,
    "editable": false,
    "id": "9be53c49"
   },
   "source": [
    "**Задание 14. Обработайте неявные дубликаты в столбце `education`. В этом столбце есть одни и те же значения, но записанные по-разному: с использованием заглавных и строчных букв. Приведите их к нижнему регистру.**"
   ]
  },
  {
   "cell_type": "code",
   "execution_count": 14,
   "id": "d89e73e1",
   "metadata": {
    "deletable": false,
    "id": "d89e73e1"
   },
   "outputs": [],
   "source": [
    "data['education'] = data['education'].str.lower()"
   ]
  },
  {
   "cell_type": "markdown",
   "id": "01d4500e",
   "metadata": {
    "deletable": false,
    "editable": false,
    "id": "01d4500e"
   },
   "source": [
    "**Задание 15. Выведите на экран количество строк-дубликатов в данных. Если такие строки присутствуют, удалите их.**"
   ]
  },
  {
   "cell_type": "code",
   "execution_count": 15,
   "id": "e10efb23",
   "metadata": {
    "deletable": false,
    "id": "e10efb23",
    "outputId": "9684deba-1934-42d1-99e1-cda61740f822"
   },
   "outputs": [
    {
     "data": {
      "text/plain": [
       "71"
      ]
     },
     "execution_count": 15,
     "metadata": {},
     "output_type": "execute_result"
    }
   ],
   "source": [
    "data.duplicated().sum()"
   ]
  },
  {
   "cell_type": "code",
   "execution_count": 16,
   "id": "df853f20",
   "metadata": {
    "deletable": false,
    "id": "df853f20"
   },
   "outputs": [],
   "source": [
    "data = data.drop_duplicates()"
   ]
  },
  {
   "cell_type": "markdown",
   "id": "627be38f",
   "metadata": {
    "deletable": false,
    "editable": false,
    "id": "627be38f"
   },
   "source": [
    "### Категоризация данных"
   ]
  },
  {
   "cell_type": "markdown",
   "id": "4684c3e0",
   "metadata": {
    "deletable": false,
    "editable": false,
    "id": "4684c3e0"
   },
   "source": [
    "**Задание 16. На основании диапазонов, указанных ниже, создайте в датафрейме `data` столбец `total_income_category` с категориями:**\n",
    "\n",
    "- 0–30000 — `'E'`;\n",
    "- 30001–50000 — `'D'`;\n",
    "- 50001–200000 — `'C'`;\n",
    "- 200001–1000000 — `'B'`;\n",
    "- 1000001 и выше — `'A'`.\n",
    "\n",
    "\n",
    "**Например, кредитополучателю с доходом 25000 нужно назначить категорию `'E'`, а клиенту, получающему 235000, — `'B'`. Используйте собственную функцию с именем `categorize_income()` и метод `apply()`.**"
   ]
  },
  {
   "cell_type": "code",
   "execution_count": 17,
   "id": "78965238",
   "metadata": {
    "deletable": false,
    "id": "78965238"
   },
   "outputs": [],
   "source": [
    "def categorize_income(income):\n",
    "    try:\n",
    "        if 0 <= income <= 30000:\n",
    "            return 'E'\n",
    "        elif 30001 <= income <= 50000:\n",
    "            return 'D'\n",
    "        elif 50001 <= income <= 200000:\n",
    "            return 'C'\n",
    "        elif 200001 <= income <= 1000000:\n",
    "            return 'B'\n",
    "        elif income >= 1000001:\n",
    "            return 'A'\n",
    "    except:\n",
    "        pass"
   ]
  },
  {
   "cell_type": "code",
   "execution_count": 18,
   "id": "0980ada1",
   "metadata": {
    "deletable": false,
    "id": "0980ada1"
   },
   "outputs": [],
   "source": [
    "data['total_income_category'] = data['total_income'].apply(categorize_income)"
   ]
  },
  {
   "cell_type": "markdown",
   "id": "9917bba0",
   "metadata": {
    "deletable": false,
    "editable": false,
    "id": "9917bba0"
   },
   "source": [
    "**Задание 17. Выведите на экран перечень уникальных целей взятия кредита из столбца `purpose`.**"
   ]
  },
  {
   "cell_type": "code",
   "execution_count": 19,
   "id": "ee07b65e",
   "metadata": {
    "deletable": false,
    "id": "ee07b65e",
    "outputId": "673c12d9-7d7e-4ae0-9812-c622c89dd244"
   },
   "outputs": [
    {
     "data": {
      "text/plain": [
       "array(['покупка жилья', 'приобретение автомобиля',\n",
       "       'дополнительное образование', 'сыграть свадьбу',\n",
       "       'операции с жильем', 'образование', 'на проведение свадьбы',\n",
       "       'покупка жилья для семьи', 'покупка недвижимости',\n",
       "       'покупка коммерческой недвижимости', 'покупка жилой недвижимости',\n",
       "       'строительство собственной недвижимости', 'недвижимость',\n",
       "       'строительство недвижимости', 'на покупку подержанного автомобиля',\n",
       "       'на покупку своего автомобиля',\n",
       "       'операции с коммерческой недвижимостью',\n",
       "       'строительство жилой недвижимости', 'жилье',\n",
       "       'операции со своей недвижимостью', 'автомобили',\n",
       "       'заняться образованием', 'сделка с подержанным автомобилем',\n",
       "       'получение образования', 'автомобиль', 'свадьба',\n",
       "       'получение дополнительного образования', 'покупка своего жилья',\n",
       "       'операции с недвижимостью', 'получение высшего образования',\n",
       "       'свой автомобиль', 'сделка с автомобилем',\n",
       "       'профильное образование', 'высшее образование',\n",
       "       'покупка жилья для сдачи', 'на покупку автомобиля', 'ремонт жилью',\n",
       "       'заняться высшим образованием'], dtype=object)"
      ]
     },
     "execution_count": 19,
     "metadata": {},
     "output_type": "execute_result"
    }
   ],
   "source": [
    "data['purpose'].unique()"
   ]
  },
  {
   "cell_type": "markdown",
   "id": "52b79d56",
   "metadata": {
    "deletable": false,
    "editable": false,
    "id": "52b79d56"
   },
   "source": [
    "**Задание 18. Создайте функцию, которая на основании данных из столбца `purpose` сформирует новый столбец `purpose_category`, в который войдут следующие категории:**\n",
    "\n",
    "- `'операции с автомобилем'`,\n",
    "- `'операции с недвижимостью'`,\n",
    "- `'проведение свадьбы'`,\n",
    "- `'получение образования'`.\n",
    "\n",
    "**Например, если в столбце `purpose` находится подстрока `'на покупку автомобиля'`, то в столбце `purpose_category` должна появиться строка `'операции с автомобилем'`.**\n",
    "\n",
    "**Используйте собственную функцию с именем `categorize_purpose()` и метод `apply()`. Изучите данные в столбце `purpose` и определите, какие подстроки помогут вам правильно определить категорию.**"
   ]
  },
  {
   "cell_type": "code",
   "execution_count": 20,
   "id": "be41da5d",
   "metadata": {
    "deletable": false,
    "id": "be41da5d"
   },
   "outputs": [],
   "source": [
    "def categorize_purpose(row):\n",
    "    try:\n",
    "        if 'автом' in row:\n",
    "            return 'операции с автомобилем'\n",
    "        elif 'жил' in row or 'недвиж' in row:\n",
    "            return 'операции с недвижимостью'\n",
    "        elif 'свад' in row:\n",
    "            return 'проведение свадьбы'\n",
    "        elif 'образов' in row:\n",
    "            return 'получение образования'\n",
    "    except:\n",
    "        return 'нет категории'"
   ]
  },
  {
   "cell_type": "code",
   "execution_count": 21,
   "id": "94c4a19a",
   "metadata": {
    "deletable": false,
    "id": "94c4a19a"
   },
   "outputs": [],
   "source": [
    "data['purpose_category'] = data['purpose'].apply(categorize_purpose)"
   ]
  },
  {
   "cell_type": "markdown",
   "id": "3d596c34",
   "metadata": {
    "deletable": false,
    "editable": false,
    "id": "3d596c34"
   },
   "source": [
    "### Шаг 3. Исследуйте данные и ответьте на вопросы"
   ]
  },
  {
   "cell_type": "markdown",
   "id": "648db036",
   "metadata": {
    "deletable": false,
    "editable": false,
    "id": "648db036"
   },
   "source": [
    "#### 3.1 Есть ли зависимость между количеством детей и возвратом кредита в срок?"
   ]
  },
  {
   "cell_type": "code",
   "execution_count": 22,
   "id": "7fcff25e",
   "metadata": {
    "deletable": false,
    "id": "7fcff25e"
   },
   "outputs": [
    {
     "name": "stdout",
     "output_type": "stream",
     "text": [
      "          count   sum      mean median\n",
      "           debt  debt      debt   debt\n",
      "children                              \n",
      "0         14091  1063  0.075438      0\n",
      "1          4808   444  0.092346      0\n",
      "2          2052   194  0.094542      0\n",
      "3           330    27  0.081818      0\n",
      "4            41     4  0.097561      0\n",
      "5             9     0  0.000000      0\n"
     ]
    }
   ],
   "source": [
    "data_pivot = data.pivot_table(index=['children'], values='debt', aggfunc = ['count', 'sum', 'mean','median'])\n",
    "\n",
    "print(data_pivot.head(10)) # Ваш код будет здесь. Вы можете создавать новые ячейки."
   ]
  },
  {
   "cell_type": "markdown",
   "id": "2eb9088e",
   "metadata": {
    "deletable": false,
    "id": "2eb9088e"
   },
   "source": [
    "**Вывод:**Зависимость между количеством детей и возвратом кредита в срок не ярко выражена. В первую очередь необходимо обратить внимание на отсутствие задолженности у семей с 5 детьми (возможно, это ошибка).Возможно, необходимо получить больше информации из других источников о задолженности по кредитам у многодетных семей. Чуть меньше чем остальные категории задолженность имели семьи без детей (7,5%), вследствие небольшой финансовой нагрузки. Семьи с 1,2 и 4 детьми имеют самые худшие показатели по возврату задолженности (9,2%, 9,5% и 9,8% соответственно)."
   ]
  },
  {
   "cell_type": "markdown",
   "id": "ce901d40",
   "metadata": {},
   "source": [
    "<div class=\"alert alert-block alert-success\">✔️\n",
    "    \n",
    "\n",
    "__Комментарий от ревьюера №1__\n",
    "\n",
    "Здорово, что посчитал колличество заемщиков в каждой выборке, и учел неравнозначность выборок. \n",
    "    \n",
    "\n",
    "</div>"
   ]
  },
  {
   "cell_type": "markdown",
   "id": "74c9b3a7",
   "metadata": {
    "deletable": false,
    "editable": false,
    "id": "74c9b3a7"
   },
   "source": [
    "#### 3.2 Есть ли зависимость между семейным положением и возвратом кредита в срок?"
   ]
  },
  {
   "cell_type": "code",
   "execution_count": 23,
   "id": "8098ab3b",
   "metadata": {
    "deletable": false,
    "id": "8098ab3b"
   },
   "outputs": [
    {
     "name": "stdout",
     "output_type": "stream",
     "text": [
      "                       count  sum      mean median\n",
      "                        debt debt      debt   debt\n",
      "family_status                                     \n",
      "Не женат / не замужем   2796  273  0.097639      0\n",
      "в разводе               1189   84  0.070648      0\n",
      "вдовец / вдова           951   63  0.066246      0\n",
      "гражданский брак        4134  385  0.093130      0\n",
      "женат / замужем        12261  927  0.075606      0\n"
     ]
    }
   ],
   "source": [
    "data_pivot = data.pivot_table(index=['family_status'], values='debt', aggfunc = ['count', 'sum', 'mean','median'])\n",
    "\n",
    "print(data_pivot.head(10)) # Ваш код будет здесь. Вы можете создавать новые ячейки."
   ]
  },
  {
   "cell_type": "markdown",
   "id": "c389ca63",
   "metadata": {
    "deletable": false,
    "id": "c389ca63"
   },
   "source": [
    "**Вывод:**Самую лучшую платежную дисциплину имеют люди, состоящие в категории \"вдовец / вдова\" (6,6%). Возможно, для полноты картины, необходимо произвести сравнение о наличии у людей данной категории детей (количества детей). Категории \"женат / замужем\" и  \"Не женат / не замужем\" имеют показатели чуть хуже (7,6% и 7,1% соответственно). РАЗНИЦА МЕЖДУ ЭТИМИ КАТЕГОРИЯМИ СОСТАВЛЯЕТ не БОЛЕЕ 1%. Самую худшую платежную дисциплину имеют люди, состоящие в гражданском браке и не женатые люди (9,3% и 9,8% соответственно). Вероятной причиной этого является то, что люди в этих категория  недостаточно обеспечены ввиду незрелого возраста (гипотеза нуждается в проверке!)."
   ]
  },
  {
   "cell_type": "markdown",
   "id": "e81e9b2e",
   "metadata": {},
   "source": [
    "<div class=\"alert alert-block alert-success\">✔️\n",
    "    \n",
    "\n",
    "__Комментарий от ревьюера №1__\n",
    "\n",
    "Верно. по расчетам можно сказать, что заемщики которые состоят или состояли в браке лучше оплачивают кредиты.\n",
    "</div>"
   ]
  },
  {
   "cell_type": "markdown",
   "id": "9529125e",
   "metadata": {},
   "source": []
  },
  {
   "cell_type": "markdown",
   "id": "9529de68",
   "metadata": {
    "deletable": false,
    "editable": false,
    "id": "9529de68"
   },
   "source": [
    "#### 3.3 Есть ли зависимость между уровнем дохода и возвратом кредита в срок?"
   ]
  },
  {
   "cell_type": "code",
   "execution_count": 24,
   "id": "8787f44a",
   "metadata": {
    "deletable": false,
    "id": "8787f44a"
   },
   "outputs": [
    {
     "name": "stdout",
     "output_type": "stream",
     "text": [
      "                       count   sum      mean median\n",
      "                        debt  debt      debt   debt\n",
      "total_income_category                              \n",
      "A                         25     2  0.080000      0\n",
      "B                       5014   354  0.070602      0\n",
      "C                      15921  1353  0.084982      0\n",
      "D                        349    21  0.060172      0\n",
      "E                         22     2  0.090909      0\n"
     ]
    }
   ],
   "source": [
    "data_pivot = data.pivot_table(index=['total_income_category'], values='debt', aggfunc = ['count', 'sum', 'mean','median'])\n",
    "\n",
    "print(data_pivot.head(10))## Ваш код будет здесь. Вы можете создавать новые ячейки."
   ]
  },
  {
   "cell_type": "markdown",
   "id": "6dd14b57",
   "metadata": {
    "deletable": false,
    "id": "6dd14b57"
   },
   "source": [
    "**Вывод:** \n",
    "Категории уровня зарплат\n",
    "0–30000 — 'E';\n",
    "30001–50000 — 'D';\n",
    "50001–200000 — 'C';\n",
    "200001–1000000 — 'B';\n",
    "1000001 и выше — 'A'.\n",
    "\n",
    "Как и ожидалось самый высокий риск невзврата задолженности по кредитам у людей с доходом от 0 до 30 000 - 9,09%. Самый высокий процент невозвата у категории \"А\" (1000001 и выше) (8%) и категории \"С\" (50001–200000) (8,4%). Самый низкий показаель  и людей, находящихся в категории \"D\" (30 001 - 50 000) - 6%.\n",
    "Считанныю, что полученные данные не могут учитыватся без указания процентного соотношения к дохода к задолженности. Категории \"B\" и \"C\" являются основными потребителями(заемщиками)."
   ]
  },
  {
   "cell_type": "markdown",
   "id": "f3c1b193",
   "metadata": {},
   "source": [
    "<div class=\"alert alert-block alert-warning\">📝\n",
    "    \n",
    "\n",
    "__Комментарий от ревьюера №1__\n",
    "\n",
    "Какую можно выявить зависимость, если сравнить две самые многочисленные категории?\n",
    "</div>"
   ]
  },
  {
   "cell_type": "markdown",
   "id": "1dcc9b12",
   "metadata": {
    "deletable": false,
    "editable": false,
    "id": "1dcc9b12"
   },
   "source": [
    "#### 3.4 Как разные цели кредита влияют на его возврат в срок?"
   ]
  },
  {
   "cell_type": "code",
   "execution_count": 25,
   "id": "c602bc8b",
   "metadata": {
    "deletable": false,
    "id": "c602bc8b"
   },
   "outputs": [
    {
     "name": "stdout",
     "output_type": "stream",
     "text": [
      "                          count  sum      mean median\n",
      "                           debt debt      debt   debt\n",
      "purpose_category                                     \n",
      "операции с автомобилем     4279  400  0.093480      0\n",
      "операции с недвижимостью  10751  780  0.072551      0\n",
      "получение образования      3988  369  0.092528      0\n",
      "проведение свадьбы         2313  183  0.079118      0\n"
     ]
    }
   ],
   "source": [
    "data['purpose'].unique() # У меня вопрос - как посчитать количество уникальных \"целей получения кредита\"? \n",
    "#Просто фунция uniqe() не подходит?\n",
    "\n",
    "data_pivot = data.pivot_table(index=['purpose_category'], values='debt', aggfunc = ['count', 'sum', 'mean','median'])\n",
    "\n",
    "print(data_pivot)## Ваш код будет здесь. Вы можете создавать новые ячейки."
   ]
  },
  {
   "cell_type": "markdown",
   "id": "cf05ed63",
   "metadata": {
    "deletable": false,
    "id": "cf05ed63"
   },
   "source": [
    "**Вывод:** Самый меньший процент невозврата наблюдается в кредитах, предоставленных на операции с недвижимостью (7,2%). Это может быть связано с долгосрочность данных кредитов, и в том числе, из-за того, что данные кредиты берутся под залог приобретаемой недвижимости (данную недвижимость можно реализовать для оплаты по кредиту). (Интересно было посмотреть источники погашения кредитов(личные средства или средства от продажи недвижимости).\n",
    "Далее идет кредиты на проведения свадьбы (7.9%).Вероятно по причине небольших сумм и сроков по этим кредитам.\n",
    "Самые плохие показатели по возврату задолженности приходятся на операции с автомобилями (9,3%) и получения образования (9,3%).\n",
    "Причиной может быть то, что покупка автомобиля — это не инвестиция, как в случае с недвижимостью, а всегда только затраты. \"Кредитный автомобиль — это вдвойне затратно\" (расходы на страховку, ГСВ и ремонт). Также с проблемой по выплату кредита могут столкнутся автовладельцы дорогих автомобилей, которые, вполне возможно, взяли транспортное средство, которое им не по карману.\n",
    "Кредиты на получения образования также имеют высокий уровень невозврата, вероятно, в связи с тем, что данные кредиты зачастую получают студенты и пр. имеющие невысокий уровень дохода, либо его отсутствие.\n",
    "\n"
   ]
  },
  {
   "cell_type": "markdown",
   "id": "871a9678",
   "metadata": {},
   "source": [
    "<div class=\"alert alert-block alert-success\">✔️\n",
    "    \n",
    "\n",
    "__Комментарий от ревьюера №1__\n",
    "\n",
    "Да, по расчетам можно сделать вывод, что самыми проблемными выглядят автокредиты и кредиты на образование.\n",
    "</div>"
   ]
  },
  {
   "cell_type": "markdown",
   "id": "46c1f10b",
   "metadata": {
    "deletable": false,
    "editable": false,
    "id": "46c1f10b"
   },
   "source": [
    "#### 3.5 Приведите возможные причины появления пропусков в исходных данных."
   ]
  },
  {
   "cell_type": "markdown",
   "id": "3697d2a9",
   "metadata": {
    "deletable": false,
    "id": "3697d2a9"
   },
   "source": [
    "*Ответ:*   По всей видимости, причина в наличии пропусков в столбцах является то, что заявитель намеренно или случайно не сумму получаемых доходов и количества дней занятости (не все знают эти данные). Также, причиной пропусков может являтся технический фактор (например, ошибка при выгрузке)."
   ]
  },
  {
   "cell_type": "markdown",
   "id": "0665cec1",
   "metadata": {},
   "source": [
    "<div class=\"alert alert-block alert-warning\">📝\n",
    "    \n",
    "\n",
    "__Комментарий от ревьюера №1__\n",
    "\n",
    "Так же, стоит учитывать технический фактор (например, ошибка при выгрузке) также может стать причиной пропусков в данных.\n",
    "</div>"
   ]
  },
  {
   "cell_type": "markdown",
   "id": "3137d257",
   "metadata": {
    "deletable": false,
    "editable": false,
    "id": "3137d257"
   },
   "source": [
    "#### 3.6 Объясните, почему заполнить пропуски медианным значением — лучшее решение для количественных переменных."
   ]
  },
  {
   "cell_type": "markdown",
   "id": "cf40012a",
   "metadata": {
    "deletable": false,
    "id": "cf40012a"
   },
   "source": [
    "*Ответ:*  Среднее значение некорректно характеризует данные, когда некоторые значения сильно выделяются среди большинства. "
   ]
  },
  {
   "cell_type": "markdown",
   "id": "ccc9d543",
   "metadata": {},
   "source": [
    "<div class=\"alert alert-block alert-success\">✔️\n",
    "    \n",
    "\n",
    "__Комментарий от ревьюера №1__\n",
    "\n",
    "Верно, медиана менее чувствительна к выбросам в данных.\n",
    "</div>"
   ]
  },
  {
   "cell_type": "markdown",
   "id": "57bc304e",
   "metadata": {
    "deletable": false,
    "editable": false,
    "id": "57bc304e"
   },
   "source": [
    "### Шаг 4: общий вывод."
   ]
  },
  {
   "cell_type": "markdown",
   "id": "1ab75d1c",
   "metadata": {
    "deletable": false,
    "id": "1ab75d1c"
   },
   "source": [
    "На основании полученных данных, невозможно определить влияние на возврат задолженности. Необходимо более детально провести анализ категорий заемщиков, суммы кредита и источников погашения (отмечно в тексте). "
   ]
  },
  {
   "cell_type": "markdown",
   "id": "a7ff5d85",
   "metadata": {},
   "source": [
    "<div class=\"alert alert-block alert-warning\">📝\n",
    "    \n",
    "\n",
    "__Комментарий от ревьюера №1__\n",
    "\n",
    "Шикарный вывод и рекомендации для бизнеса. Кстати, хорошей практикой является написание в общем выводе всех твоих действий (кратко) по проекту. Ведь вывод раскрывает для заказчика всю твою проделанную работу и за что он платит деньги, даже если ему не интересен весь процесс исследования, то в отчёт он заглянет обязательно. Ты молодец!\n",
    "</div>"
   ]
  },
  {
   "cell_type": "markdown",
   "id": "49922a22",
   "metadata": {},
   "source": []
  },
  {
   "cell_type": "markdown",
   "id": "16ae1ed8",
   "metadata": {},
   "source": []
  },
  {
   "cell_type": "markdown",
   "id": "a289ac77",
   "metadata": {},
   "source": [
    "<div style=\"border:solid blue 3px; padding: 20px\">\n",
    "<div class=\"alert alert-block alert-success\">✔️\n",
    "Комментарий от ревьюера №1 </b> \n",
    "\n",
    "\n",
    "\n",
    "У тебя получилась очень сильная и хорошая работа. Здорово, что не забываешь про комментарии, твой проект интересно проверять. \n",
    "\n",
    "---\n",
    "\n",
    "Нужно поправить:\n",
    "\n",
    "1) Ничего, отличная работа!)\n",
    "\n",
    "----\n",
    "\n",
    "\n",
    "Если у тебя будут какие-то вопросы по моим комментариям - обязательно пиши! Буду ждать работу на повторное ревью :)</div>"
   ]
  },
  {
   "cell_type": "markdown",
   "id": "631bf9b5",
   "metadata": {},
   "source": []
  },
  {
   "cell_type": "markdown",
   "id": "802902ad",
   "metadata": {},
   "source": [
    "<div style=\"border:solid blue 3px; padding: 20px\">\n",
    "<div class=\"alert alert-block alert-success\">✔️\n",
    "    \n",
    "\n",
    "__Коментарий от ревьюера №2__\n",
    "\n",
    "\n",
    "В остальном всё чудно😊. Твой проект так и просится на github =)   \n",
    "    \n",
    "Поздравляю с успешным завершением проекта 😊👍\n",
    "И желаю успехов в новых работах 😊"
   ]
  },
  {
   "cell_type": "code",
   "execution_count": null,
   "id": "7d9a052f",
   "metadata": {},
   "outputs": [],
   "source": []
  }
 ],
 "metadata": {
  "ExecuteTimeLog": [
   {
    "duration": 55,
    "start_time": "2023-02-14T18:00:40.341Z"
   },
   {
    "duration": 564,
    "start_time": "2023-02-14T18:00:51.621Z"
   },
   {
    "duration": 29,
    "start_time": "2023-02-14T18:00:52.187Z"
   },
   {
    "duration": 19,
    "start_time": "2023-02-14T18:00:52.218Z"
   },
   {
    "duration": 11,
    "start_time": "2023-02-14T18:00:52.239Z"
   },
   {
    "duration": 64,
    "start_time": "2023-02-14T18:00:52.252Z"
   },
   {
    "duration": 5,
    "start_time": "2023-02-14T18:00:52.317Z"
   },
   {
    "duration": 19,
    "start_time": "2023-02-14T18:00:52.323Z"
   },
   {
    "duration": 6,
    "start_time": "2023-02-14T18:00:52.344Z"
   },
   {
    "duration": 15,
    "start_time": "2023-02-14T18:00:52.351Z"
   },
   {
    "duration": 17,
    "start_time": "2023-02-14T18:00:52.368Z"
   },
   {
    "duration": 52,
    "start_time": "2023-02-14T18:00:52.386Z"
   },
   {
    "duration": 10,
    "start_time": "2023-02-14T18:00:52.440Z"
   },
   {
    "duration": 8,
    "start_time": "2023-02-14T18:00:52.451Z"
   },
   {
    "duration": 30,
    "start_time": "2023-02-14T18:00:52.462Z"
   },
   {
    "duration": 27,
    "start_time": "2023-02-14T18:00:52.494Z"
   },
   {
    "duration": 26,
    "start_time": "2023-02-14T18:00:52.523Z"
   },
   {
    "duration": 5,
    "start_time": "2023-02-14T18:00:52.551Z"
   },
   {
    "duration": 17,
    "start_time": "2023-02-14T18:00:52.558Z"
   },
   {
    "duration": 27,
    "start_time": "2023-02-14T18:00:52.577Z"
   },
   {
    "duration": 4,
    "start_time": "2023-02-14T18:00:52.606Z"
   },
   {
    "duration": 13,
    "start_time": "2023-02-14T18:00:52.611Z"
   },
   {
    "duration": 20,
    "start_time": "2023-02-14T18:00:52.626Z"
   },
   {
    "duration": 2,
    "start_time": "2023-02-14T18:00:52.648Z"
   },
   {
    "duration": 6,
    "start_time": "2023-02-14T18:00:52.652Z"
   },
   {
    "duration": 5,
    "start_time": "2023-02-14T18:00:52.659Z"
   },
   {
    "duration": 45,
    "start_time": "2023-02-14T18:04:53.085Z"
   },
   {
    "duration": 10,
    "start_time": "2023-02-14T18:05:03.908Z"
   },
   {
    "duration": 48,
    "start_time": "2023-02-14T18:08:39.574Z"
   },
   {
    "duration": 688,
    "start_time": "2023-02-14T18:08:50.100Z"
   },
   {
    "duration": 14,
    "start_time": "2023-02-14T18:09:12.662Z"
   },
   {
    "duration": 5,
    "start_time": "2023-02-14T18:11:02.517Z"
   },
   {
    "duration": 25,
    "start_time": "2023-02-14T18:11:08.941Z"
   },
   {
    "duration": 43,
    "start_time": "2023-02-14T18:12:44.818Z"
   },
   {
    "duration": 37,
    "start_time": "2023-02-14T18:14:32.300Z"
   },
   {
    "duration": 31,
    "start_time": "2023-02-14T18:15:29.082Z"
   },
   {
    "duration": 52,
    "start_time": "2023-02-14T18:28:20.858Z"
   },
   {
    "duration": 36,
    "start_time": "2023-02-14T18:54:24.648Z"
   },
   {
    "duration": 35,
    "start_time": "2023-02-14T18:54:36.665Z"
   },
   {
    "duration": 38,
    "start_time": "2023-02-14T18:54:46.864Z"
   },
   {
    "duration": 42,
    "start_time": "2023-02-14T18:56:12.501Z"
   },
   {
    "duration": 96,
    "start_time": "2023-02-15T17:55:32.142Z"
   },
   {
    "duration": 62,
    "start_time": "2023-02-15T17:55:40.240Z"
   },
   {
    "duration": 742,
    "start_time": "2023-02-15T17:55:47.089Z"
   },
   {
    "duration": 39,
    "start_time": "2023-02-15T17:55:47.833Z"
   },
   {
    "duration": 29,
    "start_time": "2023-02-15T17:55:47.875Z"
   },
   {
    "duration": 30,
    "start_time": "2023-02-15T17:55:47.908Z"
   },
   {
    "duration": 52,
    "start_time": "2023-02-15T17:55:47.941Z"
   },
   {
    "duration": 5,
    "start_time": "2023-02-15T17:55:47.995Z"
   },
   {
    "duration": 37,
    "start_time": "2023-02-15T17:55:48.002Z"
   },
   {
    "duration": 24,
    "start_time": "2023-02-15T17:55:48.041Z"
   },
   {
    "duration": 21,
    "start_time": "2023-02-15T17:55:48.067Z"
   },
   {
    "duration": 24,
    "start_time": "2023-02-15T17:55:48.092Z"
   },
   {
    "duration": 66,
    "start_time": "2023-02-15T17:55:48.119Z"
   },
   {
    "duration": 12,
    "start_time": "2023-02-15T17:55:48.188Z"
   },
   {
    "duration": 20,
    "start_time": "2023-02-15T17:55:48.202Z"
   },
   {
    "duration": 31,
    "start_time": "2023-02-15T17:55:48.224Z"
   },
   {
    "duration": 45,
    "start_time": "2023-02-15T17:55:48.258Z"
   },
   {
    "duration": 25,
    "start_time": "2023-02-15T17:55:48.306Z"
   },
   {
    "duration": 5,
    "start_time": "2023-02-15T17:55:48.333Z"
   },
   {
    "duration": 20,
    "start_time": "2023-02-15T17:55:48.342Z"
   },
   {
    "duration": 16,
    "start_time": "2023-02-15T17:55:48.364Z"
   },
   {
    "duration": 4,
    "start_time": "2023-02-15T17:55:48.382Z"
   },
   {
    "duration": 18,
    "start_time": "2023-02-15T17:55:48.388Z"
   },
   {
    "duration": 93,
    "start_time": "2023-02-15T17:55:48.409Z"
   },
   {
    "duration": 0,
    "start_time": "2023-02-15T17:55:48.504Z"
   },
   {
    "duration": 0,
    "start_time": "2023-02-15T17:55:48.507Z"
   },
   {
    "duration": 0,
    "start_time": "2023-02-15T17:55:48.513Z"
   },
   {
    "duration": 54,
    "start_time": "2023-02-15T17:55:58.174Z"
   },
   {
    "duration": 46,
    "start_time": "2023-02-15T17:56:07.256Z"
   },
   {
    "duration": 39,
    "start_time": "2023-02-15T17:56:19.247Z"
   },
   {
    "duration": 97,
    "start_time": "2023-02-15T17:56:54.812Z"
   },
   {
    "duration": 11,
    "start_time": "2023-02-15T17:57:14.972Z"
   },
   {
    "duration": 37,
    "start_time": "2023-02-15T17:57:36.031Z"
   },
   {
    "duration": 83,
    "start_time": "2023-02-15T17:58:19.392Z"
   },
   {
    "duration": 51,
    "start_time": "2023-02-15T17:58:43.100Z"
   },
   {
    "duration": 40,
    "start_time": "2023-02-15T18:15:40.420Z"
   },
   {
    "duration": 97,
    "start_time": "2023-02-15T18:15:47.456Z"
   },
   {
    "duration": 25,
    "start_time": "2023-02-15T18:15:47.556Z"
   },
   {
    "duration": 31,
    "start_time": "2023-02-15T18:15:47.584Z"
   },
   {
    "duration": 29,
    "start_time": "2023-02-15T18:15:47.617Z"
   },
   {
    "duration": 48,
    "start_time": "2023-02-15T18:15:47.649Z"
   },
   {
    "duration": 4,
    "start_time": "2023-02-15T18:15:47.701Z"
   },
   {
    "duration": 37,
    "start_time": "2023-02-15T18:15:47.707Z"
   },
   {
    "duration": 8,
    "start_time": "2023-02-15T18:15:47.746Z"
   },
   {
    "duration": 10,
    "start_time": "2023-02-15T18:15:47.756Z"
   },
   {
    "duration": 11,
    "start_time": "2023-02-15T18:15:47.768Z"
   },
   {
    "duration": 61,
    "start_time": "2023-02-15T18:15:47.781Z"
   },
   {
    "duration": 15,
    "start_time": "2023-02-15T18:15:47.844Z"
   },
   {
    "duration": 16,
    "start_time": "2023-02-15T18:15:47.862Z"
   },
   {
    "duration": 19,
    "start_time": "2023-02-15T18:15:47.882Z"
   },
   {
    "duration": 40,
    "start_time": "2023-02-15T18:15:47.903Z"
   },
   {
    "duration": 29,
    "start_time": "2023-02-15T18:15:47.946Z"
   },
   {
    "duration": 5,
    "start_time": "2023-02-15T18:15:47.978Z"
   },
   {
    "duration": 27,
    "start_time": "2023-02-15T18:15:47.985Z"
   },
   {
    "duration": 25,
    "start_time": "2023-02-15T18:15:48.015Z"
   },
   {
    "duration": 10,
    "start_time": "2023-02-15T18:15:48.042Z"
   },
   {
    "duration": 20,
    "start_time": "2023-02-15T18:15:48.055Z"
   },
   {
    "duration": 64,
    "start_time": "2023-02-15T18:15:48.077Z"
   },
   {
    "duration": 0,
    "start_time": "2023-02-15T18:15:48.144Z"
   },
   {
    "duration": 0,
    "start_time": "2023-02-15T18:15:48.146Z"
   },
   {
    "duration": 0,
    "start_time": "2023-02-15T18:15:48.148Z"
   },
   {
    "duration": 47,
    "start_time": "2023-02-15T18:16:08.209Z"
   },
   {
    "duration": 43,
    "start_time": "2023-02-15T18:16:14.791Z"
   },
   {
    "duration": 56,
    "start_time": "2023-02-15T18:23:10.973Z"
   },
   {
    "duration": 51,
    "start_time": "2023-02-15T18:34:37.750Z"
   },
   {
    "duration": 15,
    "start_time": "2023-02-15T18:36:54.179Z"
   },
   {
    "duration": 15,
    "start_time": "2023-02-15T18:36:59.879Z"
   },
   {
    "duration": 21,
    "start_time": "2023-02-15T18:37:40.129Z"
   },
   {
    "duration": 33,
    "start_time": "2023-02-15T18:37:56.074Z"
   },
   {
    "duration": 39,
    "start_time": "2023-02-15T18:54:17.694Z"
   },
   {
    "duration": 9,
    "start_time": "2023-02-15T18:55:59.006Z"
   },
   {
    "duration": 12,
    "start_time": "2023-02-15T18:56:09.749Z"
   },
   {
    "duration": 1156,
    "start_time": "2023-02-15T18:56:23.546Z"
   },
   {
    "duration": 1161,
    "start_time": "2023-02-15T18:56:56.524Z"
   },
   {
    "duration": 1144,
    "start_time": "2023-02-15T18:57:23.298Z"
   },
   {
    "duration": 1162,
    "start_time": "2023-02-15T18:57:46.635Z"
   },
   {
    "duration": 9,
    "start_time": "2023-02-15T18:58:24.555Z"
   },
   {
    "duration": 11,
    "start_time": "2023-02-15T18:58:36.319Z"
   },
   {
    "duration": 76,
    "start_time": "2023-02-15T18:58:56.330Z"
   },
   {
    "duration": 12,
    "start_time": "2023-02-15T18:59:02.683Z"
   },
   {
    "duration": 11,
    "start_time": "2023-02-15T18:59:21.217Z"
   },
   {
    "duration": 17,
    "start_time": "2023-02-15T19:00:13.976Z"
   },
   {
    "duration": 13,
    "start_time": "2023-02-15T19:00:33.416Z"
   },
   {
    "duration": 8,
    "start_time": "2023-02-15T19:01:43.217Z"
   },
   {
    "duration": 10,
    "start_time": "2023-02-15T19:03:13.535Z"
   },
   {
    "duration": 10,
    "start_time": "2023-02-15T19:05:16.097Z"
   },
   {
    "duration": 10,
    "start_time": "2023-02-15T19:05:46.548Z"
   },
   {
    "duration": 936,
    "start_time": "2023-02-15T19:06:24.687Z"
   },
   {
    "duration": 858,
    "start_time": "2023-02-15T19:06:34.734Z"
   },
   {
    "duration": 939,
    "start_time": "2023-02-15T19:07:00.066Z"
   },
   {
    "duration": 893,
    "start_time": "2023-02-15T19:07:18.189Z"
   },
   {
    "duration": 6,
    "start_time": "2023-02-15T19:10:19.646Z"
   },
   {
    "duration": 10,
    "start_time": "2023-02-15T19:10:51.404Z"
   },
   {
    "duration": 51,
    "start_time": "2023-02-15T19:13:19.769Z"
   },
   {
    "duration": 38,
    "start_time": "2023-02-15T19:13:55.386Z"
   },
   {
    "duration": 511,
    "start_time": "2023-02-16T14:22:52.674Z"
   },
   {
    "duration": 23,
    "start_time": "2023-02-16T14:22:53.187Z"
   },
   {
    "duration": 18,
    "start_time": "2023-02-16T14:22:53.211Z"
   },
   {
    "duration": 10,
    "start_time": "2023-02-16T14:22:53.231Z"
   },
   {
    "duration": 40,
    "start_time": "2023-02-16T14:22:53.243Z"
   },
   {
    "duration": 3,
    "start_time": "2023-02-16T14:22:53.303Z"
   },
   {
    "duration": 17,
    "start_time": "2023-02-16T14:22:53.308Z"
   },
   {
    "duration": 11,
    "start_time": "2023-02-16T14:22:53.326Z"
   },
   {
    "duration": 9,
    "start_time": "2023-02-16T14:22:53.340Z"
   },
   {
    "duration": 4,
    "start_time": "2023-02-16T14:22:53.352Z"
   },
   {
    "duration": 49,
    "start_time": "2023-02-16T14:22:53.357Z"
   },
   {
    "duration": 9,
    "start_time": "2023-02-16T14:22:53.408Z"
   },
   {
    "duration": 12,
    "start_time": "2023-02-16T14:22:53.418Z"
   },
   {
    "duration": 15,
    "start_time": "2023-02-16T14:22:53.431Z"
   },
   {
    "duration": 34,
    "start_time": "2023-02-16T14:22:53.448Z"
   },
   {
    "duration": 20,
    "start_time": "2023-02-16T14:22:53.483Z"
   },
   {
    "duration": 3,
    "start_time": "2023-02-16T14:22:53.505Z"
   },
   {
    "duration": 15,
    "start_time": "2023-02-16T14:22:53.509Z"
   },
   {
    "duration": 5,
    "start_time": "2023-02-16T14:22:53.526Z"
   },
   {
    "duration": 5,
    "start_time": "2023-02-16T14:22:53.533Z"
   },
   {
    "duration": 14,
    "start_time": "2023-02-16T14:22:53.539Z"
   },
   {
    "duration": 30,
    "start_time": "2023-02-16T14:22:53.554Z"
   },
   {
    "duration": 32,
    "start_time": "2023-02-16T14:22:53.602Z"
   },
   {
    "duration": 31,
    "start_time": "2023-02-16T14:22:53.635Z"
   },
   {
    "duration": 55,
    "start_time": "2023-02-16T14:22:53.668Z"
   }
  ],
  "colab": {
   "provenance": []
  },
  "kernelspec": {
   "display_name": "Python 3 (ipykernel)",
   "language": "python",
   "name": "python3"
  },
  "language_info": {
   "codemirror_mode": {
    "name": "ipython",
    "version": 3
   },
   "file_extension": ".py",
   "mimetype": "text/x-python",
   "name": "python",
   "nbconvert_exporter": "python",
   "pygments_lexer": "ipython3",
   "version": "3.9.5"
  },
  "toc": {
   "base_numbering": 1,
   "nav_menu": {},
   "number_sections": true,
   "sideBar": true,
   "skip_h1_title": true,
   "title_cell": "Table of Contents",
   "title_sidebar": "Contents",
   "toc_cell": false,
   "toc_position": {},
   "toc_section_display": true,
   "toc_window_display": true
  }
 },
 "nbformat": 4,
 "nbformat_minor": 5
}
