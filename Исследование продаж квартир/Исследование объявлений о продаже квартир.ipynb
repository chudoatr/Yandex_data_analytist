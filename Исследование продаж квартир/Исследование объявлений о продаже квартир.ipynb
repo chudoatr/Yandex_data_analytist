{
 "cells": [
  {
   "cell_type": "markdown",
   "metadata": {},
   "source": [
    "# Исследование объявлений о продаже квартир\n",
    "\n",
    "Исследование объявлений о продаже квартир\n",
    "В качестве входных данных у нас данные сервиса Яндекс.Недвижимость — архив объявлений о продаже квартир в Санкт-Петербурге и соседних населённых пунктах за несколько лет. В рамках этого проекта нужно установить параметры, которые влияют на рыночную стоимость недвижимости. Это позволит построить автоматизированную систему: она отследит аномалии и мошенническую деятельность.\n",
    "\n",
    "По каждой квартире на продажу доступны два вида данных. Первые вписаны пользователем, вторые получены автоматически на основе картографических данных. Например, расстояние до центра, аэропорта, ближайшего парка и водоёма."
   ]
  },
  {
   "cell_type": "markdown",
   "metadata": {},
   "source": [
    "### Изучение данных из файла\n"
   ]
  },
  {
   "cell_type": "code",
   "execution_count": 2,
   "metadata": {},
   "outputs": [
    {
     "data": {
      "text/html": [
       "<div>\n",
       "<style scoped>\n",
       "    .dataframe tbody tr th:only-of-type {\n",
       "        vertical-align: middle;\n",
       "    }\n",
       "\n",
       "    .dataframe tbody tr th {\n",
       "        vertical-align: top;\n",
       "    }\n",
       "\n",
       "    .dataframe thead th {\n",
       "        text-align: right;\n",
       "    }\n",
       "</style>\n",
       "<table border=\"1\" class=\"dataframe\">\n",
       "  <thead>\n",
       "    <tr style=\"text-align: right;\">\n",
       "      <th></th>\n",
       "      <th>total_images</th>\n",
       "      <th>last_price</th>\n",
       "      <th>total_area</th>\n",
       "      <th>first_day_exposition</th>\n",
       "      <th>rooms</th>\n",
       "      <th>ceiling_height</th>\n",
       "      <th>floors_total</th>\n",
       "      <th>living_area</th>\n",
       "      <th>floor</th>\n",
       "      <th>is_apartment</th>\n",
       "      <th>...</th>\n",
       "      <th>kitchen_area</th>\n",
       "      <th>balcony</th>\n",
       "      <th>locality_name</th>\n",
       "      <th>airports_nearest</th>\n",
       "      <th>cityCenters_nearest</th>\n",
       "      <th>parks_around3000</th>\n",
       "      <th>parks_nearest</th>\n",
       "      <th>ponds_around3000</th>\n",
       "      <th>ponds_nearest</th>\n",
       "      <th>days_exposition</th>\n",
       "    </tr>\n",
       "  </thead>\n",
       "  <tbody>\n",
       "    <tr>\n",
       "      <th>0</th>\n",
       "      <td>20</td>\n",
       "      <td>13000000.0</td>\n",
       "      <td>108.00</td>\n",
       "      <td>2019-03-07T00:00:00</td>\n",
       "      <td>3</td>\n",
       "      <td>2.70</td>\n",
       "      <td>16.0</td>\n",
       "      <td>51.00</td>\n",
       "      <td>8</td>\n",
       "      <td>NaN</td>\n",
       "      <td>...</td>\n",
       "      <td>25.00</td>\n",
       "      <td>NaN</td>\n",
       "      <td>Санкт-Петербург</td>\n",
       "      <td>18863.0</td>\n",
       "      <td>16028.0</td>\n",
       "      <td>1.0</td>\n",
       "      <td>482.0</td>\n",
       "      <td>2.0</td>\n",
       "      <td>755.0</td>\n",
       "      <td>NaN</td>\n",
       "    </tr>\n",
       "    <tr>\n",
       "      <th>1</th>\n",
       "      <td>7</td>\n",
       "      <td>3350000.0</td>\n",
       "      <td>40.40</td>\n",
       "      <td>2018-12-04T00:00:00</td>\n",
       "      <td>1</td>\n",
       "      <td>NaN</td>\n",
       "      <td>11.0</td>\n",
       "      <td>18.60</td>\n",
       "      <td>1</td>\n",
       "      <td>NaN</td>\n",
       "      <td>...</td>\n",
       "      <td>11.00</td>\n",
       "      <td>2.0</td>\n",
       "      <td>посёлок Шушары</td>\n",
       "      <td>12817.0</td>\n",
       "      <td>18603.0</td>\n",
       "      <td>0.0</td>\n",
       "      <td>NaN</td>\n",
       "      <td>0.0</td>\n",
       "      <td>NaN</td>\n",
       "      <td>81.0</td>\n",
       "    </tr>\n",
       "    <tr>\n",
       "      <th>2</th>\n",
       "      <td>10</td>\n",
       "      <td>5196000.0</td>\n",
       "      <td>56.00</td>\n",
       "      <td>2015-08-20T00:00:00</td>\n",
       "      <td>2</td>\n",
       "      <td>NaN</td>\n",
       "      <td>5.0</td>\n",
       "      <td>34.30</td>\n",
       "      <td>4</td>\n",
       "      <td>NaN</td>\n",
       "      <td>...</td>\n",
       "      <td>8.30</td>\n",
       "      <td>0.0</td>\n",
       "      <td>Санкт-Петербург</td>\n",
       "      <td>21741.0</td>\n",
       "      <td>13933.0</td>\n",
       "      <td>1.0</td>\n",
       "      <td>90.0</td>\n",
       "      <td>2.0</td>\n",
       "      <td>574.0</td>\n",
       "      <td>558.0</td>\n",
       "    </tr>\n",
       "    <tr>\n",
       "      <th>3</th>\n",
       "      <td>0</td>\n",
       "      <td>64900000.0</td>\n",
       "      <td>159.00</td>\n",
       "      <td>2015-07-24T00:00:00</td>\n",
       "      <td>3</td>\n",
       "      <td>NaN</td>\n",
       "      <td>14.0</td>\n",
       "      <td>NaN</td>\n",
       "      <td>9</td>\n",
       "      <td>NaN</td>\n",
       "      <td>...</td>\n",
       "      <td>NaN</td>\n",
       "      <td>0.0</td>\n",
       "      <td>Санкт-Петербург</td>\n",
       "      <td>28098.0</td>\n",
       "      <td>6800.0</td>\n",
       "      <td>2.0</td>\n",
       "      <td>84.0</td>\n",
       "      <td>3.0</td>\n",
       "      <td>234.0</td>\n",
       "      <td>424.0</td>\n",
       "    </tr>\n",
       "    <tr>\n",
       "      <th>4</th>\n",
       "      <td>2</td>\n",
       "      <td>10000000.0</td>\n",
       "      <td>100.00</td>\n",
       "      <td>2018-06-19T00:00:00</td>\n",
       "      <td>2</td>\n",
       "      <td>3.03</td>\n",
       "      <td>14.0</td>\n",
       "      <td>32.00</td>\n",
       "      <td>13</td>\n",
       "      <td>NaN</td>\n",
       "      <td>...</td>\n",
       "      <td>41.00</td>\n",
       "      <td>NaN</td>\n",
       "      <td>Санкт-Петербург</td>\n",
       "      <td>31856.0</td>\n",
       "      <td>8098.0</td>\n",
       "      <td>2.0</td>\n",
       "      <td>112.0</td>\n",
       "      <td>1.0</td>\n",
       "      <td>48.0</td>\n",
       "      <td>121.0</td>\n",
       "    </tr>\n",
       "    <tr>\n",
       "      <th>5</th>\n",
       "      <td>10</td>\n",
       "      <td>2890000.0</td>\n",
       "      <td>30.40</td>\n",
       "      <td>2018-09-10T00:00:00</td>\n",
       "      <td>1</td>\n",
       "      <td>NaN</td>\n",
       "      <td>12.0</td>\n",
       "      <td>14.40</td>\n",
       "      <td>5</td>\n",
       "      <td>NaN</td>\n",
       "      <td>...</td>\n",
       "      <td>9.10</td>\n",
       "      <td>NaN</td>\n",
       "      <td>городской посёлок Янино-1</td>\n",
       "      <td>NaN</td>\n",
       "      <td>NaN</td>\n",
       "      <td>NaN</td>\n",
       "      <td>NaN</td>\n",
       "      <td>NaN</td>\n",
       "      <td>NaN</td>\n",
       "      <td>55.0</td>\n",
       "    </tr>\n",
       "    <tr>\n",
       "      <th>6</th>\n",
       "      <td>6</td>\n",
       "      <td>3700000.0</td>\n",
       "      <td>37.30</td>\n",
       "      <td>2017-11-02T00:00:00</td>\n",
       "      <td>1</td>\n",
       "      <td>NaN</td>\n",
       "      <td>26.0</td>\n",
       "      <td>10.60</td>\n",
       "      <td>6</td>\n",
       "      <td>NaN</td>\n",
       "      <td>...</td>\n",
       "      <td>14.40</td>\n",
       "      <td>1.0</td>\n",
       "      <td>посёлок Парголово</td>\n",
       "      <td>52996.0</td>\n",
       "      <td>19143.0</td>\n",
       "      <td>0.0</td>\n",
       "      <td>NaN</td>\n",
       "      <td>0.0</td>\n",
       "      <td>NaN</td>\n",
       "      <td>155.0</td>\n",
       "    </tr>\n",
       "    <tr>\n",
       "      <th>7</th>\n",
       "      <td>5</td>\n",
       "      <td>7915000.0</td>\n",
       "      <td>71.60</td>\n",
       "      <td>2019-04-18T00:00:00</td>\n",
       "      <td>2</td>\n",
       "      <td>NaN</td>\n",
       "      <td>24.0</td>\n",
       "      <td>NaN</td>\n",
       "      <td>22</td>\n",
       "      <td>NaN</td>\n",
       "      <td>...</td>\n",
       "      <td>18.90</td>\n",
       "      <td>2.0</td>\n",
       "      <td>Санкт-Петербург</td>\n",
       "      <td>23982.0</td>\n",
       "      <td>11634.0</td>\n",
       "      <td>0.0</td>\n",
       "      <td>NaN</td>\n",
       "      <td>0.0</td>\n",
       "      <td>NaN</td>\n",
       "      <td>NaN</td>\n",
       "    </tr>\n",
       "    <tr>\n",
       "      <th>8</th>\n",
       "      <td>20</td>\n",
       "      <td>2900000.0</td>\n",
       "      <td>33.16</td>\n",
       "      <td>2018-05-23T00:00:00</td>\n",
       "      <td>1</td>\n",
       "      <td>NaN</td>\n",
       "      <td>27.0</td>\n",
       "      <td>15.43</td>\n",
       "      <td>26</td>\n",
       "      <td>NaN</td>\n",
       "      <td>...</td>\n",
       "      <td>8.81</td>\n",
       "      <td>NaN</td>\n",
       "      <td>посёлок Мурино</td>\n",
       "      <td>NaN</td>\n",
       "      <td>NaN</td>\n",
       "      <td>NaN</td>\n",
       "      <td>NaN</td>\n",
       "      <td>NaN</td>\n",
       "      <td>NaN</td>\n",
       "      <td>189.0</td>\n",
       "    </tr>\n",
       "    <tr>\n",
       "      <th>9</th>\n",
       "      <td>18</td>\n",
       "      <td>5400000.0</td>\n",
       "      <td>61.00</td>\n",
       "      <td>2017-02-26T00:00:00</td>\n",
       "      <td>3</td>\n",
       "      <td>2.50</td>\n",
       "      <td>9.0</td>\n",
       "      <td>43.60</td>\n",
       "      <td>7</td>\n",
       "      <td>NaN</td>\n",
       "      <td>...</td>\n",
       "      <td>6.50</td>\n",
       "      <td>2.0</td>\n",
       "      <td>Санкт-Петербург</td>\n",
       "      <td>50898.0</td>\n",
       "      <td>15008.0</td>\n",
       "      <td>0.0</td>\n",
       "      <td>NaN</td>\n",
       "      <td>0.0</td>\n",
       "      <td>NaN</td>\n",
       "      <td>289.0</td>\n",
       "    </tr>\n",
       "    <tr>\n",
       "      <th>10</th>\n",
       "      <td>5</td>\n",
       "      <td>5050000.0</td>\n",
       "      <td>39.60</td>\n",
       "      <td>2017-11-16T00:00:00</td>\n",
       "      <td>1</td>\n",
       "      <td>2.67</td>\n",
       "      <td>12.0</td>\n",
       "      <td>20.30</td>\n",
       "      <td>3</td>\n",
       "      <td>NaN</td>\n",
       "      <td>...</td>\n",
       "      <td>8.50</td>\n",
       "      <td>NaN</td>\n",
       "      <td>Санкт-Петербург</td>\n",
       "      <td>38357.0</td>\n",
       "      <td>13878.0</td>\n",
       "      <td>1.0</td>\n",
       "      <td>310.0</td>\n",
       "      <td>2.0</td>\n",
       "      <td>553.0</td>\n",
       "      <td>137.0</td>\n",
       "    </tr>\n",
       "    <tr>\n",
       "      <th>11</th>\n",
       "      <td>9</td>\n",
       "      <td>3300000.0</td>\n",
       "      <td>44.00</td>\n",
       "      <td>2018-08-27T00:00:00</td>\n",
       "      <td>2</td>\n",
       "      <td>NaN</td>\n",
       "      <td>5.0</td>\n",
       "      <td>31.00</td>\n",
       "      <td>4</td>\n",
       "      <td>False</td>\n",
       "      <td>...</td>\n",
       "      <td>6.00</td>\n",
       "      <td>1.0</td>\n",
       "      <td>Ломоносов</td>\n",
       "      <td>48252.0</td>\n",
       "      <td>51677.0</td>\n",
       "      <td>0.0</td>\n",
       "      <td>NaN</td>\n",
       "      <td>0.0</td>\n",
       "      <td>NaN</td>\n",
       "      <td>7.0</td>\n",
       "    </tr>\n",
       "    <tr>\n",
       "      <th>12</th>\n",
       "      <td>10</td>\n",
       "      <td>3890000.0</td>\n",
       "      <td>54.00</td>\n",
       "      <td>2016-06-30T00:00:00</td>\n",
       "      <td>2</td>\n",
       "      <td>NaN</td>\n",
       "      <td>5.0</td>\n",
       "      <td>30.00</td>\n",
       "      <td>5</td>\n",
       "      <td>NaN</td>\n",
       "      <td>...</td>\n",
       "      <td>9.00</td>\n",
       "      <td>0.0</td>\n",
       "      <td>Сертолово</td>\n",
       "      <td>NaN</td>\n",
       "      <td>NaN</td>\n",
       "      <td>NaN</td>\n",
       "      <td>NaN</td>\n",
       "      <td>NaN</td>\n",
       "      <td>NaN</td>\n",
       "      <td>90.0</td>\n",
       "    </tr>\n",
       "    <tr>\n",
       "      <th>13</th>\n",
       "      <td>20</td>\n",
       "      <td>3550000.0</td>\n",
       "      <td>42.80</td>\n",
       "      <td>2017-07-01T00:00:00</td>\n",
       "      <td>2</td>\n",
       "      <td>2.56</td>\n",
       "      <td>5.0</td>\n",
       "      <td>27.00</td>\n",
       "      <td>5</td>\n",
       "      <td>NaN</td>\n",
       "      <td>...</td>\n",
       "      <td>5.20</td>\n",
       "      <td>1.0</td>\n",
       "      <td>Петергоф</td>\n",
       "      <td>37868.0</td>\n",
       "      <td>33058.0</td>\n",
       "      <td>1.0</td>\n",
       "      <td>294.0</td>\n",
       "      <td>3.0</td>\n",
       "      <td>298.0</td>\n",
       "      <td>366.0</td>\n",
       "    </tr>\n",
       "    <tr>\n",
       "      <th>14</th>\n",
       "      <td>1</td>\n",
       "      <td>4400000.0</td>\n",
       "      <td>36.00</td>\n",
       "      <td>2016-06-23T00:00:00</td>\n",
       "      <td>1</td>\n",
       "      <td>NaN</td>\n",
       "      <td>6.0</td>\n",
       "      <td>17.00</td>\n",
       "      <td>1</td>\n",
       "      <td>NaN</td>\n",
       "      <td>...</td>\n",
       "      <td>8.00</td>\n",
       "      <td>0.0</td>\n",
       "      <td>Пушкин</td>\n",
       "      <td>20782.0</td>\n",
       "      <td>30759.0</td>\n",
       "      <td>0.0</td>\n",
       "      <td>NaN</td>\n",
       "      <td>1.0</td>\n",
       "      <td>96.0</td>\n",
       "      <td>203.0</td>\n",
       "    </tr>\n",
       "  </tbody>\n",
       "</table>\n",
       "<p>15 rows × 22 columns</p>\n",
       "</div>"
      ],
      "text/plain": [
       "    total_images  last_price  total_area first_day_exposition  rooms  \\\n",
       "0             20  13000000.0      108.00  2019-03-07T00:00:00      3   \n",
       "1              7   3350000.0       40.40  2018-12-04T00:00:00      1   \n",
       "2             10   5196000.0       56.00  2015-08-20T00:00:00      2   \n",
       "3              0  64900000.0      159.00  2015-07-24T00:00:00      3   \n",
       "4              2  10000000.0      100.00  2018-06-19T00:00:00      2   \n",
       "5             10   2890000.0       30.40  2018-09-10T00:00:00      1   \n",
       "6              6   3700000.0       37.30  2017-11-02T00:00:00      1   \n",
       "7              5   7915000.0       71.60  2019-04-18T00:00:00      2   \n",
       "8             20   2900000.0       33.16  2018-05-23T00:00:00      1   \n",
       "9             18   5400000.0       61.00  2017-02-26T00:00:00      3   \n",
       "10             5   5050000.0       39.60  2017-11-16T00:00:00      1   \n",
       "11             9   3300000.0       44.00  2018-08-27T00:00:00      2   \n",
       "12            10   3890000.0       54.00  2016-06-30T00:00:00      2   \n",
       "13            20   3550000.0       42.80  2017-07-01T00:00:00      2   \n",
       "14             1   4400000.0       36.00  2016-06-23T00:00:00      1   \n",
       "\n",
       "    ceiling_height  floors_total  living_area  floor is_apartment  ...  \\\n",
       "0             2.70          16.0        51.00      8          NaN  ...   \n",
       "1              NaN          11.0        18.60      1          NaN  ...   \n",
       "2              NaN           5.0        34.30      4          NaN  ...   \n",
       "3              NaN          14.0          NaN      9          NaN  ...   \n",
       "4             3.03          14.0        32.00     13          NaN  ...   \n",
       "5              NaN          12.0        14.40      5          NaN  ...   \n",
       "6              NaN          26.0        10.60      6          NaN  ...   \n",
       "7              NaN          24.0          NaN     22          NaN  ...   \n",
       "8              NaN          27.0        15.43     26          NaN  ...   \n",
       "9             2.50           9.0        43.60      7          NaN  ...   \n",
       "10            2.67          12.0        20.30      3          NaN  ...   \n",
       "11             NaN           5.0        31.00      4        False  ...   \n",
       "12             NaN           5.0        30.00      5          NaN  ...   \n",
       "13            2.56           5.0        27.00      5          NaN  ...   \n",
       "14             NaN           6.0        17.00      1          NaN  ...   \n",
       "\n",
       "    kitchen_area  balcony              locality_name  airports_nearest  \\\n",
       "0          25.00      NaN            Санкт-Петербург           18863.0   \n",
       "1          11.00      2.0             посёлок Шушары           12817.0   \n",
       "2           8.30      0.0            Санкт-Петербург           21741.0   \n",
       "3            NaN      0.0            Санкт-Петербург           28098.0   \n",
       "4          41.00      NaN            Санкт-Петербург           31856.0   \n",
       "5           9.10      NaN  городской посёлок Янино-1               NaN   \n",
       "6          14.40      1.0          посёлок Парголово           52996.0   \n",
       "7          18.90      2.0            Санкт-Петербург           23982.0   \n",
       "8           8.81      NaN             посёлок Мурино               NaN   \n",
       "9           6.50      2.0            Санкт-Петербург           50898.0   \n",
       "10          8.50      NaN            Санкт-Петербург           38357.0   \n",
       "11          6.00      1.0                  Ломоносов           48252.0   \n",
       "12          9.00      0.0                  Сертолово               NaN   \n",
       "13          5.20      1.0                   Петергоф           37868.0   \n",
       "14          8.00      0.0                     Пушкин           20782.0   \n",
       "\n",
       "   cityCenters_nearest  parks_around3000  parks_nearest  ponds_around3000  \\\n",
       "0              16028.0               1.0          482.0               2.0   \n",
       "1              18603.0               0.0            NaN               0.0   \n",
       "2              13933.0               1.0           90.0               2.0   \n",
       "3               6800.0               2.0           84.0               3.0   \n",
       "4               8098.0               2.0          112.0               1.0   \n",
       "5                  NaN               NaN            NaN               NaN   \n",
       "6              19143.0               0.0            NaN               0.0   \n",
       "7              11634.0               0.0            NaN               0.0   \n",
       "8                  NaN               NaN            NaN               NaN   \n",
       "9              15008.0               0.0            NaN               0.0   \n",
       "10             13878.0               1.0          310.0               2.0   \n",
       "11             51677.0               0.0            NaN               0.0   \n",
       "12                 NaN               NaN            NaN               NaN   \n",
       "13             33058.0               1.0          294.0               3.0   \n",
       "14             30759.0               0.0            NaN               1.0   \n",
       "\n",
       "    ponds_nearest  days_exposition  \n",
       "0           755.0              NaN  \n",
       "1             NaN             81.0  \n",
       "2           574.0            558.0  \n",
       "3           234.0            424.0  \n",
       "4            48.0            121.0  \n",
       "5             NaN             55.0  \n",
       "6             NaN            155.0  \n",
       "7             NaN              NaN  \n",
       "8             NaN            189.0  \n",
       "9             NaN            289.0  \n",
       "10          553.0            137.0  \n",
       "11            NaN              7.0  \n",
       "12            NaN             90.0  \n",
       "13          298.0            366.0  \n",
       "14           96.0            203.0  \n",
       "\n",
       "[15 rows x 22 columns]"
      ]
     },
     "execution_count": 2,
     "metadata": {},
     "output_type": "execute_result"
    }
   ],
   "source": [
    "import pandas as pd\n",
    "data = pd.read_csv('/datasets/real_estate_data.csv', sep='\\t') #присваиваем переменной значение data\n",
    "data.head(15)"
   ]
  },
  {
   "cell_type": "code",
   "execution_count": 3,
   "metadata": {},
   "outputs": [
    {
     "name": "stdout",
     "output_type": "stream",
     "text": [
      "<class 'pandas.core.frame.DataFrame'>\n",
      "RangeIndex: 23699 entries, 0 to 23698\n",
      "Data columns (total 22 columns):\n",
      " #   Column                Non-Null Count  Dtype  \n",
      "---  ------                --------------  -----  \n",
      " 0   total_images          23699 non-null  int64  \n",
      " 1   last_price            23699 non-null  float64\n",
      " 2   total_area            23699 non-null  float64\n",
      " 3   first_day_exposition  23699 non-null  object \n",
      " 4   rooms                 23699 non-null  int64  \n",
      " 5   ceiling_height        14504 non-null  float64\n",
      " 6   floors_total          23613 non-null  float64\n",
      " 7   living_area           21796 non-null  float64\n",
      " 8   floor                 23699 non-null  int64  \n",
      " 9   is_apartment          2775 non-null   object \n",
      " 10  studio                23699 non-null  bool   \n",
      " 11  open_plan             23699 non-null  bool   \n",
      " 12  kitchen_area          21421 non-null  float64\n",
      " 13  balcony               12180 non-null  float64\n",
      " 14  locality_name         23650 non-null  object \n",
      " 15  airports_nearest      18157 non-null  float64\n",
      " 16  cityCenters_nearest   18180 non-null  float64\n",
      " 17  parks_around3000      18181 non-null  float64\n",
      " 18  parks_nearest         8079 non-null   float64\n",
      " 19  ponds_around3000      18181 non-null  float64\n",
      " 20  ponds_nearest         9110 non-null   float64\n",
      " 21  days_exposition       20518 non-null  float64\n",
      "dtypes: bool(2), float64(14), int64(3), object(3)\n",
      "memory usage: 3.7+ MB\n"
     ]
    }
   ],
   "source": [
    "data.info()"
   ]
  },
  {
   "cell_type": "code",
   "execution_count": 4,
   "metadata": {
    "scrolled": true
   },
   "outputs": [
    {
     "data": {
      "text/plain": [
       "array([[<AxesSubplot:title={'center':'total_images'}>,\n",
       "        <AxesSubplot:title={'center':'last_price'}>,\n",
       "        <AxesSubplot:title={'center':'total_area'}>,\n",
       "        <AxesSubplot:title={'center':'rooms'}>],\n",
       "       [<AxesSubplot:title={'center':'ceiling_height'}>,\n",
       "        <AxesSubplot:title={'center':'floors_total'}>,\n",
       "        <AxesSubplot:title={'center':'living_area'}>,\n",
       "        <AxesSubplot:title={'center':'floor'}>],\n",
       "       [<AxesSubplot:title={'center':'kitchen_area'}>,\n",
       "        <AxesSubplot:title={'center':'balcony'}>,\n",
       "        <AxesSubplot:title={'center':'airports_nearest'}>,\n",
       "        <AxesSubplot:title={'center':'cityCenters_nearest'}>],\n",
       "       [<AxesSubplot:title={'center':'parks_around3000'}>,\n",
       "        <AxesSubplot:title={'center':'parks_nearest'}>,\n",
       "        <AxesSubplot:title={'center':'ponds_around3000'}>,\n",
       "        <AxesSubplot:title={'center':'ponds_nearest'}>],\n",
       "       [<AxesSubplot:title={'center':'days_exposition'}>, <AxesSubplot:>,\n",
       "        <AxesSubplot:>, <AxesSubplot:>]], dtype=object)"
      ]
     },
     "execution_count": 4,
     "metadata": {},
     "output_type": "execute_result"
    },
    {
     "data": {
      "image/png": "[encoded data removed]",
      "text/plain": [
       "<Figure size 1080x1440 with 20 Axes>"
      ]
     },
     "metadata": {
      "needs_background": "light"
     },
     "output_type": "display_data"
    }
   ],
   "source": [
    "data.hist(figsize=(15, 20)) #выводим гистограммы "
   ]
  },
  {
   "cell_type": "code",
   "execution_count": 17,
   "metadata": {},
   "outputs": [
    {
     "data": {
      "text/plain": [
       "total_images            0.0\n",
       "last_price              0.0\n",
       "total_area              0.0\n",
       "first_day_exposition    0.0\n",
       "rooms                   0.0\n",
       "ceiling_height          0.0\n",
       "floors_total            0.0\n",
       "living_area             0.0\n",
       "floor                   0.0\n",
       "is_apartment            0.0\n",
       "studio                  0.0\n",
       "open_plan               0.0\n",
       "kitchen_area            0.0\n",
       "balcony                 0.0\n",
       "locality_name           0.0\n",
       "airports_nearest        0.0\n",
       "cityCenters_nearest     0.0\n",
       "parks_around3000        0.0\n",
       "parks_nearest           0.0\n",
       "ponds_around3000        0.0\n",
       "ponds_nearest           0.0\n",
       "days_exposition         0.0\n",
       "dtype: float64"
      ]
     },
     "execution_count": 17,
     "metadata": {},
     "output_type": "execute_result"
    }
   ],
   "source": [
    "duplicated_raws = data[data.duplicated()].sum()\n",
    "duplicated_raws\n",
    "#data.duplicated().sum()"
   ]
  },
  {
   "cell_type": "markdown",
   "metadata": {},
   "source": [
    "# Предобработка данных"
   ]
  },
  {
   "cell_type": "code",
   "execution_count": 18,
   "metadata": {
    "scrolled": false
   },
   "outputs": [
    {
     "data": {
      "text/plain": [
       "total_images                0\n",
       "last_price                  0\n",
       "total_area                  0\n",
       "first_day_exposition        0\n",
       "rooms                       0\n",
       "ceiling_height           9195\n",
       "floors_total               86\n",
       "living_area              1903\n",
       "floor                       0\n",
       "is_apartment            20924\n",
       "studio                      0\n",
       "open_plan                   0\n",
       "kitchen_area             2278\n",
       "balcony                 11519\n",
       "locality_name              49\n",
       "airports_nearest         5542\n",
       "cityCenters_nearest      5519\n",
       "parks_around3000         5518\n",
       "parks_nearest           15620\n",
       "ponds_around3000         5518\n",
       "ponds_nearest           14589\n",
       "days_exposition          3181\n",
       "dtype: int64"
      ]
     },
     "execution_count": 18,
     "metadata": {},
     "output_type": "execute_result"
    }
   ],
   "source": [
    "data.isna().sum()"
   ]
  },
  {
   "cell_type": "code",
   "execution_count": 19,
   "metadata": {},
   "outputs": [
    {
     "name": "stdout",
     "output_type": "stream",
     "text": [
      "Количество пропущенных значений в столбце airports_nearest: 5542\n"
     ]
    }
   ],
   "source": [
    "print ('Количество пропущенных значений в столбце airports_nearest:',\n",
    "(len(data[data['airports_nearest'].isna()])))"
   ]
  },
  {
   "cell_type": "markdown",
   "metadata": {},
   "source": [
    "Пропущенные значения неважны для целей исследования\n",
    "Количество пропущенных значений: 5542 - вероятной причиной скорее всего \n",
    "является отстутсвие информации по данному параметру. Данные можно заполнить исходя из города \n",
    "(допустим если город Москва, то можно взять среднее растояние по имеющимся данным по этому городу)."
   ]
  },
  {
   "cell_type": "code",
   "execution_count": 20,
   "metadata": {},
   "outputs": [
    {
     "name": "stdout",
     "output_type": "stream",
     "text": [
      "Количество пропущенных значений в столбце balcony: 11519\n"
     ]
    }
   ],
   "source": [
    "print ('Количество пропущенных значений в столбце balcony:', (len(data[data['balcony'].isna()])))"
   ]
  },
  {
   "cell_type": "markdown",
   "metadata": {},
   "source": [
    "Тип данных заменить на int\n",
    "Количество пропущенных значений: 11519 - вероятной причиной скорее всего \n",
    "является пропуск в заполнении если балкон отсутствует. Данные можно заполнить исходя из того,\n",
    "что если балкон отстутсвует, то значение 0"
   ]
  },
  {
   "cell_type": "code",
   "execution_count": 21,
   "metadata": {},
   "outputs": [
    {
     "name": "stdout",
     "output_type": "stream",
     "text": [
      "Количество пропущенных значений в столбце ceiling_height: 9195\n"
     ]
    }
   ],
   "source": [
    "print ('Количество пропущенных значений в столбце ceiling_height:',\n",
    "(len(data[data['ceiling_height'].isna()])))"
   ]
  },
  {
   "cell_type": "markdown",
   "metadata": {},
   "source": [
    "Количество пропущенных значений: 9195 - вероятной причиной скорее всего \n",
    "является отстутсвие информации по данному параметру. Данные можно заполнить исходя из \n",
    "средних параметров,но так как пропущено почти 40% это может существенно отразится \n",
    "на результатах исследования. До этого поменять аномальные значения. \n"
   ]
  },
  {
   "cell_type": "code",
   "execution_count": 22,
   "metadata": {},
   "outputs": [
    {
     "name": "stdout",
     "output_type": "stream",
     "text": [
      "Количество пропущенных значений в столбце floors_total: 86\n"
     ]
    }
   ],
   "source": [
    "print ('Количество пропущенных значений в столбце floors_total:',\n",
    "(len(data[data['floors_total'].isna()])))"
   ]
  },
  {
   "cell_type": "markdown",
   "metadata": {},
   "source": [
    "Тип данных заменить на int\n",
    "Количество пропущенных значений: 86 - вероятной причиной скорее всего \n",
    "является человеческий фактор или ошибка в выгрузке.\n",
    "Пропуски можно просто удалить, что не скажется на исследовании. "
   ]
  },
  {
   "cell_type": "code",
   "execution_count": 23,
   "metadata": {},
   "outputs": [
    {
     "data": {
      "text/plain": [
       "3181"
      ]
     },
     "execution_count": 23,
     "metadata": {},
     "output_type": "execute_result"
    }
   ],
   "source": [
    "(len(data[data['days_exposition'].isna()]))"
   ]
  },
  {
   "cell_type": "markdown",
   "metadata": {},
   "source": [
    "Количество пропущенных значений: 3181 - вероятной причиной скорее всего отсутствие информации -\n",
    "возможно, данные квартиры еще находятся в продаже (нужно изучить даты выставления на продажу), \n",
    "человеческий фактор или ошибка в выгрузке. Данные можно заполнить исходя из средних параметров,\n",
    "но так как пропущено почти 13,4% это может существенно отразится на результатах исследования."
   ]
  },
  {
   "cell_type": "code",
   "execution_count": 24,
   "metadata": {},
   "outputs": [
    {
     "data": {
      "text/html": [
       "<div>\n",
       "<style scoped>\n",
       "    .dataframe tbody tr th:only-of-type {\n",
       "        vertical-align: middle;\n",
       "    }\n",
       "\n",
       "    .dataframe tbody tr th {\n",
       "        vertical-align: top;\n",
       "    }\n",
       "\n",
       "    .dataframe thead th {\n",
       "        text-align: right;\n",
       "    }\n",
       "</style>\n",
       "<table border=\"1\" class=\"dataframe\">\n",
       "  <thead>\n",
       "    <tr style=\"text-align: right;\">\n",
       "      <th></th>\n",
       "      <th>total_images</th>\n",
       "      <th>last_price</th>\n",
       "      <th>total_area</th>\n",
       "      <th>first_day_exposition</th>\n",
       "      <th>rooms</th>\n",
       "      <th>ceiling_height</th>\n",
       "      <th>floors_total</th>\n",
       "      <th>living_area</th>\n",
       "      <th>floor</th>\n",
       "      <th>is_apartment</th>\n",
       "      <th>...</th>\n",
       "      <th>kitchen_area</th>\n",
       "      <th>balcony</th>\n",
       "      <th>locality_name</th>\n",
       "      <th>airports_nearest</th>\n",
       "      <th>cityCenters_nearest</th>\n",
       "      <th>parks_around3000</th>\n",
       "      <th>parks_nearest</th>\n",
       "      <th>ponds_around3000</th>\n",
       "      <th>ponds_nearest</th>\n",
       "      <th>days_exposition</th>\n",
       "    </tr>\n",
       "  </thead>\n",
       "  <tbody>\n",
       "    <tr>\n",
       "      <th>0</th>\n",
       "      <td>20</td>\n",
       "      <td>13000000.0</td>\n",
       "      <td>108.00</td>\n",
       "      <td>2019-03-07T00:00:00</td>\n",
       "      <td>3</td>\n",
       "      <td>2.70</td>\n",
       "      <td>16.0</td>\n",
       "      <td>51.00</td>\n",
       "      <td>8</td>\n",
       "      <td>NaN</td>\n",
       "      <td>...</td>\n",
       "      <td>25.00</td>\n",
       "      <td>NaN</td>\n",
       "      <td>Санкт-Петербург</td>\n",
       "      <td>18863.0</td>\n",
       "      <td>16028.0</td>\n",
       "      <td>1.0</td>\n",
       "      <td>482.0</td>\n",
       "      <td>2.0</td>\n",
       "      <td>755.0</td>\n",
       "      <td>NaN</td>\n",
       "    </tr>\n",
       "    <tr>\n",
       "      <th>7</th>\n",
       "      <td>5</td>\n",
       "      <td>7915000.0</td>\n",
       "      <td>71.60</td>\n",
       "      <td>2019-04-18T00:00:00</td>\n",
       "      <td>2</td>\n",
       "      <td>NaN</td>\n",
       "      <td>24.0</td>\n",
       "      <td>NaN</td>\n",
       "      <td>22</td>\n",
       "      <td>NaN</td>\n",
       "      <td>...</td>\n",
       "      <td>18.90</td>\n",
       "      <td>2.0</td>\n",
       "      <td>Санкт-Петербург</td>\n",
       "      <td>23982.0</td>\n",
       "      <td>11634.0</td>\n",
       "      <td>0.0</td>\n",
       "      <td>NaN</td>\n",
       "      <td>0.0</td>\n",
       "      <td>NaN</td>\n",
       "      <td>NaN</td>\n",
       "    </tr>\n",
       "    <tr>\n",
       "      <th>44</th>\n",
       "      <td>13</td>\n",
       "      <td>5350000.0</td>\n",
       "      <td>40.00</td>\n",
       "      <td>2018-11-18T00:00:00</td>\n",
       "      <td>1</td>\n",
       "      <td>NaN</td>\n",
       "      <td>22.0</td>\n",
       "      <td>NaN</td>\n",
       "      <td>3</td>\n",
       "      <td>NaN</td>\n",
       "      <td>...</td>\n",
       "      <td>NaN</td>\n",
       "      <td>1.0</td>\n",
       "      <td>Санкт-Петербург</td>\n",
       "      <td>30471.0</td>\n",
       "      <td>11603.0</td>\n",
       "      <td>1.0</td>\n",
       "      <td>620.0</td>\n",
       "      <td>1.0</td>\n",
       "      <td>1152.0</td>\n",
       "      <td>NaN</td>\n",
       "    </tr>\n",
       "    <tr>\n",
       "      <th>45</th>\n",
       "      <td>17</td>\n",
       "      <td>5200000.0</td>\n",
       "      <td>50.60</td>\n",
       "      <td>2018-12-02T00:00:00</td>\n",
       "      <td>2</td>\n",
       "      <td>2.65</td>\n",
       "      <td>9.0</td>\n",
       "      <td>30.30</td>\n",
       "      <td>7</td>\n",
       "      <td>NaN</td>\n",
       "      <td>...</td>\n",
       "      <td>7.00</td>\n",
       "      <td>NaN</td>\n",
       "      <td>Санкт-Петербург</td>\n",
       "      <td>30011.0</td>\n",
       "      <td>12872.0</td>\n",
       "      <td>0.0</td>\n",
       "      <td>NaN</td>\n",
       "      <td>0.0</td>\n",
       "      <td>NaN</td>\n",
       "      <td>NaN</td>\n",
       "    </tr>\n",
       "    <tr>\n",
       "      <th>46</th>\n",
       "      <td>17</td>\n",
       "      <td>6600000.0</td>\n",
       "      <td>52.10</td>\n",
       "      <td>2019-01-31T00:00:00</td>\n",
       "      <td>2</td>\n",
       "      <td>2.60</td>\n",
       "      <td>24.0</td>\n",
       "      <td>29.70</td>\n",
       "      <td>9</td>\n",
       "      <td>NaN</td>\n",
       "      <td>...</td>\n",
       "      <td>8.30</td>\n",
       "      <td>2.0</td>\n",
       "      <td>Санкт-Петербург</td>\n",
       "      <td>15114.0</td>\n",
       "      <td>12702.0</td>\n",
       "      <td>0.0</td>\n",
       "      <td>NaN</td>\n",
       "      <td>0.0</td>\n",
       "      <td>NaN</td>\n",
       "      <td>NaN</td>\n",
       "    </tr>\n",
       "    <tr>\n",
       "      <th>49</th>\n",
       "      <td>1</td>\n",
       "      <td>3050000.0</td>\n",
       "      <td>30.80</td>\n",
       "      <td>2018-11-22T00:00:00</td>\n",
       "      <td>1</td>\n",
       "      <td>2.50</td>\n",
       "      <td>9.0</td>\n",
       "      <td>18.00</td>\n",
       "      <td>7</td>\n",
       "      <td>NaN</td>\n",
       "      <td>...</td>\n",
       "      <td>6.00</td>\n",
       "      <td>NaN</td>\n",
       "      <td>Санкт-Петербург</td>\n",
       "      <td>45341.0</td>\n",
       "      <td>16603.0</td>\n",
       "      <td>1.0</td>\n",
       "      <td>675.0</td>\n",
       "      <td>0.0</td>\n",
       "      <td>NaN</td>\n",
       "      <td>NaN</td>\n",
       "    </tr>\n",
       "    <tr>\n",
       "      <th>52</th>\n",
       "      <td>20</td>\n",
       "      <td>11795000.0</td>\n",
       "      <td>136.00</td>\n",
       "      <td>2017-09-22T00:00:00</td>\n",
       "      <td>6</td>\n",
       "      <td>3.00</td>\n",
       "      <td>2.0</td>\n",
       "      <td>94.00</td>\n",
       "      <td>2</td>\n",
       "      <td>NaN</td>\n",
       "      <td>...</td>\n",
       "      <td>11.00</td>\n",
       "      <td>1.0</td>\n",
       "      <td>Санкт-Петербург</td>\n",
       "      <td>16510.0</td>\n",
       "      <td>6582.0</td>\n",
       "      <td>1.0</td>\n",
       "      <td>526.0</td>\n",
       "      <td>0.0</td>\n",
       "      <td>NaN</td>\n",
       "      <td>NaN</td>\n",
       "    </tr>\n",
       "    <tr>\n",
       "      <th>71</th>\n",
       "      <td>20</td>\n",
       "      <td>4850000.0</td>\n",
       "      <td>57.50</td>\n",
       "      <td>2019-03-27T00:00:00</td>\n",
       "      <td>3</td>\n",
       "      <td>2.50</td>\n",
       "      <td>9.0</td>\n",
       "      <td>39.00</td>\n",
       "      <td>8</td>\n",
       "      <td>NaN</td>\n",
       "      <td>...</td>\n",
       "      <td>6.20</td>\n",
       "      <td>NaN</td>\n",
       "      <td>Санкт-Петербург</td>\n",
       "      <td>33623.0</td>\n",
       "      <td>12267.0</td>\n",
       "      <td>1.0</td>\n",
       "      <td>334.0</td>\n",
       "      <td>1.0</td>\n",
       "      <td>333.0</td>\n",
       "      <td>NaN</td>\n",
       "    </tr>\n",
       "    <tr>\n",
       "      <th>81</th>\n",
       "      <td>9</td>\n",
       "      <td>10949000.0</td>\n",
       "      <td>68.00</td>\n",
       "      <td>2018-12-27T00:00:00</td>\n",
       "      <td>1</td>\n",
       "      <td>NaN</td>\n",
       "      <td>10.0</td>\n",
       "      <td>NaN</td>\n",
       "      <td>6</td>\n",
       "      <td>NaN</td>\n",
       "      <td>...</td>\n",
       "      <td>NaN</td>\n",
       "      <td>NaN</td>\n",
       "      <td>Санкт-Петербург</td>\n",
       "      <td>NaN</td>\n",
       "      <td>NaN</td>\n",
       "      <td>NaN</td>\n",
       "      <td>NaN</td>\n",
       "      <td>NaN</td>\n",
       "      <td>NaN</td>\n",
       "      <td>NaN</td>\n",
       "    </tr>\n",
       "    <tr>\n",
       "      <th>84</th>\n",
       "      <td>11</td>\n",
       "      <td>2400000.0</td>\n",
       "      <td>43.90</td>\n",
       "      <td>2019-03-13T00:00:00</td>\n",
       "      <td>2</td>\n",
       "      <td>NaN</td>\n",
       "      <td>2.0</td>\n",
       "      <td>27.46</td>\n",
       "      <td>1</td>\n",
       "      <td>NaN</td>\n",
       "      <td>...</td>\n",
       "      <td>5.20</td>\n",
       "      <td>NaN</td>\n",
       "      <td>Кировск</td>\n",
       "      <td>NaN</td>\n",
       "      <td>NaN</td>\n",
       "      <td>NaN</td>\n",
       "      <td>NaN</td>\n",
       "      <td>NaN</td>\n",
       "      <td>NaN</td>\n",
       "      <td>NaN</td>\n",
       "    </tr>\n",
       "    <tr>\n",
       "      <th>87</th>\n",
       "      <td>19</td>\n",
       "      <td>4999000.0</td>\n",
       "      <td>52.00</td>\n",
       "      <td>2019-04-23T00:00:00</td>\n",
       "      <td>2</td>\n",
       "      <td>2.61</td>\n",
       "      <td>9.0</td>\n",
       "      <td>30.00</td>\n",
       "      <td>6</td>\n",
       "      <td>NaN</td>\n",
       "      <td>...</td>\n",
       "      <td>9.00</td>\n",
       "      <td>2.0</td>\n",
       "      <td>Санкт-Петербург</td>\n",
       "      <td>12444.0</td>\n",
       "      <td>15035.0</td>\n",
       "      <td>0.0</td>\n",
       "      <td>NaN</td>\n",
       "      <td>1.0</td>\n",
       "      <td>881.0</td>\n",
       "      <td>NaN</td>\n",
       "    </tr>\n",
       "    <tr>\n",
       "      <th>88</th>\n",
       "      <td>0</td>\n",
       "      <td>1700000.0</td>\n",
       "      <td>33.10</td>\n",
       "      <td>2019-04-09T00:00:00</td>\n",
       "      <td>1</td>\n",
       "      <td>NaN</td>\n",
       "      <td>5.0</td>\n",
       "      <td>18.40</td>\n",
       "      <td>1</td>\n",
       "      <td>NaN</td>\n",
       "      <td>...</td>\n",
       "      <td>6.40</td>\n",
       "      <td>NaN</td>\n",
       "      <td>посёлок городского типа Лебяжье</td>\n",
       "      <td>NaN</td>\n",
       "      <td>NaN</td>\n",
       "      <td>NaN</td>\n",
       "      <td>NaN</td>\n",
       "      <td>NaN</td>\n",
       "      <td>NaN</td>\n",
       "      <td>NaN</td>\n",
       "    </tr>\n",
       "    <tr>\n",
       "      <th>101</th>\n",
       "      <td>4</td>\n",
       "      <td>3000000.0</td>\n",
       "      <td>37.00</td>\n",
       "      <td>2019-03-23T00:00:00</td>\n",
       "      <td>1</td>\n",
       "      <td>2.75</td>\n",
       "      <td>10.0</td>\n",
       "      <td>12.00</td>\n",
       "      <td>3</td>\n",
       "      <td>NaN</td>\n",
       "      <td>...</td>\n",
       "      <td>13.00</td>\n",
       "      <td>NaN</td>\n",
       "      <td>садовое товарищество Новая Ропша</td>\n",
       "      <td>NaN</td>\n",
       "      <td>NaN</td>\n",
       "      <td>NaN</td>\n",
       "      <td>NaN</td>\n",
       "      <td>NaN</td>\n",
       "      <td>NaN</td>\n",
       "      <td>NaN</td>\n",
       "    </tr>\n",
       "    <tr>\n",
       "      <th>108</th>\n",
       "      <td>9</td>\n",
       "      <td>9490000.0</td>\n",
       "      <td>80.00</td>\n",
       "      <td>2017-10-30T00:00:00</td>\n",
       "      <td>3</td>\n",
       "      <td>2.55</td>\n",
       "      <td>10.0</td>\n",
       "      <td>46.00</td>\n",
       "      <td>7</td>\n",
       "      <td>NaN</td>\n",
       "      <td>...</td>\n",
       "      <td>11.00</td>\n",
       "      <td>1.0</td>\n",
       "      <td>Санкт-Петербург</td>\n",
       "      <td>35958.0</td>\n",
       "      <td>9860.0</td>\n",
       "      <td>0.0</td>\n",
       "      <td>NaN</td>\n",
       "      <td>0.0</td>\n",
       "      <td>NaN</td>\n",
       "      <td>NaN</td>\n",
       "    </tr>\n",
       "    <tr>\n",
       "      <th>114</th>\n",
       "      <td>5</td>\n",
       "      <td>4000000.0</td>\n",
       "      <td>21.40</td>\n",
       "      <td>2019-02-07T00:00:00</td>\n",
       "      <td>1</td>\n",
       "      <td>2.90</td>\n",
       "      <td>8.0</td>\n",
       "      <td>8.30</td>\n",
       "      <td>7</td>\n",
       "      <td>NaN</td>\n",
       "      <td>...</td>\n",
       "      <td>6.30</td>\n",
       "      <td>NaN</td>\n",
       "      <td>Санкт-Петербург</td>\n",
       "      <td>27089.0</td>\n",
       "      <td>5791.0</td>\n",
       "      <td>2.0</td>\n",
       "      <td>488.0</td>\n",
       "      <td>1.0</td>\n",
       "      <td>286.0</td>\n",
       "      <td>NaN</td>\n",
       "    </tr>\n",
       "    <tr>\n",
       "      <th>122</th>\n",
       "      <td>20</td>\n",
       "      <td>2100000.0</td>\n",
       "      <td>60.00</td>\n",
       "      <td>2019-04-06T00:00:00</td>\n",
       "      <td>2</td>\n",
       "      <td>2.50</td>\n",
       "      <td>5.0</td>\n",
       "      <td>31.50</td>\n",
       "      <td>2</td>\n",
       "      <td>NaN</td>\n",
       "      <td>...</td>\n",
       "      <td>9.00</td>\n",
       "      <td>2.0</td>\n",
       "      <td>Волхов</td>\n",
       "      <td>NaN</td>\n",
       "      <td>NaN</td>\n",
       "      <td>NaN</td>\n",
       "      <td>NaN</td>\n",
       "      <td>NaN</td>\n",
       "      <td>NaN</td>\n",
       "      <td>NaN</td>\n",
       "    </tr>\n",
       "    <tr>\n",
       "      <th>124</th>\n",
       "      <td>20</td>\n",
       "      <td>12490000.0</td>\n",
       "      <td>87.80</td>\n",
       "      <td>2019-03-10T00:00:00</td>\n",
       "      <td>3</td>\n",
       "      <td>NaN</td>\n",
       "      <td>12.0</td>\n",
       "      <td>45.10</td>\n",
       "      <td>3</td>\n",
       "      <td>NaN</td>\n",
       "      <td>...</td>\n",
       "      <td>24.00</td>\n",
       "      <td>1.0</td>\n",
       "      <td>Санкт-Петербург</td>\n",
       "      <td>32746.0</td>\n",
       "      <td>13845.0</td>\n",
       "      <td>0.0</td>\n",
       "      <td>NaN</td>\n",
       "      <td>1.0</td>\n",
       "      <td>516.0</td>\n",
       "      <td>NaN</td>\n",
       "    </tr>\n",
       "    <tr>\n",
       "      <th>126</th>\n",
       "      <td>10</td>\n",
       "      <td>4050000.0</td>\n",
       "      <td>51.00</td>\n",
       "      <td>2019-04-23T00:00:00</td>\n",
       "      <td>2</td>\n",
       "      <td>NaN</td>\n",
       "      <td>5.0</td>\n",
       "      <td>30.50</td>\n",
       "      <td>1</td>\n",
       "      <td>NaN</td>\n",
       "      <td>...</td>\n",
       "      <td>6.60</td>\n",
       "      <td>NaN</td>\n",
       "      <td>Пушкин</td>\n",
       "      <td>17974.0</td>\n",
       "      <td>32546.0</td>\n",
       "      <td>1.0</td>\n",
       "      <td>15.0</td>\n",
       "      <td>1.0</td>\n",
       "      <td>659.0</td>\n",
       "      <td>NaN</td>\n",
       "    </tr>\n",
       "    <tr>\n",
       "      <th>127</th>\n",
       "      <td>6</td>\n",
       "      <td>6210000.0</td>\n",
       "      <td>55.00</td>\n",
       "      <td>2019-04-29T00:00:00</td>\n",
       "      <td>2</td>\n",
       "      <td>2.50</td>\n",
       "      <td>11.0</td>\n",
       "      <td>31.90</td>\n",
       "      <td>3</td>\n",
       "      <td>NaN</td>\n",
       "      <td>...</td>\n",
       "      <td>8.30</td>\n",
       "      <td>NaN</td>\n",
       "      <td>Санкт-Петербург</td>\n",
       "      <td>31398.0</td>\n",
       "      <td>11990.0</td>\n",
       "      <td>0.0</td>\n",
       "      <td>NaN</td>\n",
       "      <td>0.0</td>\n",
       "      <td>NaN</td>\n",
       "      <td>NaN</td>\n",
       "    </tr>\n",
       "    <tr>\n",
       "      <th>131</th>\n",
       "      <td>8</td>\n",
       "      <td>3400000.0</td>\n",
       "      <td>71.10</td>\n",
       "      <td>2018-08-20T00:00:00</td>\n",
       "      <td>3</td>\n",
       "      <td>2.50</td>\n",
       "      <td>5.0</td>\n",
       "      <td>41.90</td>\n",
       "      <td>4</td>\n",
       "      <td>NaN</td>\n",
       "      <td>...</td>\n",
       "      <td>9.00</td>\n",
       "      <td>2.0</td>\n",
       "      <td>Приозерск</td>\n",
       "      <td>NaN</td>\n",
       "      <td>NaN</td>\n",
       "      <td>NaN</td>\n",
       "      <td>NaN</td>\n",
       "      <td>NaN</td>\n",
       "      <td>NaN</td>\n",
       "      <td>NaN</td>\n",
       "    </tr>\n",
       "    <tr>\n",
       "      <th>141</th>\n",
       "      <td>8</td>\n",
       "      <td>6500000.0</td>\n",
       "      <td>32.60</td>\n",
       "      <td>2019-02-27T00:00:00</td>\n",
       "      <td>1</td>\n",
       "      <td>NaN</td>\n",
       "      <td>5.0</td>\n",
       "      <td>18.50</td>\n",
       "      <td>5</td>\n",
       "      <td>NaN</td>\n",
       "      <td>...</td>\n",
       "      <td>5.50</td>\n",
       "      <td>NaN</td>\n",
       "      <td>Санкт-Петербург</td>\n",
       "      <td>24764.0</td>\n",
       "      <td>5448.0</td>\n",
       "      <td>0.0</td>\n",
       "      <td>NaN</td>\n",
       "      <td>0.0</td>\n",
       "      <td>NaN</td>\n",
       "      <td>NaN</td>\n",
       "    </tr>\n",
       "    <tr>\n",
       "      <th>151</th>\n",
       "      <td>15</td>\n",
       "      <td>2950000.0</td>\n",
       "      <td>44.90</td>\n",
       "      <td>2019-03-20T00:00:00</td>\n",
       "      <td>2</td>\n",
       "      <td>NaN</td>\n",
       "      <td>5.0</td>\n",
       "      <td>28.00</td>\n",
       "      <td>3</td>\n",
       "      <td>NaN</td>\n",
       "      <td>...</td>\n",
       "      <td>5.40</td>\n",
       "      <td>1.0</td>\n",
       "      <td>посёлок Аннино</td>\n",
       "      <td>NaN</td>\n",
       "      <td>NaN</td>\n",
       "      <td>NaN</td>\n",
       "      <td>NaN</td>\n",
       "      <td>NaN</td>\n",
       "      <td>NaN</td>\n",
       "      <td>NaN</td>\n",
       "    </tr>\n",
       "    <tr>\n",
       "      <th>162</th>\n",
       "      <td>2</td>\n",
       "      <td>5600000.0</td>\n",
       "      <td>66.00</td>\n",
       "      <td>2018-07-11T00:00:00</td>\n",
       "      <td>3</td>\n",
       "      <td>2.50</td>\n",
       "      <td>9.0</td>\n",
       "      <td>48.00</td>\n",
       "      <td>9</td>\n",
       "      <td>NaN</td>\n",
       "      <td>...</td>\n",
       "      <td>6.30</td>\n",
       "      <td>NaN</td>\n",
       "      <td>Санкт-Петербург</td>\n",
       "      <td>45589.0</td>\n",
       "      <td>17018.0</td>\n",
       "      <td>1.0</td>\n",
       "      <td>762.0</td>\n",
       "      <td>0.0</td>\n",
       "      <td>NaN</td>\n",
       "      <td>NaN</td>\n",
       "    </tr>\n",
       "    <tr>\n",
       "      <th>165</th>\n",
       "      <td>17</td>\n",
       "      <td>7430000.0</td>\n",
       "      <td>60.20</td>\n",
       "      <td>2019-02-28T00:00:00</td>\n",
       "      <td>2</td>\n",
       "      <td>2.50</td>\n",
       "      <td>4.0</td>\n",
       "      <td>NaN</td>\n",
       "      <td>2</td>\n",
       "      <td>NaN</td>\n",
       "      <td>...</td>\n",
       "      <td>10.20</td>\n",
       "      <td>NaN</td>\n",
       "      <td>Сестрорецк</td>\n",
       "      <td>54526.0</td>\n",
       "      <td>35625.0</td>\n",
       "      <td>0.0</td>\n",
       "      <td>NaN</td>\n",
       "      <td>0.0</td>\n",
       "      <td>NaN</td>\n",
       "      <td>NaN</td>\n",
       "    </tr>\n",
       "    <tr>\n",
       "      <th>167</th>\n",
       "      <td>11</td>\n",
       "      <td>3750000.0</td>\n",
       "      <td>35.10</td>\n",
       "      <td>2019-04-08T00:00:00</td>\n",
       "      <td>1</td>\n",
       "      <td>2.75</td>\n",
       "      <td>23.0</td>\n",
       "      <td>15.90</td>\n",
       "      <td>1</td>\n",
       "      <td>NaN</td>\n",
       "      <td>...</td>\n",
       "      <td>9.80</td>\n",
       "      <td>NaN</td>\n",
       "      <td>Санкт-Петербург</td>\n",
       "      <td>22314.0</td>\n",
       "      <td>17642.0</td>\n",
       "      <td>0.0</td>\n",
       "      <td>NaN</td>\n",
       "      <td>1.0</td>\n",
       "      <td>68.0</td>\n",
       "      <td>NaN</td>\n",
       "    </tr>\n",
       "    <tr>\n",
       "      <th>173</th>\n",
       "      <td>15</td>\n",
       "      <td>11000000.0</td>\n",
       "      <td>97.90</td>\n",
       "      <td>2017-04-11T00:00:00</td>\n",
       "      <td>3</td>\n",
       "      <td>2.75</td>\n",
       "      <td>16.0</td>\n",
       "      <td>57.70</td>\n",
       "      <td>3</td>\n",
       "      <td>NaN</td>\n",
       "      <td>...</td>\n",
       "      <td>14.70</td>\n",
       "      <td>1.0</td>\n",
       "      <td>Санкт-Петербург</td>\n",
       "      <td>14069.0</td>\n",
       "      <td>12621.0</td>\n",
       "      <td>0.0</td>\n",
       "      <td>NaN</td>\n",
       "      <td>0.0</td>\n",
       "      <td>NaN</td>\n",
       "      <td>NaN</td>\n",
       "    </tr>\n",
       "    <tr>\n",
       "      <th>175</th>\n",
       "      <td>20</td>\n",
       "      <td>2550000.0</td>\n",
       "      <td>52.00</td>\n",
       "      <td>2019-03-08T00:00:00</td>\n",
       "      <td>2</td>\n",
       "      <td>2.60</td>\n",
       "      <td>5.0</td>\n",
       "      <td>31.00</td>\n",
       "      <td>3</td>\n",
       "      <td>NaN</td>\n",
       "      <td>...</td>\n",
       "      <td>10.00</td>\n",
       "      <td>1.0</td>\n",
       "      <td>поселок Первомайское</td>\n",
       "      <td>NaN</td>\n",
       "      <td>NaN</td>\n",
       "      <td>NaN</td>\n",
       "      <td>NaN</td>\n",
       "      <td>NaN</td>\n",
       "      <td>NaN</td>\n",
       "      <td>NaN</td>\n",
       "    </tr>\n",
       "    <tr>\n",
       "      <th>176</th>\n",
       "      <td>5</td>\n",
       "      <td>7835000.0</td>\n",
       "      <td>52.56</td>\n",
       "      <td>2019-03-14T00:00:00</td>\n",
       "      <td>1</td>\n",
       "      <td>NaN</td>\n",
       "      <td>24.0</td>\n",
       "      <td>15.36</td>\n",
       "      <td>2</td>\n",
       "      <td>NaN</td>\n",
       "      <td>...</td>\n",
       "      <td>20.91</td>\n",
       "      <td>NaN</td>\n",
       "      <td>Санкт-Петербург</td>\n",
       "      <td>43396.0</td>\n",
       "      <td>12153.0</td>\n",
       "      <td>0.0</td>\n",
       "      <td>NaN</td>\n",
       "      <td>0.0</td>\n",
       "      <td>NaN</td>\n",
       "      <td>NaN</td>\n",
       "    </tr>\n",
       "    <tr>\n",
       "      <th>178</th>\n",
       "      <td>18</td>\n",
       "      <td>16300000.0</td>\n",
       "      <td>153.00</td>\n",
       "      <td>2019-03-30T00:00:00</td>\n",
       "      <td>4</td>\n",
       "      <td>2.71</td>\n",
       "      <td>10.0</td>\n",
       "      <td>89.40</td>\n",
       "      <td>10</td>\n",
       "      <td>NaN</td>\n",
       "      <td>...</td>\n",
       "      <td>NaN</td>\n",
       "      <td>1.0</td>\n",
       "      <td>Санкт-Петербург</td>\n",
       "      <td>52130.0</td>\n",
       "      <td>14042.0</td>\n",
       "      <td>0.0</td>\n",
       "      <td>NaN</td>\n",
       "      <td>2.0</td>\n",
       "      <td>346.0</td>\n",
       "      <td>NaN</td>\n",
       "    </tr>\n",
       "    <tr>\n",
       "      <th>179</th>\n",
       "      <td>5</td>\n",
       "      <td>14800000.0</td>\n",
       "      <td>108.70</td>\n",
       "      <td>2019-04-11T00:00:00</td>\n",
       "      <td>3</td>\n",
       "      <td>4.00</td>\n",
       "      <td>5.0</td>\n",
       "      <td>72.40</td>\n",
       "      <td>5</td>\n",
       "      <td>NaN</td>\n",
       "      <td>...</td>\n",
       "      <td>8.00</td>\n",
       "      <td>NaN</td>\n",
       "      <td>Санкт-Петербург</td>\n",
       "      <td>23017.0</td>\n",
       "      <td>2559.0</td>\n",
       "      <td>1.0</td>\n",
       "      <td>559.0</td>\n",
       "      <td>0.0</td>\n",
       "      <td>NaN</td>\n",
       "      <td>NaN</td>\n",
       "    </tr>\n",
       "    <tr>\n",
       "      <th>181</th>\n",
       "      <td>2</td>\n",
       "      <td>7900000.0</td>\n",
       "      <td>71.80</td>\n",
       "      <td>2017-08-23T00:00:00</td>\n",
       "      <td>3</td>\n",
       "      <td>3.00</td>\n",
       "      <td>5.0</td>\n",
       "      <td>38.70</td>\n",
       "      <td>1</td>\n",
       "      <td>NaN</td>\n",
       "      <td>...</td>\n",
       "      <td>12.00</td>\n",
       "      <td>NaN</td>\n",
       "      <td>Санкт-Петербург</td>\n",
       "      <td>22036.0</td>\n",
       "      <td>3301.0</td>\n",
       "      <td>0.0</td>\n",
       "      <td>NaN</td>\n",
       "      <td>1.0</td>\n",
       "      <td>585.0</td>\n",
       "      <td>NaN</td>\n",
       "    </tr>\n",
       "    <tr>\n",
       "      <th>188</th>\n",
       "      <td>15</td>\n",
       "      <td>4600000.0</td>\n",
       "      <td>38.50</td>\n",
       "      <td>2019-04-16T00:00:00</td>\n",
       "      <td>1</td>\n",
       "      <td>2.50</td>\n",
       "      <td>12.0</td>\n",
       "      <td>18.50</td>\n",
       "      <td>5</td>\n",
       "      <td>NaN</td>\n",
       "      <td>...</td>\n",
       "      <td>NaN</td>\n",
       "      <td>NaN</td>\n",
       "      <td>Санкт-Петербург</td>\n",
       "      <td>49065.0</td>\n",
       "      <td>16735.0</td>\n",
       "      <td>1.0</td>\n",
       "      <td>501.0</td>\n",
       "      <td>0.0</td>\n",
       "      <td>NaN</td>\n",
       "      <td>NaN</td>\n",
       "    </tr>\n",
       "    <tr>\n",
       "      <th>206</th>\n",
       "      <td>16</td>\n",
       "      <td>5080000.0</td>\n",
       "      <td>31.30</td>\n",
       "      <td>2019-04-23T00:00:00</td>\n",
       "      <td>1</td>\n",
       "      <td>2.50</td>\n",
       "      <td>7.0</td>\n",
       "      <td>16.00</td>\n",
       "      <td>4</td>\n",
       "      <td>False</td>\n",
       "      <td>...</td>\n",
       "      <td>7.60</td>\n",
       "      <td>1.0</td>\n",
       "      <td>Санкт-Петербург</td>\n",
       "      <td>27753.0</td>\n",
       "      <td>6692.0</td>\n",
       "      <td>1.0</td>\n",
       "      <td>860.0</td>\n",
       "      <td>1.0</td>\n",
       "      <td>694.0</td>\n",
       "      <td>NaN</td>\n",
       "    </tr>\n",
       "    <tr>\n",
       "      <th>207</th>\n",
       "      <td>11</td>\n",
       "      <td>9000000.0</td>\n",
       "      <td>72.60</td>\n",
       "      <td>2018-09-08T00:00:00</td>\n",
       "      <td>2</td>\n",
       "      <td>2.90</td>\n",
       "      <td>5.0</td>\n",
       "      <td>43.20</td>\n",
       "      <td>4</td>\n",
       "      <td>NaN</td>\n",
       "      <td>...</td>\n",
       "      <td>11.40</td>\n",
       "      <td>NaN</td>\n",
       "      <td>Санкт-Петербург</td>\n",
       "      <td>22794.0</td>\n",
       "      <td>1645.0</td>\n",
       "      <td>2.0</td>\n",
       "      <td>276.0</td>\n",
       "      <td>3.0</td>\n",
       "      <td>485.0</td>\n",
       "      <td>NaN</td>\n",
       "    </tr>\n",
       "    <tr>\n",
       "      <th>208</th>\n",
       "      <td>10</td>\n",
       "      <td>2450000.0</td>\n",
       "      <td>42.50</td>\n",
       "      <td>2019-04-17T00:00:00</td>\n",
       "      <td>1</td>\n",
       "      <td>2.60</td>\n",
       "      <td>5.0</td>\n",
       "      <td>17.20</td>\n",
       "      <td>5</td>\n",
       "      <td>NaN</td>\n",
       "      <td>...</td>\n",
       "      <td>8.40</td>\n",
       "      <td>NaN</td>\n",
       "      <td>деревня Старая</td>\n",
       "      <td>NaN</td>\n",
       "      <td>NaN</td>\n",
       "      <td>NaN</td>\n",
       "      <td>NaN</td>\n",
       "      <td>NaN</td>\n",
       "      <td>NaN</td>\n",
       "      <td>NaN</td>\n",
       "    </tr>\n",
       "    <tr>\n",
       "      <th>209</th>\n",
       "      <td>14</td>\n",
       "      <td>4700000.0</td>\n",
       "      <td>45.00</td>\n",
       "      <td>2019-04-11T00:00:00</td>\n",
       "      <td>2</td>\n",
       "      <td>2.50</td>\n",
       "      <td>9.0</td>\n",
       "      <td>27.40</td>\n",
       "      <td>4</td>\n",
       "      <td>NaN</td>\n",
       "      <td>...</td>\n",
       "      <td>8.60</td>\n",
       "      <td>NaN</td>\n",
       "      <td>Санкт-Петербург</td>\n",
       "      <td>42566.0</td>\n",
       "      <td>15070.0</td>\n",
       "      <td>0.0</td>\n",
       "      <td>NaN</td>\n",
       "      <td>0.0</td>\n",
       "      <td>NaN</td>\n",
       "      <td>NaN</td>\n",
       "    </tr>\n",
       "    <tr>\n",
       "      <th>215</th>\n",
       "      <td>17</td>\n",
       "      <td>3700000.0</td>\n",
       "      <td>67.00</td>\n",
       "      <td>2018-09-07T00:00:00</td>\n",
       "      <td>3</td>\n",
       "      <td>2.70</td>\n",
       "      <td>9.0</td>\n",
       "      <td>42.20</td>\n",
       "      <td>8</td>\n",
       "      <td>NaN</td>\n",
       "      <td>...</td>\n",
       "      <td>5.50</td>\n",
       "      <td>NaN</td>\n",
       "      <td>Всеволожск</td>\n",
       "      <td>NaN</td>\n",
       "      <td>NaN</td>\n",
       "      <td>NaN</td>\n",
       "      <td>NaN</td>\n",
       "      <td>NaN</td>\n",
       "      <td>NaN</td>\n",
       "      <td>NaN</td>\n",
       "    </tr>\n",
       "    <tr>\n",
       "      <th>218</th>\n",
       "      <td>11</td>\n",
       "      <td>4690000.0</td>\n",
       "      <td>35.00</td>\n",
       "      <td>2019-04-01T00:00:00</td>\n",
       "      <td>1</td>\n",
       "      <td>2.70</td>\n",
       "      <td>17.0</td>\n",
       "      <td>16.00</td>\n",
       "      <td>15</td>\n",
       "      <td>False</td>\n",
       "      <td>...</td>\n",
       "      <td>9.80</td>\n",
       "      <td>1.0</td>\n",
       "      <td>Санкт-Петербург</td>\n",
       "      <td>36237.0</td>\n",
       "      <td>13151.0</td>\n",
       "      <td>0.0</td>\n",
       "      <td>NaN</td>\n",
       "      <td>0.0</td>\n",
       "      <td>NaN</td>\n",
       "      <td>NaN</td>\n",
       "    </tr>\n",
       "    <tr>\n",
       "      <th>223</th>\n",
       "      <td>20</td>\n",
       "      <td>2350000.0</td>\n",
       "      <td>35.40</td>\n",
       "      <td>2017-12-12T00:00:00</td>\n",
       "      <td>1</td>\n",
       "      <td>2.60</td>\n",
       "      <td>5.0</td>\n",
       "      <td>18.20</td>\n",
       "      <td>1</td>\n",
       "      <td>NaN</td>\n",
       "      <td>...</td>\n",
       "      <td>9.80</td>\n",
       "      <td>NaN</td>\n",
       "      <td>деревня Лесколово</td>\n",
       "      <td>NaN</td>\n",
       "      <td>NaN</td>\n",
       "      <td>NaN</td>\n",
       "      <td>NaN</td>\n",
       "      <td>NaN</td>\n",
       "      <td>NaN</td>\n",
       "      <td>NaN</td>\n",
       "    </tr>\n",
       "    <tr>\n",
       "      <th>226</th>\n",
       "      <td>17</td>\n",
       "      <td>7950000.0</td>\n",
       "      <td>86.40</td>\n",
       "      <td>2019-04-24T00:00:00</td>\n",
       "      <td>4</td>\n",
       "      <td>NaN</td>\n",
       "      <td>3.0</td>\n",
       "      <td>52.70</td>\n",
       "      <td>1</td>\n",
       "      <td>NaN</td>\n",
       "      <td>...</td>\n",
       "      <td>12.70</td>\n",
       "      <td>NaN</td>\n",
       "      <td>Санкт-Петербург</td>\n",
       "      <td>31729.0</td>\n",
       "      <td>2468.0</td>\n",
       "      <td>0.0</td>\n",
       "      <td>NaN</td>\n",
       "      <td>0.0</td>\n",
       "      <td>NaN</td>\n",
       "      <td>NaN</td>\n",
       "    </tr>\n",
       "    <tr>\n",
       "      <th>233</th>\n",
       "      <td>17</td>\n",
       "      <td>19800000.0</td>\n",
       "      <td>118.00</td>\n",
       "      <td>2017-12-15T00:00:00</td>\n",
       "      <td>3</td>\n",
       "      <td>2.80</td>\n",
       "      <td>25.0</td>\n",
       "      <td>62.00</td>\n",
       "      <td>3</td>\n",
       "      <td>NaN</td>\n",
       "      <td>...</td>\n",
       "      <td>21.50</td>\n",
       "      <td>NaN</td>\n",
       "      <td>Санкт-Петербург</td>\n",
       "      <td>36827.0</td>\n",
       "      <td>12348.0</td>\n",
       "      <td>1.0</td>\n",
       "      <td>485.0</td>\n",
       "      <td>1.0</td>\n",
       "      <td>474.0</td>\n",
       "      <td>NaN</td>\n",
       "    </tr>\n",
       "    <tr>\n",
       "      <th>234</th>\n",
       "      <td>3</td>\n",
       "      <td>7820000.0</td>\n",
       "      <td>57.00</td>\n",
       "      <td>2019-04-18T00:00:00</td>\n",
       "      <td>2</td>\n",
       "      <td>NaN</td>\n",
       "      <td>5.0</td>\n",
       "      <td>33.00</td>\n",
       "      <td>3</td>\n",
       "      <td>NaN</td>\n",
       "      <td>...</td>\n",
       "      <td>8.00</td>\n",
       "      <td>NaN</td>\n",
       "      <td>Санкт-Петербург</td>\n",
       "      <td>26852.0</td>\n",
       "      <td>5700.0</td>\n",
       "      <td>2.0</td>\n",
       "      <td>586.0</td>\n",
       "      <td>0.0</td>\n",
       "      <td>NaN</td>\n",
       "      <td>NaN</td>\n",
       "    </tr>\n",
       "    <tr>\n",
       "      <th>238</th>\n",
       "      <td>5</td>\n",
       "      <td>5420000.0</td>\n",
       "      <td>43.40</td>\n",
       "      <td>2019-04-16T00:00:00</td>\n",
       "      <td>1</td>\n",
       "      <td>NaN</td>\n",
       "      <td>24.0</td>\n",
       "      <td>NaN</td>\n",
       "      <td>2</td>\n",
       "      <td>NaN</td>\n",
       "      <td>...</td>\n",
       "      <td>12.40</td>\n",
       "      <td>2.0</td>\n",
       "      <td>Санкт-Петербург</td>\n",
       "      <td>23982.0</td>\n",
       "      <td>11634.0</td>\n",
       "      <td>0.0</td>\n",
       "      <td>NaN</td>\n",
       "      <td>0.0</td>\n",
       "      <td>NaN</td>\n",
       "      <td>NaN</td>\n",
       "    </tr>\n",
       "    <tr>\n",
       "      <th>259</th>\n",
       "      <td>6</td>\n",
       "      <td>900000.0</td>\n",
       "      <td>30.00</td>\n",
       "      <td>2017-11-21T00:00:00</td>\n",
       "      <td>1</td>\n",
       "      <td>2.50</td>\n",
       "      <td>5.0</td>\n",
       "      <td>15.00</td>\n",
       "      <td>4</td>\n",
       "      <td>NaN</td>\n",
       "      <td>...</td>\n",
       "      <td>5.00</td>\n",
       "      <td>1.0</td>\n",
       "      <td>Ивангород</td>\n",
       "      <td>NaN</td>\n",
       "      <td>NaN</td>\n",
       "      <td>NaN</td>\n",
       "      <td>NaN</td>\n",
       "      <td>NaN</td>\n",
       "      <td>NaN</td>\n",
       "      <td>NaN</td>\n",
       "    </tr>\n",
       "    <tr>\n",
       "      <th>260</th>\n",
       "      <td>8</td>\n",
       "      <td>17250000.0</td>\n",
       "      <td>102.40</td>\n",
       "      <td>2014-12-09T00:00:00</td>\n",
       "      <td>3</td>\n",
       "      <td>NaN</td>\n",
       "      <td>8.0</td>\n",
       "      <td>53.20</td>\n",
       "      <td>3</td>\n",
       "      <td>NaN</td>\n",
       "      <td>...</td>\n",
       "      <td>19.30</td>\n",
       "      <td>1.0</td>\n",
       "      <td>Санкт-Петербург</td>\n",
       "      <td>39393.0</td>\n",
       "      <td>11096.0</td>\n",
       "      <td>1.0</td>\n",
       "      <td>537.0</td>\n",
       "      <td>0.0</td>\n",
       "      <td>NaN</td>\n",
       "      <td>NaN</td>\n",
       "    </tr>\n",
       "    <tr>\n",
       "      <th>261</th>\n",
       "      <td>1</td>\n",
       "      <td>4600000.0</td>\n",
       "      <td>83.69</td>\n",
       "      <td>2019-04-29T00:00:00</td>\n",
       "      <td>4</td>\n",
       "      <td>NaN</td>\n",
       "      <td>17.0</td>\n",
       "      <td>40.59</td>\n",
       "      <td>7</td>\n",
       "      <td>NaN</td>\n",
       "      <td>...</td>\n",
       "      <td>21.40</td>\n",
       "      <td>NaN</td>\n",
       "      <td>Мурино</td>\n",
       "      <td>NaN</td>\n",
       "      <td>NaN</td>\n",
       "      <td>NaN</td>\n",
       "      <td>NaN</td>\n",
       "      <td>NaN</td>\n",
       "      <td>NaN</td>\n",
       "      <td>NaN</td>\n",
       "    </tr>\n",
       "    <tr>\n",
       "      <th>262</th>\n",
       "      <td>14</td>\n",
       "      <td>37500000.0</td>\n",
       "      <td>158.00</td>\n",
       "      <td>2019-01-24T00:00:00</td>\n",
       "      <td>4</td>\n",
       "      <td>NaN</td>\n",
       "      <td>12.0</td>\n",
       "      <td>88.00</td>\n",
       "      <td>4</td>\n",
       "      <td>NaN</td>\n",
       "      <td>...</td>\n",
       "      <td>40.00</td>\n",
       "      <td>NaN</td>\n",
       "      <td>Санкт-Петербург</td>\n",
       "      <td>25799.0</td>\n",
       "      <td>4593.0</td>\n",
       "      <td>0.0</td>\n",
       "      <td>NaN</td>\n",
       "      <td>2.0</td>\n",
       "      <td>840.0</td>\n",
       "      <td>NaN</td>\n",
       "    </tr>\n",
       "    <tr>\n",
       "      <th>263</th>\n",
       "      <td>12</td>\n",
       "      <td>39900000.0</td>\n",
       "      <td>140.60</td>\n",
       "      <td>2016-11-19T00:00:00</td>\n",
       "      <td>2</td>\n",
       "      <td>3.50</td>\n",
       "      <td>8.0</td>\n",
       "      <td>39.80</td>\n",
       "      <td>7</td>\n",
       "      <td>NaN</td>\n",
       "      <td>...</td>\n",
       "      <td>49.20</td>\n",
       "      <td>4.0</td>\n",
       "      <td>Санкт-Петербург</td>\n",
       "      <td>32537.0</td>\n",
       "      <td>6589.0</td>\n",
       "      <td>0.0</td>\n",
       "      <td>NaN</td>\n",
       "      <td>3.0</td>\n",
       "      <td>99.0</td>\n",
       "      <td>NaN</td>\n",
       "    </tr>\n",
       "    <tr>\n",
       "      <th>270</th>\n",
       "      <td>13</td>\n",
       "      <td>3700000.0</td>\n",
       "      <td>34.00</td>\n",
       "      <td>2019-03-18T00:00:00</td>\n",
       "      <td>1</td>\n",
       "      <td>2.60</td>\n",
       "      <td>10.0</td>\n",
       "      <td>18.00</td>\n",
       "      <td>8</td>\n",
       "      <td>NaN</td>\n",
       "      <td>...</td>\n",
       "      <td>8.00</td>\n",
       "      <td>1.0</td>\n",
       "      <td>Санкт-Петербург</td>\n",
       "      <td>32831.0</td>\n",
       "      <td>13995.0</td>\n",
       "      <td>1.0</td>\n",
       "      <td>104.0</td>\n",
       "      <td>1.0</td>\n",
       "      <td>393.0</td>\n",
       "      <td>NaN</td>\n",
       "    </tr>\n",
       "    <tr>\n",
       "      <th>271</th>\n",
       "      <td>20</td>\n",
       "      <td>1449900.0</td>\n",
       "      <td>43.80</td>\n",
       "      <td>2019-02-21T00:00:00</td>\n",
       "      <td>2</td>\n",
       "      <td>2.70</td>\n",
       "      <td>4.0</td>\n",
       "      <td>29.00</td>\n",
       "      <td>2</td>\n",
       "      <td>NaN</td>\n",
       "      <td>...</td>\n",
       "      <td>5.00</td>\n",
       "      <td>1.0</td>\n",
       "      <td>Волхов</td>\n",
       "      <td>NaN</td>\n",
       "      <td>NaN</td>\n",
       "      <td>NaN</td>\n",
       "      <td>NaN</td>\n",
       "      <td>NaN</td>\n",
       "      <td>NaN</td>\n",
       "      <td>NaN</td>\n",
       "    </tr>\n",
       "  </tbody>\n",
       "</table>\n",
       "<p>50 rows × 22 columns</p>\n",
       "</div>"
      ],
      "text/plain": [
       "     total_images  last_price  total_area first_day_exposition  rooms  \\\n",
       "0              20  13000000.0      108.00  2019-03-07T00:00:00      3   \n",
       "7               5   7915000.0       71.60  2019-04-18T00:00:00      2   \n",
       "44             13   5350000.0       40.00  2018-11-18T00:00:00      1   \n",
       "45             17   5200000.0       50.60  2018-12-02T00:00:00      2   \n",
       "46             17   6600000.0       52.10  2019-01-31T00:00:00      2   \n",
       "49              1   3050000.0       30.80  2018-11-22T00:00:00      1   \n",
       "52             20  11795000.0      136.00  2017-09-22T00:00:00      6   \n",
       "71             20   4850000.0       57.50  2019-03-27T00:00:00      3   \n",
       "81              9  10949000.0       68.00  2018-12-27T00:00:00      1   \n",
       "84             11   2400000.0       43.90  2019-03-13T00:00:00      2   \n",
       "87             19   4999000.0       52.00  2019-04-23T00:00:00      2   \n",
       "88              0   1700000.0       33.10  2019-04-09T00:00:00      1   \n",
       "101             4   3000000.0       37.00  2019-03-23T00:00:00      1   \n",
       "108             9   9490000.0       80.00  2017-10-30T00:00:00      3   \n",
       "114             5   4000000.0       21.40  2019-02-07T00:00:00      1   \n",
       "122            20   2100000.0       60.00  2019-04-06T00:00:00      2   \n",
       "124            20  12490000.0       87.80  2019-03-10T00:00:00      3   \n",
       "126            10   4050000.0       51.00  2019-04-23T00:00:00      2   \n",
       "127             6   6210000.0       55.00  2019-04-29T00:00:00      2   \n",
       "131             8   3400000.0       71.10  2018-08-20T00:00:00      3   \n",
       "141             8   6500000.0       32.60  2019-02-27T00:00:00      1   \n",
       "151            15   2950000.0       44.90  2019-03-20T00:00:00      2   \n",
       "162             2   5600000.0       66.00  2018-07-11T00:00:00      3   \n",
       "165            17   7430000.0       60.20  2019-02-28T00:00:00      2   \n",
       "167            11   3750000.0       35.10  2019-04-08T00:00:00      1   \n",
       "173            15  11000000.0       97.90  2017-04-11T00:00:00      3   \n",
       "175            20   2550000.0       52.00  2019-03-08T00:00:00      2   \n",
       "176             5   7835000.0       52.56  2019-03-14T00:00:00      1   \n",
       "178            18  16300000.0      153.00  2019-03-30T00:00:00      4   \n",
       "179             5  14800000.0      108.70  2019-04-11T00:00:00      3   \n",
       "181             2   7900000.0       71.80  2017-08-23T00:00:00      3   \n",
       "188            15   4600000.0       38.50  2019-04-16T00:00:00      1   \n",
       "206            16   5080000.0       31.30  2019-04-23T00:00:00      1   \n",
       "207            11   9000000.0       72.60  2018-09-08T00:00:00      2   \n",
       "208            10   2450000.0       42.50  2019-04-17T00:00:00      1   \n",
       "209            14   4700000.0       45.00  2019-04-11T00:00:00      2   \n",
       "215            17   3700000.0       67.00  2018-09-07T00:00:00      3   \n",
       "218            11   4690000.0       35.00  2019-04-01T00:00:00      1   \n",
       "223            20   2350000.0       35.40  2017-12-12T00:00:00      1   \n",
       "226            17   7950000.0       86.40  2019-04-24T00:00:00      4   \n",
       "233            17  19800000.0      118.00  2017-12-15T00:00:00      3   \n",
       "234             3   7820000.0       57.00  2019-04-18T00:00:00      2   \n",
       "238             5   5420000.0       43.40  2019-04-16T00:00:00      1   \n",
       "259             6    900000.0       30.00  2017-11-21T00:00:00      1   \n",
       "260             8  17250000.0      102.40  2014-12-09T00:00:00      3   \n",
       "261             1   4600000.0       83.69  2019-04-29T00:00:00      4   \n",
       "262            14  37500000.0      158.00  2019-01-24T00:00:00      4   \n",
       "263            12  39900000.0      140.60  2016-11-19T00:00:00      2   \n",
       "270            13   3700000.0       34.00  2019-03-18T00:00:00      1   \n",
       "271            20   1449900.0       43.80  2019-02-21T00:00:00      2   \n",
       "\n",
       "     ceiling_height  floors_total  living_area  floor is_apartment  ...  \\\n",
       "0              2.70          16.0        51.00      8          NaN  ...   \n",
       "7               NaN          24.0          NaN     22          NaN  ...   \n",
       "44              NaN          22.0          NaN      3          NaN  ...   \n",
       "45             2.65           9.0        30.30      7          NaN  ...   \n",
       "46             2.60          24.0        29.70      9          NaN  ...   \n",
       "49             2.50           9.0        18.00      7          NaN  ...   \n",
       "52             3.00           2.0        94.00      2          NaN  ...   \n",
       "71             2.50           9.0        39.00      8          NaN  ...   \n",
       "81              NaN          10.0          NaN      6          NaN  ...   \n",
       "84              NaN           2.0        27.46      1          NaN  ...   \n",
       "87             2.61           9.0        30.00      6          NaN  ...   \n",
       "88              NaN           5.0        18.40      1          NaN  ...   \n",
       "101            2.75          10.0        12.00      3          NaN  ...   \n",
       "108            2.55          10.0        46.00      7          NaN  ...   \n",
       "114            2.90           8.0         8.30      7          NaN  ...   \n",
       "122            2.50           5.0        31.50      2          NaN  ...   \n",
       "124             NaN          12.0        45.10      3          NaN  ...   \n",
       "126             NaN           5.0        30.50      1          NaN  ...   \n",
       "127            2.50          11.0        31.90      3          NaN  ...   \n",
       "131            2.50           5.0        41.90      4          NaN  ...   \n",
       "141             NaN           5.0        18.50      5          NaN  ...   \n",
       "151             NaN           5.0        28.00      3          NaN  ...   \n",
       "162            2.50           9.0        48.00      9          NaN  ...   \n",
       "165            2.50           4.0          NaN      2          NaN  ...   \n",
       "167            2.75          23.0        15.90      1          NaN  ...   \n",
       "173            2.75          16.0        57.70      3          NaN  ...   \n",
       "175            2.60           5.0        31.00      3          NaN  ...   \n",
       "176             NaN          24.0        15.36      2          NaN  ...   \n",
       "178            2.71          10.0        89.40     10          NaN  ...   \n",
       "179            4.00           5.0        72.40      5          NaN  ...   \n",
       "181            3.00           5.0        38.70      1          NaN  ...   \n",
       "188            2.50          12.0        18.50      5          NaN  ...   \n",
       "206            2.50           7.0        16.00      4        False  ...   \n",
       "207            2.90           5.0        43.20      4          NaN  ...   \n",
       "208            2.60           5.0        17.20      5          NaN  ...   \n",
       "209            2.50           9.0        27.40      4          NaN  ...   \n",
       "215            2.70           9.0        42.20      8          NaN  ...   \n",
       "218            2.70          17.0        16.00     15        False  ...   \n",
       "223            2.60           5.0        18.20      1          NaN  ...   \n",
       "226             NaN           3.0        52.70      1          NaN  ...   \n",
       "233            2.80          25.0        62.00      3          NaN  ...   \n",
       "234             NaN           5.0        33.00      3          NaN  ...   \n",
       "238             NaN          24.0          NaN      2          NaN  ...   \n",
       "259            2.50           5.0        15.00      4          NaN  ...   \n",
       "260             NaN           8.0        53.20      3          NaN  ...   \n",
       "261             NaN          17.0        40.59      7          NaN  ...   \n",
       "262             NaN          12.0        88.00      4          NaN  ...   \n",
       "263            3.50           8.0        39.80      7          NaN  ...   \n",
       "270            2.60          10.0        18.00      8          NaN  ...   \n",
       "271            2.70           4.0        29.00      2          NaN  ...   \n",
       "\n",
       "     kitchen_area  balcony                     locality_name  \\\n",
       "0           25.00      NaN                   Санкт-Петербург   \n",
       "7           18.90      2.0                   Санкт-Петербург   \n",
       "44            NaN      1.0                   Санкт-Петербург   \n",
       "45           7.00      NaN                   Санкт-Петербург   \n",
       "46           8.30      2.0                   Санкт-Петербург   \n",
       "49           6.00      NaN                   Санкт-Петербург   \n",
       "52          11.00      1.0                   Санкт-Петербург   \n",
       "71           6.20      NaN                   Санкт-Петербург   \n",
       "81            NaN      NaN                   Санкт-Петербург   \n",
       "84           5.20      NaN                           Кировск   \n",
       "87           9.00      2.0                   Санкт-Петербург   \n",
       "88           6.40      NaN   посёлок городского типа Лебяжье   \n",
       "101         13.00      NaN  садовое товарищество Новая Ропша   \n",
       "108         11.00      1.0                   Санкт-Петербург   \n",
       "114          6.30      NaN                   Санкт-Петербург   \n",
       "122          9.00      2.0                            Волхов   \n",
       "124         24.00      1.0                   Санкт-Петербург   \n",
       "126          6.60      NaN                            Пушкин   \n",
       "127          8.30      NaN                   Санкт-Петербург   \n",
       "131          9.00      2.0                         Приозерск   \n",
       "141          5.50      NaN                   Санкт-Петербург   \n",
       "151          5.40      1.0                    посёлок Аннино   \n",
       "162          6.30      NaN                   Санкт-Петербург   \n",
       "165         10.20      NaN                        Сестрорецк   \n",
       "167          9.80      NaN                   Санкт-Петербург   \n",
       "173         14.70      1.0                   Санкт-Петербург   \n",
       "175         10.00      1.0              поселок Первомайское   \n",
       "176         20.91      NaN                   Санкт-Петербург   \n",
       "178           NaN      1.0                   Санкт-Петербург   \n",
       "179          8.00      NaN                   Санкт-Петербург   \n",
       "181         12.00      NaN                   Санкт-Петербург   \n",
       "188           NaN      NaN                   Санкт-Петербург   \n",
       "206          7.60      1.0                   Санкт-Петербург   \n",
       "207         11.40      NaN                   Санкт-Петербург   \n",
       "208          8.40      NaN                    деревня Старая   \n",
       "209          8.60      NaN                   Санкт-Петербург   \n",
       "215          5.50      NaN                        Всеволожск   \n",
       "218          9.80      1.0                   Санкт-Петербург   \n",
       "223          9.80      NaN                 деревня Лесколово   \n",
       "226         12.70      NaN                   Санкт-Петербург   \n",
       "233         21.50      NaN                   Санкт-Петербург   \n",
       "234          8.00      NaN                   Санкт-Петербург   \n",
       "238         12.40      2.0                   Санкт-Петербург   \n",
       "259          5.00      1.0                         Ивангород   \n",
       "260         19.30      1.0                   Санкт-Петербург   \n",
       "261         21.40      NaN                            Мурино   \n",
       "262         40.00      NaN                   Санкт-Петербург   \n",
       "263         49.20      4.0                   Санкт-Петербург   \n",
       "270          8.00      1.0                   Санкт-Петербург   \n",
       "271          5.00      1.0                            Волхов   \n",
       "\n",
       "     airports_nearest cityCenters_nearest  parks_around3000  parks_nearest  \\\n",
       "0             18863.0             16028.0               1.0          482.0   \n",
       "7             23982.0             11634.0               0.0            NaN   \n",
       "44            30471.0             11603.0               1.0          620.0   \n",
       "45            30011.0             12872.0               0.0            NaN   \n",
       "46            15114.0             12702.0               0.0            NaN   \n",
       "49            45341.0             16603.0               1.0          675.0   \n",
       "52            16510.0              6582.0               1.0          526.0   \n",
       "71            33623.0             12267.0               1.0          334.0   \n",
       "81                NaN                 NaN               NaN            NaN   \n",
       "84                NaN                 NaN               NaN            NaN   \n",
       "87            12444.0             15035.0               0.0            NaN   \n",
       "88                NaN                 NaN               NaN            NaN   \n",
       "101               NaN                 NaN               NaN            NaN   \n",
       "108           35958.0              9860.0               0.0            NaN   \n",
       "114           27089.0              5791.0               2.0          488.0   \n",
       "122               NaN                 NaN               NaN            NaN   \n",
       "124           32746.0             13845.0               0.0            NaN   \n",
       "126           17974.0             32546.0               1.0           15.0   \n",
       "127           31398.0             11990.0               0.0            NaN   \n",
       "131               NaN                 NaN               NaN            NaN   \n",
       "141           24764.0              5448.0               0.0            NaN   \n",
       "151               NaN                 NaN               NaN            NaN   \n",
       "162           45589.0             17018.0               1.0          762.0   \n",
       "165           54526.0             35625.0               0.0            NaN   \n",
       "167           22314.0             17642.0               0.0            NaN   \n",
       "173           14069.0             12621.0               0.0            NaN   \n",
       "175               NaN                 NaN               NaN            NaN   \n",
       "176           43396.0             12153.0               0.0            NaN   \n",
       "178           52130.0             14042.0               0.0            NaN   \n",
       "179           23017.0              2559.0               1.0          559.0   \n",
       "181           22036.0              3301.0               0.0            NaN   \n",
       "188           49065.0             16735.0               1.0          501.0   \n",
       "206           27753.0              6692.0               1.0          860.0   \n",
       "207           22794.0              1645.0               2.0          276.0   \n",
       "208               NaN                 NaN               NaN            NaN   \n",
       "209           42566.0             15070.0               0.0            NaN   \n",
       "215               NaN                 NaN               NaN            NaN   \n",
       "218           36237.0             13151.0               0.0            NaN   \n",
       "223               NaN                 NaN               NaN            NaN   \n",
       "226           31729.0              2468.0               0.0            NaN   \n",
       "233           36827.0             12348.0               1.0          485.0   \n",
       "234           26852.0              5700.0               2.0          586.0   \n",
       "238           23982.0             11634.0               0.0            NaN   \n",
       "259               NaN                 NaN               NaN            NaN   \n",
       "260           39393.0             11096.0               1.0          537.0   \n",
       "261               NaN                 NaN               NaN            NaN   \n",
       "262           25799.0              4593.0               0.0            NaN   \n",
       "263           32537.0              6589.0               0.0            NaN   \n",
       "270           32831.0             13995.0               1.0          104.0   \n",
       "271               NaN                 NaN               NaN            NaN   \n",
       "\n",
       "     ponds_around3000  ponds_nearest  days_exposition  \n",
       "0                 2.0          755.0              NaN  \n",
       "7                 0.0            NaN              NaN  \n",
       "44                1.0         1152.0              NaN  \n",
       "45                0.0            NaN              NaN  \n",
       "46                0.0            NaN              NaN  \n",
       "49                0.0            NaN              NaN  \n",
       "52                0.0            NaN              NaN  \n",
       "71                1.0          333.0              NaN  \n",
       "81                NaN            NaN              NaN  \n",
       "84                NaN            NaN              NaN  \n",
       "87                1.0          881.0              NaN  \n",
       "88                NaN            NaN              NaN  \n",
       "101               NaN            NaN              NaN  \n",
       "108               0.0            NaN              NaN  \n",
       "114               1.0          286.0              NaN  \n",
       "122               NaN            NaN              NaN  \n",
       "124               1.0          516.0              NaN  \n",
       "126               1.0          659.0              NaN  \n",
       "127               0.0            NaN              NaN  \n",
       "131               NaN            NaN              NaN  \n",
       "141               0.0            NaN              NaN  \n",
       "151               NaN            NaN              NaN  \n",
       "162               0.0            NaN              NaN  \n",
       "165               0.0            NaN              NaN  \n",
       "167               1.0           68.0              NaN  \n",
       "173               0.0            NaN              NaN  \n",
       "175               NaN            NaN              NaN  \n",
       "176               0.0            NaN              NaN  \n",
       "178               2.0          346.0              NaN  \n",
       "179               0.0            NaN              NaN  \n",
       "181               1.0          585.0              NaN  \n",
       "188               0.0            NaN              NaN  \n",
       "206               1.0          694.0              NaN  \n",
       "207               3.0          485.0              NaN  \n",
       "208               NaN            NaN              NaN  \n",
       "209               0.0            NaN              NaN  \n",
       "215               NaN            NaN              NaN  \n",
       "218               0.0            NaN              NaN  \n",
       "223               NaN            NaN              NaN  \n",
       "226               0.0            NaN              NaN  \n",
       "233               1.0          474.0              NaN  \n",
       "234               0.0            NaN              NaN  \n",
       "238               0.0            NaN              NaN  \n",
       "259               NaN            NaN              NaN  \n",
       "260               0.0            NaN              NaN  \n",
       "261               NaN            NaN              NaN  \n",
       "262               2.0          840.0              NaN  \n",
       "263               3.0           99.0              NaN  \n",
       "270               1.0          393.0              NaN  \n",
       "271               NaN            NaN              NaN  \n",
       "\n",
       "[50 rows x 22 columns]"
      ]
     },
     "execution_count": 24,
     "metadata": {},
     "output_type": "execute_result"
    }
   ],
   "source": [
    "data[data['days_exposition'].isna()].head(50)"
   ]
  },
  {
   "cell_type": "code",
   "execution_count": 25,
   "metadata": {},
   "outputs": [
    {
     "name": "stdout",
     "output_type": "stream",
     "text": [
      "Количество пропущенных значений в столбце living_area : 1903\n"
     ]
    }
   ],
   "source": [
    "print ('Количество пропущенных значений в столбце living_area :',\n",
    "(len(data[data['living_area'].isna()])))"
   ]
  },
  {
   "cell_type": "markdown",
   "metadata": {},
   "source": [
    "Пропущенные значения неважны для целей исследования\n",
    "Количество пропущенных значений: 1903 - вероятной причиной скорее всего отсутствие информации\n",
    "является человеческий фактор или ошибка в выгрузке. Данные можно заполнить исходя из средних параметров,(или через средний коэффициент, соотношение rooms или total_area к living area)\n",
    "но так как пропущено почти 8% это может существенно не отразится на результатах исследования."
   ]
  },
  {
   "cell_type": "code",
   "execution_count": 26,
   "metadata": {},
   "outputs": [
    {
     "name": "stdout",
     "output_type": "stream",
     "text": [
      "Количество пропущенных значений в столбце kitchen_area : 2278\n"
     ]
    }
   ],
   "source": [
    "print ('Количество пропущенных значений в столбце kitchen_area :',\n",
    "(len(data[data['kitchen_area'].isna()])))"
   ]
  },
  {
   "cell_type": "markdown",
   "metadata": {},
   "source": [
    "Пропущенные значения неважны для целей исследования\n",
    "Количество пропущенных значений: 2278 - вероятной причиной скорее всего отсутствие информации\n",
    "является человеческий фактор или ошибка в выгрузке или то, что в аппартаментах нет кухни. Данные можно заполнить исходя из средних параметров(или через средний коэффициент,\n",
    "соотношение total_area к kitchen area) но так как пропущено почти 9.6% это может существенно отразится на результатах исследования."
   ]
  },
  {
   "cell_type": "code",
   "execution_count": 27,
   "metadata": {},
   "outputs": [
    {
     "name": "stdout",
     "output_type": "stream",
     "text": [
      "Количество пропущенных значений в столбце locality_name : 49\n"
     ]
    }
   ],
   "source": [
    "print ('Количество пропущенных значений в столбце locality_name :',\n",
    "(len(data[data['locality_name'].isna()])))"
   ]
  },
  {
   "cell_type": "markdown",
   "metadata": {},
   "source": [
    "Количество пропущенных значений: 49 - вероятной причиной скорее всего \n",
    "является человеческий фактор или ошибка в выгрузке. Данные можно оставить путыми исходя или заполнить \n",
    "значением \"Другой\""
   ]
  },
  {
   "cell_type": "code",
   "execution_count": 28,
   "metadata": {},
   "outputs": [
    {
     "name": "stdout",
     "output_type": "stream",
     "text": [
      "Количество пропущbнных значений в столбце parks_around3000 : 5518\n"
     ]
    }
   ],
   "source": [
    "print ('Количество пропущbнных значений в столбце parks_around3000 :',\n",
    "(len(data[data['parks_around3000'].isna()])))"
   ]
  },
  {
   "cell_type": "markdown",
   "metadata": {},
   "source": [
    "Пропущенные значения неважны для целей исследования\n",
    "Количество пропущенных значений: 5518 - вероятной причиной скорее всего \n",
    "является отстутсвие информации по данному параметру или количество парков равно 0. "
   ]
  },
  {
   "cell_type": "code",
   "execution_count": 29,
   "metadata": {},
   "outputs": [
    {
     "name": "stdout",
     "output_type": "stream",
     "text": [
      "Количество пропущенных значений в столбце ponds_around3000 : 5518\n"
     ]
    }
   ],
   "source": [
    "print ('Количество пропущенных значений в столбце ponds_around3000 :',\n",
    "(len(data[data['ponds_around3000'].isna()])))"
   ]
  },
  {
   "cell_type": "markdown",
   "metadata": {},
   "source": [
    "Пропущенные значения неважны для целей исследования\n",
    "Количество пропущенных значений: 5518- вероятной причиной скорее всего \n",
    "является отстутсвие информации по данному параметру или количество прудов равно 0. "
   ]
  },
  {
   "cell_type": "code",
   "execution_count": 31,
   "metadata": {},
   "outputs": [
    {
     "name": "stdout",
     "output_type": "stream",
     "text": [
      "Количество пропущенных значений в столбце is_apartment : 20924\n"
     ]
    }
   ],
   "source": [
    "print ('Количество пропущенных значений в столбце is_apartment :',\n",
    "(len(data[data['is_apartment'].isna()])))"
   ]
  },
  {
   "cell_type": "markdown",
   "metadata": {},
   "source": [
    "Количество пропущенных значений: 20924 - вероятной причиной скорее всего \n",
    "является пропуск в заполнении если имущество не является аппартаменты. \n",
    "Данные можно заполнить исходя из того,\n",
    "что если значение отстутсвует, то значение (False) (тип строки object - сделать bool)"
   ]
  },
  {
   "cell_type": "code",
   "execution_count": 32,
   "metadata": {},
   "outputs": [
    {
     "name": "stdout",
     "output_type": "stream",
     "text": [
      "Количество пропущенных значений в столбце cityCenters_nearest: 5519\n"
     ]
    }
   ],
   "source": [
    "print ('Количество пропущенных значений в столбце cityCenters_nearest:',\n",
    "(len(data[data['cityCenters_nearest'].isna()])))"
   ]
  },
  {
   "cell_type": "markdown",
   "metadata": {},
   "source": [
    "Пропущенные значения неважны для целей исследования\n",
    "Количество пропущенных значений: 5519 - вероятной причиной скорее всего \n",
    "является отстутсвие информации по данному параметру. Данные можно заполнить исходя из города \n",
    "(допустим если город Москва, то можно взять среднее растояние по имеющимся данным по этому городу)"
   ]
  },
  {
   "cell_type": "code",
   "execution_count": 33,
   "metadata": {},
   "outputs": [
    {
     "name": "stdout",
     "output_type": "stream",
     "text": [
      "Количество пропущенных значений в столбце parks_nearest: 15620\n"
     ]
    }
   ],
   "source": [
    "print ('Количество пропущенных значений в столбце parks_nearest:',\n",
    "(len(data[data['parks_nearest'].isna()])))"
   ]
  },
  {
   "cell_type": "markdown",
   "metadata": {},
   "source": [
    "Пропущенные значения неважны для целей исследования\n",
    "Количество пропущенных значений: 15620 - вероятной причиной скорее всего \n",
    "является отстутсвие информации по данному параметру. Данные можно заполнить исходя из города \n",
    "(допустим если город Москва, то можно взять среднее растояние по имеющимся данным по этому городу)"
   ]
  },
  {
   "cell_type": "code",
   "execution_count": 34,
   "metadata": {},
   "outputs": [
    {
     "name": "stdout",
     "output_type": "stream",
     "text": [
      "Количество пропущенных значений в столбце ponds_nearest: 14589\n"
     ]
    }
   ],
   "source": [
    "print ('Количество пропущенных значений в столбце ponds_nearest:',\n",
    "(len(data[data['ponds_nearest'].isna()])))"
   ]
  },
  {
   "cell_type": "markdown",
   "metadata": {},
   "source": [
    "Пропущенные значения неважны для целей исследования\n",
    "Количество пропущенных значений: 14589 - вероятной причиной скорее всего \n",
    "является отстутсвие информации по данному параметру. Данные можно заполнить исходя из города \n",
    "(допустим если город Москва, то можно взять среднее растояние по имеющимся данным по этому городу)"
   ]
  },
  {
   "cell_type": "markdown",
   "metadata": {},
   "source": [
    "# Заполнение пропущенных значений"
   ]
  },
  {
   "cell_type": "markdown",
   "metadata": {},
   "source": [
    "## Заполняем пропущенные данные в столбце 'balcony'"
   ]
  },
  {
   "cell_type": "code",
   "execution_count": 35,
   "metadata": {},
   "outputs": [
    {
     "data": {
      "text/plain": [
       "0"
      ]
     },
     "execution_count": 35,
     "metadata": {},
     "output_type": "execute_result"
    }
   ],
   "source": [
    "data['balcony'] = data['balcony'].fillna(0) # заполняем пропуще\n",
    "#data['balcony'].head(20)\n",
    "data['balcony'].isna().sum()"
   ]
  },
  {
   "cell_type": "markdown",
   "metadata": {},
   "source": [
    "## Заполняем пропущенные данные в столбце 'ponds_around3000'"
   ]
  },
  {
   "cell_type": "code",
   "execution_count": 36,
   "metadata": {},
   "outputs": [
    {
     "data": {
      "text/plain": [
       "0"
      ]
     },
     "execution_count": 36,
     "metadata": {},
     "output_type": "execute_result"
    }
   ],
   "source": [
    "data['ponds_around3000'] = data['ponds_around3000'].fillna(0)\n",
    "#data['ponds_around3000'].head(20)\n",
    "data['ponds_around3000'].isna().sum()"
   ]
  },
  {
   "cell_type": "markdown",
   "metadata": {},
   "source": [
    "## Заполняем пропущенные данные в столбце 'parks_around3000'"
   ]
  },
  {
   "cell_type": "code",
   "execution_count": 37,
   "metadata": {},
   "outputs": [
    {
     "data": {
      "text/plain": [
       "0"
      ]
     },
     "execution_count": 37,
     "metadata": {},
     "output_type": "execute_result"
    }
   ],
   "source": [
    "data['parks_around3000'] = data['parks_around3000'].fillna(0)\n",
    "#data['parks_around3000'].head(20)\n",
    "data['parks_around3000'].isna().sum()"
   ]
  },
  {
   "cell_type": "markdown",
   "metadata": {},
   "source": [
    "## Заполняем пропущенные данные в столбце 'is_apartment'"
   ]
  },
  {
   "cell_type": "code",
   "execution_count": 38,
   "metadata": {},
   "outputs": [
    {
     "data": {
      "text/plain": [
       "0"
      ]
     },
     "execution_count": 38,
     "metadata": {},
     "output_type": "execute_result"
    }
   ],
   "source": [
    "data['is_apartment'] = data['is_apartment'].fillna('False')\n",
    "#data['is_apartment'].head(20)\n",
    "data['is_apartment'].isna().sum()"
   ]
  },
  {
   "cell_type": "markdown",
   "metadata": {},
   "source": [
    "## Заполняем пропущенные данные в столбце 'locality_name'"
   ]
  },
  {
   "cell_type": "code",
   "execution_count": 39,
   "metadata": {
    "scrolled": true
   },
   "outputs": [
    {
     "data": {
      "text/plain": [
       "0"
      ]
     },
     "execution_count": 39,
     "metadata": {},
     "output_type": "execute_result"
    }
   ],
   "source": [
    "data['locality_name'] = data['locality_name'].fillna('другое')\n",
    "data['locality_name'].isna().sum()"
   ]
  },
  {
   "cell_type": "markdown",
   "metadata": {},
   "source": [
    "## Заполняем пропущенные данные в столбце 'ceiling_height'"
   ]
  },
  {
   "cell_type": "code",
   "execution_count": 40,
   "metadata": {},
   "outputs": [
    {
     "data": {
      "text/plain": [
       "0"
      ]
     },
     "execution_count": 40,
     "metadata": {},
     "output_type": "execute_result"
    }
   ],
   "source": [
    "data['ceiling_height'] = data['ceiling_height'].fillna(data['ceiling_height'].median())\n",
    "data['ceiling_height'].isna().sum()"
   ]
  },
  {
   "cell_type": "markdown",
   "metadata": {},
   "source": [
    "## Заполняем пропущенные данные в столбце 'floors_total'"
   ]
  },
  {
   "cell_type": "code",
   "execution_count": 41,
   "metadata": {},
   "outputs": [
    {
     "data": {
      "text/plain": [
       "0"
      ]
     },
     "execution_count": 41,
     "metadata": {},
     "output_type": "execute_result"
    }
   ],
   "source": [
    "data.loc[data['floors_total'].isna(),'floors_total'] = data.loc[data['floors_total'].isna(),'floor']\n",
    "data['floors_total'].isna().sum()"
   ]
  },
  {
   "cell_type": "markdown",
   "metadata": {},
   "source": [
    "## Заполняем пропущенные данные в столбце 'living_area'"
   ]
  },
  {
   "cell_type": "code",
   "execution_count": 42,
   "metadata": {},
   "outputs": [
    {
     "data": {
      "text/plain": [
       "0"
      ]
     },
     "execution_count": 42,
     "metadata": {},
     "output_type": "execute_result"
    }
   ],
   "source": [
    "to_fill_living_area  = data['living_area'].mean() / data['total_area'].mean()\n",
    "data['living_area'].fillna(to_fill_living_area  * data['total_area'], inplace=True)\n",
    "data['living_area'].isna().sum()"
   ]
  },
  {
   "cell_type": "markdown",
   "metadata": {},
   "source": [
    "## Заполняем пропущенные данные в столбце 'kitchen_area'\n",
    "нужно найти среднее отношение общей жилой площади к кухне"
   ]
  },
  {
   "cell_type": "code",
   "execution_count": 43,
   "metadata": {},
   "outputs": [
    {
     "data": {
      "text/plain": [
       "0"
      ]
     },
     "execution_count": 43,
     "metadata": {},
     "output_type": "execute_result"
    }
   ],
   "source": [
    "to_fill_kitchen_area  = data['kitchen_area'].mean() / data['total_area'].mean()\n",
    "data['kitchen_area'].fillna(to_fill_kitchen_area * data['total_area'], inplace=True)\n",
    "data['kitchen_area'].isna().sum()"
   ]
  },
  {
   "cell_type": "markdown",
   "metadata": {},
   "source": [
    "## Заполняем пропущенные данные в столбце 'days_exposition'\n",
    "#пропущенные данные оставляем без изменений, т.к. квартиры не проданы"
   ]
  },
  {
   "cell_type": "markdown",
   "metadata": {},
   "source": [
    "## Заполняем пропущенные данные в столбце 'airports_nearest', 'parks_nearest', 'cityCenters_nearest','ponds_nearest'            \n"
   ]
  },
  {
   "cell_type": "code",
   "execution_count": 44,
   "metadata": {},
   "outputs": [],
   "source": [
    "#data = data.dropna(subset=['airports_nearest','ponds_nearest', 'parks_nearest', 'cityCenters_nearest',\n",
    "#'ponds_around3000', 'parks_around3000'])\n",
    "data['cityCenters_nearest'] = data['cityCenters_nearest'].fillna(0)"
   ]
  },
  {
   "cell_type": "code",
   "execution_count": 45,
   "metadata": {},
   "outputs": [
    {
     "data": {
      "text/plain": [
       "total_images                0\n",
       "last_price                  0\n",
       "total_area                  0\n",
       "first_day_exposition        0\n",
       "rooms                       0\n",
       "ceiling_height              0\n",
       "floors_total                0\n",
       "living_area                 0\n",
       "floor                       0\n",
       "is_apartment                0\n",
       "studio                      0\n",
       "open_plan                   0\n",
       "kitchen_area                0\n",
       "balcony                     0\n",
       "locality_name               0\n",
       "airports_nearest         5542\n",
       "cityCenters_nearest         0\n",
       "parks_around3000            0\n",
       "parks_nearest           15620\n",
       "ponds_around3000            0\n",
       "ponds_nearest           14589\n",
       "days_exposition          3181\n",
       "dtype: int64"
      ]
     },
     "execution_count": 45,
     "metadata": {},
     "output_type": "execute_result"
    }
   ],
   "source": [
    "# осталось заполнить следующте столбцы\n",
    "data.isna().sum()"
   ]
  },
  {
   "cell_type": "markdown",
   "metadata": {},
   "source": [
    "# Преобразуем тип данных в выбранных столбцах\n",
    "'last_price', 'floors_total','balcony', 'parks_around3000', 'ponds_around3000      '\n",
    "(т.к. цена, количество этажей, балконов, парков и прудов это целые числа), 'airports_nearest', 'parks_nearest', 'ponds_nearest'\n",
    "(растояния в метрах до объекта)\n"
   ]
  },
  {
   "cell_type": "code",
   "execution_count": 46,
   "metadata": {},
   "outputs": [],
   "source": [
    "#import warnings\n",
    "#warnings.filterwarnings(\"ignore\")\n",
    "\n",
    "data['last_price'] = data['last_price'].astype(int)\n",
    "data['floors_total'] = data['floors_total'].astype(int)\n",
    "data['balcony'] = data['balcony'].astype(int)\n",
    "data['parks_around3000'] = data['parks_around3000'].astype(int)\n",
    "data['ponds_around3000'] = data['ponds_around3000'].astype(int)\n",
    "#data['airports_nearest'] = data['airports_nearest'].astype(int)\n",
    "#data['ponds_nearest'] = data['ponds_nearest'].astype(int)\n",
    "#data['parks_nearest'] = data['parks_nearest'].astype(int)\n",
    "\n"
   ]
  },
  {
   "cell_type": "code",
   "execution_count": 48,
   "metadata": {
    "scrolled": true
   },
   "outputs": [
    {
     "name": "stdout",
     "output_type": "stream",
     "text": [
      "<class 'pandas.core.frame.DataFrame'>\n",
      "RangeIndex: 23699 entries, 0 to 23698\n",
      "Data columns (total 22 columns):\n",
      " #   Column                Non-Null Count  Dtype  \n",
      "---  ------                --------------  -----  \n",
      " 0   total_images          23699 non-null  int64  \n",
      " 1   last_price            23699 non-null  int64  \n",
      " 2   total_area            23699 non-null  float64\n",
      " 3   first_day_exposition  23699 non-null  object \n",
      " 4   rooms                 23699 non-null  int64  \n",
      " 5   ceiling_height        23699 non-null  float64\n",
      " 6   floors_total          23699 non-null  int64  \n",
      " 7   living_area           23699 non-null  float64\n",
      " 8   floor                 23699 non-null  int64  \n",
      " 9   is_apartment          23699 non-null  object \n",
      " 10  studio                23699 non-null  bool   \n",
      " 11  open_plan             23699 non-null  bool   \n",
      " 12  kitchen_area          23699 non-null  float64\n",
      " 13  balcony               23699 non-null  int64  \n",
      " 14  locality_name         23699 non-null  object \n",
      " 15  airports_nearest      18157 non-null  float64\n",
      " 16  cityCenters_nearest   23699 non-null  float64\n",
      " 17  parks_around3000      23699 non-null  int64  \n",
      " 18  parks_nearest         8079 non-null   float64\n",
      " 19  ponds_around3000      23699 non-null  int64  \n",
      " 20  ponds_nearest         9110 non-null   float64\n",
      " 21  days_exposition       20518 non-null  float64\n",
      "dtypes: bool(2), float64(9), int64(8), object(3)\n",
      "memory usage: 3.7+ MB\n"
     ]
    }
   ],
   "source": [
    "data.info()"
   ]
  },
  {
   "cell_type": "markdown",
   "metadata": {},
   "source": [
    "## Поиск и замена дубликатов в столбце 'locality_name' !!!"
   ]
  },
  {
   "cell_type": "code",
   "execution_count": 49,
   "metadata": {},
   "outputs": [
    {
     "data": {
      "text/plain": [
       "Index(['total_images', 'last_price', 'total_area', 'first_day_exposition',\n",
       "       'rooms', 'ceiling_height', 'floors_total', 'living_area', 'floor',\n",
       "       'is_apartment', 'studio', 'open_plan', 'kitchen_area', 'balcony',\n",
       "       'locality_name', 'airports_nearest', 'cityCenters_nearest',\n",
       "       'parks_around3000', 'parks_nearest', 'ponds_around3000',\n",
       "       'ponds_nearest', 'days_exposition'],\n",
       "      dtype='object')"
      ]
     },
     "execution_count": 49,
     "metadata": {},
     "output_type": "execute_result"
    }
   ],
   "source": [
    "data.columns"
   ]
  },
  {
   "cell_type": "code",
   "execution_count": 50,
   "metadata": {
    "scrolled": true
   },
   "outputs": [
    {
     "data": {
      "text/plain": [
       "Санкт-Петербург      15721\n",
       "посёлок Мурино         522\n",
       "посёлок Шушары         440\n",
       "Всеволожск             398\n",
       "Пушкин                 369\n",
       "Колпино                338\n",
       "посёлок Парголово      327\n",
       "Гатчина                307\n",
       "деревня Кудрово        299\n",
       "Выборг                 237\n",
       "Name: locality_name, dtype: int64"
      ]
     },
     "execution_count": 50,
     "metadata": {},
     "output_type": "execute_result"
    }
   ],
   "source": [
    "data['locality_name'].value_counts().head(10)"
   ]
  },
  {
   "cell_type": "code",
   "execution_count": 51,
   "metadata": {},
   "outputs": [],
   "source": [
    "data['locality_name_test'] = data['locality_name'].str.split(' ').str[-1]"
   ]
  },
  {
   "cell_type": "code",
   "execution_count": 52,
   "metadata": {},
   "outputs": [],
   "source": [
    "data.drop('locality_name', axis=1, inplace=True)"
   ]
  },
  {
   "cell_type": "code",
   "execution_count": 109,
   "metadata": {
    "scrolled": true
   },
   "outputs": [],
   "source": [
    "data.rename(columns = {'locality_name_test': 'locality_name'}, inplace=True)"
   ]
  },
  {
   "cell_type": "code",
   "execution_count": 110,
   "metadata": {},
   "outputs": [
    {
     "data": {
      "text/plain": [
       "Index(['total_images', 'last_price', 'total_area', 'first_day_exposition',\n",
       "       'rooms', 'ceiling_height', 'floors_total', 'living_area', 'floor',\n",
       "       'is_apartment', 'studio', 'open_plan', 'kitchen_area', 'balcony',\n",
       "       'airports_nearest', 'cityCenters_nearest', 'parks_around3000',\n",
       "       'parks_nearest', 'ponds_around3000', 'ponds_nearest', 'days_exposition',\n",
       "       'locality_name', 'price_sqr_meter', 'weekday', 'month', 'year',\n",
       "       'floor_type', 'city_centers_nearest', 'normal_ceiling_height'],\n",
       "      dtype='object')"
      ]
     },
     "execution_count": 110,
     "metadata": {},
     "output_type": "execute_result"
    }
   ],
   "source": [
    "data.columns\n"
   ]
  },
  {
   "cell_type": "markdown",
   "metadata": {},
   "source": [
    "### Посчитайте и добавьте в таблицу новые столбцы"
   ]
  },
  {
   "cell_type": "code",
   "execution_count": 111,
   "metadata": {},
   "outputs": [],
   "source": [
    "data['price_sqr_meter'] = data['last_price']/data['total_area'].astype(int)\n",
    "#data['price_sqr_meter']\n"
   ]
  },
  {
   "cell_type": "markdown",
   "metadata": {},
   "source": [
    "# Время публикации объявления \n"
   ]
  },
  {
   "cell_type": "code",
   "execution_count": 112,
   "metadata": {},
   "outputs": [],
   "source": [
    "data['first_day_exposition'] = pd.to_datetime(data['first_day_exposition'], format='%Y-%m-%dT%H:%M:%S')\n",
    "data['weekday'] = data['first_day_exposition'].dt.weekday\n",
    "data['month'] = data['first_day_exposition'].dt.month\n",
    "data['year'] = data['first_day_exposition'].dt.year\n",
    "#data['year'].head(20)"
   ]
  },
  {
   "cell_type": "markdown",
   "metadata": {},
   "source": [
    "# Цена одного квадратного метра\n"
   ]
  },
  {
   "cell_type": "code",
   "execution_count": 113,
   "metadata": {},
   "outputs": [],
   "source": [
    "def floor_group(row):\n",
    "    if row['floor'] == 1:\n",
    "        return 'первый'\n",
    "    elif row['floor'] == row['floors_total']:\n",
    "        return 'последний'\n",
    "    else:\n",
    "        return 'другой'\n",
    "data['floor_type'] = data.apply(floor_group, axis=1)"
   ]
  },
  {
   "cell_type": "markdown",
   "metadata": {},
   "source": [
    "# Расстояние до центра города в километрах "
   ]
  },
  {
   "cell_type": "code",
   "execution_count": 114,
   "metadata": {},
   "outputs": [
    {
     "data": {
      "text/plain": [
       "0        16028\n",
       "1        18603\n",
       "2        13933\n",
       "3         6800\n",
       "4         8098\n",
       "         ...  \n",
       "23694     4232\n",
       "23695        0\n",
       "23696        0\n",
       "23697    10364\n",
       "23698        0\n",
       "Name: cityCenters_nearest, Length: 23699, dtype: int64"
      ]
     },
     "execution_count": 114,
     "metadata": {},
     "output_type": "execute_result"
    }
   ],
   "source": [
    "data['cityCenters_nearest'].astype(int)"
   ]
  },
  {
   "cell_type": "code",
   "execution_count": 115,
   "metadata": {},
   "outputs": [],
   "source": [
    "data['city_centers_nearest'] = data['cityCenters_nearest']/1000\n",
    "data['city_centers_nearest']=data['city_centers_nearest'].round()\n",
    "#data['city_centers_nearest']\n"
   ]
  },
  {
   "cell_type": "markdown",
   "metadata": {},
   "source": [
    "### Проведите исследовательский анализ данных"
   ]
  },
  {
   "cell_type": "markdown",
   "metadata": {},
   "source": [
    "# Площадь квартир"
   ]
  },
  {
   "cell_type": "code",
   "execution_count": 116,
   "metadata": {},
   "outputs": [
    {
     "data": {
      "text/plain": [
       "count    23699.000000\n",
       "mean        60.348651\n",
       "std         35.654083\n",
       "min         12.000000\n",
       "25%         40.000000\n",
       "50%         52.000000\n",
       "75%         69.900000\n",
       "max        900.000000\n",
       "Name: total_area, dtype: float64"
      ]
     },
     "execution_count": 116,
     "metadata": {},
     "output_type": "execute_result"
    }
   ],
   "source": [
    "data['total_area'].describe()"
   ]
  },
  {
   "cell_type": "code",
   "execution_count": 117,
   "metadata": {},
   "outputs": [
    {
     "data": {
      "text/plain": [
       "Index(['total_images', 'last_price', 'total_area', 'first_day_exposition',\n",
       "       'rooms', 'ceiling_height', 'floors_total', 'living_area', 'floor',\n",
       "       'is_apartment', 'studio', 'open_plan', 'kitchen_area', 'balcony',\n",
       "       'airports_nearest', 'cityCenters_nearest', 'parks_around3000',\n",
       "       'parks_nearest', 'ponds_around3000', 'ponds_nearest', 'days_exposition',\n",
       "       'locality_name', 'price_sqr_meter', 'weekday', 'month', 'year',\n",
       "       'floor_type', 'city_centers_nearest', 'normal_ceiling_height'],\n",
       "      dtype='object')"
      ]
     },
     "execution_count": 117,
     "metadata": {},
     "output_type": "execute_result"
    }
   ],
   "source": [
    "data\n",
    "data.columns"
   ]
  },
  {
   "cell_type": "code",
   "execution_count": 119,
   "metadata": {},
   "outputs": [
    {
     "data": {
      "text/html": [
       "<div>\n",
       "<style scoped>\n",
       "    .dataframe tbody tr th:only-of-type {\n",
       "        vertical-align: middle;\n",
       "    }\n",
       "\n",
       "    .dataframe tbody tr th {\n",
       "        vertical-align: top;\n",
       "    }\n",
       "\n",
       "    .dataframe thead th {\n",
       "        text-align: right;\n",
       "    }\n",
       "</style>\n",
       "<table border=\"1\" class=\"dataframe\">\n",
       "  <thead>\n",
       "    <tr style=\"text-align: right;\">\n",
       "      <th></th>\n",
       "      <th>total_area</th>\n",
       "    </tr>\n",
       "    <tr>\n",
       "      <th>locality_name</th>\n",
       "      <th></th>\n",
       "    </tr>\n",
       "  </thead>\n",
       "  <tbody>\n",
       "    <tr>\n",
       "      <th>Хязельки</th>\n",
       "      <td>230.00</td>\n",
       "    </tr>\n",
       "    <tr>\n",
       "      <th>Александровская</th>\n",
       "      <td>118.50</td>\n",
       "    </tr>\n",
       "    <tr>\n",
       "      <th>Репино</th>\n",
       "      <td>108.00</td>\n",
       "    </tr>\n",
       "    <tr>\n",
       "      <th>Каськово</th>\n",
       "      <td>100.00</td>\n",
       "    </tr>\n",
       "    <tr>\n",
       "      <th>Нижняя</th>\n",
       "      <td>98.00</td>\n",
       "    </tr>\n",
       "    <tr>\n",
       "      <th>...</th>\n",
       "      <td>...</td>\n",
       "    </tr>\n",
       "    <tr>\n",
       "      <th>Заводской</th>\n",
       "      <td>29.20</td>\n",
       "    </tr>\n",
       "    <tr>\n",
       "      <th>Дружноселье</th>\n",
       "      <td>29.00</td>\n",
       "    </tr>\n",
       "    <tr>\n",
       "      <th>Рапполово</th>\n",
       "      <td>27.00</td>\n",
       "    </tr>\n",
       "    <tr>\n",
       "      <th>Петро-Славянка</th>\n",
       "      <td>27.00</td>\n",
       "    </tr>\n",
       "    <tr>\n",
       "      <th>Корнево</th>\n",
       "      <td>23.98</td>\n",
       "    </tr>\n",
       "  </tbody>\n",
       "</table>\n",
       "<p>295 rows × 1 columns</p>\n",
       "</div>"
      ],
      "text/plain": [
       "                 total_area\n",
       "locality_name              \n",
       "Хязельки             230.00\n",
       "Александровская      118.50\n",
       "Репино               108.00\n",
       "Каськово             100.00\n",
       "Нижняя                98.00\n",
       "...                     ...\n",
       "Заводской             29.20\n",
       "Дружноселье           29.00\n",
       "Рапполово             27.00\n",
       "Петро-Славянка        27.00\n",
       "Корнево               23.98\n",
       "\n",
       "[295 rows x 1 columns]"
      ]
     },
     "execution_count": 119,
     "metadata": {},
     "output_type": "execute_result"
    }
   ],
   "source": [
    "data.pivot_table (index = 'locality_name', values= 'total_area', aggfunc='median').sort_values('total_area', ascending = False)"
   ]
  },
  {
   "cell_type": "code",
   "execution_count": 48,
   "metadata": {},
   "outputs": [],
   "source": [
    "#data[data['locality_name']== 'Александровская']\n",
    "#data[data['locality_name']== 'Александровская']\n",
    "#len(data[data['locality_name']== 'другое'])"
   ]
  },
  {
   "cell_type": "code",
   "execution_count": 120,
   "metadata": {
    "scrolled": true
   },
   "outputs": [
    {
     "data": {
      "text/plain": [
       "<AxesSubplot:>"
      ]
     },
     "execution_count": 120,
     "metadata": {},
     "output_type": "execute_result"
    },
    {
     "data": {
      "image/png": "[encoded data removed]",
      "text/plain": [
       "<Figure size 432x288 with 1 Axes>"
      ]
     },
     "metadata": {
      "needs_background": "light"
     },
     "output_type": "display_data"
    }
   ],
   "source": [
    "data['total_area'].hist(bins = 50, range = (20, 200))"
   ]
  },
  {
   "cell_type": "code",
   "execution_count": 123,
   "metadata": {
    "scrolled": true
   },
   "outputs": [
    {
     "data": {
      "text/plain": [
       "<AxesSubplot:>"
      ]
     },
     "execution_count": 123,
     "metadata": {},
     "output_type": "execute_result"
    },
    {
     "data": {
      "image/png": "[encoded data removed]",
      "text/plain": [
       "<Figure size 432x288 with 1 Axes>"
      ]
     },
     "metadata": {
      "needs_background": "light"
     },
     "output_type": "display_data"
    }
   ],
   "source": [
    "data['total_area'].plot(style='o',figsize=(6, 4), alpha = 0.2)"
   ]
  },
  {
   "cell_type": "code",
   "execution_count": 124,
   "metadata": {},
   "outputs": [
    {
     "data": {
      "text/plain": [
       "<AxesSubplot:>"
      ]
     },
     "execution_count": 124,
     "metadata": {},
     "output_type": "execute_result"
    },
    {
     "data": {
      "image/png": "[encoded data removed]",
      "text/plain": [
       "<Figure size 432x288 with 1 Axes>"
      ]
     },
     "metadata": {
      "needs_background": "light"
     },
     "output_type": "display_data"
    }
   ],
   "source": [
    "data['living_area'].hist(bins = 50, range = (5, 100))"
   ]
  },
  {
   "cell_type": "code",
   "execution_count": 125,
   "metadata": {},
   "outputs": [
    {
     "data": {
      "text/plain": [
       "<AxesSubplot:>"
      ]
     },
     "execution_count": 125,
     "metadata": {},
     "output_type": "execute_result"
    },
    {
     "data": {
      "image/png": "[encoded data removed]",
      "text/plain": [
       "<Figure size 432x288 with 1 Axes>"
      ]
     },
     "metadata": {
      "needs_background": "light"
     },
     "output_type": "display_data"
    }
   ],
   "source": [
    "data['kitchen_area'].hist(bins = 40, range = (0, 35))"
   ]
  },
  {
   "cell_type": "markdown",
   "metadata": {},
   "source": [
    "# Цена квартиры"
   ]
  },
  {
   "cell_type": "code",
   "execution_count": 126,
   "metadata": {},
   "outputs": [
    {
     "data": {
      "text/plain": [
       "<AxesSubplot:>"
      ]
     },
     "execution_count": 126,
     "metadata": {},
     "output_type": "execute_result"
    },
    {
     "data": {
      "image/png": "[encoded data removed]",
      "text/plain": [
       "<Figure size 432x288 with 1 Axes>"
      ]
     },
     "metadata": {
      "needs_background": "light"
     },
     "output_type": "display_data"
    }
   ],
   "source": [
    "data['last_price'].hist(bins = 50, range = (0, 35000000))"
   ]
  },
  {
   "cell_type": "code",
   "execution_count": null,
   "metadata": {},
   "outputs": [],
   "source": [
    "#data.pivot_table (index = 'last_price').sort_values('price_sqr_meter', ascending = False)"
   ]
  },
  {
   "cell_type": "markdown",
   "metadata": {},
   "source": [
    "# Количество комнат"
   ]
  },
  {
   "cell_type": "code",
   "execution_count": 127,
   "metadata": {},
   "outputs": [
    {
     "data": {
      "text/plain": [
       "<AxesSubplot:>"
      ]
     },
     "execution_count": 127,
     "metadata": {},
     "output_type": "execute_result"
    },
    {
     "data": {
      "image/png": "[encoded data removed]",
      "text/plain": [
       "<Figure size 432x288 with 1 Axes>"
      ]
     },
     "metadata": {
      "needs_background": "light"
     },
     "output_type": "display_data"
    }
   ],
   "source": [
    "data['rooms'].hist(bins = 10, range = (0, 10))"
   ]
  },
  {
   "cell_type": "markdown",
   "metadata": {},
   "source": [
    "# Высота потолков"
   ]
  },
  {
   "cell_type": "code",
   "execution_count": 128,
   "metadata": {},
   "outputs": [],
   "source": [
    "data.loc[data['ceiling_height'] >=20,'ceiling_height'] = data.loc[data['ceiling_height'] >=20, 'ceiling_height']/10\n",
    "normal_ceiling_height = data.query('(ceiling_height >= 2) & (ceiling_height <= 5)')\n",
    "data['normal_ceiling_height'] = data['ceiling_height']"
   ]
  },
  {
   "cell_type": "code",
   "execution_count": 129,
   "metadata": {
    "scrolled": true
   },
   "outputs": [
    {
     "data": {
      "text/plain": [
       "<AxesSubplot:>"
      ]
     },
     "execution_count": 129,
     "metadata": {},
     "output_type": "execute_result"
    },
    {
     "data": {
      "image/png": "[encoded data removed]",
      "text/plain": [
       "<Figure size 432x288 with 1 Axes>"
      ]
     },
     "metadata": {
      "needs_background": "light"
     },
     "output_type": "display_data"
    }
   ],
   "source": [
    "data['normal_ceiling_height'].hist(bins = 10, range = (2, 4))"
   ]
  },
  {
   "cell_type": "markdown",
   "metadata": {},
   "source": [
    "# Этаж квартиры"
   ]
  },
  {
   "cell_type": "code",
   "execution_count": 131,
   "metadata": {},
   "outputs": [
    {
     "data": {
      "text/plain": [
       "<AxesSubplot:>"
      ]
     },
     "execution_count": 131,
     "metadata": {},
     "output_type": "execute_result"
    },
    {
     "data": {
      "image/png": "[encoded data removed]",
      "text/plain": [
       "<Figure size 432x288 with 1 Axes>"
      ]
     },
     "metadata": {
      "needs_background": "light"
     },
     "output_type": "display_data"
    }
   ],
   "source": [
    "data['floor'].hist(bins = 15, range = (0, 30))"
   ]
  },
  {
   "cell_type": "code",
   "execution_count": 132,
   "metadata": {
    "scrolled": true
   },
   "outputs": [
    {
     "data": {
      "text/plain": [
       "<AxesSubplot:>"
      ]
     },
     "execution_count": 132,
     "metadata": {},
     "output_type": "execute_result"
    },
    {
     "data": {
      "image/png": "[encoded data removed]",
      "text/plain": [
       "<Figure size 432x288 with 1 Axes>"
      ]
     },
     "metadata": {
      "needs_background": "light"
     },
     "output_type": "display_data"
    }
   ],
   "source": [
    "data['floors_total'].hist(bins = 15, range = (0, 30))        "
   ]
  },
  {
   "cell_type": "code",
   "execution_count": 133,
   "metadata": {
    "scrolled": false
   },
   "outputs": [
    {
     "data": {
      "text/plain": [
       "<AxesSubplot:>"
      ]
     },
     "execution_count": 133,
     "metadata": {},
     "output_type": "execute_result"
    },
    {
     "data": {
      "image/png": "[encoded data removed]",
      "text/plain": [
       "<Figure size 432x288 with 1 Axes>"
      ]
     },
     "metadata": {
      "needs_background": "light"
     },
     "output_type": "display_data"
    }
   ],
   "source": [
    "data['floor_type'].hist(bins = 3, range = (0, 3))"
   ]
  },
  {
   "cell_type": "markdown",
   "metadata": {},
   "source": [
    "# День и месяц публикации объявления"
   ]
  },
  {
   "cell_type": "code",
   "execution_count": 134,
   "metadata": {
    "scrolled": true
   },
   "outputs": [
    {
     "data": {
      "text/plain": [
       "<AxesSubplot:>"
      ]
     },
     "execution_count": 134,
     "metadata": {},
     "output_type": "execute_result"
    },
    {
     "data": {
      "image/png": "[encoded data removed]",
      "text/plain": [
       "<Figure size 432x288 with 1 Axes>"
      ]
     },
     "metadata": {
      "needs_background": "light"
     },
     "output_type": "display_data"
    }
   ],
   "source": [
    "data['weekday'].hist(bins = 7, range = (1, 7))\n",
    "#data.query('weekday<1')"
   ]
  },
  {
   "cell_type": "code",
   "execution_count": 135,
   "metadata": {},
   "outputs": [
    {
     "data": {
      "text/plain": [
       "<AxesSubplot:>"
      ]
     },
     "execution_count": 135,
     "metadata": {},
     "output_type": "execute_result"
    },
    {
     "data": {
      "image/png": "[encoded data removed]",
      "text/plain": [
       "<Figure size 432x288 with 1 Axes>"
      ]
     },
     "metadata": {
      "needs_background": "light"
     },
     "output_type": "display_data"
    }
   ],
   "source": [
    "data['month'].hist(bins = 6, range = (1, 31))"
   ]
  },
  {
   "cell_type": "markdown",
   "metadata": {},
   "source": [
    "# Расстояние до объектов"
   ]
  },
  {
   "cell_type": "code",
   "execution_count": 136,
   "metadata": {},
   "outputs": [
    {
     "data": {
      "text/plain": [
       "<AxesSubplot:>"
      ]
     },
     "execution_count": 136,
     "metadata": {},
     "output_type": "execute_result"
    },
    {
     "data": {
      "image/png": "[encoded data removed]",
      "text/plain": [
       "<Figure size 432x288 with 1 Axes>"
      ]
     },
     "metadata": {
      "needs_background": "light"
     },
     "output_type": "display_data"
    }
   ],
   "source": [
    "data['cityCenters_nearest'].hist(bins = 10, range = (1, 35000))"
   ]
  },
  {
   "cell_type": "code",
   "execution_count": 221,
   "metadata": {},
   "outputs": [
    {
     "data": {
      "text/html": [
       "<div>\n",
       "<style scoped>\n",
       "    .dataframe tbody tr th:only-of-type {\n",
       "        vertical-align: middle;\n",
       "    }\n",
       "\n",
       "    .dataframe tbody tr th {\n",
       "        vertical-align: top;\n",
       "    }\n",
       "\n",
       "    .dataframe thead th {\n",
       "        text-align: right;\n",
       "    }\n",
       "</style>\n",
       "<table border=\"1\" class=\"dataframe\">\n",
       "  <thead>\n",
       "    <tr style=\"text-align: right;\">\n",
       "      <th></th>\n",
       "      <th>total_images</th>\n",
       "      <th>last_price</th>\n",
       "      <th>total_area</th>\n",
       "      <th>first_day_exposition</th>\n",
       "      <th>rooms</th>\n",
       "      <th>ceiling_height</th>\n",
       "      <th>floors_total</th>\n",
       "      <th>living_area</th>\n",
       "      <th>floor</th>\n",
       "      <th>is_apartment</th>\n",
       "      <th>...</th>\n",
       "      <th>ponds_nearest</th>\n",
       "      <th>days_exposition</th>\n",
       "      <th>locailty_name</th>\n",
       "      <th>price_sqr_meter</th>\n",
       "      <th>weekday</th>\n",
       "      <th>month</th>\n",
       "      <th>year</th>\n",
       "      <th>floor_type</th>\n",
       "      <th>city_centers_nearest</th>\n",
       "      <th>normal_ceiling_height</th>\n",
       "    </tr>\n",
       "  </thead>\n",
       "  <tbody>\n",
       "    <tr>\n",
       "      <th>0</th>\n",
       "      <td>20</td>\n",
       "      <td>13000000</td>\n",
       "      <td>108.0</td>\n",
       "      <td>2019-03-07</td>\n",
       "      <td>3</td>\n",
       "      <td>2.70</td>\n",
       "      <td>16</td>\n",
       "      <td>51.000000</td>\n",
       "      <td>8</td>\n",
       "      <td>False</td>\n",
       "      <td>...</td>\n",
       "      <td>755.0</td>\n",
       "      <td>NaN</td>\n",
       "      <td>Санкт-Петербург</td>\n",
       "      <td>120370.370370</td>\n",
       "      <td>3</td>\n",
       "      <td>3</td>\n",
       "      <td>2019</td>\n",
       "      <td>другой</td>\n",
       "      <td>16.0</td>\n",
       "      <td>2.70</td>\n",
       "    </tr>\n",
       "    <tr>\n",
       "      <th>2</th>\n",
       "      <td>10</td>\n",
       "      <td>5196000</td>\n",
       "      <td>56.0</td>\n",
       "      <td>2015-08-20</td>\n",
       "      <td>2</td>\n",
       "      <td>2.65</td>\n",
       "      <td>5</td>\n",
       "      <td>34.300000</td>\n",
       "      <td>4</td>\n",
       "      <td>False</td>\n",
       "      <td>...</td>\n",
       "      <td>574.0</td>\n",
       "      <td>558.0</td>\n",
       "      <td>Санкт-Петербург</td>\n",
       "      <td>92785.714286</td>\n",
       "      <td>3</td>\n",
       "      <td>8</td>\n",
       "      <td>2015</td>\n",
       "      <td>другой</td>\n",
       "      <td>14.0</td>\n",
       "      <td>2.65</td>\n",
       "    </tr>\n",
       "    <tr>\n",
       "      <th>3</th>\n",
       "      <td>0</td>\n",
       "      <td>64900000</td>\n",
       "      <td>159.0</td>\n",
       "      <td>2015-07-24</td>\n",
       "      <td>3</td>\n",
       "      <td>2.65</td>\n",
       "      <td>14</td>\n",
       "      <td>90.785766</td>\n",
       "      <td>9</td>\n",
       "      <td>False</td>\n",
       "      <td>...</td>\n",
       "      <td>234.0</td>\n",
       "      <td>424.0</td>\n",
       "      <td>Санкт-Петербург</td>\n",
       "      <td>408176.100629</td>\n",
       "      <td>4</td>\n",
       "      <td>7</td>\n",
       "      <td>2015</td>\n",
       "      <td>другой</td>\n",
       "      <td>7.0</td>\n",
       "      <td>2.65</td>\n",
       "    </tr>\n",
       "    <tr>\n",
       "      <th>4</th>\n",
       "      <td>2</td>\n",
       "      <td>10000000</td>\n",
       "      <td>100.0</td>\n",
       "      <td>2018-06-19</td>\n",
       "      <td>2</td>\n",
       "      <td>3.03</td>\n",
       "      <td>14</td>\n",
       "      <td>32.000000</td>\n",
       "      <td>13</td>\n",
       "      <td>False</td>\n",
       "      <td>...</td>\n",
       "      <td>48.0</td>\n",
       "      <td>121.0</td>\n",
       "      <td>Санкт-Петербург</td>\n",
       "      <td>100000.000000</td>\n",
       "      <td>1</td>\n",
       "      <td>6</td>\n",
       "      <td>2018</td>\n",
       "      <td>другой</td>\n",
       "      <td>8.0</td>\n",
       "      <td>3.03</td>\n",
       "    </tr>\n",
       "    <tr>\n",
       "      <th>10</th>\n",
       "      <td>5</td>\n",
       "      <td>5050000</td>\n",
       "      <td>39.6</td>\n",
       "      <td>2017-11-16</td>\n",
       "      <td>1</td>\n",
       "      <td>2.67</td>\n",
       "      <td>12</td>\n",
       "      <td>20.300000</td>\n",
       "      <td>3</td>\n",
       "      <td>False</td>\n",
       "      <td>...</td>\n",
       "      <td>553.0</td>\n",
       "      <td>137.0</td>\n",
       "      <td>Санкт-Петербург</td>\n",
       "      <td>129487.179487</td>\n",
       "      <td>3</td>\n",
       "      <td>11</td>\n",
       "      <td>2017</td>\n",
       "      <td>другой</td>\n",
       "      <td>14.0</td>\n",
       "      <td>2.67</td>\n",
       "    </tr>\n",
       "    <tr>\n",
       "      <th>13</th>\n",
       "      <td>20</td>\n",
       "      <td>3550000</td>\n",
       "      <td>42.8</td>\n",
       "      <td>2017-07-01</td>\n",
       "      <td>2</td>\n",
       "      <td>2.56</td>\n",
       "      <td>5</td>\n",
       "      <td>27.000000</td>\n",
       "      <td>5</td>\n",
       "      <td>False</td>\n",
       "      <td>...</td>\n",
       "      <td>298.0</td>\n",
       "      <td>366.0</td>\n",
       "      <td>Петергоф</td>\n",
       "      <td>84523.809524</td>\n",
       "      <td>5</td>\n",
       "      <td>7</td>\n",
       "      <td>2017</td>\n",
       "      <td>последний</td>\n",
       "      <td>33.0</td>\n",
       "      <td>2.56</td>\n",
       "    </tr>\n",
       "    <tr>\n",
       "      <th>15</th>\n",
       "      <td>16</td>\n",
       "      <td>4650000</td>\n",
       "      <td>39.0</td>\n",
       "      <td>2017-11-18</td>\n",
       "      <td>1</td>\n",
       "      <td>2.65</td>\n",
       "      <td>14</td>\n",
       "      <td>20.500000</td>\n",
       "      <td>5</td>\n",
       "      <td>False</td>\n",
       "      <td>...</td>\n",
       "      <td>296.0</td>\n",
       "      <td>19.0</td>\n",
       "      <td>Санкт-Петербург</td>\n",
       "      <td>119230.769231</td>\n",
       "      <td>5</td>\n",
       "      <td>11</td>\n",
       "      <td>2017</td>\n",
       "      <td>другой</td>\n",
       "      <td>14.0</td>\n",
       "      <td>2.65</td>\n",
       "    </tr>\n",
       "    <tr>\n",
       "      <th>16</th>\n",
       "      <td>11</td>\n",
       "      <td>6700000</td>\n",
       "      <td>82.0</td>\n",
       "      <td>2017-11-23</td>\n",
       "      <td>3</td>\n",
       "      <td>3.05</td>\n",
       "      <td>5</td>\n",
       "      <td>55.600000</td>\n",
       "      <td>1</td>\n",
       "      <td>False</td>\n",
       "      <td>...</td>\n",
       "      <td>NaN</td>\n",
       "      <td>397.0</td>\n",
       "      <td>Санкт-Петербург</td>\n",
       "      <td>81707.317073</td>\n",
       "      <td>3</td>\n",
       "      <td>11</td>\n",
       "      <td>2017</td>\n",
       "      <td>первый</td>\n",
       "      <td>11.0</td>\n",
       "      <td>3.05</td>\n",
       "    </tr>\n",
       "    <tr>\n",
       "      <th>18</th>\n",
       "      <td>8</td>\n",
       "      <td>3250000</td>\n",
       "      <td>31.0</td>\n",
       "      <td>2017-01-27</td>\n",
       "      <td>1</td>\n",
       "      <td>2.50</td>\n",
       "      <td>5</td>\n",
       "      <td>19.400000</td>\n",
       "      <td>2</td>\n",
       "      <td>False</td>\n",
       "      <td>...</td>\n",
       "      <td>NaN</td>\n",
       "      <td>168.0</td>\n",
       "      <td>Санкт-Петербург</td>\n",
       "      <td>104838.709677</td>\n",
       "      <td>4</td>\n",
       "      <td>1</td>\n",
       "      <td>2017</td>\n",
       "      <td>другой</td>\n",
       "      <td>11.0</td>\n",
       "      <td>2.50</td>\n",
       "    </tr>\n",
       "    <tr>\n",
       "      <th>21</th>\n",
       "      <td>13</td>\n",
       "      <td>3200000</td>\n",
       "      <td>31.6</td>\n",
       "      <td>2018-03-14</td>\n",
       "      <td>1</td>\n",
       "      <td>2.65</td>\n",
       "      <td>5</td>\n",
       "      <td>16.900000</td>\n",
       "      <td>2</td>\n",
       "      <td>False</td>\n",
       "      <td>...</td>\n",
       "      <td>NaN</td>\n",
       "      <td>310.0</td>\n",
       "      <td>Санкт-Петербург</td>\n",
       "      <td>103225.806452</td>\n",
       "      <td>2</td>\n",
       "      <td>3</td>\n",
       "      <td>2018</td>\n",
       "      <td>другой</td>\n",
       "      <td>10.0</td>\n",
       "      <td>2.65</td>\n",
       "    </tr>\n",
       "    <tr>\n",
       "      <th>23</th>\n",
       "      <td>11</td>\n",
       "      <td>2950000</td>\n",
       "      <td>32.0</td>\n",
       "      <td>2016-10-29</td>\n",
       "      <td>1</td>\n",
       "      <td>2.60</td>\n",
       "      <td>9</td>\n",
       "      <td>17.700000</td>\n",
       "      <td>9</td>\n",
       "      <td>False</td>\n",
       "      <td>...</td>\n",
       "      <td>190.0</td>\n",
       "      <td>615.0</td>\n",
       "      <td>Санкт-Петербург</td>\n",
       "      <td>92187.500000</td>\n",
       "      <td>5</td>\n",
       "      <td>10</td>\n",
       "      <td>2016</td>\n",
       "      <td>последний</td>\n",
       "      <td>14.0</td>\n",
       "      <td>2.60</td>\n",
       "    </tr>\n",
       "    <tr>\n",
       "      <th>24</th>\n",
       "      <td>8</td>\n",
       "      <td>6500000</td>\n",
       "      <td>97.2</td>\n",
       "      <td>2015-10-31</td>\n",
       "      <td>2</td>\n",
       "      <td>2.65</td>\n",
       "      <td>3</td>\n",
       "      <td>46.500000</td>\n",
       "      <td>1</td>\n",
       "      <td>False</td>\n",
       "      <td>...</td>\n",
       "      <td>124.0</td>\n",
       "      <td>265.0</td>\n",
       "      <td>Санкт-Петербург</td>\n",
       "      <td>67010.309278</td>\n",
       "      <td>5</td>\n",
       "      <td>10</td>\n",
       "      <td>2015</td>\n",
       "      <td>первый</td>\n",
       "      <td>2.0</td>\n",
       "      <td>2.65</td>\n",
       "    </tr>\n",
       "    <tr>\n",
       "      <th>27</th>\n",
       "      <td>20</td>\n",
       "      <td>7100000</td>\n",
       "      <td>70.0</td>\n",
       "      <td>2017-05-12</td>\n",
       "      <td>3</td>\n",
       "      <td>2.60</td>\n",
       "      <td>17</td>\n",
       "      <td>49.000000</td>\n",
       "      <td>11</td>\n",
       "      <td>False</td>\n",
       "      <td>...</td>\n",
       "      <td>779.0</td>\n",
       "      <td>151.0</td>\n",
       "      <td>Санкт-Петербург</td>\n",
       "      <td>101428.571429</td>\n",
       "      <td>4</td>\n",
       "      <td>5</td>\n",
       "      <td>2017</td>\n",
       "      <td>другой</td>\n",
       "      <td>11.0</td>\n",
       "      <td>2.60</td>\n",
       "    </tr>\n",
       "    <tr>\n",
       "      <th>29</th>\n",
       "      <td>9</td>\n",
       "      <td>8600000</td>\n",
       "      <td>100.0</td>\n",
       "      <td>2016-04-09</td>\n",
       "      <td>3</td>\n",
       "      <td>2.65</td>\n",
       "      <td>19</td>\n",
       "      <td>52.000000</td>\n",
       "      <td>15</td>\n",
       "      <td>False</td>\n",
       "      <td>...</td>\n",
       "      <td>896.0</td>\n",
       "      <td>125.0</td>\n",
       "      <td>Санкт-Петербург</td>\n",
       "      <td>86000.000000</td>\n",
       "      <td>5</td>\n",
       "      <td>4</td>\n",
       "      <td>2016</td>\n",
       "      <td>другой</td>\n",
       "      <td>12.0</td>\n",
       "      <td>2.65</td>\n",
       "    </tr>\n",
       "    <tr>\n",
       "      <th>36</th>\n",
       "      <td>13</td>\n",
       "      <td>3790000</td>\n",
       "      <td>45.0</td>\n",
       "      <td>2017-01-25</td>\n",
       "      <td>2</td>\n",
       "      <td>2.65</td>\n",
       "      <td>9</td>\n",
       "      <td>27.000000</td>\n",
       "      <td>9</td>\n",
       "      <td>False</td>\n",
       "      <td>...</td>\n",
       "      <td>NaN</td>\n",
       "      <td>139.0</td>\n",
       "      <td>Санкт-Петербург</td>\n",
       "      <td>84222.222222</td>\n",
       "      <td>2</td>\n",
       "      <td>1</td>\n",
       "      <td>2017</td>\n",
       "      <td>последний</td>\n",
       "      <td>16.0</td>\n",
       "      <td>2.65</td>\n",
       "    </tr>\n",
       "    <tr>\n",
       "      <th>41</th>\n",
       "      <td>16</td>\n",
       "      <td>7900000</td>\n",
       "      <td>74.0</td>\n",
       "      <td>2016-05-04</td>\n",
       "      <td>3</td>\n",
       "      <td>2.65</td>\n",
       "      <td>14</td>\n",
       "      <td>59.000000</td>\n",
       "      <td>8</td>\n",
       "      <td>False</td>\n",
       "      <td>...</td>\n",
       "      <td>759.0</td>\n",
       "      <td>179.0</td>\n",
       "      <td>Санкт-Петербург</td>\n",
       "      <td>106756.756757</td>\n",
       "      <td>2</td>\n",
       "      <td>5</td>\n",
       "      <td>2016</td>\n",
       "      <td>другой</td>\n",
       "      <td>13.0</td>\n",
       "      <td>2.65</td>\n",
       "    </tr>\n",
       "    <tr>\n",
       "      <th>42</th>\n",
       "      <td>13</td>\n",
       "      <td>22000000</td>\n",
       "      <td>161.8</td>\n",
       "      <td>2015-07-08</td>\n",
       "      <td>4</td>\n",
       "      <td>2.80</td>\n",
       "      <td>4</td>\n",
       "      <td>80.900000</td>\n",
       "      <td>2</td>\n",
       "      <td>False</td>\n",
       "      <td>...</td>\n",
       "      <td>907.0</td>\n",
       "      <td>987.0</td>\n",
       "      <td>Петергоф</td>\n",
       "      <td>136645.962733</td>\n",
       "      <td>2</td>\n",
       "      <td>7</td>\n",
       "      <td>2015</td>\n",
       "      <td>другой</td>\n",
       "      <td>31.0</td>\n",
       "      <td>2.80</td>\n",
       "    </tr>\n",
       "    <tr>\n",
       "      <th>44</th>\n",
       "      <td>13</td>\n",
       "      <td>5350000</td>\n",
       "      <td>40.0</td>\n",
       "      <td>2018-11-18</td>\n",
       "      <td>1</td>\n",
       "      <td>2.65</td>\n",
       "      <td>22</td>\n",
       "      <td>22.839187</td>\n",
       "      <td>3</td>\n",
       "      <td>False</td>\n",
       "      <td>...</td>\n",
       "      <td>1152.0</td>\n",
       "      <td>NaN</td>\n",
       "      <td>Санкт-Петербург</td>\n",
       "      <td>133750.000000</td>\n",
       "      <td>6</td>\n",
       "      <td>11</td>\n",
       "      <td>2018</td>\n",
       "      <td>другой</td>\n",
       "      <td>12.0</td>\n",
       "      <td>2.65</td>\n",
       "    </tr>\n",
       "    <tr>\n",
       "      <th>49</th>\n",
       "      <td>1</td>\n",
       "      <td>3050000</td>\n",
       "      <td>30.8</td>\n",
       "      <td>2018-11-22</td>\n",
       "      <td>1</td>\n",
       "      <td>2.50</td>\n",
       "      <td>9</td>\n",
       "      <td>18.000000</td>\n",
       "      <td>7</td>\n",
       "      <td>False</td>\n",
       "      <td>...</td>\n",
       "      <td>NaN</td>\n",
       "      <td>NaN</td>\n",
       "      <td>Санкт-Петербург</td>\n",
       "      <td>101666.666667</td>\n",
       "      <td>3</td>\n",
       "      <td>11</td>\n",
       "      <td>2018</td>\n",
       "      <td>другой</td>\n",
       "      <td>17.0</td>\n",
       "      <td>2.50</td>\n",
       "    </tr>\n",
       "    <tr>\n",
       "      <th>50</th>\n",
       "      <td>1</td>\n",
       "      <td>4500000</td>\n",
       "      <td>48.2</td>\n",
       "      <td>2017-11-13</td>\n",
       "      <td>1</td>\n",
       "      <td>2.70</td>\n",
       "      <td>5</td>\n",
       "      <td>25.400000</td>\n",
       "      <td>4</td>\n",
       "      <td>False</td>\n",
       "      <td>...</td>\n",
       "      <td>330.0</td>\n",
       "      <td>152.0</td>\n",
       "      <td>Пушкин</td>\n",
       "      <td>93750.000000</td>\n",
       "      <td>0</td>\n",
       "      <td>11</td>\n",
       "      <td>2017</td>\n",
       "      <td>другой</td>\n",
       "      <td>30.0</td>\n",
       "      <td>2.70</td>\n",
       "    </tr>\n",
       "    <tr>\n",
       "      <th>52</th>\n",
       "      <td>20</td>\n",
       "      <td>11795000</td>\n",
       "      <td>136.0</td>\n",
       "      <td>2017-09-22</td>\n",
       "      <td>6</td>\n",
       "      <td>3.00</td>\n",
       "      <td>2</td>\n",
       "      <td>94.000000</td>\n",
       "      <td>2</td>\n",
       "      <td>False</td>\n",
       "      <td>...</td>\n",
       "      <td>NaN</td>\n",
       "      <td>NaN</td>\n",
       "      <td>Санкт-Петербург</td>\n",
       "      <td>86727.941176</td>\n",
       "      <td>4</td>\n",
       "      <td>9</td>\n",
       "      <td>2017</td>\n",
       "      <td>последний</td>\n",
       "      <td>7.0</td>\n",
       "      <td>3.00</td>\n",
       "    </tr>\n",
       "    <tr>\n",
       "      <th>56</th>\n",
       "      <td>14</td>\n",
       "      <td>4350000</td>\n",
       "      <td>41.0</td>\n",
       "      <td>2016-03-28</td>\n",
       "      <td>1</td>\n",
       "      <td>2.80</td>\n",
       "      <td>7</td>\n",
       "      <td>18.100000</td>\n",
       "      <td>4</td>\n",
       "      <td>False</td>\n",
       "      <td>...</td>\n",
       "      <td>439.0</td>\n",
       "      <td>152.0</td>\n",
       "      <td>Санкт-Петербург</td>\n",
       "      <td>106097.560976</td>\n",
       "      <td>0</td>\n",
       "      <td>3</td>\n",
       "      <td>2016</td>\n",
       "      <td>другой</td>\n",
       "      <td>10.0</td>\n",
       "      <td>2.80</td>\n",
       "    </tr>\n",
       "    <tr>\n",
       "      <th>61</th>\n",
       "      <td>18</td>\n",
       "      <td>7990000</td>\n",
       "      <td>74.0</td>\n",
       "      <td>2017-08-24</td>\n",
       "      <td>2</td>\n",
       "      <td>2.65</td>\n",
       "      <td>4</td>\n",
       "      <td>43.000000</td>\n",
       "      <td>4</td>\n",
       "      <td>False</td>\n",
       "      <td>...</td>\n",
       "      <td>NaN</td>\n",
       "      <td>609.0</td>\n",
       "      <td>Санкт-Петербург</td>\n",
       "      <td>107972.972973</td>\n",
       "      <td>3</td>\n",
       "      <td>8</td>\n",
       "      <td>2017</td>\n",
       "      <td>последний</td>\n",
       "      <td>4.0</td>\n",
       "      <td>2.65</td>\n",
       "    </tr>\n",
       "    <tr>\n",
       "      <th>63</th>\n",
       "      <td>2</td>\n",
       "      <td>20000000</td>\n",
       "      <td>118.0</td>\n",
       "      <td>2018-09-11</td>\n",
       "      <td>3</td>\n",
       "      <td>3.00</td>\n",
       "      <td>9</td>\n",
       "      <td>68.000000</td>\n",
       "      <td>7</td>\n",
       "      <td>False</td>\n",
       "      <td>...</td>\n",
       "      <td>779.0</td>\n",
       "      <td>37.0</td>\n",
       "      <td>Санкт-Петербург</td>\n",
       "      <td>169491.525424</td>\n",
       "      <td>1</td>\n",
       "      <td>9</td>\n",
       "      <td>2018</td>\n",
       "      <td>другой</td>\n",
       "      <td>5.0</td>\n",
       "      <td>3.00</td>\n",
       "    </tr>\n",
       "    <tr>\n",
       "      <th>70</th>\n",
       "      <td>9</td>\n",
       "      <td>3400000</td>\n",
       "      <td>30.0</td>\n",
       "      <td>2018-09-05</td>\n",
       "      <td>1</td>\n",
       "      <td>2.65</td>\n",
       "      <td>5</td>\n",
       "      <td>16.000000</td>\n",
       "      <td>1</td>\n",
       "      <td>False</td>\n",
       "      <td>...</td>\n",
       "      <td>NaN</td>\n",
       "      <td>14.0</td>\n",
       "      <td>Санкт-Петербург</td>\n",
       "      <td>113333.333333</td>\n",
       "      <td>2</td>\n",
       "      <td>9</td>\n",
       "      <td>2018</td>\n",
       "      <td>первый</td>\n",
       "      <td>8.0</td>\n",
       "      <td>2.65</td>\n",
       "    </tr>\n",
       "    <tr>\n",
       "      <th>71</th>\n",
       "      <td>20</td>\n",
       "      <td>4850000</td>\n",
       "      <td>57.5</td>\n",
       "      <td>2019-03-27</td>\n",
       "      <td>3</td>\n",
       "      <td>2.50</td>\n",
       "      <td>9</td>\n",
       "      <td>39.000000</td>\n",
       "      <td>8</td>\n",
       "      <td>False</td>\n",
       "      <td>...</td>\n",
       "      <td>333.0</td>\n",
       "      <td>NaN</td>\n",
       "      <td>Санкт-Петербург</td>\n",
       "      <td>85087.719298</td>\n",
       "      <td>2</td>\n",
       "      <td>3</td>\n",
       "      <td>2019</td>\n",
       "      <td>другой</td>\n",
       "      <td>12.0</td>\n",
       "      <td>2.50</td>\n",
       "    </tr>\n",
       "    <tr>\n",
       "      <th>72</th>\n",
       "      <td>10</td>\n",
       "      <td>4500000</td>\n",
       "      <td>55.0</td>\n",
       "      <td>2018-12-09</td>\n",
       "      <td>2</td>\n",
       "      <td>2.70</td>\n",
       "      <td>3</td>\n",
       "      <td>35.500000</td>\n",
       "      <td>2</td>\n",
       "      <td>False</td>\n",
       "      <td>...</td>\n",
       "      <td>118.0</td>\n",
       "      <td>141.0</td>\n",
       "      <td>Кронштадт</td>\n",
       "      <td>81818.181818</td>\n",
       "      <td>6</td>\n",
       "      <td>12</td>\n",
       "      <td>2018</td>\n",
       "      <td>другой</td>\n",
       "      <td>50.0</td>\n",
       "      <td>2.70</td>\n",
       "    </tr>\n",
       "    <tr>\n",
       "      <th>74</th>\n",
       "      <td>3</td>\n",
       "      <td>2350000</td>\n",
       "      <td>34.0</td>\n",
       "      <td>2018-06-14</td>\n",
       "      <td>1</td>\n",
       "      <td>2.50</td>\n",
       "      <td>9</td>\n",
       "      <td>19.000000</td>\n",
       "      <td>8</td>\n",
       "      <td>False</td>\n",
       "      <td>...</td>\n",
       "      <td>996.0</td>\n",
       "      <td>121.0</td>\n",
       "      <td>Колпино</td>\n",
       "      <td>69117.647059</td>\n",
       "      <td>3</td>\n",
       "      <td>6</td>\n",
       "      <td>2018</td>\n",
       "      <td>другой</td>\n",
       "      <td>33.0</td>\n",
       "      <td>2.50</td>\n",
       "    </tr>\n",
       "    <tr>\n",
       "      <th>77</th>\n",
       "      <td>7</td>\n",
       "      <td>4300000</td>\n",
       "      <td>62.1</td>\n",
       "      <td>2016-03-13</td>\n",
       "      <td>3</td>\n",
       "      <td>2.55</td>\n",
       "      <td>5</td>\n",
       "      <td>43.500000</td>\n",
       "      <td>1</td>\n",
       "      <td>False</td>\n",
       "      <td>...</td>\n",
       "      <td>854.0</td>\n",
       "      <td>186.0</td>\n",
       "      <td>Санкт-Петербург</td>\n",
       "      <td>69354.838710</td>\n",
       "      <td>6</td>\n",
       "      <td>3</td>\n",
       "      <td>2016</td>\n",
       "      <td>первый</td>\n",
       "      <td>16.0</td>\n",
       "      <td>2.55</td>\n",
       "    </tr>\n",
       "    <tr>\n",
       "      <th>93</th>\n",
       "      <td>10</td>\n",
       "      <td>3500000</td>\n",
       "      <td>40.4</td>\n",
       "      <td>2016-06-15</td>\n",
       "      <td>1</td>\n",
       "      <td>2.75</td>\n",
       "      <td>9</td>\n",
       "      <td>20.000000</td>\n",
       "      <td>7</td>\n",
       "      <td>False</td>\n",
       "      <td>...</td>\n",
       "      <td>NaN</td>\n",
       "      <td>239.0</td>\n",
       "      <td>Санкт-Петербург</td>\n",
       "      <td>87500.000000</td>\n",
       "      <td>2</td>\n",
       "      <td>6</td>\n",
       "      <td>2016</td>\n",
       "      <td>другой</td>\n",
       "      <td>12.0</td>\n",
       "      <td>2.75</td>\n",
       "    </tr>\n",
       "    <tr>\n",
       "      <th>95</th>\n",
       "      <td>14</td>\n",
       "      <td>5150000</td>\n",
       "      <td>47.0</td>\n",
       "      <td>2018-08-06</td>\n",
       "      <td>2</td>\n",
       "      <td>2.75</td>\n",
       "      <td>9</td>\n",
       "      <td>28.100000</td>\n",
       "      <td>9</td>\n",
       "      <td>False</td>\n",
       "      <td>...</td>\n",
       "      <td>881.0</td>\n",
       "      <td>34.0</td>\n",
       "      <td>Санкт-Петербург</td>\n",
       "      <td>109574.468085</td>\n",
       "      <td>0</td>\n",
       "      <td>8</td>\n",
       "      <td>2018</td>\n",
       "      <td>последний</td>\n",
       "      <td>14.0</td>\n",
       "      <td>2.75</td>\n",
       "    </tr>\n",
       "    <tr>\n",
       "      <th>98</th>\n",
       "      <td>11</td>\n",
       "      <td>11700000</td>\n",
       "      <td>80.0</td>\n",
       "      <td>2014-12-10</td>\n",
       "      <td>3</td>\n",
       "      <td>2.65</td>\n",
       "      <td>5</td>\n",
       "      <td>55.100000</td>\n",
       "      <td>3</td>\n",
       "      <td>False</td>\n",
       "      <td>...</td>\n",
       "      <td>NaN</td>\n",
       "      <td>831.0</td>\n",
       "      <td>Санкт-Петербург</td>\n",
       "      <td>146250.000000</td>\n",
       "      <td>2</td>\n",
       "      <td>12</td>\n",
       "      <td>2014</td>\n",
       "      <td>другой</td>\n",
       "      <td>9.0</td>\n",
       "      <td>2.65</td>\n",
       "    </tr>\n",
       "    <tr>\n",
       "      <th>106</th>\n",
       "      <td>9</td>\n",
       "      <td>10500000</td>\n",
       "      <td>124.1</td>\n",
       "      <td>2017-05-25</td>\n",
       "      <td>5</td>\n",
       "      <td>3.20</td>\n",
       "      <td>4</td>\n",
       "      <td>79.400000</td>\n",
       "      <td>3</td>\n",
       "      <td>False</td>\n",
       "      <td>...</td>\n",
       "      <td>NaN</td>\n",
       "      <td>6.0</td>\n",
       "      <td>Санкт-Петербург</td>\n",
       "      <td>84677.419355</td>\n",
       "      <td>3</td>\n",
       "      <td>5</td>\n",
       "      <td>2017</td>\n",
       "      <td>другой</td>\n",
       "      <td>6.0</td>\n",
       "      <td>3.20</td>\n",
       "    </tr>\n",
       "    <tr>\n",
       "      <th>107</th>\n",
       "      <td>1</td>\n",
       "      <td>11000000</td>\n",
       "      <td>101.0</td>\n",
       "      <td>2016-04-13</td>\n",
       "      <td>4</td>\n",
       "      <td>3.00</td>\n",
       "      <td>3</td>\n",
       "      <td>73.000000</td>\n",
       "      <td>3</td>\n",
       "      <td>False</td>\n",
       "      <td>...</td>\n",
       "      <td>405.0</td>\n",
       "      <td>122.0</td>\n",
       "      <td>Павловск</td>\n",
       "      <td>108910.891089</td>\n",
       "      <td>2</td>\n",
       "      <td>4</td>\n",
       "      <td>2016</td>\n",
       "      <td>последний</td>\n",
       "      <td>33.0</td>\n",
       "      <td>3.00</td>\n",
       "    </tr>\n",
       "    <tr>\n",
       "      <th>109</th>\n",
       "      <td>2</td>\n",
       "      <td>7497600</td>\n",
       "      <td>62.5</td>\n",
       "      <td>2015-12-08</td>\n",
       "      <td>2</td>\n",
       "      <td>2.65</td>\n",
       "      <td>5</td>\n",
       "      <td>35.500000</td>\n",
       "      <td>5</td>\n",
       "      <td>False</td>\n",
       "      <td>...</td>\n",
       "      <td>NaN</td>\n",
       "      <td>1048.0</td>\n",
       "      <td>Пушкин</td>\n",
       "      <td>120929.032258</td>\n",
       "      <td>1</td>\n",
       "      <td>12</td>\n",
       "      <td>2015</td>\n",
       "      <td>последний</td>\n",
       "      <td>27.0</td>\n",
       "      <td>2.65</td>\n",
       "    </tr>\n",
       "    <tr>\n",
       "      <th>111</th>\n",
       "      <td>4</td>\n",
       "      <td>4590000</td>\n",
       "      <td>40.0</td>\n",
       "      <td>2017-05-29</td>\n",
       "      <td>1</td>\n",
       "      <td>2.65</td>\n",
       "      <td>6</td>\n",
       "      <td>18.000000</td>\n",
       "      <td>1</td>\n",
       "      <td>False</td>\n",
       "      <td>...</td>\n",
       "      <td>NaN</td>\n",
       "      <td>31.0</td>\n",
       "      <td>Санкт-Петербург</td>\n",
       "      <td>114750.000000</td>\n",
       "      <td>0</td>\n",
       "      <td>5</td>\n",
       "      <td>2017</td>\n",
       "      <td>первый</td>\n",
       "      <td>6.0</td>\n",
       "      <td>2.65</td>\n",
       "    </tr>\n",
       "    <tr>\n",
       "      <th>114</th>\n",
       "      <td>5</td>\n",
       "      <td>4000000</td>\n",
       "      <td>21.4</td>\n",
       "      <td>2019-02-07</td>\n",
       "      <td>1</td>\n",
       "      <td>2.90</td>\n",
       "      <td>8</td>\n",
       "      <td>8.300000</td>\n",
       "      <td>7</td>\n",
       "      <td>False</td>\n",
       "      <td>...</td>\n",
       "      <td>286.0</td>\n",
       "      <td>NaN</td>\n",
       "      <td>Санкт-Петербург</td>\n",
       "      <td>190476.190476</td>\n",
       "      <td>3</td>\n",
       "      <td>2</td>\n",
       "      <td>2019</td>\n",
       "      <td>другой</td>\n",
       "      <td>6.0</td>\n",
       "      <td>2.90</td>\n",
       "    </tr>\n",
       "    <tr>\n",
       "      <th>117</th>\n",
       "      <td>10</td>\n",
       "      <td>8520000</td>\n",
       "      <td>84.7</td>\n",
       "      <td>2018-03-04</td>\n",
       "      <td>3</td>\n",
       "      <td>3.20</td>\n",
       "      <td>5</td>\n",
       "      <td>55.900000</td>\n",
       "      <td>4</td>\n",
       "      <td>False</td>\n",
       "      <td>...</td>\n",
       "      <td>NaN</td>\n",
       "      <td>390.0</td>\n",
       "      <td>Санкт-Петербург</td>\n",
       "      <td>101428.571429</td>\n",
       "      <td>6</td>\n",
       "      <td>3</td>\n",
       "      <td>2018</td>\n",
       "      <td>другой</td>\n",
       "      <td>10.0</td>\n",
       "      <td>3.20</td>\n",
       "    </tr>\n",
       "    <tr>\n",
       "      <th>119</th>\n",
       "      <td>10</td>\n",
       "      <td>6200000</td>\n",
       "      <td>67.0</td>\n",
       "      <td>2015-10-21</td>\n",
       "      <td>3</td>\n",
       "      <td>2.65</td>\n",
       "      <td>6</td>\n",
       "      <td>42.500000</td>\n",
       "      <td>2</td>\n",
       "      <td>False</td>\n",
       "      <td>...</td>\n",
       "      <td>556.0</td>\n",
       "      <td>330.0</td>\n",
       "      <td>Санкт-Петербург</td>\n",
       "      <td>92537.313433</td>\n",
       "      <td>2</td>\n",
       "      <td>10</td>\n",
       "      <td>2015</td>\n",
       "      <td>другой</td>\n",
       "      <td>12.0</td>\n",
       "      <td>2.65</td>\n",
       "    </tr>\n",
       "    <tr>\n",
       "      <th>120</th>\n",
       "      <td>11</td>\n",
       "      <td>2500000</td>\n",
       "      <td>30.9</td>\n",
       "      <td>2017-10-20</td>\n",
       "      <td>1</td>\n",
       "      <td>2.75</td>\n",
       "      <td>5</td>\n",
       "      <td>16.700000</td>\n",
       "      <td>1</td>\n",
       "      <td>False</td>\n",
       "      <td>...</td>\n",
       "      <td>221.0</td>\n",
       "      <td>360.0</td>\n",
       "      <td>Кронштадт</td>\n",
       "      <td>83333.333333</td>\n",
       "      <td>4</td>\n",
       "      <td>10</td>\n",
       "      <td>2017</td>\n",
       "      <td>первый</td>\n",
       "      <td>51.0</td>\n",
       "      <td>2.75</td>\n",
       "    </tr>\n",
       "    <tr>\n",
       "      <th>121</th>\n",
       "      <td>20</td>\n",
       "      <td>33000000</td>\n",
       "      <td>180.0</td>\n",
       "      <td>2017-02-17</td>\n",
       "      <td>3</td>\n",
       "      <td>2.90</td>\n",
       "      <td>9</td>\n",
       "      <td>86.000000</td>\n",
       "      <td>8</td>\n",
       "      <td>False</td>\n",
       "      <td>...</td>\n",
       "      <td>NaN</td>\n",
       "      <td>144.0</td>\n",
       "      <td>Санкт-Петербург</td>\n",
       "      <td>183333.333333</td>\n",
       "      <td>4</td>\n",
       "      <td>2</td>\n",
       "      <td>2017</td>\n",
       "      <td>другой</td>\n",
       "      <td>4.0</td>\n",
       "      <td>2.90</td>\n",
       "    </tr>\n",
       "    <tr>\n",
       "      <th>126</th>\n",
       "      <td>10</td>\n",
       "      <td>4050000</td>\n",
       "      <td>51.0</td>\n",
       "      <td>2019-04-23</td>\n",
       "      <td>2</td>\n",
       "      <td>2.65</td>\n",
       "      <td>5</td>\n",
       "      <td>30.500000</td>\n",
       "      <td>1</td>\n",
       "      <td>False</td>\n",
       "      <td>...</td>\n",
       "      <td>659.0</td>\n",
       "      <td>NaN</td>\n",
       "      <td>Пушкин</td>\n",
       "      <td>79411.764706</td>\n",
       "      <td>1</td>\n",
       "      <td>4</td>\n",
       "      <td>2019</td>\n",
       "      <td>первый</td>\n",
       "      <td>33.0</td>\n",
       "      <td>2.65</td>\n",
       "    </tr>\n",
       "    <tr>\n",
       "      <th>129</th>\n",
       "      <td>0</td>\n",
       "      <td>3200000</td>\n",
       "      <td>32.0</td>\n",
       "      <td>2018-02-01</td>\n",
       "      <td>1</td>\n",
       "      <td>2.50</td>\n",
       "      <td>9</td>\n",
       "      <td>18.000000</td>\n",
       "      <td>3</td>\n",
       "      <td>False</td>\n",
       "      <td>...</td>\n",
       "      <td>NaN</td>\n",
       "      <td>40.0</td>\n",
       "      <td>Санкт-Петербург</td>\n",
       "      <td>100000.000000</td>\n",
       "      <td>3</td>\n",
       "      <td>2</td>\n",
       "      <td>2018</td>\n",
       "      <td>другой</td>\n",
       "      <td>16.0</td>\n",
       "      <td>2.50</td>\n",
       "    </tr>\n",
       "    <tr>\n",
       "      <th>136</th>\n",
       "      <td>16</td>\n",
       "      <td>6500000</td>\n",
       "      <td>51.8</td>\n",
       "      <td>2018-08-01</td>\n",
       "      <td>2</td>\n",
       "      <td>3.45</td>\n",
       "      <td>6</td>\n",
       "      <td>25.600000</td>\n",
       "      <td>2</td>\n",
       "      <td>False</td>\n",
       "      <td>...</td>\n",
       "      <td>812.0</td>\n",
       "      <td>163.0</td>\n",
       "      <td>Санкт-Петербург</td>\n",
       "      <td>127450.980392</td>\n",
       "      <td>2</td>\n",
       "      <td>8</td>\n",
       "      <td>2018</td>\n",
       "      <td>другой</td>\n",
       "      <td>4.0</td>\n",
       "      <td>3.45</td>\n",
       "    </tr>\n",
       "    <tr>\n",
       "      <th>137</th>\n",
       "      <td>11</td>\n",
       "      <td>13310800</td>\n",
       "      <td>85.1</td>\n",
       "      <td>2018-01-01</td>\n",
       "      <td>2</td>\n",
       "      <td>2.70</td>\n",
       "      <td>10</td>\n",
       "      <td>31.520000</td>\n",
       "      <td>5</td>\n",
       "      <td>False</td>\n",
       "      <td>...</td>\n",
       "      <td>133.0</td>\n",
       "      <td>340.0</td>\n",
       "      <td>Санкт-Петербург</td>\n",
       "      <td>156597.647059</td>\n",
       "      <td>0</td>\n",
       "      <td>1</td>\n",
       "      <td>2018</td>\n",
       "      <td>другой</td>\n",
       "      <td>4.0</td>\n",
       "      <td>2.70</td>\n",
       "    </tr>\n",
       "    <tr>\n",
       "      <th>140</th>\n",
       "      <td>8</td>\n",
       "      <td>16912000</td>\n",
       "      <td>105.7</td>\n",
       "      <td>2016-12-09</td>\n",
       "      <td>2</td>\n",
       "      <td>2.70</td>\n",
       "      <td>3</td>\n",
       "      <td>48.400000</td>\n",
       "      <td>1</td>\n",
       "      <td>False</td>\n",
       "      <td>...</td>\n",
       "      <td>179.0</td>\n",
       "      <td>390.0</td>\n",
       "      <td>Пушкин</td>\n",
       "      <td>161066.666667</td>\n",
       "      <td>4</td>\n",
       "      <td>12</td>\n",
       "      <td>2016</td>\n",
       "      <td>первый</td>\n",
       "      <td>27.0</td>\n",
       "      <td>2.70</td>\n",
       "    </tr>\n",
       "    <tr>\n",
       "      <th>146</th>\n",
       "      <td>11</td>\n",
       "      <td>4400000</td>\n",
       "      <td>53.6</td>\n",
       "      <td>2018-03-31</td>\n",
       "      <td>2</td>\n",
       "      <td>2.55</td>\n",
       "      <td>10</td>\n",
       "      <td>29.200000</td>\n",
       "      <td>10</td>\n",
       "      <td>False</td>\n",
       "      <td>...</td>\n",
       "      <td>256.0</td>\n",
       "      <td>55.0</td>\n",
       "      <td>Сестрорецк</td>\n",
       "      <td>83018.867925</td>\n",
       "      <td>5</td>\n",
       "      <td>3</td>\n",
       "      <td>2018</td>\n",
       "      <td>последний</td>\n",
       "      <td>36.0</td>\n",
       "      <td>2.55</td>\n",
       "    </tr>\n",
       "    <tr>\n",
       "      <th>149</th>\n",
       "      <td>9</td>\n",
       "      <td>5300000</td>\n",
       "      <td>53.0</td>\n",
       "      <td>2018-06-28</td>\n",
       "      <td>2</td>\n",
       "      <td>2.65</td>\n",
       "      <td>12</td>\n",
       "      <td>31.500000</td>\n",
       "      <td>6</td>\n",
       "      <td>False</td>\n",
       "      <td>...</td>\n",
       "      <td>878.0</td>\n",
       "      <td>55.0</td>\n",
       "      <td>Санкт-Петербург</td>\n",
       "      <td>100000.000000</td>\n",
       "      <td>3</td>\n",
       "      <td>6</td>\n",
       "      <td>2018</td>\n",
       "      <td>другой</td>\n",
       "      <td>12.0</td>\n",
       "      <td>2.65</td>\n",
       "    </tr>\n",
       "    <tr>\n",
       "      <th>153</th>\n",
       "      <td>12</td>\n",
       "      <td>4350000</td>\n",
       "      <td>55.0</td>\n",
       "      <td>2017-05-21</td>\n",
       "      <td>2</td>\n",
       "      <td>2.57</td>\n",
       "      <td>9</td>\n",
       "      <td>31.200000</td>\n",
       "      <td>2</td>\n",
       "      <td>False</td>\n",
       "      <td>...</td>\n",
       "      <td>NaN</td>\n",
       "      <td>45.0</td>\n",
       "      <td>Петергоф</td>\n",
       "      <td>79090.909091</td>\n",
       "      <td>6</td>\n",
       "      <td>5</td>\n",
       "      <td>2017</td>\n",
       "      <td>другой</td>\n",
       "      <td>34.0</td>\n",
       "      <td>2.57</td>\n",
       "    </tr>\n",
       "    <tr>\n",
       "      <th>154</th>\n",
       "      <td>1</td>\n",
       "      <td>8200000</td>\n",
       "      <td>80.0</td>\n",
       "      <td>2018-11-06</td>\n",
       "      <td>3</td>\n",
       "      <td>4.15</td>\n",
       "      <td>3</td>\n",
       "      <td>44.200000</td>\n",
       "      <td>2</td>\n",
       "      <td>False</td>\n",
       "      <td>...</td>\n",
       "      <td>838.0</td>\n",
       "      <td>38.0</td>\n",
       "      <td>Санкт-Петербург</td>\n",
       "      <td>102500.000000</td>\n",
       "      <td>1</td>\n",
       "      <td>11</td>\n",
       "      <td>2018</td>\n",
       "      <td>другой</td>\n",
       "      <td>3.0</td>\n",
       "      <td>4.15</td>\n",
       "    </tr>\n",
       "    <tr>\n",
       "      <th>155</th>\n",
       "      <td>8</td>\n",
       "      <td>96000000</td>\n",
       "      <td>317.0</td>\n",
       "      <td>2017-07-07</td>\n",
       "      <td>4</td>\n",
       "      <td>3.50</td>\n",
       "      <td>3</td>\n",
       "      <td>183.000000</td>\n",
       "      <td>3</td>\n",
       "      <td>False</td>\n",
       "      <td>...</td>\n",
       "      <td>366.0</td>\n",
       "      <td>62.0</td>\n",
       "      <td>Санкт-Петербург</td>\n",
       "      <td>302839.116719</td>\n",
       "      <td>4</td>\n",
       "      <td>7</td>\n",
       "      <td>2017</td>\n",
       "      <td>последний</td>\n",
       "      <td>2.0</td>\n",
       "      <td>3.50</td>\n",
       "    </tr>\n",
       "    <tr>\n",
       "      <th>161</th>\n",
       "      <td>2</td>\n",
       "      <td>5000000</td>\n",
       "      <td>42.9</td>\n",
       "      <td>2016-04-11</td>\n",
       "      <td>1</td>\n",
       "      <td>2.75</td>\n",
       "      <td>23</td>\n",
       "      <td>18.900000</td>\n",
       "      <td>8</td>\n",
       "      <td>False</td>\n",
       "      <td>...</td>\n",
       "      <td>NaN</td>\n",
       "      <td>69.0</td>\n",
       "      <td>Санкт-Петербург</td>\n",
       "      <td>119047.619048</td>\n",
       "      <td>0</td>\n",
       "      <td>4</td>\n",
       "      <td>2016</td>\n",
       "      <td>другой</td>\n",
       "      <td>13.0</td>\n",
       "      <td>2.75</td>\n",
       "    </tr>\n",
       "    <tr>\n",
       "      <th>162</th>\n",
       "      <td>2</td>\n",
       "      <td>5600000</td>\n",
       "      <td>66.0</td>\n",
       "      <td>2018-07-11</td>\n",
       "      <td>3</td>\n",
       "      <td>2.50</td>\n",
       "      <td>9</td>\n",
       "      <td>48.000000</td>\n",
       "      <td>9</td>\n",
       "      <td>False</td>\n",
       "      <td>...</td>\n",
       "      <td>NaN</td>\n",
       "      <td>NaN</td>\n",
       "      <td>Санкт-Петербург</td>\n",
       "      <td>84848.484848</td>\n",
       "      <td>2</td>\n",
       "      <td>7</td>\n",
       "      <td>2018</td>\n",
       "      <td>последний</td>\n",
       "      <td>17.0</td>\n",
       "      <td>2.50</td>\n",
       "    </tr>\n",
       "    <tr>\n",
       "      <th>177</th>\n",
       "      <td>3</td>\n",
       "      <td>21042018</td>\n",
       "      <td>154.9</td>\n",
       "      <td>2017-09-10</td>\n",
       "      <td>4</td>\n",
       "      <td>3.30</td>\n",
       "      <td>16</td>\n",
       "      <td>89.110000</td>\n",
       "      <td>3</td>\n",
       "      <td>False</td>\n",
       "      <td>...</td>\n",
       "      <td>427.0</td>\n",
       "      <td>563.0</td>\n",
       "      <td>Санкт-Петербург</td>\n",
       "      <td>136636.480519</td>\n",
       "      <td>6</td>\n",
       "      <td>9</td>\n",
       "      <td>2017</td>\n",
       "      <td>другой</td>\n",
       "      <td>8.0</td>\n",
       "      <td>3.30</td>\n",
       "    </tr>\n",
       "    <tr>\n",
       "      <th>179</th>\n",
       "      <td>5</td>\n",
       "      <td>14800000</td>\n",
       "      <td>108.7</td>\n",
       "      <td>2019-04-11</td>\n",
       "      <td>3</td>\n",
       "      <td>4.00</td>\n",
       "      <td>5</td>\n",
       "      <td>72.400000</td>\n",
       "      <td>5</td>\n",
       "      <td>False</td>\n",
       "      <td>...</td>\n",
       "      <td>NaN</td>\n",
       "      <td>NaN</td>\n",
       "      <td>Санкт-Петербург</td>\n",
       "      <td>137037.037037</td>\n",
       "      <td>3</td>\n",
       "      <td>4</td>\n",
       "      <td>2019</td>\n",
       "      <td>последний</td>\n",
       "      <td>3.0</td>\n",
       "      <td>4.00</td>\n",
       "    </tr>\n",
       "    <tr>\n",
       "      <th>185</th>\n",
       "      <td>8</td>\n",
       "      <td>8500000</td>\n",
       "      <td>49.9</td>\n",
       "      <td>2018-10-20</td>\n",
       "      <td>1</td>\n",
       "      <td>3.00</td>\n",
       "      <td>16</td>\n",
       "      <td>18.900000</td>\n",
       "      <td>14</td>\n",
       "      <td>False</td>\n",
       "      <td>...</td>\n",
       "      <td>833.0</td>\n",
       "      <td>145.0</td>\n",
       "      <td>Санкт-Петербург</td>\n",
       "      <td>173469.387755</td>\n",
       "      <td>5</td>\n",
       "      <td>10</td>\n",
       "      <td>2018</td>\n",
       "      <td>другой</td>\n",
       "      <td>9.0</td>\n",
       "      <td>3.00</td>\n",
       "    </tr>\n",
       "    <tr>\n",
       "      <th>186</th>\n",
       "      <td>12</td>\n",
       "      <td>11640000</td>\n",
       "      <td>65.2</td>\n",
       "      <td>2018-10-02</td>\n",
       "      <td>2</td>\n",
       "      <td>2.65</td>\n",
       "      <td>4</td>\n",
       "      <td>30.800000</td>\n",
       "      <td>4</td>\n",
       "      <td>False</td>\n",
       "      <td>...</td>\n",
       "      <td>NaN</td>\n",
       "      <td>49.0</td>\n",
       "      <td>Санкт-Петербург</td>\n",
       "      <td>179076.923077</td>\n",
       "      <td>1</td>\n",
       "      <td>10</td>\n",
       "      <td>2018</td>\n",
       "      <td>последний</td>\n",
       "      <td>12.0</td>\n",
       "      <td>2.65</td>\n",
       "    </tr>\n",
       "    <tr>\n",
       "      <th>188</th>\n",
       "      <td>15</td>\n",
       "      <td>4600000</td>\n",
       "      <td>38.5</td>\n",
       "      <td>2019-04-16</td>\n",
       "      <td>1</td>\n",
       "      <td>2.50</td>\n",
       "      <td>12</td>\n",
       "      <td>18.500000</td>\n",
       "      <td>5</td>\n",
       "      <td>False</td>\n",
       "      <td>...</td>\n",
       "      <td>NaN</td>\n",
       "      <td>NaN</td>\n",
       "      <td>Санкт-Петербург</td>\n",
       "      <td>121052.631579</td>\n",
       "      <td>1</td>\n",
       "      <td>4</td>\n",
       "      <td>2019</td>\n",
       "      <td>другой</td>\n",
       "      <td>17.0</td>\n",
       "      <td>2.50</td>\n",
       "    </tr>\n",
       "    <tr>\n",
       "      <th>189</th>\n",
       "      <td>0</td>\n",
       "      <td>6150000</td>\n",
       "      <td>62.0</td>\n",
       "      <td>2017-10-13</td>\n",
       "      <td>3</td>\n",
       "      <td>2.65</td>\n",
       "      <td>9</td>\n",
       "      <td>41.500000</td>\n",
       "      <td>5</td>\n",
       "      <td>False</td>\n",
       "      <td>...</td>\n",
       "      <td>NaN</td>\n",
       "      <td>45.0</td>\n",
       "      <td>Санкт-Петербург</td>\n",
       "      <td>99193.548387</td>\n",
       "      <td>4</td>\n",
       "      <td>10</td>\n",
       "      <td>2017</td>\n",
       "      <td>другой</td>\n",
       "      <td>12.0</td>\n",
       "      <td>2.65</td>\n",
       "    </tr>\n",
       "    <tr>\n",
       "      <th>195</th>\n",
       "      <td>8</td>\n",
       "      <td>5300000</td>\n",
       "      <td>60.0</td>\n",
       "      <td>2016-05-19</td>\n",
       "      <td>3</td>\n",
       "      <td>2.65</td>\n",
       "      <td>9</td>\n",
       "      <td>34.258780</td>\n",
       "      <td>4</td>\n",
       "      <td>False</td>\n",
       "      <td>...</td>\n",
       "      <td>239.0</td>\n",
       "      <td>372.0</td>\n",
       "      <td>Санкт-Петербург</td>\n",
       "      <td>88333.333333</td>\n",
       "      <td>3</td>\n",
       "      <td>5</td>\n",
       "      <td>2016</td>\n",
       "      <td>другой</td>\n",
       "      <td>17.0</td>\n",
       "      <td>2.65</td>\n",
       "    </tr>\n",
       "  </tbody>\n",
       "</table>\n",
       "<p>60 rows × 29 columns</p>\n",
       "</div>"
      ],
      "text/plain": [
       "     total_images  last_price  total_area first_day_exposition  rooms  \\\n",
       "0              20    13000000       108.0           2019-03-07      3   \n",
       "2              10     5196000        56.0           2015-08-20      2   \n",
       "3               0    64900000       159.0           2015-07-24      3   \n",
       "4               2    10000000       100.0           2018-06-19      2   \n",
       "10              5     5050000        39.6           2017-11-16      1   \n",
       "13             20     3550000        42.8           2017-07-01      2   \n",
       "15             16     4650000        39.0           2017-11-18      1   \n",
       "16             11     6700000        82.0           2017-11-23      3   \n",
       "18              8     3250000        31.0           2017-01-27      1   \n",
       "21             13     3200000        31.6           2018-03-14      1   \n",
       "23             11     2950000        32.0           2016-10-29      1   \n",
       "24              8     6500000        97.2           2015-10-31      2   \n",
       "27             20     7100000        70.0           2017-05-12      3   \n",
       "29              9     8600000       100.0           2016-04-09      3   \n",
       "36             13     3790000        45.0           2017-01-25      2   \n",
       "41             16     7900000        74.0           2016-05-04      3   \n",
       "42             13    22000000       161.8           2015-07-08      4   \n",
       "44             13     5350000        40.0           2018-11-18      1   \n",
       "49              1     3050000        30.8           2018-11-22      1   \n",
       "50              1     4500000        48.2           2017-11-13      1   \n",
       "52             20    11795000       136.0           2017-09-22      6   \n",
       "56             14     4350000        41.0           2016-03-28      1   \n",
       "61             18     7990000        74.0           2017-08-24      2   \n",
       "63              2    20000000       118.0           2018-09-11      3   \n",
       "70              9     3400000        30.0           2018-09-05      1   \n",
       "71             20     4850000        57.5           2019-03-27      3   \n",
       "72             10     4500000        55.0           2018-12-09      2   \n",
       "74              3     2350000        34.0           2018-06-14      1   \n",
       "77              7     4300000        62.1           2016-03-13      3   \n",
       "93             10     3500000        40.4           2016-06-15      1   \n",
       "95             14     5150000        47.0           2018-08-06      2   \n",
       "98             11    11700000        80.0           2014-12-10      3   \n",
       "106             9    10500000       124.1           2017-05-25      5   \n",
       "107             1    11000000       101.0           2016-04-13      4   \n",
       "109             2     7497600        62.5           2015-12-08      2   \n",
       "111             4     4590000        40.0           2017-05-29      1   \n",
       "114             5     4000000        21.4           2019-02-07      1   \n",
       "117            10     8520000        84.7           2018-03-04      3   \n",
       "119            10     6200000        67.0           2015-10-21      3   \n",
       "120            11     2500000        30.9           2017-10-20      1   \n",
       "121            20    33000000       180.0           2017-02-17      3   \n",
       "126            10     4050000        51.0           2019-04-23      2   \n",
       "129             0     3200000        32.0           2018-02-01      1   \n",
       "136            16     6500000        51.8           2018-08-01      2   \n",
       "137            11    13310800        85.1           2018-01-01      2   \n",
       "140             8    16912000       105.7           2016-12-09      2   \n",
       "146            11     4400000        53.6           2018-03-31      2   \n",
       "149             9     5300000        53.0           2018-06-28      2   \n",
       "153            12     4350000        55.0           2017-05-21      2   \n",
       "154             1     8200000        80.0           2018-11-06      3   \n",
       "155             8    96000000       317.0           2017-07-07      4   \n",
       "161             2     5000000        42.9           2016-04-11      1   \n",
       "162             2     5600000        66.0           2018-07-11      3   \n",
       "177             3    21042018       154.9           2017-09-10      4   \n",
       "179             5    14800000       108.7           2019-04-11      3   \n",
       "185             8     8500000        49.9           2018-10-20      1   \n",
       "186            12    11640000        65.2           2018-10-02      2   \n",
       "188            15     4600000        38.5           2019-04-16      1   \n",
       "189             0     6150000        62.0           2017-10-13      3   \n",
       "195             8     5300000        60.0           2016-05-19      3   \n",
       "\n",
       "     ceiling_height  floors_total  living_area  floor is_apartment  ...  \\\n",
       "0              2.70            16    51.000000      8        False  ...   \n",
       "2              2.65             5    34.300000      4        False  ...   \n",
       "3              2.65            14    90.785766      9        False  ...   \n",
       "4              3.03            14    32.000000     13        False  ...   \n",
       "10             2.67            12    20.300000      3        False  ...   \n",
       "13             2.56             5    27.000000      5        False  ...   \n",
       "15             2.65            14    20.500000      5        False  ...   \n",
       "16             3.05             5    55.600000      1        False  ...   \n",
       "18             2.50             5    19.400000      2        False  ...   \n",
       "21             2.65             5    16.900000      2        False  ...   \n",
       "23             2.60             9    17.700000      9        False  ...   \n",
       "24             2.65             3    46.500000      1        False  ...   \n",
       "27             2.60            17    49.000000     11        False  ...   \n",
       "29             2.65            19    52.000000     15        False  ...   \n",
       "36             2.65             9    27.000000      9        False  ...   \n",
       "41             2.65            14    59.000000      8        False  ...   \n",
       "42             2.80             4    80.900000      2        False  ...   \n",
       "44             2.65            22    22.839187      3        False  ...   \n",
       "49             2.50             9    18.000000      7        False  ...   \n",
       "50             2.70             5    25.400000      4        False  ...   \n",
       "52             3.00             2    94.000000      2        False  ...   \n",
       "56             2.80             7    18.100000      4        False  ...   \n",
       "61             2.65             4    43.000000      4        False  ...   \n",
       "63             3.00             9    68.000000      7        False  ...   \n",
       "70             2.65             5    16.000000      1        False  ...   \n",
       "71             2.50             9    39.000000      8        False  ...   \n",
       "72             2.70             3    35.500000      2        False  ...   \n",
       "74             2.50             9    19.000000      8        False  ...   \n",
       "77             2.55             5    43.500000      1        False  ...   \n",
       "93             2.75             9    20.000000      7        False  ...   \n",
       "95             2.75             9    28.100000      9        False  ...   \n",
       "98             2.65             5    55.100000      3        False  ...   \n",
       "106            3.20             4    79.400000      3        False  ...   \n",
       "107            3.00             3    73.000000      3        False  ...   \n",
       "109            2.65             5    35.500000      5        False  ...   \n",
       "111            2.65             6    18.000000      1        False  ...   \n",
       "114            2.90             8     8.300000      7        False  ...   \n",
       "117            3.20             5    55.900000      4        False  ...   \n",
       "119            2.65             6    42.500000      2        False  ...   \n",
       "120            2.75             5    16.700000      1        False  ...   \n",
       "121            2.90             9    86.000000      8        False  ...   \n",
       "126            2.65             5    30.500000      1        False  ...   \n",
       "129            2.50             9    18.000000      3        False  ...   \n",
       "136            3.45             6    25.600000      2        False  ...   \n",
       "137            2.70            10    31.520000      5        False  ...   \n",
       "140            2.70             3    48.400000      1        False  ...   \n",
       "146            2.55            10    29.200000     10        False  ...   \n",
       "149            2.65            12    31.500000      6        False  ...   \n",
       "153            2.57             9    31.200000      2        False  ...   \n",
       "154            4.15             3    44.200000      2        False  ...   \n",
       "155            3.50             3   183.000000      3        False  ...   \n",
       "161            2.75            23    18.900000      8        False  ...   \n",
       "162            2.50             9    48.000000      9        False  ...   \n",
       "177            3.30            16    89.110000      3        False  ...   \n",
       "179            4.00             5    72.400000      5        False  ...   \n",
       "185            3.00            16    18.900000     14        False  ...   \n",
       "186            2.65             4    30.800000      4        False  ...   \n",
       "188            2.50            12    18.500000      5        False  ...   \n",
       "189            2.65             9    41.500000      5        False  ...   \n",
       "195            2.65             9    34.258780      4        False  ...   \n",
       "\n",
       "     ponds_nearest  days_exposition    locailty_name  price_sqr_meter  \\\n",
       "0            755.0              NaN  Санкт-Петербург    120370.370370   \n",
       "2            574.0            558.0  Санкт-Петербург     92785.714286   \n",
       "3            234.0            424.0  Санкт-Петербург    408176.100629   \n",
       "4             48.0            121.0  Санкт-Петербург    100000.000000   \n",
       "10           553.0            137.0  Санкт-Петербург    129487.179487   \n",
       "13           298.0            366.0         Петергоф     84523.809524   \n",
       "15           296.0             19.0  Санкт-Петербург    119230.769231   \n",
       "16             NaN            397.0  Санкт-Петербург     81707.317073   \n",
       "18             NaN            168.0  Санкт-Петербург    104838.709677   \n",
       "21             NaN            310.0  Санкт-Петербург    103225.806452   \n",
       "23           190.0            615.0  Санкт-Петербург     92187.500000   \n",
       "24           124.0            265.0  Санкт-Петербург     67010.309278   \n",
       "27           779.0            151.0  Санкт-Петербург    101428.571429   \n",
       "29           896.0            125.0  Санкт-Петербург     86000.000000   \n",
       "36             NaN            139.0  Санкт-Петербург     84222.222222   \n",
       "41           759.0            179.0  Санкт-Петербург    106756.756757   \n",
       "42           907.0            987.0         Петергоф    136645.962733   \n",
       "44          1152.0              NaN  Санкт-Петербург    133750.000000   \n",
       "49             NaN              NaN  Санкт-Петербург    101666.666667   \n",
       "50           330.0            152.0           Пушкин     93750.000000   \n",
       "52             NaN              NaN  Санкт-Петербург     86727.941176   \n",
       "56           439.0            152.0  Санкт-Петербург    106097.560976   \n",
       "61             NaN            609.0  Санкт-Петербург    107972.972973   \n",
       "63           779.0             37.0  Санкт-Петербург    169491.525424   \n",
       "70             NaN             14.0  Санкт-Петербург    113333.333333   \n",
       "71           333.0              NaN  Санкт-Петербург     85087.719298   \n",
       "72           118.0            141.0        Кронштадт     81818.181818   \n",
       "74           996.0            121.0          Колпино     69117.647059   \n",
       "77           854.0            186.0  Санкт-Петербург     69354.838710   \n",
       "93             NaN            239.0  Санкт-Петербург     87500.000000   \n",
       "95           881.0             34.0  Санкт-Петербург    109574.468085   \n",
       "98             NaN            831.0  Санкт-Петербург    146250.000000   \n",
       "106            NaN              6.0  Санкт-Петербург     84677.419355   \n",
       "107          405.0            122.0         Павловск    108910.891089   \n",
       "109            NaN           1048.0           Пушкин    120929.032258   \n",
       "111            NaN             31.0  Санкт-Петербург    114750.000000   \n",
       "114          286.0              NaN  Санкт-Петербург    190476.190476   \n",
       "117            NaN            390.0  Санкт-Петербург    101428.571429   \n",
       "119          556.0            330.0  Санкт-Петербург     92537.313433   \n",
       "120          221.0            360.0        Кронштадт     83333.333333   \n",
       "121            NaN            144.0  Санкт-Петербург    183333.333333   \n",
       "126          659.0              NaN           Пушкин     79411.764706   \n",
       "129            NaN             40.0  Санкт-Петербург    100000.000000   \n",
       "136          812.0            163.0  Санкт-Петербург    127450.980392   \n",
       "137          133.0            340.0  Санкт-Петербург    156597.647059   \n",
       "140          179.0            390.0           Пушкин    161066.666667   \n",
       "146          256.0             55.0       Сестрорецк     83018.867925   \n",
       "149          878.0             55.0  Санкт-Петербург    100000.000000   \n",
       "153            NaN             45.0         Петергоф     79090.909091   \n",
       "154          838.0             38.0  Санкт-Петербург    102500.000000   \n",
       "155          366.0             62.0  Санкт-Петербург    302839.116719   \n",
       "161            NaN             69.0  Санкт-Петербург    119047.619048   \n",
       "162            NaN              NaN  Санкт-Петербург     84848.484848   \n",
       "177          427.0            563.0  Санкт-Петербург    136636.480519   \n",
       "179            NaN              NaN  Санкт-Петербург    137037.037037   \n",
       "185          833.0            145.0  Санкт-Петербург    173469.387755   \n",
       "186            NaN             49.0  Санкт-Петербург    179076.923077   \n",
       "188            NaN              NaN  Санкт-Петербург    121052.631579   \n",
       "189            NaN             45.0  Санкт-Петербург     99193.548387   \n",
       "195          239.0            372.0  Санкт-Петербург     88333.333333   \n",
       "\n",
       "     weekday  month  year  floor_type  city_centers_nearest  \\\n",
       "0          3      3  2019      другой                  16.0   \n",
       "2          3      8  2015      другой                  14.0   \n",
       "3          4      7  2015      другой                   7.0   \n",
       "4          1      6  2018      другой                   8.0   \n",
       "10         3     11  2017      другой                  14.0   \n",
       "13         5      7  2017   последний                  33.0   \n",
       "15         5     11  2017      другой                  14.0   \n",
       "16         3     11  2017      первый                  11.0   \n",
       "18         4      1  2017      другой                  11.0   \n",
       "21         2      3  2018      другой                  10.0   \n",
       "23         5     10  2016   последний                  14.0   \n",
       "24         5     10  2015      первый                   2.0   \n",
       "27         4      5  2017      другой                  11.0   \n",
       "29         5      4  2016      другой                  12.0   \n",
       "36         2      1  2017   последний                  16.0   \n",
       "41         2      5  2016      другой                  13.0   \n",
       "42         2      7  2015      другой                  31.0   \n",
       "44         6     11  2018      другой                  12.0   \n",
       "49         3     11  2018      другой                  17.0   \n",
       "50         0     11  2017      другой                  30.0   \n",
       "52         4      9  2017   последний                   7.0   \n",
       "56         0      3  2016      другой                  10.0   \n",
       "61         3      8  2017   последний                   4.0   \n",
       "63         1      9  2018      другой                   5.0   \n",
       "70         2      9  2018      первый                   8.0   \n",
       "71         2      3  2019      другой                  12.0   \n",
       "72         6     12  2018      другой                  50.0   \n",
       "74         3      6  2018      другой                  33.0   \n",
       "77         6      3  2016      первый                  16.0   \n",
       "93         2      6  2016      другой                  12.0   \n",
       "95         0      8  2018   последний                  14.0   \n",
       "98         2     12  2014      другой                   9.0   \n",
       "106        3      5  2017      другой                   6.0   \n",
       "107        2      4  2016   последний                  33.0   \n",
       "109        1     12  2015   последний                  27.0   \n",
       "111        0      5  2017      первый                   6.0   \n",
       "114        3      2  2019      другой                   6.0   \n",
       "117        6      3  2018      другой                  10.0   \n",
       "119        2     10  2015      другой                  12.0   \n",
       "120        4     10  2017      первый                  51.0   \n",
       "121        4      2  2017      другой                   4.0   \n",
       "126        1      4  2019      первый                  33.0   \n",
       "129        3      2  2018      другой                  16.0   \n",
       "136        2      8  2018      другой                   4.0   \n",
       "137        0      1  2018      другой                   4.0   \n",
       "140        4     12  2016      первый                  27.0   \n",
       "146        5      3  2018   последний                  36.0   \n",
       "149        3      6  2018      другой                  12.0   \n",
       "153        6      5  2017      другой                  34.0   \n",
       "154        1     11  2018      другой                   3.0   \n",
       "155        4      7  2017   последний                   2.0   \n",
       "161        0      4  2016      другой                  13.0   \n",
       "162        2      7  2018   последний                  17.0   \n",
       "177        6      9  2017      другой                   8.0   \n",
       "179        3      4  2019   последний                   3.0   \n",
       "185        5     10  2018      другой                   9.0   \n",
       "186        1     10  2018   последний                  12.0   \n",
       "188        1      4  2019      другой                  17.0   \n",
       "189        4     10  2017      другой                  12.0   \n",
       "195        3      5  2016      другой                  17.0   \n",
       "\n",
       "     normal_ceiling_height  \n",
       "0                     2.70  \n",
       "2                     2.65  \n",
       "3                     2.65  \n",
       "4                     3.03  \n",
       "10                    2.67  \n",
       "13                    2.56  \n",
       "15                    2.65  \n",
       "16                    3.05  \n",
       "18                    2.50  \n",
       "21                    2.65  \n",
       "23                    2.60  \n",
       "24                    2.65  \n",
       "27                    2.60  \n",
       "29                    2.65  \n",
       "36                    2.65  \n",
       "41                    2.65  \n",
       "42                    2.80  \n",
       "44                    2.65  \n",
       "49                    2.50  \n",
       "50                    2.70  \n",
       "52                    3.00  \n",
       "56                    2.80  \n",
       "61                    2.65  \n",
       "63                    3.00  \n",
       "70                    2.65  \n",
       "71                    2.50  \n",
       "72                    2.70  \n",
       "74                    2.50  \n",
       "77                    2.55  \n",
       "93                    2.75  \n",
       "95                    2.75  \n",
       "98                    2.65  \n",
       "106                   3.20  \n",
       "107                   3.00  \n",
       "109                   2.65  \n",
       "111                   2.65  \n",
       "114                   2.90  \n",
       "117                   3.20  \n",
       "119                   2.65  \n",
       "120                   2.75  \n",
       "121                   2.90  \n",
       "126                   2.65  \n",
       "129                   2.50  \n",
       "136                   3.45  \n",
       "137                   2.70  \n",
       "140                   2.70  \n",
       "146                   2.55  \n",
       "149                   2.65  \n",
       "153                   2.57  \n",
       "154                   4.15  \n",
       "155                   3.50  \n",
       "161                   2.75  \n",
       "162                   2.50  \n",
       "177                   3.30  \n",
       "179                   4.00  \n",
       "185                   3.00  \n",
       "186                   2.65  \n",
       "188                   2.50  \n",
       "189                   2.65  \n",
       "195                   2.65  \n",
       "\n",
       "[60 rows x 29 columns]"
      ]
     },
     "execution_count": 221,
     "metadata": {},
     "output_type": "execute_result"
    }
   ],
   "source": [
    "#data.query('parks_nearest < 15000').head(60)"
   ]
  },
  {
   "cell_type": "code",
   "execution_count": null,
   "metadata": {},
   "outputs": [],
   "source": [
    "#data.columns"
   ]
  },
  {
   "cell_type": "markdown",
   "metadata": {},
   "source": [
    "# Тип этажа квартиры "
   ]
  },
  {
   "cell_type": "code",
   "execution_count": 137,
   "metadata": {},
   "outputs": [
    {
     "data": {
      "text/plain": [
       "<AxesSubplot:>"
      ]
     },
     "execution_count": 137,
     "metadata": {},
     "output_type": "execute_result"
    },
    {
     "data": {
      "image/png": "[encoded data removed]",
      "text/plain": [
       "<Figure size 432x288 with 1 Axes>"
      ]
     },
     "metadata": {
      "needs_background": "light"
     },
     "output_type": "display_data"
    }
   ],
   "source": [
    "data['parks_nearest'].hist(bins = 10, range = (1, 2000))"
   ]
  },
  {
   "cell_type": "code",
   "execution_count": 219,
   "metadata": {},
   "outputs": [],
   "source": [
    "#data.query('parks_nearest < 10')\n"
   ]
  },
  {
   "cell_type": "code",
   "execution_count": 138,
   "metadata": {},
   "outputs": [
    {
     "data": {
      "text/plain": [
       "<AxesSubplot:>"
      ]
     },
     "execution_count": 138,
     "metadata": {},
     "output_type": "execute_result"
    },
    {
     "data": {
      "image/png": "[encoded data removed]",
      "text/plain": [
       "<Figure size 432x288 with 1 Axes>"
      ]
     },
     "metadata": {
      "needs_background": "light"
     },
     "output_type": "display_data"
    }
   ],
   "source": [
    "data['ponds_nearest'].hist(bins = 10, range = (1, 2000))"
   ]
  },
  {
   "cell_type": "code",
   "execution_count": 139,
   "metadata": {},
   "outputs": [
    {
     "data": {
      "text/plain": [
       "<AxesSubplot:>"
      ]
     },
     "execution_count": 139,
     "metadata": {},
     "output_type": "execute_result"
    },
    {
     "data": {
      "image/png": "[encoded data removed]",
      "text/plain": [
       "<Figure size 432x288 with 1 Axes>"
      ]
     },
     "metadata": {
      "needs_background": "light"
     },
     "output_type": "display_data"
    }
   ],
   "source": [
    "data['airports_nearest'].hist(bins = 10, range = (1, 55000))"
   ]
  },
  {
   "cell_type": "code",
   "execution_count": 140,
   "metadata": {},
   "outputs": [
    {
     "data": {
      "text/html": [
       "<div>\n",
       "<style scoped>\n",
       "    .dataframe tbody tr th:only-of-type {\n",
       "        vertical-align: middle;\n",
       "    }\n",
       "\n",
       "    .dataframe tbody tr th {\n",
       "        vertical-align: top;\n",
       "    }\n",
       "\n",
       "    .dataframe thead th {\n",
       "        text-align: right;\n",
       "    }\n",
       "</style>\n",
       "<table border=\"1\" class=\"dataframe\">\n",
       "  <thead>\n",
       "    <tr style=\"text-align: right;\">\n",
       "      <th></th>\n",
       "      <th>total_images</th>\n",
       "      <th>last_price</th>\n",
       "      <th>total_area</th>\n",
       "      <th>first_day_exposition</th>\n",
       "      <th>rooms</th>\n",
       "      <th>ceiling_height</th>\n",
       "      <th>floors_total</th>\n",
       "      <th>living_area</th>\n",
       "      <th>floor</th>\n",
       "      <th>is_apartment</th>\n",
       "      <th>...</th>\n",
       "      <th>ponds_nearest</th>\n",
       "      <th>days_exposition</th>\n",
       "      <th>locality_name</th>\n",
       "      <th>price_sqr_meter</th>\n",
       "      <th>weekday</th>\n",
       "      <th>month</th>\n",
       "      <th>year</th>\n",
       "      <th>floor_type</th>\n",
       "      <th>city_centers_nearest</th>\n",
       "      <th>normal_ceiling_height</th>\n",
       "    </tr>\n",
       "  </thead>\n",
       "  <tbody>\n",
       "    <tr>\n",
       "      <th>6</th>\n",
       "      <td>6</td>\n",
       "      <td>3700000</td>\n",
       "      <td>37.3</td>\n",
       "      <td>2017-11-02</td>\n",
       "      <td>1</td>\n",
       "      <td>2.65</td>\n",
       "      <td>26</td>\n",
       "      <td>10.6</td>\n",
       "      <td>6</td>\n",
       "      <td>False</td>\n",
       "      <td>...</td>\n",
       "      <td>NaN</td>\n",
       "      <td>155.0</td>\n",
       "      <td>Парголово</td>\n",
       "      <td>100000.000000</td>\n",
       "      <td>3</td>\n",
       "      <td>11</td>\n",
       "      <td>2017</td>\n",
       "      <td>другой</td>\n",
       "      <td>19.0</td>\n",
       "      <td>2.65</td>\n",
       "    </tr>\n",
       "    <tr>\n",
       "      <th>9</th>\n",
       "      <td>18</td>\n",
       "      <td>5400000</td>\n",
       "      <td>61.0</td>\n",
       "      <td>2017-02-26</td>\n",
       "      <td>3</td>\n",
       "      <td>2.50</td>\n",
       "      <td>9</td>\n",
       "      <td>43.6</td>\n",
       "      <td>7</td>\n",
       "      <td>False</td>\n",
       "      <td>...</td>\n",
       "      <td>NaN</td>\n",
       "      <td>289.0</td>\n",
       "      <td>Санкт-Петербург</td>\n",
       "      <td>88524.590164</td>\n",
       "      <td>6</td>\n",
       "      <td>2</td>\n",
       "      <td>2017</td>\n",
       "      <td>другой</td>\n",
       "      <td>15.0</td>\n",
       "      <td>2.50</td>\n",
       "    </tr>\n",
       "    <tr>\n",
       "      <th>11</th>\n",
       "      <td>9</td>\n",
       "      <td>3300000</td>\n",
       "      <td>44.0</td>\n",
       "      <td>2018-08-27</td>\n",
       "      <td>2</td>\n",
       "      <td>2.65</td>\n",
       "      <td>5</td>\n",
       "      <td>31.0</td>\n",
       "      <td>4</td>\n",
       "      <td>False</td>\n",
       "      <td>...</td>\n",
       "      <td>NaN</td>\n",
       "      <td>7.0</td>\n",
       "      <td>Ломоносов</td>\n",
       "      <td>75000.000000</td>\n",
       "      <td>0</td>\n",
       "      <td>8</td>\n",
       "      <td>2018</td>\n",
       "      <td>другой</td>\n",
       "      <td>52.0</td>\n",
       "      <td>2.65</td>\n",
       "    </tr>\n",
       "    <tr>\n",
       "      <th>18</th>\n",
       "      <td>8</td>\n",
       "      <td>3250000</td>\n",
       "      <td>31.0</td>\n",
       "      <td>2017-01-27</td>\n",
       "      <td>1</td>\n",
       "      <td>2.50</td>\n",
       "      <td>5</td>\n",
       "      <td>19.4</td>\n",
       "      <td>2</td>\n",
       "      <td>False</td>\n",
       "      <td>...</td>\n",
       "      <td>NaN</td>\n",
       "      <td>168.0</td>\n",
       "      <td>Санкт-Петербург</td>\n",
       "      <td>104838.709677</td>\n",
       "      <td>4</td>\n",
       "      <td>1</td>\n",
       "      <td>2017</td>\n",
       "      <td>другой</td>\n",
       "      <td>11.0</td>\n",
       "      <td>2.50</td>\n",
       "    </tr>\n",
       "    <tr>\n",
       "      <th>20</th>\n",
       "      <td>12</td>\n",
       "      <td>6120000</td>\n",
       "      <td>80.0</td>\n",
       "      <td>2017-09-28</td>\n",
       "      <td>3</td>\n",
       "      <td>2.70</td>\n",
       "      <td>27</td>\n",
       "      <td>48.0</td>\n",
       "      <td>11</td>\n",
       "      <td>False</td>\n",
       "      <td>...</td>\n",
       "      <td>NaN</td>\n",
       "      <td>74.0</td>\n",
       "      <td>Парголово</td>\n",
       "      <td>76500.000000</td>\n",
       "      <td>3</td>\n",
       "      <td>9</td>\n",
       "      <td>2017</td>\n",
       "      <td>другой</td>\n",
       "      <td>19.0</td>\n",
       "      <td>2.70</td>\n",
       "    </tr>\n",
       "    <tr>\n",
       "      <th>...</th>\n",
       "      <td>...</td>\n",
       "      <td>...</td>\n",
       "      <td>...</td>\n",
       "      <td>...</td>\n",
       "      <td>...</td>\n",
       "      <td>...</td>\n",
       "      <td>...</td>\n",
       "      <td>...</td>\n",
       "      <td>...</td>\n",
       "      <td>...</td>\n",
       "      <td>...</td>\n",
       "      <td>...</td>\n",
       "      <td>...</td>\n",
       "      <td>...</td>\n",
       "      <td>...</td>\n",
       "      <td>...</td>\n",
       "      <td>...</td>\n",
       "      <td>...</td>\n",
       "      <td>...</td>\n",
       "      <td>...</td>\n",
       "      <td>...</td>\n",
       "    </tr>\n",
       "    <tr>\n",
       "      <th>23667</th>\n",
       "      <td>14</td>\n",
       "      <td>9990000</td>\n",
       "      <td>90.0</td>\n",
       "      <td>2017-01-23</td>\n",
       "      <td>3</td>\n",
       "      <td>3.06</td>\n",
       "      <td>17</td>\n",
       "      <td>55.0</td>\n",
       "      <td>9</td>\n",
       "      <td>False</td>\n",
       "      <td>...</td>\n",
       "      <td>545.0</td>\n",
       "      <td>86.0</td>\n",
       "      <td>Сестрорецк</td>\n",
       "      <td>111000.000000</td>\n",
       "      <td>0</td>\n",
       "      <td>1</td>\n",
       "      <td>2017</td>\n",
       "      <td>другой</td>\n",
       "      <td>33.0</td>\n",
       "      <td>3.06</td>\n",
       "    </tr>\n",
       "    <tr>\n",
       "      <th>23672</th>\n",
       "      <td>5</td>\n",
       "      <td>3000000</td>\n",
       "      <td>30.8</td>\n",
       "      <td>2016-06-08</td>\n",
       "      <td>1</td>\n",
       "      <td>2.65</td>\n",
       "      <td>5</td>\n",
       "      <td>16.1</td>\n",
       "      <td>3</td>\n",
       "      <td>False</td>\n",
       "      <td>...</td>\n",
       "      <td>NaN</td>\n",
       "      <td>808.0</td>\n",
       "      <td>Санкт-Петербург</td>\n",
       "      <td>100000.000000</td>\n",
       "      <td>2</td>\n",
       "      <td>6</td>\n",
       "      <td>2016</td>\n",
       "      <td>другой</td>\n",
       "      <td>14.0</td>\n",
       "      <td>2.65</td>\n",
       "    </tr>\n",
       "    <tr>\n",
       "      <th>23685</th>\n",
       "      <td>15</td>\n",
       "      <td>2490000</td>\n",
       "      <td>31.0</td>\n",
       "      <td>2019-01-24</td>\n",
       "      <td>1</td>\n",
       "      <td>2.50</td>\n",
       "      <td>5</td>\n",
       "      <td>17.3</td>\n",
       "      <td>5</td>\n",
       "      <td>False</td>\n",
       "      <td>...</td>\n",
       "      <td>NaN</td>\n",
       "      <td>NaN</td>\n",
       "      <td>Ломоносов</td>\n",
       "      <td>80322.580645</td>\n",
       "      <td>3</td>\n",
       "      <td>1</td>\n",
       "      <td>2019</td>\n",
       "      <td>последний</td>\n",
       "      <td>52.0</td>\n",
       "      <td>2.50</td>\n",
       "    </tr>\n",
       "    <tr>\n",
       "      <th>23687</th>\n",
       "      <td>6</td>\n",
       "      <td>3200000</td>\n",
       "      <td>39.0</td>\n",
       "      <td>2017-12-16</td>\n",
       "      <td>1</td>\n",
       "      <td>2.65</td>\n",
       "      <td>9</td>\n",
       "      <td>20.0</td>\n",
       "      <td>6</td>\n",
       "      <td>False</td>\n",
       "      <td>...</td>\n",
       "      <td>NaN</td>\n",
       "      <td>38.0</td>\n",
       "      <td>Санкт-Петербург</td>\n",
       "      <td>82051.282051</td>\n",
       "      <td>5</td>\n",
       "      <td>12</td>\n",
       "      <td>2017</td>\n",
       "      <td>другой</td>\n",
       "      <td>17.0</td>\n",
       "      <td>2.65</td>\n",
       "    </tr>\n",
       "    <tr>\n",
       "      <th>23693</th>\n",
       "      <td>9</td>\n",
       "      <td>4600000</td>\n",
       "      <td>62.4</td>\n",
       "      <td>2016-08-05</td>\n",
       "      <td>3</td>\n",
       "      <td>2.60</td>\n",
       "      <td>9</td>\n",
       "      <td>40.0</td>\n",
       "      <td>8</td>\n",
       "      <td>False</td>\n",
       "      <td>...</td>\n",
       "      <td>675.0</td>\n",
       "      <td>239.0</td>\n",
       "      <td>Петергоф</td>\n",
       "      <td>74193.548387</td>\n",
       "      <td>4</td>\n",
       "      <td>8</td>\n",
       "      <td>2016</td>\n",
       "      <td>другой</td>\n",
       "      <td>34.0</td>\n",
       "      <td>2.60</td>\n",
       "    </tr>\n",
       "  </tbody>\n",
       "</table>\n",
       "<p>3575 rows × 29 columns</p>\n",
       "</div>"
      ],
      "text/plain": [
       "       total_images  last_price  total_area first_day_exposition  rooms  \\\n",
       "6                 6     3700000        37.3           2017-11-02      1   \n",
       "9                18     5400000        61.0           2017-02-26      3   \n",
       "11                9     3300000        44.0           2018-08-27      2   \n",
       "18                8     3250000        31.0           2017-01-27      1   \n",
       "20               12     6120000        80.0           2017-09-28      3   \n",
       "...             ...         ...         ...                  ...    ...   \n",
       "23667            14     9990000        90.0           2017-01-23      3   \n",
       "23672             5     3000000        30.8           2016-06-08      1   \n",
       "23685            15     2490000        31.0           2019-01-24      1   \n",
       "23687             6     3200000        39.0           2017-12-16      1   \n",
       "23693             9     4600000        62.4           2016-08-05      3   \n",
       "\n",
       "       ceiling_height  floors_total  living_area  floor is_apartment  ...  \\\n",
       "6                2.65            26         10.6      6        False  ...   \n",
       "9                2.50             9         43.6      7        False  ...   \n",
       "11               2.65             5         31.0      4        False  ...   \n",
       "18               2.50             5         19.4      2        False  ...   \n",
       "20               2.70            27         48.0     11        False  ...   \n",
       "...               ...           ...          ...    ...          ...  ...   \n",
       "23667            3.06            17         55.0      9        False  ...   \n",
       "23672            2.65             5         16.1      3        False  ...   \n",
       "23685            2.50             5         17.3      5        False  ...   \n",
       "23687            2.65             9         20.0      6        False  ...   \n",
       "23693            2.60             9         40.0      8        False  ...   \n",
       "\n",
       "       ponds_nearest  days_exposition    locality_name  price_sqr_meter  \\\n",
       "6                NaN            155.0        Парголово    100000.000000   \n",
       "9                NaN            289.0  Санкт-Петербург     88524.590164   \n",
       "11               NaN              7.0        Ломоносов     75000.000000   \n",
       "18               NaN            168.0  Санкт-Петербург    104838.709677   \n",
       "20               NaN             74.0        Парголово     76500.000000   \n",
       "...              ...              ...              ...              ...   \n",
       "23667          545.0             86.0       Сестрорецк    111000.000000   \n",
       "23672            NaN            808.0  Санкт-Петербург    100000.000000   \n",
       "23685            NaN              NaN        Ломоносов     80322.580645   \n",
       "23687            NaN             38.0  Санкт-Петербург     82051.282051   \n",
       "23693          675.0            239.0         Петергоф     74193.548387   \n",
       "\n",
       "       weekday  month  year  floor_type  city_centers_nearest  \\\n",
       "6            3     11  2017      другой                  19.0   \n",
       "9            6      2  2017      другой                  15.0   \n",
       "11           0      8  2018      другой                  52.0   \n",
       "18           4      1  2017      другой                  11.0   \n",
       "20           3      9  2017      другой                  19.0   \n",
       "...        ...    ...   ...         ...                   ...   \n",
       "23667        0      1  2017      другой                  33.0   \n",
       "23672        2      6  2016      другой                  14.0   \n",
       "23685        3      1  2019   последний                  52.0   \n",
       "23687        5     12  2017      другой                  17.0   \n",
       "23693        4      8  2016      другой                  34.0   \n",
       "\n",
       "       normal_ceiling_height  \n",
       "6                       2.65  \n",
       "9                       2.50  \n",
       "11                      2.65  \n",
       "18                      2.50  \n",
       "20                      2.70  \n",
       "...                      ...  \n",
       "23667                   3.06  \n",
       "23672                   2.65  \n",
       "23685                   2.50  \n",
       "23687                   2.65  \n",
       "23693                   2.60  \n",
       "\n",
       "[3575 rows x 29 columns]"
      ]
     },
     "execution_count": 140,
     "metadata": {},
     "output_type": "execute_result"
    }
   ],
   "source": [
    "#data.query('10000<airports_nearest<20000')\n",
    "data.query('airports_nearest>40000')"
   ]
  },
  {
   "cell_type": "markdown",
   "metadata": {},
   "source": [
    "# Время продажи квартиры"
   ]
  },
  {
   "cell_type": "code",
   "execution_count": 141,
   "metadata": {},
   "outputs": [
    {
     "name": "stdout",
     "output_type": "stream",
     "text": [
      "медиана: 95.0\n",
      "среднее: 180.88863436982163\n"
     ]
    }
   ],
   "source": [
    "days_exposition_filtered = data.query('days_exposition != 0')['days_exposition']\n",
    "days_exposition_median = days_exposition_filtered.median()\n",
    "days_exposition_mean = days_exposition_filtered.mean()\n",
    "\n",
    "print ('медиана:',days_exposition_median)\n",
    "print ('среднее:', days_exposition_mean)\n"
   ]
  },
  {
   "cell_type": "code",
   "execution_count": 142,
   "metadata": {},
   "outputs": [
    {
     "data": {
      "text/plain": [
       "count    20518.000000\n",
       "mean       180.888634\n",
       "std        219.727988\n",
       "min          1.000000\n",
       "25%         45.000000\n",
       "50%         95.000000\n",
       "75%        232.000000\n",
       "max       1580.000000\n",
       "Name: days_exposition, dtype: float64"
      ]
     },
     "execution_count": 142,
     "metadata": {},
     "output_type": "execute_result"
    }
   ],
   "source": [
    "days_exposition_filtered.describe()"
   ]
  },
  {
   "cell_type": "code",
   "execution_count": 143,
   "metadata": {},
   "outputs": [
    {
     "data": {
      "text/plain": [
       "<AxesSubplot:>"
      ]
     },
     "execution_count": 143,
     "metadata": {},
     "output_type": "execute_result"
    },
    {
     "data": {
      "image/png": "[encoded data removed]",
      "text/plain": [
       "<Figure size 432x288 with 1 Axes>"
      ]
     },
     "metadata": {
      "needs_background": "light"
     },
     "output_type": "display_data"
    }
   ],
   "source": [
    "days_exposition_filtered.hist(bins=50, range=(0,365))"
   ]
  },
  {
   "cell_type": "markdown",
   "metadata": {},
   "source": [
    "# Анализ факторов которые влияют на общую (полную) стоимость объекта"
   ]
  },
  {
   "cell_type": "code",
   "execution_count": 144,
   "metadata": {},
   "outputs": [],
   "source": [
    "import seaborn as sns \n",
    "#sns.boxplot(data = data, y='last_price', x='total_area')\n"
   ]
  },
  {
   "cell_type": "code",
   "execution_count": 145,
   "metadata": {},
   "outputs": [
    {
     "data": {
      "text/plain": [
       "<AxesSubplot:xlabel='floor_type', ylabel='last_price'>"
      ]
     },
     "execution_count": 145,
     "metadata": {},
     "output_type": "execute_result"
    },
    {
     "data": {
      "image/png": "[encoded data removed]",
      "text/plain": [
       "<Figure size 432x288 with 1 Axes>"
      ]
     },
     "metadata": {
      "needs_background": "light"
     },
     "output_type": "display_data"
    }
   ],
   "source": [
    "sns.boxplot(data = data, y='last_price', x='floor_type')"
   ]
  },
  {
   "cell_type": "code",
   "execution_count": 146,
   "metadata": {},
   "outputs": [
    {
     "data": {
      "text/plain": [
       "0.6536750579657242"
      ]
     },
     "execution_count": 146,
     "metadata": {},
     "output_type": "execute_result"
    }
   ],
   "source": [
    "data['last_price'].corr(data['total_area'])"
   ]
  },
  {
   "cell_type": "code",
   "execution_count": 147,
   "metadata": {},
   "outputs": [
    {
     "data": {
      "image/png": "[encoded data removed]",
      "text/plain": [
       "<Figure size 360x360 with 1 Axes>"
      ]
     },
     "metadata": {
      "needs_background": "light"
     },
     "output_type": "display_data"
    },
    {
     "name": "stdout",
     "output_type": "stream",
     "text": [
      "Корреляция цены и общей площади:\n",
      "            last_price  total_area\n",
      "last_price    1.000000    0.738972\n",
      "total_area    0.738972    1.000000\n"
     ]
    }
   ],
   "source": [
    "from matplotlib import pyplot as plt\n",
    "\n",
    "# Зависимость цены от площади\n",
    "data.pivot_table(index='total_area', values='last_price').plot(grid=True, style='o', figsize=(5, 5))\n",
    "plt.show()\n",
    "print('Корреляция цены и общей площади:')\n",
    "print(data.pivot_table(index='floor', values=['total_area', 'last_price']).corr())"
   ]
  },
  {
   "cell_type": "code",
   "execution_count": 148,
   "metadata": {},
   "outputs": [],
   "source": [
    "data_test = data[data['total_area']<250]"
   ]
  },
  {
   "cell_type": "code",
   "execution_count": 149,
   "metadata": {},
   "outputs": [
    {
     "data": {
      "image/png": "[encoded data removed]",
      "text/plain": [
       "<Figure size 360x360 with 1 Axes>"
      ]
     },
     "metadata": {
      "needs_background": "light"
     },
     "output_type": "display_data"
    },
    {
     "name": "stdout",
     "output_type": "stream",
     "text": [
      "Корреляция цены и жилой площади:\n",
      "             last_price  living_area\n",
      "last_price     1.000000     0.626465\n",
      "living_area    0.626465     1.000000\n"
     ]
    }
   ],
   "source": [
    "data.pivot_table(index='living_area', values='last_price').plot(grid=True, style='o', figsize=(5, 5))\n",
    "plt.show()\n",
    "print('Корреляция цены и жилой площади:')\n",
    "print(data.pivot_table(index='floor', values=['living_area', 'last_price']).corr())"
   ]
  },
  {
   "cell_type": "code",
   "execution_count": 150,
   "metadata": {},
   "outputs": [
    {
     "data": {
      "image/png": "[encoded data removed]",
      "text/plain": [
       "<Figure size 360x360 with 1 Axes>"
      ]
     },
     "metadata": {
      "needs_background": "light"
     },
     "output_type": "display_data"
    },
    {
     "name": "stdout",
     "output_type": "stream",
     "text": [
      "Корреляция цены и площади кухни:\n",
      "              kitchen_area  last_price\n",
      "kitchen_area       1.00000     0.30777\n",
      "last_price         0.30777     1.00000\n"
     ]
    }
   ],
   "source": [
    "data.pivot_table(index='kitchen_area', values='last_price').plot(grid=True, style='o', figsize=(5, 5))\n",
    "plt.show()\n",
    "print('Корреляция цены и площади кухни:')\n",
    "print(data.pivot_table(index='floor', values=['kitchen_area', 'last_price']).corr())"
   ]
  },
  {
   "cell_type": "code",
   "execution_count": 151,
   "metadata": {},
   "outputs": [
    {
     "data": {
      "image/png": "[encoded data removed]",
      "text/plain": [
       "<Figure size 360x360 with 1 Axes>"
      ]
     },
     "metadata": {
      "needs_background": "light"
     },
     "output_type": "display_data"
    },
    {
     "name": "stdout",
     "output_type": "stream",
     "text": [
      "Корреляция цены и числа комнат:\n",
      "            last_price     rooms\n",
      "last_price    1.000000  0.442449\n",
      "rooms         0.442449  1.000000\n"
     ]
    },
    {
     "data": {
      "text/plain": [
       "<AxesSubplot:xlabel='floor'>"
      ]
     },
     "execution_count": 151,
     "metadata": {},
     "output_type": "execute_result"
    },
    {
     "data": {
      "image/png": "[encoded data removed]",
      "text/plain": [
       "<Figure size 432x288 with 1 Axes>"
      ]
     },
     "metadata": {
      "needs_background": "light"
     },
     "output_type": "display_data"
    }
   ],
   "source": [
    "data.pivot_table(index='rooms', values='last_price').plot(grid=True, style='o-', figsize=(5, 5))\n",
    "plt.show()\n",
    "print('Корреляция цены и числа комнат:')\n",
    "print(data.pivot_table(index='floor', values=['rooms', 'last_price']).corr())\n",
    "data.pivot_table(index='floor', values=['last_price'], aggfunc=['median','mean']).plot(grid=True)"
   ]
  },
  {
   "cell_type": "code",
   "execution_count": 152,
   "metadata": {},
   "outputs": [
    {
     "data": {
      "text/plain": [
       "<AxesSubplot:xlabel='floor_type'>"
      ]
     },
     "execution_count": 152,
     "metadata": {},
     "output_type": "execute_result"
    },
    {
     "data": {
      "image/png": "[encoded data removed]",
      "text/plain": [
       "<Figure size 432x288 with 1 Axes>"
      ]
     },
     "metadata": {
      "needs_background": "light"
     },
     "output_type": "display_data"
    }
   ],
   "source": [
    "data.pivot_table(index='floor_type', values=['last_price'], aggfunc=['median','mean']).plot(grid=True)"
   ]
  },
  {
   "cell_type": "code",
   "execution_count": 153,
   "metadata": {},
   "outputs": [
    {
     "data": {
      "text/html": [
       "<div>\n",
       "<style scoped>\n",
       "    .dataframe tbody tr th:only-of-type {\n",
       "        vertical-align: middle;\n",
       "    }\n",
       "\n",
       "    .dataframe tbody tr th {\n",
       "        vertical-align: top;\n",
       "    }\n",
       "\n",
       "    .dataframe thead th {\n",
       "        text-align: right;\n",
       "    }\n",
       "</style>\n",
       "<table border=\"1\" class=\"dataframe\">\n",
       "  <thead>\n",
       "    <tr style=\"text-align: right;\">\n",
       "      <th></th>\n",
       "      <th>total_images</th>\n",
       "      <th>last_price</th>\n",
       "      <th>total_area</th>\n",
       "      <th>first_day_exposition</th>\n",
       "      <th>rooms</th>\n",
       "      <th>ceiling_height</th>\n",
       "      <th>floors_total</th>\n",
       "      <th>living_area</th>\n",
       "      <th>floor</th>\n",
       "      <th>is_apartment</th>\n",
       "      <th>...</th>\n",
       "      <th>ponds_nearest</th>\n",
       "      <th>days_exposition</th>\n",
       "      <th>locality_name</th>\n",
       "      <th>price_sqr_meter</th>\n",
       "      <th>weekday</th>\n",
       "      <th>month</th>\n",
       "      <th>year</th>\n",
       "      <th>floor_type</th>\n",
       "      <th>city_centers_nearest</th>\n",
       "      <th>normal_ceiling_height</th>\n",
       "    </tr>\n",
       "  </thead>\n",
       "  <tbody>\n",
       "    <tr>\n",
       "      <th>0</th>\n",
       "      <td>20</td>\n",
       "      <td>13000000</td>\n",
       "      <td>108.00</td>\n",
       "      <td>2019-03-07</td>\n",
       "      <td>3</td>\n",
       "      <td>2.70</td>\n",
       "      <td>16</td>\n",
       "      <td>51.000000</td>\n",
       "      <td>8</td>\n",
       "      <td>False</td>\n",
       "      <td>...</td>\n",
       "      <td>755.0</td>\n",
       "      <td>NaN</td>\n",
       "      <td>Санкт-Петербург</td>\n",
       "      <td>120370.370370</td>\n",
       "      <td>3</td>\n",
       "      <td>3</td>\n",
       "      <td>2019</td>\n",
       "      <td>другой</td>\n",
       "      <td>16.0</td>\n",
       "      <td>2.70</td>\n",
       "    </tr>\n",
       "    <tr>\n",
       "      <th>1</th>\n",
       "      <td>7</td>\n",
       "      <td>3350000</td>\n",
       "      <td>40.40</td>\n",
       "      <td>2018-12-04</td>\n",
       "      <td>1</td>\n",
       "      <td>2.65</td>\n",
       "      <td>11</td>\n",
       "      <td>18.600000</td>\n",
       "      <td>1</td>\n",
       "      <td>False</td>\n",
       "      <td>...</td>\n",
       "      <td>NaN</td>\n",
       "      <td>81.0</td>\n",
       "      <td>Шушары</td>\n",
       "      <td>83750.000000</td>\n",
       "      <td>1</td>\n",
       "      <td>12</td>\n",
       "      <td>2018</td>\n",
       "      <td>первый</td>\n",
       "      <td>19.0</td>\n",
       "      <td>2.65</td>\n",
       "    </tr>\n",
       "    <tr>\n",
       "      <th>2</th>\n",
       "      <td>10</td>\n",
       "      <td>5196000</td>\n",
       "      <td>56.00</td>\n",
       "      <td>2015-08-20</td>\n",
       "      <td>2</td>\n",
       "      <td>2.65</td>\n",
       "      <td>5</td>\n",
       "      <td>34.300000</td>\n",
       "      <td>4</td>\n",
       "      <td>False</td>\n",
       "      <td>...</td>\n",
       "      <td>574.0</td>\n",
       "      <td>558.0</td>\n",
       "      <td>Санкт-Петербург</td>\n",
       "      <td>92785.714286</td>\n",
       "      <td>3</td>\n",
       "      <td>8</td>\n",
       "      <td>2015</td>\n",
       "      <td>другой</td>\n",
       "      <td>14.0</td>\n",
       "      <td>2.65</td>\n",
       "    </tr>\n",
       "    <tr>\n",
       "      <th>3</th>\n",
       "      <td>0</td>\n",
       "      <td>64900000</td>\n",
       "      <td>159.00</td>\n",
       "      <td>2015-07-24</td>\n",
       "      <td>3</td>\n",
       "      <td>2.65</td>\n",
       "      <td>14</td>\n",
       "      <td>90.785766</td>\n",
       "      <td>9</td>\n",
       "      <td>False</td>\n",
       "      <td>...</td>\n",
       "      <td>234.0</td>\n",
       "      <td>424.0</td>\n",
       "      <td>Санкт-Петербург</td>\n",
       "      <td>408176.100629</td>\n",
       "      <td>4</td>\n",
       "      <td>7</td>\n",
       "      <td>2015</td>\n",
       "      <td>другой</td>\n",
       "      <td>7.0</td>\n",
       "      <td>2.65</td>\n",
       "    </tr>\n",
       "    <tr>\n",
       "      <th>4</th>\n",
       "      <td>2</td>\n",
       "      <td>10000000</td>\n",
       "      <td>100.00</td>\n",
       "      <td>2018-06-19</td>\n",
       "      <td>2</td>\n",
       "      <td>3.03</td>\n",
       "      <td>14</td>\n",
       "      <td>32.000000</td>\n",
       "      <td>13</td>\n",
       "      <td>False</td>\n",
       "      <td>...</td>\n",
       "      <td>48.0</td>\n",
       "      <td>121.0</td>\n",
       "      <td>Санкт-Петербург</td>\n",
       "      <td>100000.000000</td>\n",
       "      <td>1</td>\n",
       "      <td>6</td>\n",
       "      <td>2018</td>\n",
       "      <td>другой</td>\n",
       "      <td>8.0</td>\n",
       "      <td>3.03</td>\n",
       "    </tr>\n",
       "    <tr>\n",
       "      <th>...</th>\n",
       "      <td>...</td>\n",
       "      <td>...</td>\n",
       "      <td>...</td>\n",
       "      <td>...</td>\n",
       "      <td>...</td>\n",
       "      <td>...</td>\n",
       "      <td>...</td>\n",
       "      <td>...</td>\n",
       "      <td>...</td>\n",
       "      <td>...</td>\n",
       "      <td>...</td>\n",
       "      <td>...</td>\n",
       "      <td>...</td>\n",
       "      <td>...</td>\n",
       "      <td>...</td>\n",
       "      <td>...</td>\n",
       "      <td>...</td>\n",
       "      <td>...</td>\n",
       "      <td>...</td>\n",
       "      <td>...</td>\n",
       "      <td>...</td>\n",
       "    </tr>\n",
       "    <tr>\n",
       "      <th>23694</th>\n",
       "      <td>9</td>\n",
       "      <td>9700000</td>\n",
       "      <td>133.81</td>\n",
       "      <td>2017-03-21</td>\n",
       "      <td>3</td>\n",
       "      <td>3.70</td>\n",
       "      <td>5</td>\n",
       "      <td>73.300000</td>\n",
       "      <td>3</td>\n",
       "      <td>False</td>\n",
       "      <td>...</td>\n",
       "      <td>381.0</td>\n",
       "      <td>NaN</td>\n",
       "      <td>Санкт-Петербург</td>\n",
       "      <td>72932.330827</td>\n",
       "      <td>1</td>\n",
       "      <td>3</td>\n",
       "      <td>2017</td>\n",
       "      <td>другой</td>\n",
       "      <td>4.0</td>\n",
       "      <td>3.70</td>\n",
       "    </tr>\n",
       "    <tr>\n",
       "      <th>23695</th>\n",
       "      <td>14</td>\n",
       "      <td>3100000</td>\n",
       "      <td>59.00</td>\n",
       "      <td>2018-01-15</td>\n",
       "      <td>3</td>\n",
       "      <td>2.65</td>\n",
       "      <td>5</td>\n",
       "      <td>38.000000</td>\n",
       "      <td>4</td>\n",
       "      <td>False</td>\n",
       "      <td>...</td>\n",
       "      <td>NaN</td>\n",
       "      <td>45.0</td>\n",
       "      <td>Тосно</td>\n",
       "      <td>52542.372881</td>\n",
       "      <td>0</td>\n",
       "      <td>1</td>\n",
       "      <td>2018</td>\n",
       "      <td>другой</td>\n",
       "      <td>0.0</td>\n",
       "      <td>2.65</td>\n",
       "    </tr>\n",
       "    <tr>\n",
       "      <th>23696</th>\n",
       "      <td>18</td>\n",
       "      <td>2500000</td>\n",
       "      <td>56.70</td>\n",
       "      <td>2018-02-11</td>\n",
       "      <td>2</td>\n",
       "      <td>2.65</td>\n",
       "      <td>3</td>\n",
       "      <td>29.700000</td>\n",
       "      <td>1</td>\n",
       "      <td>False</td>\n",
       "      <td>...</td>\n",
       "      <td>NaN</td>\n",
       "      <td>NaN</td>\n",
       "      <td>Рождествено</td>\n",
       "      <td>44642.857143</td>\n",
       "      <td>6</td>\n",
       "      <td>2</td>\n",
       "      <td>2018</td>\n",
       "      <td>первый</td>\n",
       "      <td>0.0</td>\n",
       "      <td>2.65</td>\n",
       "    </tr>\n",
       "    <tr>\n",
       "      <th>23697</th>\n",
       "      <td>13</td>\n",
       "      <td>11475000</td>\n",
       "      <td>76.75</td>\n",
       "      <td>2017-03-28</td>\n",
       "      <td>2</td>\n",
       "      <td>3.00</td>\n",
       "      <td>17</td>\n",
       "      <td>43.822689</td>\n",
       "      <td>12</td>\n",
       "      <td>False</td>\n",
       "      <td>...</td>\n",
       "      <td>196.0</td>\n",
       "      <td>602.0</td>\n",
       "      <td>Санкт-Петербург</td>\n",
       "      <td>150986.842105</td>\n",
       "      <td>1</td>\n",
       "      <td>3</td>\n",
       "      <td>2017</td>\n",
       "      <td>другой</td>\n",
       "      <td>10.0</td>\n",
       "      <td>3.00</td>\n",
       "    </tr>\n",
       "    <tr>\n",
       "      <th>23698</th>\n",
       "      <td>4</td>\n",
       "      <td>1350000</td>\n",
       "      <td>32.30</td>\n",
       "      <td>2017-07-21</td>\n",
       "      <td>1</td>\n",
       "      <td>2.50</td>\n",
       "      <td>5</td>\n",
       "      <td>12.300000</td>\n",
       "      <td>1</td>\n",
       "      <td>False</td>\n",
       "      <td>...</td>\n",
       "      <td>NaN</td>\n",
       "      <td>NaN</td>\n",
       "      <td>Учхоз</td>\n",
       "      <td>42187.500000</td>\n",
       "      <td>4</td>\n",
       "      <td>7</td>\n",
       "      <td>2017</td>\n",
       "      <td>первый</td>\n",
       "      <td>0.0</td>\n",
       "      <td>2.50</td>\n",
       "    </tr>\n",
       "  </tbody>\n",
       "</table>\n",
       "<p>23699 rows × 29 columns</p>\n",
       "</div>"
      ],
      "text/plain": [
       "       total_images  last_price  total_area first_day_exposition  rooms  \\\n",
       "0                20    13000000      108.00           2019-03-07      3   \n",
       "1                 7     3350000       40.40           2018-12-04      1   \n",
       "2                10     5196000       56.00           2015-08-20      2   \n",
       "3                 0    64900000      159.00           2015-07-24      3   \n",
       "4                 2    10000000      100.00           2018-06-19      2   \n",
       "...             ...         ...         ...                  ...    ...   \n",
       "23694             9     9700000      133.81           2017-03-21      3   \n",
       "23695            14     3100000       59.00           2018-01-15      3   \n",
       "23696            18     2500000       56.70           2018-02-11      2   \n",
       "23697            13    11475000       76.75           2017-03-28      2   \n",
       "23698             4     1350000       32.30           2017-07-21      1   \n",
       "\n",
       "       ceiling_height  floors_total  living_area  floor is_apartment  ...  \\\n",
       "0                2.70            16    51.000000      8        False  ...   \n",
       "1                2.65            11    18.600000      1        False  ...   \n",
       "2                2.65             5    34.300000      4        False  ...   \n",
       "3                2.65            14    90.785766      9        False  ...   \n",
       "4                3.03            14    32.000000     13        False  ...   \n",
       "...               ...           ...          ...    ...          ...  ...   \n",
       "23694            3.70             5    73.300000      3        False  ...   \n",
       "23695            2.65             5    38.000000      4        False  ...   \n",
       "23696            2.65             3    29.700000      1        False  ...   \n",
       "23697            3.00            17    43.822689     12        False  ...   \n",
       "23698            2.50             5    12.300000      1        False  ...   \n",
       "\n",
       "       ponds_nearest  days_exposition    locality_name  price_sqr_meter  \\\n",
       "0              755.0              NaN  Санкт-Петербург    120370.370370   \n",
       "1                NaN             81.0           Шушары     83750.000000   \n",
       "2              574.0            558.0  Санкт-Петербург     92785.714286   \n",
       "3              234.0            424.0  Санкт-Петербург    408176.100629   \n",
       "4               48.0            121.0  Санкт-Петербург    100000.000000   \n",
       "...              ...              ...              ...              ...   \n",
       "23694          381.0              NaN  Санкт-Петербург     72932.330827   \n",
       "23695            NaN             45.0            Тосно     52542.372881   \n",
       "23696            NaN              NaN      Рождествено     44642.857143   \n",
       "23697          196.0            602.0  Санкт-Петербург    150986.842105   \n",
       "23698            NaN              NaN            Учхоз     42187.500000   \n",
       "\n",
       "       weekday  month  year  floor_type  city_centers_nearest  \\\n",
       "0            3      3  2019      другой                  16.0   \n",
       "1            1     12  2018      первый                  19.0   \n",
       "2            3      8  2015      другой                  14.0   \n",
       "3            4      7  2015      другой                   7.0   \n",
       "4            1      6  2018      другой                   8.0   \n",
       "...        ...    ...   ...         ...                   ...   \n",
       "23694        1      3  2017      другой                   4.0   \n",
       "23695        0      1  2018      другой                   0.0   \n",
       "23696        6      2  2018      первый                   0.0   \n",
       "23697        1      3  2017      другой                  10.0   \n",
       "23698        4      7  2017      первый                   0.0   \n",
       "\n",
       "       normal_ceiling_height  \n",
       "0                       2.70  \n",
       "1                       2.65  \n",
       "2                       2.65  \n",
       "3                       2.65  \n",
       "4                       3.03  \n",
       "...                      ...  \n",
       "23694                   3.70  \n",
       "23695                   2.65  \n",
       "23696                   2.65  \n",
       "23697                   3.00  \n",
       "23698                   2.50  \n",
       "\n",
       "[23699 rows x 29 columns]"
      ]
     },
     "execution_count": 153,
     "metadata": {},
     "output_type": "execute_result"
    }
   ],
   "source": [
    "data"
   ]
  },
  {
   "cell_type": "markdown",
   "metadata": {},
   "source": [
    "### Общий вывод"
   ]
  },
  {
   "cell_type": "code",
   "execution_count": 154,
   "metadata": {},
   "outputs": [
    {
     "name": "stdout",
     "output_type": "stream",
     "text": [
      "AxesSubplot(0.125,0.125;0.775x0.755)\n"
     ]
    },
    {
     "data": {
      "image/png": "[encoded data removed]",
      "text/plain": [
       "<Figure size 432x288 with 1 Axes>"
      ]
     },
     "metadata": {
      "needs_background": "light"
     },
     "output_type": "display_data"
    }
   ],
   "source": [
    "print(data.pivot_table(index='month', values=['last_price']).plot(grid=True))"
   ]
  },
  {
   "cell_type": "code",
   "execution_count": 155,
   "metadata": {},
   "outputs": [
    {
     "name": "stdout",
     "output_type": "stream",
     "text": [
      "AxesSubplot(0.125,0.125;0.775x0.755)\n"
     ]
    },
    {
     "data": {
      "image/png": "[encoded data removed]",
      "text/plain": [
       "<Figure size 432x288 with 1 Axes>"
      ]
     },
     "metadata": {
      "needs_background": "light"
     },
     "output_type": "display_data"
    }
   ],
   "source": [
    "print(data.pivot_table(index='year', values=['last_price']).plot(grid=True))"
   ]
  },
  {
   "cell_type": "code",
   "execution_count": 156,
   "metadata": {},
   "outputs": [
    {
     "name": "stdout",
     "output_type": "stream",
     "text": [
      "AxesSubplot(0.125,0.125;0.775x0.755)\n"
     ]
    },
    {
     "data": {
      "image/png": "[encoded data removed]",
      "text/plain": [
       "<Figure size 432x288 with 1 Axes>"
      ]
     },
     "metadata": {
      "needs_background": "light"
     },
     "output_type": "display_data"
    }
   ],
   "source": [
    "print(data.pivot_table(index='weekday', values=['last_price']).plot(grid=True))"
   ]
  },
  {
   "cell_type": "markdown",
   "metadata": {},
   "source": [
    "# Сравнение средней цены одного квадратного метра в 10 населённых пунктах с наибольшим числом объявлений"
   ]
  },
  {
   "cell_type": "code",
   "execution_count": 158,
   "metadata": {},
   "outputs": [
    {
     "data": {
      "text/plain": [
       "['Санкт-Петербург',\n",
       " 'Мурино',\n",
       " 'Кудрово',\n",
       " 'Шушары',\n",
       " 'Всеволожск',\n",
       " 'Пушкин',\n",
       " 'Колпино',\n",
       " 'Парголово',\n",
       " 'Гатчина',\n",
       " 'Выборг']"
      ]
     },
     "execution_count": 158,
     "metadata": {},
     "output_type": "execute_result"
    }
   ],
   "source": [
    "top_regions = data['locality_name'].value_counts()[:10].index.to_list()\n",
    "top_regions"
   ]
  },
  {
   "cell_type": "code",
   "execution_count": 159,
   "metadata": {},
   "outputs": [
    {
     "data": {
      "text/html": [
       "<div>\n",
       "<style scoped>\n",
       "    .dataframe tbody tr th:only-of-type {\n",
       "        vertical-align: middle;\n",
       "    }\n",
       "\n",
       "    .dataframe tbody tr th {\n",
       "        vertical-align: top;\n",
       "    }\n",
       "\n",
       "    .dataframe thead th {\n",
       "        text-align: right;\n",
       "    }\n",
       "</style>\n",
       "<table border=\"1\" class=\"dataframe\">\n",
       "  <thead>\n",
       "    <tr style=\"text-align: right;\">\n",
       "      <th></th>\n",
       "      <th>total_images</th>\n",
       "      <th>last_price</th>\n",
       "      <th>total_area</th>\n",
       "      <th>first_day_exposition</th>\n",
       "      <th>rooms</th>\n",
       "      <th>ceiling_height</th>\n",
       "      <th>floors_total</th>\n",
       "      <th>living_area</th>\n",
       "      <th>floor</th>\n",
       "      <th>is_apartment</th>\n",
       "      <th>...</th>\n",
       "      <th>ponds_nearest</th>\n",
       "      <th>days_exposition</th>\n",
       "      <th>locality_name</th>\n",
       "      <th>price_sqr_meter</th>\n",
       "      <th>weekday</th>\n",
       "      <th>month</th>\n",
       "      <th>year</th>\n",
       "      <th>floor_type</th>\n",
       "      <th>city_centers_nearest</th>\n",
       "      <th>normal_ceiling_height</th>\n",
       "    </tr>\n",
       "  </thead>\n",
       "  <tbody>\n",
       "    <tr>\n",
       "      <th>0</th>\n",
       "      <td>20</td>\n",
       "      <td>13000000</td>\n",
       "      <td>108.00</td>\n",
       "      <td>2019-03-07</td>\n",
       "      <td>3</td>\n",
       "      <td>2.70</td>\n",
       "      <td>16</td>\n",
       "      <td>51.000000</td>\n",
       "      <td>8</td>\n",
       "      <td>False</td>\n",
       "      <td>...</td>\n",
       "      <td>755.0</td>\n",
       "      <td>NaN</td>\n",
       "      <td>Санкт-Петербург</td>\n",
       "      <td>120370.370370</td>\n",
       "      <td>3</td>\n",
       "      <td>3</td>\n",
       "      <td>2019</td>\n",
       "      <td>другой</td>\n",
       "      <td>16.0</td>\n",
       "      <td>2.70</td>\n",
       "    </tr>\n",
       "    <tr>\n",
       "      <th>1</th>\n",
       "      <td>7</td>\n",
       "      <td>3350000</td>\n",
       "      <td>40.40</td>\n",
       "      <td>2018-12-04</td>\n",
       "      <td>1</td>\n",
       "      <td>2.65</td>\n",
       "      <td>11</td>\n",
       "      <td>18.600000</td>\n",
       "      <td>1</td>\n",
       "      <td>False</td>\n",
       "      <td>...</td>\n",
       "      <td>NaN</td>\n",
       "      <td>81.0</td>\n",
       "      <td>Шушары</td>\n",
       "      <td>83750.000000</td>\n",
       "      <td>1</td>\n",
       "      <td>12</td>\n",
       "      <td>2018</td>\n",
       "      <td>первый</td>\n",
       "      <td>19.0</td>\n",
       "      <td>2.65</td>\n",
       "    </tr>\n",
       "    <tr>\n",
       "      <th>2</th>\n",
       "      <td>10</td>\n",
       "      <td>5196000</td>\n",
       "      <td>56.00</td>\n",
       "      <td>2015-08-20</td>\n",
       "      <td>2</td>\n",
       "      <td>2.65</td>\n",
       "      <td>5</td>\n",
       "      <td>34.300000</td>\n",
       "      <td>4</td>\n",
       "      <td>False</td>\n",
       "      <td>...</td>\n",
       "      <td>574.0</td>\n",
       "      <td>558.0</td>\n",
       "      <td>Санкт-Петербург</td>\n",
       "      <td>92785.714286</td>\n",
       "      <td>3</td>\n",
       "      <td>8</td>\n",
       "      <td>2015</td>\n",
       "      <td>другой</td>\n",
       "      <td>14.0</td>\n",
       "      <td>2.65</td>\n",
       "    </tr>\n",
       "    <tr>\n",
       "      <th>3</th>\n",
       "      <td>0</td>\n",
       "      <td>64900000</td>\n",
       "      <td>159.00</td>\n",
       "      <td>2015-07-24</td>\n",
       "      <td>3</td>\n",
       "      <td>2.65</td>\n",
       "      <td>14</td>\n",
       "      <td>90.785766</td>\n",
       "      <td>9</td>\n",
       "      <td>False</td>\n",
       "      <td>...</td>\n",
       "      <td>234.0</td>\n",
       "      <td>424.0</td>\n",
       "      <td>Санкт-Петербург</td>\n",
       "      <td>408176.100629</td>\n",
       "      <td>4</td>\n",
       "      <td>7</td>\n",
       "      <td>2015</td>\n",
       "      <td>другой</td>\n",
       "      <td>7.0</td>\n",
       "      <td>2.65</td>\n",
       "    </tr>\n",
       "    <tr>\n",
       "      <th>4</th>\n",
       "      <td>2</td>\n",
       "      <td>10000000</td>\n",
       "      <td>100.00</td>\n",
       "      <td>2018-06-19</td>\n",
       "      <td>2</td>\n",
       "      <td>3.03</td>\n",
       "      <td>14</td>\n",
       "      <td>32.000000</td>\n",
       "      <td>13</td>\n",
       "      <td>False</td>\n",
       "      <td>...</td>\n",
       "      <td>48.0</td>\n",
       "      <td>121.0</td>\n",
       "      <td>Санкт-Петербург</td>\n",
       "      <td>100000.000000</td>\n",
       "      <td>1</td>\n",
       "      <td>6</td>\n",
       "      <td>2018</td>\n",
       "      <td>другой</td>\n",
       "      <td>8.0</td>\n",
       "      <td>3.03</td>\n",
       "    </tr>\n",
       "    <tr>\n",
       "      <th>...</th>\n",
       "      <td>...</td>\n",
       "      <td>...</td>\n",
       "      <td>...</td>\n",
       "      <td>...</td>\n",
       "      <td>...</td>\n",
       "      <td>...</td>\n",
       "      <td>...</td>\n",
       "      <td>...</td>\n",
       "      <td>...</td>\n",
       "      <td>...</td>\n",
       "      <td>...</td>\n",
       "      <td>...</td>\n",
       "      <td>...</td>\n",
       "      <td>...</td>\n",
       "      <td>...</td>\n",
       "      <td>...</td>\n",
       "      <td>...</td>\n",
       "      <td>...</td>\n",
       "      <td>...</td>\n",
       "      <td>...</td>\n",
       "      <td>...</td>\n",
       "    </tr>\n",
       "    <tr>\n",
       "      <th>23694</th>\n",
       "      <td>9</td>\n",
       "      <td>9700000</td>\n",
       "      <td>133.81</td>\n",
       "      <td>2017-03-21</td>\n",
       "      <td>3</td>\n",
       "      <td>3.70</td>\n",
       "      <td>5</td>\n",
       "      <td>73.300000</td>\n",
       "      <td>3</td>\n",
       "      <td>False</td>\n",
       "      <td>...</td>\n",
       "      <td>381.0</td>\n",
       "      <td>NaN</td>\n",
       "      <td>Санкт-Петербург</td>\n",
       "      <td>72932.330827</td>\n",
       "      <td>1</td>\n",
       "      <td>3</td>\n",
       "      <td>2017</td>\n",
       "      <td>другой</td>\n",
       "      <td>4.0</td>\n",
       "      <td>3.70</td>\n",
       "    </tr>\n",
       "    <tr>\n",
       "      <th>23695</th>\n",
       "      <td>14</td>\n",
       "      <td>3100000</td>\n",
       "      <td>59.00</td>\n",
       "      <td>2018-01-15</td>\n",
       "      <td>3</td>\n",
       "      <td>2.65</td>\n",
       "      <td>5</td>\n",
       "      <td>38.000000</td>\n",
       "      <td>4</td>\n",
       "      <td>False</td>\n",
       "      <td>...</td>\n",
       "      <td>NaN</td>\n",
       "      <td>45.0</td>\n",
       "      <td>Тосно</td>\n",
       "      <td>52542.372881</td>\n",
       "      <td>0</td>\n",
       "      <td>1</td>\n",
       "      <td>2018</td>\n",
       "      <td>другой</td>\n",
       "      <td>0.0</td>\n",
       "      <td>2.65</td>\n",
       "    </tr>\n",
       "    <tr>\n",
       "      <th>23696</th>\n",
       "      <td>18</td>\n",
       "      <td>2500000</td>\n",
       "      <td>56.70</td>\n",
       "      <td>2018-02-11</td>\n",
       "      <td>2</td>\n",
       "      <td>2.65</td>\n",
       "      <td>3</td>\n",
       "      <td>29.700000</td>\n",
       "      <td>1</td>\n",
       "      <td>False</td>\n",
       "      <td>...</td>\n",
       "      <td>NaN</td>\n",
       "      <td>NaN</td>\n",
       "      <td>Рождествено</td>\n",
       "      <td>44642.857143</td>\n",
       "      <td>6</td>\n",
       "      <td>2</td>\n",
       "      <td>2018</td>\n",
       "      <td>первый</td>\n",
       "      <td>0.0</td>\n",
       "      <td>2.65</td>\n",
       "    </tr>\n",
       "    <tr>\n",
       "      <th>23697</th>\n",
       "      <td>13</td>\n",
       "      <td>11475000</td>\n",
       "      <td>76.75</td>\n",
       "      <td>2017-03-28</td>\n",
       "      <td>2</td>\n",
       "      <td>3.00</td>\n",
       "      <td>17</td>\n",
       "      <td>43.822689</td>\n",
       "      <td>12</td>\n",
       "      <td>False</td>\n",
       "      <td>...</td>\n",
       "      <td>196.0</td>\n",
       "      <td>602.0</td>\n",
       "      <td>Санкт-Петербург</td>\n",
       "      <td>150986.842105</td>\n",
       "      <td>1</td>\n",
       "      <td>3</td>\n",
       "      <td>2017</td>\n",
       "      <td>другой</td>\n",
       "      <td>10.0</td>\n",
       "      <td>3.00</td>\n",
       "    </tr>\n",
       "    <tr>\n",
       "      <th>23698</th>\n",
       "      <td>4</td>\n",
       "      <td>1350000</td>\n",
       "      <td>32.30</td>\n",
       "      <td>2017-07-21</td>\n",
       "      <td>1</td>\n",
       "      <td>2.50</td>\n",
       "      <td>5</td>\n",
       "      <td>12.300000</td>\n",
       "      <td>1</td>\n",
       "      <td>False</td>\n",
       "      <td>...</td>\n",
       "      <td>NaN</td>\n",
       "      <td>NaN</td>\n",
       "      <td>Учхоз</td>\n",
       "      <td>42187.500000</td>\n",
       "      <td>4</td>\n",
       "      <td>7</td>\n",
       "      <td>2017</td>\n",
       "      <td>первый</td>\n",
       "      <td>0.0</td>\n",
       "      <td>2.50</td>\n",
       "    </tr>\n",
       "  </tbody>\n",
       "</table>\n",
       "<p>23699 rows × 29 columns</p>\n",
       "</div>"
      ],
      "text/plain": [
       "       total_images  last_price  total_area first_day_exposition  rooms  \\\n",
       "0                20    13000000      108.00           2019-03-07      3   \n",
       "1                 7     3350000       40.40           2018-12-04      1   \n",
       "2                10     5196000       56.00           2015-08-20      2   \n",
       "3                 0    64900000      159.00           2015-07-24      3   \n",
       "4                 2    10000000      100.00           2018-06-19      2   \n",
       "...             ...         ...         ...                  ...    ...   \n",
       "23694             9     9700000      133.81           2017-03-21      3   \n",
       "23695            14     3100000       59.00           2018-01-15      3   \n",
       "23696            18     2500000       56.70           2018-02-11      2   \n",
       "23697            13    11475000       76.75           2017-03-28      2   \n",
       "23698             4     1350000       32.30           2017-07-21      1   \n",
       "\n",
       "       ceiling_height  floors_total  living_area  floor is_apartment  ...  \\\n",
       "0                2.70            16    51.000000      8        False  ...   \n",
       "1                2.65            11    18.600000      1        False  ...   \n",
       "2                2.65             5    34.300000      4        False  ...   \n",
       "3                2.65            14    90.785766      9        False  ...   \n",
       "4                3.03            14    32.000000     13        False  ...   \n",
       "...               ...           ...          ...    ...          ...  ...   \n",
       "23694            3.70             5    73.300000      3        False  ...   \n",
       "23695            2.65             5    38.000000      4        False  ...   \n",
       "23696            2.65             3    29.700000      1        False  ...   \n",
       "23697            3.00            17    43.822689     12        False  ...   \n",
       "23698            2.50             5    12.300000      1        False  ...   \n",
       "\n",
       "       ponds_nearest  days_exposition    locality_name  price_sqr_meter  \\\n",
       "0              755.0              NaN  Санкт-Петербург    120370.370370   \n",
       "1                NaN             81.0           Шушары     83750.000000   \n",
       "2              574.0            558.0  Санкт-Петербург     92785.714286   \n",
       "3              234.0            424.0  Санкт-Петербург    408176.100629   \n",
       "4               48.0            121.0  Санкт-Петербург    100000.000000   \n",
       "...              ...              ...              ...              ...   \n",
       "23694          381.0              NaN  Санкт-Петербург     72932.330827   \n",
       "23695            NaN             45.0            Тосно     52542.372881   \n",
       "23696            NaN              NaN      Рождествено     44642.857143   \n",
       "23697          196.0            602.0  Санкт-Петербург    150986.842105   \n",
       "23698            NaN              NaN            Учхоз     42187.500000   \n",
       "\n",
       "       weekday  month  year  floor_type  city_centers_nearest  \\\n",
       "0            3      3  2019      другой                  16.0   \n",
       "1            1     12  2018      первый                  19.0   \n",
       "2            3      8  2015      другой                  14.0   \n",
       "3            4      7  2015      другой                   7.0   \n",
       "4            1      6  2018      другой                   8.0   \n",
       "...        ...    ...   ...         ...                   ...   \n",
       "23694        1      3  2017      другой                   4.0   \n",
       "23695        0      1  2018      другой                   0.0   \n",
       "23696        6      2  2018      первый                   0.0   \n",
       "23697        1      3  2017      другой                  10.0   \n",
       "23698        4      7  2017      первый                   0.0   \n",
       "\n",
       "       normal_ceiling_height  \n",
       "0                       2.70  \n",
       "1                       2.65  \n",
       "2                       2.65  \n",
       "3                       2.65  \n",
       "4                       3.03  \n",
       "...                      ...  \n",
       "23694                   3.70  \n",
       "23695                   2.65  \n",
       "23696                   2.65  \n",
       "23697                   3.00  \n",
       "23698                   2.50  \n",
       "\n",
       "[23699 rows x 29 columns]"
      ]
     },
     "execution_count": 159,
     "metadata": {},
     "output_type": "execute_result"
    }
   ],
   "source": [
    "data"
   ]
  },
  {
   "cell_type": "code",
   "execution_count": 169,
   "metadata": {},
   "outputs": [
    {
     "name": "stdout",
     "output_type": "stream",
     "text": [
      "<class 'pandas.core.frame.DataFrame'>\n",
      "RangeIndex: 23699 entries, 0 to 23698\n",
      "Data columns (total 29 columns):\n",
      " #   Column                 Non-Null Count  Dtype         \n",
      "---  ------                 --------------  -----         \n",
      " 0   total_images           23699 non-null  int64         \n",
      " 1   last_price             23699 non-null  int64         \n",
      " 2   total_area             23699 non-null  float64       \n",
      " 3   first_day_exposition   23699 non-null  datetime64[ns]\n",
      " 4   rooms                  23699 non-null  int64         \n",
      " 5   ceiling_height         23699 non-null  float64       \n",
      " 6   floors_total           23699 non-null  int64         \n",
      " 7   living_area            23699 non-null  float64       \n",
      " 8   floor                  23699 non-null  int64         \n",
      " 9   is_apartment           23699 non-null  object        \n",
      " 10  studio                 23699 non-null  bool          \n",
      " 11  open_plan              23699 non-null  bool          \n",
      " 12  kitchen_area           23699 non-null  float64       \n",
      " 13  balcony                23699 non-null  int64         \n",
      " 14  airports_nearest       18157 non-null  float64       \n",
      " 15  cityCenters_nearest    23699 non-null  float64       \n",
      " 16  parks_around3000       23699 non-null  int64         \n",
      " 17  parks_nearest          8079 non-null   float64       \n",
      " 18  ponds_around3000       23699 non-null  int64         \n",
      " 19  ponds_nearest          9110 non-null   float64       \n",
      " 20  days_exposition        20518 non-null  float64       \n",
      " 21  locality_name          23699 non-null  object        \n",
      " 22  price_sqr_meter        23699 non-null  float64       \n",
      " 23  weekday                23699 non-null  int64         \n",
      " 24  month                  23699 non-null  int64         \n",
      " 25  year                   23699 non-null  int64         \n",
      " 26  floor_type             23699 non-null  object        \n",
      " 27  city_centers_nearest   23699 non-null  float64       \n",
      " 28  normal_ceiling_height  23699 non-null  float64       \n",
      "dtypes: bool(2), datetime64[ns](1), float64(12), int64(11), object(3)\n",
      "memory usage: 4.9+ MB\n"
     ]
    }
   ],
   "source": [
    "(len(data[data['price_sqr_meter'].isna()]))\n",
    "data.info()"
   ]
  },
  {
   "cell_type": "code",
   "execution_count": 175,
   "metadata": {},
   "outputs": [
    {
     "data": {
      "text/html": [
       "<div>\n",
       "<style scoped>\n",
       "    .dataframe tbody tr th:only-of-type {\n",
       "        vertical-align: middle;\n",
       "    }\n",
       "\n",
       "    .dataframe tbody tr th {\n",
       "        vertical-align: top;\n",
       "    }\n",
       "\n",
       "    .dataframe thead th {\n",
       "        text-align: right;\n",
       "    }\n",
       "</style>\n",
       "<table border=\"1\" class=\"dataframe\">\n",
       "  <thead>\n",
       "    <tr style=\"text-align: right;\">\n",
       "      <th></th>\n",
       "      <th>price_sqr_meter</th>\n",
       "    </tr>\n",
       "    <tr>\n",
       "      <th>locality_name</th>\n",
       "      <th></th>\n",
       "    </tr>\n",
       "  </thead>\n",
       "  <tbody>\n",
       "    <tr>\n",
       "      <th>Санкт-Петербург</th>\n",
       "      <td>115347</td>\n",
       "    </tr>\n",
       "    <tr>\n",
       "      <th>Пушкин</th>\n",
       "      <td>103610</td>\n",
       "    </tr>\n",
       "    <tr>\n",
       "      <th>Кудрово</th>\n",
       "      <td>95878</td>\n",
       "    </tr>\n",
       "    <tr>\n",
       "      <th>Парголово</th>\n",
       "      <td>90675</td>\n",
       "    </tr>\n",
       "    <tr>\n",
       "      <th>Мурино</th>\n",
       "      <td>86729</td>\n",
       "    </tr>\n",
       "    <tr>\n",
       "      <th>Шушары</th>\n",
       "      <td>79068</td>\n",
       "    </tr>\n",
       "    <tr>\n",
       "      <th>Колпино</th>\n",
       "      <td>75735</td>\n",
       "    </tr>\n",
       "    <tr>\n",
       "      <th>Гатчина</th>\n",
       "      <td>69045</td>\n",
       "    </tr>\n",
       "    <tr>\n",
       "      <th>Всеволожск</th>\n",
       "      <td>68984</td>\n",
       "    </tr>\n",
       "    <tr>\n",
       "      <th>Выборг</th>\n",
       "      <td>58295</td>\n",
       "    </tr>\n",
       "  </tbody>\n",
       "</table>\n",
       "</div>"
      ],
      "text/plain": [
       "                 price_sqr_meter\n",
       "locality_name                   \n",
       "Санкт-Петербург           115347\n",
       "Пушкин                    103610\n",
       "Кудрово                    95878\n",
       "Парголово                  90675\n",
       "Мурино                     86729\n",
       "Шушары                     79068\n",
       "Колпино                    75735\n",
       "Гатчина                    69045\n",
       "Всеволожск                 68984\n",
       "Выборг                     58295"
      ]
     },
     "execution_count": 175,
     "metadata": {},
     "output_type": "execute_result"
    }
   ],
   "source": [
    "#data['price_sqr_meter'] = data['price_sqr_meter'].astype(int) \n",
    "#data[data['locality_name'].isin(top_regions)].groupby('locality_name')['price_sqr_meter'].apply('mean')\n",
    "\n",
    "\n",
    "price_sqr_meter = data.query('locality_name in (@top_regions)').pivot_table(values='price_sqr_meter', index='locality_name')\n",
    "price_sqr_meter = price_sqr_meter.astype(int)\n",
    "price_sqr_meter.sort_values('price_sqr_meter', ascending=False)\n",
    "\n",
    "\n",
    "\n"
   ]
  },
  {
   "cell_type": "code",
   "execution_count": 200,
   "metadata": {},
   "outputs": [
    {
     "data": {
      "text/html": [
       "<div>\n",
       "<style scoped>\n",
       "    .dataframe tbody tr th:only-of-type {\n",
       "        vertical-align: middle;\n",
       "    }\n",
       "\n",
       "    .dataframe tbody tr th {\n",
       "        vertical-align: top;\n",
       "    }\n",
       "\n",
       "    .dataframe thead th {\n",
       "        text-align: right;\n",
       "    }\n",
       "</style>\n",
       "<table border=\"1\" class=\"dataframe\">\n",
       "  <thead>\n",
       "    <tr style=\"text-align: right;\">\n",
       "      <th></th>\n",
       "      <th>city_centers_nearest</th>\n",
       "      <th>last_price</th>\n",
       "    </tr>\n",
       "  </thead>\n",
       "  <tbody>\n",
       "    <tr>\n",
       "      <th>city_centers_nearest</th>\n",
       "      <td>1.000000</td>\n",
       "      <td>-0.050917</td>\n",
       "    </tr>\n",
       "    <tr>\n",
       "      <th>last_price</th>\n",
       "      <td>-0.050917</td>\n",
       "      <td>1.000000</td>\n",
       "    </tr>\n",
       "  </tbody>\n",
       "</table>\n",
       "</div>"
      ],
      "text/plain": [
       "                      city_centers_nearest  last_price\n",
       "city_centers_nearest              1.000000   -0.050917\n",
       "last_price                       -0.050917    1.000000"
      ]
     },
     "execution_count": 200,
     "metadata": {},
     "output_type": "execute_result"
    }
   ],
   "source": [
    "data[data['locality_name']=='Санкт-Петербург'].pivot_table(index='floor', \n",
    "values=['last_price', 'city_centers_nearest']).corr()"
   ]
  },
  {
   "cell_type": "code",
   "execution_count": 301,
   "metadata": {},
   "outputs": [
    {
     "data": {
      "text/plain": [
       "<AxesSubplot:xlabel='city_centers_nearest'>"
      ]
     },
     "execution_count": 301,
     "metadata": {},
     "output_type": "execute_result"
    },
    {
     "data": {
      "image/png": "[encoded data removed]",
      "text/plain": [
       "<Figure size 720x360 with 1 Axes>"
      ]
     },
     "metadata": {
      "needs_background": "light"
     },
     "output_type": "display_data"
    }
   ],
   "source": [
    "data.query('locality_name == \"Санкт-Петербург\"').pivot_table(index='city_centers_nearest', values='last_price').plot(grid=True, style='o-', figsize=(10, 5))"
   ]
  },
  {
   "cell_type": "markdown",
   "metadata": {},
   "source": [
    "**Чек-лист готовности проекта**\n",
    "\n",
    "Поставьте 'x' в выполненных пунктах. Далее нажмите Shift+Enter."
   ]
  },
  {
   "cell_type": "markdown",
   "metadata": {},
   "source": [
    "- [x]  открыт файл\n",
    "- [x]  файлы изучены (выведены первые строки, метод `info()`, гистограммы и т.д.)\n",
    "- [x]  определены пропущенные значения\n",
    "- [x]  заполнены пропущенные значения там, где это возможно\n",
    "- [x]  есть пояснение, какие пропущенные значения обнаружены\n",
    "- [x]  изменены типы данных\n",
    "- [x]  есть пояснение, в каких столбцах изменены типы и почему\n",
    "- [x]  устранены неявные дубликаты в названиях населённых пунктов\n",
    "- [x]  устранены редкие и выбивающиеся значения (аномалии) во всех столбцах\n",
    "- [x]  посчитано и добавлено в таблицу: цена одного квадратного метра\n",
    "- [x]  посчитано и добавлено в таблицу: день публикации объявления (0 - понедельник, 1 - вторник и т.д.)\n",
    "- [x]  посчитано и добавлено в таблицу: месяц публикации объявления\n",
    "- [x]  посчитано и добавлено в таблицу: год публикации объявления\n",
    "- [x]  посчитано и добавлено в таблицу: тип этажа квартиры (значения — «первый», «последний», «другой»)\n",
    "- [x]  посчитано и добавлено в таблицу: расстояние в км до центра города\n",
    "- [x]  изучены и описаны следующие параметры:\n",
    "        - общая площадь;\n",
    "        - жилая площадь;\n",
    "        - площадь кухни;\n",
    "        - цена объекта;\n",
    "        - количество комнат;\n",
    "        - высота потолков;\n",
    "        - этаж квартиры;\n",
    "        - тип этажа квартиры («первый», «последний», «другой»);\n",
    "        - общее количество этажей в доме;\n",
    "        - расстояние до центра города в метрах;\n",
    "        - расстояние до ближайшего аэропорта;\n",
    "        - расстояние до ближайшего парка;\n",
    "        - день и месяц публикации объявления\n",
    "- [x]  построены гистограммы для каждого параметра\n",
    "- [ ]  выполнено задание: \"Изучите, как быстро продавались квартиры (столбец days_exposition). Этот параметр показывает, сколько дней «висело» каждое объявление.\n",
    "    - Постройте гистограмму.\n",
    "    - Посчитайте среднее и медиану.\n",
    "    - В ячейке типа markdown опишите, сколько обычно занимает продажа. Какие продажи можно считать быстрыми, а какие — необычно долгими?\"\n",
    "- [ ]  выполнено задание: \"Какие факторы больше всего влияют на общую (полную) стоимость объекта? Постройте графики, которые покажут зависимость цены от указанных ниже параметров. Для подготовки данных перед визуализацией вы можете использовать сводные таблицы.\"\n",
    "        - общей площади;\n",
    "        - жилой площади;\n",
    "        - площади кухни;\n",
    "        - количество комнат;\n",
    "        - типа этажа, на котором расположена квартира (первый, последний, другой);\n",
    "        - даты размещения (день недели, месяц, год);\n",
    "- [ ]  выполнено задание: \"Посчитайте среднюю цену одного квадратного метра в 10 населённых пунктах с наибольшим числом объявлений. Выделите населённые пункты с самой высокой и низкой стоимостью квадратного метра. Эти данные можно найти по имени в столбце `locality_name`.\"\n",
    "- [ ]  выполнено задание: \"Ранее вы посчитали расстояние до центра в километрах. Теперь выделите квартиры в Санкт-Петербурге с помощью столбца `locality_name` и вычислите среднюю цену каждого километра. Опишите, как стоимость объектов зависит от расстояния до центра города.\"\n",
    "- [ ]  в каждом этапе есть промежуточные выводы\n",
    "- [ ]  есть общий вывод"
   ]
  },
  {
   "cell_type": "code",
   "execution_count": null,
   "metadata": {},
   "outputs": [],
   "source": []
  }
 ],
 "metadata": {
  "ExecuteTimeLog": [
   {
    "duration": 732,
    "start_time": "2023-03-16T03:50:17.337Z"
   },
   {
    "duration": 73,
    "start_time": "2023-03-16T03:53:12.467Z"
   },
   {
    "duration": 143,
    "start_time": "2023-03-16T03:53:27.924Z"
   },
   {
    "duration": 142,
    "start_time": "2023-03-16T03:53:54.050Z"
   },
   {
    "duration": 162,
    "start_time": "2023-03-16T03:54:27.503Z"
   },
   {
    "duration": 105,
    "start_time": "2023-03-16T03:54:45.553Z"
   },
   {
    "duration": 203,
    "start_time": "2023-03-16T03:55:24.185Z"
   },
   {
    "duration": 167,
    "start_time": "2023-03-16T03:55:39.280Z"
   },
   {
    "duration": 135,
    "start_time": "2023-03-16T03:55:56.256Z"
   },
   {
    "duration": 70,
    "start_time": "2023-03-16T03:57:07.362Z"
   },
   {
    "duration": 2595,
    "start_time": "2023-03-16T03:57:16.840Z"
   },
   {
    "duration": 131,
    "start_time": "2023-03-16T04:10:22.505Z"
   },
   {
    "duration": 88,
    "start_time": "2023-03-16T04:11:05.530Z"
   },
   {
    "duration": 101,
    "start_time": "2023-03-16T04:11:18.146Z"
   },
   {
    "duration": 89,
    "start_time": "2023-03-16T04:11:35.316Z"
   },
   {
    "duration": 100,
    "start_time": "2023-03-16T04:11:46.843Z"
   },
   {
    "duration": 87,
    "start_time": "2023-03-16T04:12:10.596Z"
   },
   {
    "duration": 1974,
    "start_time": "2023-03-16T04:12:18.626Z"
   },
   {
    "duration": 116,
    "start_time": "2023-03-16T04:12:33.465Z"
   },
   {
    "duration": 9,
    "start_time": "2023-03-16T04:17:06.686Z"
   },
   {
    "duration": 9,
    "start_time": "2023-03-16T04:18:04.695Z"
   },
   {
    "duration": 6,
    "start_time": "2023-03-16T04:18:21.436Z"
   },
   {
    "duration": 8,
    "start_time": "2023-03-16T04:18:27.975Z"
   },
   {
    "duration": 8,
    "start_time": "2023-03-16T04:18:40.654Z"
   },
   {
    "duration": 8,
    "start_time": "2023-03-16T04:18:54.386Z"
   },
   {
    "duration": 7,
    "start_time": "2023-03-16T04:19:42.990Z"
   },
   {
    "duration": 7,
    "start_time": "2023-03-16T04:20:22.713Z"
   },
   {
    "duration": 10,
    "start_time": "2023-03-16T04:20:32.974Z"
   },
   {
    "duration": 9,
    "start_time": "2023-03-16T04:21:15.852Z"
   },
   {
    "duration": 7,
    "start_time": "2023-03-16T04:21:49.296Z"
   },
   {
    "duration": 7,
    "start_time": "2023-03-16T04:22:13.385Z"
   },
   {
    "duration": 9,
    "start_time": "2023-03-16T04:24:51.283Z"
   },
   {
    "duration": 28,
    "start_time": "2023-03-16T04:25:17.984Z"
   },
   {
    "duration": 80,
    "start_time": "2023-03-16T04:26:17.383Z"
   },
   {
    "duration": 31,
    "start_time": "2023-03-16T04:26:47.789Z"
   },
   {
    "duration": 43,
    "start_time": "2023-03-16T04:33:52.021Z"
   },
   {
    "duration": 33,
    "start_time": "2023-03-16T04:35:36.544Z"
   },
   {
    "duration": 12,
    "start_time": "2023-03-16T04:35:48.095Z"
   },
   {
    "duration": 22,
    "start_time": "2023-03-16T04:36:08.885Z"
   },
   {
    "duration": 16,
    "start_time": "2023-03-16T04:36:15.918Z"
   },
   {
    "duration": 22,
    "start_time": "2023-03-16T04:38:49.640Z"
   },
   {
    "duration": 15,
    "start_time": "2023-03-16T04:39:17.331Z"
   },
   {
    "duration": 15,
    "start_time": "2023-03-16T04:39:33.661Z"
   },
   {
    "duration": 31,
    "start_time": "2023-03-16T04:39:45.711Z"
   },
   {
    "duration": 82,
    "start_time": "2023-03-16T04:41:45.453Z"
   },
   {
    "duration": 68,
    "start_time": "2023-03-16T04:41:58.025Z"
   },
   {
    "duration": 7,
    "start_time": "2023-03-16T04:42:54.018Z"
   },
   {
    "duration": 6,
    "start_time": "2023-03-16T04:43:10.786Z"
   },
   {
    "duration": 67,
    "start_time": "2023-03-16T04:47:05.531Z"
   },
   {
    "duration": 1128,
    "start_time": "2023-03-16T04:47:31.724Z"
   },
   {
    "duration": 6,
    "start_time": "2023-03-16T04:47:52.780Z"
   },
   {
    "duration": 74,
    "start_time": "2023-03-16T04:48:18.307Z"
   },
   {
    "duration": 13,
    "start_time": "2023-03-16T04:48:52.628Z"
   },
   {
    "duration": 83,
    "start_time": "2023-03-16T05:16:32.289Z"
   },
   {
    "duration": 42,
    "start_time": "2023-03-16T05:16:55.198Z"
   },
   {
    "duration": 37,
    "start_time": "2023-03-16T05:28:03.726Z"
   },
   {
    "duration": 40,
    "start_time": "2023-03-16T05:28:31.163Z"
   },
   {
    "duration": 12,
    "start_time": "2023-03-16T05:49:36.603Z"
   },
   {
    "duration": 14,
    "start_time": "2023-03-16T05:52:41.222Z"
   },
   {
    "duration": 13,
    "start_time": "2023-03-16T05:52:52.007Z"
   },
   {
    "duration": 8,
    "start_time": "2023-03-16T05:52:59.791Z"
   },
   {
    "duration": 11,
    "start_time": "2023-03-16T05:54:43.488Z"
   },
   {
    "duration": 36,
    "start_time": "2023-03-16T05:55:35.383Z"
   },
   {
    "duration": 150,
    "start_time": "2023-03-16T05:59:10.358Z"
   },
   {
    "duration": 118,
    "start_time": "2023-03-16T05:59:10.511Z"
   },
   {
    "duration": 147,
    "start_time": "2023-03-16T05:59:32.518Z"
   },
   {
    "duration": 88,
    "start_time": "2023-03-16T05:59:32.668Z"
   },
   {
    "duration": 35,
    "start_time": "2023-03-16T06:00:09.479Z"
   },
   {
    "duration": 128,
    "start_time": "2023-03-16T06:21:19.623Z"
   },
   {
    "duration": 165,
    "start_time": "2023-03-16T06:38:08.611Z"
   },
   {
    "duration": 124,
    "start_time": "2023-03-16T06:38:24.302Z"
   },
   {
    "duration": 43,
    "start_time": "2023-03-16T07:19:58.676Z"
   },
   {
    "duration": 54,
    "start_time": "2023-03-17T05:28:53.785Z"
   },
   {
    "duration": 575,
    "start_time": "2023-03-17T05:29:11.437Z"
   },
   {
    "duration": 46,
    "start_time": "2023-03-17T05:29:21.317Z"
   },
   {
    "duration": 134,
    "start_time": "2023-03-17T05:48:56.832Z"
   },
   {
    "duration": 130,
    "start_time": "2023-03-17T05:49:25.540Z"
   },
   {
    "duration": 131,
    "start_time": "2023-03-17T05:52:09.016Z"
   },
   {
    "duration": 79,
    "start_time": "2023-03-17T05:54:07.157Z"
   },
   {
    "duration": 38,
    "start_time": "2023-03-17T07:19:23.265Z"
   },
   {
    "duration": 108,
    "start_time": "2023-03-17T07:19:23.304Z"
   },
   {
    "duration": 115,
    "start_time": "2023-03-17T07:19:45.807Z"
   },
   {
    "duration": 168,
    "start_time": "2023-03-17T07:19:53.809Z"
   },
   {
    "duration": 144,
    "start_time": "2023-03-17T07:20:13.077Z"
   },
   {
    "duration": 2776,
    "start_time": "2023-03-17T07:20:34.174Z"
   },
   {
    "duration": 17,
    "start_time": "2023-03-17T07:22:25.038Z"
   },
   {
    "duration": 8,
    "start_time": "2023-03-17T07:36:36.284Z"
   },
   {
    "duration": 7,
    "start_time": "2023-03-17T07:37:08.900Z"
   },
   {
    "duration": 2,
    "start_time": "2023-03-17T07:37:49.044Z"
   },
   {
    "duration": 8,
    "start_time": "2023-03-17T08:01:58.982Z"
   },
   {
    "duration": 9,
    "start_time": "2023-03-17T08:03:17.875Z"
   },
   {
    "duration": 6,
    "start_time": "2023-03-17T08:03:24.714Z"
   },
   {
    "duration": 6,
    "start_time": "2023-03-17T08:04:11.246Z"
   },
   {
    "duration": 9,
    "start_time": "2023-03-17T08:05:28.095Z"
   },
   {
    "duration": 11,
    "start_time": "2023-03-17T08:07:27.894Z"
   },
   {
    "duration": 11,
    "start_time": "2023-03-17T08:08:34.747Z"
   },
   {
    "duration": 6,
    "start_time": "2023-03-17T08:09:32.549Z"
   },
   {
    "duration": 7,
    "start_time": "2023-03-17T08:10:57.039Z"
   },
   {
    "duration": 8,
    "start_time": "2023-03-17T08:11:14.193Z"
   },
   {
    "duration": 18,
    "start_time": "2023-03-17T08:12:47.406Z"
   },
   {
    "duration": 6,
    "start_time": "2023-03-17T08:13:48.457Z"
   },
   {
    "duration": 6,
    "start_time": "2023-03-17T08:16:26.174Z"
   },
   {
    "duration": 6,
    "start_time": "2023-03-17T08:17:02.153Z"
   },
   {
    "duration": 5,
    "start_time": "2023-03-17T08:18:48.185Z"
   },
   {
    "duration": 8,
    "start_time": "2023-03-17T08:19:20.949Z"
   },
   {
    "duration": 8,
    "start_time": "2023-03-17T08:19:47.469Z"
   },
   {
    "duration": 8,
    "start_time": "2023-03-17T08:24:21.966Z"
   },
   {
    "duration": 8,
    "start_time": "2023-03-17T08:24:39.740Z"
   },
   {
    "duration": 10,
    "start_time": "2023-03-17T08:26:18.060Z"
   },
   {
    "duration": 12,
    "start_time": "2023-03-17T08:27:39.742Z"
   },
   {
    "duration": 10,
    "start_time": "2023-03-17T08:33:14.039Z"
   },
   {
    "duration": 13,
    "start_time": "2023-03-17T08:33:23.393Z"
   },
   {
    "duration": 15,
    "start_time": "2023-03-17T08:43:40.843Z"
   },
   {
    "duration": 97,
    "start_time": "2023-03-17T08:53:03.684Z"
   },
   {
    "duration": 12,
    "start_time": "2023-03-17T08:53:18.843Z"
   },
   {
    "duration": 6,
    "start_time": "2023-03-17T08:54:44.344Z"
   },
   {
    "duration": 21,
    "start_time": "2023-03-17T08:55:01.614Z"
   },
   {
    "duration": 7,
    "start_time": "2023-03-17T08:55:45.674Z"
   },
   {
    "duration": 1239,
    "start_time": "2023-03-17T09:06:01.529Z"
   },
   {
    "duration": 1181,
    "start_time": "2023-03-17T09:06:20.437Z"
   },
   {
    "duration": 1245,
    "start_time": "2023-03-17T09:06:42.240Z"
   },
   {
    "duration": 1196,
    "start_time": "2023-03-17T09:07:12.075Z"
   },
   {
    "duration": 10,
    "start_time": "2023-03-17T09:07:40.353Z"
   },
   {
    "duration": 399,
    "start_time": "2023-03-17T09:08:32.154Z"
   },
   {
    "duration": 364,
    "start_time": "2023-03-17T09:08:37.110Z"
   },
   {
    "duration": 7,
    "start_time": "2023-03-17T09:08:55.461Z"
   },
   {
    "duration": 31,
    "start_time": "2023-03-17T09:09:27.319Z"
   },
   {
    "duration": 12,
    "start_time": "2023-03-17T09:09:34.968Z"
   },
   {
    "duration": 6,
    "start_time": "2023-03-17T09:09:56.861Z"
   },
   {
    "duration": 11,
    "start_time": "2023-03-17T09:10:09.937Z"
   },
   {
    "duration": 13,
    "start_time": "2023-03-17T09:10:32.422Z"
   },
   {
    "duration": 19,
    "start_time": "2023-03-17T09:20:35.409Z"
   },
   {
    "duration": 8,
    "start_time": "2023-03-17T09:20:56.776Z"
   },
   {
    "duration": 15,
    "start_time": "2023-03-17T09:21:12.130Z"
   },
   {
    "duration": 24,
    "start_time": "2023-03-17T09:21:24.309Z"
   },
   {
    "duration": 10,
    "start_time": "2023-03-17T09:21:34.654Z"
   },
   {
    "duration": 19,
    "start_time": "2023-03-17T09:21:46.617Z"
   },
   {
    "duration": 3,
    "start_time": "2023-03-17T09:26:55.339Z"
   },
   {
    "duration": 8,
    "start_time": "2023-03-17T10:00:28.055Z"
   },
   {
    "duration": 8,
    "start_time": "2023-03-17T10:00:49.740Z"
   },
   {
    "duration": 7,
    "start_time": "2023-03-17T10:01:10.473Z"
   },
   {
    "duration": 4,
    "start_time": "2023-03-17T10:22:49.039Z"
   },
   {
    "duration": 6,
    "start_time": "2023-03-17T10:23:34.371Z"
   },
   {
    "duration": 11,
    "start_time": "2023-03-17T10:24:25.772Z"
   },
   {
    "duration": 21,
    "start_time": "2023-03-17T10:25:37.812Z"
   },
   {
    "duration": 22,
    "start_time": "2023-03-17T10:25:47.738Z"
   },
   {
    "duration": 9,
    "start_time": "2023-03-17T10:26:23.763Z"
   },
   {
    "duration": 7,
    "start_time": "2023-03-17T10:28:15.822Z"
   },
   {
    "duration": 7,
    "start_time": "2023-03-17T10:38:53.266Z"
   },
   {
    "duration": 5,
    "start_time": "2023-03-17T10:39:15.345Z"
   },
   {
    "duration": 23,
    "start_time": "2023-03-17T10:39:29.274Z"
   },
   {
    "duration": 10,
    "start_time": "2023-03-17T11:02:46.954Z"
   },
   {
    "duration": 70,
    "start_time": "2023-03-17T11:02:54.758Z"
   },
   {
    "duration": 19,
    "start_time": "2023-03-17T11:03:03.387Z"
   },
   {
    "duration": 10,
    "start_time": "2023-03-17T11:03:16.646Z"
   },
   {
    "duration": 390,
    "start_time": "2023-03-17T11:07:02.452Z"
   },
   {
    "duration": 8,
    "start_time": "2023-03-17T11:07:12.630Z"
   },
   {
    "duration": 12,
    "start_time": "2023-03-17T11:07:34.300Z"
   },
   {
    "duration": 58,
    "start_time": "2023-03-17T11:08:44.630Z"
   },
   {
    "duration": 8,
    "start_time": "2023-03-17T11:09:56.476Z"
   },
   {
    "duration": 8,
    "start_time": "2023-03-17T11:10:04.515Z"
   },
   {
    "duration": 8,
    "start_time": "2023-03-17T11:10:13.372Z"
   },
   {
    "duration": 11,
    "start_time": "2023-03-17T11:10:47.484Z"
   },
   {
    "duration": 8,
    "start_time": "2023-03-17T11:11:36.574Z"
   },
   {
    "duration": 7,
    "start_time": "2023-03-17T11:11:50.152Z"
   },
   {
    "duration": 8,
    "start_time": "2023-03-17T11:15:05.951Z"
   },
   {
    "duration": 7,
    "start_time": "2023-03-17T11:15:35.328Z"
   },
   {
    "duration": 7,
    "start_time": "2023-03-17T11:15:54.669Z"
   },
   {
    "duration": 9,
    "start_time": "2023-03-17T11:16:20.250Z"
   },
   {
    "duration": 6,
    "start_time": "2023-03-17T11:16:52.169Z"
   },
   {
    "duration": 157,
    "start_time": "2023-03-17T11:17:08.771Z"
   },
   {
    "duration": 17,
    "start_time": "2023-03-17T11:17:08.933Z"
   },
   {
    "duration": 2253,
    "start_time": "2023-03-17T11:17:08.952Z"
   },
   {
    "duration": 13,
    "start_time": "2023-03-17T11:17:11.208Z"
   },
   {
    "duration": 6,
    "start_time": "2023-03-17T11:17:11.223Z"
   },
   {
    "duration": 8,
    "start_time": "2023-03-17T11:17:11.231Z"
   },
   {
    "duration": 15,
    "start_time": "2023-03-17T11:17:11.240Z"
   },
   {
    "duration": 61,
    "start_time": "2023-03-17T11:17:11.257Z"
   },
   {
    "duration": 0,
    "start_time": "2023-03-17T11:17:11.321Z"
   },
   {
    "duration": 0,
    "start_time": "2023-03-17T11:17:11.322Z"
   },
   {
    "duration": 0,
    "start_time": "2023-03-17T11:17:11.323Z"
   },
   {
    "duration": 0,
    "start_time": "2023-03-17T11:17:11.324Z"
   },
   {
    "duration": 0,
    "start_time": "2023-03-17T11:17:11.326Z"
   },
   {
    "duration": 0,
    "start_time": "2023-03-17T11:17:11.327Z"
   },
   {
    "duration": 0,
    "start_time": "2023-03-17T11:17:11.328Z"
   },
   {
    "duration": 0,
    "start_time": "2023-03-17T11:17:11.329Z"
   },
   {
    "duration": 0,
    "start_time": "2023-03-17T11:17:11.330Z"
   },
   {
    "duration": 0,
    "start_time": "2023-03-17T11:17:11.331Z"
   },
   {
    "duration": 0,
    "start_time": "2023-03-17T11:17:11.332Z"
   },
   {
    "duration": 0,
    "start_time": "2023-03-17T11:17:11.334Z"
   },
   {
    "duration": 0,
    "start_time": "2023-03-17T11:17:11.335Z"
   },
   {
    "duration": 0,
    "start_time": "2023-03-17T11:17:11.336Z"
   },
   {
    "duration": 0,
    "start_time": "2023-03-17T11:17:11.337Z"
   },
   {
    "duration": 0,
    "start_time": "2023-03-17T11:17:11.338Z"
   },
   {
    "duration": 0,
    "start_time": "2023-03-17T11:17:11.340Z"
   },
   {
    "duration": 0,
    "start_time": "2023-03-17T11:17:11.340Z"
   },
   {
    "duration": 0,
    "start_time": "2023-03-17T11:17:11.342Z"
   },
   {
    "duration": 0,
    "start_time": "2023-03-17T11:17:11.343Z"
   },
   {
    "duration": 0,
    "start_time": "2023-03-17T11:17:11.344Z"
   },
   {
    "duration": 0,
    "start_time": "2023-03-17T11:17:11.345Z"
   },
   {
    "duration": 0,
    "start_time": "2023-03-17T11:17:11.347Z"
   },
   {
    "duration": 0,
    "start_time": "2023-03-17T11:17:11.348Z"
   },
   {
    "duration": 0,
    "start_time": "2023-03-17T11:17:11.349Z"
   },
   {
    "duration": 0,
    "start_time": "2023-03-17T11:17:11.350Z"
   },
   {
    "duration": 7,
    "start_time": "2023-03-17T11:17:57.655Z"
   },
   {
    "duration": 6,
    "start_time": "2023-03-17T11:18:01.659Z"
   },
   {
    "duration": 9,
    "start_time": "2023-03-17T11:18:05.008Z"
   },
   {
    "duration": 22,
    "start_time": "2023-03-17T11:18:07.905Z"
   },
   {
    "duration": 4,
    "start_time": "2023-03-17T11:18:10.819Z"
   },
   {
    "duration": 8,
    "start_time": "2023-03-17T11:18:22.237Z"
   },
   {
    "duration": 8,
    "start_time": "2023-03-17T11:18:35.049Z"
   },
   {
    "duration": 7,
    "start_time": "2023-03-17T11:18:38.436Z"
   },
   {
    "duration": 7,
    "start_time": "2023-03-17T11:40:40.074Z"
   },
   {
    "duration": 15,
    "start_time": "2023-03-17T11:40:44.197Z"
   },
   {
    "duration": 10,
    "start_time": "2023-03-17T11:40:58.806Z"
   },
   {
    "duration": 5,
    "start_time": "2023-03-17T11:41:38.252Z"
   },
   {
    "duration": 583,
    "start_time": "2023-03-17T11:42:45.090Z"
   },
   {
    "duration": 7,
    "start_time": "2023-03-17T11:48:46.676Z"
   },
   {
    "duration": 7,
    "start_time": "2023-03-17T11:48:55.065Z"
   },
   {
    "duration": 7,
    "start_time": "2023-03-17T11:48:59.630Z"
   },
   {
    "duration": 4,
    "start_time": "2023-03-17T11:49:03.266Z"
   },
   {
    "duration": 7,
    "start_time": "2023-03-17T11:49:06.421Z"
   },
   {
    "duration": 6,
    "start_time": "2023-03-17T11:49:10.509Z"
   },
   {
    "duration": 6,
    "start_time": "2023-03-17T11:49:13.924Z"
   },
   {
    "duration": 7,
    "start_time": "2023-03-17T11:49:18.919Z"
   },
   {
    "duration": 7,
    "start_time": "2023-03-17T11:49:22.823Z"
   },
   {
    "duration": 8,
    "start_time": "2023-03-17T11:49:27.570Z"
   },
   {
    "duration": 10,
    "start_time": "2023-03-17T11:49:30.914Z"
   },
   {
    "duration": 5,
    "start_time": "2023-03-17T11:49:34.943Z"
   },
   {
    "duration": 7,
    "start_time": "2023-03-17T11:49:39.633Z"
   },
   {
    "duration": 8,
    "start_time": "2023-03-17T11:49:43.928Z"
   },
   {
    "duration": 7,
    "start_time": "2023-03-17T11:49:48.709Z"
   },
   {
    "duration": 6,
    "start_time": "2023-03-17T11:49:52.780Z"
   },
   {
    "duration": 6,
    "start_time": "2023-03-17T11:49:56.018Z"
   },
   {
    "duration": 11,
    "start_time": "2023-03-17T11:49:58.582Z"
   },
   {
    "duration": 8,
    "start_time": "2023-03-17T11:50:01.416Z"
   },
   {
    "duration": 5,
    "start_time": "2023-03-17T11:50:04.720Z"
   },
   {
    "duration": 7,
    "start_time": "2023-03-17T11:50:25.622Z"
   },
   {
    "duration": 8,
    "start_time": "2023-03-17T11:50:31.560Z"
   },
   {
    "duration": 8,
    "start_time": "2023-03-17T11:50:34.540Z"
   },
   {
    "duration": 9,
    "start_time": "2023-03-17T11:51:16.782Z"
   },
   {
    "duration": 6,
    "start_time": "2023-03-17T11:51:31.119Z"
   },
   {
    "duration": 8,
    "start_time": "2023-03-17T11:51:36.023Z"
   },
   {
    "duration": 8,
    "start_time": "2023-03-17T11:52:44.822Z"
   },
   {
    "duration": 6,
    "start_time": "2023-03-17T11:53:05.429Z"
   },
   {
    "duration": 157,
    "start_time": "2023-03-17T11:53:43.474Z"
   },
   {
    "duration": 15,
    "start_time": "2023-03-17T11:53:43.634Z"
   },
   {
    "duration": 2575,
    "start_time": "2023-03-17T11:53:43.651Z"
   },
   {
    "duration": 10,
    "start_time": "2023-03-17T11:53:46.228Z"
   },
   {
    "duration": 38,
    "start_time": "2023-03-17T11:53:46.240Z"
   },
   {
    "duration": 31,
    "start_time": "2023-03-17T11:53:46.279Z"
   },
   {
    "duration": 17,
    "start_time": "2023-03-17T11:53:46.312Z"
   },
   {
    "duration": 6,
    "start_time": "2023-03-17T11:53:46.331Z"
   },
   {
    "duration": 20,
    "start_time": "2023-03-17T11:53:46.339Z"
   },
   {
    "duration": 59,
    "start_time": "2023-03-17T11:53:46.364Z"
   },
   {
    "duration": 0,
    "start_time": "2023-03-17T11:53:46.426Z"
   },
   {
    "duration": 0,
    "start_time": "2023-03-17T11:53:46.428Z"
   },
   {
    "duration": 0,
    "start_time": "2023-03-17T11:53:46.429Z"
   },
   {
    "duration": 0,
    "start_time": "2023-03-17T11:53:46.430Z"
   },
   {
    "duration": 0,
    "start_time": "2023-03-17T11:53:46.431Z"
   },
   {
    "duration": 0,
    "start_time": "2023-03-17T11:53:46.432Z"
   },
   {
    "duration": 0,
    "start_time": "2023-03-17T11:53:46.433Z"
   },
   {
    "duration": 0,
    "start_time": "2023-03-17T11:53:46.434Z"
   },
   {
    "duration": 0,
    "start_time": "2023-03-17T11:53:46.435Z"
   },
   {
    "duration": 0,
    "start_time": "2023-03-17T11:53:46.436Z"
   },
   {
    "duration": 0,
    "start_time": "2023-03-17T11:53:46.437Z"
   },
   {
    "duration": 0,
    "start_time": "2023-03-17T11:53:46.438Z"
   },
   {
    "duration": 1,
    "start_time": "2023-03-17T11:53:46.439Z"
   },
   {
    "duration": 0,
    "start_time": "2023-03-17T11:53:46.441Z"
   },
   {
    "duration": 0,
    "start_time": "2023-03-17T11:53:46.442Z"
   },
   {
    "duration": 0,
    "start_time": "2023-03-17T11:53:46.443Z"
   },
   {
    "duration": 0,
    "start_time": "2023-03-17T11:53:46.445Z"
   },
   {
    "duration": 0,
    "start_time": "2023-03-17T11:53:46.446Z"
   },
   {
    "duration": 0,
    "start_time": "2023-03-17T11:53:46.447Z"
   },
   {
    "duration": 0,
    "start_time": "2023-03-17T11:53:46.448Z"
   },
   {
    "duration": 0,
    "start_time": "2023-03-17T11:53:46.449Z"
   },
   {
    "duration": 0,
    "start_time": "2023-03-17T11:53:46.450Z"
   },
   {
    "duration": 0,
    "start_time": "2023-03-17T11:53:46.452Z"
   },
   {
    "duration": 6,
    "start_time": "2023-03-17T11:54:24.242Z"
   },
   {
    "duration": 6,
    "start_time": "2023-03-17T11:54:28.827Z"
   },
   {
    "duration": 7,
    "start_time": "2023-03-17T11:54:32.151Z"
   },
   {
    "duration": 145,
    "start_time": "2023-03-17T11:54:36.745Z"
   },
   {
    "duration": 22,
    "start_time": "2023-03-17T11:54:36.897Z"
   },
   {
    "duration": 2264,
    "start_time": "2023-03-17T11:54:36.921Z"
   },
   {
    "duration": 20,
    "start_time": "2023-03-17T11:54:39.189Z"
   },
   {
    "duration": 6,
    "start_time": "2023-03-17T11:54:39.212Z"
   },
   {
    "duration": 7,
    "start_time": "2023-03-17T11:54:39.219Z"
   },
   {
    "duration": 7,
    "start_time": "2023-03-17T11:54:39.228Z"
   },
   {
    "duration": 5,
    "start_time": "2023-03-17T11:54:39.236Z"
   },
   {
    "duration": 10,
    "start_time": "2023-03-17T11:54:39.243Z"
   },
   {
    "duration": 40,
    "start_time": "2023-03-17T11:54:39.254Z"
   },
   {
    "duration": 6,
    "start_time": "2023-03-17T11:54:39.305Z"
   },
   {
    "duration": 7,
    "start_time": "2023-03-17T11:54:39.312Z"
   },
   {
    "duration": 8,
    "start_time": "2023-03-17T11:54:39.321Z"
   },
   {
    "duration": 50,
    "start_time": "2023-03-17T11:54:39.331Z"
   },
   {
    "duration": 0,
    "start_time": "2023-03-17T11:54:39.383Z"
   },
   {
    "duration": 0,
    "start_time": "2023-03-17T11:54:39.384Z"
   },
   {
    "duration": 0,
    "start_time": "2023-03-17T11:54:39.385Z"
   },
   {
    "duration": 0,
    "start_time": "2023-03-17T11:54:39.386Z"
   },
   {
    "duration": 0,
    "start_time": "2023-03-17T11:54:39.387Z"
   },
   {
    "duration": 0,
    "start_time": "2023-03-17T11:54:39.393Z"
   },
   {
    "duration": 0,
    "start_time": "2023-03-17T11:54:39.398Z"
   },
   {
    "duration": 0,
    "start_time": "2023-03-17T11:54:39.398Z"
   },
   {
    "duration": 0,
    "start_time": "2023-03-17T11:54:39.399Z"
   },
   {
    "duration": 0,
    "start_time": "2023-03-17T11:54:39.400Z"
   },
   {
    "duration": 0,
    "start_time": "2023-03-17T11:54:39.400Z"
   },
   {
    "duration": 0,
    "start_time": "2023-03-17T11:54:39.401Z"
   },
   {
    "duration": 0,
    "start_time": "2023-03-17T11:54:39.402Z"
   },
   {
    "duration": 0,
    "start_time": "2023-03-17T11:54:39.404Z"
   },
   {
    "duration": 0,
    "start_time": "2023-03-17T11:54:39.407Z"
   },
   {
    "duration": 0,
    "start_time": "2023-03-17T11:54:39.409Z"
   },
   {
    "duration": 0,
    "start_time": "2023-03-17T11:54:39.410Z"
   },
   {
    "duration": 0,
    "start_time": "2023-03-17T11:54:39.411Z"
   },
   {
    "duration": 6,
    "start_time": "2023-03-17T11:54:55.707Z"
   },
   {
    "duration": 10,
    "start_time": "2023-03-17T11:55:02.498Z"
   },
   {
    "duration": 7,
    "start_time": "2023-03-17T11:55:17.355Z"
   },
   {
    "duration": 6,
    "start_time": "2023-03-17T11:55:22.819Z"
   },
   {
    "duration": 7,
    "start_time": "2023-03-17T11:55:27.348Z"
   },
   {
    "duration": 7,
    "start_time": "2023-03-17T11:55:31.078Z"
   },
   {
    "duration": 6,
    "start_time": "2023-03-17T11:55:34.875Z"
   },
   {
    "duration": 7,
    "start_time": "2023-03-17T11:55:38.224Z"
   },
   {
    "duration": 8,
    "start_time": "2023-03-17T11:55:41.754Z"
   },
   {
    "duration": 14,
    "start_time": "2023-03-17T11:55:45.282Z"
   },
   {
    "duration": 9,
    "start_time": "2023-03-17T11:55:49.198Z"
   },
   {
    "duration": 8,
    "start_time": "2023-03-17T11:55:51.745Z"
   },
   {
    "duration": 7,
    "start_time": "2023-03-17T11:55:54.432Z"
   },
   {
    "duration": 7,
    "start_time": "2023-03-17T11:56:03.111Z"
   },
   {
    "duration": 6,
    "start_time": "2023-03-17T11:56:15.460Z"
   },
   {
    "duration": 7,
    "start_time": "2023-03-17T11:57:19.906Z"
   },
   {
    "duration": 7,
    "start_time": "2023-03-17T11:57:28.743Z"
   },
   {
    "duration": 7,
    "start_time": "2023-03-17T11:57:39.307Z"
   },
   {
    "duration": 7,
    "start_time": "2023-03-17T11:58:04.331Z"
   },
   {
    "duration": 7,
    "start_time": "2023-03-17T11:58:23.547Z"
   },
   {
    "duration": 6,
    "start_time": "2023-03-17T11:58:51.255Z"
   },
   {
    "duration": 8,
    "start_time": "2023-03-17T11:58:54.539Z"
   },
   {
    "duration": 12,
    "start_time": "2023-03-17T11:59:07.131Z"
   },
   {
    "duration": 7,
    "start_time": "2023-03-17T11:59:29.431Z"
   },
   {
    "duration": 7,
    "start_time": "2023-03-17T11:59:34.420Z"
   },
   {
    "duration": 7,
    "start_time": "2023-03-17T11:59:40.520Z"
   },
   {
    "duration": 8,
    "start_time": "2023-03-17T11:59:44.479Z"
   },
   {
    "duration": 53,
    "start_time": "2023-03-17T12:00:41.828Z"
   },
   {
    "duration": 6,
    "start_time": "2023-03-17T12:00:50.857Z"
   },
   {
    "duration": 7,
    "start_time": "2023-03-17T12:00:54.755Z"
   },
   {
    "duration": 9,
    "start_time": "2023-03-17T12:03:16.804Z"
   },
   {
    "duration": 10,
    "start_time": "2023-03-17T12:03:22.930Z"
   },
   {
    "duration": 136,
    "start_time": "2023-03-17T12:03:51.323Z"
   },
   {
    "duration": 15,
    "start_time": "2023-03-17T12:03:51.461Z"
   },
   {
    "duration": 2457,
    "start_time": "2023-03-17T12:03:51.492Z"
   },
   {
    "duration": 13,
    "start_time": "2023-03-17T12:03:53.951Z"
   },
   {
    "duration": 22,
    "start_time": "2023-03-17T12:03:53.967Z"
   },
   {
    "duration": 7,
    "start_time": "2023-03-17T12:03:53.991Z"
   },
   {
    "duration": 23,
    "start_time": "2023-03-17T12:03:54.000Z"
   },
   {
    "duration": 9,
    "start_time": "2023-03-17T12:03:54.025Z"
   },
   {
    "duration": 6,
    "start_time": "2023-03-17T12:03:54.036Z"
   },
   {
    "duration": 7,
    "start_time": "2023-03-17T12:03:54.044Z"
   },
   {
    "duration": 14,
    "start_time": "2023-03-17T12:03:54.052Z"
   },
   {
    "duration": 29,
    "start_time": "2023-03-17T12:03:54.068Z"
   },
   {
    "duration": 9,
    "start_time": "2023-03-17T12:03:54.099Z"
   },
   {
    "duration": 7,
    "start_time": "2023-03-17T12:03:54.114Z"
   },
   {
    "duration": 17,
    "start_time": "2023-03-17T12:03:54.123Z"
   },
   {
    "duration": 24,
    "start_time": "2023-03-17T12:03:54.141Z"
   },
   {
    "duration": 40,
    "start_time": "2023-03-17T12:03:54.167Z"
   },
   {
    "duration": 16,
    "start_time": "2023-03-17T12:03:54.210Z"
   },
   {
    "duration": 9,
    "start_time": "2023-03-17T12:03:54.228Z"
   },
   {
    "duration": 9,
    "start_time": "2023-03-17T12:03:54.239Z"
   },
   {
    "duration": 6,
    "start_time": "2023-03-17T12:03:54.250Z"
   },
   {
    "duration": 11,
    "start_time": "2023-03-17T12:03:54.257Z"
   },
   {
    "duration": 39,
    "start_time": "2023-03-17T12:03:54.270Z"
   },
   {
    "duration": 8,
    "start_time": "2023-03-17T12:03:54.315Z"
   },
   {
    "duration": 11,
    "start_time": "2023-03-17T12:03:54.324Z"
   },
   {
    "duration": 19,
    "start_time": "2023-03-17T12:03:54.337Z"
   },
   {
    "duration": 9,
    "start_time": "2023-03-17T12:03:54.358Z"
   },
   {
    "duration": 11,
    "start_time": "2023-03-17T12:03:57.762Z"
   },
   {
    "duration": 11,
    "start_time": "2023-03-17T12:05:24.631Z"
   },
   {
    "duration": 7,
    "start_time": "2023-03-17T12:05:58.978Z"
   },
   {
    "duration": 9,
    "start_time": "2023-03-17T12:06:52.577Z"
   },
   {
    "duration": 11,
    "start_time": "2023-03-17T12:07:02.513Z"
   },
   {
    "duration": 13,
    "start_time": "2023-03-17T12:07:13.329Z"
   },
   {
    "duration": 7,
    "start_time": "2023-03-17T12:08:48.372Z"
   },
   {
    "duration": 8,
    "start_time": "2023-03-17T12:09:35.724Z"
   },
   {
    "duration": 7,
    "start_time": "2023-03-17T12:09:44.082Z"
   },
   {
    "duration": 9,
    "start_time": "2023-03-17T12:09:47.453Z"
   },
   {
    "duration": 150,
    "start_time": "2023-03-17T12:10:04.826Z"
   },
   {
    "duration": 33,
    "start_time": "2023-03-17T12:10:04.999Z"
   },
   {
    "duration": 2513,
    "start_time": "2023-03-17T12:10:05.034Z"
   },
   {
    "duration": 13,
    "start_time": "2023-03-17T12:10:07.551Z"
   },
   {
    "duration": 32,
    "start_time": "2023-03-17T12:10:07.566Z"
   },
   {
    "duration": 22,
    "start_time": "2023-03-17T12:10:07.603Z"
   },
   {
    "duration": 13,
    "start_time": "2023-03-17T12:10:07.630Z"
   },
   {
    "duration": 22,
    "start_time": "2023-03-17T12:10:07.645Z"
   },
   {
    "duration": 8,
    "start_time": "2023-03-17T12:10:07.669Z"
   },
   {
    "duration": 13,
    "start_time": "2023-03-17T12:10:07.682Z"
   },
   {
    "duration": 27,
    "start_time": "2023-03-17T12:10:07.697Z"
   },
   {
    "duration": 27,
    "start_time": "2023-03-17T12:10:07.726Z"
   },
   {
    "duration": 27,
    "start_time": "2023-03-17T12:10:07.755Z"
   },
   {
    "duration": 27,
    "start_time": "2023-03-17T12:10:07.784Z"
   },
   {
    "duration": 16,
    "start_time": "2023-03-17T12:10:07.820Z"
   },
   {
    "duration": 22,
    "start_time": "2023-03-17T12:10:07.839Z"
   },
   {
    "duration": 22,
    "start_time": "2023-03-17T12:10:07.863Z"
   },
   {
    "duration": 17,
    "start_time": "2023-03-17T12:10:07.886Z"
   },
   {
    "duration": 21,
    "start_time": "2023-03-17T12:10:07.904Z"
   },
   {
    "duration": 13,
    "start_time": "2023-03-17T12:10:07.930Z"
   },
   {
    "duration": 21,
    "start_time": "2023-03-17T12:10:07.945Z"
   },
   {
    "duration": 16,
    "start_time": "2023-03-17T12:10:07.968Z"
   },
   {
    "duration": 36,
    "start_time": "2023-03-17T12:10:07.987Z"
   },
   {
    "duration": 27,
    "start_time": "2023-03-17T12:10:08.024Z"
   },
   {
    "duration": 47,
    "start_time": "2023-03-17T12:10:08.053Z"
   },
   {
    "duration": 10,
    "start_time": "2023-03-17T12:10:08.104Z"
   },
   {
    "duration": 11,
    "start_time": "2023-03-17T12:10:08.117Z"
   },
   {
    "duration": 8,
    "start_time": "2023-03-17T12:10:08.132Z"
   },
   {
    "duration": 11,
    "start_time": "2023-03-17T12:10:08.142Z"
   },
   {
    "duration": 8,
    "start_time": "2023-03-17T12:10:12.154Z"
   },
   {
    "duration": 7,
    "start_time": "2023-03-17T12:10:16.962Z"
   },
   {
    "duration": 9,
    "start_time": "2023-03-17T12:10:28.028Z"
   },
   {
    "duration": 106,
    "start_time": "2023-03-17T12:13:30.158Z"
   },
   {
    "duration": 7,
    "start_time": "2023-03-17T12:13:59.259Z"
   },
   {
    "duration": 7,
    "start_time": "2023-03-17T12:14:10.925Z"
   },
   {
    "duration": 22,
    "start_time": "2023-03-17T12:14:15.385Z"
   },
   {
    "duration": 7,
    "start_time": "2023-03-17T12:14:55.182Z"
   },
   {
    "duration": 8,
    "start_time": "2023-03-17T12:15:00.261Z"
   },
   {
    "duration": 22,
    "start_time": "2023-03-17T12:18:12.554Z"
   },
   {
    "duration": 13,
    "start_time": "2023-03-17T12:18:22.418Z"
   },
   {
    "duration": 14,
    "start_time": "2023-03-17T12:31:01.063Z"
   },
   {
    "duration": 8,
    "start_time": "2023-03-17T12:33:30.834Z"
   },
   {
    "duration": 6,
    "start_time": "2023-03-17T12:33:34.723Z"
   },
   {
    "duration": 15,
    "start_time": "2023-03-17T12:33:41.853Z"
   },
   {
    "duration": 8,
    "start_time": "2023-03-17T12:35:52.467Z"
   },
   {
    "duration": 18,
    "start_time": "2023-03-17T12:36:02.970Z"
   },
   {
    "duration": 51,
    "start_time": "2023-03-17T13:27:34.437Z"
   },
   {
    "duration": 67,
    "start_time": "2023-03-17T13:27:36.076Z"
   },
   {
    "duration": 16,
    "start_time": "2023-03-17T13:29:36.089Z"
   },
   {
    "duration": 8,
    "start_time": "2023-03-17T13:29:43.348Z"
   },
   {
    "duration": 10,
    "start_time": "2023-03-17T13:30:04.710Z"
   },
   {
    "duration": 8,
    "start_time": "2023-03-17T13:31:41.675Z"
   },
   {
    "duration": 11,
    "start_time": "2023-03-17T13:31:48.659Z"
   },
   {
    "duration": 10,
    "start_time": "2023-03-17T13:32:41.722Z"
   },
   {
    "duration": 9,
    "start_time": "2023-03-17T13:32:54.813Z"
   },
   {
    "duration": 6,
    "start_time": "2023-03-17T13:55:13.899Z"
   },
   {
    "duration": 8,
    "start_time": "2023-03-17T13:56:50.518Z"
   },
   {
    "duration": 9,
    "start_time": "2023-03-17T13:57:03.530Z"
   },
   {
    "duration": 8,
    "start_time": "2023-03-17T13:57:10.713Z"
   },
   {
    "duration": 3,
    "start_time": "2023-03-17T14:11:07.369Z"
   },
   {
    "duration": 8,
    "start_time": "2023-03-17T14:11:13.255Z"
   },
   {
    "duration": 8,
    "start_time": "2023-03-17T14:11:23.073Z"
   },
   {
    "duration": 5,
    "start_time": "2023-03-17T14:11:56.247Z"
   },
   {
    "duration": 23,
    "start_time": "2023-03-17T14:12:06.926Z"
   },
   {
    "duration": 10,
    "start_time": "2023-03-17T14:12:42.330Z"
   },
   {
    "duration": 13,
    "start_time": "2023-03-17T14:13:20.762Z"
   },
   {
    "duration": 5,
    "start_time": "2023-03-17T14:13:28.133Z"
   },
   {
    "duration": 28,
    "start_time": "2023-03-17T14:13:35.811Z"
   },
   {
    "duration": 5,
    "start_time": "2023-03-17T14:18:39.522Z"
   },
   {
    "duration": 66,
    "start_time": "2023-03-17T14:18:47.759Z"
   },
   {
    "duration": 19,
    "start_time": "2023-03-17T14:19:14.977Z"
   },
   {
    "duration": 38,
    "start_time": "2023-03-17T14:19:30.141Z"
   },
   {
    "duration": 34,
    "start_time": "2023-03-17T14:28:11.803Z"
   },
   {
    "duration": 40,
    "start_time": "2023-03-17T14:28:34.343Z"
   },
   {
    "duration": 5,
    "start_time": "2023-03-17T14:32:34.637Z"
   },
   {
    "duration": 9,
    "start_time": "2023-03-17T14:34:15.867Z"
   },
   {
    "duration": 60,
    "start_time": "2023-03-17T14:35:02.355Z"
   },
   {
    "duration": 82,
    "start_time": "2023-03-17T14:35:19.794Z"
   },
   {
    "duration": 8,
    "start_time": "2023-03-17T14:35:47.652Z"
   },
   {
    "duration": 71,
    "start_time": "2023-03-17T14:36:17.713Z"
   },
   {
    "duration": 59,
    "start_time": "2023-03-17T14:36:24.376Z"
   },
   {
    "duration": 803,
    "start_time": "2023-03-17T14:36:30.913Z"
   },
   {
    "duration": 7,
    "start_time": "2023-03-17T14:38:40.737Z"
   },
   {
    "duration": 5,
    "start_time": "2023-03-17T14:38:46.313Z"
   },
   {
    "duration": 7,
    "start_time": "2023-03-17T14:38:57.657Z"
   },
   {
    "duration": 1139,
    "start_time": "2023-03-17T15:23:26.334Z"
   },
   {
    "duration": 1211,
    "start_time": "2023-03-17T15:23:40.064Z"
   },
   {
    "duration": 6,
    "start_time": "2023-03-17T15:23:50.535Z"
   },
   {
    "duration": 8,
    "start_time": "2023-03-17T15:24:04.644Z"
   },
   {
    "duration": 4,
    "start_time": "2023-03-17T15:24:29.845Z"
   },
   {
    "duration": 9,
    "start_time": "2023-03-17T15:57:02.773Z"
   },
   {
    "duration": 19,
    "start_time": "2023-03-17T15:57:42.635Z"
   },
   {
    "duration": 9,
    "start_time": "2023-03-17T15:59:45.717Z"
   },
   {
    "duration": 16,
    "start_time": "2023-03-17T16:00:10.566Z"
   },
   {
    "duration": 161,
    "start_time": "2023-03-17T16:00:25.069Z"
   },
   {
    "duration": 12,
    "start_time": "2023-03-17T16:00:34.024Z"
   },
   {
    "duration": 15,
    "start_time": "2023-03-17T16:00:44.259Z"
   },
   {
    "duration": 10,
    "start_time": "2023-03-17T16:00:52.530Z"
   },
   {
    "duration": 2,
    "start_time": "2023-03-17T16:01:31.852Z"
   },
   {
    "duration": 82,
    "start_time": "2023-03-17T16:06:57.111Z"
   },
   {
    "duration": 10,
    "start_time": "2023-03-17T16:16:00.917Z"
   },
   {
    "duration": 8,
    "start_time": "2023-03-17T16:16:13.936Z"
   },
   {
    "duration": 8,
    "start_time": "2023-03-17T16:16:40.919Z"
   },
   {
    "duration": 81,
    "start_time": "2023-03-17T16:17:07.119Z"
   },
   {
    "duration": 11,
    "start_time": "2023-03-17T16:17:25.705Z"
   },
   {
    "duration": 4,
    "start_time": "2023-03-17T16:17:39.919Z"
   },
   {
    "duration": 3,
    "start_time": "2023-03-17T16:42:07.273Z"
   },
   {
    "duration": 8,
    "start_time": "2023-03-17T16:45:22.499Z"
   },
   {
    "duration": 6,
    "start_time": "2023-03-17T16:45:34.247Z"
   },
   {
    "duration": 157,
    "start_time": "2023-03-17T16:49:30.840Z"
   },
   {
    "duration": 153,
    "start_time": "2023-03-17T16:49:46.666Z"
   },
   {
    "duration": 171,
    "start_time": "2023-03-17T16:49:54.532Z"
   },
   {
    "duration": 184,
    "start_time": "2023-03-17T16:50:10.132Z"
   },
   {
    "duration": 195,
    "start_time": "2023-03-17T16:50:34.798Z"
   },
   {
    "duration": 8,
    "start_time": "2023-03-17T16:56:08.493Z"
   },
   {
    "duration": 16,
    "start_time": "2023-03-17T17:17:45.380Z"
   },
   {
    "duration": 14,
    "start_time": "2023-03-17T17:18:21.103Z"
   },
   {
    "duration": 19,
    "start_time": "2023-03-17T17:18:48.680Z"
   },
   {
    "duration": 17,
    "start_time": "2023-03-17T17:19:07.614Z"
   },
   {
    "duration": 50,
    "start_time": "2023-03-17T17:19:31.405Z"
   },
   {
    "duration": 51,
    "start_time": "2023-03-17T17:19:47.005Z"
   },
   {
    "duration": 17,
    "start_time": "2023-03-17T17:19:56.335Z"
   },
   {
    "duration": 17,
    "start_time": "2023-03-17T17:20:17.993Z"
   },
   {
    "duration": 15,
    "start_time": "2023-03-17T17:20:29.713Z"
   },
   {
    "duration": 14,
    "start_time": "2023-03-17T18:12:06.926Z"
   },
   {
    "duration": 57,
    "start_time": "2023-03-17T18:12:46.291Z"
   },
   {
    "duration": 14,
    "start_time": "2023-03-17T18:12:54.188Z"
   },
   {
    "duration": 15,
    "start_time": "2023-03-17T18:13:16.353Z"
   },
   {
    "duration": 16,
    "start_time": "2023-03-17T18:27:35.481Z"
   },
   {
    "duration": 15,
    "start_time": "2023-03-17T18:28:14.040Z"
   },
   {
    "duration": 13,
    "start_time": "2023-03-17T18:28:42.447Z"
   },
   {
    "duration": 7,
    "start_time": "2023-03-17T18:29:20.749Z"
   },
   {
    "duration": 15,
    "start_time": "2023-03-17T18:29:39.161Z"
   },
   {
    "duration": 19,
    "start_time": "2023-03-17T18:30:03.013Z"
   },
   {
    "duration": 29,
    "start_time": "2023-03-17T18:30:18.781Z"
   },
   {
    "duration": 14,
    "start_time": "2023-03-17T18:32:01.662Z"
   },
   {
    "duration": 15,
    "start_time": "2023-03-17T18:32:17.168Z"
   },
   {
    "duration": 14,
    "start_time": "2023-03-17T18:33:57.381Z"
   },
   {
    "duration": 19,
    "start_time": "2023-03-17T18:36:37.333Z"
   },
   {
    "duration": 7,
    "start_time": "2023-03-17T18:47:23.893Z"
   },
   {
    "duration": 37,
    "start_time": "2023-03-17T18:47:31.089Z"
   },
   {
    "duration": 136,
    "start_time": "2023-03-17T18:53:45.437Z"
   },
   {
    "duration": 149,
    "start_time": "2023-03-17T18:54:13.603Z"
   },
   {
    "duration": 147,
    "start_time": "2023-03-17T18:54:39.448Z"
   },
   {
    "duration": 155,
    "start_time": "2023-03-17T18:56:54.719Z"
   },
   {
    "duration": 129,
    "start_time": "2023-03-17T18:57:05.716Z"
   },
   {
    "duration": 153,
    "start_time": "2023-03-17T18:57:30.228Z"
   },
   {
    "duration": 163,
    "start_time": "2023-03-17T18:57:41.696Z"
   },
   {
    "duration": 132,
    "start_time": "2023-03-17T18:58:08.913Z"
   },
   {
    "duration": 286,
    "start_time": "2023-03-17T19:00:21.537Z"
   },
   {
    "duration": 215,
    "start_time": "2023-03-17T19:00:39.344Z"
   },
   {
    "duration": 147,
    "start_time": "2023-03-17T20:01:43.398Z"
   },
   {
    "duration": 179,
    "start_time": "2023-03-17T20:03:46.167Z"
   },
   {
    "duration": 182,
    "start_time": "2023-03-17T20:04:35.633Z"
   },
   {
    "duration": 154,
    "start_time": "2023-03-17T20:04:47.186Z"
   },
   {
    "duration": 323,
    "start_time": "2023-03-17T20:06:18.865Z"
   },
   {
    "duration": 142,
    "start_time": "2023-03-17T20:06:33.378Z"
   },
   {
    "duration": 153,
    "start_time": "2023-03-17T20:14:01.534Z"
   },
   {
    "duration": 14,
    "start_time": "2023-03-17T20:14:10.436Z"
   },
   {
    "duration": 147,
    "start_time": "2023-03-17T20:22:09.356Z"
   },
   {
    "duration": 134,
    "start_time": "2023-03-17T20:22:16.600Z"
   },
   {
    "duration": 191,
    "start_time": "2023-03-17T20:22:27.827Z"
   },
   {
    "duration": 7,
    "start_time": "2023-03-18T04:53:51.000Z"
   },
   {
    "duration": 779,
    "start_time": "2023-03-18T04:53:59.033Z"
   },
   {
    "duration": 17,
    "start_time": "2023-03-18T04:53:59.815Z"
   },
   {
    "duration": 2652,
    "start_time": "2023-03-18T04:53:59.834Z"
   },
   {
    "duration": 16,
    "start_time": "2023-03-18T04:54:02.490Z"
   },
   {
    "duration": 45,
    "start_time": "2023-03-18T04:54:02.508Z"
   },
   {
    "duration": 35,
    "start_time": "2023-03-18T04:54:02.555Z"
   },
   {
    "duration": 33,
    "start_time": "2023-03-18T04:54:02.592Z"
   },
   {
    "duration": 16,
    "start_time": "2023-03-18T04:54:02.627Z"
   },
   {
    "duration": 37,
    "start_time": "2023-03-18T04:54:02.646Z"
   },
   {
    "duration": 26,
    "start_time": "2023-03-18T04:54:02.687Z"
   },
   {
    "duration": 12,
    "start_time": "2023-03-18T04:54:02.715Z"
   },
   {
    "duration": 22,
    "start_time": "2023-03-18T04:54:02.729Z"
   },
   {
    "duration": 23,
    "start_time": "2023-03-18T04:54:02.753Z"
   },
   {
    "duration": 39,
    "start_time": "2023-03-18T04:54:02.778Z"
   },
   {
    "duration": 17,
    "start_time": "2023-03-18T04:54:02.819Z"
   },
   {
    "duration": 25,
    "start_time": "2023-03-18T04:54:02.839Z"
   },
   {
    "duration": 12,
    "start_time": "2023-03-18T04:54:02.866Z"
   },
   {
    "duration": 13,
    "start_time": "2023-03-18T04:54:02.880Z"
   },
   {
    "duration": 14,
    "start_time": "2023-03-18T04:54:02.895Z"
   },
   {
    "duration": 12,
    "start_time": "2023-03-18T04:54:02.911Z"
   },
   {
    "duration": 10,
    "start_time": "2023-03-18T04:54:02.925Z"
   },
   {
    "duration": 17,
    "start_time": "2023-03-18T04:54:02.937Z"
   },
   {
    "duration": 25,
    "start_time": "2023-03-18T04:54:02.956Z"
   },
   {
    "duration": 14,
    "start_time": "2023-03-18T04:54:02.983Z"
   },
   {
    "duration": 9,
    "start_time": "2023-03-18T04:54:02.999Z"
   },
   {
    "duration": 11,
    "start_time": "2023-03-18T04:54:03.010Z"
   },
   {
    "duration": 13,
    "start_time": "2023-03-18T04:54:03.024Z"
   },
   {
    "duration": 21,
    "start_time": "2023-03-18T04:54:03.042Z"
   },
   {
    "duration": 24,
    "start_time": "2023-03-18T04:54:03.064Z"
   },
   {
    "duration": 26,
    "start_time": "2023-03-18T04:54:03.089Z"
   },
   {
    "duration": 27,
    "start_time": "2023-03-18T04:54:03.118Z"
   },
   {
    "duration": 11,
    "start_time": "2023-03-18T04:54:03.147Z"
   },
   {
    "duration": 80,
    "start_time": "2023-03-18T04:54:03.160Z"
   },
   {
    "duration": 73,
    "start_time": "2023-03-18T04:54:03.242Z"
   },
   {
    "duration": 21,
    "start_time": "2023-03-18T04:54:03.318Z"
   },
   {
    "duration": 29,
    "start_time": "2023-03-18T04:54:03.341Z"
   },
   {
    "duration": 86,
    "start_time": "2023-03-18T04:54:03.372Z"
   },
   {
    "duration": 5,
    "start_time": "2023-03-18T04:54:03.460Z"
   },
   {
    "duration": 22,
    "start_time": "2023-03-18T04:54:03.467Z"
   },
   {
    "duration": 29,
    "start_time": "2023-03-18T04:54:03.491Z"
   },
   {
    "duration": 41,
    "start_time": "2023-03-18T04:54:03.522Z"
   },
   {
    "duration": 229,
    "start_time": "2023-03-18T04:54:03.565Z"
   },
   {
    "duration": 140,
    "start_time": "2023-03-18T04:54:03.796Z"
   },
   {
    "duration": 73,
    "start_time": "2023-03-18T04:58:46.575Z"
   },
   {
    "duration": 70,
    "start_time": "2023-03-18T04:58:54.816Z"
   },
   {
    "duration": 137,
    "start_time": "2023-03-18T04:59:10.816Z"
   },
   {
    "duration": 138,
    "start_time": "2023-03-18T04:59:17.676Z"
   },
   {
    "duration": 59,
    "start_time": "2023-03-18T05:06:20.379Z"
   },
   {
    "duration": 21,
    "start_time": "2023-03-18T05:07:38.158Z"
   },
   {
    "duration": 14,
    "start_time": "2023-03-18T05:07:51.946Z"
   },
   {
    "duration": 155,
    "start_time": "2023-03-18T05:17:18.874Z"
   },
   {
    "duration": 152,
    "start_time": "2023-03-18T05:17:35.180Z"
   },
   {
    "duration": 211,
    "start_time": "2023-03-18T05:43:14.585Z"
   },
   {
    "duration": 194,
    "start_time": "2023-03-18T05:43:56.499Z"
   },
   {
    "duration": 188,
    "start_time": "2023-03-18T05:44:13.349Z"
   },
   {
    "duration": 1113,
    "start_time": "2023-03-18T05:44:54.120Z"
   },
   {
    "duration": 180,
    "start_time": "2023-03-18T05:45:02.855Z"
   },
   {
    "duration": 195,
    "start_time": "2023-03-18T05:45:19.846Z"
   },
   {
    "duration": 3,
    "start_time": "2023-03-18T05:46:31.288Z"
   },
   {
    "duration": 246,
    "start_time": "2023-03-18T05:48:51.810Z"
   },
   {
    "duration": 188,
    "start_time": "2023-03-18T05:49:45.900Z"
   },
   {
    "duration": 216,
    "start_time": "2023-03-18T05:49:56.281Z"
   },
   {
    "duration": 316,
    "start_time": "2023-03-18T05:50:06.282Z"
   },
   {
    "duration": 466,
    "start_time": "2023-03-18T05:52:32.230Z"
   },
   {
    "duration": 366,
    "start_time": "2023-03-18T05:52:57.866Z"
   },
   {
    "duration": 59,
    "start_time": "2023-03-18T05:53:42.724Z"
   },
   {
    "duration": 16,
    "start_time": "2023-03-18T05:55:15.095Z"
   },
   {
    "duration": 59,
    "start_time": "2023-03-18T05:56:25.855Z"
   },
   {
    "duration": 5,
    "start_time": "2023-03-18T05:57:46.540Z"
   },
   {
    "duration": 61,
    "start_time": "2023-03-18T05:57:47.245Z"
   },
   {
    "duration": 48,
    "start_time": "2023-03-18T05:58:44.109Z"
   },
   {
    "duration": 2,
    "start_time": "2023-03-18T06:00:39.919Z"
   },
   {
    "duration": 2,
    "start_time": "2023-03-18T06:03:20.061Z"
   },
   {
    "duration": 146,
    "start_time": "2023-03-18T06:03:40.879Z"
   },
   {
    "duration": 183,
    "start_time": "2023-03-18T06:03:48.809Z"
   },
   {
    "duration": 165,
    "start_time": "2023-03-18T06:03:58.611Z"
   },
   {
    "duration": 183,
    "start_time": "2023-03-18T06:05:11.576Z"
   },
   {
    "duration": 174,
    "start_time": "2023-03-18T06:05:20.903Z"
   },
   {
    "duration": 171,
    "start_time": "2023-03-18T06:05:30.280Z"
   },
   {
    "duration": 142,
    "start_time": "2023-03-18T06:06:31.865Z"
   },
   {
    "duration": 137,
    "start_time": "2023-03-18T06:06:49.208Z"
   },
   {
    "duration": 13,
    "start_time": "2023-03-18T06:09:41.527Z"
   },
   {
    "duration": 12,
    "start_time": "2023-03-18T06:10:39.399Z"
   },
   {
    "duration": 6,
    "start_time": "2023-03-18T06:11:31.405Z"
   },
   {
    "duration": 12,
    "start_time": "2023-03-18T06:12:13.034Z"
   },
   {
    "duration": 7,
    "start_time": "2023-03-18T06:12:21.930Z"
   },
   {
    "duration": 15,
    "start_time": "2023-03-18T06:12:46.812Z"
   },
   {
    "duration": 10,
    "start_time": "2023-03-18T06:12:53.213Z"
   },
   {
    "duration": 11,
    "start_time": "2023-03-18T06:13:29.138Z"
   },
   {
    "duration": 8,
    "start_time": "2023-03-18T06:13:36.711Z"
   },
   {
    "duration": 6,
    "start_time": "2023-03-18T06:13:42.862Z"
   },
   {
    "duration": 11,
    "start_time": "2023-03-18T06:16:13.333Z"
   },
   {
    "duration": 12,
    "start_time": "2023-03-18T06:17:17.928Z"
   },
   {
    "duration": 9,
    "start_time": "2023-03-18T06:17:35.511Z"
   },
   {
    "duration": 1,
    "start_time": "2023-03-18T06:17:51.497Z"
   },
   {
    "duration": 1183,
    "start_time": "2023-03-18T06:18:26.932Z"
   },
   {
    "duration": 11,
    "start_time": "2023-03-18T06:19:48.017Z"
   },
   {
    "duration": 10,
    "start_time": "2023-03-18T06:20:01.955Z"
   },
   {
    "duration": 11,
    "start_time": "2023-03-18T06:20:36.079Z"
   },
   {
    "duration": 5,
    "start_time": "2023-03-18T06:20:53.168Z"
   },
   {
    "duration": 6,
    "start_time": "2023-03-18T06:21:36.039Z"
   },
   {
    "duration": 10,
    "start_time": "2023-03-18T06:21:41.239Z"
   },
   {
    "duration": 2022,
    "start_time": "2023-03-18T06:21:58.555Z"
   },
   {
    "duration": 15,
    "start_time": "2023-03-18T06:24:13.291Z"
   },
   {
    "duration": 148,
    "start_time": "2023-03-18T06:24:49.050Z"
   },
   {
    "duration": 110,
    "start_time": "2023-03-18T06:25:13.726Z"
   },
   {
    "duration": 138,
    "start_time": "2023-03-18T06:25:19.915Z"
   },
   {
    "duration": 153,
    "start_time": "2023-03-18T06:26:13.432Z"
   },
   {
    "duration": 154,
    "start_time": "2023-03-18T06:26:24.512Z"
   },
   {
    "duration": 286,
    "start_time": "2023-03-18T06:26:33.398Z"
   },
   {
    "duration": 155,
    "start_time": "2023-03-18T06:26:40.474Z"
   },
   {
    "duration": 154,
    "start_time": "2023-03-18T06:26:46.650Z"
   },
   {
    "duration": 149,
    "start_time": "2023-03-18T06:26:51.400Z"
   },
   {
    "duration": 134,
    "start_time": "2023-03-18T06:27:04.023Z"
   },
   {
    "duration": 3,
    "start_time": "2023-03-18T06:28:27.814Z"
   },
   {
    "duration": 162,
    "start_time": "2023-03-18T06:32:58.182Z"
   },
   {
    "duration": 202,
    "start_time": "2023-03-18T06:33:06.399Z"
   },
   {
    "duration": 150,
    "start_time": "2023-03-18T06:33:15.583Z"
   },
   {
    "duration": 144,
    "start_time": "2023-03-18T06:33:24.008Z"
   },
   {
    "duration": 141,
    "start_time": "2023-03-18T06:33:37.495Z"
   },
   {
    "duration": 154,
    "start_time": "2023-03-18T06:33:45.367Z"
   },
   {
    "duration": 1579,
    "start_time": "2023-03-18T06:36:31.237Z"
   },
   {
    "duration": 167,
    "start_time": "2023-03-18T06:36:46.072Z"
   },
   {
    "duration": 148,
    "start_time": "2023-03-18T06:37:31.982Z"
   },
   {
    "duration": 127,
    "start_time": "2023-03-18T06:37:47.502Z"
   },
   {
    "duration": 115,
    "start_time": "2023-03-18T06:37:56.192Z"
   },
   {
    "duration": 115,
    "start_time": "2023-03-18T06:38:07.089Z"
   },
   {
    "duration": 3,
    "start_time": "2023-03-18T06:48:08.132Z"
   },
   {
    "duration": 142,
    "start_time": "2023-03-18T06:49:21.159Z"
   },
   {
    "duration": 142,
    "start_time": "2023-03-18T06:49:29.240Z"
   },
   {
    "duration": 153,
    "start_time": "2023-03-18T06:50:09.367Z"
   },
   {
    "duration": 167,
    "start_time": "2023-03-18T06:50:22.573Z"
   },
   {
    "duration": 155,
    "start_time": "2023-03-18T06:51:02.059Z"
   },
   {
    "duration": 141,
    "start_time": "2023-03-18T06:51:13.212Z"
   },
   {
    "duration": 131,
    "start_time": "2023-03-18T06:51:20.813Z"
   },
   {
    "duration": 131,
    "start_time": "2023-03-18T06:51:30.891Z"
   },
   {
    "duration": 311,
    "start_time": "2023-03-18T06:51:40.323Z"
   },
   {
    "duration": 148,
    "start_time": "2023-03-18T06:51:49.294Z"
   },
   {
    "duration": 173,
    "start_time": "2023-03-18T06:52:15.000Z"
   },
   {
    "duration": 187,
    "start_time": "2023-03-18T06:52:15.178Z"
   },
   {
    "duration": 139,
    "start_time": "2023-03-18T06:52:30.724Z"
   },
   {
    "duration": 157,
    "start_time": "2023-03-18T06:53:01.856Z"
   },
   {
    "duration": 138,
    "start_time": "2023-03-18T06:53:12.598Z"
   },
   {
    "duration": 150,
    "start_time": "2023-03-18T06:53:44.308Z"
   },
   {
    "duration": 147,
    "start_time": "2023-03-18T06:53:58.569Z"
   },
   {
    "duration": 155,
    "start_time": "2023-03-18T06:54:05.234Z"
   },
   {
    "duration": 147,
    "start_time": "2023-03-18T06:54:14.025Z"
   },
   {
    "duration": 159,
    "start_time": "2023-03-18T06:54:27.121Z"
   },
   {
    "duration": 3,
    "start_time": "2023-03-18T06:55:50.842Z"
   },
   {
    "duration": 5,
    "start_time": "2023-03-18T06:58:20.811Z"
   },
   {
    "duration": 130,
    "start_time": "2023-03-18T06:58:49.671Z"
   },
   {
    "duration": 149,
    "start_time": "2023-03-18T06:58:57.735Z"
   },
   {
    "duration": 189,
    "start_time": "2023-03-18T06:59:02.444Z"
   },
   {
    "duration": 151,
    "start_time": "2023-03-18T06:59:12.989Z"
   },
   {
    "duration": 158,
    "start_time": "2023-03-18T06:59:29.119Z"
   },
   {
    "duration": 148,
    "start_time": "2023-03-18T07:01:28.104Z"
   },
   {
    "duration": 137,
    "start_time": "2023-03-18T07:01:37.131Z"
   },
   {
    "duration": 172,
    "start_time": "2023-03-18T07:01:48.778Z"
   },
   {
    "duration": 181,
    "start_time": "2023-03-18T07:01:59.385Z"
   },
   {
    "duration": 196,
    "start_time": "2023-03-18T07:02:08.817Z"
   },
   {
    "duration": 142,
    "start_time": "2023-03-18T07:02:19.417Z"
   },
   {
    "duration": 2,
    "start_time": "2023-03-18T07:39:14.340Z"
   },
   {
    "duration": 2,
    "start_time": "2023-03-18T07:40:26.157Z"
   },
   {
    "duration": 43,
    "start_time": "2023-03-18T07:44:47.699Z"
   },
   {
    "duration": 7,
    "start_time": "2023-03-18T07:45:05.449Z"
   },
   {
    "duration": 12,
    "start_time": "2023-03-18T07:45:10.746Z"
   },
   {
    "duration": 66,
    "start_time": "2023-03-18T07:47:22.575Z"
   },
   {
    "duration": 17,
    "start_time": "2023-03-18T07:51:59.770Z"
   },
   {
    "duration": 89,
    "start_time": "2023-03-18T07:53:32.935Z"
   },
   {
    "duration": 11,
    "start_time": "2023-03-18T07:53:52.601Z"
   },
   {
    "duration": 22,
    "start_time": "2023-03-18T07:55:12.097Z"
   },
   {
    "duration": 15,
    "start_time": "2023-03-18T07:55:21.137Z"
   },
   {
    "duration": 9,
    "start_time": "2023-03-18T07:57:58.357Z"
   },
   {
    "duration": 7,
    "start_time": "2023-03-18T07:58:36.091Z"
   },
   {
    "duration": 8,
    "start_time": "2023-03-18T07:58:45.954Z"
   },
   {
    "duration": 10,
    "start_time": "2023-03-18T07:58:53.470Z"
   },
   {
    "duration": 295,
    "start_time": "2023-03-18T07:58:56.634Z"
   },
   {
    "duration": 304,
    "start_time": "2023-03-18T08:03:39.230Z"
   },
   {
    "duration": 215,
    "start_time": "2023-03-18T08:04:11.609Z"
   },
   {
    "duration": 10,
    "start_time": "2023-03-18T08:25:38.950Z"
   },
   {
    "duration": 544,
    "start_time": "2023-03-18T08:25:58.063Z"
   },
   {
    "duration": 10,
    "start_time": "2023-03-18T08:25:59.527Z"
   },
   {
    "duration": 15,
    "start_time": "2023-03-18T08:26:11.538Z"
   },
   {
    "duration": 192,
    "start_time": "2023-03-18T08:27:07.361Z"
   },
   {
    "duration": 30548,
    "start_time": "2023-03-18T08:29:55.280Z"
   },
   {
    "duration": 243,
    "start_time": "2023-03-18T08:30:25.831Z"
   },
   {
    "duration": 52,
    "start_time": "2023-03-18T13:29:57.144Z"
   },
   {
    "duration": 525,
    "start_time": "2023-03-18T13:30:06.756Z"
   },
   {
    "duration": 0,
    "start_time": "2023-03-18T13:30:07.284Z"
   },
   {
    "duration": 0,
    "start_time": "2023-03-18T13:30:07.285Z"
   },
   {
    "duration": 0,
    "start_time": "2023-03-18T13:30:07.286Z"
   },
   {
    "duration": 0,
    "start_time": "2023-03-18T13:30:07.287Z"
   },
   {
    "duration": 0,
    "start_time": "2023-03-18T13:30:07.288Z"
   },
   {
    "duration": 0,
    "start_time": "2023-03-18T13:30:07.290Z"
   },
   {
    "duration": 0,
    "start_time": "2023-03-18T13:30:07.291Z"
   },
   {
    "duration": 0,
    "start_time": "2023-03-18T13:30:07.293Z"
   },
   {
    "duration": 0,
    "start_time": "2023-03-18T13:30:07.294Z"
   },
   {
    "duration": 0,
    "start_time": "2023-03-18T13:30:07.296Z"
   },
   {
    "duration": 0,
    "start_time": "2023-03-18T13:30:07.297Z"
   },
   {
    "duration": 0,
    "start_time": "2023-03-18T13:30:07.299Z"
   },
   {
    "duration": 0,
    "start_time": "2023-03-18T13:30:07.300Z"
   },
   {
    "duration": 0,
    "start_time": "2023-03-18T13:30:07.302Z"
   },
   {
    "duration": 0,
    "start_time": "2023-03-18T13:30:07.303Z"
   },
   {
    "duration": 1,
    "start_time": "2023-03-18T13:30:07.304Z"
   },
   {
    "duration": 0,
    "start_time": "2023-03-18T13:30:07.306Z"
   },
   {
    "duration": 0,
    "start_time": "2023-03-18T13:30:07.308Z"
   },
   {
    "duration": 0,
    "start_time": "2023-03-18T13:30:07.309Z"
   },
   {
    "duration": 0,
    "start_time": "2023-03-18T13:30:07.311Z"
   },
   {
    "duration": 0,
    "start_time": "2023-03-18T13:30:07.312Z"
   },
   {
    "duration": 0,
    "start_time": "2023-03-18T13:30:07.314Z"
   },
   {
    "duration": 0,
    "start_time": "2023-03-18T13:30:07.315Z"
   },
   {
    "duration": 0,
    "start_time": "2023-03-18T13:30:07.316Z"
   },
   {
    "duration": 0,
    "start_time": "2023-03-18T13:30:07.318Z"
   },
   {
    "duration": 0,
    "start_time": "2023-03-18T13:30:07.320Z"
   },
   {
    "duration": 0,
    "start_time": "2023-03-18T13:30:07.321Z"
   },
   {
    "duration": 0,
    "start_time": "2023-03-18T13:30:07.322Z"
   },
   {
    "duration": 0,
    "start_time": "2023-03-18T13:30:07.323Z"
   },
   {
    "duration": 0,
    "start_time": "2023-03-18T13:30:07.324Z"
   },
   {
    "duration": 0,
    "start_time": "2023-03-18T13:30:07.378Z"
   },
   {
    "duration": 0,
    "start_time": "2023-03-18T13:30:07.379Z"
   },
   {
    "duration": 0,
    "start_time": "2023-03-18T13:30:07.380Z"
   },
   {
    "duration": 0,
    "start_time": "2023-03-18T13:30:07.381Z"
   },
   {
    "duration": 0,
    "start_time": "2023-03-18T13:30:07.382Z"
   },
   {
    "duration": 0,
    "start_time": "2023-03-18T13:30:07.383Z"
   },
   {
    "duration": 0,
    "start_time": "2023-03-18T13:30:07.384Z"
   },
   {
    "duration": 0,
    "start_time": "2023-03-18T13:30:07.385Z"
   },
   {
    "duration": 0,
    "start_time": "2023-03-18T13:30:07.386Z"
   },
   {
    "duration": 0,
    "start_time": "2023-03-18T13:30:07.387Z"
   },
   {
    "duration": 0,
    "start_time": "2023-03-18T13:30:07.388Z"
   },
   {
    "duration": 0,
    "start_time": "2023-03-18T13:30:07.389Z"
   },
   {
    "duration": 0,
    "start_time": "2023-03-18T13:30:07.390Z"
   },
   {
    "duration": 1,
    "start_time": "2023-03-18T13:30:07.391Z"
   },
   {
    "duration": 0,
    "start_time": "2023-03-18T13:30:07.393Z"
   },
   {
    "duration": 0,
    "start_time": "2023-03-18T13:30:07.394Z"
   },
   {
    "duration": 1,
    "start_time": "2023-03-18T13:30:07.395Z"
   },
   {
    "duration": 13,
    "start_time": "2023-03-18T13:30:07.400Z"
   },
   {
    "duration": 0,
    "start_time": "2023-03-18T13:30:07.415Z"
   },
   {
    "duration": 0,
    "start_time": "2023-03-18T13:30:07.416Z"
   },
   {
    "duration": 0,
    "start_time": "2023-03-18T13:30:07.477Z"
   },
   {
    "duration": 0,
    "start_time": "2023-03-18T13:30:07.479Z"
   },
   {
    "duration": 0,
    "start_time": "2023-03-18T13:30:07.480Z"
   },
   {
    "duration": 0,
    "start_time": "2023-03-18T13:30:07.481Z"
   },
   {
    "duration": 0,
    "start_time": "2023-03-18T13:30:07.482Z"
   },
   {
    "duration": 0,
    "start_time": "2023-03-18T13:30:07.483Z"
   },
   {
    "duration": 0,
    "start_time": "2023-03-18T13:30:07.484Z"
   },
   {
    "duration": 0,
    "start_time": "2023-03-18T13:30:07.485Z"
   },
   {
    "duration": 0,
    "start_time": "2023-03-18T13:30:07.486Z"
   },
   {
    "duration": 0,
    "start_time": "2023-03-18T13:30:07.487Z"
   },
   {
    "duration": 0,
    "start_time": "2023-03-18T13:30:07.488Z"
   },
   {
    "duration": 0,
    "start_time": "2023-03-18T13:30:07.489Z"
   },
   {
    "duration": 9,
    "start_time": "2023-03-18T13:30:07.492Z"
   },
   {
    "duration": 0,
    "start_time": "2023-03-18T13:30:07.503Z"
   },
   {
    "duration": 0,
    "start_time": "2023-03-18T13:30:07.504Z"
   },
   {
    "duration": 0,
    "start_time": "2023-03-18T13:30:07.505Z"
   },
   {
    "duration": 0,
    "start_time": "2023-03-18T13:30:07.506Z"
   },
   {
    "duration": 0,
    "start_time": "2023-03-18T13:30:07.507Z"
   },
   {
    "duration": 0,
    "start_time": "2023-03-18T13:30:07.508Z"
   },
   {
    "duration": 0,
    "start_time": "2023-03-18T13:30:07.510Z"
   },
   {
    "duration": 0,
    "start_time": "2023-03-18T13:30:07.511Z"
   },
   {
    "duration": 0,
    "start_time": "2023-03-18T13:30:07.512Z"
   },
   {
    "duration": 0,
    "start_time": "2023-03-18T13:30:07.513Z"
   },
   {
    "duration": 70,
    "start_time": "2023-03-18T13:30:07.515Z"
   },
   {
    "duration": 0,
    "start_time": "2023-03-18T13:30:07.587Z"
   },
   {
    "duration": 0,
    "start_time": "2023-03-18T13:30:07.588Z"
   },
   {
    "duration": 0,
    "start_time": "2023-03-18T13:30:07.589Z"
   },
   {
    "duration": 0,
    "start_time": "2023-03-18T13:30:07.590Z"
   },
   {
    "duration": 0,
    "start_time": "2023-03-18T13:30:07.591Z"
   },
   {
    "duration": 0,
    "start_time": "2023-03-18T13:30:07.593Z"
   },
   {
    "duration": 7,
    "start_time": "2023-03-18T13:30:07.595Z"
   },
   {
    "duration": 0,
    "start_time": "2023-03-18T13:30:07.604Z"
   },
   {
    "duration": 0,
    "start_time": "2023-03-18T13:30:07.605Z"
   },
   {
    "duration": 47,
    "start_time": "2023-03-18T13:30:42.307Z"
   },
   {
    "duration": 48,
    "start_time": "2023-03-18T13:31:49.142Z"
   },
   {
    "duration": 77,
    "start_time": "2023-03-18T13:33:23.030Z"
   },
   {
    "duration": 49,
    "start_time": "2023-03-18T13:37:13.050Z"
   },
   {
    "duration": 193,
    "start_time": "2023-03-18T13:42:28.003Z"
   },
   {
    "duration": 288,
    "start_time": "2023-03-18T13:42:38.150Z"
   },
   {
    "duration": 22,
    "start_time": "2023-03-18T13:42:38.440Z"
   },
   {
    "duration": 2697,
    "start_time": "2023-03-18T13:42:38.478Z"
   },
   {
    "duration": 26,
    "start_time": "2023-03-18T13:42:41.182Z"
   },
   {
    "duration": 19,
    "start_time": "2023-03-18T13:42:41.211Z"
   },
   {
    "duration": 47,
    "start_time": "2023-03-18T13:42:41.232Z"
   },
   {
    "duration": 42,
    "start_time": "2023-03-18T13:42:41.282Z"
   },
   {
    "duration": 25,
    "start_time": "2023-03-18T13:42:41.326Z"
   },
   {
    "duration": 18,
    "start_time": "2023-03-18T13:42:41.353Z"
   },
   {
    "duration": 34,
    "start_time": "2023-03-18T13:42:41.373Z"
   },
   {
    "duration": 24,
    "start_time": "2023-03-18T13:42:41.409Z"
   },
   {
    "duration": 10,
    "start_time": "2023-03-18T13:42:41.435Z"
   },
   {
    "duration": 22,
    "start_time": "2023-03-18T13:42:41.447Z"
   },
   {
    "duration": 20,
    "start_time": "2023-03-18T13:42:41.473Z"
   },
   {
    "duration": 23,
    "start_time": "2023-03-18T13:42:41.495Z"
   },
   {
    "duration": 22,
    "start_time": "2023-03-18T13:42:41.520Z"
   },
   {
    "duration": 12,
    "start_time": "2023-03-18T13:42:41.545Z"
   },
   {
    "duration": 15,
    "start_time": "2023-03-18T13:42:41.558Z"
   },
   {
    "duration": 21,
    "start_time": "2023-03-18T13:42:41.575Z"
   },
   {
    "duration": 12,
    "start_time": "2023-03-18T13:42:41.598Z"
   },
   {
    "duration": 10,
    "start_time": "2023-03-18T13:42:41.612Z"
   },
   {
    "duration": 9,
    "start_time": "2023-03-18T13:42:41.624Z"
   },
   {
    "duration": 12,
    "start_time": "2023-03-18T13:42:41.635Z"
   },
   {
    "duration": 34,
    "start_time": "2023-03-18T13:42:41.649Z"
   },
   {
    "duration": 15,
    "start_time": "2023-03-18T13:42:41.685Z"
   },
   {
    "duration": 16,
    "start_time": "2023-03-18T13:42:41.702Z"
   },
   {
    "duration": 12,
    "start_time": "2023-03-18T13:42:41.720Z"
   },
   {
    "duration": 12,
    "start_time": "2023-03-18T13:42:41.734Z"
   },
   {
    "duration": 83,
    "start_time": "2023-03-18T13:42:41.748Z"
   },
   {
    "duration": 11,
    "start_time": "2023-03-18T13:42:41.833Z"
   },
   {
    "duration": 15,
    "start_time": "2023-03-18T13:42:41.847Z"
   },
   {
    "duration": 56,
    "start_time": "2023-03-18T13:42:41.864Z"
   },
   {
    "duration": 9,
    "start_time": "2023-03-18T13:42:41.923Z"
   },
   {
    "duration": 20,
    "start_time": "2023-03-18T13:42:41.934Z"
   },
   {
    "duration": 18,
    "start_time": "2023-03-18T13:42:41.956Z"
   },
   {
    "duration": 70,
    "start_time": "2023-03-18T13:42:41.976Z"
   },
   {
    "duration": 5,
    "start_time": "2023-03-18T13:42:42.049Z"
   },
   {
    "duration": 21,
    "start_time": "2023-03-18T13:42:42.056Z"
   },
   {
    "duration": 81,
    "start_time": "2023-03-18T13:42:42.079Z"
   },
   {
    "duration": 5,
    "start_time": "2023-03-18T13:42:42.162Z"
   },
   {
    "duration": 15,
    "start_time": "2023-03-18T13:42:42.181Z"
   },
   {
    "duration": 48,
    "start_time": "2023-03-18T13:42:42.198Z"
   },
   {
    "duration": 32,
    "start_time": "2023-03-18T13:42:42.248Z"
   },
   {
    "duration": 38,
    "start_time": "2023-03-18T13:42:42.282Z"
   },
   {
    "duration": 340,
    "start_time": "2023-03-18T13:42:42.322Z"
   },
   {
    "duration": 188,
    "start_time": "2023-03-18T13:42:42.664Z"
   },
   {
    "duration": 226,
    "start_time": "2023-03-18T13:42:42.855Z"
   },
   {
    "duration": 211,
    "start_time": "2023-03-18T13:42:43.084Z"
   },
   {
    "duration": 299,
    "start_time": "2023-03-18T13:42:43.298Z"
   },
   {
    "duration": 2,
    "start_time": "2023-03-18T13:42:43.599Z"
   },
   {
    "duration": 174,
    "start_time": "2023-03-18T13:42:43.603Z"
   },
   {
    "duration": 16,
    "start_time": "2023-03-18T13:42:43.780Z"
   },
   {
    "duration": 183,
    "start_time": "2023-03-18T13:42:43.798Z"
   },
   {
    "duration": 183,
    "start_time": "2023-03-18T13:42:43.985Z"
   },
   {
    "duration": 194,
    "start_time": "2023-03-18T13:42:44.170Z"
   },
   {
    "duration": 152,
    "start_time": "2023-03-18T13:42:44.366Z"
   },
   {
    "duration": 151,
    "start_time": "2023-03-18T13:42:44.520Z"
   },
   {
    "duration": 200,
    "start_time": "2023-03-18T13:42:44.672Z"
   },
   {
    "duration": 188,
    "start_time": "2023-03-18T13:42:44.877Z"
   },
   {
    "duration": 3,
    "start_time": "2023-03-18T13:42:45.067Z"
   },
   {
    "duration": 204,
    "start_time": "2023-03-18T13:42:45.077Z"
   },
   {
    "duration": 172,
    "start_time": "2023-03-18T13:42:45.284Z"
   },
   {
    "duration": 179,
    "start_time": "2023-03-18T13:42:45.458Z"
   },
   {
    "duration": 12,
    "start_time": "2023-03-18T13:42:45.640Z"
   },
   {
    "duration": 58,
    "start_time": "2023-03-18T13:42:45.655Z"
   },
   {
    "duration": 262,
    "start_time": "2023-03-18T13:42:45.715Z"
   },
   {
    "duration": 616,
    "start_time": "2023-03-18T13:42:45.979Z"
   },
   {
    "duration": 191,
    "start_time": "2023-03-18T13:42:46.597Z"
   },
   {
    "duration": 7,
    "start_time": "2023-03-18T13:42:46.790Z"
   },
   {
    "duration": 52,
    "start_time": "2023-03-18T13:42:46.800Z"
   },
   {
    "duration": 245,
    "start_time": "2023-03-18T13:42:46.854Z"
   },
   {
    "duration": 5,
    "start_time": "2023-03-18T13:42:47.102Z"
   },
   {
    "duration": 36,
    "start_time": "2023-03-18T13:42:47.109Z"
   },
   {
    "duration": 55,
    "start_time": "2023-03-18T13:42:47.147Z"
   },
   {
    "duration": 34,
    "start_time": "2023-03-18T13:42:47.204Z"
   },
   {
    "duration": 247,
    "start_time": "2023-03-18T13:42:47.240Z"
   },
   {
    "duration": 42,
    "start_time": "2023-03-18T13:42:47.490Z"
   },
   {
    "duration": 236,
    "start_time": "2023-03-18T13:42:47.535Z"
   },
   {
    "duration": 211,
    "start_time": "2023-03-18T13:42:47.772Z"
   },
   {
    "duration": 168,
    "start_time": "2023-03-18T13:42:47.994Z"
   },
   {
    "duration": 19,
    "start_time": "2023-03-18T13:42:48.164Z"
   },
   {
    "duration": 71,
    "start_time": "2023-03-18T13:42:48.186Z"
   },
   {
    "duration": 67,
    "start_time": "2023-03-18T13:42:48.258Z"
   },
   {
    "duration": 0,
    "start_time": "2023-03-18T13:42:48.327Z"
   },
   {
    "duration": 13,
    "start_time": "2023-03-18T13:52:56.281Z"
   },
   {
    "duration": 76,
    "start_time": "2023-03-18T13:53:13.699Z"
   },
   {
    "duration": 18,
    "start_time": "2023-03-18T13:53:52.889Z"
   },
   {
    "duration": 15,
    "start_time": "2023-03-18T13:53:56.337Z"
   },
   {
    "duration": 27,
    "start_time": "2023-03-18T13:54:08.630Z"
   },
   {
    "duration": 16,
    "start_time": "2023-03-18T13:54:21.161Z"
   },
   {
    "duration": 13,
    "start_time": "2023-03-18T13:54:31.559Z"
   },
   {
    "duration": 80,
    "start_time": "2023-03-18T13:58:16.864Z"
   },
   {
    "duration": 81,
    "start_time": "2023-03-18T13:58:34.592Z"
   },
   {
    "duration": 92,
    "start_time": "2023-03-18T13:58:42.109Z"
   },
   {
    "duration": 74,
    "start_time": "2023-03-18T13:59:47.398Z"
   },
   {
    "duration": 128,
    "start_time": "2023-03-18T14:00:02.286Z"
   },
   {
    "duration": 97,
    "start_time": "2023-03-18T14:00:21.754Z"
   },
   {
    "duration": 90,
    "start_time": "2023-03-18T14:00:32.224Z"
   },
   {
    "duration": 89,
    "start_time": "2023-03-18T14:00:41.207Z"
   },
   {
    "duration": 121,
    "start_time": "2023-03-18T14:01:12.832Z"
   },
   {
    "duration": 95,
    "start_time": "2023-03-18T14:01:24.546Z"
   },
   {
    "duration": 77,
    "start_time": "2023-03-18T14:01:44.394Z"
   },
   {
    "duration": 86,
    "start_time": "2023-03-18T14:01:52.918Z"
   },
   {
    "duration": 664,
    "start_time": "2023-03-19T05:40:11.489Z"
   },
   {
    "duration": 16,
    "start_time": "2023-03-19T05:40:19.389Z"
   },
   {
    "duration": 2465,
    "start_time": "2023-03-19T05:40:26.850Z"
   },
   {
    "duration": 29,
    "start_time": "2023-03-19T05:40:42.197Z"
   },
   {
    "duration": 24,
    "start_time": "2023-03-19T05:40:51.069Z"
   },
   {
    "duration": 24,
    "start_time": "2023-03-19T05:42:31.109Z"
   },
   {
    "duration": 23,
    "start_time": "2023-03-19T05:42:56.370Z"
   },
   {
    "duration": 25,
    "start_time": "2023-03-19T05:43:01.457Z"
   },
   {
    "duration": 24,
    "start_time": "2023-03-19T05:43:11.918Z"
   },
   {
    "duration": 4,
    "start_time": "2023-03-19T05:45:32.471Z"
   },
   {
    "duration": 77,
    "start_time": "2023-03-19T05:45:44.069Z"
   },
   {
    "duration": 8,
    "start_time": "2023-03-19T05:49:30.829Z"
   },
   {
    "duration": 7,
    "start_time": "2023-03-19T05:49:53.769Z"
   },
   {
    "duration": 47,
    "start_time": "2023-03-19T05:50:10.770Z"
   },
   {
    "duration": 65,
    "start_time": "2023-03-19T05:51:02.209Z"
   },
   {
    "duration": 81,
    "start_time": "2023-03-19T05:52:19.437Z"
   },
   {
    "duration": 27,
    "start_time": "2023-03-19T05:53:24.073Z"
   },
   {
    "duration": 3,
    "start_time": "2023-03-19T05:53:53.018Z"
   },
   {
    "duration": 7,
    "start_time": "2023-03-19T05:53:59.790Z"
   },
   {
    "duration": 5,
    "start_time": "2023-03-19T05:54:11.286Z"
   },
   {
    "duration": 87,
    "start_time": "2023-03-19T05:54:22.930Z"
   },
   {
    "duration": 5,
    "start_time": "2023-03-19T05:54:27.658Z"
   },
   {
    "duration": 6,
    "start_time": "2023-03-19T05:54:31.130Z"
   },
   {
    "duration": 6,
    "start_time": "2023-03-19T05:54:36.989Z"
   },
   {
    "duration": 5,
    "start_time": "2023-03-19T05:54:40.809Z"
   },
   {
    "duration": 11,
    "start_time": "2023-03-19T05:54:45.232Z"
   },
   {
    "duration": 6,
    "start_time": "2023-03-19T05:55:02.957Z"
   },
   {
    "duration": 74,
    "start_time": "2023-03-19T05:59:34.637Z"
   },
   {
    "duration": 94,
    "start_time": "2023-03-19T05:59:46.750Z"
   },
   {
    "duration": 5,
    "start_time": "2023-03-19T06:00:27.930Z"
   },
   {
    "duration": 5,
    "start_time": "2023-03-19T06:00:33.389Z"
   },
   {
    "duration": 5,
    "start_time": "2023-03-19T06:00:38.770Z"
   },
   {
    "duration": 9,
    "start_time": "2023-03-19T06:01:20.290Z"
   },
   {
    "duration": 6,
    "start_time": "2023-03-19T06:01:24.329Z"
   },
   {
    "duration": 5,
    "start_time": "2023-03-19T06:01:27.230Z"
   },
   {
    "duration": 7,
    "start_time": "2023-03-19T06:01:37.539Z"
   },
   {
    "duration": 6,
    "start_time": "2023-03-19T06:01:41.670Z"
   },
   {
    "duration": 5,
    "start_time": "2023-03-19T06:01:45.610Z"
   },
   {
    "duration": 6,
    "start_time": "2023-03-19T06:01:51.950Z"
   },
   {
    "duration": 7,
    "start_time": "2023-03-19T06:02:11.151Z"
   },
   {
    "duration": 7,
    "start_time": "2023-03-19T06:02:14.397Z"
   },
   {
    "duration": 6,
    "start_time": "2023-03-19T06:02:17.258Z"
   },
   {
    "duration": 8,
    "start_time": "2023-03-19T06:02:20.929Z"
   },
   {
    "duration": 9,
    "start_time": "2023-03-19T06:02:24.676Z"
   },
   {
    "duration": 8,
    "start_time": "2023-03-19T06:02:28.289Z"
   },
   {
    "duration": 7,
    "start_time": "2023-03-19T06:02:33.789Z"
   },
   {
    "duration": 9,
    "start_time": "2023-03-19T06:02:40.568Z"
   },
   {
    "duration": 7,
    "start_time": "2023-03-19T06:02:43.879Z"
   },
   {
    "duration": 2,
    "start_time": "2023-03-19T06:05:51.750Z"
   },
   {
    "duration": 5,
    "start_time": "2023-03-19T06:06:42.578Z"
   },
   {
    "duration": 85,
    "start_time": "2023-03-19T06:09:09.312Z"
   },
   {
    "duration": 32,
    "start_time": "2023-03-19T06:09:42.612Z"
   },
   {
    "duration": 3,
    "start_time": "2023-03-19T06:10:21.854Z"
   },
   {
    "duration": 4,
    "start_time": "2023-03-19T06:10:28.657Z"
   },
   {
    "duration": 5,
    "start_time": "2023-03-19T06:10:32.669Z"
   },
   {
    "duration": 6,
    "start_time": "2023-03-19T06:10:37.941Z"
   },
   {
    "duration": 6,
    "start_time": "2023-03-19T06:10:41.882Z"
   },
   {
    "duration": 6,
    "start_time": "2023-03-19T06:10:47.829Z"
   },
   {
    "duration": 16,
    "start_time": "2023-03-19T06:10:53.889Z"
   },
   {
    "duration": 19,
    "start_time": "2023-03-19T06:11:10.868Z"
   },
   {
    "duration": 17,
    "start_time": "2023-03-19T06:12:08.770Z"
   },
   {
    "duration": 16,
    "start_time": "2023-03-19T06:12:31.269Z"
   },
   {
    "duration": 14,
    "start_time": "2023-03-19T06:17:16.070Z"
   },
   {
    "duration": 15,
    "start_time": "2023-03-19T06:17:29.632Z"
   },
   {
    "duration": 6,
    "start_time": "2023-03-19T06:18:36.731Z"
   },
   {
    "duration": 15,
    "start_time": "2023-03-19T06:18:42.669Z"
   },
   {
    "duration": 8,
    "start_time": "2023-03-19T06:18:49.558Z"
   },
   {
    "duration": 82,
    "start_time": "2023-03-19T06:20:51.929Z"
   },
   {
    "duration": 18,
    "start_time": "2023-03-19T06:21:21.437Z"
   },
   {
    "duration": 8,
    "start_time": "2023-03-19T06:21:30.149Z"
   },
   {
    "duration": 29,
    "start_time": "2023-03-19T06:21:35.508Z"
   },
   {
    "duration": 9,
    "start_time": "2023-03-19T06:21:42.769Z"
   },
   {
    "duration": 50,
    "start_time": "2023-03-19T06:21:46.769Z"
   },
   {
    "duration": 74,
    "start_time": "2023-03-19T06:33:42.252Z"
   },
   {
    "duration": 5,
    "start_time": "2023-03-19T06:44:15.820Z"
   },
   {
    "duration": 30,
    "start_time": "2023-03-19T06:44:20.661Z"
   },
   {
    "duration": 5,
    "start_time": "2023-03-19T06:46:06.932Z"
   },
   {
    "duration": 3,
    "start_time": "2023-03-19T06:50:20.344Z"
   },
   {
    "duration": 19,
    "start_time": "2023-03-19T06:50:39.775Z"
   },
   {
    "duration": 18,
    "start_time": "2023-03-19T06:50:54.796Z"
   },
   {
    "duration": 12,
    "start_time": "2023-03-19T07:07:14.976Z"
   },
   {
    "duration": 11,
    "start_time": "2023-03-19T07:14:14.617Z"
   },
   {
    "duration": 4,
    "start_time": "2023-03-19T07:15:22.027Z"
   },
   {
    "duration": 11,
    "start_time": "2023-03-19T07:15:26.384Z"
   },
   {
    "duration": 21,
    "start_time": "2023-03-19T07:15:42.547Z"
   },
   {
    "duration": 15,
    "start_time": "2023-03-19T07:16:00.163Z"
   },
   {
    "duration": 7,
    "start_time": "2023-03-19T07:16:07.348Z"
   },
   {
    "duration": 16,
    "start_time": "2023-03-19T07:16:19.652Z"
   },
   {
    "duration": 1157,
    "start_time": "2023-03-19T07:16:29.386Z"
   },
   {
    "duration": 1427,
    "start_time": "2023-03-19T07:17:21.771Z"
   },
   {
    "duration": 1197,
    "start_time": "2023-03-19T07:18:23.282Z"
   },
   {
    "duration": 1225,
    "start_time": "2023-03-19T07:20:28.592Z"
   },
   {
    "duration": 246,
    "start_time": "2023-03-19T07:20:47.052Z"
   },
   {
    "duration": 18,
    "start_time": "2023-03-19T07:20:47.301Z"
   },
   {
    "duration": 2388,
    "start_time": "2023-03-19T07:20:47.320Z"
   },
   {
    "duration": 41,
    "start_time": "2023-03-19T07:20:49.711Z"
   },
   {
    "duration": 15,
    "start_time": "2023-03-19T07:20:49.777Z"
   },
   {
    "duration": 13,
    "start_time": "2023-03-19T07:20:49.794Z"
   },
   {
    "duration": 13,
    "start_time": "2023-03-19T07:20:49.809Z"
   },
   {
    "duration": 9,
    "start_time": "2023-03-19T07:20:49.824Z"
   },
   {
    "duration": 49,
    "start_time": "2023-03-19T07:20:49.836Z"
   },
   {
    "duration": 17,
    "start_time": "2023-03-19T07:20:49.891Z"
   },
   {
    "duration": 86,
    "start_time": "2023-03-19T07:20:49.909Z"
   },
   {
    "duration": 6,
    "start_time": "2023-03-19T07:20:49.998Z"
   },
   {
    "duration": 16,
    "start_time": "2023-03-19T07:20:50.006Z"
   },
   {
    "duration": 16,
    "start_time": "2023-03-19T07:20:50.024Z"
   },
   {
    "duration": 26,
    "start_time": "2023-03-19T07:20:50.042Z"
   },
   {
    "duration": 31,
    "start_time": "2023-03-19T07:20:50.080Z"
   },
   {
    "duration": 21,
    "start_time": "2023-03-19T07:20:50.114Z"
   },
   {
    "duration": 9,
    "start_time": "2023-03-19T07:20:50.137Z"
   },
   {
    "duration": 12,
    "start_time": "2023-03-19T07:20:50.148Z"
   },
   {
    "duration": 10,
    "start_time": "2023-03-19T07:20:50.162Z"
   },
   {
    "duration": 25,
    "start_time": "2023-03-19T07:20:50.173Z"
   },
   {
    "duration": 10,
    "start_time": "2023-03-19T07:20:50.200Z"
   },
   {
    "duration": 12,
    "start_time": "2023-03-19T07:20:50.212Z"
   },
   {
    "duration": 32,
    "start_time": "2023-03-19T07:20:50.226Z"
   },
   {
    "duration": 21,
    "start_time": "2023-03-19T07:20:50.259Z"
   },
   {
    "duration": 31,
    "start_time": "2023-03-19T07:20:50.282Z"
   },
   {
    "duration": 18,
    "start_time": "2023-03-19T07:20:50.316Z"
   },
   {
    "duration": 12,
    "start_time": "2023-03-19T07:20:50.339Z"
   },
   {
    "duration": 26,
    "start_time": "2023-03-19T07:20:50.354Z"
   },
   {
    "duration": 41,
    "start_time": "2023-03-19T07:20:50.383Z"
   },
   {
    "duration": 27,
    "start_time": "2023-03-19T07:20:50.426Z"
   },
   {
    "duration": 11,
    "start_time": "2023-03-19T07:20:50.456Z"
   },
   {
    "duration": 28,
    "start_time": "2023-03-19T07:20:50.469Z"
   },
   {
    "duration": 19,
    "start_time": "2023-03-19T07:20:50.499Z"
   },
   {
    "duration": 46,
    "start_time": "2023-03-19T07:20:50.521Z"
   },
   {
    "duration": 44,
    "start_time": "2023-03-19T07:20:50.569Z"
   },
   {
    "duration": 58,
    "start_time": "2023-03-19T07:20:50.615Z"
   },
   {
    "duration": 6,
    "start_time": "2023-03-19T07:20:50.675Z"
   },
   {
    "duration": 42,
    "start_time": "2023-03-19T07:20:50.683Z"
   },
   {
    "duration": 517,
    "start_time": "2023-03-19T07:20:50.727Z"
   },
   {
    "duration": 8,
    "start_time": "2023-03-19T07:20:51.246Z"
   },
   {
    "duration": 0,
    "start_time": "2023-03-19T07:20:51.256Z"
   },
   {
    "duration": 0,
    "start_time": "2023-03-19T07:20:51.257Z"
   },
   {
    "duration": 0,
    "start_time": "2023-03-19T07:20:51.259Z"
   },
   {
    "duration": 0,
    "start_time": "2023-03-19T07:20:51.261Z"
   },
   {
    "duration": 1,
    "start_time": "2023-03-19T07:20:51.277Z"
   },
   {
    "duration": 0,
    "start_time": "2023-03-19T07:20:51.280Z"
   },
   {
    "duration": 0,
    "start_time": "2023-03-19T07:20:51.281Z"
   },
   {
    "duration": 0,
    "start_time": "2023-03-19T07:20:51.283Z"
   },
   {
    "duration": 0,
    "start_time": "2023-03-19T07:20:51.284Z"
   },
   {
    "duration": 0,
    "start_time": "2023-03-19T07:20:51.287Z"
   },
   {
    "duration": 0,
    "start_time": "2023-03-19T07:20:51.288Z"
   },
   {
    "duration": 0,
    "start_time": "2023-03-19T07:20:51.289Z"
   },
   {
    "duration": 0,
    "start_time": "2023-03-19T07:20:51.291Z"
   },
   {
    "duration": 0,
    "start_time": "2023-03-19T07:20:51.293Z"
   },
   {
    "duration": 0,
    "start_time": "2023-03-19T07:20:51.295Z"
   },
   {
    "duration": 0,
    "start_time": "2023-03-19T07:20:51.297Z"
   },
   {
    "duration": 0,
    "start_time": "2023-03-19T07:20:51.298Z"
   },
   {
    "duration": 0,
    "start_time": "2023-03-19T07:20:51.300Z"
   },
   {
    "duration": 0,
    "start_time": "2023-03-19T07:20:51.302Z"
   },
   {
    "duration": 0,
    "start_time": "2023-03-19T07:20:51.304Z"
   },
   {
    "duration": 0,
    "start_time": "2023-03-19T07:20:51.305Z"
   },
   {
    "duration": 0,
    "start_time": "2023-03-19T07:20:51.307Z"
   },
   {
    "duration": 0,
    "start_time": "2023-03-19T07:20:51.308Z"
   },
   {
    "duration": 0,
    "start_time": "2023-03-19T07:20:51.310Z"
   },
   {
    "duration": 0,
    "start_time": "2023-03-19T07:20:51.312Z"
   },
   {
    "duration": 0,
    "start_time": "2023-03-19T07:20:51.314Z"
   },
   {
    "duration": 0,
    "start_time": "2023-03-19T07:20:51.316Z"
   },
   {
    "duration": 0,
    "start_time": "2023-03-19T07:20:51.318Z"
   },
   {
    "duration": 0,
    "start_time": "2023-03-19T07:20:51.378Z"
   },
   {
    "duration": 0,
    "start_time": "2023-03-19T07:20:51.379Z"
   },
   {
    "duration": 0,
    "start_time": "2023-03-19T07:20:51.382Z"
   },
   {
    "duration": 0,
    "start_time": "2023-03-19T07:20:51.383Z"
   },
   {
    "duration": 0,
    "start_time": "2023-03-19T07:20:51.385Z"
   },
   {
    "duration": 0,
    "start_time": "2023-03-19T07:20:51.386Z"
   },
   {
    "duration": 0,
    "start_time": "2023-03-19T07:20:51.388Z"
   },
   {
    "duration": 0,
    "start_time": "2023-03-19T07:20:51.390Z"
   },
   {
    "duration": 0,
    "start_time": "2023-03-19T07:20:51.391Z"
   },
   {
    "duration": 0,
    "start_time": "2023-03-19T07:20:51.393Z"
   },
   {
    "duration": 0,
    "start_time": "2023-03-19T07:20:51.395Z"
   },
   {
    "duration": 0,
    "start_time": "2023-03-19T07:20:51.397Z"
   },
   {
    "duration": 0,
    "start_time": "2023-03-19T07:20:51.398Z"
   },
   {
    "duration": 0,
    "start_time": "2023-03-19T07:20:51.400Z"
   },
   {
    "duration": 0,
    "start_time": "2023-03-19T07:20:51.402Z"
   },
   {
    "duration": 0,
    "start_time": "2023-03-19T07:20:51.403Z"
   },
   {
    "duration": 198,
    "start_time": "2023-03-19T07:21:10.923Z"
   },
   {
    "duration": 15,
    "start_time": "2023-03-19T07:21:19.051Z"
   },
   {
    "duration": 2368,
    "start_time": "2023-03-19T07:21:23.474Z"
   },
   {
    "duration": 27,
    "start_time": "2023-03-19T07:21:34.396Z"
   },
   {
    "duration": 17,
    "start_time": "2023-03-19T07:21:39.481Z"
   },
   {
    "duration": 89,
    "start_time": "2023-03-19T07:21:48.515Z"
   },
   {
    "duration": 8,
    "start_time": "2023-03-19T07:22:13.895Z"
   },
   {
    "duration": 8,
    "start_time": "2023-03-19T07:22:25.313Z"
   },
   {
    "duration": 8,
    "start_time": "2023-03-19T07:22:28.116Z"
   },
   {
    "duration": 11,
    "start_time": "2023-03-19T07:22:32.327Z"
   },
   {
    "duration": 9,
    "start_time": "2023-03-19T07:22:35.523Z"
   },
   {
    "duration": 10,
    "start_time": "2023-03-19T07:22:38.423Z"
   },
   {
    "duration": 7,
    "start_time": "2023-03-19T07:22:41.481Z"
   },
   {
    "duration": 8,
    "start_time": "2023-03-19T07:22:45.586Z"
   },
   {
    "duration": 9,
    "start_time": "2023-03-19T07:22:49.383Z"
   },
   {
    "duration": 4,
    "start_time": "2023-03-19T07:22:53.184Z"
   },
   {
    "duration": 12,
    "start_time": "2023-03-19T07:22:57.855Z"
   },
   {
    "duration": 9,
    "start_time": "2023-03-19T07:23:04.910Z"
   },
   {
    "duration": 16,
    "start_time": "2023-03-19T07:23:09.694Z"
   },
   {
    "duration": 12,
    "start_time": "2023-03-19T07:23:14.691Z"
   },
   {
    "duration": 152,
    "start_time": "2023-03-19T07:23:27.207Z"
   },
   {
    "duration": 11,
    "start_time": "2023-03-19T07:23:50.683Z"
   },
   {
    "duration": 70,
    "start_time": "2023-03-19T07:23:55.264Z"
   },
   {
    "duration": 6,
    "start_time": "2023-03-19T07:24:12.281Z"
   },
   {
    "duration": 24,
    "start_time": "2023-03-19T07:24:15.880Z"
   },
   {
    "duration": 346,
    "start_time": "2023-03-19T07:24:19.635Z"
   },
   {
    "duration": 9,
    "start_time": "2023-03-19T07:24:25.891Z"
   },
   {
    "duration": 9,
    "start_time": "2023-03-19T07:24:51.438Z"
   },
   {
    "duration": 8,
    "start_time": "2023-03-19T07:25:04.463Z"
   },
   {
    "duration": 9,
    "start_time": "2023-03-19T07:25:09.236Z"
   },
   {
    "duration": 224,
    "start_time": "2023-03-19T07:25:51.640Z"
   },
   {
    "duration": 8,
    "start_time": "2023-03-19T07:26:00.083Z"
   },
   {
    "duration": 6,
    "start_time": "2023-03-19T07:26:24.673Z"
   },
   {
    "duration": 8,
    "start_time": "2023-03-19T07:26:35.491Z"
   },
   {
    "duration": 9,
    "start_time": "2023-03-19T07:26:46.656Z"
   },
   {
    "duration": 4,
    "start_time": "2023-03-19T07:27:13.886Z"
   },
   {
    "duration": 7,
    "start_time": "2023-03-19T07:27:39.050Z"
   },
   {
    "duration": 8,
    "start_time": "2023-03-19T07:27:54.878Z"
   },
   {
    "duration": 7,
    "start_time": "2023-03-19T07:28:09.444Z"
   },
   {
    "duration": 3,
    "start_time": "2023-03-19T07:28:29.186Z"
   },
   {
    "duration": 7,
    "start_time": "2023-03-19T07:29:00.342Z"
   },
   {
    "duration": 3,
    "start_time": "2023-03-19T07:29:16.666Z"
   },
   {
    "duration": 5,
    "start_time": "2023-03-19T07:29:27.046Z"
   },
   {
    "duration": 78,
    "start_time": "2023-03-19T07:31:19.800Z"
   },
   {
    "duration": 10,
    "start_time": "2023-03-19T07:31:39.893Z"
   },
   {
    "duration": 52,
    "start_time": "2023-03-19T07:31:44.286Z"
   },
   {
    "duration": 18,
    "start_time": "2023-03-19T07:31:50.253Z"
   },
   {
    "duration": 20,
    "start_time": "2023-03-19T07:32:05.411Z"
   },
   {
    "duration": 51,
    "start_time": "2023-03-19T07:32:15.104Z"
   },
   {
    "duration": 198,
    "start_time": "2023-03-19T07:32:40.071Z"
   },
   {
    "duration": 159,
    "start_time": "2023-03-19T07:32:46.412Z"
   },
   {
    "duration": 195,
    "start_time": "2023-03-19T07:32:50.963Z"
   },
   {
    "duration": 194,
    "start_time": "2023-03-19T07:32:54.583Z"
   },
   {
    "duration": 219,
    "start_time": "2023-03-19T07:32:59.651Z"
   },
   {
    "duration": 158,
    "start_time": "2023-03-19T07:33:04.479Z"
   },
   {
    "duration": 20,
    "start_time": "2023-03-19T07:33:09.513Z"
   },
   {
    "duration": 188,
    "start_time": "2023-03-19T07:33:13.163Z"
   },
   {
    "duration": 282,
    "start_time": "2023-03-19T07:33:18.012Z"
   },
   {
    "duration": 167,
    "start_time": "2023-03-19T07:33:23.016Z"
   },
   {
    "duration": 139,
    "start_time": "2023-03-19T07:33:26.366Z"
   },
   {
    "duration": 126,
    "start_time": "2023-03-19T07:33:31.137Z"
   },
   {
    "duration": 176,
    "start_time": "2023-03-19T07:33:35.028Z"
   },
   {
    "duration": 151,
    "start_time": "2023-03-19T07:33:40.331Z"
   },
   {
    "duration": 165,
    "start_time": "2023-03-19T07:33:43.963Z"
   },
   {
    "duration": 163,
    "start_time": "2023-03-19T07:33:48.519Z"
   },
   {
    "duration": 144,
    "start_time": "2023-03-19T07:33:52.056Z"
   },
   {
    "duration": 25,
    "start_time": "2023-03-19T07:34:54.643Z"
   },
   {
    "duration": 9,
    "start_time": "2023-03-19T07:42:22.251Z"
   },
   {
    "duration": 11,
    "start_time": "2023-03-19T07:42:35.253Z"
   },
   {
    "duration": 9,
    "start_time": "2023-03-19T07:43:27.394Z"
   },
   {
    "duration": 61,
    "start_time": "2023-03-19T07:44:19.463Z"
   },
   {
    "duration": 48,
    "start_time": "2023-03-19T07:44:41.780Z"
   },
   {
    "duration": 55,
    "start_time": "2023-03-19T07:46:22.875Z"
   },
   {
    "duration": 47,
    "start_time": "2023-03-19T07:47:07.661Z"
   },
   {
    "duration": 60,
    "start_time": "2023-03-19T07:47:44.774Z"
   },
   {
    "duration": 43,
    "start_time": "2023-03-19T07:49:35.392Z"
   },
   {
    "duration": 79,
    "start_time": "2023-03-19T07:51:28.962Z"
   },
   {
    "duration": 103,
    "start_time": "2023-03-19T07:55:47.722Z"
   },
   {
    "duration": 91,
    "start_time": "2023-03-19T07:56:00.933Z"
   },
   {
    "duration": 85,
    "start_time": "2023-03-19T07:56:36.569Z"
   },
   {
    "duration": 17,
    "start_time": "2023-03-19T07:58:56.956Z"
   },
   {
    "duration": 17,
    "start_time": "2023-03-19T07:59:26.643Z"
   },
   {
    "duration": 64,
    "start_time": "2023-03-19T07:59:45.894Z"
   },
   {
    "duration": 40,
    "start_time": "2023-03-19T08:00:43.147Z"
   },
   {
    "duration": 3,
    "start_time": "2023-03-19T08:01:09.289Z"
   },
   {
    "duration": 56,
    "start_time": "2023-03-19T08:06:05.247Z"
   },
   {
    "duration": 64,
    "start_time": "2023-03-19T08:06:27.944Z"
   },
   {
    "duration": 170,
    "start_time": "2023-03-19T08:13:26.177Z"
   },
   {
    "duration": 186,
    "start_time": "2023-03-19T08:13:36.571Z"
   },
   {
    "duration": 143,
    "start_time": "2023-03-19T08:13:50.154Z"
   },
   {
    "duration": 18,
    "start_time": "2023-03-19T08:20:36.493Z"
   },
   {
    "duration": 26,
    "start_time": "2023-03-19T08:21:31.826Z"
   },
   {
    "duration": 28,
    "start_time": "2023-03-19T08:21:57.234Z"
   },
   {
    "duration": 3,
    "start_time": "2023-03-19T08:23:11.996Z"
   },
   {
    "duration": 82,
    "start_time": "2023-03-19T08:38:49.934Z"
   },
   {
    "duration": 89,
    "start_time": "2023-03-19T08:44:37.102Z"
   },
   {
    "duration": 233,
    "start_time": "2023-03-19T08:45:50.634Z"
   },
   {
    "duration": 165,
    "start_time": "2023-03-19T08:46:05.653Z"
   },
   {
    "duration": 225,
    "start_time": "2023-03-19T08:46:17.968Z"
   },
   {
    "duration": 14,
    "start_time": "2023-03-19T08:53:03.452Z"
   },
   {
    "duration": 9,
    "start_time": "2023-03-19T08:53:06.892Z"
   },
   {
    "duration": 229,
    "start_time": "2023-03-19T08:53:12.059Z"
   },
   {
    "duration": 703,
    "start_time": "2023-03-19T08:53:29.347Z"
   },
   {
    "duration": 165,
    "start_time": "2023-03-19T08:53:38.134Z"
   },
   {
    "duration": 6,
    "start_time": "2023-03-19T08:53:44.453Z"
   },
   {
    "duration": 14,
    "start_time": "2023-03-19T08:53:48.803Z"
   },
   {
    "duration": 169,
    "start_time": "2023-03-19T08:53:58.182Z"
   },
   {
    "duration": 9,
    "start_time": "2023-03-19T08:54:08.388Z"
   },
   {
    "duration": 15,
    "start_time": "2023-03-19T08:54:14.421Z"
   },
   {
    "duration": 14,
    "start_time": "2023-03-19T08:54:18.162Z"
   },
   {
    "duration": 15,
    "start_time": "2023-03-19T08:54:26.414Z"
   },
   {
    "duration": 166,
    "start_time": "2023-03-19T08:54:42.642Z"
   },
   {
    "duration": 204,
    "start_time": "2023-03-19T08:55:41.153Z"
   },
   {
    "duration": 203,
    "start_time": "2023-03-19T08:56:46.634Z"
   },
   {
    "duration": 15,
    "start_time": "2023-03-19T09:00:12.201Z"
   },
   {
    "duration": 8,
    "start_time": "2023-03-19T09:00:15.290Z"
   },
   {
    "duration": 165,
    "start_time": "2023-03-19T09:03:11.188Z"
   },
   {
    "duration": 157,
    "start_time": "2023-03-19T09:03:53.803Z"
   },
   {
    "duration": 188,
    "start_time": "2023-03-19T09:05:56.914Z"
   },
   {
    "duration": 232,
    "start_time": "2023-03-19T09:06:59.473Z"
   },
   {
    "duration": 168,
    "start_time": "2023-03-19T09:07:40.895Z"
   },
   {
    "duration": 386,
    "start_time": "2023-03-19T09:10:03.650Z"
   },
   {
    "duration": 39,
    "start_time": "2023-03-19T09:10:26.413Z"
   },
   {
    "duration": 353,
    "start_time": "2023-03-19T09:10:45.853Z"
   },
   {
    "duration": 138,
    "start_time": "2023-03-19T09:15:05.201Z"
   },
   {
    "duration": 163,
    "start_time": "2023-03-19T09:15:23.200Z"
   },
   {
    "duration": 173,
    "start_time": "2023-03-19T09:15:27.860Z"
   },
   {
    "duration": 1343,
    "start_time": "2023-03-19T09:15:49.260Z"
   },
   {
    "duration": 11,
    "start_time": "2023-03-19T09:16:01.520Z"
   },
   {
    "duration": 1519,
    "start_time": "2023-03-19T09:16:12.657Z"
   },
   {
    "duration": 38,
    "start_time": "2023-03-19T09:16:22.292Z"
   },
   {
    "duration": 96,
    "start_time": "2023-03-19T09:19:04.409Z"
   },
   {
    "duration": 48,
    "start_time": "2023-03-19T09:53:00.527Z"
   },
   {
    "duration": 31,
    "start_time": "2023-03-19T09:53:07.858Z"
   },
   {
    "duration": 51,
    "start_time": "2023-03-19T09:54:33.467Z"
   },
   {
    "duration": 162,
    "start_time": "2023-03-19T09:54:39.002Z"
   },
   {
    "duration": 81,
    "start_time": "2023-03-19T10:00:20.493Z"
   },
   {
    "duration": 75,
    "start_time": "2023-03-19T10:01:51.165Z"
   },
   {
    "duration": 2,
    "start_time": "2023-03-19T10:11:15.494Z"
   },
   {
    "duration": 27,
    "start_time": "2023-03-19T10:12:16.965Z"
   },
   {
    "duration": 11,
    "start_time": "2023-03-19T10:12:59.686Z"
   },
   {
    "duration": 33,
    "start_time": "2023-03-19T10:13:12.666Z"
   },
   {
    "duration": 15,
    "start_time": "2023-03-19T10:13:30.190Z"
   },
   {
    "duration": 16,
    "start_time": "2023-03-19T10:14:39.389Z"
   },
   {
    "duration": 18,
    "start_time": "2023-03-19T10:15:04.493Z"
   },
   {
    "duration": 29,
    "start_time": "2023-03-19T10:15:19.866Z"
   },
   {
    "duration": 29,
    "start_time": "2023-03-19T10:15:42.176Z"
   },
   {
    "duration": 21,
    "start_time": "2023-03-19T10:16:02.417Z"
   },
   {
    "duration": 51,
    "start_time": "2023-03-19T10:17:29.612Z"
   },
   {
    "duration": 15,
    "start_time": "2023-03-19T10:20:31.677Z"
   },
   {
    "duration": 12,
    "start_time": "2023-03-19T10:20:52.410Z"
   },
   {
    "duration": 12,
    "start_time": "2023-03-19T10:21:11.288Z"
   },
   {
    "duration": 14,
    "start_time": "2023-03-19T10:23:10.230Z"
   },
   {
    "duration": 27,
    "start_time": "2023-03-19T10:23:48.512Z"
   },
   {
    "duration": 27,
    "start_time": "2023-03-19T10:24:04.421Z"
   },
   {
    "duration": 13,
    "start_time": "2023-03-19T10:24:14.142Z"
   },
   {
    "duration": 13,
    "start_time": "2023-03-19T10:25:01.641Z"
   },
   {
    "duration": 28,
    "start_time": "2023-03-19T10:25:18.199Z"
   },
   {
    "duration": 17,
    "start_time": "2023-03-19T10:25:45.303Z"
   },
   {
    "duration": 38,
    "start_time": "2023-03-19T10:25:58.173Z"
   },
   {
    "duration": 22,
    "start_time": "2023-03-19T10:26:09.412Z"
   },
   {
    "duration": 23,
    "start_time": "2023-03-19T10:26:24.734Z"
   },
   {
    "duration": 5,
    "start_time": "2023-03-19T10:27:11.679Z"
   },
   {
    "duration": 90,
    "start_time": "2023-03-19T10:30:46.321Z"
   },
   {
    "duration": 32,
    "start_time": "2023-03-19T10:31:07.513Z"
   },
   {
    "duration": 190,
    "start_time": "2023-03-19T10:31:49.342Z"
   },
   {
    "duration": 104,
    "start_time": "2023-03-19T10:36:28.352Z"
   },
   {
    "duration": 1317,
    "start_time": "2023-03-19T10:45:44.591Z"
   },
   {
    "duration": 66,
    "start_time": "2023-03-19T11:08:10.090Z"
   },
   {
    "duration": 44,
    "start_time": "2023-03-19T11:08:23.269Z"
   },
   {
    "duration": 28,
    "start_time": "2023-03-19T11:09:17.458Z"
   },
   {
    "duration": 3215,
    "start_time": "2023-03-19T11:10:01.579Z"
   },
   {
    "duration": 274,
    "start_time": "2023-03-19T11:10:19.936Z"
   },
   {
    "duration": 15,
    "start_time": "2023-03-19T11:10:25.201Z"
   },
   {
    "duration": 2198,
    "start_time": "2023-03-19T11:10:29.270Z"
   },
   {
    "duration": 34,
    "start_time": "2023-03-19T11:10:36.207Z"
   },
   {
    "duration": 10,
    "start_time": "2023-03-19T11:10:41.418Z"
   },
   {
    "duration": 7,
    "start_time": "2023-03-19T11:10:49.070Z"
   },
   {
    "duration": 6,
    "start_time": "2023-03-19T11:10:55.850Z"
   },
   {
    "duration": 7,
    "start_time": "2023-03-19T11:10:58.570Z"
   },
   {
    "duration": 5,
    "start_time": "2023-03-19T11:11:01.465Z"
   },
   {
    "duration": 6,
    "start_time": "2023-03-19T11:11:04.438Z"
   },
   {
    "duration": 72,
    "start_time": "2023-03-19T11:11:08.650Z"
   },
   {
    "duration": 5,
    "start_time": "2023-03-19T11:11:15.210Z"
   },
   {
    "duration": 5,
    "start_time": "2023-03-19T11:11:19.358Z"
   },
   {
    "duration": 6,
    "start_time": "2023-03-19T11:11:23.310Z"
   },
   {
    "duration": 5,
    "start_time": "2023-03-19T11:11:27.090Z"
   },
   {
    "duration": 6,
    "start_time": "2023-03-19T11:11:30.071Z"
   },
   {
    "duration": 7,
    "start_time": "2023-03-19T11:11:35.719Z"
   },
   {
    "duration": 5,
    "start_time": "2023-03-19T11:11:38.959Z"
   },
   {
    "duration": 6,
    "start_time": "2023-03-19T11:11:41.830Z"
   },
   {
    "duration": 5,
    "start_time": "2023-03-19T11:11:45.151Z"
   },
   {
    "duration": 6,
    "start_time": "2023-03-19T11:11:50.530Z"
   },
   {
    "duration": 6,
    "start_time": "2023-03-19T11:11:53.818Z"
   },
   {
    "duration": 5,
    "start_time": "2023-03-19T11:11:56.710Z"
   },
   {
    "duration": 10,
    "start_time": "2023-03-19T11:11:59.490Z"
   },
   {
    "duration": 8,
    "start_time": "2023-03-19T11:12:02.379Z"
   },
   {
    "duration": 8,
    "start_time": "2023-03-19T11:12:06.938Z"
   },
   {
    "duration": 7,
    "start_time": "2023-03-19T11:12:10.558Z"
   },
   {
    "duration": 6,
    "start_time": "2023-03-19T11:12:17.410Z"
   },
   {
    "duration": 7,
    "start_time": "2023-03-19T11:12:20.936Z"
   },
   {
    "duration": 3,
    "start_time": "2023-03-19T11:12:25.839Z"
   },
   {
    "duration": 12,
    "start_time": "2023-03-19T11:12:35.750Z"
   },
   {
    "duration": 9,
    "start_time": "2023-03-19T11:12:59.107Z"
   },
   {
    "duration": 17,
    "start_time": "2023-03-19T11:13:02.770Z"
   },
   {
    "duration": 8,
    "start_time": "2023-03-19T11:13:07.578Z"
   },
   {
    "duration": 26,
    "start_time": "2023-03-19T11:13:12.250Z"
   },
   {
    "duration": 13,
    "start_time": "2023-03-19T11:13:15.868Z"
   },
   {
    "duration": 8,
    "start_time": "2023-03-19T11:13:57.625Z"
   },
   {
    "duration": 6,
    "start_time": "2023-03-19T11:14:08.450Z"
   },
   {
    "duration": 21,
    "start_time": "2023-03-19T11:14:14.299Z"
   },
   {
    "duration": 326,
    "start_time": "2023-03-19T11:14:17.566Z"
   },
   {
    "duration": 6,
    "start_time": "2023-03-19T11:14:22.058Z"
   },
   {
    "duration": 5,
    "start_time": "2023-03-19T11:14:25.738Z"
   },
   {
    "duration": 10,
    "start_time": "2023-03-19T11:14:30.491Z"
   },
   {
    "duration": 23,
    "start_time": "2023-03-19T11:14:39.587Z"
   },
   {
    "duration": 14,
    "start_time": "2023-03-19T11:14:47.507Z"
   },
   {
    "duration": 1300,
    "start_time": "2023-03-19T11:15:50.619Z"
   },
   {
    "duration": 5,
    "start_time": "2023-03-19T11:16:42.331Z"
   },
   {
    "duration": 1994,
    "start_time": "2023-03-19T11:17:34.873Z"
   },
   {
    "duration": 1254,
    "start_time": "2023-03-19T11:17:54.318Z"
   },
   {
    "duration": 565,
    "start_time": "2023-03-19T13:43:33.213Z"
   },
   {
    "duration": 17,
    "start_time": "2023-03-19T13:43:34.587Z"
   },
   {
    "duration": 2313,
    "start_time": "2023-03-19T13:43:35.046Z"
   },
   {
    "duration": 29,
    "start_time": "2023-03-19T13:43:37.361Z"
   },
   {
    "duration": 11,
    "start_time": "2023-03-19T13:43:37.700Z"
   },
   {
    "duration": 5,
    "start_time": "2023-03-19T13:43:38.180Z"
   },
   {
    "duration": 6,
    "start_time": "2023-03-19T13:43:38.607Z"
   },
   {
    "duration": 7,
    "start_time": "2023-03-19T13:43:39.046Z"
   },
   {
    "duration": 5,
    "start_time": "2023-03-19T13:43:39.466Z"
   },
   {
    "duration": 7,
    "start_time": "2023-03-19T13:43:39.880Z"
   },
   {
    "duration": 60,
    "start_time": "2023-03-19T13:43:40.511Z"
   },
   {
    "duration": 6,
    "start_time": "2023-03-19T13:43:41.167Z"
   },
   {
    "duration": 6,
    "start_time": "2023-03-19T13:43:41.821Z"
   },
   {
    "duration": 4,
    "start_time": "2023-03-19T13:43:42.281Z"
   },
   {
    "duration": 6,
    "start_time": "2023-03-19T13:43:42.917Z"
   },
   {
    "duration": 6,
    "start_time": "2023-03-19T13:43:43.309Z"
   },
   {
    "duration": 7,
    "start_time": "2023-03-19T13:43:43.942Z"
   },
   {
    "duration": 6,
    "start_time": "2023-03-19T13:43:44.591Z"
   },
   {
    "duration": 6,
    "start_time": "2023-03-19T13:43:45.055Z"
   },
   {
    "duration": 7,
    "start_time": "2023-03-19T13:43:45.489Z"
   },
   {
    "duration": 7,
    "start_time": "2023-03-19T13:43:46.868Z"
   },
   {
    "duration": 7,
    "start_time": "2023-03-19T13:43:47.307Z"
   },
   {
    "duration": 6,
    "start_time": "2023-03-19T13:43:47.751Z"
   },
   {
    "duration": 9,
    "start_time": "2023-03-19T13:43:48.187Z"
   },
   {
    "duration": 8,
    "start_time": "2023-03-19T13:43:48.625Z"
   },
   {
    "duration": 9,
    "start_time": "2023-03-19T13:43:49.084Z"
   },
   {
    "duration": 9,
    "start_time": "2023-03-19T13:43:49.536Z"
   },
   {
    "duration": 10,
    "start_time": "2023-03-19T13:43:49.989Z"
   },
   {
    "duration": 8,
    "start_time": "2023-03-19T13:43:50.461Z"
   },
   {
    "duration": 4,
    "start_time": "2023-03-19T13:43:51.207Z"
   },
   {
    "duration": 15,
    "start_time": "2023-03-19T13:43:52.164Z"
   },
   {
    "duration": 11,
    "start_time": "2023-03-19T13:43:54.140Z"
   },
   {
    "duration": 22,
    "start_time": "2023-03-19T13:43:58.531Z"
   },
   {
    "duration": 4,
    "start_time": "2023-03-19T13:43:59.456Z"
   },
   {
    "duration": 11,
    "start_time": "2023-03-19T13:44:00.809Z"
   },
   {
    "duration": 34,
    "start_time": "2023-03-19T13:44:03.212Z"
   },
   {
    "duration": 9,
    "start_time": "2023-03-19T13:44:07.543Z"
   },
   {
    "duration": 50,
    "start_time": "2023-03-19T13:44:08.168Z"
   },
   {
    "duration": 4,
    "start_time": "2023-03-19T13:46:05.856Z"
   },
   {
    "duration": 18,
    "start_time": "2023-03-19T13:46:06.200Z"
   },
   {
    "duration": 307,
    "start_time": "2023-03-19T13:46:06.564Z"
   },
   {
    "duration": 6,
    "start_time": "2023-03-19T13:46:06.931Z"
   },
   {
    "duration": 5,
    "start_time": "2023-03-19T13:46:07.109Z"
   },
   {
    "duration": 9,
    "start_time": "2023-03-19T13:46:08.420Z"
   },
   {
    "duration": 61,
    "start_time": "2023-03-19T13:46:08.995Z"
   },
   {
    "duration": 89,
    "start_time": "2023-03-19T13:46:09.186Z"
   },
   {
    "duration": 18,
    "start_time": "2023-03-19T13:46:39.786Z"
   },
   {
    "duration": 2,
    "start_time": "2023-03-19T13:46:47.337Z"
   },
   {
    "duration": 273,
    "start_time": "2023-03-19T13:46:47.691Z"
   },
   {
    "duration": 145,
    "start_time": "2023-03-19T13:46:50.691Z"
   },
   {
    "duration": 9,
    "start_time": "2023-03-19T13:47:31.755Z"
   },
   {
    "duration": 15,
    "start_time": "2023-03-19T13:47:47.006Z"
   },
   {
    "duration": 25,
    "start_time": "2023-03-19T13:47:54.283Z"
   },
   {
    "duration": 56,
    "start_time": "2023-03-19T14:17:34.495Z"
   },
   {
    "duration": 592,
    "start_time": "2023-03-19T14:25:51.108Z"
   },
   {
    "duration": 121,
    "start_time": "2023-03-19T14:26:18.732Z"
   },
   {
    "duration": 31,
    "start_time": "2023-03-19T14:27:10.641Z"
   },
   {
    "duration": 8,
    "start_time": "2023-03-19T14:27:38.357Z"
   },
   {
    "duration": 63,
    "start_time": "2023-03-19T14:28:38.370Z"
   },
   {
    "duration": 7,
    "start_time": "2023-03-19T14:29:22.898Z"
   },
   {
    "duration": 46,
    "start_time": "2023-03-19T14:30:16.745Z"
   },
   {
    "duration": 15,
    "start_time": "2023-03-19T14:30:24.924Z"
   },
   {
    "duration": 138,
    "start_time": "2023-03-19T14:37:15.729Z"
   },
   {
    "duration": 27,
    "start_time": "2023-03-19T14:37:26.127Z"
   },
   {
    "duration": 2700,
    "start_time": "2023-03-19T14:37:30.891Z"
   },
   {
    "duration": 29,
    "start_time": "2023-03-19T14:37:42.456Z"
   },
   {
    "duration": 9,
    "start_time": "2023-03-19T14:37:48.419Z"
   },
   {
    "duration": 7,
    "start_time": "2023-03-19T14:37:55.039Z"
   },
   {
    "duration": 6,
    "start_time": "2023-03-19T14:37:59.913Z"
   },
   {
    "duration": 7,
    "start_time": "2023-03-19T14:38:03.696Z"
   },
   {
    "duration": 4,
    "start_time": "2023-03-19T14:38:06.488Z"
   },
   {
    "duration": 6,
    "start_time": "2023-03-19T14:38:09.263Z"
   },
   {
    "duration": 70,
    "start_time": "2023-03-19T14:38:16.348Z"
   },
   {
    "duration": 7,
    "start_time": "2023-03-19T14:38:26.003Z"
   },
   {
    "duration": 6,
    "start_time": "2023-03-19T14:38:30.340Z"
   },
   {
    "duration": 6,
    "start_time": "2023-03-19T14:38:55.108Z"
   },
   {
    "duration": 14,
    "start_time": "2023-03-19T14:38:55.116Z"
   },
   {
    "duration": 5,
    "start_time": "2023-03-19T14:38:55.516Z"
   },
   {
    "duration": 7,
    "start_time": "2023-03-19T14:39:00.710Z"
   },
   {
    "duration": 5,
    "start_time": "2023-03-19T14:39:07.787Z"
   },
   {
    "duration": 5,
    "start_time": "2023-03-19T14:39:12.619Z"
   },
   {
    "duration": 6,
    "start_time": "2023-03-19T14:39:16.718Z"
   },
   {
    "duration": 6,
    "start_time": "2023-03-19T14:39:26.496Z"
   },
   {
    "duration": 5,
    "start_time": "2023-03-19T14:39:31.074Z"
   },
   {
    "duration": 6,
    "start_time": "2023-03-19T14:39:34.784Z"
   },
   {
    "duration": 10,
    "start_time": "2023-03-19T14:39:37.894Z"
   },
   {
    "duration": 8,
    "start_time": "2023-03-19T14:39:42.182Z"
   },
   {
    "duration": 8,
    "start_time": "2023-03-19T14:39:45.565Z"
   },
   {
    "duration": 7,
    "start_time": "2023-03-19T14:39:49.258Z"
   },
   {
    "duration": 8,
    "start_time": "2023-03-19T14:39:52.812Z"
   },
   {
    "duration": 9,
    "start_time": "2023-03-19T14:39:57.863Z"
   },
   {
    "duration": 4,
    "start_time": "2023-03-19T15:05:23.521Z"
   },
   {
    "duration": 10,
    "start_time": "2023-03-19T15:05:33.656Z"
   },
   {
    "duration": 11,
    "start_time": "2023-03-19T15:05:41.006Z"
   },
   {
    "duration": 19,
    "start_time": "2023-03-19T15:06:05.980Z"
   },
   {
    "duration": 5,
    "start_time": "2023-03-19T15:06:12.519Z"
   },
   {
    "duration": 10,
    "start_time": "2023-03-19T15:06:17.120Z"
   },
   {
    "duration": 32,
    "start_time": "2023-03-19T15:06:25.199Z"
   },
   {
    "duration": 13,
    "start_time": "2023-03-19T15:06:36.275Z"
   },
   {
    "duration": 53,
    "start_time": "2023-03-19T15:06:49.615Z"
   },
   {
    "duration": 5,
    "start_time": "2023-03-19T15:07:15.485Z"
   },
   {
    "duration": 19,
    "start_time": "2023-03-19T15:07:26.905Z"
   },
   {
    "duration": 390,
    "start_time": "2023-03-19T15:07:31.478Z"
   },
   {
    "duration": 6,
    "start_time": "2023-03-19T15:07:36.779Z"
   },
   {
    "duration": 5,
    "start_time": "2023-03-19T15:07:41.182Z"
   },
   {
    "duration": 10,
    "start_time": "2023-03-19T15:07:54.659Z"
   },
   {
    "duration": 43,
    "start_time": "2023-03-19T15:07:59.368Z"
   },
   {
    "duration": 48,
    "start_time": "2023-03-19T15:09:08.910Z"
   },
   {
    "duration": 4,
    "start_time": "2023-03-19T15:11:05.505Z"
   },
   {
    "duration": 25,
    "start_time": "2023-03-19T15:11:26.865Z"
   },
   {
    "duration": 225,
    "start_time": "2023-03-19T15:11:43.783Z"
   },
   {
    "duration": 148,
    "start_time": "2023-03-19T15:11:48.879Z"
   },
   {
    "duration": 251,
    "start_time": "2023-03-19T15:11:54.010Z"
   },
   {
    "duration": 174,
    "start_time": "2023-03-19T15:12:03.248Z"
   },
   {
    "duration": 208,
    "start_time": "2023-03-19T15:12:08.693Z"
   },
   {
    "duration": 145,
    "start_time": "2023-03-19T15:12:16.875Z"
   },
   {
    "duration": 13,
    "start_time": "2023-03-19T15:12:22.460Z"
   },
   {
    "duration": 151,
    "start_time": "2023-03-19T15:12:26.864Z"
   },
   {
    "duration": 143,
    "start_time": "2023-03-19T15:12:32.683Z"
   },
   {
    "duration": 151,
    "start_time": "2023-03-19T15:12:42.939Z"
   },
   {
    "duration": 228,
    "start_time": "2023-03-19T15:12:47.512Z"
   },
   {
    "duration": 126,
    "start_time": "2023-03-19T15:12:51.851Z"
   },
   {
    "duration": 125,
    "start_time": "2023-03-19T15:12:56.759Z"
   },
   {
    "duration": 150,
    "start_time": "2023-03-19T15:13:04.578Z"
   },
   {
    "duration": 175,
    "start_time": "2023-03-19T15:13:15.285Z"
   },
   {
    "duration": 158,
    "start_time": "2023-03-19T15:13:20.219Z"
   },
   {
    "duration": 143,
    "start_time": "2023-03-19T15:13:25.622Z"
   },
   {
    "duration": 75,
    "start_time": "2023-03-19T15:13:32.250Z"
   },
   {
    "duration": 22,
    "start_time": "2023-03-19T15:13:54.293Z"
   },
   {
    "duration": 10,
    "start_time": "2023-03-19T15:13:57.538Z"
   },
   {
    "duration": 230,
    "start_time": "2023-03-19T15:14:02.155Z"
   },
   {
    "duration": 20,
    "start_time": "2023-03-19T15:14:08.233Z"
   },
   {
    "duration": 645,
    "start_time": "2023-03-19T15:14:17.079Z"
   },
   {
    "duration": 179,
    "start_time": "2023-03-19T15:14:20.717Z"
   },
   {
    "duration": 6,
    "start_time": "2023-03-19T15:14:25.323Z"
   },
   {
    "duration": 149,
    "start_time": "2023-03-19T15:14:30.510Z"
   },
   {
    "duration": 9,
    "start_time": "2023-03-19T15:14:37.325Z"
   },
   {
    "duration": 169,
    "start_time": "2023-03-19T15:14:47.702Z"
   },
   {
    "duration": 154,
    "start_time": "2023-03-19T15:14:54.935Z"
   },
   {
    "duration": 372,
    "start_time": "2023-03-19T15:15:01.680Z"
   },
   {
    "duration": 200,
    "start_time": "2023-03-19T15:15:09.644Z"
   },
   {
    "duration": 58,
    "start_time": "2023-03-19T15:15:16.390Z"
   },
   {
    "duration": 162,
    "start_time": "2023-03-19T15:15:26.646Z"
   },
   {
    "duration": 179,
    "start_time": "2023-03-19T15:15:31.238Z"
   },
   {
    "duration": 175,
    "start_time": "2023-03-19T15:15:38.408Z"
   },
   {
    "duration": 794,
    "start_time": "2023-03-19T15:15:47.731Z"
   },
   {
    "duration": 10,
    "start_time": "2023-03-19T15:15:59.439Z"
   },
   {
    "duration": 767,
    "start_time": "2023-03-19T15:16:16.572Z"
   },
   {
    "duration": 22,
    "start_time": "2023-03-19T15:16:29.434Z"
   },
   {
    "duration": 6,
    "start_time": "2023-03-19T15:21:27.779Z"
   },
   {
    "duration": 4,
    "start_time": "2023-03-19T15:21:38.839Z"
   },
   {
    "duration": 6,
    "start_time": "2023-03-19T15:22:06.251Z"
   },
   {
    "duration": 75,
    "start_time": "2023-03-19T15:23:05.381Z"
   },
   {
    "duration": 48,
    "start_time": "2023-03-19T15:23:20.794Z"
   },
   {
    "duration": 5,
    "start_time": "2023-03-19T15:23:38.379Z"
   },
   {
    "duration": 3,
    "start_time": "2023-03-19T15:24:09.055Z"
   },
   {
    "duration": 6,
    "start_time": "2023-03-19T15:24:18.460Z"
   },
   {
    "duration": 5,
    "start_time": "2023-03-19T15:24:50.983Z"
   },
   {
    "duration": 22,
    "start_time": "2023-03-19T15:24:54.841Z"
   },
   {
    "duration": 443,
    "start_time": "2023-03-19T15:24:57.727Z"
   },
   {
    "duration": 7,
    "start_time": "2023-03-19T15:25:01.677Z"
   },
   {
    "duration": 5,
    "start_time": "2023-03-19T15:25:05.616Z"
   },
   {
    "duration": 9,
    "start_time": "2023-03-19T15:25:11.808Z"
   },
   {
    "duration": 5,
    "start_time": "2023-03-19T15:25:16.288Z"
   },
   {
    "duration": 16,
    "start_time": "2023-03-19T15:26:23.169Z"
   },
   {
    "duration": 19,
    "start_time": "2023-03-19T15:26:30.575Z"
   },
   {
    "duration": 185,
    "start_time": "2023-03-19T15:26:35.406Z"
   },
   {
    "duration": 190,
    "start_time": "2023-03-19T15:27:00.636Z"
   },
   {
    "duration": 166,
    "start_time": "2023-03-19T15:27:00.829Z"
   },
   {
    "duration": 193,
    "start_time": "2023-03-19T15:27:07.310Z"
   },
   {
    "duration": 189,
    "start_time": "2023-03-19T15:27:11.753Z"
   },
   {
    "duration": 223,
    "start_time": "2023-03-19T15:27:16.209Z"
   },
   {
    "duration": 153,
    "start_time": "2023-03-19T15:27:21.987Z"
   },
   {
    "duration": 12,
    "start_time": "2023-03-19T15:27:45.636Z"
   },
   {
    "duration": 177,
    "start_time": "2023-03-19T15:28:04.180Z"
   },
   {
    "duration": 180,
    "start_time": "2023-03-19T15:28:25.897Z"
   },
   {
    "duration": 147,
    "start_time": "2023-03-19T15:28:34.644Z"
   },
   {
    "duration": 119,
    "start_time": "2023-03-19T15:28:39.976Z"
   },
   {
    "duration": 128,
    "start_time": "2023-03-19T15:28:45.305Z"
   },
   {
    "duration": 117,
    "start_time": "2023-03-19T15:28:51.382Z"
   },
   {
    "duration": 131,
    "start_time": "2023-03-19T15:28:57.246Z"
   },
   {
    "duration": 168,
    "start_time": "2023-03-19T15:29:09.178Z"
   },
   {
    "duration": 290,
    "start_time": "2023-03-19T15:29:14.282Z"
   },
   {
    "duration": 131,
    "start_time": "2023-03-19T15:29:18.724Z"
   },
   {
    "duration": 43,
    "start_time": "2023-03-19T15:29:23.563Z"
   },
   {
    "duration": 11,
    "start_time": "2023-03-19T15:29:33.077Z"
   },
   {
    "duration": 8,
    "start_time": "2023-03-19T15:29:38.363Z"
   },
   {
    "duration": 190,
    "start_time": "2023-03-19T15:29:42.259Z"
   },
   {
    "duration": 3,
    "start_time": "2023-03-19T15:29:47.682Z"
   },
   {
    "duration": 151,
    "start_time": "2023-03-19T15:29:51.920Z"
   },
   {
    "duration": 5,
    "start_time": "2023-03-19T15:29:57.401Z"
   },
   {
    "duration": 143,
    "start_time": "2023-03-19T15:30:05.398Z"
   },
   {
    "duration": 9,
    "start_time": "2023-03-19T15:30:10.380Z"
   },
   {
    "duration": 182,
    "start_time": "2023-03-19T15:30:16.313Z"
   },
   {
    "duration": 148,
    "start_time": "2023-03-19T15:30:20.685Z"
   },
   {
    "duration": 324,
    "start_time": "2023-03-19T15:30:25.660Z"
   },
   {
    "duration": 180,
    "start_time": "2023-03-19T15:30:33.581Z"
   },
   {
    "duration": 48,
    "start_time": "2023-03-19T15:30:38.213Z"
   },
   {
    "duration": 163,
    "start_time": "2023-03-19T15:30:48.181Z"
   },
   {
    "duration": 153,
    "start_time": "2023-03-19T15:30:53.479Z"
   },
   {
    "duration": 177,
    "start_time": "2023-03-19T15:30:58.723Z"
   },
   {
    "duration": 696,
    "start_time": "2023-03-19T15:31:05.517Z"
   },
   {
    "duration": 8,
    "start_time": "2023-03-19T15:31:12.080Z"
   },
   {
    "duration": 45,
    "start_time": "2023-03-19T15:31:15.777Z"
   },
   {
    "duration": 21,
    "start_time": "2023-03-19T15:31:24.145Z"
   },
   {
    "duration": 27,
    "start_time": "2023-03-19T15:31:31.202Z"
   },
   {
    "duration": 46,
    "start_time": "2023-03-19T15:33:11.318Z"
   },
   {
    "duration": 4,
    "start_time": "2023-03-19T15:34:25.718Z"
   },
   {
    "duration": 7,
    "start_time": "2023-03-19T15:34:34.353Z"
   },
   {
    "duration": 25,
    "start_time": "2023-03-19T15:34:52.160Z"
   },
   {
    "duration": 18,
    "start_time": "2023-03-19T15:36:14.156Z"
   },
   {
    "duration": 11,
    "start_time": "2023-03-19T15:36:20.836Z"
   },
   {
    "duration": 25,
    "start_time": "2023-03-19T15:36:49.695Z"
   },
   {
    "duration": 18,
    "start_time": "2023-03-19T15:36:55.045Z"
   },
   {
    "duration": 24,
    "start_time": "2023-03-19T15:40:10.484Z"
   },
   {
    "duration": 22,
    "start_time": "2023-03-19T15:40:20.359Z"
   },
   {
    "duration": 28,
    "start_time": "2023-03-19T15:43:21.936Z"
   },
   {
    "duration": 26,
    "start_time": "2023-03-19T15:46:22.832Z"
   },
   {
    "duration": 29,
    "start_time": "2023-03-19T15:47:05.435Z"
   },
   {
    "duration": 22,
    "start_time": "2023-03-19T15:47:36.697Z"
   },
   {
    "duration": 104,
    "start_time": "2023-05-17T18:42:45.513Z"
   },
   {
    "duration": 948,
    "start_time": "2023-05-17T18:42:52.423Z"
   },
   {
    "duration": 26,
    "start_time": "2023-05-17T18:42:59.608Z"
   },
   {
    "duration": 3589,
    "start_time": "2023-05-17T18:43:02.816Z"
   }
  ],
  "kernelspec": {
   "display_name": "Python 3 (ipykernel)",
   "language": "python",
   "name": "python3"
  },
  "language_info": {
   "codemirror_mode": {
    "name": "ipython",
    "version": 3
   },
   "file_extension": ".py",
   "mimetype": "text/x-python",
   "name": "python",
   "nbconvert_exporter": "python",
   "pygments_lexer": "ipython3",
   "version": "3.9.5"
  },
  "toc": {
   "base_numbering": 1,
   "nav_menu": {},
   "number_sections": true,
   "sideBar": true,
   "skip_h1_title": true,
   "title_cell": "Table of Contents",
   "title_sidebar": "Contents",
   "toc_cell": false,
   "toc_position": {},
   "toc_section_display": true,
   "toc_window_display": false
  }
 },
 "nbformat": 4,
 "nbformat_minor": 2
}
